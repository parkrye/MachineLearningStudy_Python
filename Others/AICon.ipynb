{
  "nbformat": 4,
  "nbformat_minor": 0,
  "metadata": {
    "colab": {
      "provenance": [],
      "collapsed_sections": [],
      "mount_file_id": "1oX3_8y8Wzia2TnrPLssIVpLliI4G0p6P",
      "authorship_tag": "ABX9TyMoCqEvRXmdMUzjzxbViI7s",
      "include_colab_link": true
    },
    "kernelspec": {
      "name": "python3",
      "display_name": "Python 3"
    },
    "language_info": {
      "name": "python"
    },
    "accelerator": "GPU",
    "gpuClass": "standard"
  },
  "cells": [
    {
      "cell_type": "markdown",
      "metadata": {
        "id": "view-in-github",
        "colab_type": "text"
      },
      "source": [
        "<a href=\"https://colab.research.google.com/github/parkrye/Python/blob/main/Others/AICon.ipynb\" target=\"_parent\"><img src=\"https://colab.research.google.com/assets/colab-badge.svg\" alt=\"Open In Colab\"/></a>"
      ]
    },
    {
      "cell_type": "code",
      "source": [
        "!pip install catboost"
      ],
      "metadata": {
        "colab": {
          "base_uri": "https://localhost:8080/"
        },
        "id": "tyTqZHl5wufR",
        "outputId": "abb5f20e-6980-45a0-d37f-13ab129c9009"
      },
      "execution_count": null,
      "outputs": [
        {
          "output_type": "stream",
          "name": "stdout",
          "text": [
            "Looking in indexes: https://pypi.org/simple, https://us-python.pkg.dev/colab-wheels/public/simple/\n",
            "Requirement already satisfied: catboost in /usr/local/lib/python3.7/dist-packages (1.0.6)\n",
            "Requirement already satisfied: matplotlib in /usr/local/lib/python3.7/dist-packages (from catboost) (3.2.2)\n",
            "Requirement already satisfied: scipy in /usr/local/lib/python3.7/dist-packages (from catboost) (1.7.3)\n",
            "Requirement already satisfied: pandas>=0.24.0 in /usr/local/lib/python3.7/dist-packages (from catboost) (1.3.5)\n",
            "Requirement already satisfied: six in /usr/local/lib/python3.7/dist-packages (from catboost) (1.15.0)\n",
            "Requirement already satisfied: plotly in /usr/local/lib/python3.7/dist-packages (from catboost) (5.5.0)\n",
            "Requirement already satisfied: numpy>=1.16.0 in /usr/local/lib/python3.7/dist-packages (from catboost) (1.21.6)\n",
            "Requirement already satisfied: graphviz in /usr/local/lib/python3.7/dist-packages (from catboost) (0.10.1)\n",
            "Requirement already satisfied: pytz>=2017.3 in /usr/local/lib/python3.7/dist-packages (from pandas>=0.24.0->catboost) (2022.1)\n",
            "Requirement already satisfied: python-dateutil>=2.7.3 in /usr/local/lib/python3.7/dist-packages (from pandas>=0.24.0->catboost) (2.8.2)\n",
            "Requirement already satisfied: kiwisolver>=1.0.1 in /usr/local/lib/python3.7/dist-packages (from matplotlib->catboost) (1.4.4)\n",
            "Requirement already satisfied: cycler>=0.10 in /usr/local/lib/python3.7/dist-packages (from matplotlib->catboost) (0.11.0)\n",
            "Requirement already satisfied: pyparsing!=2.0.4,!=2.1.2,!=2.1.6,>=2.0.1 in /usr/local/lib/python3.7/dist-packages (from matplotlib->catboost) (3.0.9)\n",
            "Requirement already satisfied: typing-extensions in /usr/local/lib/python3.7/dist-packages (from kiwisolver>=1.0.1->matplotlib->catboost) (4.1.1)\n",
            "Requirement already satisfied: tenacity>=6.2.0 in /usr/local/lib/python3.7/dist-packages (from plotly->catboost) (8.0.1)\n"
          ]
        }
      ]
    },
    {
      "cell_type": "code",
      "source": [
        "!pip install xgboost"
      ],
      "metadata": {
        "colab": {
          "base_uri": "https://localhost:8080/"
        },
        "id": "xMIrxAH9LUcl",
        "outputId": "536f888a-bc09-4767-9a48-5b90d13297c6"
      },
      "execution_count": null,
      "outputs": [
        {
          "output_type": "stream",
          "name": "stdout",
          "text": [
            "Looking in indexes: https://pypi.org/simple, https://us-python.pkg.dev/colab-wheels/public/simple/\n",
            "Requirement already satisfied: xgboost in /usr/local/lib/python3.7/dist-packages (0.90)\n",
            "Requirement already satisfied: scipy in /usr/local/lib/python3.7/dist-packages (from xgboost) (1.7.3)\n",
            "Requirement already satisfied: numpy in /usr/local/lib/python3.7/dist-packages (from xgboost) (1.21.6)\n"
          ]
        }
      ]
    },
    {
      "cell_type": "markdown",
      "source": [
        "# 데이터 확인"
      ],
      "metadata": {
        "id": "09hci8hyZvAy"
      }
    },
    {
      "cell_type": "code",
      "execution_count": null,
      "metadata": {
        "id": "Zwq6lsSYHZYl",
        "colab": {
          "base_uri": "https://localhost:8080/"
        },
        "outputId": "05467e81-34ae-49b6-d607-0bfae5eb236e"
      },
      "outputs": [
        {
          "output_type": "display_data",
          "data": {
            "text/plain": [
              "<IPython.core.display.HTML object>"
            ],
            "text/html": [
              "<style>.container {width:90% !important;}</style>"
            ]
          },
          "metadata": {}
        }
      ],
      "source": [
        "import seaborn as sns\n",
        "import numpy as np\n",
        "import matplotlib.pyplot as plt\n",
        "import pandas as pd\n",
        "from sklearn import metrics \n",
        "from sklearn.impute import KNNImputer\n",
        "from lightgbm import LGBMClassifier\n",
        "from sklearn.preprocessing import MinMaxScaler\n",
        "from sklearn.preprocessing import StandardScaler\n",
        "from sklearn.ensemble import RandomForestRegressor\n",
        "from sklearn.linear_model import LinearRegression\n",
        "from sklearn.model_selection import train_test_split\n",
        "from keras.models import Sequential\n",
        "from keras.layers import Dense, LSTM\n",
        "from keras.callbacks import EarlyStopping, ModelCheckpoint\n",
        "from tensorflow import keras\n",
        "from IPython.core.display import display, HTML\n",
        "display(HTML(\"<style>.container {width:90% !important;}</style>\"))\n",
        "from sklearn.preprocessing import LabelEncoder\n",
        "import torch\n",
        "from catboost import CatBoostClassifier\n",
        "from sklearn.neighbors import KNeighborsClassifier\n",
        "from sklearn.linear_model import LogisticRegression\n",
        "from sklearn.tree import DecisionTreeClassifier\n",
        "from sklearn.ensemble import RandomForestClassifier\n",
        "from sklearn.ensemble import GradientBoostingClassifier\n",
        "from xgboost import XGBClassifier\n",
        "from sklearn.ensemble import ExtraTreesClassifier\n",
        "from sklearn.model_selection import StratifiedKFold, GridSearchCV\n",
        "import warnings\n",
        "warnings.filterwarnings('ignore')"
      ]
    },
    {
      "cell_type": "code",
      "source": [
        "train  = pd.read_csv('/content/drive/MyDrive/Colab_Notebooks/Dacon/004/train.csv')\n",
        "test  = pd.read_csv('/content/drive/MyDrive/Colab_Notebooks/Dacon/004/test.csv')"
      ],
      "metadata": {
        "id": "2QS2udRuH4b6"
      },
      "execution_count": null,
      "outputs": []
    },
    {
      "cell_type": "code",
      "source": [
        "#train.head()"
      ],
      "metadata": {
        "id": "GTiR2HkGH5bk"
      },
      "execution_count": null,
      "outputs": []
    },
    {
      "cell_type": "code",
      "source": [
        "#train.info()"
      ],
      "metadata": {
        "id": "84byfkh8H6W0"
      },
      "execution_count": null,
      "outputs": []
    },
    {
      "cell_type": "markdown",
      "source": [
        "# 데이터 전처리"
      ],
      "metadata": {
        "id": "9oS0Yd8gytpJ"
      }
    },
    {
      "cell_type": "code",
      "source": [
        "data = pd.read_csv('/content/drive/MyDrive/Colab_Notebooks/Dacon/004/train.csv')\n",
        "data = data.drop('index', axis=1) # id 제외하고 분석\n",
        "test = pd.read_csv('/content/drive/MyDrive/Colab_Notebooks/Dacon/004/test.csv')\n",
        "test = test.drop('index', axis=1) # id 제외하고 분석"
      ],
      "metadata": {
        "id": "uKRlzJGvy09e"
      },
      "execution_count": null,
      "outputs": []
    },
    {
      "cell_type": "code",
      "source": [
        "dict = {}\n",
        "count = 0\n",
        "for i in data.index:\n",
        "  if data.loc[i, 'country'] is None:\n",
        "    data.loc[i, 'country'] = 999\n",
        "  elif len(dict) == 0:\n",
        "    dict[data.loc[i, 'country']] = count\n",
        "    data.loc[i, 'country'] = dict[data.loc[i, 'country']]\n",
        "    count += 1\n",
        "  else:\n",
        "    if data.loc[i, 'country'] in dict:\n",
        "      data.loc[i, 'country'] = dict[data.loc[i, 'country']]\n",
        "    else:\n",
        "      dict[data.loc[i, 'country']] = count\n",
        "      data.loc[i, 'country'] = dict[data.loc[i, 'country']]\n",
        "      count += 1"
      ],
      "metadata": {
        "id": "9k7sSlZR-XpM"
      },
      "execution_count": null,
      "outputs": []
    },
    {
      "cell_type": "code",
      "source": [
        "for i in test.index:\n",
        "  if test.loc[i, 'country'] is None:\n",
        "    test.loc[i, 'country'] = 999\n",
        "  else:\n",
        "    if test.loc[i, 'country'] in dict:\n",
        "      test.loc[i, 'country'] = dict[test.loc[i, 'country']]\n",
        "    else:\n",
        "      dict[test.loc[i, 'country']] = count\n",
        "      test.loc[i, 'country'] = dict[test.loc[i, 'country']]\n",
        "      count += 1"
      ],
      "metadata": {
        "id": "zYKnNrEKNv_R"
      },
      "execution_count": null,
      "outputs": []
    },
    {
      "cell_type": "code",
      "source": [
        "data = data.fillna(data.mean())\n",
        "test = test.fillna(test.mean())"
      ],
      "metadata": {
        "id": "Niy5QKvADxtu"
      },
      "execution_count": null,
      "outputs": []
    },
    {
      "cell_type": "code",
      "source": [
        "#data.plot(kind='box', subplots=True, layout=(5, 14), figsize=(15, 21))\n",
        "#plt.show()      "
      ],
      "metadata": {
        "id": "WH5j4tb7zKaX"
      },
      "execution_count": null,
      "outputs": []
    },
    {
      "cell_type": "code",
      "source": [
        "def outliers_iqr(data):\n",
        "    q1, q3 = np.percentile(data, [25, 75])\n",
        "    # 넘파이의 값을 퍼센트로 표시해주는 함수\n",
        "\n",
        "    iqr = q3 - q1\n",
        "    lower_bound = q1 - (iqr * 1.5)\n",
        "    upper_bound = q3 + (iqr * 1.5)\n",
        "    \n",
        "    return np.where((data > upper_bound) | (data < lower_bound))"
      ],
      "metadata": {
        "id": "c97q3O7Sz43A"
      },
      "execution_count": null,
      "outputs": []
    },
    {
      "cell_type": "code",
      "source": [
        "data[data['married'] == 3] = int(data['married'].mean())\n",
        "data[data['familysize'] > 100] = int(data['familysize'].mean())\n",
        "\n",
        "introelapse_index_data = outliers_iqr(data['introelapse'])[0]\n",
        "testelapse_index_data = outliers_iqr(data['testelapse'])[0]\n",
        "surveyelapse_index_data = outliers_iqr(data['surveyelapse'])[0]\n",
        "age_index_data = outliers_iqr(data['age'])[0]\n",
        "familysize_index_data = outliers_iqr(data['familysize'])[0]\n",
        "\n",
        "data.loc[introelapse_index_data, 'introelapse'] = int(data['introelapse'].mean())\n",
        "data.loc[testelapse_index_data, 'testelapse'] = int(data['testelapse'].mean())\n",
        "data.loc[surveyelapse_index_data, 'surveyelapse'] = int(data['surveyelapse'].mean())\n",
        "data.loc[age_index_data, 'age'] = int(data['age'].mean())\n",
        "data.loc[familysize_index_data, 'familysize'] = int(data['familysize'].mean())"
      ],
      "metadata": {
        "id": "WcxfsbJ21CBY"
      },
      "execution_count": null,
      "outputs": []
    },
    {
      "cell_type": "code",
      "source": [
        "#data.plot(kind='box', subplots=True, layout=(5, 14), figsize=(15, 21))\n",
        "#plt.show()       "
      ],
      "metadata": {
        "id": "1S9kmSvS2bKB"
      },
      "execution_count": null,
      "outputs": []
    },
    {
      "cell_type": "markdown",
      "source": [
        "# 데이터 예측"
      ],
      "metadata": {
        "id": "ZylVY63jyu9w"
      }
    },
    {
      "cell_type": "markdown",
      "source": [
        "## 정확도"
      ],
      "metadata": {
        "id": "chPGIX2Jv659"
      }
    },
    {
      "cell_type": "code",
      "source": [
        "def ACCURACY(true, pred):   \n",
        "    score = np.mean(true==pred)\n",
        "    return score"
      ],
      "metadata": {
        "id": "NdGBnARdv6Yv"
      },
      "execution_count": null,
      "outputs": []
    },
    {
      "cell_type": "markdown",
      "source": [
        "## K-Fold"
      ],
      "metadata": {
        "id": "tytScFT1oShX"
      }
    },
    {
      "cell_type": "code",
      "source": [
        "def kfold(model, train, scale = False):\n",
        "    cv_accuracy = []\n",
        "    cv = StratifiedKFold(n_splits=5)\n",
        "    \n",
        "    n_iter = 0\n",
        "    \n",
        "    for t, v in cv.split(train, train['nerdiness']):\n",
        "        \n",
        "        train_cv = train.iloc[t] # 훈련용\n",
        "        val_cv = train.iloc[v] # 검증용 분리\n",
        "\n",
        "        train_X = train_cv.drop('nerdiness', axis=1)\n",
        "        train_y = train_cv['nerdiness']\n",
        "\n",
        "        val_X = val_cv.drop('nerdiness', axis=1)\n",
        "        val_y = val_cv['nerdiness']\n",
        "            \n",
        "        model.fit(train_X, train_y)\n",
        "        score = ACCURACY(val_y, model.predict(val_X))\n",
        "        \n",
        "        cv_accuracy.append(score)\n",
        "        n_iter += 1\n",
        "    return np.mean(cv_accuracy)"
      ],
      "metadata": {
        "id": "RvYKzBaQoULQ"
      },
      "execution_count": null,
      "outputs": []
    },
    {
      "cell_type": "code",
      "source": [
        "models = [\n",
        "    KNeighborsClassifier(),\n",
        "    LogisticRegression(),\n",
        "    DecisionTreeClassifier(),\n",
        "    RandomForestClassifier(max_depth=12, min_samples_leaf=8, min_samples_split=20, n_estimators=300),\n",
        "    GradientBoostingClassifier(),\n",
        "    ExtraTreesClassifier(max_depth=25, n_estimators=320)\n",
        "]\n",
        "\n",
        "#print('스케일링 적용 전')\n",
        "#for model in models:\n",
        "#    print(f'{type(model).__name__} score: {kfold(model, data)}')"
      ],
      "metadata": {
        "id": "DH_sgBMCwHmB"
      },
      "execution_count": null,
      "outputs": []
    },
    {
      "cell_type": "code",
      "source": [
        "train = data.drop('nerdiness', axis=1)\n",
        "target = data['nerdiness']"
      ],
      "metadata": {
        "id": "5NddA0lIH72e"
      },
      "execution_count": null,
      "outputs": []
    },
    {
      "cell_type": "code",
      "source": [
        "submission = pd.read_csv('/content/drive/MyDrive/Colab_Notebooks/Dacon/004/sample_submission.csv')"
      ],
      "metadata": {
        "id": "981Dz1DNNZ1g"
      },
      "execution_count": null,
      "outputs": []
    },
    {
      "cell_type": "code",
      "source": [
        "model_rf = RandomForestRegressor()\n",
        "\n",
        "model_rf.fit(train, target)\n",
        "prediction_rf = model_rf.predict(test)\n",
        "submission_rf = submission\n",
        "submission_rf['nerdiness'] = prediction_rf.round(0).astype(int)\n",
        "submission_rf.to_csv('submit_rf.csv', index = False)"
      ],
      "metadata": {
        "id": "zfOZWyF2NeL3"
      },
      "execution_count": null,
      "outputs": []
    },
    {
      "cell_type": "code",
      "source": [
        "model_gb = GradientBoostingClassifier()\n",
        "\n",
        "model_gb.fit(train, target)\n",
        "prediction_gb = model_gb.predict(test)\n",
        "submission_gb = submission\n",
        "submission_gb['nerdiness'] = prediction_gb.round(0).astype(int)\n",
        "submission_gb.to_csv('submit_gb.csv', index = False)"
      ],
      "metadata": {
        "id": "HX18mJdXPMNt"
      },
      "execution_count": null,
      "outputs": []
    },
    {
      "cell_type": "code",
      "source": [
        "model_et = ExtraTreesClassifier(max_depth=25, n_estimators=320)\n",
        "\n",
        "model_et.fit(train, target)\n",
        "prediction_et = model_et.predict(test)\n",
        "submission_et = submission\n",
        "submission_et['nerdiness'] = prediction_et.round(0).astype(int)\n",
        "submission_et.to_csv('submit_et.csv', index = False)"
      ],
      "metadata": {
        "id": "CGp7jV2WPp5N"
      },
      "execution_count": null,
      "outputs": []
    },
    {
      "cell_type": "code",
      "source": [
        "submission_vt = submission\n",
        "for i in submission_rf.index:\n",
        "  sum = 0\n",
        "  sum += submission_rf.loc[i, 'nerdiness']\n",
        "  sum += submission_gb.loc[i, 'nerdiness']\n",
        "  sum += submission_et.loc[i, 'nerdiness']\n",
        "  if sum >= 2:\n",
        "    submission_vt.loc[i, 'nerdiness'] = 1\n",
        "  else:\n",
        "    submission_vt.loc[i, 'nerdiness'] = 0\n",
        "submission_vt.to_csv('submit_final.csv', index = False)"
      ],
      "metadata": {
        "id": "2sOXF7IeP8v6"
      },
      "execution_count": null,
      "outputs": []
    }
  ]
}