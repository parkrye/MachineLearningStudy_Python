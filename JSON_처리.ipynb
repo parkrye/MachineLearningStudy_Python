{
  "nbformat": 4,
  "nbformat_minor": 0,
  "metadata": {
    "colab": {
      "provenance": [],
      "collapsed_sections": [],
      "authorship_tag": "ABX9TyPx7lOYbdO6ljJlEgdM4x0/",
      "include_colab_link": true
    },
    "kernelspec": {
      "name": "python3",
      "display_name": "Python 3"
    },
    "language_info": {
      "name": "python"
    }
  },
  "cells": [
    {
      "cell_type": "markdown",
      "metadata": {
        "id": "view-in-github",
        "colab_type": "text"
      },
      "source": [
        "<a href=\"https://colab.research.google.com/github/parkrye/Python/blob/main/JSON_%EC%B2%98%EB%A6%AC.ipynb\" target=\"_parent\"><img src=\"https://colab.research.google.com/assets/colab-badge.svg\" alt=\"Open In Colab\"/></a>"
      ]
    },
    {
      "cell_type": "code",
      "source": [
        "import json\n",
        "import urllib\n",
        "import urllib.request as req\n",
        "import re\n",
        "import pandas as pd"
      ],
      "metadata": {
        "id": "1lJBm7JECWcZ"
      },
      "execution_count": null,
      "outputs": []
    },
    {
      "cell_type": "code",
      "source": [
        "query = input()\n",
        "\n",
        "encText = urllib.parse.quote_plus(query)\n",
        "num = 100\n",
        "\n",
        "url = 'https://openapi.naver.com/v1/search/blog.json?query=' + encText + '&display=' + str(num)\n",
        "\n",
        "client_key = 'LKgPb_FMqUDKfcD80Iq3'\n",
        "client_secret = 'hpmdKMSZpu'\n",
        "\n",
        "request = urllib.request.Request(url)\n",
        "request.add_header(\"X-Naver-Client-Id\",client_key)\n",
        "request.add_header(\"X-Naver-Client-Secret\",client_secret)\n",
        "res = urllib.request.urlopen(request)\n",
        "\n",
        "rescode = res.getcode()\n",
        "if rescode == 200:\n",
        "  res_body = res.read()\n",
        "  dataList = json.loads(res_body)\n",
        "else:\n",
        "  print('ERROR CODE : ' + res)"
      ],
      "metadata": {
        "colab": {
          "base_uri": "https://localhost:8080/"
        },
        "id": "E6-pwDkUDlpn",
        "outputId": "dbb36570-7494-4796-932f-87e055b1ffb5"
      },
      "execution_count": null,
      "outputs": [
        {
          "name": "stdout",
          "output_type": "stream",
          "text": [
            "강원도\n"
          ]
        }
      ]
    },
    {
      "cell_type": "code",
      "source": [
        "title_list = []\n",
        "desc_list = []\n",
        "\n",
        "for item in dataList['items']:\n",
        "  title_list.append(item['title'])\n",
        "  desc_list.append(item['description'])"
      ],
      "metadata": {
        "id": "qRDN_D3wRMpR"
      },
      "execution_count": null,
      "outputs": []
    },
    {
      "cell_type": "code",
      "source": [
        "re_title_list = []\n",
        "re_desc_list = []\n",
        "for i in range(num):\n",
        "  re_title_list.append(re.sub('</?b>', '', title_list[i]))\n",
        "  re_desc_list.append(re.sub('</?b>', '', desc_list[i]))"
      ],
      "metadata": {
        "id": "5-xQyFt9Qjv3"
      },
      "execution_count": null,
      "outputs": []
    },
    {
      "cell_type": "code",
      "source": [
        "dictdata = {'title':re_title_list,\n",
        "            'description':re_desc_list}\n",
        "df = pd.DataFrame(dictdata)"
      ],
      "metadata": {
        "id": "FvOjYKVQTJjY"
      },
      "execution_count": null,
      "outputs": []
    },
    {
      "cell_type": "code",
      "source": [
        "df.to_csv('NaverBlog_SerchResult.csv')"
      ],
      "metadata": {
        "id": "0qyV2cE_Trq0"
      },
      "execution_count": null,
      "outputs": []
    }
  ]
}