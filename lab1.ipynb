{
  "cells": [
    {
      "cell_type": "markdown",
      "metadata": {
        "id": "view-in-github",
        "colab_type": "text"
      },
      "source": [
        "<a href=\"https://colab.research.google.com/github/parkrye/Python/blob/main/lab1.ipynb\" target=\"_parent\"><img src=\"https://colab.research.google.com/assets/colab-badge.svg\" alt=\"Open In Colab\"/></a>"
      ]
    },
    {
      "cell_type": "markdown",
      "metadata": {
        "id": "uFkmeIsAAZV9"
      },
      "source": [
        "# 1. Perceptron Learning Algorithm (PLA)"
      ]
    },
    {
      "cell_type": "markdown",
      "metadata": {
        "id": "AP4SSbFIAZV-"
      },
      "source": [
        "PLA is a **poorly performing algorithm**, but it illustrates the idea of machine learning.\n",
        "\n",
        "* input: $\\mathcal{X} \\in \\mathbb{R}^d$ \n",
        "* data: $N$ sets of previous inputs and outcomes ($\\mathbf{x}_i$, $y_i$) $\\text{for i in 1..N}$\n",
        "* output: $\\mathcal{Y}$: approve credit\n",
        "* target function: $f$: $\\mathcal{X} → \\mathcal{Y}$   No way to know this\n",
        "* hypthothesis function $g$: $\\mathcal{X} → \\mathcal{Y}$  we learn this\n",
        "\n",
        "We do not know what the true target function $f$ might be. So we use machine learning to find a hypothesis function $g$, which will be *approximately* equal to $f$, or $f\\approx g$.\n",
        "\n",
        "Here is some example data. We use only two factors so we can plot it in two dimensional plots."
      ]
    },
    {
      "cell_type": "code",
      "execution_count": 1,
      "metadata": {
        "id": "v-NkfidbAZV-"
      },
      "outputs": [],
      "source": [
        "import numpy as np\n",
        "np.random.seed(0) # for reproducibility\n",
        "\n",
        "data = np.array(((3.0, 4.0), (4.0, 6.0), (4.3, 4.0), (8.0, 7.0), \n",
        "                 (6.0, 5.5), (6.4, 8.2), (1.0, 7.0), (4.0, 5.2),  \n",
        "                 (7.0, 7.5), (5.0, 2.0), (7.0, 6.0), (7.0, 3.0),\n",
        "                 (6.0, 8.4), (2.0, 3.6), (1.0, 2.7)))"
      ]
    },
    {
      "cell_type": "markdown",
      "metadata": {
        "id": "Qi6VC4LEAZV_"
      },
      "source": [
        "## Definition of Perceptron\n",
        "A **peceptron** models the hypothesis function as a sum of weights. \n",
        "\n",
        "If we let $d$ be the dimension of input data, then the perceptron is\n",
        "\n",
        "$$\\text{approve credit if } \\sum\\limits_{i=1}^d w_i x_i >\\text{ threshold}$$\n",
        "\n",
        "or\n",
        "$$h(\\mathbf{x}) = \\text{sign}\\Big[\\sum\\limits_{i=1}^d w_i x_i - \\text{threshold}\\Big]$$\n",
        "\n",
        "In other words, $h(\\mathbf{x})$ will be $1$ if we approve credit, and $-1$ if we deny credit."
      ]
    },
    {
      "cell_type": "markdown",
      "metadata": {
        "id": "4dvoJqQTAZV_"
      },
      "source": [
        "To test our code we need to simulate the function $f$, which is normally unknow. Here we arbitrarily define it as approving the credit if the sum of the $\\mathbf{x}$ and $y$ factors is less than 10.5. In other words, if $x_1 + x_2 < 10.5$ that person didn't make us money, otherwise they did make us money."
      ]
    },
    {
      "cell_type": "code",
      "execution_count": 2,
      "metadata": {
        "collapsed": true,
        "id": "HNAuEZGFAZWA"
      },
      "outputs": [],
      "source": [
        "def true_fuction_f(data):\n",
        "    return np.sign(data[:, 1] + data[:, 0] - 10.5)"
      ]
    },
    {
      "cell_type": "markdown",
      "metadata": {
        "id": "jG-LFCGAAZWA"
      },
      "source": [
        "Let's look at that in a plot. I'll write a function to plot the data points in blues plus marks for approve, and red minuses for deny."
      ]
    },
    {
      "cell_type": "code",
      "execution_count": 3,
      "metadata": {
        "id": "QvPih1ROAZWA",
        "outputId": "518cde15-7ac1-4335-9c72-d72278d6ef12",
        "colab": {
          "base_uri": "https://localhost:8080/",
          "height": 269
        }
      },
      "outputs": [
        {
          "output_type": "display_data",
          "data": {
            "text/plain": [
              "<Figure size 432x288 with 1 Axes>"
            ],
            "image/png": "[encoded data removed]"
          },
          "metadata": {
            "needs_background": "light"
          }
        }
      ],
      "source": [
        "%matplotlib inline\n",
        "import matplotlib.pyplot as plt\n",
        "\n",
        "def plot_costs(ax, x1, x2, y):\n",
        "    for i, c in enumerate(y):  \n",
        "        plt.scatter(x1[i], x2[i], marker='+' if c==1 else '$-$',\n",
        "                    c='b' if c==1 else 'r', s=50)\n",
        "\n",
        "y = true_fuction_f(data)\n",
        "\n",
        "fig, ax = plt.subplots(1)\n",
        "plot_costs(ax, data[:, 0], data[:, 1], y)\n",
        "plt.plot([9, 1], [3, 9], ls='--', color='grey');\n",
        "plt.xlim(0, 9); plt.ylim(1, 9);"
      ]
    },
    {
      "cell_type": "markdown",
      "metadata": {
        "id": "y6JX_yaZAZWB"
      },
      "source": [
        "## Perceptron in a vector form\n",
        "We want to implement the Perceptron in a vector form using linear algebra. We can get rid of the $> \\text{threshold}$ term by introducing a dummy term $x_0$, which we always set to 1. We introduce a new weight $w_0$ corresponding to it. This lets us write our hypothesis function as\n",
        "\n",
        "$$h(\\mathbf{x}) = \\text{sign}\\Big[\\sum\\limits_{i=0}^d w_i x_i \\Big]$$\n",
        "\n",
        "$\\sum\\limits_{i=0}^d w_i x_i$ is called an **inner product** in linear algebra, and we can calculate it extremely quickly with `numpy.inner()` and `numpy.sign()`. It is written as\n",
        "\n",
        "$$h(\\mathbf{x}) = \\text{sign}(\\mathbf{w}^\\mathsf{T}\\mathbf{x})$$\n",
        "\n",
        "Here is an example for $4*1 + 3*4 + 2*7$ (weights are 4, 3 and 2, x's are 1, 4 and 7):"
      ]
    },
    {
      "cell_type": "code",
      "execution_count": 4,
      "metadata": {
        "id": "HVuRGHHBAZWB",
        "outputId": "605fb7ea-7e9d-42f0-fdef-86331651f774",
        "colab": {
          "base_uri": "https://localhost:8080/"
        }
      },
      "outputs": [
        {
          "output_type": "execute_result",
          "data": {
            "text/plain": [
              "30"
            ]
          },
          "metadata": {},
          "execution_count": 4
        }
      ],
      "source": [
        "x = np.array([1, 4, 7])\n",
        "w = np.array([4, 3, 2])\n",
        "np.inner(w, x)"
      ]
    },
    {
      "cell_type": "markdown",
      "metadata": {
        "id": "VFc8reGyAZWB"
      },
      "source": [
        "Alternatively we could use `numpy.dot` to compute the same value, but inner better conveys what we are doing:"
      ]
    },
    {
      "cell_type": "code",
      "execution_count": 5,
      "metadata": {
        "id": "gQTscOoZAZWB",
        "outputId": "c65e6395-5dfa-481c-eeb2-e01e5deb1f6e",
        "colab": {
          "base_uri": "https://localhost:8080/"
        }
      },
      "outputs": [
        {
          "output_type": "execute_result",
          "data": {
            "text/plain": [
              "30"
            ]
          },
          "metadata": {},
          "execution_count": 5
        }
      ],
      "source": [
        "np.dot(w, x)"
      ]
    },
    {
      "cell_type": "markdown",
      "source": [
        "To cover multiple input, we can define Perceptron as below:\n",
        "\n",
        "**Please note that in impletation we usually define data in matrix form of $[N, d]$.**"
      ],
      "metadata": {
        "id": "6LtzYQMWwZSa"
      }
    },
    {
      "cell_type": "code",
      "source": [
        "def perceptron(weights, x):\n",
        "  \"\"\"\n",
        "  Parameters\n",
        "  ----------\n",
        "  weight : np.array [d]\n",
        "    The weighs of Perceptron\n",
        "  X : np.array [N, d]\n",
        "    The input data, form of matrix\n",
        "  \n",
        "  Return\n",
        "  ----------\n",
        "  y : np.array [N]\n",
        "    The predicted output\n",
        "  \"\"\"\n",
        "  y = np.inner(np.transpose(weights), x)\n",
        "  y = np.sign(y)\n",
        "  return y"
      ],
      "metadata": {
        "id": "0QctvDlcuzpw"
      },
      "execution_count": 6,
      "outputs": []
    },
    {
      "cell_type": "markdown",
      "source": [
        "Test on multiple inputs."
      ],
      "metadata": {
        "id": "dY4_MXJHTlre"
      }
    },
    {
      "cell_type": "code",
      "source": [
        "N = 20\n",
        "d = 2\n",
        "x = np.random.randn(N, d)\n",
        "w = np.random.rand(d, 1)\n",
        "print(perceptron(w, x))"
      ],
      "metadata": {
        "colab": {
          "base_uri": "https://localhost:8080/"
        },
        "id": "qoGPMMJ53qWK",
        "outputId": "06851690-a77d-4da7-96eb-d56839b61454"
      },
      "execution_count": 7,
      "outputs": [
        {
          "output_type": "stream",
          "name": "stdout",
          "text": [
            "[[ 1.  1.  1.  1.  1.  1.  1.  1.  1. -1. -1.  1.  1. -1.  1.  1. -1. -1.\n",
            "   1. -1.]]\n"
          ]
        }
      ]
    },
    {
      "cell_type": "markdown",
      "metadata": {
        "id": "ZwIHcKrOAZWC"
      },
      "source": [
        "We need to add $x_0 = 1$ to our data, our data is stored in column format (each row is a separate record), so we need to add a column of ones to the left of the matrix `data` using `numpy.ones()` and `numpy.c_()` method.\n"
      ]
    },
    {
      "cell_type": "code",
      "execution_count": 8,
      "metadata": {
        "id": "uCuOnYPnAZWC",
        "outputId": "247de025-d1e9-4377-827a-78ad376e124f",
        "colab": {
          "base_uri": "https://localhost:8080/"
        }
      },
      "outputs": [
        {
          "output_type": "execute_result",
          "data": {
            "text/plain": [
              "array([[1. , 3. , 4. ],\n",
              "       [1. , 4. , 6. ],\n",
              "       [1. , 4.3, 4. ],\n",
              "       [1. , 8. , 7. ],\n",
              "       [1. , 6. , 5.5],\n",
              "       [1. , 6.4, 8.2],\n",
              "       [1. , 1. , 7. ],\n",
              "       [1. , 4. , 5.2],\n",
              "       [1. , 7. , 7.5],\n",
              "       [1. , 5. , 2. ],\n",
              "       [1. , 7. , 6. ],\n",
              "       [1. , 7. , 3. ],\n",
              "       [1. , 6. , 8.4],\n",
              "       [1. , 2. , 3.6],\n",
              "       [1. , 1. , 2.7]])"
            ]
          },
          "metadata": {},
          "execution_count": 8
        }
      ],
      "source": [
        "def add_one_column(data):\n",
        "    # number of data records\n",
        "    N = len(data) \n",
        "\n",
        "    # add column of ones for x_0\n",
        "    return np.c_[np.ones(N), data] \n",
        "\n",
        "X = add_one_column(data)\n",
        "X"
      ]
    },
    {
      "cell_type": "markdown",
      "metadata": {
        "id": "2xtTqy5NAZWC"
      },
      "source": [
        "## How does PLA works\n",
        "We start by assigning random numbers to the weight vector. Perform the inner product against our data set. Compare to actual results.\n",
        "\n",
        "Take *one* of the misclassified points and *nudge* the weight so that the point is no longer misclassified. This nudge fixes this point, but of course might cause one or more other points to become misclassified. But against that point we might also fix the categorization of some points as well.\n",
        "\n",
        "$\\mathbf{w}^\\mathsf{T}\\mathbf{x}$ is a linear operator - it creates a line. When we start with random weights this is the same as creating a random line drawn through our space. It is unlikely to correctly partition our data points correctly. When we *nudge* the weight we are shifting the line so the point is on the other side of the line. So you can visualize the algorithm as moving the line around until it correctly separates our points. "
      ]
    },
    {
      "cell_type": "code",
      "execution_count": 9,
      "metadata": {
        "scrolled": true,
        "id": "UwSnTd_bAZWC",
        "outputId": "b9423f74-90da-48f8-9021-9af7b8c47c74",
        "colab": {
          "base_uri": "https://localhost:8080/",
          "height": 265
        }
      },
      "outputs": [
        {
          "output_type": "display_data",
          "data": {
            "text/plain": [
              "<Figure size 432x288 with 1 Axes>"
            ],
            "image/png": "[encoded data removed]"
          },
          "metadata": {
            "needs_background": "light"
          }
        }
      ],
      "source": [
        "weights = [-8.4805, .5, 1.351]\n",
        "\n",
        "def plot_weight_line(ax, weights, x1, x2, color='g'):\n",
        "    def eq(w, x):\n",
        "        \"\"\" convert w0 + w1*x1 + w2*x2 into y = mx + b\"\"\"\n",
        "        return (-w[1]*x - w[0]) / w[2] \n",
        "    ax.plot([x1, x2], [eq(weights, x1), eq(weights, x2)], ls='--', color=color)\n",
        "     \n",
        "def plot_weight_example(ax, weights, color='g'):\n",
        "    plot_weight_line(ax, weights, 0, 9, color=color)\n",
        "    plot_costs(ax, data[:, 0], data[:, 1], y)\n",
        "    \n",
        "fig, ax = plt.subplots(1)\n",
        "plot_weight_example(ax, weights, color='grey')"
      ]
    },
    {
      "cell_type": "markdown",
      "metadata": {
        "id": "MFGxSc0NAZWC"
      },
      "source": [
        "And after some weight change to move the line so that the point at (4, 5.2) is on the correct side of the line:"
      ]
    },
    {
      "cell_type": "code",
      "execution_count": 10,
      "metadata": {
        "scrolled": true,
        "id": "t9GayHzqAZWC",
        "outputId": "7f7a6c7a-a25b-41ac-90b5-fb66f946b09b",
        "colab": {
          "base_uri": "https://localhost:8080/",
          "height": 265
        }
      },
      "outputs": [
        {
          "output_type": "display_data",
          "data": {
            "text/plain": [
              "<Figure size 432x288 with 1 Axes>"
            ],
            "image/png": "[encoded data removed]"
          },
          "metadata": {
            "needs_background": "light"
          }
        }
      ],
      "source": [
        "learningRate = 0.02 # optional: will be cover\n",
        "new_weights = weights + -1 * np.array([1, 4, 5.2]) * learningRate\n",
        "\n",
        "fig, ax = plt.subplots(1)\n",
        "plot_weight_example(ax, weights, color='grey')\n",
        "plot_weight_example(ax, new_weights, color='g')\n",
        "ax.scatter(4, 5.2, facecolors='none', edgecolors='g', s=100, color='green')\n",
        "plt.show()"
      ]
    },
    {
      "cell_type": "markdown",
      "metadata": {
        "id": "O0yOc8vzAZWC"
      },
      "source": [
        "Lets think about the geometric interpretation of the inner product $\\mathbf{w}^\\mathsf{T}\\mathbf{x}$.\n",
        "\n",
        "If the inner product is positive (accept the application) then the angle formed by $\\mathbf{w}$ and $\\mathbf{x}$ will be acute.\n",
        "\n",
        "If the inner product is negative (deny the application) then the angle will be oblique."
      ]
    },
    {
      "cell_type": "code",
      "execution_count": 11,
      "metadata": {
        "id": "vzMt2R0kAZWD",
        "outputId": "1354a3d6-7aaf-45fe-c45d-7015f7db8ab2",
        "colab": {
          "base_uri": "https://localhost:8080/",
          "height": 281
        }
      },
      "outputs": [
        {
          "output_type": "display_data",
          "data": {
            "text/plain": [
              "<Figure size 432x288 with 2 Axes>"
            ],
            "image/png": "[encoded data removed]"
          },
          "metadata": {
            "needs_background": "light"
          }
        }
      ],
      "source": [
        "def plot_vector(ax, x, c='b', label=''):\n",
        "    ax.quiver(0,0,x[0], x[1],angles='xy',scale_units='xy',scale=1, color=c)\n",
        "    ax.plot([0], [0], color=c, label=label)\n",
        "\n",
        "x = [1.0, 0.0]\n",
        "\n",
        "fig, ax = plt.subplots(1, 2)\n",
        "\n",
        "w = [.7, 0.9]\n",
        "plot_vector(ax[0], x, 'b', 'x')\n",
        "plot_vector(ax[0], w, 'r', 'w')\n",
        "ax[0].set_xlim(-1.5, 1.5); ax[0].set_ylim(-1.5,1.5);\n",
        "ax[0].set_title('inner product is: {}'.format(np.dot(x, w)))\n",
        "ax[0].legend(loc=4)\n",
        "\n",
        "w = [-.9, .7]\n",
        "plot_vector(ax[1], x, 'b', 'x')\n",
        "plot_vector(ax[1], w, 'r', 'w')\n",
        "ax[1].set_xlim(-1.5, 1.5); ax[1].set_ylim(-1.5,1.5);\n",
        "ax[1].set_title('inner product is: {}'.format(np.dot(x, w)))\n",
        "ax[1].legend(loc=4)\n",
        "\n",
        "fig.show()"
      ]
    },
    {
      "cell_type": "markdown",
      "metadata": {
        "id": "Tti77bZ-AZWD"
      },
      "source": [
        "If the angle is acute ($h(x)$ is positive) and the point is misclassified this means the inner product is positive, but it should be negative: $y=-1$. If we add $yx$ to the weight, i.e. $-x$ the angle will be converted to an oblique angle. Likewise, if the angle is oblique ($h(x)$ is negative) and the point is misclassified then $y=+1$. If we add $yx$ to the weight, i.e $+x$ the angle will be converted to an acute angle: "
      ]
    },
    {
      "cell_type": "code",
      "execution_count": 12,
      "metadata": {
        "id": "1SmFJ7LnAZWD",
        "outputId": "a4680c3c-be97-4ad6-816b-9e764a1afa15",
        "colab": {
          "base_uri": "https://localhost:8080/",
          "height": 281
        }
      },
      "outputs": [
        {
          "output_type": "display_data",
          "data": {
            "text/plain": [
              "<Figure size 432x288 with 2 Axes>"
            ],
            "image/png": "[encoded data removed]"
          },
          "metadata": {
            "needs_background": "light"
          }
        }
      ],
      "source": [
        "x = [1.0, 0.0]\n",
        "w = [.7, 0.9]\n",
        "_y = -1 \n",
        "\n",
        "fig, ax = plt.subplots(1, 2)\n",
        "\n",
        "plot_vector(ax[0], x, 'b', 'x')\n",
        "plot_vector(ax[0], w, 'r', 'w')\n",
        "plot_vector(ax[0], w + np.dot(_y, x), 'g', 'w + yx')\n",
        "ax[0].set_xlim(-1.5, 1.5); ax[0].set_ylim(-1.5,1.5);\n",
        "ax[0].set_title('inner product is: {}'.format(np.dot(x, w)))\n",
        "ax[0].legend(loc=4)\n",
        "\n",
        "w = [-.9, .7]\n",
        "_y = +1\n",
        "plot_vector(ax[1], x, 'b', 'x')\n",
        "plot_vector(ax[1], w, 'r', 'w')\n",
        "plot_vector(ax[1], w + np.dot(_y, x), 'g', 'w + yx')\n",
        "ax[1].set_xlim(-1.5, 1.5); ax[1].set_ylim(-1.5,1.5);\n",
        "ax[1].set_title('inner product is: {}'.format(np.dot(x, w)))\n",
        "ax[1].legend(loc=4)\n",
        "\n",
        "fig.show()"
      ]
    },
    {
      "cell_type": "markdown",
      "metadata": {
        "id": "5Km3r8qkAZWD"
      },
      "source": [
        "Therefore our **nudging** algorithm is very simple to implement. Choose a point such that $\\text{sign}(\\mathbf{w}^\\mathsf{T}\\mathbf{x}_n) \\neq y_n$, which means it is misclassified. Update the weight with $\\mathbf{w} \\gets \\mathbf{w} +y_n\\mathbf{x}_n$. \n",
        "\n",
        "The PLA runs in a loop:\n",
        "\n",
        "```python\n",
        "while some point is misclassified:\n",
        "    randomly choose a miscategorized point i\n",
        "    w = w + y_i * x_i\n",
        "```\n",
        "\n",
        "PLA will not converge if the data is not linearly separable so we need to add checks for the number of iterations, and we also need to return a `success` flag indicating whether we found an answer or not. We use `numpy.random.permutation()` to randomly iterate over the points. If you don't do this you can easily enter into an infinite loop since you can endless fix point 1, which misclassifies point 2. You fix point 2, which misclassifies point 1, ad infinitum. "
      ]
    },
    {
      "cell_type": "code",
      "source": [
        "def PLA(X, y, weights=None, max_iters=50000, learningRate=1,\n",
        "        verbose=False, skip=1, ):    \n",
        "  if weights is None:\n",
        "      weights = np.array(np.random.random(X.shape[1]))\n",
        "\n",
        "  misclassified = True\n",
        "  success = False\n",
        "  iters = 0\n",
        "  indexes = range(len(X))\n",
        "\n",
        "  while misclassified and iters < max_iters:\n",
        "    if verbose and iters % skip==0:\n",
        "      fig, ax = plt.subplots(1)\n",
        "      plot_costs(ax, X[:, 1], X[:, 2], y)\n",
        "      margin = 1\n",
        "      plt.xlim([np.min(X[:, 1]-margin), np.max(X[:, 1])+margin])\n",
        "      plt.ylim([np.min(X[:, 2]-margin), np.max(X[:, 2])+margin])\n",
        "      plot_weight_line(ax, weights, 0, 9)\n",
        "      plt.title('iteration %d'%iters)\n",
        "      plt.show()    \n",
        "\n",
        "    misclassified = False\n",
        "    ######### complete the code #########\n",
        "    for i in np.random.permutation(indexes):\n",
        "      if perceptron(weights, X[i]) != y[i]:\n",
        "        weights = weights + y[i] * X[i] * learningRate\n",
        "        misclassified = True\n",
        "    #####################################\n",
        "\n",
        "    success = not misclassified\n",
        "    iters += 1\n",
        "    \n",
        "  return weights, success, iters"
      ],
      "metadata": {
        "id": "m6uo9XNKgUkT"
      },
      "execution_count": 17,
      "outputs": []
    },
    {
      "cell_type": "code",
      "source": [
        "from numpy.random import randn\n",
        "\n",
        "initialWeights = np.array([-0.32551368, 1.20473617, -1.00629554])\n",
        "\n",
        "# plot initial setup\n",
        "fig, ax = plt.subplots(1)\n",
        "\n",
        "plot_weight_line(ax, initialWeights, np.min(X[:, 1]), np.max(X[:, 1]))\n",
        "plot_costs(ax, X[:, 1], X[:, 2], y)\n",
        "plt.title('Algorithm Start')\n",
        "plt.show()"
      ],
      "metadata": {
        "colab": {
          "base_uri": "https://localhost:8080/",
          "height": 281
        },
        "id": "KIQSaseJs-N_",
        "outputId": "ce2bd168-1b03-4ade-a1bd-f0832ca1b952"
      },
      "execution_count": 19,
      "outputs": [
        {
          "output_type": "display_data",
          "data": {
            "text/plain": [
              "<Figure size 432x288 with 1 Axes>"
            ],
            "image/png": "[encoded data removed]"
          },
          "metadata": {
            "needs_background": "light"
          }
        }
      ]
    },
    {
      "cell_type": "code",
      "source": [
        "# run PLA\n",
        "weights, success, iters = PLA(X, y, initialWeights, learningRate=0.05,\n",
        "                              verbose=True, skip=1)"
      ],
      "metadata": {
        "colab": {
          "base_uri": "https://localhost:8080/",
          "height": 1000
        },
        "id": "N59laPEvqBvQ",
        "outputId": "d207fba5-4a8b-4bc2-8244-53e58cd72ae6"
      },
      "execution_count": 20,
      "outputs": [
        {
          "output_type": "display_data",
          "data": {
            "text/plain": [
              "<Figure size 432x288 with 1 Axes>"
            ],
            "image/png": "[encoded data removed]"
          },
          "metadata": {
            "needs_background": "light"
          }
        },
        {
          "output_type": "display_data",
          "data": {
            "text/plain": [
              "<Figure size 432x288 with 1 Axes>"
            ],
            "image/png": "[encoded data removed]"
          },
          "metadata": {
            "needs_background": "light"
          }
        },
        {
          "output_type": "display_data",
          "data": {
            "text/plain": [
              "<Figure size 432x288 with 1 Axes>"
            ],
            "image/png": "[encoded data removed]"
          },
          "metadata": {
            "needs_background": "light"
          }
        },
        {
          "output_type": "display_data",
          "data": {
            "text/plain": [
              "<Figure size 432x288 with 1 Axes>"
            ],
            "image/png": "[encoded data removed]"
          },
          "metadata": {
            "needs_background": "light"
          }
        },
        {
          "output_type": "display_data",
          "data": {
            "text/plain": [
              "<Figure size 432x288 with 1 Axes>"
            ],
            "image/png": "[encoded data removed]"
          },
          "metadata": {
            "needs_background": "light"
          }
        },
        {
          "output_type": "display_data",
          "data": {
            "text/plain": [
              "<Figure size 432x288 with 1 Axes>"
            ],
            "image/png": "[encoded data removed]"
          },
          "metadata": {
            "needs_background": "light"
          }
        },
        {
          "output_type": "display_data",
          "data": {
            "text/plain": [
              "<Figure size 432x288 with 1 Axes>"
            ],
            "image/png": "[encoded data removed]"
          },
          "metadata": {
            "needs_background": "light"
          }
        },
        {
          "output_type": "display_data",
          "data": {
            "text/plain": [
              "<Figure size 432x288 with 1 Axes>"
            ],
            "image/png": "[encoded data removed]"
          },
          "metadata": {
            "needs_background": "light"
          }
        },
        {
          "output_type": "display_data",
          "data": {
            "text/plain": [
              "<Figure size 432x288 with 1 Axes>"
            ],
            "image/png": "[encoded data removed]"
          },
          "metadata": {
            "needs_background": "light"
          }
        }
      ]
    },
    {
      "cell_type": "code",
      "source": [
        "# plot and print the results\n",
        "fig, ax = plt.subplots(1)\n",
        "plot_costs(ax, X[:, 1], X[:, 2], y)\n",
        "print('final weights', weights)\n",
        "plot_weight_line(ax, weights,\n",
        "                 np.min(X[:, 1]), np.max(X[:, 1]))\n",
        "plt.title('Algorithm Result')\n",
        "print('numer of iterations', iters)"
      ],
      "metadata": {
        "colab": {
          "base_uri": "https://localhost:8080/",
          "height": 318
        },
        "id": "02_CoLo0qD5W",
        "outputId": "03c8c841-f1ca-451a-c145-3e38bfc356d3"
      },
      "execution_count": 21,
      "outputs": [
        {
          "output_type": "stream",
          "name": "stdout",
          "text": [
            "final weights [-1.12551368  0.12973617  0.06370446]\n",
            "numer of iterations 9\n"
          ]
        },
        {
          "output_type": "display_data",
          "data": {
            "text/plain": [
              "<Figure size 432x288 with 1 Axes>"
            ],
            "image/png": "[encoded data removed]"
          },
          "metadata": {
            "needs_background": "light"
          }
        }
      ]
    },
    {
      "cell_type": "markdown",
      "source": [
        "\n",
        "---\n",
        "\n",
        "# 2. Hoeffding Inequality (\\# of data, $N$)"
      ],
      "metadata": {
        "id": "FhEfZvccrZlj"
      }
    },
    {
      "cell_type": "markdown",
      "metadata": {
        "id": "MxUzvHV7AZWD"
      },
      "source": [
        "## w/ Non-Linearably Separable Simulated Data\n",
        "\n",
        "\n",
        "It should be reasonably clear to see why PLA cannot separate data which is very intermingled. It draws a straight line, and there is no way to draw a straight line through intermingled data to separate it into two groups. But how does it perform if the data is mostly separated with only modest overlap? Let's look at that."
      ]
    },
    {
      "cell_type": "code",
      "execution_count": 22,
      "metadata": {
        "id": "mI0Q95sUAZWD",
        "outputId": "ed5e7aa4-52c9-402d-a02b-f221a543ae56",
        "colab": {
          "base_uri": "https://localhost:8080/",
          "height": 265
        }
      },
      "outputs": [
        {
          "output_type": "display_data",
          "data": {
            "text/plain": [
              "<Figure size 432x288 with 1 Axes>"
            ],
            "image/png": "[encoded data removed]"
          },
          "metadata": {
            "needs_background": "light"
          }
        }
      ],
      "source": [
        "np.random.seed(0)\n",
        "\n",
        "def make_symmetricData(N):\n",
        "  noise = 5\n",
        "  d1 = np.random.multivariate_normal((0, 5), ((noise, 0), (0, noise)), N)    \n",
        "  d2 = np.random.multivariate_normal((5, 0), ((noise, 0), (0, noise)), N)\n",
        "    \n",
        "  data = np.vstack((d1, d2))\n",
        "  y = np.array([1]*N + [-1]*N)\n",
        "  return data, y\n",
        "  \n",
        "X, y = make_symmetricData(N=2000) \n",
        "trueWeight = np.array([0, -1, 1])\n",
        "\n",
        "fig, ax = plt.subplots(1)\n",
        "plot_costs(ax, X[:, 0], X[:, 1], y)\n",
        "\n",
        "plt.scatter(0, 5, c='aqua', marker='o', s=40)\n",
        "plt.scatter(5, 0, c='pink', marker='o', s=40)\n",
        "plot_weight_line(ax, trueWeight, np.min(X[:, 1]), np.max(X[:, 1]), color='grey')"
      ]
    },
    {
      "cell_type": "markdown",
      "metadata": {
        "id": "YYWkmKw2AZWE"
      },
      "source": [
        "There is no way to linearly separate this data. Let's test that by running the algorithm and inspecting the `success` flag."
      ]
    },
    {
      "cell_type": "code",
      "execution_count": 23,
      "metadata": {
        "id": "_sP972nuAZWE",
        "outputId": "b9d40333-9c9f-4d21-bdd4-fbb717c193b2",
        "colab": {
          "base_uri": "https://localhost:8080/"
        }
      },
      "outputs": [
        {
          "output_type": "stream",
          "name": "stdout",
          "text": [
            "success = True\n"
          ]
        }
      ],
      "source": [
        "N = 10\n",
        "sampleIdx = np.random.choice(X.shape[0], N, replace=False)\n",
        "\n",
        "sample_X = X[sampleIdx, :]\n",
        "sample_y = y[sampleIdx]\n",
        "\n",
        "sample_X = add_one_column(sample_X)\n",
        "weights, success, iters = PLA(sample_X, sample_y, max_iters=5000)\n",
        "print('success =', success)"
      ]
    },
    {
      "cell_type": "markdown",
      "metadata": {
        "id": "iJFbjYRqAZWE"
      },
      "source": [
        "As you can see the algorithm could not linearly separate the data. But what do the results look like:"
      ]
    },
    {
      "cell_type": "code",
      "execution_count": 24,
      "metadata": {
        "id": "6o1U3CceAZWE",
        "outputId": "eb1f1ff5-2141-4a54-e911-6fee0d704cc1",
        "colab": {
          "base_uri": "https://localhost:8080/",
          "height": 265
        }
      },
      "outputs": [
        {
          "output_type": "display_data",
          "data": {
            "text/plain": [
              "<Figure size 432x288 with 1 Axes>"
            ],
            "image/png": "[encoded data removed]"
          },
          "metadata": {
            "needs_background": "light"
          }
        }
      ],
      "source": [
        "fig, ax = plt.subplots(1)\n",
        "plot_costs(ax, sample_X[:, 1], sample_X[:, 2], sample_y)\n",
        "plot_weight_line(ax, weights, np.min(X[:, 1]), np.max(X[:, 1]))\n",
        "plot_weight_line(ax, trueWeight, np.min(X[:, 1]), np.max(X[:, 1]), color='grey')"
      ]
    },
    {
      "cell_type": "code",
      "source": [
        "from sklearn.metrics import accuracy_score\n",
        "\n",
        "pred_sample_y = perceptron(weights, sample_X)\n",
        "inSampleError = 1 - accuracy_score(sample_y, pred_sample_y)\n",
        "print('in sample error: %.4f'%inSampleError)\n",
        "\n",
        "pred_y = perceptron(weights, add_one_column(X))\n",
        "outOfSampleError = 1 - accuracy_score(y, pred_y)\n",
        "\n",
        "print('out of sample error: %.4f'%outOfSampleError)"
      ],
      "metadata": {
        "colab": {
          "base_uri": "https://localhost:8080/"
        },
        "id": "DRO8SBh-BS6h",
        "outputId": "706cb210-15c0-4cde-9acd-6dd043ac4e1f"
      },
      "execution_count": 25,
      "outputs": [
        {
          "output_type": "stream",
          "name": "stdout",
          "text": [
            "in sample error: 0.0000\n",
            "out of sample error: 0.0773\n"
          ]
        }
      ]
    },
    {
      "cell_type": "markdown",
      "metadata": {
        "id": "FZhA0kIoAZWE"
      },
      "source": [
        "Even though the perceptron can not seperate all the data, the solution is pretty good and there are a gap between two lines. What might happen if we aquire more data?\n",
        "\n"
      ]
    },
    {
      "cell_type": "code",
      "source": [
        "N = 500\n",
        "sampleIdx = np.random.choice(X.shape[0], N, replace=False)\n",
        "\n",
        "sample_X = X[sampleIdx, :]\n",
        "sample_y = y[sampleIdx]\n",
        "\n",
        "sample_X = add_one_column(sample_X)\n",
        "weights, success, iters = PLA(sample_X, sample_y, max_iters=5000)\n",
        "print('success =', success)\n",
        "\n",
        "fig, ax = plt.subplots(1)\n",
        "plot_costs(ax, sample_X[:, 1], sample_X[:, 2], sample_y)\n",
        "plot_weight_line(ax, weights, np.min(X[:, 1]), np.max(X[:, 1]))\n",
        "plot_weight_line(ax, trueWeight, np.min(X[:, 1]), np.max(X[:, 1]), color='grey')"
      ],
      "metadata": {
        "colab": {
          "base_uri": "https://localhost:8080/",
          "height": 283
        },
        "id": "f7MfThjy0Kz8",
        "outputId": "778eb02a-cbbb-4af1-c0a2-0ce68238484c"
      },
      "execution_count": 26,
      "outputs": [
        {
          "output_type": "stream",
          "name": "stdout",
          "text": [
            "success = False\n"
          ]
        },
        {
          "output_type": "display_data",
          "data": {
            "text/plain": [
              "<Figure size 432x288 with 1 Axes>"
            ],
            "image/png": "[encoded data removed]"
          },
          "metadata": {
            "needs_background": "light"
          }
        }
      ]
    },
    {
      "cell_type": "markdown",
      "source": [
        "Now, we can see that the line of learned perceptron is much more similar to true line (grey). How about the errors?\n",
        "\n"
      ],
      "metadata": {
        "id": "Tw_rIXI18lIN"
      }
    },
    {
      "cell_type": "code",
      "source": [
        "pred_sample_y = perceptron(weights, sample_X)\n",
        "inSampleError = 1 - accuracy_score(sample_y, pred_sample_y)\n",
        "print('in sample error: %.4f'%inSampleError)\n",
        "\n",
        "pred_y = perceptron(weights, add_one_column(X))\n",
        "outOfSampleError = 1 - accuracy_score(y, pred_y)\n",
        "\n",
        "print('out of sample error: %.4f'%outOfSampleError)"
      ],
      "metadata": {
        "colab": {
          "base_uri": "https://localhost:8080/"
        },
        "id": "_kiJj1hHChSG",
        "outputId": "6de4381c-b6eb-43cf-e06e-6dc910fba7b3"
      },
      "execution_count": 27,
      "outputs": [
        {
          "output_type": "stream",
          "name": "stdout",
          "text": [
            "in sample error: 0.0560\n",
            "out of sample error: 0.0535\n"
          ]
        }
      ]
    },
    {
      "cell_type": "markdown",
      "source": [
        "## w/ Real Data\n",
        "Let's repeat the samething with real data, `breast_cancer`.\n",
        "\n",
        "**Note** Assume the data represents true distribution, even though it is not. "
      ],
      "metadata": {
        "id": "24qiTj-3nd9e"
      }
    },
    {
      "cell_type": "code",
      "source": [
        "from sklearn.datasets import load_breast_cancer\n",
        "data = load_breast_cancer()"
      ],
      "metadata": {
        "id": "XFWLD-iEjiS9"
      },
      "execution_count": 28,
      "outputs": []
    },
    {
      "cell_type": "code",
      "source": [
        "print(data.DESCR)"
      ],
      "metadata": {
        "colab": {
          "base_uri": "https://localhost:8080/"
        },
        "id": "d-dN04ykZN4v",
        "outputId": "afd03c8d-979b-4819-9e5e-f36df20862c7"
      },
      "execution_count": 29,
      "outputs": [
        {
          "output_type": "stream",
          "name": "stdout",
          "text": [
            ".. _breast_cancer_dataset:\n",
            "\n",
            "Breast cancer wisconsin (diagnostic) dataset\n",
            "--------------------------------------------\n",
            "\n",
            "**Data Set Characteristics:**\n",
            "\n",
            "    :Number of Instances: 569\n",
            "\n",
            "    :Number of Attributes: 30 numeric, predictive attributes and the class\n",
            "\n",
            "    :Attribute Information:\n",
            "        - radius (mean of distances from center to points on the perimeter)\n",
            "        - texture (standard deviation of gray-scale values)\n",
            "        - perimeter\n",
            "        - area\n",
            "        - smoothness (local variation in radius lengths)\n",
            "        - compactness (perimeter^2 / area - 1.0)\n",
            "        - concavity (severity of concave portions of the contour)\n",
            "        - concave points (number of concave portions of the contour)\n",
            "        - symmetry\n",
            "        - fractal dimension (\"coastline approximation\" - 1)\n",
            "\n",
            "        The mean, standard error, and \"worst\" or largest (mean of the three\n",
            "        worst/largest values) of these features were computed for each image,\n",
            "        resulting in 30 features.  For instance, field 0 is Mean Radius, field\n",
            "        10 is Radius SE, field 20 is Worst Radius.\n",
            "\n",
            "        - class:\n",
            "                - WDBC-Malignant\n",
            "                - WDBC-Benign\n",
            "\n",
            "    :Summary Statistics:\n",
            "\n",
            "    ===================================== ====== ======\n",
            "                                           Min    Max\n",
            "    ===================================== ====== ======\n",
            "    radius (mean):                        6.981  28.11\n",
            "    texture (mean):                       9.71   39.28\n",
            "    perimeter (mean):                     43.79  188.5\n",
            "    area (mean):                          143.5  2501.0\n",
            "    smoothness (mean):                    0.053  0.163\n",
            "    compactness (mean):                   0.019  0.345\n",
            "    concavity (mean):                     0.0    0.427\n",
            "    concave points (mean):                0.0    0.201\n",
            "    symmetry (mean):                      0.106  0.304\n",
            "    fractal dimension (mean):             0.05   0.097\n",
            "    radius (standard error):              0.112  2.873\n",
            "    texture (standard error):             0.36   4.885\n",
            "    perimeter (standard error):           0.757  21.98\n",
            "    area (standard error):                6.802  542.2\n",
            "    smoothness (standard error):          0.002  0.031\n",
            "    compactness (standard error):         0.002  0.135\n",
            "    concavity (standard error):           0.0    0.396\n",
            "    concave points (standard error):      0.0    0.053\n",
            "    symmetry (standard error):            0.008  0.079\n",
            "    fractal dimension (standard error):   0.001  0.03\n",
            "    radius (worst):                       7.93   36.04\n",
            "    texture (worst):                      12.02  49.54\n",
            "    perimeter (worst):                    50.41  251.2\n",
            "    area (worst):                         185.2  4254.0\n",
            "    smoothness (worst):                   0.071  0.223\n",
            "    compactness (worst):                  0.027  1.058\n",
            "    concavity (worst):                    0.0    1.252\n",
            "    concave points (worst):               0.0    0.291\n",
            "    symmetry (worst):                     0.156  0.664\n",
            "    fractal dimension (worst):            0.055  0.208\n",
            "    ===================================== ====== ======\n",
            "\n",
            "    :Missing Attribute Values: None\n",
            "\n",
            "    :Class Distribution: 212 - Malignant, 357 - Benign\n",
            "\n",
            "    :Creator:  Dr. William H. Wolberg, W. Nick Street, Olvi L. Mangasarian\n",
            "\n",
            "    :Donor: Nick Street\n",
            "\n",
            "    :Date: November, 1995\n",
            "\n",
            "This is a copy of UCI ML Breast Cancer Wisconsin (Diagnostic) datasets.\n",
            "https://goo.gl/U2Uwz2\n",
            "\n",
            "Features are computed from a digitized image of a fine needle\n",
            "aspirate (FNA) of a breast mass.  They describe\n",
            "characteristics of the cell nuclei present in the image.\n",
            "\n",
            "Separating plane described above was obtained using\n",
            "Multisurface Method-Tree (MSM-T) [K. P. Bennett, \"Decision Tree\n",
            "Construction Via Linear Programming.\" Proceedings of the 4th\n",
            "Midwest Artificial Intelligence and Cognitive Science Society,\n",
            "pp. 97-101, 1992], a classification method which uses linear\n",
            "programming to construct a decision tree.  Relevant features\n",
            "were selected using an exhaustive search in the space of 1-4\n",
            "features and 1-3 separating planes.\n",
            "\n",
            "The actual linear program used to obtain the separating plane\n",
            "in the 3-dimensional space is that described in:\n",
            "[K. P. Bennett and O. L. Mangasarian: \"Robust Linear\n",
            "Programming Discrimination of Two Linearly Inseparable Sets\",\n",
            "Optimization Methods and Software 1, 1992, 23-34].\n",
            "\n",
            "This database is also available through the UW CS ftp server:\n",
            "\n",
            "ftp ftp.cs.wisc.edu\n",
            "cd math-prog/cpo-dataset/machine-learn/WDBC/\n",
            "\n",
            ".. topic:: References\n",
            "\n",
            "   - W.N. Street, W.H. Wolberg and O.L. Mangasarian. Nuclear feature extraction \n",
            "     for breast tumor diagnosis. IS&T/SPIE 1993 International Symposium on \n",
            "     Electronic Imaging: Science and Technology, volume 1905, pages 861-870,\n",
            "     San Jose, CA, 1993.\n",
            "   - O.L. Mangasarian, W.N. Street and W.H. Wolberg. Breast cancer diagnosis and \n",
            "     prognosis via linear programming. Operations Research, 43(4), pages 570-577, \n",
            "     July-August 1995.\n",
            "   - W.H. Wolberg, W.N. Street, and O.L. Mangasarian. Machine learning techniques\n",
            "     to diagnose breast cancer from fine-needle aspirates. Cancer Letters 77 (1994) \n",
            "     163-171.\n"
          ]
        }
      ]
    },
    {
      "cell_type": "code",
      "source": [
        "X = data.data[:, [0, 6]]\n",
        "y = data.target\n",
        "y[y==0] = -1\n",
        "\n",
        "fig, ax = plt.subplots(1)\n",
        "plot_costs(ax, X[:, 0], X[:, 1], y)\n",
        "plt.xlabel(data.feature_names[0])\n",
        "plt.ylabel(data.feature_names[6])\n",
        "xlim = ax.get_xlim()\n",
        "ylim = ax.get_ylim()\n",
        "plt.show()"
      ],
      "metadata": {
        "colab": {
          "base_uri": "https://localhost:8080/",
          "height": 279
        },
        "id": "asouuagzji0-",
        "outputId": "338c1360-5422-4945-a763-732424421e47"
      },
      "execution_count": 30,
      "outputs": [
        {
          "output_type": "display_data",
          "data": {
            "text/plain": [
              "<Figure size 432x288 with 1 Axes>"
            ],
            "image/png": "[encoded data removed]"
          },
          "metadata": {
            "needs_background": "light"
          }
        }
      ]
    },
    {
      "cell_type": "markdown",
      "source": [
        "Let's train the PLA with 10 sampled data."
      ],
      "metadata": {
        "id": "fYBYkf2ZoB29"
      }
    },
    {
      "cell_type": "code",
      "source": [
        "N = 10\n",
        "sampleIdx = np.random.choice(X.shape[0], N, replace=False)\n",
        "\n",
        "sample_X = X[sampleIdx, :]\n",
        "sample_X = add_one_column(sample_X)\n",
        "\n",
        "sample_y = y[sampleIdx]"
      ],
      "metadata": {
        "id": "co8S9K0RkLiz"
      },
      "execution_count": 31,
      "outputs": []
    },
    {
      "cell_type": "code",
      "source": [
        "weights, success, iters = PLA(sample_X, sample_y, max_iters=5000)\n",
        "print('success =', success)"
      ],
      "metadata": {
        "colab": {
          "base_uri": "https://localhost:8080/"
        },
        "id": "4CFtn80zneb2",
        "outputId": "23fc1c8e-a7a1-46a3-a431-7a5c4d38ffb6"
      },
      "execution_count": 32,
      "outputs": [
        {
          "output_type": "stream",
          "name": "stdout",
          "text": [
            "success = True\n"
          ]
        }
      ]
    },
    {
      "cell_type": "code",
      "source": [
        "fig, ax = plt.subplots(1)\n",
        "plot_costs(ax, sample_X[:, 1], sample_X[:, 2], sample_y)\n",
        "plot_weight_line(ax, weights,\n",
        "                 np.min(sample_X[:, 1]), np.max(sample_X[:, 1]))\n",
        "ax.set_xlim(xlim)\n",
        "ax.set_ylim(ylim)"
      ],
      "metadata": {
        "colab": {
          "base_uri": "https://localhost:8080/",
          "height": 283
        },
        "id": "8Yyyci8UkToO",
        "outputId": "e49b2b89-7921-489a-cfdd-64920d2f3bdc"
      },
      "execution_count": 33,
      "outputs": [
        {
          "output_type": "execute_result",
          "data": {
            "text/plain": [
              "(-0.02134, 0.44814000000000004)"
            ]
          },
          "metadata": {},
          "execution_count": 33
        },
        {
          "output_type": "display_data",
          "data": {
            "text/plain": [
              "<Figure size 432x288 with 1 Axes>"
            ],
            "image/png": "[encoded data removed]"
          },
          "metadata": {
            "needs_background": "light"
          }
        }
      ]
    },
    {
      "cell_type": "markdown",
      "source": [
        "The `inSampleError` (training error) is 0, which is perfect. But `outSampleError` is not, which means that the gernalized performance is poor."
      ],
      "metadata": {
        "id": "vuAMC87yogJB"
      }
    },
    {
      "cell_type": "code",
      "source": [
        "pred_sample_y = perceptron(weights, sample_X)\n",
        "inSampleError = 1 - accuracy_score(sample_y, pred_sample_y)\n",
        "print('in sample error: %.4f'%inSampleError)\n",
        "\n",
        "pred_y = perceptron(weights, add_one_column(X))\n",
        "outOfSampleError = 1 - accuracy_score(y, pred_y)\n",
        "\n",
        "print('out of sample error: %.4f'%outOfSampleError)"
      ],
      "metadata": {
        "colab": {
          "base_uri": "https://localhost:8080/"
        },
        "id": "tVsqyZ3lkWfC",
        "outputId": "8c249ca8-b163-4d47-9bbb-5befba9bf011"
      },
      "execution_count": 34,
      "outputs": [
        {
          "output_type": "stream",
          "name": "stdout",
          "text": [
            "in sample error: 0.0000\n",
            "out of sample error: 0.1037\n"
          ]
        }
      ]
    },
    {
      "cell_type": "markdown",
      "source": [
        "Then let's acquire more data and train the Perceptron."
      ],
      "metadata": {
        "id": "vFkYTiUCpBm2"
      }
    },
    {
      "cell_type": "code",
      "source": [
        "N = 250\n",
        "sampleIdx = np.random.choice(X.shape[0], N, replace=False)\n",
        "\n",
        "sample_X = X[sampleIdx, :]\n",
        "sample_X = add_one_column(sample_X)\n",
        "\n",
        "sample_y = y[sampleIdx]"
      ],
      "metadata": {
        "id": "xwpSo8ELlFqX"
      },
      "execution_count": 35,
      "outputs": []
    },
    {
      "cell_type": "code",
      "source": [
        "weights, success, iters = PLA(sample_X, sample_y,\n",
        "                              max_iters=50000, learningRate=0.05)\n",
        "print('success =', success)"
      ],
      "metadata": {
        "colab": {
          "base_uri": "https://localhost:8080/"
        },
        "id": "uA_NAyQgo0-A",
        "outputId": "67597e1b-66b1-44e5-cb7f-346e99bbbf6b"
      },
      "execution_count": 36,
      "outputs": [
        {
          "output_type": "stream",
          "name": "stdout",
          "text": [
            "success = False\n"
          ]
        }
      ]
    },
    {
      "cell_type": "code",
      "source": [
        "fig, ax = plt.subplots(1)\n",
        "plot_costs(ax, sample_X[:, 1], sample_X[:, 2], sample_y)\n",
        "plot_weight_line(ax, weights, np.min(sample_X[:, 1]), np.max(sample_X[:, 1]))\n",
        "ax.set_xlim(xlim)\n",
        "ax.set_ylim(ylim)\n",
        "plt.show()"
      ],
      "metadata": {
        "colab": {
          "base_uri": "https://localhost:8080/",
          "height": 265
        },
        "id": "5sGi-HYZlWAK",
        "outputId": "5c0d9b13-0283-4df4-ebd0-f965ceb4c62d"
      },
      "execution_count": 37,
      "outputs": [
        {
          "output_type": "display_data",
          "data": {
            "text/plain": [
              "<Figure size 432x288 with 1 Axes>"
            ],
            "image/png": "[encoded data removed]"
          },
          "metadata": {
            "needs_background": "light"
          }
        }
      ]
    },
    {
      "cell_type": "markdown",
      "source": [
        "Though `inSampleError` has been increased, `outSampleError` has decreased."
      ],
      "metadata": {
        "id": "7HaARytfpSvF"
      }
    },
    {
      "cell_type": "code",
      "source": [
        "pred_sample_y = perceptron(weights, sample_X)\n",
        "inSampleError = 1 - accuracy_score(sample_y, pred_sample_y)\n",
        "print('in sample error: %.4f'%inSampleError)\n",
        "\n",
        "pred_y = perceptron(weights, add_one_column(X))\n",
        "outOfSampleError = 1 - accuracy_score(y, pred_y)\n",
        "\n",
        "print('out of sample error: %.4f'%outOfSampleError)"
      ],
      "metadata": {
        "colab": {
          "base_uri": "https://localhost:8080/"
        },
        "id": "TkQxBHCxlL4r",
        "outputId": "5e3e26da-e25d-4783-bc74-687e8431e5e4"
      },
      "execution_count": 38,
      "outputs": [
        {
          "output_type": "stream",
          "name": "stdout",
          "text": [
            "in sample error: 0.1080\n",
            "out of sample error: 0.0896\n"
          ]
        }
      ]
    },
    {
      "cell_type": "markdown",
      "source": [
        "Now we have shown that the data can boost `generalization` performance of model which was claimed by Hoeffiding Inequality. \n",
        "\n",
        "How about `approximation`? It will be cover effect we learn more complex models.\n",
        "\n",
        "Can PLA can considers user specified `error`?"
      ],
      "metadata": {
        "id": "GNy8rco3qZnH"
      }
    }
  ],
  "metadata": {
    "kernelspec": {
      "display_name": "Python 3",
      "language": "python",
      "name": "python3"
    },
    "language_info": {
      "codemirror_mode": {
        "name": "ipython",
        "version": 3
      },
      "file_extension": ".py",
      "mimetype": "text/x-python",
      "name": "python",
      "nbconvert_exporter": "python",
      "pygments_lexer": "ipython3",
      "version": "3.4.3"
    },
    "colab": {
      "name": "lab1.ipynb의 사본",
      "provenance": [],
      "collapsed_sections": [],
      "include_colab_link": true
    }
  },
  "nbformat": 4,
  "nbformat_minor": 0
}