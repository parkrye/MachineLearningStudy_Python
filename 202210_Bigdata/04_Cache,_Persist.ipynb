{
  "cells": [
    {
      "cell_type": "markdown",
      "metadata": {
        "id": "view-in-github",
        "colab_type": "text"
      },
      "source": [
        "<a href=\"https://colab.research.google.com/github/parkrye/Python/blob/main/202210_Bigdata/04_Cache%2C_Persist.ipynb\" target=\"_parent\"><img src=\"https://colab.research.google.com/assets/colab-badge.svg\" alt=\"Open In Colab\"/></a>"
      ]
    },
    {
      "cell_type": "code",
      "execution_count": null,
      "id": "f2a1dec0",
      "metadata": {
        "id": "f2a1dec0"
      },
      "outputs": [],
      "source": [
        "from pyspark import SparkConf, SparkContext\n",
        "\n",
        "conf = SparkConf().setMaster(\"local\").setAppName(\"restaurant-review-average\")\n",
        "sc   = SparkContext(conf=conf)"
      ]
    },
    {
      "cell_type": "code",
      "execution_count": null,
      "id": "28ff7820",
      "metadata": {
        "id": "28ff7820"
      },
      "outputs": [],
      "source": [
        "directory = \"C:\\\\Users\\\\mhso_lec\\\\study_notebook\\\\data\"\n",
        "filename  = \"restaurant_reviews.csv\""
      ]
    },
    {
      "cell_type": "code",
      "execution_count": null,
      "id": "dc62b6f9",
      "metadata": {
        "id": "dc62b6f9"
      },
      "outputs": [],
      "source": [
        "lines = sc.textFile(f\"file:///{directory}\\\\{filename}\")"
      ]
    },
    {
      "cell_type": "code",
      "execution_count": null,
      "id": "cac18d2a",
      "metadata": {
        "id": "cac18d2a",
        "outputId": "d15630fe-cc38-4760-c532-79f2efa176a8"
      },
      "outputs": [
        {
          "data": {
            "text/plain": [
              "['id,item,cateogry,reviews,',\n",
              " '0,짜장면,중식,125,',\n",
              " '1,짬뽕,중식,235,',\n",
              " '2,김밥,분식,32,',\n",
              " '3,떡볶이,분식,534,',\n",
              " '4,라멘,일식,223,',\n",
              " '5,돈가스,일식,52,',\n",
              " '6,우동,일식,12,',\n",
              " '7,쌀국수,아시안,312,',\n",
              " '8,햄버거,패스트푸드,12,',\n",
              " '9,치킨,패스트푸드,23']"
            ]
          },
          "execution_count": 4,
          "metadata": {},
          "output_type": "execute_result"
        }
      ],
      "source": [
        "lines.collect()"
      ]
    },
    {
      "cell_type": "code",
      "execution_count": null,
      "id": "93be6ad7",
      "metadata": {
        "id": "93be6ad7",
        "outputId": "10e3a2c0-ef92-4636-c2eb-567f7239fd11"
      },
      "outputs": [
        {
          "data": {
            "text/plain": [
              "['0,짜장면,중식,125,',\n",
              " '1,짬뽕,중식,235,',\n",
              " '2,김밥,분식,32,',\n",
              " '3,떡볶이,분식,534,',\n",
              " '4,라멘,일식,223,',\n",
              " '5,돈가스,일식,52,',\n",
              " '6,우동,일식,12,',\n",
              " '7,쌀국수,아시안,312,',\n",
              " '8,햄버거,패스트푸드,12,',\n",
              " '9,치킨,패스트푸드,23']"
            ]
          },
          "execution_count": 5,
          "metadata": {},
          "output_type": "execute_result"
        }
      ],
      "source": [
        "header = lines.first()\n",
        "filtered_lines = lines.filter(lambda row : row != header)\n",
        "filtered_lines.collect()"
      ]
    },
    {
      "cell_type": "code",
      "execution_count": null,
      "id": "eea10f89",
      "metadata": {
        "id": "eea10f89"
      },
      "outputs": [],
      "source": [
        "def parse(row):\n",
        "    \n",
        "    fields = row.split(\",\")\n",
        "    category = fields[2]\n",
        "    reviews  = int(fields[3])\n",
        "    \n",
        "    return category, reviews"
      ]
    },
    {
      "cell_type": "markdown",
      "id": "fd52efc6",
      "metadata": {
        "id": "fd52efc6"
      },
      "source": [
        "# `persist`를 사용하지 않는 경우"
      ]
    },
    {
      "cell_type": "code",
      "execution_count": null,
      "id": "49102aec",
      "metadata": {
        "id": "49102aec",
        "outputId": "cd5c7ffd-7d0c-46fc-ffb2-a53eb0ecc845"
      },
      "outputs": [
        {
          "data": {
            "text/plain": [
              "[('중식', 125),\n",
              " ('중식', 235),\n",
              " ('분식', 32),\n",
              " ('분식', 534),\n",
              " ('일식', 223),\n",
              " ('일식', 52),\n",
              " ('일식', 12),\n",
              " ('아시안', 312),\n",
              " ('패스트푸드', 12),\n",
              " ('패스트푸드', 23)]"
            ]
          },
          "execution_count": 7,
          "metadata": {},
          "output_type": "execute_result"
        }
      ],
      "source": [
        "# transformations를 수행할 RDD 생성\n",
        "categoryReviews = filtered_lines.map(parse)\n",
        "categoryReviews.collect()"
      ]
    },
    {
      "cell_type": "code",
      "execution_count": null,
      "id": "5d93b60b",
      "metadata": {
        "id": "5d93b60b"
      },
      "outputs": [],
      "source": [
        "result1 = categoryReviews.take(10) # action을 곧바로 실행\n",
        "result2 = categoryReviews.mapValues(lambda x : (x, 1)).collect()"
      ]
    },
    {
      "cell_type": "code",
      "execution_count": null,
      "id": "ed98a66f",
      "metadata": {
        "id": "ed98a66f",
        "outputId": "eb8ed48d-3fe4-41d4-ac76-4f8a12a3dd69"
      },
      "outputs": [
        {
          "data": {
            "text/plain": [
              "([('중식', 125),\n",
              "  ('중식', 235),\n",
              "  ('분식', 32),\n",
              "  ('분식', 534),\n",
              "  ('일식', 223),\n",
              "  ('일식', 52),\n",
              "  ('일식', 12),\n",
              "  ('아시안', 312),\n",
              "  ('패스트푸드', 12),\n",
              "  ('패스트푸드', 23)],\n",
              " [('중식', (125, 1)),\n",
              "  ('중식', (235, 1)),\n",
              "  ('분식', (32, 1)),\n",
              "  ('분식', (534, 1)),\n",
              "  ('일식', (223, 1)),\n",
              "  ('일식', (52, 1)),\n",
              "  ('일식', (12, 1)),\n",
              "  ('아시안', (312, 1)),\n",
              "  ('패스트푸드', (12, 1)),\n",
              "  ('패스트푸드', (23, 1))])"
            ]
          },
          "execution_count": 9,
          "metadata": {},
          "output_type": "execute_result"
        }
      ],
      "source": [
        "result1, result2"
      ]
    },
    {
      "cell_type": "markdown",
      "id": "00734563",
      "metadata": {
        "id": "00734563"
      },
      "source": [
        "`categoryReivews`는 `result1`, `result2`를 만들면서 2번 만들어 집니다. `categoryReviews`에서 데이터를 꺼내오기만 하면 되지, 변경은 일어나지 않기 때문에 `persist`를 이용해서 `categoryReviews`를 메모리에 넣어 놓는 것이 더 좋아 보입니다."
      ]
    },
    {
      "cell_type": "markdown",
      "id": "0eaf38f1",
      "metadata": {
        "id": "0eaf38f1"
      },
      "source": [
        "# `persist`를 사용하는 경우"
      ]
    },
    {
      "cell_type": "code",
      "execution_count": null,
      "id": "fc3c97d1",
      "metadata": {
        "id": "fc3c97d1",
        "outputId": "c88e1b4b-16f3-4ad7-ee6c-53f6ec7ab1b6"
      },
      "outputs": [
        {
          "data": {
            "text/plain": [
              "PythonRDD[7] at RDD at PythonRDD.scala:53"
            ]
          },
          "execution_count": 10,
          "metadata": {},
          "output_type": "execute_result"
        }
      ],
      "source": [
        "categoryReviews = filtered_lines.map(parse).persist() # categoryReviews RDD는 하나만 존재하는 RDD\n",
        "categoryReviews"
      ]
    },
    {
      "cell_type": "code",
      "execution_count": null,
      "id": "6b75f8c6",
      "metadata": {
        "id": "6b75f8c6"
      },
      "outputs": [],
      "source": [
        "result1 = categoryReviews.take(10)\n",
        "result2 = categoryReviews.mapValues(lambda x : (x, 1)).collect()"
      ]
    },
    {
      "cell_type": "code",
      "execution_count": null,
      "id": "a1c380fe",
      "metadata": {
        "id": "a1c380fe"
      },
      "outputs": [],
      "source": [
        "sc.stop()"
      ]
    }
  ],
  "metadata": {
    "kernelspec": {
      "display_name": "Python 3 (ipykernel)",
      "language": "python",
      "name": "python3"
    },
    "language_info": {
      "codemirror_mode": {
        "name": "ipython",
        "version": 3
      },
      "file_extension": ".py",
      "mimetype": "text/x-python",
      "name": "python",
      "nbconvert_exporter": "python",
      "pygments_lexer": "ipython3",
      "version": "3.9.7"
    },
    "colab": {
      "provenance": [],
      "include_colab_link": true
    }
  },
  "nbformat": 4,
  "nbformat_minor": 5
}