{
  "cells": [
    {
      "cell_type": "markdown",
      "metadata": {
        "id": "view-in-github",
        "colab_type": "text"
      },
      "source": [
        "<a href=\"https://colab.research.google.com/github/parkrye/Python/blob/main/202210_Bigdata/12_%ED%83%9D%EC%8B%9C%EB%B9%84_%EC%98%88%EC%B8%A1%ED%95%98%EA%B8%B0.ipynb\" target=\"_parent\"><img src=\"https://colab.research.google.com/assets/colab-badge.svg\" alt=\"Open In Colab\"/></a>"
      ]
    },
    {
      "cell_type": "code",
      "execution_count": null,
      "id": "4e123653",
      "metadata": {
        "id": "4e123653"
      },
      "outputs": [],
      "source": [
        "from pyspark.sql import SparkSession\n",
        "\n",
        "MAX_MEMORY=\"5g\"\n",
        "spark = SparkSession.builder.appName(\"taxi-fare-prediciton\")\\\n",
        "                .config(\"spark.executor.memory\", MAX_MEMORY)\\\n",
        "                .config(\"spark.driver.memory\", MAX_MEMORY)\\\n",
        "                .getOrCreate()"
      ]
    },
    {
      "cell_type": "code",
      "execution_count": null,
      "id": "9dea397a",
      "metadata": {
        "id": "9dea397a"
      },
      "outputs": [],
      "source": [
        "directory=\"C:\\\\Users\\\\mhso_lec\\\\study_notebook\\\\data\"\n",
        "trip_files = \"\\\\trips\\\\*\""
      ]
    },
    {
      "cell_type": "code",
      "execution_count": null,
      "id": "825b57b1",
      "metadata": {
        "id": "825b57b1",
        "outputId": "f952f7f8-c976-4244-b2fc-07bca1edb451"
      },
      "outputs": [
        {
          "name": "stdout",
          "output_type": "stream",
          "text": [
            "root\n",
            " |-- VendorID: integer (nullable = true)\n",
            " |-- tpep_pickup_datetime: string (nullable = true)\n",
            " |-- tpep_dropoff_datetime: string (nullable = true)\n",
            " |-- passenger_count: integer (nullable = true)\n",
            " |-- trip_distance: double (nullable = true)\n",
            " |-- RatecodeID: integer (nullable = true)\n",
            " |-- store_and_fwd_flag: string (nullable = true)\n",
            " |-- PULocationID: integer (nullable = true)\n",
            " |-- DOLocationID: integer (nullable = true)\n",
            " |-- payment_type: integer (nullable = true)\n",
            " |-- fare_amount: double (nullable = true)\n",
            " |-- extra: double (nullable = true)\n",
            " |-- mta_tax: double (nullable = true)\n",
            " |-- tip_amount: double (nullable = true)\n",
            " |-- tolls_amount: double (nullable = true)\n",
            " |-- improvement_surcharge: double (nullable = true)\n",
            " |-- total_amount: double (nullable = true)\n",
            " |-- congestion_surcharge: double (nullable = true)\n",
            "\n"
          ]
        }
      ],
      "source": [
        "trips_df = spark.read.csv(f\"file:///{directory}\\\\{trip_files}\", inferSchema=True, header=True)\n",
        "trips_df.printSchema()"
      ]
    },
    {
      "cell_type": "code",
      "execution_count": null,
      "id": "867b2bc1",
      "metadata": {
        "id": "867b2bc1"
      },
      "outputs": [],
      "source": [
        "trips_df.createOrReplaceTempView(\"trips\")"
      ]
    },
    {
      "cell_type": "markdown",
      "id": "d38ee051",
      "metadata": {
        "id": "d38ee051"
      },
      "source": [
        "운행 거리(`trip distance`)에 따른 요금(`total amount`)를 예측하는 회귀 모델을 생성"
      ]
    },
    {
      "cell_type": "code",
      "execution_count": null,
      "id": "6ecd7091",
      "metadata": {
        "id": "6ecd7091"
      },
      "outputs": [],
      "source": [
        "query = \"\"\"\n",
        "SELECT\n",
        "    trip_distance,\n",
        "    total_amount\n",
        "FROM trips\n",
        "\n",
        "WHERE total_amount < 5000\n",
        "  AND total_amount > 0\n",
        "  AND trip_distance > 0\n",
        "  AND trip_distance < 500\n",
        "  AND passenger_count < 4\n",
        "  AND TO_DATE(tpep_pickup_datetime) >= \"2021-01-01\"\n",
        "  AND TO_DATE(tpep_pickup_datetime) < \"2021-08-01\"\n",
        "\"\"\"\n",
        "\n",
        "data_df = spark.sql(query)\n",
        "data_df.createOrReplaceTempView(\"data\")"
      ]
    },
    {
      "cell_type": "code",
      "execution_count": null,
      "id": "f4284205",
      "metadata": {
        "id": "f4284205",
        "outputId": "39f00023-36eb-4e6d-e7b8-883b11ce1fdc"
      },
      "outputs": [
        {
          "name": "stdout",
          "output_type": "stream",
          "text": [
            "+-------------+------------+\n",
            "|trip_distance|total_amount|\n",
            "+-------------+------------+\n",
            "|          2.1|        11.8|\n",
            "|          0.2|         4.3|\n",
            "|         14.7|       51.95|\n",
            "|         10.6|       36.35|\n",
            "|         4.94|       24.36|\n",
            "+-------------+------------+\n",
            "only showing top 5 rows\n",
            "\n"
          ]
        }
      ],
      "source": [
        "data_df.show(5)"
      ]
    },
    {
      "cell_type": "markdown",
      "id": "485763eb",
      "metadata": {
        "id": "485763eb"
      },
      "source": [
        "**train / test split**"
      ]
    },
    {
      "cell_type": "code",
      "execution_count": null,
      "id": "f8c1e020",
      "metadata": {
        "id": "f8c1e020"
      },
      "outputs": [],
      "source": [
        "train_df, test_df = data_df.randomSplit([0.8, 0.2], seed=1)"
      ]
    },
    {
      "cell_type": "code",
      "execution_count": null,
      "id": "6fe54a32",
      "metadata": {
        "id": "6fe54a32",
        "outputId": "d006601b-f286-4a37-ec2b-9925e04fd2c0"
      },
      "outputs": [
        {
          "data": {
            "text/plain": [
              "(10499160, 2626880)"
            ]
          },
          "execution_count": 9,
          "metadata": {},
          "output_type": "execute_result"
        }
      ],
      "source": [
        "train_df.count(), test_df.count()"
      ]
    },
    {
      "cell_type": "markdown",
      "id": "ee515f03",
      "metadata": {
        "id": "ee515f03"
      },
      "source": [
        "`feature`는 `vector` 형태로 존재해야 하기 때문에 1차원 배열로 만들어 주는 `VectorAssembler` 사용"
      ]
    },
    {
      "cell_type": "code",
      "execution_count": null,
      "id": "62860d05",
      "metadata": {
        "id": "62860d05",
        "outputId": "6ef3a740-d1d5-4f11-ee7a-a59f394c1c7a"
      },
      "outputs": [
        {
          "name": "stdout",
          "output_type": "stream",
          "text": [
            "+-------------+------------+--------+\n",
            "|trip_distance|total_amount|features|\n",
            "+-------------+------------+--------+\n",
            "|         0.01|         3.3|  [0.01]|\n",
            "|         0.01|         3.3|  [0.01]|\n",
            "|         0.01|         3.3|  [0.01]|\n",
            "|         0.01|         3.3|  [0.01]|\n",
            "|         0.01|         3.3|  [0.01]|\n",
            "|         0.01|         3.3|  [0.01]|\n",
            "|         0.01|         3.3|  [0.01]|\n",
            "|         0.01|         3.3|  [0.01]|\n",
            "|         0.01|         3.3|  [0.01]|\n",
            "|         0.01|         3.3|  [0.01]|\n",
            "|         0.01|         3.3|  [0.01]|\n",
            "|         0.01|         3.3|  [0.01]|\n",
            "|         0.01|         3.3|  [0.01]|\n",
            "|         0.01|         3.3|  [0.01]|\n",
            "|         0.01|         3.3|  [0.01]|\n",
            "|         0.01|         3.3|  [0.01]|\n",
            "|         0.01|         3.3|  [0.01]|\n",
            "|         0.01|         3.3|  [0.01]|\n",
            "|         0.01|         3.3|  [0.01]|\n",
            "|         0.01|         3.3|  [0.01]|\n",
            "+-------------+------------+--------+\n",
            "only showing top 20 rows\n",
            "\n"
          ]
        }
      ],
      "source": [
        "from pyspark.ml.feature import VectorAssembler\n",
        "\n",
        "\n",
        "# inputCols에 지정된 컬럼의 데이터들을 1차원 배열 형식으로 묶어서\n",
        "# outputCol에 지정된 컬럼의 이름으로 새로운 컬럼을 생성\n",
        "vassembler = VectorAssembler(inputCols=[\"trip_distance\"], outputCol=\"features\")\n",
        "vtrain_df  = vassembler.transform(train_df)\n",
        "\n",
        "vtrain_df.show()"
      ]
    },
    {
      "cell_type": "markdown",
      "id": "72cfff27",
      "metadata": {
        "id": "72cfff27"
      },
      "source": [
        "**모델 생성 및 훈련**"
      ]
    },
    {
      "cell_type": "code",
      "execution_count": null,
      "id": "7ead215e",
      "metadata": {
        "id": "7ead215e"
      },
      "outputs": [],
      "source": [
        "from pyspark.ml.regression import LinearRegression"
      ]
    },
    {
      "cell_type": "code",
      "execution_count": null,
      "id": "4159de50",
      "metadata": {
        "id": "4159de50"
      },
      "outputs": [],
      "source": [
        "lr = LinearRegression(\n",
        "    maxIter=50,\n",
        "    labelCol = \"total_amount\",\n",
        "    featuresCol = \"features\"\n",
        ")"
      ]
    },
    {
      "cell_type": "code",
      "execution_count": null,
      "id": "e6c1c576",
      "metadata": {
        "id": "e6c1c576"
      },
      "outputs": [],
      "source": [
        "model = lr.fit(vtrain_df)"
      ]
    },
    {
      "cell_type": "code",
      "execution_count": null,
      "id": "0cd480b7",
      "metadata": {
        "id": "0cd480b7",
        "outputId": "f7dceaa8-9552-4466-c36f-ca0d659e8c4d"
      },
      "outputs": [
        {
          "name": "stdout",
          "output_type": "stream",
          "text": [
            "+-------------+------------+--------+\n",
            "|trip_distance|total_amount|features|\n",
            "+-------------+------------+--------+\n",
            "|         0.01|         3.3|  [0.01]|\n",
            "|         0.01|         3.3|  [0.01]|\n",
            "|         0.01|         3.3|  [0.01]|\n",
            "|         0.01|         3.3|  [0.01]|\n",
            "|         0.01|         3.3|  [0.01]|\n",
            "+-------------+------------+--------+\n",
            "only showing top 5 rows\n",
            "\n"
          ]
        }
      ],
      "source": [
        "# 테스트 데이터도 vector assemble 형식으로 변환.\n",
        "#  테스트 데이터 세트를 위해서 Transformer를 새로 마세요!!! 반드시 훈련 데이터 세트에서 사용했던 Transformer를 사용\n",
        "vtest_df = vassembler.transform(test_df)\n",
        "vtest_df.show(5)"
      ]
    },
    {
      "cell_type": "code",
      "execution_count": null,
      "id": "420c5b23",
      "metadata": {
        "id": "420c5b23",
        "outputId": "0e3019b4-b5b1-45d1-e2b1-f5626d02f9f2"
      },
      "outputs": [
        {
          "name": "stdout",
          "output_type": "stream",
          "text": [
            "+-------------+------------+--------+-----------------+\n",
            "|trip_distance|total_amount|features|       prediction|\n",
            "+-------------+------------+--------+-----------------+\n",
            "|         0.01|         3.3|  [0.01]|9.365820268418798|\n",
            "|         0.01|         3.3|  [0.01]|9.365820268418798|\n",
            "|         0.01|         3.3|  [0.01]|9.365820268418798|\n",
            "|         0.01|         3.3|  [0.01]|9.365820268418798|\n",
            "|         0.01|         3.3|  [0.01]|9.365820268418798|\n",
            "|         0.01|         3.3|  [0.01]|9.365820268418798|\n",
            "|         0.01|         3.3|  [0.01]|9.365820268418798|\n",
            "|         0.01|         3.3|  [0.01]|9.365820268418798|\n",
            "|         0.01|         3.3|  [0.01]|9.365820268418798|\n",
            "|         0.01|         3.3|  [0.01]|9.365820268418798|\n",
            "|         0.01|         3.8|  [0.01]|9.365820268418798|\n",
            "|         0.01|         3.8|  [0.01]|9.365820268418798|\n",
            "|         0.01|         3.8|  [0.01]|9.365820268418798|\n",
            "|         0.01|         3.8|  [0.01]|9.365820268418798|\n",
            "|         0.01|         3.8|  [0.01]|9.365820268418798|\n",
            "|         0.01|         3.8|  [0.01]|9.365820268418798|\n",
            "|         0.01|         4.3|  [0.01]|9.365820268418798|\n",
            "|         0.01|         4.3|  [0.01]|9.365820268418798|\n",
            "|         0.01|         4.3|  [0.01]|9.365820268418798|\n",
            "|         0.01|         4.3|  [0.01]|9.365820268418798|\n",
            "+-------------+------------+--------+-----------------+\n",
            "only showing top 20 rows\n",
            "\n"
          ]
        }
      ],
      "source": [
        "predictions = model.transform(vtest_df)\n",
        "predictions.show()"
      ]
    },
    {
      "cell_type": "code",
      "execution_count": null,
      "id": "383e7c65",
      "metadata": {
        "id": "383e7c65",
        "outputId": "31e6d280-329a-470c-a38e-12460d613681"
      },
      "outputs": [
        {
          "data": {
            "text/plain": [
              "6.229850179738432"
            ]
          },
          "execution_count": 16,
          "metadata": {},
          "output_type": "execute_result"
        }
      ],
      "source": [
        "# RMSE\n",
        "model.summary.rootMeanSquaredError"
      ]
    },
    {
      "cell_type": "code",
      "execution_count": null,
      "id": "0998ad4c",
      "metadata": {
        "id": "0998ad4c",
        "outputId": "521ca250-5226-47ba-a77b-e73cf4a3f1fb"
      },
      "outputs": [
        {
          "data": {
            "text/plain": [
              "0.77055628637138"
            ]
          },
          "execution_count": 17,
          "metadata": {},
          "output_type": "execute_result"
        }
      ],
      "source": [
        "# R^2\n",
        "model.summary.r2"
      ]
    },
    {
      "cell_type": "markdown",
      "id": "caf9ccd8",
      "metadata": {
        "id": "caf9ccd8"
      },
      "source": [
        "**실제 데이터를 만들어서 예측**"
      ]
    },
    {
      "cell_type": "code",
      "execution_count": null,
      "id": "02a35eb4",
      "metadata": {
        "id": "02a35eb4",
        "outputId": "0b29f0c1-baf3-4f1a-e5d0-404dda616028"
      },
      "outputs": [
        {
          "name": "stdout",
          "output_type": "stream",
          "text": [
            "+-------------+\n",
            "|trip_distance|\n",
            "+-------------+\n",
            "|          1.1|\n",
            "|          5.5|\n",
            "|         10.5|\n",
            "|          3.0|\n",
            "+-------------+\n",
            "\n"
          ]
        }
      ],
      "source": [
        "from pyspark.sql.types import DoubleType\n",
        "distance_list = [1.1, 5.5, 10.5, 3.0]\n",
        "distance_df   = spark.createDataFrame(distance_list, DoubleType()).toDF(\"trip_distance\")\n",
        "\n",
        "distance_df.show(5)"
      ]
    },
    {
      "cell_type": "code",
      "execution_count": null,
      "id": "2275d104",
      "metadata": {
        "id": "2275d104",
        "outputId": "49587ce9-42ba-4a11-ff4e-c9fbdccd948c"
      },
      "outputs": [
        {
          "name": "stdout",
          "output_type": "stream",
          "text": [
            "+-------------+--------+\n",
            "|trip_distance|features|\n",
            "+-------------+--------+\n",
            "|          1.1|   [1.1]|\n",
            "|          5.5|   [5.5]|\n",
            "|         10.5|  [10.5]|\n",
            "|          3.0|   [3.0]|\n",
            "+-------------+--------+\n",
            "\n"
          ]
        }
      ],
      "source": [
        "vdistance_df = vassembler.transform(distance_df)\n",
        "vdistance_df.show()"
      ]
    },
    {
      "cell_type": "code",
      "execution_count": null,
      "id": "5f3bef97",
      "metadata": {
        "id": "5f3bef97",
        "outputId": "4146c153-52d8-4376-df64-4a899e65b3ac"
      },
      "outputs": [
        {
          "name": "stdout",
          "output_type": "stream",
          "text": [
            "+-------------+--------+------------------+\n",
            "|trip_distance|features|        prediction|\n",
            "+-------------+--------+------------------+\n",
            "|          1.1|   [1.1]|12.633147289165791|\n",
            "|          5.5|   [5.5]|25.822357281172003|\n",
            "|         10.5|  [10.5]| 40.81009590845179|\n",
            "|          3.0|   [3.0]|18.328487967532112|\n",
            "+-------------+--------+------------------+\n",
            "\n"
          ]
        }
      ],
      "source": [
        "model.transform(vdistance_df).show()"
      ]
    },
    {
      "cell_type": "markdown",
      "id": "73731aaf",
      "metadata": {
        "id": "73731aaf"
      },
      "source": [
        "# 두 번째 모델\n",
        "- feature를 늘려서 예측"
      ]
    },
    {
      "cell_type": "code",
      "execution_count": null,
      "id": "990b470c",
      "metadata": {
        "id": "990b470c"
      },
      "outputs": [],
      "source": [
        "query = \"\"\"\n",
        "SELECT \n",
        "    passenger_count,\n",
        "    PULocationID as pickup_location_id,\n",
        "    DOLocationID as dropoff_location_id,\n",
        "    trip_distance,\n",
        "    HOUR(tpep_pickup_datetime) as pickup_time,\n",
        "    DATE_FORMAT(TO_DATE(tpep_pickup_datetime), 'EEEE') AS day_of_week,\n",
        "    total_amount\n",
        "FROM\n",
        "    trips\n",
        "WHERE\n",
        "    total_amount < 5000\n",
        "    AND total_amount > 0\n",
        "    AND trip_distance > 0\n",
        "    AND trip_distance < 500\n",
        "    AND passenger_count < 4\n",
        "    AND TO_DATE(tpep_pickup_datetime) >= '2021-01-01'\n",
        "    AND TO_DATE(tpep_pickup_datetime) < '2021-08-01'\n",
        "\"\"\"\n",
        "\n",
        "data_df = spark.sql(query)\n",
        "data_df.createOrReplaceTempView(\"data\")"
      ]
    },
    {
      "cell_type": "code",
      "execution_count": null,
      "id": "19167b46",
      "metadata": {
        "id": "19167b46",
        "outputId": "feee1aae-ec9b-488d-bac2-cb2a8f1ca585"
      },
      "outputs": [
        {
          "name": "stdout",
          "output_type": "stream",
          "text": [
            "+---------------+------------------+-------------------+-------------+-----------+-----------+------------+\n",
            "|passenger_count|pickup_location_id|dropoff_location_id|trip_distance|pickup_time|day_of_week|total_amount|\n",
            "+---------------+------------------+-------------------+-------------+-----------+-----------+------------+\n",
            "|              1|               142|                 43|          2.1|          0|     Friday|        11.8|\n",
            "|              1|               238|                151|          0.2|          0|     Friday|         4.3|\n",
            "|              1|               132|                165|         14.7|          0|     Friday|       51.95|\n",
            "|              0|               138|                132|         10.6|          0|     Friday|       36.35|\n",
            "|              1|                68|                 33|         4.94|          0|     Friday|       24.36|\n",
            "+---------------+------------------+-------------------+-------------+-----------+-----------+------------+\n",
            "only showing top 5 rows\n",
            "\n"
          ]
        }
      ],
      "source": [
        "data_df.show(5)"
      ]
    },
    {
      "cell_type": "code",
      "execution_count": null,
      "id": "9b02dbfa",
      "metadata": {
        "id": "9b02dbfa"
      },
      "outputs": [],
      "source": [
        "train_df, test_df = data_df.randomSplit([0.8, 0.2], seed=1)"
      ]
    },
    {
      "cell_type": "markdown",
      "id": "0f7394c5",
      "metadata": {
        "id": "0f7394c5"
      },
      "source": [
        "## 파이프라인 생성\n",
        "- pipeline에 넣을 과정(`stage`)을 하나 씩 모아 놓기"
      ]
    },
    {
      "cell_type": "code",
      "execution_count": null,
      "id": "bf507328",
      "metadata": {
        "id": "bf507328"
      },
      "outputs": [],
      "source": [
        "stages = []"
      ]
    },
    {
      "cell_type": "markdown",
      "id": "b43e23ad",
      "metadata": {
        "id": "b43e23ad"
      },
      "source": [
        "`One Hot Encode` stage\n",
        "- `pickup_location_id`\n",
        "- `dropoff_location_id`\n",
        "- `day_of_week`\n",
        "\n",
        "위 세 `feature`는 범주형 (category)"
      ]
    },
    {
      "cell_type": "code",
      "execution_count": null,
      "id": "706d3707",
      "metadata": {
        "id": "706d3707",
        "outputId": "53bc80f1-f02c-4daa-9ad5-f5f4f5f2c6f8"
      },
      "outputs": [
        {
          "data": {
            "text/plain": [
              "[StringIndexer_d84f555fe9ed,\n",
              " OneHotEncoder_693a6166fec5,\n",
              " StringIndexer_0f04a5fc9fc1,\n",
              " OneHotEncoder_a56c6b6dc774,\n",
              " StringIndexer_c452e9fb7272,\n",
              " OneHotEncoder_ed5e1f315d8a]"
            ]
          },
          "execution_count": 25,
          "metadata": {},
          "output_type": "execute_result"
        }
      ],
      "source": [
        "# StringIndexer : String 값을 Integer로 바꿔준다.\n",
        "# OneHotEncoder : StringIndexer에 의해 정수가 된 값을 OneHotEncoding을 시켜준다.\n",
        "\n",
        "from pyspark.ml.feature import OneHotEncoder, StringIndexer\n",
        "\n",
        "# OHE 할 컬럼 지정\n",
        "cat_features = [\n",
        "    \"pickup_location_id\",\n",
        "    \"dropoff_location_id\",\n",
        "    \"day_of_week\"\n",
        "]\n",
        "\n",
        "for c in cat_features:\n",
        "    cat_indexer = StringIndexer(inputCol=c, outputCol=c+\"_idx\").setHandleInvalid(\"keep\")\n",
        "    onehot_encoder = OneHotEncoder(inputCols=[cat_indexer.getOutputCol()], outputCols=[c + \"_onehot\"])\n",
        "    stages += [cat_indexer, onehot_encoder]\n",
        "\n",
        "stages"
      ]
    },
    {
      "cell_type": "markdown",
      "id": "bc221746",
      "metadata": {
        "id": "bc221746"
      },
      "source": [
        "`Numerical Data` Preprocessing stage\n",
        "\n",
        "- `passenger_count`\n",
        "- `trip_distance`\n",
        "- `pickup_time`"
      ]
    },
    {
      "cell_type": "code",
      "execution_count": null,
      "id": "51559f68",
      "metadata": {
        "id": "51559f68",
        "outputId": "2d242251-8bc1-4040-9f20-b24201384b05"
      },
      "outputs": [
        {
          "data": {
            "text/plain": [
              "[StringIndexer_d84f555fe9ed,\n",
              " OneHotEncoder_693a6166fec5,\n",
              " StringIndexer_0f04a5fc9fc1,\n",
              " OneHotEncoder_a56c6b6dc774,\n",
              " StringIndexer_c452e9fb7272,\n",
              " OneHotEncoder_ed5e1f315d8a,\n",
              " VectorAssembler_94dc33be9a6f,\n",
              " StandardScaler_b789e3249acf,\n",
              " VectorAssembler_9c5bb69dfe58,\n",
              " StandardScaler_cf0eebcaef70,\n",
              " VectorAssembler_ff1bfceff5a5,\n",
              " StandardScaler_2cd19904b6d0]"
            ]
          },
          "execution_count": 27,
          "metadata": {},
          "output_type": "execute_result"
        }
      ],
      "source": [
        "# 각 컬럼의 데이터를 벡터화 시키고, StandardScaler를 수행한다.\n",
        "from pyspark.ml.feature import VectorAssembler, StandardScaler\n",
        "\n",
        "num_features = [\n",
        "    \"passenger_count\",\n",
        "    \"trip_distance\",\n",
        "    \"pickup_time\"\n",
        "]\n",
        "\n",
        "for n in num_features:\n",
        "    num_assembler = VectorAssembler(inputCols=[n], outputCol = n + \"_vector\")\n",
        "    num_scaler    = StandardScaler(inputCol = num_assembler.getOutputCol(), outputCol= n+\"_scaled\")\n",
        "    stages += [num_assembler, num_scaler]\n",
        "\n",
        "stages"
      ]
    },
    {
      "cell_type": "markdown",
      "id": "daf3b0e3",
      "metadata": {
        "id": "daf3b0e3"
      },
      "source": [
        "category, numeric 형식으로 각각 작업된 벡터 결과물들을 하나로 합쳐주기 ( `VectorAssembler` )"
      ]
    },
    {
      "cell_type": "code",
      "execution_count": null,
      "id": "90d12d3b",
      "metadata": {
        "id": "90d12d3b",
        "outputId": "eab2d19c-a315-4c82-dc67-b79503bacbfd"
      },
      "outputs": [
        {
          "data": {
            "text/plain": [
              "['pickup_location_id_onehot',\n",
              " 'dropoff_location_id_onehot',\n",
              " 'day_of_week_onehot',\n",
              " 'passenger_count_scaled',\n",
              " 'trip_distance_scaled',\n",
              " 'pickup_time_scaled']"
            ]
          },
          "execution_count": 29,
          "metadata": {},
          "output_type": "execute_result"
        }
      ],
      "source": [
        "# _onehot이 붙은 컬럼과 _scaled가 붙은 컬럼만 있으면 된다.\n",
        "assembler_inputs = [c + \"_onehot\" for c in cat_features ] + [ n + \"_scaled\" for n in num_features ]\n",
        "assembler_inputs"
      ]
    },
    {
      "cell_type": "code",
      "execution_count": null,
      "id": "2abd7edd",
      "metadata": {
        "id": "2abd7edd",
        "outputId": "40f05967-0ea6-4997-f706-a6bba7bdbc05"
      },
      "outputs": [
        {
          "data": {
            "text/plain": [
              "[StringIndexer_d84f555fe9ed,\n",
              " OneHotEncoder_693a6166fec5,\n",
              " StringIndexer_0f04a5fc9fc1,\n",
              " OneHotEncoder_a56c6b6dc774,\n",
              " StringIndexer_c452e9fb7272,\n",
              " OneHotEncoder_ed5e1f315d8a,\n",
              " VectorAssembler_94dc33be9a6f,\n",
              " StandardScaler_b789e3249acf,\n",
              " VectorAssembler_9c5bb69dfe58,\n",
              " StandardScaler_cf0eebcaef70,\n",
              " VectorAssembler_ff1bfceff5a5,\n",
              " StandardScaler_2cd19904b6d0,\n",
              " VectorAssembler_23dabf536232]"
            ]
          },
          "execution_count": 30,
          "metadata": {},
          "output_type": "execute_result"
        }
      ],
      "source": [
        "assembler = VectorAssembler(inputCols= assembler_inputs, outputCol=\"feature_vector\")\n",
        "stages += [assembler]\n",
        "stages"
      ]
    },
    {
      "cell_type": "markdown",
      "id": "b99dc8c5",
      "metadata": {
        "id": "b99dc8c5"
      },
      "source": [
        "**파이프라인 생성**"
      ]
    },
    {
      "cell_type": "code",
      "execution_count": null,
      "id": "b58b318b",
      "metadata": {
        "id": "b58b318b"
      },
      "outputs": [],
      "source": [
        "from pyspark.ml import Pipeline\n",
        "\n",
        "pipeline = Pipeline(stages=stages)\n",
        "fitted_transformer = pipeline.fit(train_df)"
      ]
    },
    {
      "cell_type": "markdown",
      "id": "772a76c8",
      "metadata": {
        "id": "772a76c8"
      },
      "source": [
        "transform을 이용해 데이터 변환"
      ]
    },
    {
      "cell_type": "code",
      "execution_count": null,
      "id": "123c1fde",
      "metadata": {
        "id": "123c1fde",
        "outputId": "4127030e-ccd1-4dd1-d3ce-1f60e4a17a91"
      },
      "outputs": [
        {
          "name": "stdout",
          "output_type": "stream",
          "text": [
            "root\n",
            " |-- passenger_count: integer (nullable = true)\n",
            " |-- pickup_location_id: integer (nullable = true)\n",
            " |-- dropoff_location_id: integer (nullable = true)\n",
            " |-- trip_distance: double (nullable = true)\n",
            " |-- pickup_time: integer (nullable = true)\n",
            " |-- day_of_week: string (nullable = true)\n",
            " |-- total_amount: double (nullable = true)\n",
            " |-- pickup_location_id_idx: double (nullable = false)\n",
            " |-- pickup_location_id_onehot: vector (nullable = true)\n",
            " |-- dropoff_location_id_idx: double (nullable = false)\n",
            " |-- dropoff_location_id_onehot: vector (nullable = true)\n",
            " |-- day_of_week_idx: double (nullable = false)\n",
            " |-- day_of_week_onehot: vector (nullable = true)\n",
            " |-- passenger_count_vector: vector (nullable = true)\n",
            " |-- passenger_count_scaled: vector (nullable = true)\n",
            " |-- trip_distance_vector: vector (nullable = true)\n",
            " |-- trip_distance_scaled: vector (nullable = true)\n",
            " |-- pickup_time_vector: vector (nullable = true)\n",
            " |-- pickup_time_scaled: vector (nullable = true)\n",
            " |-- feature_vector: vector (nullable = true)\n",
            "\n"
          ]
        }
      ],
      "source": [
        "vtrain_df = fitted_transformer.transform(train_df)\n",
        "vtrain_df.printSchema()"
      ]
    },
    {
      "cell_type": "code",
      "execution_count": null,
      "id": "4b53413a",
      "metadata": {
        "id": "4b53413a",
        "outputId": "1872d949-e16d-41e5-c66b-57bb99511d7b"
      },
      "outputs": [
        {
          "name": "stdout",
          "output_type": "stream",
          "text": [
            "+--------------------+\n",
            "|      feature_vector|\n",
            "+--------------------+\n",
            "|(534,[62,312,526,...|\n",
            "|(534,[62,312,528,...|\n",
            "|(534,[62,282,525,...|\n",
            "|(534,[62,281,525,...|\n",
            "|(534,[62,309,528,...|\n",
            "|(534,[62,291,530,...|\n",
            "|(534,[62,280,528,...|\n",
            "|(534,[62,289,528,...|\n",
            "|(534,[62,304,526,...|\n",
            "|(534,[62,267,526,...|\n",
            "|(534,[62,288,528,...|\n",
            "|(534,[62,294,524,...|\n",
            "|(534,[63,320,529,...|\n",
            "|(534,[63,273,524,...|\n",
            "|(534,[63,273,528,...|\n",
            "|(534,[63,293,525,...|\n",
            "|(534,[63,376,525,...|\n",
            "|(534,[63,274,529,...|\n",
            "|(534,[63,274,529,...|\n",
            "|(534,[63,301,524,...|\n",
            "+--------------------+\n",
            "only showing top 20 rows\n",
            "\n"
          ]
        }
      ],
      "source": [
        "vtrain_df.select(\"feature_vector\").show()"
      ]
    },
    {
      "cell_type": "markdown",
      "id": "b6ccba58",
      "metadata": {
        "id": "b6ccba58"
      },
      "source": [
        "**모델 생성**\n",
        "`VectorAssembler`를 이용해 `feature`들이 모여있는 `feature_vector` 컬럼을 지정"
      ]
    },
    {
      "cell_type": "code",
      "execution_count": null,
      "id": "873ca256",
      "metadata": {
        "id": "873ca256"
      },
      "outputs": [],
      "source": [
        "from pyspark.ml.regression import LinearRegression\n",
        "\n",
        "lr = LinearRegression(\n",
        "    maxIter=50,\n",
        "    solver=\"normal\",\n",
        "    labelCol=\"total_amount\",\n",
        "    featuresCol=\"feature_vector\"\n",
        ")"
      ]
    },
    {
      "cell_type": "code",
      "execution_count": null,
      "id": "5c0e5fb5",
      "metadata": {
        "id": "5c0e5fb5"
      },
      "outputs": [],
      "source": [
        "model = lr.fit(vtrain_df)"
      ]
    },
    {
      "cell_type": "code",
      "execution_count": null,
      "id": "6affc95d",
      "metadata": {
        "id": "6affc95d"
      },
      "outputs": [],
      "source": [
        "vtest_df = fitted_transformer.transform(test_df)"
      ]
    },
    {
      "cell_type": "code",
      "execution_count": null,
      "id": "04f7e95a",
      "metadata": {
        "id": "04f7e95a"
      },
      "outputs": [],
      "source": [
        "predictions = model.transform(vtest_df)"
      ]
    },
    {
      "cell_type": "code",
      "execution_count": null,
      "id": "d166e06a",
      "metadata": {
        "id": "d166e06a",
        "outputId": "77d64360-b8e3-437f-a5dd-f960cb0b7ad4"
      },
      "outputs": [
        {
          "data": {
            "text/plain": [
              "DataFrame[passenger_count: int, pickup_location_id: int, dropoff_location_id: int, trip_distance: double, pickup_time: int, day_of_week: string, total_amount: double, pickup_location_id_idx: double, pickup_location_id_onehot: vector, dropoff_location_id_idx: double, dropoff_location_id_onehot: vector, day_of_week_idx: double, day_of_week_onehot: vector, passenger_count_vector: vector, passenger_count_scaled: vector, trip_distance_vector: vector, trip_distance_scaled: vector, pickup_time_vector: vector, pickup_time_scaled: vector, feature_vector: vector, prediction: double]"
            ]
          },
          "execution_count": 40,
          "metadata": {},
          "output_type": "execute_result"
        }
      ],
      "source": [
        "# 예측 결과물은 바뀌지 않기 때문에 cache로 지정해서 메모리를 낭비하지 않도록 하는 것이 좋다.\n",
        "predictions.cache()"
      ]
    },
    {
      "cell_type": "code",
      "execution_count": null,
      "id": "324a77fd",
      "metadata": {
        "id": "324a77fd",
        "outputId": "b2afe47f-72d1-4134-9f1a-6e237b0e767b"
      },
      "outputs": [
        {
          "name": "stdout",
          "output_type": "stream",
          "text": [
            "+-------------+-----------+------------+------------------+\n",
            "|trip_distance|day_of_week|total_amount|        prediction|\n",
            "+-------------+-----------+------------+------------------+\n",
            "|          0.5|     Sunday|        9.35|11.356032832741402|\n",
            "|          1.7|   Saturday|       14.15|14.907556372535563|\n",
            "|          0.5|  Wednesday|         7.8| 9.390609712032322|\n",
            "|          0.8|  Wednesday|         5.8|10.008479842548248|\n",
            "|          1.5|     Friday|        11.3|12.114028311477544|\n",
            "|          3.2|     Monday|        11.8|  15.5512753323334|\n",
            "|          8.0|  Wednesday|        32.8| 32.04826439376774|\n",
            "|          0.8|   Saturday|         9.0| 13.54602969239609|\n",
            "|          4.0|   Thursday|        21.3|24.233709526927527|\n",
            "|          4.4|  Wednesday|       22.55|22.437962421237835|\n",
            "|          8.3|     Friday|        28.8|31.978691163050875|\n",
            "|          0.5|    Tuesday|         8.8|13.161766963577456|\n",
            "|          1.5|     Friday|       11.75|15.895953352085353|\n",
            "|          4.4|    Tuesday|       21.62|21.952011486362885|\n",
            "|          6.0|  Wednesday|        28.3| 26.45455870378948|\n",
            "|          4.4|    Tuesday|       22.55|22.200050505978524|\n",
            "|          4.7|     Monday|       26.75|  22.1355218888151|\n",
            "|          6.4|     Friday|       27.95|27.096997078207306|\n",
            "|          6.8|  Wednesday|       30.35| 28.12905170856112|\n",
            "|          2.1|     Friday|       13.56| 17.57934091615478|\n",
            "+-------------+-----------+------------+------------------+\n",
            "only showing top 20 rows\n",
            "\n"
          ]
        }
      ],
      "source": [
        "predictions.select([\"trip_distance\", \"day_of_week\", \"total_amount\", \"prediction\"]).show()"
      ]
    },
    {
      "cell_type": "code",
      "execution_count": null,
      "id": "4308fb4d",
      "metadata": {
        "id": "4308fb4d",
        "outputId": "2b286f32-2f93-4093-e686-b8af23a1d89b"
      },
      "outputs": [
        {
          "data": {
            "text/plain": [
              "5.858288514111962"
            ]
          },
          "execution_count": 42,
          "metadata": {},
          "output_type": "execute_result"
        }
      ],
      "source": [
        "model.summary.rootMeanSquaredError"
      ]
    },
    {
      "cell_type": "code",
      "execution_count": null,
      "id": "97593b92",
      "metadata": {
        "id": "97593b92",
        "outputId": "3bbaa77d-488a-472a-bb2a-144d2fa0d6cb"
      },
      "outputs": [
        {
          "data": {
            "text/plain": [
              "0.796780338507229"
            ]
          },
          "execution_count": 43,
          "metadata": {},
          "output_type": "execute_result"
        }
      ],
      "source": [
        "model.summary.r2"
      ]
    },
    {
      "cell_type": "code",
      "execution_count": null,
      "id": "7059835a",
      "metadata": {
        "id": "7059835a"
      },
      "outputs": [],
      "source": [
        "spark.stop()"
      ]
    }
  ],
  "metadata": {
    "kernelspec": {
      "display_name": "Python 3 (ipykernel)",
      "language": "python",
      "name": "python3"
    },
    "language_info": {
      "codemirror_mode": {
        "name": "ipython",
        "version": 3
      },
      "file_extension": ".py",
      "mimetype": "text/x-python",
      "name": "python",
      "nbconvert_exporter": "python",
      "pygments_lexer": "ipython3",
      "version": "3.9.7"
    },
    "colab": {
      "provenance": [],
      "include_colab_link": true
    }
  },
  "nbformat": 4,
  "nbformat_minor": 5
}