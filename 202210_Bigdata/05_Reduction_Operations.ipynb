{
  "cells": [
    {
      "cell_type": "markdown",
      "metadata": {
        "id": "view-in-github",
        "colab_type": "text"
      },
      "source": [
        "<a href=\"https://colab.research.google.com/github/parkrye/Python/blob/main/202210_Bigdata/05_Reduction_Operations.ipynb\" target=\"_parent\"><img src=\"https://colab.research.google.com/assets/colab-badge.svg\" alt=\"Open In Colab\"/></a>"
      ]
    },
    {
      "cell_type": "code",
      "execution_count": null,
      "id": "db7dba95",
      "metadata": {
        "id": "db7dba95"
      },
      "outputs": [],
      "source": [
        "from pyspark import SparkConf, SparkContext"
      ]
    },
    {
      "cell_type": "code",
      "execution_count": null,
      "id": "f5d2d5fd",
      "metadata": {
        "id": "f5d2d5fd"
      },
      "outputs": [],
      "source": [
        "conf = SparkConf().setMaster(\"local\").setAppName(\"reduction-op\")\n",
        "sc = SparkContext(conf=conf)"
      ]
    },
    {
      "cell_type": "markdown",
      "id": "c8999a45",
      "metadata": {
        "id": "c8999a45"
      },
      "source": [
        "# Reduce\n",
        "- `RDD.reduce(<func>)`\n",
        "- 사용자가 지정하는 함수를 받아 여러 개의 값을 하나로 줄여줍니다."
      ]
    },
    {
      "cell_type": "code",
      "execution_count": null,
      "id": "713a3c1e",
      "metadata": {
        "id": "713a3c1e"
      },
      "outputs": [],
      "source": [
        "from operator import add"
      ]
    },
    {
      "cell_type": "code",
      "execution_count": null,
      "id": "3d1862b1",
      "metadata": {
        "id": "3d1862b1",
        "outputId": "394dde35-bf3c-4074-a095-d9ef95dc39f1"
      },
      "outputs": [
        {
          "data": {
            "text/plain": [
              "ParallelCollectionRDD[0] at readRDDFromFile at PythonRDD.scala:274"
            ]
          },
          "execution_count": 5,
          "metadata": {},
          "output_type": "execute_result"
        }
      ],
      "source": [
        "sample_rdd = sc.parallelize([1, 2, 3, 4, 5])\n",
        "sample_rdd"
      ]
    },
    {
      "cell_type": "code",
      "execution_count": null,
      "id": "15fabbbe",
      "metadata": {
        "id": "15fabbbe",
        "outputId": "6de1bada-8b0d-4a76-b6e0-955f0ad3b2c7"
      },
      "outputs": [
        {
          "data": {
            "text/plain": [
              "15"
            ]
          },
          "execution_count": 6,
          "metadata": {},
          "output_type": "execute_result"
        }
      ],
      "source": [
        "sample_rdd.reduce(add)"
      ]
    },
    {
      "cell_type": "markdown",
      "id": "6767192d",
      "metadata": {
        "id": "6767192d"
      },
      "source": [
        "**파티션에 따라 결과물이 달라집니다.**\n",
        "- 분산된 파티션들의 연산과 합치는 부분을 나눠서 생각해야 합니다."
      ]
    },
    {
      "cell_type": "code",
      "execution_count": null,
      "id": "f79e38a5",
      "metadata": {
        "id": "f79e38a5",
        "outputId": "bcc68443-8883-47e4-b234-f004d3584564"
      },
      "outputs": [
        {
          "data": {
            "text/plain": [
              "26"
            ]
          },
          "execution_count": 7,
          "metadata": {},
          "output_type": "execute_result"
        }
      ],
      "source": [
        "sample_rdd = sc.parallelize([1, 2, 3, 4])\n",
        "sample_rdd.reduce(lambda x, y : (x * 2)+ y)"
      ]
    },
    {
      "cell_type": "code",
      "execution_count": null,
      "id": "f7fd8848",
      "metadata": {
        "id": "f7fd8848",
        "outputId": "defdceb7-6843-4627-abc8-928cb0f5ec8e"
      },
      "outputs": [
        {
          "data": {
            "text/plain": [
              "26"
            ]
          },
          "execution_count": 8,
          "metadata": {},
          "output_type": "execute_result"
        }
      ],
      "source": [
        "# 파티션을 1개로 지정\n",
        "sc.parallelize([1, 2, 3, 4], 1).reduce(lambda x, y : (x * 2) + y)"
      ]
    },
    {
      "cell_type": "code",
      "execution_count": null,
      "id": "5976744d",
      "metadata": {
        "id": "5976744d",
        "outputId": "c913994f-adb1-4cba-9260-305134a72a27"
      },
      "outputs": [
        {
          "data": {
            "text/plain": [
              "18"
            ]
          },
          "execution_count": 9,
          "metadata": {},
          "output_type": "execute_result"
        }
      ],
      "source": [
        "# 파티션을 2개로 지정\n",
        "sc.parallelize([1, 2, 3, 4], 2).reduce(lambda x, y : (x * 2) + y)"
      ]
    },
    {
      "cell_type": "code",
      "execution_count": null,
      "id": "edd2d492",
      "metadata": {
        "id": "edd2d492",
        "outputId": "9b13acd9-231b-40dc-a27d-9a569007caf7"
      },
      "outputs": [
        {
          "data": {
            "text/plain": [
              "18"
            ]
          },
          "execution_count": 10,
          "metadata": {},
          "output_type": "execute_result"
        }
      ],
      "source": [
        "# 파티션을 3개로 지정\n",
        "sc.parallelize([1, 2, 3, 4], 3).reduce(lambda x, y : ( x * 2 ) + y)"
      ]
    },
    {
      "cell_type": "markdown",
      "id": "998882e4",
      "metadata": {
        "id": "998882e4"
      },
      "source": [
        "`[1]`, `[2]`, `[3,4]`\n",
        "\n"
      ]
    },
    {
      "cell_type": "markdown",
      "id": "9dbb043c",
      "metadata": {
        "id": "9dbb043c"
      },
      "source": [
        "**파티션에 데이터가 하나만 있으면 reduce가 안됩니다.**"
      ]
    },
    {
      "cell_type": "code",
      "execution_count": null,
      "id": "38230539",
      "metadata": {
        "id": "38230539",
        "outputId": "b8cfe398-ae00-48ce-98e7-037edddeea4c"
      },
      "outputs": [
        {
          "data": {
            "text/plain": [
              "26"
            ]
          },
          "execution_count": 11,
          "metadata": {},
          "output_type": "execute_result"
        }
      ],
      "source": [
        "sc.parallelize([1, 2, 3, 4], 4).reduce(lambda x, y : (x * 2 )+ y)"
      ]
    },
    {
      "cell_type": "markdown",
      "id": "f41cf95b",
      "metadata": {
        "id": "f41cf95b"
      },
      "source": [
        "# Fold\n",
        "- `RDD.fold(zeroValue, <func>)`\n",
        "- `reduce`와 비슷하지만, `zeroValue`에 넣어놓고 싶은 시작값을 지정해서 `reduce`가 가능\n",
        "    - `zeroValue`는 파티션 마다 계산이 일어날 때 하나씩 더해지는 값"
      ]
    },
    {
      "cell_type": "code",
      "execution_count": null,
      "id": "403b39ed",
      "metadata": {
        "id": "403b39ed",
        "outputId": "4342a4b4-c640-4b91-a946-84dbc1307486"
      },
      "outputs": [
        {
          "name": "stdout",
          "output_type": "stream",
          "text": [
            "24\n",
            "24\n"
          ]
        }
      ],
      "source": [
        "rdd = sc.parallelize([2, 3, 4], 4)\n",
        "\n",
        "print(rdd.reduce(lambda x, y : (x * y))) # 2 x 3 -> x 4\n",
        "print(rdd.fold(1, lambda x , y : (x * y))) # 1 x 2 x 3 x 4"
      ]
    },
    {
      "cell_type": "code",
      "execution_count": null,
      "id": "be1736be",
      "metadata": {
        "id": "be1736be",
        "outputId": "80fb8012-43b3-4073-852e-d9ffc58019ae"
      },
      "outputs": [
        {
          "name": "stdout",
          "output_type": "stream",
          "text": [
            "9\n",
            "14\n"
          ]
        }
      ],
      "source": [
        "print(rdd.reduce(lambda x, y : x + y)) # 2 + 3 + 4\n",
        "print(rdd.fold(1, lambda x, y : x + y)) #  (1 + 1) + ( 1 + 2 ) + ( 1 + 3 ) + ( 1 + 4 )\n",
        "                                         #  빈 공간의 파티션에 숫자 1이 부여됩니다(zeroValue)"
      ]
    },
    {
      "cell_type": "markdown",
      "id": "0f37e1ff",
      "metadata": {
        "id": "0f37e1ff"
      },
      "source": [
        "`fold`에서 시작값은 파티션 마다 부여"
      ]
    },
    {
      "cell_type": "markdown",
      "id": "c9b4b802",
      "metadata": {
        "id": "c9b4b802"
      },
      "source": [
        "# GroupBy\n",
        "- `RDD.groupBy(<func>)`\n",
        "- 그룹핑 함수를 받아 `reduction`"
      ]
    },
    {
      "cell_type": "code",
      "execution_count": null,
      "id": "cc7ea489",
      "metadata": {
        "id": "cc7ea489",
        "outputId": "ef0ffdc3-dc9f-45be-cc24-325b309efd35"
      },
      "outputs": [
        {
          "data": {
            "text/plain": [
              "[(0, [2, 8]), (1, [1, 1, 3, 5])]"
            ]
          },
          "execution_count": 15,
          "metadata": {},
          "output_type": "execute_result"
        }
      ],
      "source": [
        "rdd = sc.parallelize([1, 1, 2, 3, 5, 8])\n",
        "result = rdd.groupBy(lambda x : x % 2).collect()\n",
        "\n",
        "sorted([(x, sorted(y)) for (x, y) in result])"
      ]
    },
    {
      "cell_type": "markdown",
      "id": "5fb18cc1",
      "metadata": {
        "id": "5fb18cc1"
      },
      "source": [
        "# Aggregate(Action)\n",
        "- `RDD.aggregate(zeroValue, seqOp, combOp)`\n",
        "    - `zeroValue` : 각 파티션에서 누적할 시작 값\n",
        "    - `seqOp` : 타입 변경 함수\n",
        "        - 파티션 내에서 벌어지는 연산을 담당\n",
        "    - `combOp` : 모든 결과를 하나로 합쳐주는 연산을 담당\n",
        "- 파티션 단위의 연산 결과를 합쳐주는 과정을 거치게 된다."
      ]
    },
    {
      "cell_type": "code",
      "execution_count": null,
      "id": "d04898e0",
      "metadata": {
        "id": "d04898e0",
        "outputId": "c0e23e94-45bd-4d30-874f-7b956f332745"
      },
      "outputs": [
        {
          "name": "stdout",
          "output_type": "stream",
          "text": [
            "(10, 4)\n"
          ]
        }
      ],
      "source": [
        "rdd = sc.parallelize([1, 2, 3, 4], 2)\n",
        "\n",
        "seqOp = lambda x, y : (x[0] + y, x[1] + 1) # 파티션 내의 연산\n",
        "combOp = (lambda x, y : (x[0] + y[0], x[1] + y[1])) # 파티션의 모든 결과를 최종 연산\n",
        "\n",
        "print(rdd.aggregate((0, 0), seqOp, combOp))"
      ]
    },
    {
      "cell_type": "markdown",
      "id": "7632870c",
      "metadata": {
        "id": "7632870c"
      },
      "source": [
        "**연산 과정**\n",
        "\n",
        "- partion 1\n",
        "    - `x=[1, 2]`, `zeroValue=[0, 0]`\n",
        "    - `x[0] = 0, x[1] = 0` ( zeroValue )\n",
        "    - (`x[0] + y = 0 + 1`, `x[1] + 1 = 0 + 1`) -> (1, 1)\n",
        "    - (`x[0] + y = 1 + 2`, `x[1] + 1 = 1 + 1`) -> **(3, 2)**\n",
        "- partion 2\n",
        "    * x = `[3, 4]`, zeroValue=`[0, 0]`\n",
        "    * `x[0]=0, x[1]=0` ( zeroValue )\n",
        "    * (`x[0] + y = 0 + 3`, `x[1] + 1 = 0 + 1`) ==> (3, 1)\n",
        "    * (`x[0] + y = 3 + 4`, `x[1] + 1 = 1 + 1`) ==> **(7, 2)**\n",
        "\n",
        "`combOp`를 이용해서 계산\n",
        "- `x=(3, 2), y=(7, 2)`\n",
        "- `(x[0] + y[0], x[1] + y[1]) = (10, 4)`"
      ]
    },
    {
      "cell_type": "code",
      "execution_count": null,
      "id": "f2d5d594",
      "metadata": {
        "id": "f2d5d594"
      },
      "outputs": [],
      "source": [
        "sc.stop()"
      ]
    }
  ],
  "metadata": {
    "kernelspec": {
      "display_name": "Python 3 (ipykernel)",
      "language": "python",
      "name": "python3"
    },
    "language_info": {
      "codemirror_mode": {
        "name": "ipython",
        "version": 3
      },
      "file_extension": ".py",
      "mimetype": "text/x-python",
      "name": "python",
      "nbconvert_exporter": "python",
      "pygments_lexer": "ipython3",
      "version": "3.9.7"
    },
    "colab": {
      "provenance": [],
      "collapsed_sections": [],
      "include_colab_link": true
    }
  },
  "nbformat": 4,
  "nbformat_minor": 5
}