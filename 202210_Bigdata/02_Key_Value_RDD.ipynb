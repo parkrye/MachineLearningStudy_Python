{
  "cells": [
    {
      "cell_type": "markdown",
      "metadata": {
        "id": "view-in-github",
        "colab_type": "text"
      },
      "source": [
        "<a href=\"https://colab.research.google.com/github/parkrye/Python/blob/main/202210_Bigdata/02_Key_Value_RDD.ipynb\" target=\"_parent\"><img src=\"https://colab.research.google.com/assets/colab-badge.svg\" alt=\"Open In Colab\"/></a>"
      ]
    },
    {
      "cell_type": "markdown",
      "id": "6013213b",
      "metadata": {
        "id": "6013213b"
      },
      "source": [
        "# SparkContext 생성"
      ]
    },
    {
      "cell_type": "code",
      "execution_count": null,
      "id": "864d8a80",
      "metadata": {
        "id": "864d8a80"
      },
      "outputs": [],
      "source": [
        "from pyspark import SparkConf, SparkContext"
      ]
    },
    {
      "cell_type": "code",
      "execution_count": null,
      "id": "61053e97",
      "metadata": {
        "id": "61053e97"
      },
      "outputs": [],
      "source": [
        "conf = SparkConf().setMaster(\"local\").setAppName(\"restaurant-review-average\")\n",
        "sc = SparkContext(conf=conf)"
      ]
    },
    {
      "cell_type": "markdown",
      "id": "13e23082",
      "metadata": {
        "id": "13e23082"
      },
      "source": [
        "# CSV 파일을 RDD로딩"
      ]
    },
    {
      "cell_type": "code",
      "execution_count": null,
      "id": "79930840",
      "metadata": {
        "id": "79930840"
      },
      "outputs": [],
      "source": [
        "directory = \"C:\\\\Users\\\\mhso_lec\\\\study_notebook\\\\data\"\n",
        "filename  = \"restaurant_reviews.csv\""
      ]
    },
    {
      "cell_type": "code",
      "execution_count": null,
      "id": "0e0743d4",
      "metadata": {
        "id": "0e0743d4",
        "outputId": "aabf98b1-c1a0-487b-d21f-ded47e4768b2"
      },
      "outputs": [
        {
          "data": {
            "text/plain": [
              "file:///C:\\Users\\mhso_lec\\study_notebook\\data\\restaurant_reviews.csv MapPartitionsRDD[1] at textFile at NativeMethodAccessorImpl.java:0"
            ]
          },
          "execution_count": 4,
          "metadata": {},
          "output_type": "execute_result"
        }
      ],
      "source": [
        "lines = sc.textFile(f\"file:///{directory}\\\\{filename}\")\n",
        "lines"
      ]
    },
    {
      "cell_type": "code",
      "execution_count": null,
      "id": "811925dd",
      "metadata": {
        "id": "811925dd",
        "outputId": "f4007b76-4ee6-40dd-c17a-26620db37c3d"
      },
      "outputs": [
        {
          "data": {
            "text/plain": [
              "['id,item,cateogry,reviews,',\n",
              " '0,짜장면,중식,125,',\n",
              " '1,짬뽕,중식,235,',\n",
              " '2,김밥,분식,32,',\n",
              " '3,떡볶이,분식,534,',\n",
              " '4,라멘,일식,223,',\n",
              " '5,돈가스,일식,52,',\n",
              " '6,우동,일식,12,',\n",
              " '7,쌀국수,아시안,312,',\n",
              " '8,햄버거,패스트푸드,12,',\n",
              " '9,치킨,패스트푸드,23']"
            ]
          },
          "execution_count": 5,
          "metadata": {},
          "output_type": "execute_result"
        }
      ],
      "source": [
        "lines.collect()"
      ]
    },
    {
      "cell_type": "markdown",
      "id": "546494b6",
      "metadata": {
        "id": "546494b6"
      },
      "source": [
        "**header(첫 줄)빼고 전부 다 가져오기**"
      ]
    },
    {
      "cell_type": "code",
      "execution_count": null,
      "id": "daf4a6cf",
      "metadata": {
        "id": "daf4a6cf",
        "outputId": "a0f1899d-8b58-45e2-e194-aaa840ababe0"
      },
      "outputs": [
        {
          "data": {
            "text/plain": [
              "'id,item,cateogry,reviews,'"
            ]
          },
          "execution_count": 6,
          "metadata": {},
          "output_type": "execute_result"
        }
      ],
      "source": [
        "header = lines.first()\n",
        "header"
      ]
    },
    {
      "cell_type": "code",
      "execution_count": null,
      "id": "d94bf9cd",
      "metadata": {
        "id": "d94bf9cd",
        "outputId": "f96ea5ab-e45b-41ac-d52d-bbbe9f72d1a2"
      },
      "outputs": [
        {
          "data": {
            "text/plain": [
              "PythonRDD[3] at RDD at PythonRDD.scala:53"
            ]
          },
          "execution_count": 7,
          "metadata": {},
          "output_type": "execute_result"
        }
      ],
      "source": [
        "filtered_lines = lines.filter(lambda row : row != header)\n",
        "filtered_lines"
      ]
    },
    {
      "cell_type": "code",
      "execution_count": null,
      "id": "0bb8921b",
      "metadata": {
        "id": "0bb8921b",
        "outputId": "3c9e7052-4731-4058-9145-36e5fe374905"
      },
      "outputs": [
        {
          "data": {
            "text/plain": [
              "['0,짜장면,중식,125,',\n",
              " '1,짬뽕,중식,235,',\n",
              " '2,김밥,분식,32,',\n",
              " '3,떡볶이,분식,534,',\n",
              " '4,라멘,일식,223,',\n",
              " '5,돈가스,일식,52,',\n",
              " '6,우동,일식,12,',\n",
              " '7,쌀국수,아시안,312,',\n",
              " '8,햄버거,패스트푸드,12,',\n",
              " '9,치킨,패스트푸드,23']"
            ]
          },
          "execution_count": 8,
          "metadata": {},
          "output_type": "execute_result"
        }
      ],
      "source": [
        "filtered_lines.collect()"
      ]
    },
    {
      "cell_type": "code",
      "execution_count": null,
      "id": "c2c45871",
      "metadata": {
        "id": "c2c45871"
      },
      "outputs": [],
      "source": [
        "def parse(row):\n",
        "    fields = row.split(\",\")\n",
        "    \n",
        "    category = fields[2]\n",
        "    \n",
        "    # reviews는 정수로 parse\n",
        "    reviews = fields[3]\n",
        "    reviews = int(reviews)\n",
        "    \n",
        "    return category, reviews"
      ]
    },
    {
      "cell_type": "code",
      "execution_count": null,
      "id": "d834e16e",
      "metadata": {
        "id": "d834e16e",
        "outputId": "7fc92dd7-9602-44b5-ce64-c110924309e0"
      },
      "outputs": [
        {
          "data": {
            "text/plain": [
              "('중식', 125)"
            ]
          },
          "execution_count": 10,
          "metadata": {},
          "output_type": "execute_result"
        }
      ],
      "source": [
        "parse('0,짜장면,중식,125,')"
      ]
    },
    {
      "cell_type": "markdown",
      "id": "9b66127b",
      "metadata": {
        "id": "9b66127b"
      },
      "source": [
        "RDD 내의 모든 row에 대해 `parse` 함수를 적용 후 추출(`map`)"
      ]
    },
    {
      "cell_type": "code",
      "execution_count": null,
      "id": "2a3b3d83",
      "metadata": {
        "id": "2a3b3d83",
        "outputId": "f979013a-d3f7-4328-e391-a4ba66c1142c"
      },
      "outputs": [
        {
          "data": {
            "text/plain": [
              "PythonRDD[4] at RDD at PythonRDD.scala:53"
            ]
          },
          "execution_count": 11,
          "metadata": {},
          "output_type": "execute_result"
        }
      ],
      "source": [
        "category_reviews = filtered_lines.map(parse)\n",
        "category_reviews"
      ]
    },
    {
      "cell_type": "code",
      "execution_count": null,
      "id": "31be33b8",
      "metadata": {
        "id": "31be33b8",
        "outputId": "0a0abcdb-39aa-43d3-acfd-d82c9ac6358f"
      },
      "outputs": [
        {
          "data": {
            "text/plain": [
              "[('중식', 125),\n",
              " ('중식', 235),\n",
              " ('분식', 32),\n",
              " ('분식', 534),\n",
              " ('일식', 223),\n",
              " ('일식', 52),\n",
              " ('일식', 12),\n",
              " ('아시안', 312),\n",
              " ('패스트푸드', 12),\n",
              " ('패스트푸드', 23)]"
            ]
          },
          "execution_count": 12,
          "metadata": {},
          "output_type": "execute_result"
        }
      ],
      "source": [
        "category_reviews.collect()"
      ]
    },
    {
      "cell_type": "markdown",
      "id": "8c518a5a",
      "metadata": {
        "id": "8c518a5a"
      },
      "source": [
        "카테고리 별 리뷰 평균\n",
        "- 각 카테고리 별 리뷰의 개수\n",
        "- 카테고리 종류의 개수\n",
        "    - 중식은 몇 건, 분식은 몇 건..."
      ]
    },
    {
      "cell_type": "code",
      "execution_count": null,
      "id": "0ba76617",
      "metadata": {
        "id": "0ba76617",
        "outputId": "75b1e4ed-5c81-4781-ce5d-ab8ba6872784"
      },
      "outputs": [
        {
          "data": {
            "text/plain": [
              "[('중식', (125, 1)),\n",
              " ('중식', (235, 1)),\n",
              " ('분식', (32, 1)),\n",
              " ('분식', (534, 1)),\n",
              " ('일식', (223, 1)),\n",
              " ('일식', (52, 1)),\n",
              " ('일식', (12, 1)),\n",
              " ('아시안', (312, 1)),\n",
              " ('패스트푸드', (12, 1)),\n",
              " ('패스트푸드', (23, 1))]"
            ]
          },
          "execution_count": 13,
          "metadata": {},
          "output_type": "execute_result"
        }
      ],
      "source": [
        "category_review_count = category_reviews.mapValues(lambda x : (x, 1)) # x는 review 개수\n",
        "category_review_count.collect()"
      ]
    },
    {
      "cell_type": "markdown",
      "id": "4bea9137",
      "metadata": {
        "id": "4bea9137"
      },
      "source": [
        "예를 들어 **중식**의 `x`, `y`\n",
        "\n",
        "- 첫 번째 중식 : `(125, 1)` -> `x`\n",
        "- 두 번째 중식 : `(235, 1)` -> `y`\n",
        "\n",
        "------\n",
        "- 리뷰의 개수끼리 합치기 : `x[0] + y[0]`\n",
        "- 건수 끼리 합치기 : `x[1] + y[1]`\n",
        "\n"
      ]
    },
    {
      "cell_type": "code",
      "execution_count": null,
      "id": "895f5b50",
      "metadata": {
        "id": "895f5b50",
        "outputId": "6702a700-e430-4a8a-c66e-ffe1efc3df91"
      },
      "outputs": [
        {
          "data": {
            "text/plain": [
              "[('중식', (360, 2)),\n",
              " ('분식', (566, 2)),\n",
              " ('일식', (287, 3)),\n",
              " ('아시안', (312, 1)),\n",
              " ('패스트푸드', (35, 2))]"
            ]
          },
          "execution_count": 14,
          "metadata": {},
          "output_type": "execute_result"
        }
      ],
      "source": [
        "reduced = category_review_count.reduceByKey(lambda x, y : (x[0] + y[0], x[1] + y[1]))\n",
        "reduced.collect()"
      ]
    },
    {
      "cell_type": "code",
      "execution_count": null,
      "id": "93ef34a3",
      "metadata": {
        "id": "93ef34a3",
        "outputId": "98eef41a-a9ef-4d73-935e-6ad129d8c762"
      },
      "outputs": [
        {
          "data": {
            "text/plain": [
              "[('중식', 180.0),\n",
              " ('분식', 283.0),\n",
              " ('일식', 95.66666666666667),\n",
              " ('아시안', 312.0),\n",
              " ('패스트푸드', 17.5)]"
            ]
          },
          "execution_count": 15,
          "metadata": {},
          "output_type": "execute_result"
        }
      ],
      "source": [
        "average = reduced.mapValues(lambda x : x[0] / x[1])\n",
        "average.collect()"
      ]
    },
    {
      "cell_type": "code",
      "execution_count": null,
      "id": "78979c99",
      "metadata": {
        "id": "78979c99"
      },
      "outputs": [],
      "source": [
        "sc.stop()"
      ]
    }
  ],
  "metadata": {
    "kernelspec": {
      "display_name": "Python 3 (ipykernel)",
      "language": "python",
      "name": "python3"
    },
    "language_info": {
      "codemirror_mode": {
        "name": "ipython",
        "version": 3
      },
      "file_extension": ".py",
      "mimetype": "text/x-python",
      "name": "python",
      "nbconvert_exporter": "python",
      "pygments_lexer": "ipython3",
      "version": "3.9.7"
    },
    "colab": {
      "provenance": [],
      "collapsed_sections": [],
      "include_colab_link": true
    }
  },
  "nbformat": 4,
  "nbformat_minor": 5
}