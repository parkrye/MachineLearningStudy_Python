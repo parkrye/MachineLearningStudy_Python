{
  "cells": [
    {
      "cell_type": "markdown",
      "metadata": {
        "id": "view-in-github",
        "colab_type": "text"
      },
      "source": [
        "<a href=\"https://colab.research.google.com/github/parkrye/Python/blob/main/202210_Bigdata/08_Spak_SQL%2C_DataFrame.ipynb\" target=\"_parent\"><img src=\"https://colab.research.google.com/assets/colab-badge.svg\" alt=\"Open In Colab\"/></a>"
      ]
    },
    {
      "cell_type": "code",
      "execution_count": null,
      "id": "7b1d139c",
      "metadata": {
        "id": "7b1d139c"
      },
      "outputs": [],
      "source": [
        "from pyspark import SparkConf, SparkContext\n",
        "conf = SparkConf().setMaster(\"local\").setAppName(\"spark_sql_basic\")\n",
        "sc   = SparkContext(conf=conf)"
      ]
    },
    {
      "cell_type": "markdown",
      "id": "0c7cae0b",
      "metadata": {
        "id": "0c7cae0b"
      },
      "source": [
        "# RDD만을 이용한 데이터 추출"
      ]
    },
    {
      "cell_type": "code",
      "execution_count": null,
      "id": "2cba3e70",
      "metadata": {
        "id": "2cba3e70"
      },
      "outputs": [],
      "source": [
        "movies_rdd = sc.parallelize([\n",
        "    (1, (\"어벤져스\", \"마블\")),\n",
        "    (2, (\"슈퍼맨\", \"DC\")),\n",
        "    (3, (\"배트맨\", \"DC\")),\n",
        "    (4, (\"겨울왕국\", \"디즈니\")),\n",
        "    (5, (\"아이언맨\", \"마블\"))\n",
        "])\n",
        "\n",
        "\n",
        "attendances_rdd = sc.parallelize([\n",
        "    (1, (13934592, \"KR\")),\n",
        "    (2, (2182227,\"KR\")),\n",
        "    (3, (4226242, \"KR\")),\n",
        "    (4, (10303058, \"KR\")),\n",
        "    (5, (4300365, \"KR\"))\n",
        "])"
      ]
    },
    {
      "cell_type": "markdown",
      "id": "8eced39e",
      "metadata": {
        "id": "8eced39e"
      },
      "source": [
        "`마블` 영화 중 관객 수가 500만 이상인 영화를 가져오기\n",
        "1. `Inner Join` -> `Filter By Movie` -> `Filter By attendance`\n",
        "2. `Filter By Movie`, `Filter By attendance` -> `Inner Join`"
      ]
    },
    {
      "cell_type": "code",
      "execution_count": null,
      "id": "5ce1160d",
      "metadata": {
        "scrolled": true,
        "id": "5ce1160d",
        "outputId": "3d26cf80-ac3e-4440-d3e2-63be6080e89c"
      },
      "outputs": [
        {
          "data": {
            "text/plain": [
              "[(1, (('어벤져스', '마블'), (13934592, 'KR')))]"
            ]
          },
          "execution_count": 5,
          "metadata": {},
          "output_type": "execute_result"
        }
      ],
      "source": [
        "# CASE1. join 먼저, filter 나중에\n",
        "movie_att = movies_rdd.join(attendances_rdd)\n",
        "movie_att.filter(\n",
        "    lambda x : x[1][0][1] == \"마블\" and x[1][1][0] > 5000000\n",
        ").collect()"
      ]
    },
    {
      "cell_type": "code",
      "execution_count": null,
      "id": "a75e0f52",
      "metadata": {
        "id": "a75e0f52",
        "outputId": "a45cfe34-b4df-40a0-abe0-fa12191218e3"
      },
      "outputs": [
        {
          "data": {
            "text/plain": [
              "[(1, (('어벤져스', '마블'), (13934592, 'KR')))]"
            ]
          },
          "execution_count": 6,
          "metadata": {},
          "output_type": "execute_result"
        }
      ],
      "source": [
        "# CASE 2. filter 먼저, join 나중에\n",
        "filtered_movies = movies_rdd.filter(lambda x : x[1][1] == '마블')\n",
        "filtered_att = attendances_rdd.filter(lambda x : x[1][0] > 5000000)\n",
        "\n",
        "filtered_movies.join(filtered_att).collect()"
      ]
    },
    {
      "cell_type": "markdown",
      "id": "0b0b84c6",
      "metadata": {
        "id": "0b0b84c6"
      },
      "source": [
        "- 동일한 결과지만 filter를 먼저 수행해서 가져올 데이터를 걸러 낸 다음 join을 하는 CASE 2가 훨씬 효율적이다.\n",
        "\n",
        "**하지만** 매번 이런 고민을 한다면...? "
      ]
    },
    {
      "cell_type": "markdown",
      "id": "1635dfbe",
      "metadata": {
        "id": "1635dfbe"
      },
      "source": [
        "# Spark SQL 사용해 보기"
      ]
    },
    {
      "cell_type": "markdown",
      "id": "72980a23",
      "metadata": {
        "id": "72980a23"
      },
      "source": [
        "## 1. SparkSession 만들기\n",
        "- SparkContext에 해당하며, 새로운 스파크 어플리케이션을 생성"
      ]
    },
    {
      "cell_type": "code",
      "execution_count": null,
      "id": "4e915ac4",
      "metadata": {
        "id": "4e915ac4"
      },
      "outputs": [],
      "source": [
        "from pyspark.sql import SparkSession\n",
        "spark = SparkSession.builder.master(\"local\").appName(\"spark-sql\").getOrCreate()"
      ]
    },
    {
      "cell_type": "markdown",
      "id": "63375339",
      "metadata": {
        "id": "63375339"
      },
      "source": [
        "RDD를 준비"
      ]
    },
    {
      "cell_type": "code",
      "execution_count": null,
      "id": "9a994489",
      "metadata": {
        "id": "9a994489"
      },
      "outputs": [],
      "source": [
        "movies = [\n",
        "    (1, \"어벤져스\", \"마블\", 2012, 4, 26),\n",
        "    (2, \"슈퍼맨\", \"DC\", 2013, 6, 13),\n",
        "    (3, \"배트맨\", \"DC\", 2008, 8, 6),\n",
        "    (4, \"겨울왕국\", \"디즈니\", 2014, 1, 16),\n",
        "    (5, \"아이언맨\", \"마블\", 2008, 4, 30)\n",
        "]"
      ]
    },
    {
      "cell_type": "code",
      "execution_count": null,
      "id": "636f767c",
      "metadata": {
        "id": "636f767c"
      },
      "outputs": [],
      "source": [
        "movie_schema = [\"id\", \"name\", \"company\", \"year\", \"month\", \"day\"]"
      ]
    },
    {
      "cell_type": "markdown",
      "id": "f9678e28",
      "metadata": {
        "id": "f9678e28"
      },
      "source": [
        "## 2. 데이터 프레임 만들기"
      ]
    },
    {
      "cell_type": "code",
      "execution_count": null,
      "id": "0911ddd8",
      "metadata": {
        "id": "0911ddd8"
      },
      "outputs": [],
      "source": [
        "# 스파크가 알아서 데이터 타입을 결정을 지어 줍니다.\n",
        "df = spark.createDataFrame(data=movies, schema=movie_schema)"
      ]
    },
    {
      "cell_type": "code",
      "execution_count": null,
      "id": "46e60992",
      "metadata": {
        "id": "46e60992",
        "outputId": "ba420ddb-2c51-4cec-9d58-f4413705cde8"
      },
      "outputs": [
        {
          "data": {
            "text/plain": [
              "[('id', 'bigint'),\n",
              " ('name', 'string'),\n",
              " ('company', 'string'),\n",
              " ('year', 'bigint'),\n",
              " ('month', 'bigint'),\n",
              " ('day', 'bigint')]"
            ]
          },
          "execution_count": 12,
          "metadata": {},
          "output_type": "execute_result"
        }
      ],
      "source": [
        "# 스키마의 타입 확인\n",
        "df.dtypes"
      ]
    },
    {
      "cell_type": "markdown",
      "id": "176986c2",
      "metadata": {
        "id": "176986c2"
      },
      "source": [
        "전체 데이터 프레임 내용을 확인\n",
        "- show()\n"
      ]
    },
    {
      "cell_type": "code",
      "execution_count": null,
      "id": "d8f1cd57",
      "metadata": {
        "id": "d8f1cd57",
        "outputId": "47d79981-360f-4509-ac22-9e108a29afdc"
      },
      "outputs": [
        {
          "name": "stdout",
          "output_type": "stream",
          "text": [
            "+---+--------+-------+----+-----+---+\n",
            "| id|    name|company|year|month|day|\n",
            "+---+--------+-------+----+-----+---+\n",
            "|  1|어벤져스|   마블|2012|    4| 26|\n",
            "|  2|  슈퍼맨|     DC|2013|    6| 13|\n",
            "|  3|  배트맨|     DC|2008|    8|  6|\n",
            "|  4|겨울왕국| 디즈니|2014|    1| 16|\n",
            "|  5|아이언맨|   마블|2008|    4| 30|\n",
            "+---+--------+-------+----+-----+---+\n",
            "\n"
          ]
        }
      ],
      "source": [
        "df.show()"
      ]
    },
    {
      "cell_type": "markdown",
      "id": "c8d0518b",
      "metadata": {
        "id": "c8d0518b"
      },
      "source": [
        "- `SELECT` : 컬럼 조회 하기위한 쿼리 절\n",
        "- `  FROM` : 테이블. (어떤 데이터프레임(테이블)에서 데이터를 가지고 올 것인가)\n",
        "- ` WHERE` : 데이터가 조회되기 위한 조건"
      ]
    },
    {
      "cell_type": "markdown",
      "id": "d03660ca",
      "metadata": {
        "id": "d03660ca"
      },
      "source": [
        "★데이터프레임을 temporary view에 등록해야 spark sql을 사용할 수 있게 된다.★"
      ]
    },
    {
      "cell_type": "code",
      "execution_count": null,
      "id": "e5116bd6",
      "metadata": {
        "id": "e5116bd6"
      },
      "outputs": [],
      "source": [
        "df.createOrReplaceTempView(\"movies\")"
      ]
    },
    {
      "cell_type": "markdown",
      "id": "f67490d5",
      "metadata": {
        "id": "f67490d5"
      },
      "source": [
        "영화 이름만 가져오기"
      ]
    },
    {
      "cell_type": "code",
      "execution_count": null,
      "id": "acf93d90",
      "metadata": {
        "id": "acf93d90",
        "outputId": "b089f808-4f44-4885-9ce1-1207091a6475"
      },
      "outputs": [
        {
          "name": "stdout",
          "output_type": "stream",
          "text": [
            "+--------+\n",
            "|    name|\n",
            "+--------+\n",
            "|어벤져스|\n",
            "|  슈퍼맨|\n",
            "|  배트맨|\n",
            "|겨울왕국|\n",
            "|아이언맨|\n",
            "+--------+\n",
            "\n"
          ]
        }
      ],
      "source": [
        "query = \"\"\"\n",
        "\n",
        "SELECT name\n",
        "  FROM movies\n",
        "\n",
        "\"\"\"\n",
        "spark.sql(query).show()"
      ]
    },
    {
      "cell_type": "markdown",
      "id": "88c57f54",
      "metadata": {
        "id": "88c57f54"
      },
      "source": [
        "2010년 이후에 개봉한 영화를 조회"
      ]
    },
    {
      "cell_type": "code",
      "execution_count": null,
      "id": "1c1c0e56",
      "metadata": {
        "id": "1c1c0e56",
        "outputId": "c56b9f68-6ff9-410c-cb80-9fd7ef5b7b33"
      },
      "outputs": [
        {
          "name": "stdout",
          "output_type": "stream",
          "text": [
            "+---+--------+-------+----+-----+---+\n",
            "| id|    name|company|year|month|day|\n",
            "+---+--------+-------+----+-----+---+\n",
            "|  1|어벤져스|   마블|2012|    4| 26|\n",
            "|  2|  슈퍼맨|     DC|2013|    6| 13|\n",
            "|  4|겨울왕국| 디즈니|2014|    1| 16|\n",
            "+---+--------+-------+----+-----+---+\n",
            "\n"
          ]
        }
      ],
      "source": [
        "query = \"\"\"\n",
        "\n",
        "SELECT *\n",
        "  FROM movies\n",
        " WHERE year >= 2010\n",
        "\"\"\"\n",
        "spark.sql(query).show()"
      ]
    },
    {
      "cell_type": "code",
      "execution_count": null,
      "id": "c8e03743",
      "metadata": {
        "id": "c8e03743",
        "outputId": "244fcbff-d61f-41cb-a1b7-500fb5053bea"
      },
      "outputs": [
        {
          "name": "stdout",
          "output_type": "stream",
          "text": [
            "+--------+-------+\n",
            "|    name|company|\n",
            "+--------+-------+\n",
            "|어벤져스|   마블|\n",
            "|  배트맨|     DC|\n",
            "|아이언맨|   마블|\n",
            "+--------+-------+\n",
            "\n"
          ]
        }
      ],
      "source": [
        "# 2012년도 이전에 개봉한 영화의 이름과 회사를 출력\n",
        "query = \"\"\"\n",
        "\n",
        "SELECT name,\n",
        "       company\n",
        "       \n",
        "  FROM movies\n",
        " WHERE year <= 2012\n",
        " \n",
        "\"\"\"\n",
        "spark.sql(query).show()"
      ]
    },
    {
      "cell_type": "code",
      "execution_count": null,
      "id": "4e89818b",
      "metadata": {
        "id": "4e89818b",
        "outputId": "9cf91221-1cc4-4184-f79c-1052cc816e1c"
      },
      "outputs": [
        {
          "name": "stdout",
          "output_type": "stream",
          "text": [
            "+---+--------+-------+----+-----+---+\n",
            "| id|    name|company|year|month|day|\n",
            "+---+--------+-------+----+-----+---+\n",
            "|  2|  슈퍼맨|     DC|2013|    6| 13|\n",
            "|  3|  배트맨|     DC|2008|    8|  6|\n",
            "|  5|아이언맨|   마블|2008|    4| 30|\n",
            "+---+--------+-------+----+-----+---+\n",
            "\n"
          ]
        }
      ],
      "source": [
        "# like 문자열 데이터에서 특정 단어나 문장을 포함한 데이터를 찾을 때\n",
        "# % 기호를 사용해서 문장이 매칭되는지 확인 가능!\n",
        "\n",
        "\n",
        "# 제목이 ~~맨으로 끝나는 데이터의 모든 정보를 조회\n",
        "query = \"\"\"\n",
        "\n",
        "SELECT *\n",
        "  FROM movies\n",
        " WHERE name LIKE '%맨'\n",
        " \n",
        "\"\"\"\n",
        "spark.sql(query).show()"
      ]
    },
    {
      "cell_type": "code",
      "execution_count": null,
      "id": "7b1ffbea",
      "metadata": {
        "id": "7b1ffbea",
        "outputId": "145f53bf-5e60-4919-8bf7-89b7ca63ec62"
      },
      "outputs": [
        {
          "name": "stdout",
          "output_type": "stream",
          "text": [
            "+---+--------+-------+----+-----+---+\n",
            "| id|    name|company|year|month|day|\n",
            "+---+--------+-------+----+-----+---+\n",
            "|  5|아이언맨|   마블|2008|    4| 30|\n",
            "+---+--------+-------+----+-----+---+\n",
            "\n"
          ]
        }
      ],
      "source": [
        "# '이'가 들어간 영화 찾기\n",
        "query = \"\"\"\n",
        "\n",
        "SELECT *\n",
        "  FROM movies\n",
        " WHERE name LIKE '%이%'\n",
        " \n",
        "\"\"\"\n",
        "spark.sql(query).show()"
      ]
    },
    {
      "cell_type": "code",
      "execution_count": null,
      "id": "a4afd7c7",
      "metadata": {
        "id": "a4afd7c7",
        "outputId": "d08ac8be-ce18-4cf9-af0b-e5859e45e2ff"
      },
      "outputs": [
        {
          "name": "stdout",
          "output_type": "stream",
          "text": [
            "+---+--------+-------+----+-----+---+\n",
            "| id|    name|company|year|month|day|\n",
            "+---+--------+-------+----+-----+---+\n",
            "|  1|어벤져스|   마블|2012|    4| 26|\n",
            "|  2|  슈퍼맨|     DC|2013|    6| 13|\n",
            "|  3|  배트맨|     DC|2008|    8|  6|\n",
            "|  5|아이언맨|   마블|2008|    4| 30|\n",
            "+---+--------+-------+----+-----+---+\n",
            "\n"
          ]
        }
      ],
      "source": [
        "# BETWEEN 특정 데이터와 데이터 사이를 조회\n",
        "\n",
        "# 개봉 월이 4 ~ 8월 사이. 4 <= 개봉월 <= 8\n",
        "\n",
        "query = \"\"\"\n",
        "\n",
        "SELECT *\n",
        "  FROM movies\n",
        " WHERE month BETWEEN 4 AND 8\n",
        " \n",
        "\"\"\"\n",
        "spark.sql(query).show()"
      ]
    },
    {
      "cell_type": "code",
      "execution_count": null,
      "id": "7e249bd5",
      "metadata": {
        "id": "7e249bd5",
        "outputId": "4a834683-52c1-4926-d453-6da4859c6099"
      },
      "outputs": [
        {
          "name": "stdout",
          "output_type": "stream",
          "text": [
            "+---+--------+-------+----+-----+---+\n",
            "| id|    name|company|year|month|day|\n",
            "+---+--------+-------+----+-----+---+\n",
            "|  3|  배트맨|     DC|2008|    8|  6|\n",
            "|  5|아이언맨|   마블|2008|    4| 30|\n",
            "+---+--------+-------+----+-----+---+\n",
            "\n"
          ]
        }
      ],
      "source": [
        "# 이름이 ~맨으로 끝나고, 개봉연도가 2010년 이하인 영화\n",
        "query = \"\"\"\n",
        "\n",
        "SELECT *\n",
        "  FROM movies\n",
        " WHERE name LIKE '%맨'\n",
        "   AND year <= 2010\n",
        " \n",
        "\"\"\"\n",
        "spark.sql(query).show()"
      ]
    },
    {
      "cell_type": "code",
      "execution_count": null,
      "id": "2f1a821f",
      "metadata": {
        "id": "2f1a821f",
        "outputId": "fa74e484-a17c-4c00-de9b-5ca080fd1656"
      },
      "outputs": [
        {
          "name": "stdout",
          "output_type": "stream",
          "text": [
            "+---+--------+-------+----+-----+---+\n",
            "| id|    name|company|year|month|day|\n",
            "+---+--------+-------+----+-----+---+\n",
            "|  1|어벤져스|   마블|2012|    4| 26|\n",
            "|  2|  슈퍼맨|     DC|2013|    6| 13|\n",
            "|  3|  배트맨|     DC|2008|    8|  6|\n",
            "|  5|아이언맨|   마블|2008|    4| 30|\n",
            "+---+--------+-------+----+-----+---+\n",
            "\n"
          ]
        }
      ],
      "source": [
        "# 영화의 회사가 마블 또는 DC인 영화\n",
        "query = \"\"\"\n",
        "\n",
        "SELECT *\n",
        "  FROM movies\n",
        " WHERE company = '마블' OR company='DC'\n",
        " \n",
        "\"\"\"\n",
        "spark.sql(query).show()"
      ]
    },
    {
      "cell_type": "code",
      "execution_count": null,
      "id": "05ab9e50",
      "metadata": {
        "id": "05ab9e50",
        "outputId": "c7660633-8335-41d4-ed6a-7ba8b80d4030"
      },
      "outputs": [
        {
          "name": "stdout",
          "output_type": "stream",
          "text": [
            "+---+--------+-------+----+-----+---+\n",
            "| id|    name|company|year|month|day|\n",
            "+---+--------+-------+----+-----+---+\n",
            "|  1|어벤져스|   마블|2012|    4| 26|\n",
            "|  2|  슈퍼맨|     DC|2013|    6| 13|\n",
            "|  3|  배트맨|     DC|2008|    8|  6|\n",
            "|  5|아이언맨|   마블|2008|    4| 30|\n",
            "+---+--------+-------+----+-----+---+\n",
            "\n"
          ]
        }
      ],
      "source": [
        "# in 연산을 활용해 보기\n",
        "# 컬럼명 in (값1, 값2, ...)\n",
        "\n",
        "query = \"\"\"\n",
        "\n",
        "SELECT *\n",
        "  FROM movies\n",
        " WHERE company in ('마블', 'DC')\n",
        " \n",
        "\"\"\"\n",
        "spark.sql(query).show()"
      ]
    },
    {
      "cell_type": "code",
      "execution_count": null,
      "id": "5a8d0021",
      "metadata": {
        "id": "5a8d0021",
        "outputId": "beccb2a0-49e0-437c-aeaa-7d8dcba317aa"
      },
      "outputs": [
        {
          "name": "stdout",
          "output_type": "stream",
          "text": [
            "+---+--------+-------+----+-----+---+\n",
            "| id|    name|company|year|month|day|\n",
            "+---+--------+-------+----+-----+---+\n",
            "|  1|어벤져스|   마블|2012|    4| 26|\n",
            "|  4|겨울왕국| 디즈니|2014|    1| 16|\n",
            "|  5|아이언맨|   마블|2008|    4| 30|\n",
            "+---+--------+-------+----+-----+---+\n",
            "\n"
          ]
        }
      ],
      "source": [
        "# 회사가 \"마\"로 시작을 하거나, \"니\"로 끝나는 영화\n",
        "query = \"\"\"\n",
        "\n",
        "SELECT *\n",
        "  FROM movies\n",
        " WHERE company LIKE '마%' OR company LIKE '%니'\n",
        " \n",
        "\"\"\"\n",
        "spark.sql(query).show()"
      ]
    },
    {
      "cell_type": "code",
      "execution_count": null,
      "id": "5d58ff9c",
      "metadata": {
        "id": "5d58ff9c",
        "outputId": "9d979201-daa0-42a3-c381-abe5d4c7b44d"
      },
      "outputs": [
        {
          "name": "stdout",
          "output_type": "stream",
          "text": [
            "+---+--------+-------+----+-----+---+\n",
            "| id|    name|company|year|month|day|\n",
            "+---+--------+-------+----+-----+---+\n",
            "|  1|어벤져스|   마블|2012|    4| 26|\n",
            "|  4|겨울왕국| 디즈니|2014|    1| 16|\n",
            "+---+--------+-------+----+-----+---+\n",
            "\n"
          ]
        }
      ],
      "source": [
        "# 회사가 \"마\"로 시작을 하거나, \"니\"로 끝나는 영화 중 2010년 이후로 개봉한 영화\n",
        "query = \"\"\"\n",
        "\n",
        "SELECT *\n",
        "  FROM movies\n",
        " WHERE ( company LIKE '마%' OR company LIKE '%니' )\n",
        "   AND year >= 2010\n",
        " \n",
        "\"\"\"\n",
        "spark.sql(query).show()"
      ]
    },
    {
      "cell_type": "markdown",
      "id": "8cef1a78",
      "metadata": {
        "id": "8cef1a78"
      },
      "source": [
        "`ORDER BY`절 : 정렬\n",
        "- `asc` : ascending. 오름차순 (기본값. 생략이 가능)\n",
        "- `desc` : descending : 내림차순"
      ]
    },
    {
      "cell_type": "code",
      "execution_count": null,
      "id": "19dc6b34",
      "metadata": {
        "id": "19dc6b34",
        "outputId": "f274ddf4-bffe-40f8-887f-f36a11055bbd"
      },
      "outputs": [
        {
          "name": "stdout",
          "output_type": "stream",
          "text": [
            "+---+--------+-------+----+-----+---+\n",
            "| id|    name|company|year|month|day|\n",
            "+---+--------+-------+----+-----+---+\n",
            "|  3|  배트맨|     DC|2008|    8|  6|\n",
            "|  5|아이언맨|   마블|2008|    4| 30|\n",
            "|  1|어벤져스|   마블|2012|    4| 26|\n",
            "|  2|  슈퍼맨|     DC|2013|    6| 13|\n",
            "|  4|겨울왕국| 디즈니|2014|    1| 16|\n",
            "+---+--------+-------+----+-----+---+\n",
            "\n"
          ]
        }
      ],
      "source": [
        "# 개봉 연도 오름차순으로 확인\n",
        "query = \"\"\"\n",
        "SELECT *\n",
        "  FROM movies\n",
        " ORDER BY year ASC\n",
        "\"\"\"\n",
        "\n",
        "spark.sql(query).show()"
      ]
    },
    {
      "cell_type": "code",
      "execution_count": null,
      "id": "c383ef41",
      "metadata": {
        "id": "c383ef41",
        "outputId": "405668e3-a62b-4291-a53e-daef5918a9c0"
      },
      "outputs": [
        {
          "name": "stdout",
          "output_type": "stream",
          "text": [
            "+---+--------+-------+----+-----+---+\n",
            "| id|    name|company|year|month|day|\n",
            "+---+--------+-------+----+-----+---+\n",
            "|  4|겨울왕국| 디즈니|2014|    1| 16|\n",
            "|  2|  슈퍼맨|     DC|2013|    6| 13|\n",
            "|  1|어벤져스|   마블|2012|    4| 26|\n",
            "|  3|  배트맨|     DC|2008|    8|  6|\n",
            "|  5|아이언맨|   마블|2008|    4| 30|\n",
            "+---+--------+-------+----+-----+---+\n",
            "\n"
          ]
        }
      ],
      "source": [
        "# 개봉 연도 오름차순으로 확인\n",
        "query = \"\"\"\n",
        "SELECT *\n",
        "  FROM movies\n",
        " ORDER BY year DESC\n",
        "\"\"\"\n",
        "\n",
        "spark.sql(query).show()"
      ]
    },
    {
      "cell_type": "markdown",
      "id": "68663ac5",
      "metadata": {
        "id": "68663ac5"
      },
      "source": [
        "- `count` : 개수 세기\n",
        "- `mean` : 평균 구하기\n",
        "- `sum` : 총 합"
      ]
    },
    {
      "cell_type": "code",
      "execution_count": null,
      "id": "02968938",
      "metadata": {
        "id": "02968938",
        "outputId": "0f2464e2-17bc-49d0-bd0b-1f4171983a56"
      },
      "outputs": [
        {
          "name": "stdout",
          "output_type": "stream",
          "text": [
            "+-----------+\n",
            "|movie_count|\n",
            "+-----------+\n",
            "|          2|\n",
            "+-----------+\n",
            "\n"
          ]
        }
      ],
      "source": [
        "query = \"\"\"\n",
        "SELECT count(*) as movie_count\n",
        "  FROM movies\n",
        "  WHERE company = \"DC\"\n",
        "\"\"\"\n",
        "\n",
        "spark.sql(query).show()"
      ]
    },
    {
      "cell_type": "markdown",
      "id": "9a3649bb",
      "metadata": {
        "id": "9a3649bb"
      },
      "source": [
        "# Join 구현하기"
      ]
    },
    {
      "cell_type": "code",
      "execution_count": null,
      "id": "827dbbae",
      "metadata": {
        "id": "827dbbae"
      },
      "outputs": [],
      "source": [
        "attendances = [\n",
        "    (1, 13934592., \"KR\"),\n",
        "    (2, 2182227.,\"KR\"),\n",
        "    (3, 4226242., \"KR\"),\n",
        "    (4, 10303058., \"KR\"),\n",
        "    (5, 4300365., \"KR\")\n",
        "]"
      ]
    },
    {
      "cell_type": "markdown",
      "id": "97d66e9d",
      "metadata": {
        "id": "97d66e9d"
      },
      "source": [
        "직접 스키마 지정해 보기"
      ]
    },
    {
      "cell_type": "code",
      "execution_count": null,
      "id": "5e05b826",
      "metadata": {
        "id": "5e05b826"
      },
      "outputs": [],
      "source": [
        "from pyspark.sql.types import StringType, FloatType, IntegerType, StructType, StructField"
      ]
    },
    {
      "cell_type": "code",
      "execution_count": null,
      "id": "f5afeb90",
      "metadata": {
        "id": "f5afeb90"
      },
      "outputs": [],
      "source": [
        "att_schema = StructType([ # 모든 컬럼의 타입을 통칭 - 컬럼 데이터의 집합\n",
        "    StructField(\"id\", IntegerType(), True), # StructField : 컬럼\n",
        "    StructField(\"att\", FloatType(), True),\n",
        "    StructField(\"theater_country\", StringType(), True)\n",
        "])"
      ]
    },
    {
      "cell_type": "code",
      "execution_count": null,
      "id": "e4e223fa",
      "metadata": {
        "id": "e4e223fa",
        "outputId": "7b139b0e-7a65-40a3-e9ac-317cd11915bd"
      },
      "outputs": [
        {
          "data": {
            "text/plain": [
              "[('id', 'int'), ('att', 'float'), ('theater_country', 'string')]"
            ]
          },
          "execution_count": 43,
          "metadata": {},
          "output_type": "execute_result"
        }
      ],
      "source": [
        "att_df = spark.createDataFrame(\n",
        "    data=attendances,\n",
        "    schema=att_schema\n",
        ")\n",
        "\n",
        "att_df.dtypes"
      ]
    },
    {
      "cell_type": "code",
      "execution_count": null,
      "id": "72f4804b",
      "metadata": {
        "id": "72f4804b"
      },
      "outputs": [],
      "source": [
        "att_df.createOrReplaceTempView(\"att\")"
      ]
    },
    {
      "cell_type": "code",
      "execution_count": null,
      "id": "4b73bac8",
      "metadata": {
        "id": "4b73bac8",
        "outputId": "f2d9a320-93e2-4080-db48-05545c34ed3d"
      },
      "outputs": [
        {
          "name": "stdout",
          "output_type": "stream",
          "text": [
            "+---+-----------+---------------+\n",
            "| id|        att|theater_country|\n",
            "+---+-----------+---------------+\n",
            "|  1|1.3934592E7|             KR|\n",
            "|  2|  2182227.0|             KR|\n",
            "|  3|  4226242.0|             KR|\n",
            "|  4|1.0303058E7|             KR|\n",
            "|  5|  4300365.0|             KR|\n",
            "+---+-----------+---------------+\n",
            "\n"
          ]
        }
      ],
      "source": [
        "# 쿼리를 사용하지 않고 모든 데이터를 확인\n",
        "#  DataFrame API를 사용\n",
        "att_df.select(\"*\").show()"
      ]
    },
    {
      "cell_type": "code",
      "execution_count": null,
      "id": "1a5474b9",
      "metadata": {
        "id": "1a5474b9",
        "outputId": "8204c2a8-233c-4c0c-895b-66fad9075d62"
      },
      "outputs": [
        {
          "name": "stdout",
          "output_type": "stream",
          "text": [
            "+---+--------+-------+-----------+\n",
            "| id|    name|company|        att|\n",
            "+---+--------+-------+-----------+\n",
            "|  1|어벤져스|   마블|1.3934592E7|\n",
            "|  2|  슈퍼맨|     DC|  2182227.0|\n",
            "|  3|  배트맨|     DC|  4226242.0|\n",
            "|  4|겨울왕국| 디즈니|1.0303058E7|\n",
            "|  5|아이언맨|   마블|  4300365.0|\n",
            "+---+--------+-------+-----------+\n",
            "\n"
          ]
        }
      ],
      "source": [
        "query = \"\"\"\n",
        "SELECT movies.id, movies.name, movies.company, att.att\n",
        "  FROM movies\n",
        "  JOIN att ON movies.id = att.id\n",
        "\"\"\"\n",
        "\n",
        "spark.sql(query).show()"
      ]
    },
    {
      "cell_type": "markdown",
      "id": "ef9ea1d5",
      "metadata": {
        "id": "ef9ea1d5"
      },
      "source": [
        "# 데이터 프레임 API"
      ]
    },
    {
      "cell_type": "code",
      "execution_count": null,
      "id": "dc45b160",
      "metadata": {
        "id": "dc45b160",
        "outputId": "7953282c-a29f-4904-9f38-e7ef736eae5d"
      },
      "outputs": [
        {
          "data": {
            "text/plain": [
              "[Row(id=1, name='어벤져스', company='마블', year=2012, month=4, day=26),\n",
              " Row(id=2, name='슈퍼맨', company='DC', year=2013, month=6, day=13),\n",
              " Row(id=3, name='배트맨', company='DC', year=2008, month=8, day=6),\n",
              " Row(id=4, name='겨울왕국', company='디즈니', year=2014, month=1, day=16),\n",
              " Row(id=5, name='아이언맨', company='마블', year=2008, month=4, day=30)]"
            ]
          },
          "execution_count": 50,
          "metadata": {},
          "output_type": "execute_result"
        }
      ],
      "source": [
        "# select\n",
        "# data frame api의 결과는 Transformations 작업이기 때문에 collect, show를 통해서 데이터를 확인\n",
        "df.select(\"*\").collect()"
      ]
    },
    {
      "cell_type": "code",
      "execution_count": null,
      "id": "0f073b82",
      "metadata": {
        "id": "0f073b82",
        "outputId": "60871ea8-a591-4d79-8865-8e39ac81cd6a"
      },
      "outputs": [
        {
          "data": {
            "text/plain": [
              "[Row(name='어벤져스', company='마블'),\n",
              " Row(name='슈퍼맨', company='DC'),\n",
              " Row(name='배트맨', company='DC'),\n",
              " Row(name='겨울왕국', company='디즈니'),\n",
              " Row(name='아이언맨', company='마블')]"
            ]
          },
          "execution_count": 51,
          "metadata": {},
          "output_type": "execute_result"
        }
      ],
      "source": [
        "df.select(\"name\", \"company\").collect()"
      ]
    },
    {
      "cell_type": "code",
      "execution_count": null,
      "id": "aeb1f57c",
      "metadata": {
        "id": "aeb1f57c",
        "outputId": "613e082a-5554-4dfc-f295-9cb076ed9b92"
      },
      "outputs": [
        {
          "name": "stdout",
          "output_type": "stream",
          "text": [
            "+--------+----+\n",
            "|    name|year|\n",
            "+--------+----+\n",
            "|어벤져스|  12|\n",
            "|  슈퍼맨|  13|\n",
            "|  배트맨|   8|\n",
            "|겨울왕국|  14|\n",
            "|아이언맨|   8|\n",
            "+--------+----+\n",
            "\n"
          ]
        }
      ],
      "source": [
        "df.select(df.name, (df.year-2000).alias(\"year\")).show()"
      ]
    },
    {
      "cell_type": "code",
      "execution_count": null,
      "id": "d202dd3c",
      "metadata": {
        "id": "d202dd3c",
        "outputId": "1c5e3b55-b229-4fc4-983d-0f6b3ea60786"
      },
      "outputs": [
        {
          "data": {
            "text/plain": [
              "[Row(count(id)=5)]"
            ]
          },
          "execution_count": 55,
          "metadata": {},
          "output_type": "execute_result"
        }
      ],
      "source": [
        "# agg : Aggreagte의 약자로써, 그룹핑 후 데이터를 하나로 합쳐주는 역할\n",
        "df.agg({\"id\": \"count\"}).collect()"
      ]
    },
    {
      "cell_type": "code",
      "execution_count": null,
      "id": "975aa412",
      "metadata": {
        "id": "975aa412",
        "outputId": "ca2a6c56-0625-4663-d1fa-1f1a4e69b66a"
      },
      "outputs": [
        {
          "data": {
            "text/plain": [
              "[Row(movie_count=2)]"
            ]
          },
          "execution_count": 57,
          "metadata": {},
          "output_type": "execute_result"
        }
      ],
      "source": [
        "query = \"\"\"\n",
        "SELECT count(*) as movie_count\n",
        "  FROM movies\n",
        "  WHERE company = \"DC\"\n",
        "\"\"\"\n",
        "\n",
        "spark.sql(query).collect()"
      ]
    },
    {
      "cell_type": "code",
      "execution_count": null,
      "id": "01c8f482",
      "metadata": {
        "id": "01c8f482",
        "outputId": "0c1f7d4a-9210-401c-b6dc-3c80ffe4eb65"
      },
      "outputs": [
        {
          "data": {
            "text/plain": [
              "[Row(min(year)=2008)]"
            ]
          },
          "execution_count": 56,
          "metadata": {},
          "output_type": "execute_result"
        }
      ],
      "source": [
        "from pyspark.sql import functions as F\n",
        "df.agg(F.min(df.year)).collect()"
      ]
    },
    {
      "cell_type": "code",
      "execution_count": null,
      "id": "ea4ca2aa",
      "metadata": {
        "id": "ea4ca2aa",
        "outputId": "fb519cf0-9154-4614-d364-b1057a3ed653"
      },
      "outputs": [
        {
          "data": {
            "text/plain": [
              "[Row(avg(id)=3.0, avg(year)=2011.0, avg(month)=4.6, avg(day)=18.2)]"
            ]
          },
          "execution_count": 58,
          "metadata": {},
          "output_type": "execute_result"
        }
      ],
      "source": [
        "df.groupBy().avg().collect()"
      ]
    },
    {
      "cell_type": "code",
      "execution_count": null,
      "id": "df9ca3a9",
      "metadata": {
        "id": "df9ca3a9",
        "outputId": "43559979-7399-4dee-d27f-72854df0b29f"
      },
      "outputs": [
        {
          "data": {
            "text/plain": [
              "[Row(company='디즈니', avg(month)=1.0),\n",
              " Row(company='마블', avg(month)=4.0),\n",
              " Row(company='DC', avg(month)=7.0)]"
            ]
          },
          "execution_count": 61,
          "metadata": {},
          "output_type": "execute_result"
        }
      ],
      "source": [
        "# 회사별 개봉월의 평균\n",
        "df.groupBy('company').agg({\"month\": \"mean\"}).collect()"
      ]
    },
    {
      "cell_type": "code",
      "execution_count": null,
      "id": "15020cb1",
      "metadata": {
        "id": "15020cb1",
        "outputId": "4bbe5428-0b21-457a-afe1-1d4c1c25d570"
      },
      "outputs": [
        {
          "data": {
            "text/plain": [
              "[Row(company='디즈니', month=1, count=1),\n",
              " Row(company='DC', month=8, count=1),\n",
              " Row(company='DC', month=6, count=1),\n",
              " Row(company='마블', month=4, count=2)]"
            ]
          },
          "execution_count": 62,
          "metadata": {},
          "output_type": "execute_result"
        }
      ],
      "source": [
        "# 회사 별 월 별 영화 개수 정보\n",
        "df.groupBy([df.company, df.month]).count().collect()"
      ]
    },
    {
      "cell_type": "code",
      "execution_count": null,
      "id": "b3f21cb1",
      "metadata": {
        "id": "b3f21cb1",
        "outputId": "cbf6cf1c-9c57-4b6b-c9c0-a583a1d65459"
      },
      "outputs": [
        {
          "name": "stdout",
          "output_type": "stream",
          "text": [
            "+--------+-----------+\n",
            "|    name|        att|\n",
            "+--------+-----------+\n",
            "|어벤져스|1.3934592E7|\n",
            "|  슈퍼맨|  2182227.0|\n",
            "|  배트맨|  4226242.0|\n",
            "|겨울왕국|1.0303058E7|\n",
            "|아이언맨|  4300365.0|\n",
            "+--------+-----------+\n",
            "\n"
          ]
        }
      ],
      "source": [
        "# join : 다른 데이터 프레임과 사용자가 지정한 컬럼을 기준으로 합치는 작업\n",
        "df.join(att_df, 'id').select(df.name, att_df.att).show()"
      ]
    },
    {
      "cell_type": "code",
      "execution_count": null,
      "id": "70883784",
      "metadata": {
        "id": "70883784",
        "outputId": "28c80815-5578-4e8d-cd3c-3f7a4fc4cf85"
      },
      "outputs": [
        {
          "data": {
            "text/plain": [
              "[Row(name='어벤져스', company='마블', year=2012),\n",
              " Row(name='아이언맨', company='마블', year=2008)]"
            ]
          },
          "execution_count": 69,
          "metadata": {},
          "output_type": "execute_result"
        }
      ],
      "source": [
        "# select, where, orderBy 절 사용\n",
        "marvel_df = df.select(\"name\", \"company\", \"year\").where(\"company=='마블'\").orderBy(\"id\")\n",
        "marvel_df.collect()"
      ]
    },
    {
      "cell_type": "code",
      "execution_count": null,
      "id": "40657f58",
      "metadata": {
        "id": "40657f58"
      },
      "outputs": [],
      "source": [
        "spark.stop()\n",
        "sc.stop()"
      ]
    }
  ],
  "metadata": {
    "kernelspec": {
      "display_name": "Python 3 (ipykernel)",
      "language": "python",
      "name": "python3"
    },
    "language_info": {
      "codemirror_mode": {
        "name": "ipython",
        "version": 3
      },
      "file_extension": ".py",
      "mimetype": "text/x-python",
      "name": "python",
      "nbconvert_exporter": "python",
      "pygments_lexer": "ipython3",
      "version": "3.9.7"
    },
    "colab": {
      "provenance": [],
      "include_colab_link": true
    }
  },
  "nbformat": 4,
  "nbformat_minor": 5
}