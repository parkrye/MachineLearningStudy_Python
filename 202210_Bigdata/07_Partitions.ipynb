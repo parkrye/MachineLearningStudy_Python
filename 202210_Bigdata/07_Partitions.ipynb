{
  "cells": [
    {
      "cell_type": "markdown",
      "metadata": {
        "id": "view-in-github",
        "colab_type": "text"
      },
      "source": [
        "<a href=\"https://colab.research.google.com/github/parkrye/Python/blob/main/202210_Bigdata/07_Partitions.ipynb\" target=\"_parent\"><img src=\"https://colab.research.google.com/assets/colab-badge.svg\" alt=\"Open In Colab\"/></a>"
      ]
    },
    {
      "cell_type": "code",
      "execution_count": null,
      "id": "4d3af885",
      "metadata": {
        "id": "4d3af885"
      },
      "outputs": [],
      "source": [
        "from pyspark import SparkConf, SparkContext\n",
        "\n",
        "conf = SparkConf().setMaster(\"local\").setAppName(\"partition\")\n",
        "sc = SparkContext(conf=conf)"
      ]
    },
    {
      "cell_type": "markdown",
      "id": "edfae3b3",
      "metadata": {
        "id": "edfae3b3"
      },
      "source": [
        "# 사용자가 지정한 파티션을 가지는 RDD를 생성\n",
        "- `partitionBy`"
      ]
    },
    {
      "cell_type": "code",
      "execution_count": null,
      "id": "562e1c86",
      "metadata": {
        "id": "562e1c86",
        "outputId": "e78e22bd-bbf6-4bbd-af67-d364c472b319"
      },
      "outputs": [
        {
          "data": {
            "text/plain": [
              "[(1, 1), (2, 2), (3, 3), (4, 4), (2, 2), (4, 4), (1, 1)]"
            ]
          },
          "execution_count": 3,
          "metadata": {},
          "output_type": "execute_result"
        }
      ],
      "source": [
        "pairs = sc.parallelize([\n",
        "    1, 2, 3, 4, 2, 4, 1\n",
        "]).map(lambda x : ( x, x ))\n",
        "\n",
        "pairs.collect()"
      ]
    },
    {
      "cell_type": "markdown",
      "id": "fffca084",
      "metadata": {
        "id": "fffca084"
      },
      "source": [
        "- `glom()` : 파티션 별로 데이터를 확인"
      ]
    },
    {
      "cell_type": "code",
      "execution_count": null,
      "id": "592cf032",
      "metadata": {
        "id": "592cf032",
        "outputId": "33c537ef-f459-4716-b82f-decb705bac37"
      },
      "outputs": [
        {
          "data": {
            "text/plain": [
              "[[(2, 2), (4, 4), (2, 2), (4, 4)], [(1, 1), (3, 3), (1, 1)]]"
            ]
          },
          "execution_count": 4,
          "metadata": {},
          "output_type": "execute_result"
        }
      ],
      "source": [
        "pairs.partitionBy(2).glom().collect()"
      ]
    },
    {
      "cell_type": "markdown",
      "id": "5110fa14",
      "metadata": {
        "id": "5110fa14"
      },
      "source": [
        "사용자 정의 함수를 파티션 배치 함수로 만들 수 있다."
      ]
    },
    {
      "cell_type": "code",
      "execution_count": null,
      "id": "928b1cba",
      "metadata": {
        "id": "928b1cba",
        "outputId": "1d5c790e-2489-46f9-8967-cb079d303abc"
      },
      "outputs": [
        {
          "data": {
            "text/plain": [
              "[[(2, 2), (4, 4), (2, 2), (4, 4)], [(1, 1), (3, 3), (1, 1)]]"
            ]
          },
          "execution_count": 5,
          "metadata": {},
          "output_type": "execute_result"
        }
      ],
      "source": [
        "pairs.partitionBy(2, lambda x : x % 2).glom().collect()"
      ]
    },
    {
      "cell_type": "markdown",
      "id": "1cf83261",
      "metadata": {
        "id": "1cf83261"
      },
      "source": [
        "파티션을 만든 후에 `persist()`를 하지 않으면 다음 연산에 불릴 때마다 파티션을 만드는 코드가 계속 반복 된다.\n",
        "- 셔플링이 반복적으로 계속 일어난다."
      ]
    },
    {
      "cell_type": "code",
      "execution_count": null,
      "id": "165cfd38",
      "metadata": {
        "id": "165cfd38",
        "outputId": "2add837d-22ba-4663-9853-6b13cebe7b00"
      },
      "outputs": [
        {
          "data": {
            "text/plain": [
              "[[(2, 2), (4, 4), (2, 2), (4, 4)], [(1, 1), (3, 3), (1, 1)]]"
            ]
          },
          "execution_count": 6,
          "metadata": {},
          "output_type": "execute_result"
        }
      ],
      "source": [
        "pairs.partitionBy(2, lambda x : x % 2).persist().glom().collect()"
      ]
    },
    {
      "cell_type": "code",
      "execution_count": null,
      "id": "7be6339c",
      "metadata": {
        "id": "7be6339c"
      },
      "outputs": [],
      "source": [
        "sc.stop()"
      ]
    }
  ],
  "metadata": {
    "kernelspec": {
      "display_name": "Python 3 (ipykernel)",
      "language": "python",
      "name": "python3"
    },
    "language_info": {
      "codemirror_mode": {
        "name": "ipython",
        "version": 3
      },
      "file_extension": ".py",
      "mimetype": "text/x-python",
      "name": "python",
      "nbconvert_exporter": "python",
      "pygments_lexer": "ipython3",
      "version": "3.9.7"
    },
    "colab": {
      "provenance": [],
      "include_colab_link": true
    }
  },
  "nbformat": 4,
  "nbformat_minor": 5
}