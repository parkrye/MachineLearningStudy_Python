{
  "nbformat": 4,
  "nbformat_minor": 0,
  "metadata": {
    "colab": {
      "provenance": [],
      "collapsed_sections": [],
      "authorship_tag": "ABX9TyOGLplDg2HjxTO74ZhzZytM",
      "include_colab_link": true
    },
    "kernelspec": {
      "name": "python3",
      "display_name": "Python 3"
    },
    "language_info": {
      "name": "python"
    }
  },
  "cells": [
    {
      "cell_type": "markdown",
      "metadata": {
        "id": "view-in-github",
        "colab_type": "text"
      },
      "source": [
        "<a href=\"https://colab.research.google.com/github/parkrye/Python/blob/main/202210_Bigdata/Selenium_Basic.ipynb\" target=\"_parent\"><img src=\"https://colab.research.google.com/assets/colab-badge.svg\" alt=\"Open In Colab\"/></a>"
      ]
    },
    {
      "cell_type": "code",
      "execution_count": null,
      "metadata": {
        "colab": {
          "base_uri": "https://localhost:8080/"
        },
        "id": "rJ8CEBqvsF21",
        "outputId": "81ad5ce7-f84b-4a85-ce0f-b100c8b2aa9f"
      },
      "outputs": [
        {
          "output_type": "stream",
          "name": "stdout",
          "text": [
            "Looking in indexes: https://pypi.org/simple, https://us-python.pkg.dev/colab-wheels/public/simple/\n",
            "Collecting selenium\n",
            "  Downloading selenium-4.5.0-py3-none-any.whl (995 kB)\n",
            "\u001b[K     |████████████████████████████████| 995 kB 4.3 MB/s \n",
            "\u001b[?25hRequirement already satisfied: certifi>=2021.10.8 in /usr/local/lib/python3.7/dist-packages (from selenium) (2022.9.24)\n",
            "Collecting trio~=0.17\n",
            "  Downloading trio-0.22.0-py3-none-any.whl (384 kB)\n",
            "\u001b[K     |████████████████████████████████| 384 kB 42.1 MB/s \n",
            "\u001b[?25hCollecting trio-websocket~=0.9\n",
            "  Downloading trio_websocket-0.9.2-py3-none-any.whl (16 kB)\n",
            "Collecting urllib3[socks]~=1.26\n",
            "  Downloading urllib3-1.26.12-py2.py3-none-any.whl (140 kB)\n",
            "\u001b[K     |████████████████████████████████| 140 kB 62.9 MB/s \n",
            "\u001b[?25hRequirement already satisfied: idna in /usr/local/lib/python3.7/dist-packages (from trio~=0.17->selenium) (2.10)\n",
            "Collecting outcome\n",
            "  Downloading outcome-1.2.0-py2.py3-none-any.whl (9.7 kB)\n",
            "Requirement already satisfied: attrs>=19.2.0 in /usr/local/lib/python3.7/dist-packages (from trio~=0.17->selenium) (22.1.0)\n",
            "Collecting sniffio\n",
            "  Downloading sniffio-1.3.0-py3-none-any.whl (10 kB)\n",
            "Collecting exceptiongroup>=1.0.0rc9\n",
            "  Downloading exceptiongroup-1.0.0-py3-none-any.whl (12 kB)\n",
            "Requirement already satisfied: sortedcontainers in /usr/local/lib/python3.7/dist-packages (from trio~=0.17->selenium) (2.4.0)\n",
            "Collecting async-generator>=1.9\n",
            "  Downloading async_generator-1.10-py3-none-any.whl (18 kB)\n",
            "Collecting wsproto>=0.14\n",
            "  Downloading wsproto-1.2.0-py3-none-any.whl (24 kB)\n",
            "Requirement already satisfied: PySocks!=1.5.7,<2.0,>=1.5.6 in /usr/local/lib/python3.7/dist-packages (from urllib3[socks]~=1.26->selenium) (1.7.1)\n",
            "Collecting h11<1,>=0.9.0\n",
            "  Downloading h11-0.14.0-py3-none-any.whl (58 kB)\n",
            "\u001b[K     |████████████████████████████████| 58 kB 5.2 MB/s \n",
            "\u001b[?25hRequirement already satisfied: typing-extensions in /usr/local/lib/python3.7/dist-packages (from h11<1,>=0.9.0->wsproto>=0.14->trio-websocket~=0.9->selenium) (4.1.1)\n",
            "Installing collected packages: sniffio, outcome, h11, exceptiongroup, async-generator, wsproto, urllib3, trio, trio-websocket, selenium\n",
            "  Attempting uninstall: urllib3\n",
            "    Found existing installation: urllib3 1.24.3\n",
            "    Uninstalling urllib3-1.24.3:\n",
            "      Successfully uninstalled urllib3-1.24.3\n",
            "\u001b[31mERROR: pip's dependency resolver does not currently take into account all the packages that are installed. This behaviour is the source of the following dependency conflicts.\n",
            "requests 2.23.0 requires urllib3!=1.25.0,!=1.25.1,<1.26,>=1.21.1, but you have urllib3 1.26.12 which is incompatible.\u001b[0m\n",
            "Successfully installed async-generator-1.10 exceptiongroup-1.0.0 h11-0.14.0 outcome-1.2.0 selenium-4.5.0 sniffio-1.3.0 trio-0.22.0 trio-websocket-0.9.2 urllib3-1.26.12 wsproto-1.2.0\n",
            "Get:1 https://cloud.r-project.org/bin/linux/ubuntu bionic-cran40/ InRelease [3,626 B]\n",
            "Get:2 http://security.ubuntu.com/ubuntu bionic-security InRelease [88.7 kB]\n",
            "Ign:3 https://developer.download.nvidia.com/compute/machine-learning/repos/ubuntu1804/x86_64  InRelease\n",
            "Get:4 https://developer.download.nvidia.com/compute/cuda/repos/ubuntu1804/x86_64  InRelease [1,581 B]\n",
            "Hit:5 https://developer.download.nvidia.com/compute/machine-learning/repos/ubuntu1804/x86_64  Release\n",
            "Get:6 https://cloud.r-project.org/bin/linux/ubuntu bionic-cran40/ Packages [98.9 kB]\n",
            "Get:7 http://ppa.launchpad.net/c2d4u.team/c2d4u4.0+/ubuntu bionic InRelease [15.9 kB]\n",
            "Get:8 https://developer.download.nvidia.com/compute/cuda/repos/ubuntu1804/x86_64  Packages [992 kB]\n",
            "Hit:9 http://archive.ubuntu.com/ubuntu bionic InRelease\n",
            "Get:10 http://archive.ubuntu.com/ubuntu bionic-updates InRelease [88.7 kB]\n",
            "Hit:12 http://ppa.launchpad.net/cran/libgit2/ubuntu bionic InRelease\n",
            "Get:13 http://archive.ubuntu.com/ubuntu bionic-backports InRelease [83.3 kB]\n",
            "Get:14 http://ppa.launchpad.net/deadsnakes/ppa/ubuntu bionic InRelease [15.9 kB]\n",
            "Get:15 http://security.ubuntu.com/ubuntu bionic-security/main amd64 Packages [3,035 kB]\n",
            "Get:16 http://archive.ubuntu.com/ubuntu bionic-updates/universe amd64 Packages [2,332 kB]\n",
            "Hit:17 http://ppa.launchpad.net/graphics-drivers/ppa/ubuntu bionic InRelease\n",
            "Get:18 http://ppa.launchpad.net/c2d4u.team/c2d4u4.0+/ubuntu bionic/main Sources [2,181 kB]\n",
            "Get:19 http://security.ubuntu.com/ubuntu bionic-security/universe amd64 Packages [1,554 kB]\n",
            "Get:20 http://archive.ubuntu.com/ubuntu bionic-updates/main amd64 Packages [3,467 kB]\n",
            "Get:21 http://ppa.launchpad.net/c2d4u.team/c2d4u4.0+/ubuntu bionic/main amd64 Packages [1,117 kB]\n",
            "Fetched 15.1 MB in 6s (2,459 kB/s)\n",
            "Reading package lists... Done\n",
            "Reading package lists... Done\n",
            "Building dependency tree       \n",
            "Reading state information... Done\n",
            "The following package was automatically installed and is no longer required:\n",
            "  libnvidia-common-460\n",
            "Use 'apt autoremove' to remove it.\n",
            "The following additional packages will be installed:\n",
            "  chromium-browser chromium-browser-l10n chromium-codecs-ffmpeg-extra\n",
            "Suggested packages:\n",
            "  webaccounts-chromium-extension unity-chromium-extension\n",
            "The following NEW packages will be installed:\n",
            "  chromium-browser chromium-browser-l10n chromium-chromedriver\n",
            "  chromium-codecs-ffmpeg-extra\n",
            "0 upgraded, 4 newly installed, 0 to remove and 20 not upgraded.\n",
            "Need to get 91.7 MB of archives.\n",
            "After this operation, 309 MB of additional disk space will be used.\n",
            "Get:1 http://archive.ubuntu.com/ubuntu bionic-updates/universe amd64 chromium-codecs-ffmpeg-extra amd64 105.0.5195.102-0ubuntu0.18.04.1 [1,156 kB]\n",
            "Get:2 http://archive.ubuntu.com/ubuntu bionic-updates/universe amd64 chromium-browser amd64 105.0.5195.102-0ubuntu0.18.04.1 [80.1 MB]\n",
            "Get:3 http://archive.ubuntu.com/ubuntu bionic-updates/universe amd64 chromium-browser-l10n all 105.0.5195.102-0ubuntu0.18.04.1 [5,097 kB]\n",
            "Get:4 http://archive.ubuntu.com/ubuntu bionic-updates/universe amd64 chromium-chromedriver amd64 105.0.5195.102-0ubuntu0.18.04.1 [5,320 kB]\n",
            "Fetched 91.7 MB in 8s (12.1 MB/s)\n",
            "Selecting previously unselected package chromium-codecs-ffmpeg-extra.\n",
            "(Reading database ... 123942 files and directories currently installed.)\n",
            "Preparing to unpack .../chromium-codecs-ffmpeg-extra_105.0.5195.102-0ubuntu0.18.04.1_amd64.deb ...\n",
            "Unpacking chromium-codecs-ffmpeg-extra (105.0.5195.102-0ubuntu0.18.04.1) ...\n",
            "Selecting previously unselected package chromium-browser.\n",
            "Preparing to unpack .../chromium-browser_105.0.5195.102-0ubuntu0.18.04.1_amd64.deb ...\n",
            "Unpacking chromium-browser (105.0.5195.102-0ubuntu0.18.04.1) ...\n",
            "Selecting previously unselected package chromium-browser-l10n.\n",
            "Preparing to unpack .../chromium-browser-l10n_105.0.5195.102-0ubuntu0.18.04.1_all.deb ...\n",
            "Unpacking chromium-browser-l10n (105.0.5195.102-0ubuntu0.18.04.1) ...\n",
            "Selecting previously unselected package chromium-chromedriver.\n",
            "Preparing to unpack .../chromium-chromedriver_105.0.5195.102-0ubuntu0.18.04.1_amd64.deb ...\n",
            "Unpacking chromium-chromedriver (105.0.5195.102-0ubuntu0.18.04.1) ...\n",
            "Setting up chromium-codecs-ffmpeg-extra (105.0.5195.102-0ubuntu0.18.04.1) ...\n",
            "Setting up chromium-browser (105.0.5195.102-0ubuntu0.18.04.1) ...\n",
            "update-alternatives: using /usr/bin/chromium-browser to provide /usr/bin/x-www-browser (x-www-browser) in auto mode\n",
            "update-alternatives: using /usr/bin/chromium-browser to provide /usr/bin/gnome-www-browser (gnome-www-browser) in auto mode\n",
            "Setting up chromium-chromedriver (105.0.5195.102-0ubuntu0.18.04.1) ...\n",
            "Setting up chromium-browser-l10n (105.0.5195.102-0ubuntu0.18.04.1) ...\n",
            "Processing triggers for man-db (2.8.3-2ubuntu0.1) ...\n",
            "Processing triggers for hicolor-icon-theme (0.17-2) ...\n",
            "Processing triggers for mime-support (3.60ubuntu1) ...\n",
            "Processing triggers for libc-bin (2.27-3ubuntu1.6) ...\n"
          ]
        }
      ],
      "source": [
        "!pip install selenium\n",
        "!apt-get update\n",
        "!apt install chromium-chromedriver"
      ]
    },
    {
      "cell_type": "code",
      "source": [
        "from selenium import webdriver\n",
        "from urllib.request import urlopen\n",
        "from bs4 import BeautifulSoup as bs\n",
        "from urllib.parse import quote_plus\n",
        "from selenium.webdriver.common.keys import Keys\n",
        "from selenium.webdriver.common.by import By\n",
        "import time\n",
        "import pandas as pd"
      ],
      "metadata": {
        "id": "fx4BmGI7uXqm"
      },
      "execution_count": null,
      "outputs": []
    },
    {
      "cell_type": "code",
      "source": [
        "chrome_options = webdriver.ChromeOptions()\n",
        "chrome_options.add_argument('--headless')\n",
        "chrome_options.add_argument('--no-sandbox')\n",
        "chrome_options.add_argument('--disable-dev-shm-usage')\n",
        "driver = webdriver.Chrome('chromedriver', chrome_options=chrome_options)"
      ],
      "metadata": {
        "colab": {
          "base_uri": "https://localhost:8080/"
        },
        "id": "0hSFZIk8wfxd",
        "outputId": "76cb5ad4-5f3c-498d-a3ec-8c40c51f08a5"
      },
      "execution_count": null,
      "outputs": [
        {
          "output_type": "stream",
          "name": "stderr",
          "text": [
            "/usr/local/lib/python3.7/dist-packages/ipykernel_launcher.py:5: DeprecationWarning: use options instead of chrome_options\n",
            "  \"\"\"\n"
          ]
        }
      ]
    },
    {
      "cell_type": "markdown",
      "source": [
        "\n",
        "\n",
        "---\n",
        "\n"
      ],
      "metadata": {
        "id": "0PkF4lYyBhNy"
      }
    },
    {
      "cell_type": "code",
      "source": [
        "url = 'http://unico2013.dothome.co.kr/crawling/exercise_css.html'\n",
        "driver.get(url)"
      ],
      "metadata": {
        "id": "QQR1ycM_1DJx"
      },
      "execution_count": null,
      "outputs": []
    },
    {
      "cell_type": "code",
      "source": [
        "element = driver.find_element(By.TAG_NAME, 'h1')\n",
        "element.text"
      ],
      "metadata": {
        "colab": {
          "base_uri": "https://localhost:8080/",
          "height": 35
        },
        "id": "uPifaRMN2Qlq",
        "outputId": "18ae0580-49a4-433c-d258-e05ba5ea2db3"
      },
      "execution_count": null,
      "outputs": [
        {
          "output_type": "execute_result",
          "data": {
            "text/plain": [
              "'CSS 선택자 학습'"
            ],
            "application/vnd.google.colaboratory.intrinsic+json": {
              "type": "string"
            }
          },
          "metadata": {},
          "execution_count": 218
        }
      ]
    },
    {
      "cell_type": "code",
      "source": [
        "element = driver.find_elements(By.TAG_NAME, 'h2')\n",
        "for tag in element:\n",
        "  print(tag.tag_name, ':', tag.text)"
      ],
      "metadata": {
        "colab": {
          "base_uri": "https://localhost:8080/"
        },
        "id": "VcfwUQdH2R7w",
        "outputId": "59955ddd-a930-43be-ff31-1883804841c3"
      },
      "execution_count": null,
      "outputs": [
        {
          "output_type": "stream",
          "name": "stdout",
          "text": [
            "h2 : 교육과정 소개\n",
            "h2 : 웹 클라이언트 기술\n",
            "h2 : 학습 순서(수집)\n"
          ]
        }
      ]
    },
    {
      "cell_type": "code",
      "source": [
        "element = driver.find_elements(By.CLASS_NAME, 'subtitle')\n",
        "for tag in element:\n",
        "  print(tag.id, ':', tag.tag_name, ':', tag.text)"
      ],
      "metadata": {
        "colab": {
          "base_uri": "https://localhost:8080/"
        },
        "id": "U6zgSmzN2vlQ",
        "outputId": "d1cdaff3-8a29-4969-ef85-99cfc1ad27aa"
      },
      "execution_count": null,
      "outputs": [
        {
          "output_type": "stream",
          "name": "stdout",
          "text": [
            "c423607f-e6b6-4b3b-a1e1-e954eb3f150b : h2 : 웹 클라이언트 기술\n",
            "16b81912-f103-422b-88ce-108f2514de64 : h2 : 학습 순서(수집)\n"
          ]
        }
      ]
    },
    {
      "cell_type": "code",
      "source": [
        "element = driver.find_element(By.ID, 'f_subtitle')\n",
        "element.text"
      ],
      "metadata": {
        "colab": {
          "base_uri": "https://localhost:8080/",
          "height": 35
        },
        "id": "sseW4PU63SGR",
        "outputId": "03e6f831-2062-41c2-9fa8-3ade20433951"
      },
      "execution_count": null,
      "outputs": [
        {
          "output_type": "execute_result",
          "data": {
            "text/plain": [
              "'교육과정 소개'"
            ],
            "application/vnd.google.colaboratory.intrinsic+json": {
              "type": "string"
            }
          },
          "metadata": {},
          "execution_count": 221
        }
      ]
    },
    {
      "cell_type": "code",
      "source": [
        "element = driver.find_element(By.CSS_SELECTOR, '#f_subtitle')\n",
        "element.text"
      ],
      "metadata": {
        "colab": {
          "base_uri": "https://localhost:8080/",
          "height": 35
        },
        "id": "I-eLM4rQ4eee",
        "outputId": "4a8f7837-1161-4b59-b603-52c7e64a7228"
      },
      "execution_count": null,
      "outputs": [
        {
          "output_type": "execute_result",
          "data": {
            "text/plain": [
              "'교육과정 소개'"
            ],
            "application/vnd.google.colaboratory.intrinsic+json": {
              "type": "string"
            }
          },
          "metadata": {},
          "execution_count": 222
        }
      ]
    },
    {
      "cell_type": "code",
      "source": [
        "element = driver.find_element(By.CSS_SELECTOR, 'section>h2')\n",
        "element.text"
      ],
      "metadata": {
        "colab": {
          "base_uri": "https://localhost:8080/",
          "height": 35
        },
        "id": "m7tF3d6T3yzZ",
        "outputId": "e74edcdd-f522-4c01-be7b-ce0b1869f1b8"
      },
      "execution_count": null,
      "outputs": [
        {
          "output_type": "execute_result",
          "data": {
            "text/plain": [
              "'교육과정 소개'"
            ],
            "application/vnd.google.colaboratory.intrinsic+json": {
              "type": "string"
            }
          },
          "metadata": {},
          "execution_count": 223
        }
      ]
    },
    {
      "cell_type": "code",
      "source": [
        "css_selector = driver.find_elements(By.CSS_SELECTOR, 'ul>li.atype')\n",
        "for css in css_selector:\n",
        "  print(css.id, ':', css.tag_name, ':', css.text)"
      ],
      "metadata": {
        "colab": {
          "base_uri": "https://localhost:8080/"
        },
        "id": "7GDEFZGS5Y-3",
        "outputId": "27fce5e8-f4ea-417f-8809-4be08b0589ad"
      },
      "execution_count": null,
      "outputs": [
        {
          "output_type": "stream",
          "name": "stdout",
          "text": [
            "9d24a27c-c2b5-4383-a9e8-573a5c86e01b : li : CSS3\n",
            "2264b8a6-ab06-4eac-a8b0-f14514fb2e52 : li : Ajax\n"
          ]
        }
      ]
    },
    {
      "cell_type": "code",
      "source": [
        "xpath = driver.find_element(By.XPATH, '//div/img')\n",
        "xpath"
      ],
      "metadata": {
        "colab": {
          "base_uri": "https://localhost:8080/"
        },
        "id": "FnX3m6Hf7COT",
        "outputId": "5b469c3b-8e23-496a-c8ea-b157b79a8caa"
      },
      "execution_count": null,
      "outputs": [
        {
          "output_type": "execute_result",
          "data": {
            "text/plain": [
              "<selenium.webdriver.remote.webelement.WebElement (session=\"a454ab3034365e4b37c7515fc81c14ac\", element=\"949a1364-0600-4eb2-8e00-a222aa3b927a\")>"
            ]
          },
          "metadata": {},
          "execution_count": 225
        }
      ]
    },
    {
      "cell_type": "code",
      "source": [
        "xpath = driver.find_elements(By.XPATH, '/html/body/header/nav/a')\n",
        "xpath"
      ],
      "metadata": {
        "colab": {
          "base_uri": "https://localhost:8080/"
        },
        "id": "qLNLzQVn7vsO",
        "outputId": "6b8982c2-10f9-4076-920d-d23b7338a8ba"
      },
      "execution_count": null,
      "outputs": [
        {
          "output_type": "execute_result",
          "data": {
            "text/plain": [
              "[<selenium.webdriver.remote.webelement.WebElement (session=\"a454ab3034365e4b37c7515fc81c14ac\", element=\"6fac03f3-cb07-420b-86ff-c98f98be36e3\")>,\n",
              " <selenium.webdriver.remote.webelement.WebElement (session=\"a454ab3034365e4b37c7515fc81c14ac\", element=\"70929ca1-95e1-46bc-9cd8-1c4e947978ca\")>]"
            ]
          },
          "metadata": {},
          "execution_count": 226
        }
      ]
    },
    {
      "cell_type": "markdown",
      "source": [
        "\n",
        "\n",
        "---\n",
        "\n"
      ],
      "metadata": {
        "id": "QR3GG9P0BYEw"
      }
    },
    {
      "cell_type": "code",
      "source": [
        "url = 'https://www.melon.com/chart/index.htm'\n",
        "driver.get(url)\n",
        "time.sleep(1)"
      ],
      "metadata": {
        "id": "v8E033bpBdYo"
      },
      "execution_count": null,
      "outputs": []
    },
    {
      "cell_type": "code",
      "source": [
        "# 차트파인더: //*[@id=\"gnb_menu\"]/ul[1]/li[1]/div/div/button/span\n",
        "driver.find_element(By.XPATH, '//*[@id=\"gnb_menu\"]/ul[1]/li[1]/div/div/button/span').click()\n",
        "time.sleep(1)\n",
        "\n",
        "# 주간 차트: //*[@id=\"d_chart_search\"]/div/h4[1]/a\n",
        "driver.find_element(By.XPATH, '//*[@id=\"d_chart_search\"]/div/h4[1]/a').click()\n",
        "time.sleep(1)\n",
        "\n",
        "# 2020년대: //*[@id=\"d_chart_search\"]/div/div/div[1]/div[1]/ul/li[1]/span/label\n",
        "driver.find_element(By.XPATH, '//*[@id=\"d_chart_search\"]/div/div/div[1]/div[1]/ul/li[1]/span/label').click()\n",
        "time.sleep(1)\n",
        "\n",
        "# 2022년도: //*[@id=\"d_chart_search\"]/div/div/div[2]/div[1]/ul/li[1]/span/label\n",
        "driver.find_element(By.XPATH, '//*[@id=\"d_chart_search\"]/div/div/div[2]/div[1]/ul/li[1]/span/label').click()\n",
        "time.sleep(1)\n",
        "\n",
        "# 1월: //*[@id=\"d_chart_search\"]/div/div/div[3]/div[1]/ul/li[1]/span/label\n",
        "driver.find_element(By.XPATH, '//*[@id=\"d_chart_search\"]/div/div/div[3]/div[1]/ul/li[1]/span/label').click()\n",
        "time.sleep(1)\n",
        "\n",
        "# 1주간: //*[@id=\"d_chart_search\"]/div/div/div[4]/div[1]/ul/li[1]/span/label\n",
        "driver.find_element(By.XPATH, '//*[@id=\"d_chart_search\"]/div/div/div[4]/div[1]/ul/li[1]/span/label').click()\n",
        "time.sleep(1)\n",
        "\n",
        "# 장르종합: //*[@id=\"d_chart_search\"]/div/div/div[5]/div[1]/ul/li[1]/span/label\n",
        "driver.find_element(By.XPATH, '//*[@id=\"d_chart_search\"]/div/div/div[5]/div[1]/ul/li[1]/span/label').click()\n",
        "time.sleep(1)\n",
        "\n",
        "# 검색: //*[@id=\"d_srch_form\"]/div[2]/button/span/span\n",
        "driver.find_element(By.XPATH, '//*[@id=\"d_srch_form\"]/div[2]/button/span/span').click()\n",
        "time.sleep(1)"
      ],
      "metadata": {
        "id": "5RbzTdLGCVOc"
      },
      "execution_count": null,
      "outputs": []
    },
    {
      "cell_type": "code",
      "source": [
        "html = driver.page_source\n",
        "\n",
        "soup = bs(html, 'html.parser')\n",
        "\n",
        "songs = soup.find_all('div', {'class': 'ellipsis rank01'})\n",
        "singers = soup.find_all('div', {'class': 'ellipsis rank02'})\n",
        "\n",
        "song_list = []\n",
        "singer_list = []\n",
        "chart_list = []\n",
        "for song in songs:\n",
        "  song_list.append(song.find('a').get_text())\n",
        "for singer in singers:\n",
        "  singer_list.append(singer.find('a').get_text())"
      ],
      "metadata": {
        "id": "w276xJm1GHSd"
      },
      "execution_count": null,
      "outputs": []
    },
    {
      "cell_type": "code",
      "source": [
        "dict_rank = {'song':song_list, 'singer':singer_list}\n",
        "df = pd.DataFrame(dict_rank)\n",
        "df.to_csv('melon_chart.csv')"
      ],
      "metadata": {
        "id": "tjUHCRDpJHDj"
      },
      "execution_count": null,
      "outputs": []
    },
    {
      "cell_type": "markdown",
      "source": [
        "\n",
        "\n",
        "---\n",
        "\n"
      ],
      "metadata": {
        "id": "Qz5subHXLDFm"
      }
    },
    {
      "cell_type": "code",
      "source": [
        "html = driver.page_source\n",
        "soup = bs(html, 'html.parser')"
      ],
      "metadata": {
        "id": "PbZHs-PiTQqJ"
      },
      "execution_count": null,
      "outputs": []
    },
    {
      "cell_type": "code",
      "source": [
        "url = 'https://www.tripadvisor.co.kr/Restaurant_Review-g317129-d5927684-Reviews-Matsu-Sokcho_Gangwon_do.html'\n",
        "driver.get(url)"
      ],
      "metadata": {
        "id": "7bdlPUh7LD0L"
      },
      "execution_count": null,
      "outputs": []
    },
    {
      "cell_type": "code",
      "source": [
        "# 리뷰 확장 CSS_SELECTOR\n",
        "more_btn_selector = \"span.taLnk.ulBlueLinks\"\n",
        "# 다음 리뷰 버튼\n",
        "next_btn_selector = 'a.nav.next'\n",
        "\n",
        "comment_title = []\n",
        "comment_content = []\n",
        "page = 0\n",
        "loop = True\n",
        "\n",
        "while loop:\n",
        "    time.sleep(2)\n",
        "    more_btn = driver.find_element(By.CSS_SELECTOR, more_btn_selector)\n",
        "    more_btn.click()\n",
        "\n",
        "    comment_div = soup.select('div.review-container')\n",
        "    for comment in comment_div:\n",
        "        title = comment.select_one('span.noQuotes').text.strip()\n",
        "        content = comment.select_one('p.partial_entry').text.strip()\n",
        "        comment_title.append(title)\n",
        "        comment_content.append(content)\n",
        "\n",
        "    try:\n",
        "        next_btn = driver.find_element(By.CSS_SELECTOR, next_btn_selector)\n",
        "        next_btn.click()\n",
        "    except:\n",
        "        loop = False"
      ],
      "metadata": {
        "id": "hwyJ0bRQSYLV"
      },
      "execution_count": null,
      "outputs": []
    },
    {
      "cell_type": "code",
      "source": [
        "dict_review = {'title':comment_title, 'content':comment_content}\n",
        "df = pd.DataFrame(dict_review)\n",
        "df.to_csv('restaurant_review.csv')"
      ],
      "metadata": {
        "id": "cQQOyq0_V2tL"
      },
      "execution_count": null,
      "outputs": []
    }
  ]
}