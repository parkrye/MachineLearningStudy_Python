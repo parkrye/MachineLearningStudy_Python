{
  "cells": [
    {
      "cell_type": "markdown",
      "metadata": {
        "id": "view-in-github",
        "colab_type": "text"
      },
      "source": [
        "<a href=\"https://colab.research.google.com/github/parkrye/Python/blob/main/202210_Bigdata/SparkSQL_%EC%8B%A4%EC%8A%B5_06_%EA%B3%A0%EA%B0%9D%EC%9D%98_%EC%B4%9D_%EC%A7%80%EC%B6%9C_%EA%B3%84%EC%82%B0_%EC%A0%95%EB%A0%AC.ipynb\" target=\"_parent\"><img src=\"https://colab.research.google.com/assets/colab-badge.svg\" alt=\"Open In Colab\"/></a>"
      ]
    },
    {
      "cell_type": "code",
      "execution_count": null,
      "id": "a00e9513",
      "metadata": {
        "id": "a00e9513"
      },
      "outputs": [],
      "source": [
        "from pyspark.sql import SparkSession\n",
        "from pyspark.sql import functions as func"
      ]
    },
    {
      "cell_type": "code",
      "execution_count": null,
      "id": "eab3e303",
      "metadata": {
        "id": "eab3e303"
      },
      "outputs": [],
      "source": [
        "# master : 스파크 컨텍스트가 실행될 위치.\n",
        "# local로 설정 : 해당 컴퓨터(로컬)에서 실행\n",
        "#  yarn, mesos 같은 클러스터 관리 플랫폼을 선택\n",
        "spark = SparkSession.builder.appName(\"Total-Spent-By-Customer\").master(\"local[*]\").getOrCreate()"
      ]
    },
    {
      "cell_type": "code",
      "execution_count": null,
      "id": "7e3cc033",
      "metadata": {
        "id": "7e3cc033",
        "outputId": "0499751f-ff4b-43c9-e385-97700bfebdd4"
      },
      "outputs": [
        {
          "data": {
            "text/plain": [
              "['44,8602,37.19', '35,5368,65.89', '2,3391,40.64']"
            ]
          },
          "execution_count": 5,
          "metadata": {},
          "output_type": "execute_result"
        }
      ],
      "source": [
        "directory = \"C:\\\\Users\\\\mhso_lec\\\\study_notebook\\\\data\"\n",
        "filename  = \"customer-orders.csv\"\n",
        "\n",
        "lines = spark.sparkContext.textFile(f\"file:///{directory}\\\\{filename}\")\n",
        "lines.collect()[:3]"
      ]
    },
    {
      "cell_type": "code",
      "execution_count": null,
      "id": "baf2f83e",
      "metadata": {
        "id": "baf2f83e"
      },
      "outputs": [],
      "source": [
        "from pyspark.sql.types import StructType, StructField, IntegerType, FloatType\n",
        "\n",
        "schema = StructType([\n",
        "    StructField(\"cust_id\", IntegerType(), True),\n",
        "    StructField(\"item_id\", IntegerType(), True),\n",
        "    StructField(\"amount_spent\", FloatType(), True)\n",
        "])"
      ]
    },
    {
      "cell_type": "code",
      "execution_count": null,
      "id": "3633e19e",
      "metadata": {
        "id": "3633e19e",
        "outputId": "1e5f9968-9e3a-4c44-d4c0-afc1aced20e3"
      },
      "outputs": [
        {
          "name": "stdout",
          "output_type": "stream",
          "text": [
            "+-------+-------+------------+\n",
            "|cust_id|item_id|amount_spent|\n",
            "+-------+-------+------------+\n",
            "|     44|   8602|       37.19|\n",
            "|     35|   5368|       65.89|\n",
            "|      2|   3391|       40.64|\n",
            "|     47|   6694|       14.98|\n",
            "|     29|    680|       13.08|\n",
            "|     91|   8900|       24.59|\n",
            "|     70|   3959|       68.68|\n",
            "|     85|   1733|       28.53|\n",
            "|     53|   9900|       83.55|\n",
            "|     14|   1505|        4.32|\n",
            "|     51|   3378|        19.8|\n",
            "|     42|   6926|       57.77|\n",
            "|      2|   4424|       55.77|\n",
            "|     79|   9291|       33.17|\n",
            "|     50|   3901|       23.57|\n",
            "|     20|   6633|        6.49|\n",
            "|     15|   6148|       65.53|\n",
            "|     44|   8331|       99.19|\n",
            "|      5|   3505|       64.18|\n",
            "|     48|   5539|       32.42|\n",
            "+-------+-------+------------+\n",
            "only showing top 20 rows\n",
            "\n"
          ]
        }
      ],
      "source": [
        "customersDF = spark.read.schema(schema).csv(f\"file:///{directory}\\\\{filename}\")\n",
        "customersDF.show()"
      ]
    },
    {
      "cell_type": "code",
      "execution_count": null,
      "id": "728be8e6",
      "metadata": {
        "id": "728be8e6",
        "outputId": "c3a6387d-7c4c-4dae-dae2-4349b1a5292f"
      },
      "outputs": [
        {
          "name": "stdout",
          "output_type": "stream",
          "text": [
            "+-------+------------+\n",
            "|cust_id|amount_spent|\n",
            "+-------+------------+\n",
            "|     44|       37.19|\n",
            "|     35|       65.89|\n",
            "|      2|       40.64|\n",
            "|     47|       14.98|\n",
            "|     29|       13.08|\n",
            "|     91|       24.59|\n",
            "|     70|       68.68|\n",
            "|     85|       28.53|\n",
            "|     53|       83.55|\n",
            "|     14|        4.32|\n",
            "|     51|        19.8|\n",
            "|     42|       57.77|\n",
            "|      2|       55.77|\n",
            "|     79|       33.17|\n",
            "|     50|       23.57|\n",
            "|     20|        6.49|\n",
            "|     15|       65.53|\n",
            "|     44|       99.19|\n",
            "|      5|       64.18|\n",
            "|     48|       32.42|\n",
            "+-------+------------+\n",
            "only showing top 20 rows\n",
            "\n"
          ]
        }
      ],
      "source": [
        "customersDF = customersDF.select(\"cust_id\", \"amount_spent\")\n",
        "customersDF.show()"
      ]
    },
    {
      "cell_type": "code",
      "execution_count": null,
      "id": "c8d2275f",
      "metadata": {
        "id": "c8d2275f",
        "outputId": "642ee970-6b69-4403-9dbc-9cab8b7168ea"
      },
      "outputs": [
        {
          "name": "stdout",
          "output_type": "stream",
          "text": [
            "+-------+-----------+\n",
            "|cust_id|total_spent|\n",
            "+-------+-----------+\n",
            "|     31|    4765.05|\n",
            "|     85|    5503.43|\n",
            "|     65|    5140.35|\n",
            "|     53|     4945.3|\n",
            "|     78|    4524.51|\n",
            "|     34|     5330.8|\n",
            "|     81|    5112.71|\n",
            "|     28|    5000.71|\n",
            "|     76|    4904.21|\n",
            "|     27|    4915.89|\n",
            "|     26|     5250.4|\n",
            "|     44|    4756.89|\n",
            "|     12|    4664.59|\n",
            "|     91|    4642.26|\n",
            "|     22|    5019.45|\n",
            "|     93|    5265.75|\n",
            "|     47|     4316.3|\n",
            "|      1|     4958.6|\n",
            "|     52|    5245.06|\n",
            "|     13|    4367.62|\n",
            "+-------+-----------+\n",
            "only showing top 20 rows\n",
            "\n"
          ]
        }
      ],
      "source": [
        "totalByCustomer = customersDF.groupBy(\"cust_id\").agg(func.round(func.sum(\"amount_spent\"), 2).alias(\"total_spent\"))\n",
        "totalByCustomer.show()"
      ]
    },
    {
      "cell_type": "code",
      "execution_count": null,
      "id": "bf87906a",
      "metadata": {
        "id": "bf87906a",
        "outputId": "31896ef3-399e-4c25-ad9e-cd877df5e774"
      },
      "outputs": [
        {
          "name": "stdout",
          "output_type": "stream",
          "text": [
            "+-------+-----------+\n",
            "|cust_id|total_spent|\n",
            "+-------+-----------+\n",
            "|     45|    3309.38|\n",
            "|     79|    3790.57|\n",
            "|     96|    3924.23|\n",
            "|     23|    4042.65|\n",
            "|     99|    4172.29|\n",
            "|     75|     4178.5|\n",
            "|     36|    4278.05|\n",
            "|     98|    4297.26|\n",
            "|     47|     4316.3|\n",
            "|     77|    4327.73|\n",
            "|     13|    4367.62|\n",
            "|     48|    4384.33|\n",
            "|     49|     4394.6|\n",
            "|     94|    4475.57|\n",
            "|     67|    4505.79|\n",
            "|     50|    4517.27|\n",
            "|     78|    4524.51|\n",
            "|      5|    4561.07|\n",
            "|     57|     4628.4|\n",
            "|     83|     4635.8|\n",
            "+-------+-----------+\n",
            "only showing top 20 rows\n",
            "\n"
          ]
        }
      ],
      "source": [
        "totalByCustomersSorted = totalByCustomer.sort(\"total_spent\")\n",
        "totalByCustomersSorted.show()"
      ]
    },
    {
      "cell_type": "code",
      "execution_count": null,
      "id": "df08083e",
      "metadata": {
        "id": "df08083e",
        "outputId": "07c315bb-02cf-4c47-8229-a5ef8632c2ae"
      },
      "outputs": [
        {
          "name": "stdout",
          "output_type": "stream",
          "text": [
            "+-------+-----------+\n",
            "|cust_id|total_spent|\n",
            "+-------+-----------+\n",
            "|     45|    3309.38|\n",
            "|     79|    3790.57|\n",
            "|     96|    3924.23|\n",
            "|     23|    4042.65|\n",
            "|     99|    4172.29|\n",
            "|     75|     4178.5|\n",
            "|     36|    4278.05|\n",
            "|     98|    4297.26|\n",
            "|     47|     4316.3|\n",
            "|     77|    4327.73|\n",
            "|     13|    4367.62|\n",
            "|     48|    4384.33|\n",
            "|     49|     4394.6|\n",
            "|     94|    4475.57|\n",
            "|     67|    4505.79|\n",
            "|     50|    4517.27|\n",
            "|     78|    4524.51|\n",
            "|      5|    4561.07|\n",
            "|     57|     4628.4|\n",
            "|     83|     4635.8|\n",
            "|     91|    4642.26|\n",
            "|     74|    4647.13|\n",
            "|     84|    4652.94|\n",
            "|      3|    4659.63|\n",
            "|     12|    4664.59|\n",
            "|     66|    4681.92|\n",
            "|     56|    4701.02|\n",
            "|     21|    4707.41|\n",
            "|     80|    4727.86|\n",
            "|     14|    4735.03|\n",
            "|     37|     4735.2|\n",
            "|      7|    4755.07|\n",
            "|     44|    4756.89|\n",
            "|     31|    4765.05|\n",
            "|     82|    4812.49|\n",
            "|      4|    4815.05|\n",
            "|     10|     4819.7|\n",
            "|     88|    4830.55|\n",
            "|     20|    4836.86|\n",
            "|     89|    4851.48|\n",
            "|     95|    4876.84|\n",
            "|     38|    4898.46|\n",
            "|     76|    4904.21|\n",
            "|     86|    4908.81|\n",
            "|     27|    4915.89|\n",
            "|     18|    4921.27|\n",
            "|     53|     4945.3|\n",
            "|      1|     4958.6|\n",
            "|     51|    4975.22|\n",
            "|     16|    4979.06|\n",
            "|     30|    4990.72|\n",
            "|     28|    5000.71|\n",
            "|     22|    5019.45|\n",
            "|     29|    5032.53|\n",
            "|     17|    5032.68|\n",
            "|     60|    5040.71|\n",
            "|     25|    5057.61|\n",
            "|     19|    5059.43|\n",
            "|     81|    5112.71|\n",
            "|     69|    5123.01|\n",
            "|     65|    5140.35|\n",
            "|     11|    5152.29|\n",
            "|     35|    5155.42|\n",
            "|     40|    5186.43|\n",
            "|     87|     5206.4|\n",
            "|     52|    5245.06|\n",
            "|     26|     5250.4|\n",
            "|     62|    5253.32|\n",
            "|     33|    5254.66|\n",
            "|     24|    5259.92|\n",
            "|     93|    5265.75|\n",
            "|     64|    5288.69|\n",
            "|     90|    5290.41|\n",
            "|     55|    5298.09|\n",
            "|      9|    5322.65|\n",
            "|     34|     5330.8|\n",
            "|     72|    5337.44|\n",
            "|     70|    5368.25|\n",
            "|     43|    5368.83|\n",
            "|     92|    5379.28|\n",
            "|      6|    5397.88|\n",
            "|     15|    5413.51|\n",
            "|     63|    5415.15|\n",
            "|     58|    5437.73|\n",
            "|     32|    5496.05|\n",
            "|     61|    5497.48|\n",
            "|     85|    5503.43|\n",
            "|      8|    5517.24|\n",
            "|      0|    5524.95|\n",
            "|     41|    5637.62|\n",
            "|     59|    5642.89|\n",
            "|     42|    5696.84|\n",
            "|     46|    5963.11|\n",
            "|     97|    5977.19|\n",
            "|      2|    5994.59|\n",
            "|     71|    5995.66|\n",
            "|     54|    6065.39|\n",
            "|     39|    6193.11|\n",
            "|     73|     6206.2|\n",
            "|     68|    6375.45|\n",
            "+-------+-----------+\n",
            "\n"
          ]
        }
      ],
      "source": [
        "# 전체 출력\n",
        "totalByCustomersSorted.show(totalByCustomersSorted.count())"
      ]
    },
    {
      "cell_type": "code",
      "execution_count": null,
      "id": "238c0fa6",
      "metadata": {
        "id": "238c0fa6"
      },
      "outputs": [],
      "source": [
        "spark.stop()"
      ]
    }
  ],
  "metadata": {
    "kernelspec": {
      "display_name": "Python 3 (ipykernel)",
      "language": "python",
      "name": "python3"
    },
    "language_info": {
      "codemirror_mode": {
        "name": "ipython",
        "version": 3
      },
      "file_extension": ".py",
      "mimetype": "text/x-python",
      "name": "python",
      "nbconvert_exporter": "python",
      "pygments_lexer": "ipython3",
      "version": "3.9.7"
    },
    "colab": {
      "provenance": [],
      "include_colab_link": true
    }
  },
  "nbformat": 4,
  "nbformat_minor": 5
}