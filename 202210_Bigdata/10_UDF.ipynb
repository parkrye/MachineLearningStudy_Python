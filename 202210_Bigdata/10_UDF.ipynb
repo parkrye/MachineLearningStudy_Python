{
  "cells": [
    {
      "cell_type": "markdown",
      "metadata": {
        "id": "view-in-github",
        "colab_type": "text"
      },
      "source": [
        "<a href=\"https://colab.research.google.com/github/parkrye/Python/blob/main/202210_Bigdata/10_UDF.ipynb\" target=\"_parent\"><img src=\"https://colab.research.google.com/assets/colab-badge.svg\" alt=\"Open In Colab\"/></a>"
      ]
    },
    {
      "cell_type": "code",
      "execution_count": null,
      "id": "81113106",
      "metadata": {
        "id": "81113106"
      },
      "outputs": [],
      "source": [
        "from pyspark.sql import SparkSession\n",
        "spark = SparkSession.builder.appName(\"udf\").getOrCreate()"
      ]
    },
    {
      "cell_type": "code",
      "execution_count": null,
      "id": "30d69357",
      "metadata": {
        "id": "30d69357"
      },
      "outputs": [],
      "source": [
        "datas = [\n",
        "    (\"A\", \"2022-04-16\", 31200),\n",
        "    (\"B\", \"2022-04-17\", 41200),\n",
        "    (\"C\", \"2022-04-11\", 31500),\n",
        "    (\"D\", \"2022-04-12\", 21500),\n",
        "    (\"E\", \"2022-04-13\", 51000)\n",
        "]"
      ]
    },
    {
      "cell_type": "code",
      "execution_count": null,
      "id": "99975223",
      "metadata": {
        "id": "99975223"
      },
      "outputs": [],
      "source": [
        "columns = [\"product\", \"date\", \"price\"]"
      ]
    },
    {
      "cell_type": "code",
      "execution_count": null,
      "id": "b24be38e",
      "metadata": {
        "id": "b24be38e",
        "outputId": "c20130d0-7c59-4d89-b77a-a4d810244493"
      },
      "outputs": [
        {
          "name": "stdout",
          "output_type": "stream",
          "text": [
            "+-------+----------+-----+\n",
            "|product|      date|price|\n",
            "+-------+----------+-----+\n",
            "|      A|2022-04-16|31200|\n",
            "|      B|2022-04-17|41200|\n",
            "|      C|2022-04-11|31500|\n",
            "|      D|2022-04-12|21500|\n",
            "|      E|2022-04-13|51000|\n",
            "+-------+----------+-----+\n",
            "\n"
          ]
        }
      ],
      "source": [
        "df = spark.createDataFrame(data=datas, schema=columns)\n",
        "df.show()"
      ]
    },
    {
      "cell_type": "code",
      "execution_count": null,
      "id": "065ff086",
      "metadata": {
        "id": "065ff086"
      },
      "outputs": [],
      "source": [
        "df.createOrReplaceTempView(\"product\")"
      ]
    },
    {
      "cell_type": "code",
      "execution_count": null,
      "id": "48153928",
      "metadata": {
        "id": "48153928",
        "outputId": "7216e1a2-0386-4c21-f0f3-74f006859a0b"
      },
      "outputs": [
        {
          "name": "stdout",
          "output_type": "stream",
          "text": [
            "+-------+----------+-----+\n",
            "|product|      date|price|\n",
            "+-------+----------+-----+\n",
            "|      A|2022-04-16|31200|\n",
            "|      B|2022-04-17|41200|\n",
            "|      C|2022-04-11|31500|\n",
            "|      D|2022-04-12|21500|\n",
            "|      E|2022-04-13|51000|\n",
            "+-------+----------+-----+\n",
            "\n"
          ]
        }
      ],
      "source": [
        "spark.sql(\"select * from product\").show()"
      ]
    },
    {
      "cell_type": "markdown",
      "id": "122c32d8",
      "metadata": {
        "id": "122c32d8"
      },
      "source": [
        "# UDF\n",
        "- User Defined function : 사용자 정의 함수\n",
        "- 쿼리에서 사용할 함수를 개발자가 직접 만들어 줄 수 있는 기능\n",
        "- 타입을 지정하지 않으면 무조건 String 형식으로 리턴"
      ]
    },
    {
      "cell_type": "code",
      "execution_count": null,
      "id": "d6ad286a",
      "metadata": {
        "id": "d6ad286a",
        "outputId": "7d007705-21d3-4065-8b73-e29005080169"
      },
      "outputs": [
        {
          "data": {
            "text/plain": [
              "<function __main__.squared(n)>"
            ]
          },
          "execution_count": 8,
          "metadata": {},
          "output_type": "execute_result"
        }
      ],
      "source": [
        "from pyspark.sql.types import LongType\n",
        "\n",
        "# 파이썬에서 만든 함수\n",
        "def squared(n):\n",
        "    return n * n\n",
        "\n",
        "spark.udf.register(\"squared\", squared, LongType())"
      ]
    },
    {
      "cell_type": "code",
      "execution_count": null,
      "id": "0d61471d",
      "metadata": {
        "id": "0d61471d",
        "outputId": "529c1062-2ce2-4da8-af83-bc2e09c7906f"
      },
      "outputs": [
        {
          "name": "stdout",
          "output_type": "stream",
          "text": [
            "+-----+--------------+\n",
            "|price|squared(price)|\n",
            "+-----+--------------+\n",
            "|31200|     973440000|\n",
            "|41200|    1697440000|\n",
            "|31500|     992250000|\n",
            "|21500|     462250000|\n",
            "|51000|    2601000000|\n",
            "+-----+--------------+\n",
            "\n"
          ]
        }
      ],
      "source": [
        "spark.sql(\"SELECT price, squared(price) FROM product\").show()"
      ]
    },
    {
      "cell_type": "code",
      "execution_count": null,
      "id": "f1968b10",
      "metadata": {
        "id": "f1968b10",
        "outputId": "392e90b9-ecca-490b-ee45-e920ab37d05d"
      },
      "outputs": [
        {
          "name": "stdout",
          "output_type": "stream",
          "text": [
            "삼만삼천\n"
          ]
        }
      ],
      "source": [
        "def read_number(n):\n",
        "    units = [\"\", \"십\", \"백\", \"천\", \"만\"]\n",
        "    nums = '일이삼사오육칠팔구'\n",
        "    result = []\n",
        "    i = 0\n",
        "    while n > 0:\n",
        "        n, r = divmod(n, 10)\n",
        "        if r > 0:\n",
        "            result.append(nums[r-1]+units[i])\n",
        "        i += 1\n",
        "    return \"\".join(reversed(result))\n",
        "\n",
        "print(read_number(33000))"
      ]
    },
    {
      "cell_type": "code",
      "execution_count": null,
      "id": "5f1dd623",
      "metadata": {
        "id": "5f1dd623",
        "outputId": "cf8e00cf-43d4-4116-d33d-1ab43de0d448"
      },
      "outputs": [
        {
          "data": {
            "text/plain": [
              "<function __main__.read_number(n)>"
            ]
          },
          "execution_count": 13,
          "metadata": {},
          "output_type": "execute_result"
        }
      ],
      "source": [
        "spark.udf.register(\"read_number\", read_number)"
      ]
    },
    {
      "cell_type": "code",
      "execution_count": null,
      "id": "5ed89aac",
      "metadata": {
        "id": "5ed89aac",
        "outputId": "9c1860e5-b0c6-4d48-9321-d0a6a30004c6"
      },
      "outputs": [
        {
          "name": "stdout",
          "output_type": "stream",
          "text": [
            "+-----+------------------+\n",
            "|price|read_number(price)|\n",
            "+-----+------------------+\n",
            "|31200|      삼만일천이백|\n",
            "|41200|      사만일천이백|\n",
            "|31500|      삼만일천오백|\n",
            "|21500|      이만일천오백|\n",
            "|51000|          오만일천|\n",
            "+-----+------------------+\n",
            "\n"
          ]
        }
      ],
      "source": [
        "spark.sql(\"select price, read_number(price) from product\").show()"
      ]
    },
    {
      "cell_type": "code",
      "execution_count": null,
      "id": "7a7f61f2",
      "metadata": {
        "id": "7a7f61f2",
        "outputId": "d6d90017-e483-46d3-f661-cace54de5624"
      },
      "outputs": [
        {
          "data": {
            "text/plain": [
              "<function __main__.get_weekday(date)>"
            ]
          },
          "execution_count": 15,
          "metadata": {},
          "output_type": "execute_result"
        }
      ],
      "source": [
        "def get_weekday(date):\n",
        "    import calendar\n",
        "    return calendar.day_name[date.weekday()]\n",
        "\n",
        "spark.udf.register(\"get_weekday\", get_weekday)"
      ]
    },
    {
      "cell_type": "code",
      "execution_count": null,
      "id": "c41ab333",
      "metadata": {
        "id": "c41ab333",
        "outputId": "1bbed6c6-2fc8-4185-932c-1b77ec759611"
      },
      "outputs": [
        {
          "name": "stdout",
          "output_type": "stream",
          "text": [
            "+-------+----------+--------------------------+------------------+\n",
            "|product|      date|get_weekday(to_date(date))|read_number(price)|\n",
            "+-------+----------+--------------------------+------------------+\n",
            "|      A|2022-04-16|                  Saturday|      삼만일천이백|\n",
            "|      B|2022-04-17|                    Sunday|      사만일천이백|\n",
            "|      C|2022-04-11|                    Monday|      삼만일천오백|\n",
            "|      D|2022-04-12|                   Tuesday|      이만일천오백|\n",
            "|      E|2022-04-13|                 Wednesday|          오만일천|\n",
            "+-------+----------+--------------------------+------------------+\n",
            "\n"
          ]
        }
      ],
      "source": [
        "query = \"\"\"\n",
        "select\n",
        "    product,\n",
        "    date,\n",
        "    get_weekday(to_date(date)),\n",
        "    read_number(price)\n",
        "from product\n",
        "\"\"\"\n",
        "\n",
        "spark.sql(query).show()"
      ]
    },
    {
      "cell_type": "code",
      "execution_count": null,
      "id": "de7c3100",
      "metadata": {
        "id": "de7c3100"
      },
      "outputs": [],
      "source": [
        "spark.stop()"
      ]
    },
    {
      "cell_type": "code",
      "execution_count": null,
      "id": "1b13d948",
      "metadata": {
        "id": "1b13d948"
      },
      "outputs": [],
      "source": []
    }
  ],
  "metadata": {
    "kernelspec": {
      "display_name": "Python 3 (ipykernel)",
      "language": "python",
      "name": "python3"
    },
    "language_info": {
      "codemirror_mode": {
        "name": "ipython",
        "version": 3
      },
      "file_extension": ".py",
      "mimetype": "text/x-python",
      "name": "python",
      "nbconvert_exporter": "python",
      "pygments_lexer": "ipython3",
      "version": "3.9.7"
    },
    "colab": {
      "provenance": [],
      "include_colab_link": true
    }
  },
  "nbformat": 4,
  "nbformat_minor": 5
}