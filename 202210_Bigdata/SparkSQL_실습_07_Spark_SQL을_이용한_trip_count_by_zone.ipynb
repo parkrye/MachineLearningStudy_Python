{
  "cells": [
    {
      "cell_type": "markdown",
      "metadata": {
        "id": "view-in-github",
        "colab_type": "text"
      },
      "source": [
        "<a href=\"https://colab.research.google.com/github/parkrye/Python/blob/main/202210_Bigdata/SparkSQL_%EC%8B%A4%EC%8A%B5_07_Spark_SQL%EC%9D%84_%EC%9D%B4%EC%9A%A9%ED%95%9C_trip_count_by_zone.ipynb\" target=\"_parent\"><img src=\"https://colab.research.google.com/assets/colab-badge.svg\" alt=\"Open In Colab\"/></a>"
      ]
    },
    {
      "cell_type": "code",
      "execution_count": null,
      "id": "4a4f21ad",
      "metadata": {
        "id": "4a4f21ad"
      },
      "outputs": [],
      "source": [
        "directory=\"C:\\\\Users\\\\mhso_lec\\\\study_notebook\\\\data\"\n",
        "trip_file = \"fhvhv_tripdata_2020-03.csv\"\n",
        "zone_file = \"taxi+_zone_lookup.csv\""
      ]
    },
    {
      "cell_type": "code",
      "execution_count": null,
      "id": "f3ff4f8d",
      "metadata": {
        "id": "f3ff4f8d"
      },
      "outputs": [],
      "source": [
        "from pyspark.sql import SparkSession\n",
        "\n",
        "spark = SparkSession.builder.appName(\"trip_count_sql\").getOrCreate()"
      ]
    },
    {
      "cell_type": "code",
      "execution_count": null,
      "id": "df767aa8",
      "metadata": {
        "id": "df767aa8"
      },
      "outputs": [],
      "source": [
        "trip_data = spark.read.csv(f\"file:///{directory}\\\\{trip_file}\", inferSchema=True, header=True)\n",
        "zone_data = spark.read.csv(f\"file:///{directory}\\\\{zone_file}\", inferSchema=True, header=True)"
      ]
    },
    {
      "cell_type": "code",
      "execution_count": null,
      "id": "65bc5ff3",
      "metadata": {
        "id": "65bc5ff3",
        "outputId": "fee3a73a-4ae8-47cd-9e9c-d2f4fa2eda10"
      },
      "outputs": [
        {
          "name": "stdout",
          "output_type": "stream",
          "text": [
            "+-----------------+--------------------+-------------------+-------------------+------------+------------+-------+\n",
            "|hvfhs_license_num|dispatching_base_num|    pickup_datetime|   dropoff_datetime|PULocationID|DOLocationID|SR_Flag|\n",
            "+-----------------+--------------------+-------------------+-------------------+------------+------------+-------+\n",
            "|           HV0005|              B02510|2020-03-01 00:03:40|2020-03-01 00:23:39|          81|         159|   null|\n",
            "|           HV0005|              B02510|2020-03-01 00:28:05|2020-03-01 00:38:57|         168|         119|   null|\n",
            "|           HV0003|              B02764|2020-03-01 00:03:07|2020-03-01 00:15:04|         137|         209|      1|\n",
            "|           HV0003|              B02764|2020-03-01 00:18:42|2020-03-01 00:38:42|         209|          80|   null|\n",
            "|           HV0003|              B02764|2020-03-01 00:44:24|2020-03-01 00:58:44|         256|         226|   null|\n",
            "+-----------------+--------------------+-------------------+-------------------+------------+------------+-------+\n",
            "only showing top 5 rows\n",
            "\n"
          ]
        }
      ],
      "source": [
        "trip_data.show(5)"
      ]
    },
    {
      "cell_type": "code",
      "execution_count": null,
      "id": "9338f1ed",
      "metadata": {
        "id": "9338f1ed",
        "outputId": "b63faddc-2f2d-42bd-8a99-cb8eb2ade1cd"
      },
      "outputs": [
        {
          "name": "stdout",
          "output_type": "stream",
          "text": [
            "+----------+-------------+--------------------+------------+\n",
            "|LocationID|      Borough|                Zone|service_zone|\n",
            "+----------+-------------+--------------------+------------+\n",
            "|         1|          EWR|      Newark Airport|         EWR|\n",
            "|         2|       Queens|         Jamaica Bay|   Boro Zone|\n",
            "|         3|        Bronx|Allerton/Pelham G...|   Boro Zone|\n",
            "|         4|    Manhattan|       Alphabet City| Yellow Zone|\n",
            "|         5|Staten Island|       Arden Heights|   Boro Zone|\n",
            "+----------+-------------+--------------------+------------+\n",
            "only showing top 5 rows\n",
            "\n"
          ]
        }
      ],
      "source": [
        "zone_data.show(5)"
      ]
    },
    {
      "cell_type": "code",
      "execution_count": null,
      "id": "235eb0f2",
      "metadata": {
        "id": "235eb0f2"
      },
      "outputs": [],
      "source": [
        "trip_data.createOrReplaceTempView(\"trip_data\")\n",
        "zone_data.createOrReplaceTempView(\"zone_data\")"
      ]
    },
    {
      "cell_type": "markdown",
      "id": "776c5549",
      "metadata": {
        "id": "776c5549"
      },
      "source": [
        "- PULocationID ( Pick Up Location ID ) : 승차 Location ID\n",
        "- DOLocationID ( Drop Off Location ID ) : 하차 Location ID"
      ]
    },
    {
      "cell_type": "code",
      "execution_count": null,
      "id": "c28b280b",
      "metadata": {
        "id": "c28b280b",
        "outputId": "6124e9c9-7293-4fb6-9af8-e40fd462986b"
      },
      "outputs": [
        {
          "name": "stdout",
          "output_type": "stream",
          "text": [
            "+-------------+-------+\n",
            "|      borough|  trips|\n",
            "+-------------+-------+\n",
            "|       Queens|2437383|\n",
            "|          EWR|    362|\n",
            "|      Unknown|    845|\n",
            "|     Brooklyn|3735764|\n",
            "|Staten Island| 178818|\n",
            "|    Manhattan|4953140|\n",
            "|        Bronx|2086592|\n",
            "+-------------+-------+\n",
            "\n"
          ]
        }
      ],
      "source": [
        "# 승차 Location(PULocationID)별 개수 세기\n",
        "query = \"\"\"\n",
        "\n",
        "select borough, count(*) as trips\n",
        "from (\n",
        "        select zone_data.Borough as borough\n",
        "        from trip_data\n",
        "        join zone_data on trip_data.PULocationID = zone_data.LocationID )\n",
        "        \n",
        "group by borough\n",
        "\n",
        "\"\"\"\n",
        "spark.sql(query).show()"
      ]
    },
    {
      "cell_type": "code",
      "execution_count": null,
      "id": "0bfadcb6",
      "metadata": {
        "id": "0bfadcb6",
        "outputId": "ee395153-b0b5-4c44-cf04-794646a2d302"
      },
      "outputs": [
        {
          "name": "stdout",
          "output_type": "stream",
          "text": [
            "+-------------+-------+\n",
            "|      borough|  trips|\n",
            "+-------------+-------+\n",
            "|       Queens|2468408|\n",
            "|          EWR|  65066|\n",
            "|      Unknown| 387759|\n",
            "|     Brooklyn|3696682|\n",
            "|Staten Island| 177727|\n",
            "|    Manhattan|4553776|\n",
            "|        Bronx|2043486|\n",
            "+-------------+-------+\n",
            "\n"
          ]
        }
      ],
      "source": [
        "# 하차 Location(DOLocationID)별 개수 세기\n",
        "query = \"\"\"\n",
        "\n",
        "select borough, count(*) as trips\n",
        "from (\n",
        "        select zone_data.Borough as borough\n",
        "        from trip_data\n",
        "        join zone_data on trip_data.DOLocationID = zone_data.LocationID )\n",
        "        \n",
        "group by borough\n",
        "\n",
        "\"\"\"\n",
        "spark.sql(query).show()"
      ]
    },
    {
      "cell_type": "code",
      "execution_count": null,
      "id": "c22db5a9",
      "metadata": {
        "id": "c22db5a9",
        "outputId": "7e47a384-189a-47c4-9618-1f3647802a9f"
      },
      "outputs": [
        {
          "name": "stdout",
          "output_type": "stream",
          "text": [
            "+--------------------+------+\n",
            "|                Zone| trips|\n",
            "+--------------------+------+\n",
            "| Crown Heights North|163091|\n",
            "|       East New York|134198|\n",
            "|         JFK Airport|114179|\n",
            "|        East Village|112017|\n",
            "|      Bushwick South|110150|\n",
            "|Central Harlem North|108070|\n",
            "|   LaGuardia Airport|104119|\n",
            "|Washington Height...| 97324|\n",
            "|Flatbush/Ditmas Park| 95724|\n",
            "|            Canarsie| 94484|\n",
            "|TriBeCa/Civic Center| 94155|\n",
            "|             Astoria| 92676|\n",
            "|             Bedford| 90352|\n",
            "|      Midtown Center| 90261|\n",
            "|  Stuyvesant Heights| 88749|\n",
            "|            Union Sq| 88372|\n",
            "|Times Sq/Theatre ...| 86870|\n",
            "|Prospect-Lefferts...| 84347|\n",
            "|         Brownsville| 82764|\n",
            "|Mott Haven/Port M...| 82396|\n",
            "+--------------------+------+\n",
            "only showing top 20 rows\n",
            "\n"
          ]
        }
      ],
      "source": [
        "query = \"\"\"\n",
        "    \n",
        "select zone_data.Zone, count(*) as trips\n",
        "\n",
        "from trip_data\n",
        "join zone_data on trip_data.PULocationID = zone_data.LocationID\n",
        "\n",
        "where trip_data.hvfhs_license_num = \"HV0003\"\n",
        "\n",
        "group by zone_data.Zone order by trips desc\n",
        "    \n",
        "\"\"\"\n",
        "\n",
        "spark.sql(query).show()"
      ]
    },
    {
      "cell_type": "code",
      "execution_count": null,
      "id": "61075874",
      "metadata": {
        "id": "61075874",
        "outputId": "47e7b5e4-379e-4584-a3c1-cf454df3b671"
      },
      "outputs": [
        {
          "name": "stdout",
          "output_type": "stream",
          "text": [
            "== Parsed Logical Plan ==\n",
            "'Sort ['trips DESC NULLS LAST], true\n",
            "+- 'Aggregate ['zone_data.Zone], ['zone_data.Zone, 'count(1) AS trips#244]\n",
            "   +- 'Filter ('trip_data.hvfhs_license_num = HV0003)\n",
            "      +- 'Join Inner, ('trip_data.PULocationID = 'zone_data.LocationID)\n",
            "         :- 'UnresolvedRelation [trip_data], [], false\n",
            "         +- 'UnresolvedRelation [zone_data], [], false\n",
            "\n",
            "== Analyzed Logical Plan ==\n",
            "Zone: string, trips: bigint\n",
            "Sort [trips#244L DESC NULLS LAST], true\n",
            "+- Aggregate [Zone#48], [Zone#48, count(1) AS trips#244L]\n",
            "   +- Filter (hvfhs_license_num#16 = HV0003)\n",
            "      +- Join Inner, (PULocationID#20 = LocationID#46)\n",
            "         :- SubqueryAlias trip_data\n",
            "         :  +- View (`trip_data`, [hvfhs_license_num#16,dispatching_base_num#17,pickup_datetime#18,dropoff_datetime#19,PULocationID#20,DOLocationID#21,SR_Flag#22])\n",
            "         :     +- Relation [hvfhs_license_num#16,dispatching_base_num#17,pickup_datetime#18,dropoff_datetime#19,PULocationID#20,DOLocationID#21,SR_Flag#22] csv\n",
            "         +- SubqueryAlias zone_data\n",
            "            +- View (`zone_data`, [LocationID#46,Borough#47,Zone#48,service_zone#49])\n",
            "               +- Relation [LocationID#46,Borough#47,Zone#48,service_zone#49] csv\n",
            "\n",
            "== Optimized Logical Plan ==\n",
            "Sort [trips#244L DESC NULLS LAST], true\n",
            "+- Aggregate [Zone#48], [Zone#48, count(1) AS trips#244L]\n",
            "   +- Project [Zone#48]\n",
            "      +- Join Inner, (PULocationID#20 = LocationID#46)\n",
            "         :- Project [PULocationID#20]\n",
            "         :  +- Filter ((isnotnull(hvfhs_license_num#16) AND (hvfhs_license_num#16 = HV0003)) AND isnotnull(PULocationID#20))\n",
            "         :     +- Relation [hvfhs_license_num#16,dispatching_base_num#17,pickup_datetime#18,dropoff_datetime#19,PULocationID#20,DOLocationID#21,SR_Flag#22] csv\n",
            "         +- Project [LocationID#46, Zone#48]\n",
            "            +- Filter isnotnull(LocationID#46)\n",
            "               +- Relation [LocationID#46,Borough#47,Zone#48,service_zone#49] csv\n",
            "\n",
            "== Physical Plan ==\n",
            "AdaptiveSparkPlan isFinalPlan=false\n",
            "+- Sort [trips#244L DESC NULLS LAST], true, 0\n",
            "   +- Exchange rangepartitioning(trips#244L DESC NULLS LAST, 200), ENSURE_REQUIREMENTS, [id=#707]\n",
            "      +- HashAggregate(keys=[Zone#48], functions=[count(1)], output=[Zone#48, trips#244L])\n",
            "         +- Exchange hashpartitioning(Zone#48, 200), ENSURE_REQUIREMENTS, [id=#704]\n",
            "            +- HashAggregate(keys=[Zone#48], functions=[partial_count(1)], output=[Zone#48, count#249L])\n",
            "               +- Project [Zone#48]\n",
            "                  +- BroadcastHashJoin [PULocationID#20], [LocationID#46], Inner, BuildRight, false\n",
            "                     :- Project [PULocationID#20]\n",
            "                     :  +- Filter ((isnotnull(hvfhs_license_num#16) AND (hvfhs_license_num#16 = HV0003)) AND isnotnull(PULocationID#20))\n",
            "                     :     +- FileScan csv [hvfhs_license_num#16,PULocationID#20] Batched: false, DataFilters: [isnotnull(hvfhs_license_num#16), (hvfhs_license_num#16 = HV0003), isnotnull(PULocationID#20)], Format: CSV, Location: InMemoryFileIndex(1 paths)[file:/C:/Users/mhso_lec/study_notebook/data/fhvhv_tripdata_2020-03.csv], PartitionFilters: [], PushedFilters: [IsNotNull(hvfhs_license_num), EqualTo(hvfhs_license_num,HV0003), IsNotNull(PULocationID)], ReadSchema: struct<hvfhs_license_num:string,PULocationID:int>\n",
            "                     +- BroadcastExchange HashedRelationBroadcastMode(List(cast(input[0, int, false] as bigint)),false), [id=#699]\n",
            "                        +- Filter isnotnull(LocationID#46)\n",
            "                           +- FileScan csv [LocationID#46,Zone#48] Batched: false, DataFilters: [isnotnull(LocationID#46)], Format: CSV, Location: InMemoryFileIndex(1 paths)[file:/C:/Users/mhso_lec/study_notebook/data/taxi+_zone_lookup.csv], PartitionFilters: [], PushedFilters: [IsNotNull(LocationID)], ReadSchema: struct<LocationID:int,Zone:string>\n",
            "\n"
          ]
        }
      ],
      "source": [
        "spark.sql(query).explain(True)"
      ]
    },
    {
      "cell_type": "code",
      "execution_count": null,
      "id": "735c3ca6",
      "metadata": {
        "id": "735c3ca6"
      },
      "outputs": [],
      "source": [
        "spark.stop()"
      ]
    }
  ],
  "metadata": {
    "kernelspec": {
      "display_name": "Python 3 (ipykernel)",
      "language": "python",
      "name": "python3"
    },
    "language_info": {
      "codemirror_mode": {
        "name": "ipython",
        "version": 3
      },
      "file_extension": ".py",
      "mimetype": "text/x-python",
      "name": "python",
      "nbconvert_exporter": "python",
      "pygments_lexer": "ipython3",
      "version": "3.9.7"
    },
    "colab": {
      "provenance": [],
      "collapsed_sections": [],
      "include_colab_link": true
    }
  },
  "nbformat": 4,
  "nbformat_minor": 5
}