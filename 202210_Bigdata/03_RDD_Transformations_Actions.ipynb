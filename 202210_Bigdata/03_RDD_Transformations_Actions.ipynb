{
  "cells": [
    {
      "cell_type": "markdown",
      "metadata": {
        "id": "view-in-github",
        "colab_type": "text"
      },
      "source": [
        "<a href=\"https://colab.research.google.com/github/parkrye/Python/blob/main/202210_Bigdata/03_RDD_Transformations_Actions.ipynb\" target=\"_parent\"><img src=\"https://colab.research.google.com/assets/colab-badge.svg\" alt=\"Open In Colab\"/></a>"
      ]
    },
    {
      "cell_type": "code",
      "execution_count": null,
      "id": "60288926",
      "metadata": {
        "id": "60288926"
      },
      "outputs": [],
      "source": [
        "from pyspark import SparkConf, SparkContext"
      ]
    },
    {
      "cell_type": "code",
      "execution_count": null,
      "id": "b711744c",
      "metadata": {
        "id": "b711744c"
      },
      "outputs": [],
      "source": [
        "conf = SparkConf().setMaster(\"local\").setAppName(\"transformations_actions\")\n",
        "sc = SparkContext(conf=conf)"
      ]
    },
    {
      "cell_type": "markdown",
      "id": "bd36692d",
      "metadata": {
        "id": "bd36692d"
      },
      "source": [
        "스파크 환경 설정 확인"
      ]
    },
    {
      "cell_type": "code",
      "execution_count": null,
      "id": "5f4c3653",
      "metadata": {
        "id": "5f4c3653",
        "outputId": "209a0ea1-451f-4ec7-f21c-16f53410db50"
      },
      "outputs": [
        {
          "data": {
            "text/plain": [
              "[('spark.master', 'local'),\n",
              " ('spark.rdd.compress', 'True'),\n",
              " ('spark.app.id', 'local-1648807947231'),\n",
              " ('spark.serializer.objectStreamReset', '100'),\n",
              " ('spark.submit.pyFiles', ''),\n",
              " ('spark.app.startTime', '1648807945887'),\n",
              " ('spark.executor.id', 'driver'),\n",
              " ('spark.driver.port', '51053'),\n",
              " ('spark.app.name', 'transformations_actions'),\n",
              " ('spark.submit.deployMode', 'client'),\n",
              " ('spark.ui.showConsoleProgress', 'true'),\n",
              " ('spark.driver.host', 'DESKTOP-F55CILR')]"
            ]
          },
          "execution_count": 3,
          "metadata": {},
          "output_type": "execute_result"
        }
      ],
      "source": [
        "sc.getConf().getAll()"
      ]
    },
    {
      "cell_type": "markdown",
      "id": "201a9eb8",
      "metadata": {
        "id": "201a9eb8"
      },
      "source": [
        "# RDD 생성\n",
        "일반 파이썬의 리스트를 이용해서 RDD 생성\n",
        "- `parallelize([item1, item2, item3, ...])`"
      ]
    },
    {
      "cell_type": "code",
      "execution_count": null,
      "id": "7f14d848",
      "metadata": {
        "id": "7f14d848",
        "outputId": "fb5d5ada-cec0-416b-9c4c-2f41d47aa0c1"
      },
      "outputs": [
        {
          "data": {
            "text/plain": [
              "ParallelCollectionRDD[0] at readRDDFromFile at PythonRDD.scala:274"
            ]
          },
          "execution_count": 4,
          "metadata": {},
          "output_type": "execute_result"
        }
      ],
      "source": [
        "foods = sc.parallelize([\n",
        "    \"짜장면\", \"마라탕\", \"짬뽕\", \"떡볶이\", \"쌀국수\", \"짬뽕\", \"짜장면\", \"짜장면\", \"짜장면\", \"라면\", \"우동\", \"라면\"\n",
        "])\n",
        "foods"
      ]
    },
    {
      "cell_type": "code",
      "execution_count": null,
      "id": "2f23ffbe",
      "metadata": {
        "id": "2f23ffbe",
        "outputId": "2b850f05-8930-4fd0-ab9a-4db9d1231c27"
      },
      "outputs": [
        {
          "data": {
            "text/plain": [
              "['짜장면', '마라탕', '짬뽕', '떡볶이', '쌀국수', '짬뽕', '짜장면', '짜장면', '짜장면', '라면', '우동', '라면']"
            ]
          },
          "execution_count": 5,
          "metadata": {},
          "output_type": "execute_result"
        }
      ],
      "source": [
        "foods.collect()"
      ]
    },
    {
      "cell_type": "markdown",
      "id": "b59844b4",
      "metadata": {
        "id": "b59844b4"
      },
      "source": [
        "각 음식 별 개수 세기\n",
        "- `countByValue()`"
      ]
    },
    {
      "cell_type": "code",
      "execution_count": null,
      "id": "2cc18f22",
      "metadata": {
        "id": "2cc18f22",
        "outputId": "32f92c47-0ee6-4902-984f-618b5cc1bf68"
      },
      "outputs": [
        {
          "data": {
            "text/plain": [
              "defaultdict(int,\n",
              "            {'짜장면': 4,\n",
              "             '마라탕': 1,\n",
              "             '짬뽕': 2,\n",
              "             '떡볶이': 1,\n",
              "             '쌀국수': 1,\n",
              "             '라면': 2,\n",
              "             '우동': 1})"
            ]
          },
          "execution_count": 6,
          "metadata": {},
          "output_type": "execute_result"
        }
      ],
      "source": [
        "foods.countByValue()"
      ]
    },
    {
      "cell_type": "markdown",
      "id": "d71b5650",
      "metadata": {
        "id": "d71b5650"
      },
      "source": [
        "상위 `n`개의 데이터 가져오기\n",
        "- `take(n)`"
      ]
    },
    {
      "cell_type": "code",
      "execution_count": null,
      "id": "87cf93ab",
      "metadata": {
        "id": "87cf93ab",
        "outputId": "d2ea030e-fd3e-4774-ad6d-80abd067b57d"
      },
      "outputs": [
        {
          "data": {
            "text/plain": [
              "['짜장면', '마라탕', '짬뽕', '떡볶이', '쌀국수', '짬뽕', '짜장면', '짜장면', '짜장면', '라면']"
            ]
          },
          "execution_count": 7,
          "metadata": {},
          "output_type": "execute_result"
        }
      ],
      "source": [
        "foods.take(10)"
      ]
    },
    {
      "cell_type": "code",
      "execution_count": null,
      "id": "4c3fc3c1",
      "metadata": {
        "id": "4c3fc3c1",
        "outputId": "f6b2ecd7-230a-47e7-9e1b-2a9214c66578"
      },
      "outputs": [
        {
          "data": {
            "text/plain": [
              "['짜장면', '마라탕', '짬뽕']"
            ]
          },
          "execution_count": 8,
          "metadata": {},
          "output_type": "execute_result"
        }
      ],
      "source": [
        "foods.take(3)"
      ]
    },
    {
      "cell_type": "markdown",
      "id": "d01d7dcc",
      "metadata": {
        "id": "d01d7dcc"
      },
      "source": [
        "처음 1개의 데이터 가져오기\n",
        "- `first()`"
      ]
    },
    {
      "cell_type": "code",
      "execution_count": null,
      "id": "43fbba7b",
      "metadata": {
        "id": "43fbba7b",
        "outputId": "fc81b4af-6acc-43b9-bd6c-35c716600d82"
      },
      "outputs": [
        {
          "data": {
            "text/plain": [
              "'짜장면'"
            ]
          },
          "execution_count": 9,
          "metadata": {},
          "output_type": "execute_result"
        }
      ],
      "source": [
        "foods.first()"
      ]
    },
    {
      "cell_type": "markdown",
      "id": "7ca110bc",
      "metadata": {
        "id": "7ca110bc"
      },
      "source": [
        "RDD 내 전체 데이터의 개수 세기\n",
        "- `count()`"
      ]
    },
    {
      "cell_type": "code",
      "execution_count": null,
      "id": "7479d4dc",
      "metadata": {
        "id": "7479d4dc",
        "outputId": "9d906f41-9ecf-4e50-cbbf-c30e8f88eb75"
      },
      "outputs": [
        {
          "data": {
            "text/plain": [
              "12"
            ]
          },
          "execution_count": 10,
          "metadata": {},
          "output_type": "execute_result"
        }
      ],
      "source": [
        "foods.count()"
      ]
    },
    {
      "cell_type": "markdown",
      "id": "4eddcdd6",
      "metadata": {
        "id": "4eddcdd6"
      },
      "source": [
        "중복 데이터 제거\n",
        "- `distinct()`\n",
        "- `transformation`"
      ]
    },
    {
      "cell_type": "code",
      "execution_count": null,
      "id": "784568aa",
      "metadata": {
        "id": "784568aa",
        "outputId": "031a9fc1-cc93-402f-fbb1-138117b2c363"
      },
      "outputs": [
        {
          "data": {
            "text/plain": [
              "PythonRDD[10] at RDD at PythonRDD.scala:53"
            ]
          },
          "execution_count": 11,
          "metadata": {},
          "output_type": "execute_result"
        }
      ],
      "source": [
        "fd = foods.distinct()\n",
        "fd"
      ]
    },
    {
      "cell_type": "code",
      "execution_count": null,
      "id": "6b971b39",
      "metadata": {
        "id": "6b971b39",
        "outputId": "20f8b6c3-cdf9-4c57-95f0-4c3cb148890d"
      },
      "outputs": [
        {
          "data": {
            "text/plain": [
              "['짜장면', '마라탕', '짬뽕', '떡볶이', '쌀국수', '라면', '우동']"
            ]
          },
          "execution_count": 12,
          "metadata": {},
          "output_type": "execute_result"
        }
      ],
      "source": [
        "# 중복이 제거된 상태의 RDD\n",
        "fd.collect()"
      ]
    },
    {
      "cell_type": "code",
      "execution_count": null,
      "id": "9bf76f5a",
      "metadata": {
        "id": "9bf76f5a",
        "outputId": "051413f4-acd6-4c8d-91f6-3b7e0844e6e7"
      },
      "outputs": [
        {
          "data": {
            "text/plain": [
              "7"
            ]
          },
          "execution_count": 13,
          "metadata": {},
          "output_type": "execute_result"
        }
      ],
      "source": [
        "# 중복을 제외한 데이터 개수 세기\n",
        "fd.count()"
      ]
    },
    {
      "cell_type": "markdown",
      "id": "f78ad466",
      "metadata": {
        "id": "f78ad466"
      },
      "source": [
        "요소들을 하나 씩 꺼내서 함수에 저장\n",
        "- `return`을 하지 않습니다.\n",
        "- `foreach(<func>)`"
      ]
    },
    {
      "cell_type": "code",
      "execution_count": null,
      "id": "69ea72e1",
      "metadata": {
        "id": "69ea72e1"
      },
      "outputs": [],
      "source": [
        "# worker 노드에서 실행이 됩니다. SparkContext에서 실행되는 것이 아닙니다.\n",
        "foods.foreach(lambda x : print(x)) # x 에 RDD의 원소 하나하나 들어갑니다."
      ]
    },
    {
      "cell_type": "code",
      "execution_count": null,
      "id": "5c00323f",
      "metadata": {
        "id": "5c00323f"
      },
      "outputs": [],
      "source": [
        "foods.foreach(lambda x : x)"
      ]
    },
    {
      "cell_type": "markdown",
      "id": "071db202",
      "metadata": {
        "id": "071db202"
      },
      "source": [
        "`foreach`는 `action`이기 때문에 `worker`노드에서 실행이 됩니다. 우리가 직접 실행하는 `Driver Program(SparkContext)`에서 코드가 실행되는 것이 아니기 때문에 SparkContext에서는 보이지 않습니다.\n",
        "\n",
        "`foreach`는 RDD에 연산을 하고 나서 `log`를 저장하거나 할 때 유용합니다."
      ]
    },
    {
      "cell_type": "markdown",
      "id": "f5056bee",
      "metadata": {
        "id": "f5056bee"
      },
      "source": [
        "# Narrow Transformations\n",
        "- 1:1 변환을 의미합니다.\n",
        "- 하나의 열을 조작하기 위해 다른 열 및 파티션의 데이터를 사용할 필요가 없다.\n",
        "- `filter()`, `map()`, `flatMap()`, `sample()`, `union()`"
      ]
    },
    {
      "cell_type": "markdown",
      "id": "56bb8b68",
      "metadata": {
        "id": "56bb8b68"
      },
      "source": [
        "**`map(<func>)`**\n",
        "- 데이터를 하나씩 꺼내서 `<func>` 함수가 적용된 새로운 RDD가 만들어 진다."
      ]
    },
    {
      "cell_type": "code",
      "execution_count": null,
      "id": "3a5c808c",
      "metadata": {
        "id": "3a5c808c",
        "outputId": "8e2e1502-353b-4c31-b350-d449f3e0f664"
      },
      "outputs": [
        {
          "data": {
            "text/plain": [
              "ParallelCollectionRDD[14] at readRDDFromFile at PythonRDD.scala:274"
            ]
          },
          "execution_count": 16,
          "metadata": {},
          "output_type": "execute_result"
        }
      ],
      "source": [
        "sample_rdd = sc.parallelize([1, 2, 3])\n",
        "sample_rdd"
      ]
    },
    {
      "cell_type": "code",
      "execution_count": null,
      "id": "ef552286",
      "metadata": {
        "id": "ef552286",
        "outputId": "ba1b2c56-a73c-4518-ee0a-652bd6a1bd86"
      },
      "outputs": [
        {
          "data": {
            "text/plain": [
              "PythonRDD[15] at RDD at PythonRDD.scala:53"
            ]
          },
          "execution_count": 17,
          "metadata": {},
          "output_type": "execute_result"
        }
      ],
      "source": [
        "sample_rdd2 = sample_rdd.map(lambda x : x + 2)\n",
        "sample_rdd2"
      ]
    },
    {
      "cell_type": "code",
      "execution_count": null,
      "id": "8e639106",
      "metadata": {
        "id": "8e639106",
        "outputId": "30980bd7-5ebb-45bd-f3e2-e338f19adbca"
      },
      "outputs": [
        {
          "data": {
            "text/plain": [
              "[3, 4, 5]"
            ]
          },
          "execution_count": 18,
          "metadata": {},
          "output_type": "execute_result"
        }
      ],
      "source": [
        "sample_rdd2.collect()"
      ]
    },
    {
      "cell_type": "markdown",
      "id": "4608b86e",
      "metadata": {
        "id": "4608b86e"
      },
      "source": [
        "**`flatMap(<func>)`**\n",
        "- `map` 함수와 거의 비슷하나, `flatMap` 함수는 `map`의 모든 결과를 1차원 배열 형식으로 평평(`flat`)하게 나타낸다."
      ]
    },
    {
      "cell_type": "code",
      "execution_count": null,
      "id": "61f8915d",
      "metadata": {
        "id": "61f8915d"
      },
      "outputs": [],
      "source": [
        "movies = [\n",
        "    \"그린 북\",\n",
        "    \"매트릭스\",\n",
        "    \"토이 스토리\",\n",
        "    \"캐스트 어웨이\",\n",
        "    \"포드 V 페라리\",\n",
        "    \"보헤미안 랩소디\",\n",
        "    \"빽 투 더 퓨처\",\n",
        "    \"반지의 제왕\",\n",
        "    \"죽은 시인의 사회\"\n",
        "]"
      ]
    },
    {
      "cell_type": "code",
      "execution_count": null,
      "id": "13a48ff7",
      "metadata": {
        "id": "13a48ff7",
        "outputId": "111d9e64-19dd-4467-e7f4-fad9b1b624f9"
      },
      "outputs": [
        {
          "data": {
            "text/plain": [
              "ParallelCollectionRDD[16] at readRDDFromFile at PythonRDD.scala:274"
            ]
          },
          "execution_count": 20,
          "metadata": {},
          "output_type": "execute_result"
        }
      ],
      "source": [
        "moviesRDD = sc.parallelize(movies)\n",
        "moviesRDD"
      ]
    },
    {
      "cell_type": "code",
      "execution_count": null,
      "id": "0d04f586",
      "metadata": {
        "id": "0d04f586",
        "outputId": "3ebd1df2-89ab-4db1-b8af-cd6ad34d7416"
      },
      "outputs": [
        {
          "data": {
            "text/plain": [
              "PythonRDD[17] at RDD at PythonRDD.scala:53"
            ]
          },
          "execution_count": 21,
          "metadata": {},
          "output_type": "execute_result"
        }
      ],
      "source": [
        "mapMovies = moviesRDD.map(lambda x : x.split(\" \"))\n",
        "mapMovies"
      ]
    },
    {
      "cell_type": "code",
      "execution_count": null,
      "id": "e1041c46",
      "metadata": {
        "id": "e1041c46",
        "outputId": "a8338e3a-d648-4916-c330-f21961866aa6"
      },
      "outputs": [
        {
          "data": {
            "text/plain": [
              "[['그린', '북'],\n",
              " ['매트릭스'],\n",
              " ['토이', '스토리'],\n",
              " ['캐스트', '어웨이'],\n",
              " ['포드', 'V', '페라리'],\n",
              " ['보헤미안', '랩소디'],\n",
              " ['빽', '투', '더', '퓨처'],\n",
              " ['반지의', '제왕'],\n",
              " ['죽은', '시인의', '사회']]"
            ]
          },
          "execution_count": 22,
          "metadata": {},
          "output_type": "execute_result"
        }
      ],
      "source": [
        "mapMovies.collect()"
      ]
    },
    {
      "cell_type": "code",
      "execution_count": null,
      "id": "00473002",
      "metadata": {
        "id": "00473002",
        "outputId": "202fd538-227f-45eb-90aa-497f293cba88"
      },
      "outputs": [
        {
          "data": {
            "text/plain": [
              "['그린',\n",
              " '북',\n",
              " '매트릭스',\n",
              " '토이',\n",
              " '스토리',\n",
              " '캐스트',\n",
              " '어웨이',\n",
              " '포드',\n",
              " 'V',\n",
              " '페라리',\n",
              " '보헤미안',\n",
              " '랩소디',\n",
              " '빽',\n",
              " '투',\n",
              " '더',\n",
              " '퓨처',\n",
              " '반지의',\n",
              " '제왕',\n",
              " '죽은',\n",
              " '시인의',\n",
              " '사회']"
            ]
          },
          "execution_count": 23,
          "metadata": {},
          "output_type": "execute_result"
        }
      ],
      "source": [
        "flatMovies = moviesRDD.flatMap(lambda x : x.split(\" \"))\n",
        "flatMovies.collect()"
      ]
    },
    {
      "cell_type": "markdown",
      "id": "12b7a060",
      "metadata": {
        "id": "12b7a060"
      },
      "source": [
        "매트릭스만 제거한 RDD 생성"
      ]
    },
    {
      "cell_type": "code",
      "execution_count": null,
      "id": "ee463eb0",
      "metadata": {
        "id": "ee463eb0",
        "outputId": "c42f98a5-1931-4352-de5c-8cff9b3b3ef3"
      },
      "outputs": [
        {
          "data": {
            "text/plain": [
              "['그린',\n",
              " '북',\n",
              " '토이',\n",
              " '스토리',\n",
              " '캐스트',\n",
              " '어웨이',\n",
              " '포드',\n",
              " 'V',\n",
              " '페라리',\n",
              " '보헤미안',\n",
              " '랩소디',\n",
              " '빽',\n",
              " '투',\n",
              " '더',\n",
              " '퓨처',\n",
              " '반지의',\n",
              " '제왕',\n",
              " '죽은',\n",
              " '시인의',\n",
              " '사회']"
            ]
          },
          "execution_count": 24,
          "metadata": {},
          "output_type": "execute_result"
        }
      ],
      "source": [
        "filteredMovie = flatMovies.filter(lambda x : x != \"매트릭스\")\n",
        "filteredMovie.collect()"
      ]
    },
    {
      "cell_type": "markdown",
      "id": "1fe92cf8",
      "metadata": {
        "id": "1fe92cf8"
      },
      "source": [
        "**집합 `Transformation`**"
      ]
    },
    {
      "cell_type": "code",
      "execution_count": null,
      "id": "23f7d718",
      "metadata": {
        "id": "23f7d718"
      },
      "outputs": [],
      "source": [
        "num1 = sc.parallelize([1, 2, 3, 4, 5])\n",
        "num2 = sc.parallelize([4, 5, 6, 7, 8, 9, 10])"
      ]
    },
    {
      "cell_type": "markdown",
      "id": "7a7a2489",
      "metadata": {
        "id": "7a7a2489"
      },
      "source": [
        "교집합 구하기 - `intersection`"
      ]
    },
    {
      "cell_type": "code",
      "execution_count": null,
      "id": "3aa422c0",
      "metadata": {
        "id": "3aa422c0",
        "outputId": "206cf5ff-a8f7-468f-e016-c2f263512b0d"
      },
      "outputs": [
        {
          "data": {
            "text/plain": [
              "[4, 5]"
            ]
          },
          "execution_count": 26,
          "metadata": {},
          "output_type": "execute_result"
        }
      ],
      "source": [
        "num1.intersection(num2).collect()"
      ]
    },
    {
      "cell_type": "markdown",
      "id": "1cd6de2e",
      "metadata": {
        "id": "1cd6de2e"
      },
      "source": [
        "합집합 구하기 - `union`"
      ]
    },
    {
      "cell_type": "code",
      "execution_count": null,
      "id": "26730c85",
      "metadata": {
        "id": "26730c85",
        "outputId": "cce785ec-54e0-4958-f4ce-6794404945ab"
      },
      "outputs": [
        {
          "data": {
            "text/plain": [
              "[1, 2, 3, 4, 5, 4, 5, 6, 7, 8, 9, 10]"
            ]
          },
          "execution_count": 27,
          "metadata": {},
          "output_type": "execute_result"
        }
      ],
      "source": [
        "num1.union(num2).collect()"
      ]
    },
    {
      "cell_type": "markdown",
      "id": "9f45e184",
      "metadata": {
        "id": "9f45e184"
      },
      "source": [
        "차집합 구하기 - `subtract`"
      ]
    },
    {
      "cell_type": "code",
      "execution_count": null,
      "id": "3e38bb20",
      "metadata": {
        "id": "3e38bb20",
        "outputId": "affdf162-8966-410c-bc7b-ad0c67bab230"
      },
      "outputs": [
        {
          "data": {
            "text/plain": [
              "[2, 1, 3]"
            ]
          },
          "execution_count": 28,
          "metadata": {},
          "output_type": "execute_result"
        }
      ],
      "source": [
        "num1.subtract(num2).collect()"
      ]
    },
    {
      "cell_type": "markdown",
      "id": "68851dd4",
      "metadata": {
        "id": "68851dd4"
      },
      "source": [
        "데이터 랜덤 추출 - `sample(withReplacement, fraction, seed=None)`\n",
        "- 샘플링 : 데이터에서 일부분을 추출\n",
        "- `withReplacement` : 한 번 추출 된 샘플을 다시 샘플링 대상으로 삼을 것인지 여부\n",
        "    - `True` : 한 번 샘플링 된 데이터가 다시 대상이 됨\n",
        "    - `False` : 한 번 샘플링 된 데이터는 다시 대상이 되지 않습니다.\n",
        "- `fraction` : 샘플링 될 데이터의 기댓값(확률)\n",
        "    - 각각의 데이터가 추출될 확률\n",
        "    - 높아지면 높아질 수록 원본에서 샘플링되는 원소의 개수가 많아진다."
      ]
    },
    {
      "cell_type": "code",
      "execution_count": null,
      "id": "e19e5e27",
      "metadata": {
        "id": "e19e5e27",
        "outputId": "922cf10d-4591-4556-9fbd-6578c64629ec"
      },
      "outputs": [
        {
          "data": {
            "text/plain": [
              "[1, 2, 3, 4, 5, 4, 5, 6, 7, 8, 9, 10]"
            ]
          },
          "execution_count": 29,
          "metadata": {},
          "output_type": "execute_result"
        }
      ],
      "source": [
        "numUnion = num1.union(num2)\n",
        "numUnion.collect()"
      ]
    },
    {
      "cell_type": "code",
      "execution_count": null,
      "id": "61260247",
      "metadata": {
        "id": "61260247",
        "outputId": "14b94c46-8b43-4f56-9cf1-7da4dcd2aaf0"
      },
      "outputs": [
        {
          "data": {
            "text/plain": [
              "[1, 2, 2, 3, 4, 4, 4]"
            ]
          },
          "execution_count": 31,
          "metadata": {},
          "output_type": "execute_result"
        }
      ],
      "source": [
        "numUnion.sample(True, 0.5).collect()"
      ]
    },
    {
      "cell_type": "code",
      "execution_count": null,
      "id": "8ef633ed",
      "metadata": {
        "id": "8ef633ed",
        "outputId": "435f9e39-3f15-41f2-877c-57fc9a303ff8"
      },
      "outputs": [
        {
          "data": {
            "text/plain": [
              "[5, 7, 7, 9, 10]"
            ]
          },
          "execution_count": 32,
          "metadata": {},
          "output_type": "execute_result"
        }
      ],
      "source": [
        "# withReplacement : True -> 중복 추출\n",
        "numUnion.sample(True, 0.3).collect()"
      ]
    },
    {
      "cell_type": "code",
      "execution_count": null,
      "id": "679c5393",
      "metadata": {
        "id": "679c5393",
        "outputId": "8bb166ba-0dd2-4695-c1e0-8495453105d1"
      },
      "outputs": [
        {
          "data": {
            "text/plain": [
              "[1, 2, 4, 5, 5, 6, 7, 8, 9]"
            ]
          },
          "execution_count": 35,
          "metadata": {},
          "output_type": "execute_result"
        }
      ],
      "source": [
        "# withReplacement : False -> 중복 X\n",
        "numUnion.sample(False, 0.7).collect()"
      ]
    },
    {
      "cell_type": "code",
      "execution_count": null,
      "id": "a80c17dd",
      "metadata": {
        "id": "a80c17dd",
        "outputId": "3153d539-4aff-446b-b725-6e41d47f7c6f"
      },
      "outputs": [
        {
          "data": {
            "text/plain": [
              "[5, 6, 6]"
            ]
          },
          "execution_count": 41,
          "metadata": {},
          "output_type": "execute_result"
        }
      ],
      "source": [
        "# 랜덤을 고정해서 항상 같은 결과가 나올 수 있도록\n",
        "numUnion.sample(True, 0.5, seed=42).collect()"
      ]
    },
    {
      "cell_type": "markdown",
      "id": "0a2bdce8",
      "metadata": {
        "id": "0a2bdce8"
      },
      "source": [
        "# Wide Transformations\n",
        "- `groupBy(<func>)`"
      ]
    },
    {
      "cell_type": "code",
      "execution_count": null,
      "id": "772296a3",
      "metadata": {
        "id": "772296a3",
        "outputId": "59512fff-0083-4957-e0f5-4c7bc07fdb3d"
      },
      "outputs": [
        {
          "data": {
            "text/plain": [
              "ParallelCollectionRDD[55] at readRDDFromFile at PythonRDD.scala:274"
            ]
          },
          "execution_count": 42,
          "metadata": {},
          "output_type": "execute_result"
        }
      ],
      "source": [
        "foods = sc.parallelize([\n",
        "    \"짜장면\", \"마라탕\", \"짬뽕\", \"떡볶이\", \"쌀국수\", \"짬뽕\", \"짜장면\", \"짜장면\", \"짜장면\", \"라면\", \"우동\", \"라면\"\n",
        "])\n",
        "foods"
      ]
    },
    {
      "cell_type": "code",
      "execution_count": null,
      "id": "675d3e22",
      "metadata": {
        "id": "675d3e22",
        "outputId": "23d2089d-2fbc-4157-d01d-b23947927b7e"
      },
      "outputs": [
        {
          "data": {
            "text/plain": [
              "PythonRDD[60] at RDD at PythonRDD.scala:53"
            ]
          },
          "execution_count": 43,
          "metadata": {},
          "output_type": "execute_result"
        }
      ],
      "source": [
        "# 그룹핑의 기준을 문자열의 첫 번째 글자로 설정\n",
        "foodsGroup = foods.groupBy(lambda x : x[0])\n",
        "foodsGroup"
      ]
    },
    {
      "cell_type": "code",
      "execution_count": null,
      "id": "c982044a",
      "metadata": {
        "id": "c982044a",
        "outputId": "1fb32815-f61f-4e7d-9349-7ab648878fb2"
      },
      "outputs": [
        {
          "data": {
            "text/plain": [
              "[('짜', <pyspark.resultiterable.ResultIterable at 0x257b83228e0>),\n",
              " ('마', <pyspark.resultiterable.ResultIterable at 0x257b83220a0>),\n",
              " ('짬', <pyspark.resultiterable.ResultIterable at 0x257b8327c40>),\n",
              " ('떡', <pyspark.resultiterable.ResultIterable at 0x257b83279a0>),\n",
              " ('쌀', <pyspark.resultiterable.ResultIterable at 0x257b8327d00>),\n",
              " ('라', <pyspark.resultiterable.ResultIterable at 0x257b8327f10>),\n",
              " ('우', <pyspark.resultiterable.ResultIterable at 0x257b8327f70>)]"
            ]
          },
          "execution_count": 46,
          "metadata": {},
          "output_type": "execute_result"
        }
      ],
      "source": [
        "res = foodsGroup.collect()\n",
        "res"
      ]
    },
    {
      "cell_type": "code",
      "execution_count": null,
      "id": "1721788c",
      "metadata": {
        "id": "1721788c",
        "outputId": "d7d1310f-b909-4918-8839-a76dbc1b17a0"
      },
      "outputs": [
        {
          "name": "stdout",
          "output_type": "stream",
          "text": [
            "짜 ['짜장면', '짜장면', '짜장면', '짜장면']\n",
            "마 ['마라탕']\n",
            "짬 ['짬뽕', '짬뽕']\n",
            "떡 ['떡볶이']\n",
            "쌀 ['쌀국수']\n",
            "라 ['라면', '라면']\n",
            "우 ['우동']\n"
          ]
        }
      ],
      "source": [
        "for (k, v) in res:\n",
        "    print(k, list(v))"
      ]
    },
    {
      "cell_type": "code",
      "execution_count": null,
      "id": "6ed3ca9a",
      "metadata": {
        "id": "6ed3ca9a"
      },
      "outputs": [],
      "source": [
        "sc.stop()"
      ]
    }
  ],
  "metadata": {
    "kernelspec": {
      "display_name": "Python 3 (ipykernel)",
      "language": "python",
      "name": "python3"
    },
    "language_info": {
      "codemirror_mode": {
        "name": "ipython",
        "version": 3
      },
      "file_extension": ".py",
      "mimetype": "text/x-python",
      "name": "python",
      "nbconvert_exporter": "python",
      "pygments_lexer": "ipython3",
      "version": "3.9.7"
    },
    "colab": {
      "provenance": [],
      "include_colab_link": true
    }
  },
  "nbformat": 4,
  "nbformat_minor": 5
}