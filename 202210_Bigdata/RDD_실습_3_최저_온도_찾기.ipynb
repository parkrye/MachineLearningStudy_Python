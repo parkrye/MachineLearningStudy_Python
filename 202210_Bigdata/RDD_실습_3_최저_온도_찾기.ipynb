{
  "cells": [
    {
      "cell_type": "markdown",
      "metadata": {
        "id": "view-in-github",
        "colab_type": "text"
      },
      "source": [
        "<a href=\"https://colab.research.google.com/github/parkrye/Python/blob/main/202210_Bigdata/RDD_%EC%8B%A4%EC%8A%B5_3_%EC%B5%9C%EC%A0%80_%EC%98%A8%EB%8F%84_%EC%B0%BE%EA%B8%B0.ipynb\" target=\"_parent\"><img src=\"https://colab.research.google.com/assets/colab-badge.svg\" alt=\"Open In Colab\"/></a>"
      ]
    },
    {
      "cell_type": "code",
      "execution_count": null,
      "id": "db51b7da",
      "metadata": {
        "id": "db51b7da"
      },
      "outputs": [],
      "source": [
        "from pyspark import SparkConf, SparkContext\n",
        "\n",
        "conf = SparkConf().setMaster(\"local\").setAppName(\"MinTemperatures\")\n",
        "sc = SparkContext(conf = conf)"
      ]
    },
    {
      "cell_type": "code",
      "execution_count": null,
      "id": "e0c7b4d8",
      "metadata": {
        "id": "e0c7b4d8"
      },
      "outputs": [],
      "source": [
        "directory = \"C:\\\\Users\\\\mhso_lec\\\\study_notebook\\\\data\"\n",
        "filename = \"1800.csv\""
      ]
    },
    {
      "cell_type": "code",
      "execution_count": null,
      "id": "4e2d4342",
      "metadata": {
        "id": "4e2d4342",
        "outputId": "1ccb5737-b063-4de4-f409-9d6d375c1d97"
      },
      "outputs": [
        {
          "data": {
            "text/plain": [
              "['ITE00100554,18000101,TMAX,-75,,,E,',\n",
              " 'ITE00100554,18000101,TMIN,-148,,,E,',\n",
              " 'GM000010962,18000101,PRCP,0,,,E,',\n",
              " 'EZE00100082,18000101,TMAX,-86,,,E,',\n",
              " 'EZE00100082,18000101,TMIN,-135,,,E,']"
            ]
          },
          "execution_count": 13,
          "metadata": {},
          "output_type": "execute_result"
        }
      ],
      "source": [
        "lines = sc.textFile(f\"file:///{directory}\\\\{filename}\")\n",
        "lines.collect()[:5]"
      ]
    },
    {
      "cell_type": "code",
      "execution_count": null,
      "id": "f948c700",
      "metadata": {
        "id": "f948c700"
      },
      "outputs": [],
      "source": [
        "def parseLine(line):\n",
        "    fields = line.split(',')\n",
        "    stationID = fields[0]\n",
        "    entryType = fields[2]\n",
        "    temperature = float(fields[3]) * 0.1 * (9.0 / 5.0) + 32.0\n",
        "    return (stationID, entryType, temperature)"
      ]
    },
    {
      "cell_type": "code",
      "execution_count": null,
      "id": "fbee8405",
      "metadata": {
        "id": "fbee8405",
        "outputId": "4bc4d02c-4b51-40d2-b3dd-680c7dd57227"
      },
      "outputs": [
        {
          "data": {
            "text/plain": [
              "[('ITE00100554', 'TMAX', 18.5),\n",
              " ('ITE00100554', 'TMIN', 5.359999999999999),\n",
              " ('GM000010962', 'PRCP', 32.0)]"
            ]
          },
          "execution_count": 22,
          "metadata": {},
          "output_type": "execute_result"
        }
      ],
      "source": [
        "parsedLines = lines.map(parseLine)\n",
        "parsedLines.collect()[:3]"
      ]
    },
    {
      "cell_type": "code",
      "execution_count": null,
      "id": "6df27a41",
      "metadata": {
        "id": "6df27a41",
        "outputId": "ffc2e0e0-7832-4471-cab1-50aca85ae5a6"
      },
      "outputs": [
        {
          "data": {
            "text/plain": [
              "[('ITE00100554', 'TMIN', 5.359999999999999),\n",
              " ('EZE00100082', 'TMIN', 7.699999999999999),\n",
              " ('ITE00100554', 'TMIN', 9.5),\n",
              " ('EZE00100082', 'TMIN', 8.599999999999998),\n",
              " ('ITE00100554', 'TMIN', 23.72)]"
            ]
          },
          "execution_count": 24,
          "metadata": {},
          "output_type": "execute_result"
        }
      ],
      "source": [
        "minTemps = parsedLines.filter(lambda x : \"TMIN\" in x[1])\n",
        "minTemps.collect()[:5]"
      ]
    },
    {
      "cell_type": "code",
      "execution_count": null,
      "id": "34762661",
      "metadata": {
        "id": "34762661",
        "outputId": "9150a250-647b-4ce0-f904-d3da942b14a8"
      },
      "outputs": [
        {
          "data": {
            "text/plain": [
              "[('ITE00100554', 5.359999999999999),\n",
              " ('EZE00100082', 7.699999999999999),\n",
              " ('ITE00100554', 9.5)]"
            ]
          },
          "execution_count": 25,
          "metadata": {},
          "output_type": "execute_result"
        }
      ],
      "source": [
        "stationTemps = minTemps.map(lambda x : (x[0], x[2]))\n",
        "stationTemps.collect()[:3]"
      ]
    },
    {
      "cell_type": "code",
      "execution_count": null,
      "id": "2b6f4494",
      "metadata": {
        "id": "2b6f4494",
        "outputId": "3a17ef52-cf87-4a71-ea15-ce2959640597"
      },
      "outputs": [
        {
          "data": {
            "text/plain": [
              "[('ITE00100554', 5.359999999999999), ('EZE00100082', 7.699999999999999)]"
            ]
          },
          "execution_count": 26,
          "metadata": {},
          "output_type": "execute_result"
        }
      ],
      "source": [
        "stationTemps.reduceByKey(lambda x, y : min(x, y)).collect()[:5]"
      ]
    }
  ],
  "metadata": {
    "kernelspec": {
      "display_name": "Python 3 (ipykernel)",
      "language": "python",
      "name": "python3"
    },
    "language_info": {
      "codemirror_mode": {
        "name": "ipython",
        "version": 3
      },
      "file_extension": ".py",
      "mimetype": "text/x-python",
      "name": "python",
      "nbconvert_exporter": "python",
      "pygments_lexer": "ipython3",
      "version": "3.9.7"
    },
    "colab": {
      "provenance": [],
      "include_colab_link": true
    }
  },
  "nbformat": 4,
  "nbformat_minor": 5
}