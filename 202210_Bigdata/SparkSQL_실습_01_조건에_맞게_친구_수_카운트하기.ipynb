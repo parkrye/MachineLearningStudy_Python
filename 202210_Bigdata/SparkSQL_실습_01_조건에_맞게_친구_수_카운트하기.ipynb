{
  "cells": [
    {
      "cell_type": "markdown",
      "metadata": {
        "id": "view-in-github",
        "colab_type": "text"
      },
      "source": [
        "<a href=\"https://colab.research.google.com/github/parkrye/Python/blob/main/202210_Bigdata/SparkSQL_%EC%8B%A4%EC%8A%B5_01_%EC%A1%B0%EA%B1%B4%EC%97%90_%EB%A7%9E%EA%B2%8C_%EC%B9%9C%EA%B5%AC_%EC%88%98_%EC%B9%B4%EC%9A%B4%ED%8A%B8%ED%95%98%EA%B8%B0.ipynb\" target=\"_parent\"><img src=\"https://colab.research.google.com/assets/colab-badge.svg\" alt=\"Open In Colab\"/></a>"
      ]
    },
    {
      "cell_type": "markdown",
      "id": "7e748990",
      "metadata": {
        "id": "7e748990"
      },
      "source": [
        "# SparkSession 생성"
      ]
    },
    {
      "cell_type": "code",
      "execution_count": null,
      "id": "5b79e3cc",
      "metadata": {
        "id": "5b79e3cc"
      },
      "outputs": [],
      "source": [
        "from pyspark.sql import SparkSession\n",
        "from pyspark.sql import Row"
      ]
    },
    {
      "cell_type": "code",
      "execution_count": null,
      "id": "df266a36",
      "metadata": {
        "id": "df266a36"
      },
      "outputs": [],
      "source": [
        "spark = SparkSession.builder.appName(\"SparkSQL\").getOrCreate()"
      ]
    },
    {
      "cell_type": "markdown",
      "id": "fd8d1197",
      "metadata": {
        "id": "fd8d1197"
      },
      "source": [
        "## `fakefriends.csv` 로딩"
      ]
    },
    {
      "cell_type": "code",
      "execution_count": null,
      "id": "c4e8cb51",
      "metadata": {
        "id": "c4e8cb51",
        "outputId": "079e63a0-686d-4164-a3d1-b74f9ef4a93e"
      },
      "outputs": [
        {
          "data": {
            "text/plain": [
              "['0,Will,33,385', '1,Jean-Luc,26,2', '2,Hugh,55,221']"
            ]
          },
          "execution_count": 3,
          "metadata": {},
          "output_type": "execute_result"
        }
      ],
      "source": [
        "# RDD 에서 로딩하는 방법으로 불러오기\n",
        "directory = \"C:\\\\Users\\\\mhso_lec\\\\study_notebook\\\\data\"\n",
        "filename  = \"fakefriends.csv\"\n",
        "\n",
        "lines = spark.sparkContext.textFile(f\"file:///{directory}\\\\{filename}\")\n",
        "lines.collect()[:3]"
      ]
    },
    {
      "cell_type": "code",
      "execution_count": null,
      "id": "c6e98b35",
      "metadata": {
        "id": "c6e98b35",
        "outputId": "5c463732-65c8-4cb4-b116-a26cd57f02df"
      },
      "outputs": [
        {
          "data": {
            "text/plain": [
              "[Row(ID=0, name=\"b'Will'\", age=33, numFriends=385),\n",
              " Row(ID=1, name=\"b'Jean-Luc'\", age=26, numFriends=2),\n",
              " Row(ID=2, name=\"b'Hugh'\", age=55, numFriends=221)]"
            ]
          },
          "execution_count": 4,
          "metadata": {},
          "output_type": "execute_result"
        }
      ],
      "source": [
        "def mapper(line):\n",
        "    fields = line.split(\",\")\n",
        "    return Row(ID=int(fields[0]), name=str(fields[1].encode(\"utf-8\")), age=int(fields[2]), numFriends=int(fields[3]))\n",
        "\n",
        "# rdd의 map을 이용해서 Row 형식으로 모두 바꿔준다.\n",
        "people = lines.map(mapper)\n",
        "people.collect()[:3]"
      ]
    },
    {
      "cell_type": "markdown",
      "id": "1d237e1b",
      "metadata": {
        "id": "1d237e1b"
      },
      "source": [
        "매핑된 people RDD를 활용해 데이터 프레임 생성"
      ]
    },
    {
      "cell_type": "code",
      "execution_count": null,
      "id": "272121fe",
      "metadata": {
        "id": "272121fe",
        "outputId": "e8808e54-29c9-4dd8-f86d-9865dbad8184"
      },
      "outputs": [
        {
          "name": "stdout",
          "output_type": "stream",
          "text": [
            "+---+-----------+---+----------+\n",
            "| ID|       name|age|numFriends|\n",
            "+---+-----------+---+----------+\n",
            "|  0|    b'Will'| 33|       385|\n",
            "|  1|b'Jean-Luc'| 26|         2|\n",
            "|  2|    b'Hugh'| 55|       221|\n",
            "|  3|  b'Deanna'| 40|       465|\n",
            "|  4|   b'Quark'| 68|        21|\n",
            "|  5|  b'Weyoun'| 59|       318|\n",
            "|  6|  b'Gowron'| 37|       220|\n",
            "|  7|    b'Will'| 54|       307|\n",
            "|  8|  b'Jadzia'| 38|       380|\n",
            "|  9|    b'Hugh'| 27|       181|\n",
            "| 10|     b'Odo'| 53|       191|\n",
            "| 11|     b'Ben'| 57|       372|\n",
            "| 12|   b'Keiko'| 54|       253|\n",
            "| 13|b'Jean-Luc'| 56|       444|\n",
            "| 14|    b'Hugh'| 43|        49|\n",
            "| 15|     b'Rom'| 36|        49|\n",
            "| 16|  b'Weyoun'| 22|       323|\n",
            "| 17|     b'Odo'| 35|        13|\n",
            "| 18|b'Jean-Luc'| 45|       455|\n",
            "| 19|  b'Geordi'| 60|       246|\n",
            "+---+-----------+---+----------+\n",
            "only showing top 20 rows\n",
            "\n"
          ]
        }
      ],
      "source": [
        "schemaPeople = spark.createDataFrame(people).cache()\n",
        "\n",
        "schemaPeople.createOrReplaceTempView(\"people\")\n",
        "schemaPeople.show()"
      ]
    },
    {
      "cell_type": "markdown",
      "id": "49f6089e",
      "metadata": {
        "id": "49f6089e"
      },
      "source": [
        "# SQL을 이용해 데이터 조회\n",
        "`createOrReplaceTempView`를 이용해 등록된 테이블에 쿼리를 사용할 수 있습니다."
      ]
    },
    {
      "cell_type": "code",
      "execution_count": null,
      "id": "63a24b00",
      "metadata": {
        "id": "63a24b00",
        "outputId": "a059ad30-425c-4eef-b968-0cdd32e01bc9"
      },
      "outputs": [
        {
          "name": "stdout",
          "output_type": "stream",
          "text": [
            "+---+----------+---+----------+\n",
            "| ID|      name|age|numFriends|\n",
            "+---+----------+---+----------+\n",
            "| 21|  b'Miles'| 19|       268|\n",
            "| 52|b'Beverly'| 19|       269|\n",
            "| 54|  b'Brunt'| 19|         5|\n",
            "|106|b'Beverly'| 18|       499|\n",
            "|115|  b'Dukat'| 18|       397|\n",
            "|133|  b'Quark'| 19|       265|\n",
            "|136|   b'Will'| 19|       335|\n",
            "|225|   b'Elim'| 19|       106|\n",
            "|304|   b'Will'| 19|       404|\n",
            "|341|   b'Data'| 18|       326|\n",
            "|366|  b'Keiko'| 19|       119|\n",
            "|373|  b'Quark'| 19|       272|\n",
            "|377|b'Beverly'| 18|       418|\n",
            "|404| b'Kasidy'| 18|        24|\n",
            "|409|    b'Nog'| 19|       267|\n",
            "|439|   b'Data'| 18|       417|\n",
            "|444|  b'Keiko'| 18|       472|\n",
            "|492|  b'Dukat'| 19|        36|\n",
            "|494| b'Kasidy'| 18|       194|\n",
            "+---+----------+---+----------+\n",
            "\n"
          ]
        }
      ],
      "source": [
        "# 쿼리를 사용해서 13 ~ 19세의 모든 정보를 조회\n",
        "query = \"\"\"\n",
        "SELECT *\n",
        "  FROM people\n",
        " WHERE age >= 13 AND age <= 19\n",
        "\"\"\"\n",
        "spark.sql(query).show()"
      ]
    },
    {
      "cell_type": "code",
      "execution_count": null,
      "id": "6bdf921a",
      "metadata": {
        "id": "6bdf921a",
        "outputId": "d2a100c1-a0cb-47c6-988f-2e6c76d29096"
      },
      "outputs": [
        {
          "name": "stdout",
          "output_type": "stream",
          "text": [
            "+---+-----+\n",
            "|age|count|\n",
            "+---+-----+\n",
            "| 18|    8|\n",
            "| 19|   11|\n",
            "| 20|    5|\n",
            "| 21|    8|\n",
            "| 22|    7|\n",
            "| 23|   10|\n",
            "| 24|    5|\n",
            "| 25|   11|\n",
            "| 26|   17|\n",
            "| 27|    8|\n",
            "| 28|   10|\n",
            "| 29|   12|\n",
            "| 30|   11|\n",
            "| 31|    8|\n",
            "| 32|   11|\n",
            "| 33|   12|\n",
            "| 34|    6|\n",
            "| 35|    8|\n",
            "| 36|   10|\n",
            "| 37|    9|\n",
            "+---+-----+\n",
            "only showing top 20 rows\n",
            "\n"
          ]
        }
      ],
      "source": [
        "schemaPeople.groupBy(\"age\").count().orderBy(\"age\").show()"
      ]
    },
    {
      "cell_type": "code",
      "execution_count": null,
      "id": "c5531150",
      "metadata": {
        "id": "c5531150"
      },
      "outputs": [],
      "source": [
        "spark.stop()"
      ]
    }
  ],
  "metadata": {
    "kernelspec": {
      "display_name": "Python 3 (ipykernel)",
      "language": "python",
      "name": "python3"
    },
    "language_info": {
      "codemirror_mode": {
        "name": "ipython",
        "version": 3
      },
      "file_extension": ".py",
      "mimetype": "text/x-python",
      "name": "python",
      "nbconvert_exporter": "python",
      "pygments_lexer": "ipython3",
      "version": "3.9.7"
    },
    "colab": {
      "provenance": [],
      "include_colab_link": true
    }
  },
  "nbformat": 4,
  "nbformat_minor": 5
}