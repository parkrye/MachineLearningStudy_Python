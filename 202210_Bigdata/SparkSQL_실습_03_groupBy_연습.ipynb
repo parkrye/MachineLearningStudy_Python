{
  "cells": [
    {
      "cell_type": "markdown",
      "metadata": {
        "id": "view-in-github",
        "colab_type": "text"
      },
      "source": [
        "<a href=\"https://colab.research.google.com/github/parkrye/Python/blob/main/202210_Bigdata/SparkSQL_%EC%8B%A4%EC%8A%B5_03_groupBy_%EC%97%B0%EC%8A%B5.ipynb\" target=\"_parent\"><img src=\"https://colab.research.google.com/assets/colab-badge.svg\" alt=\"Open In Colab\"/></a>"
      ]
    },
    {
      "cell_type": "code",
      "execution_count": null,
      "id": "4dc08060",
      "metadata": {
        "id": "4dc08060"
      },
      "outputs": [],
      "source": [
        "from pyspark.sql import SparkSession\n",
        "from pyspark.sql import Row\n",
        "from pyspark.sql import functions as func\n",
        "\n",
        "spark = SparkSession.builder.appName(\"FriendsByAge\").getOrCreate()"
      ]
    },
    {
      "cell_type": "code",
      "execution_count": null,
      "id": "039b9902",
      "metadata": {
        "id": "039b9902"
      },
      "outputs": [],
      "source": [
        "directory = \"C:\\\\Users\\\\mhso_lec\\\\study_notebook\\\\data\"\n",
        "filename  = \"fakefriends-header.csv\""
      ]
    },
    {
      "cell_type": "code",
      "execution_count": null,
      "id": "88049524",
      "metadata": {
        "id": "88049524",
        "outputId": "1868a376-ed67-4d05-eb76-079eed73e8eb"
      },
      "outputs": [
        {
          "data": {
            "text/plain": [
              "[Row(userID=0, name='Will', age=33, friends=385),\n",
              " Row(userID=1, name='Jean-Luc', age=26, friends=2),\n",
              " Row(userID=2, name='Hugh', age=55, friends=221)]"
            ]
          },
          "execution_count": 3,
          "metadata": {},
          "output_type": "execute_result"
        }
      ],
      "source": [
        "lines = spark.read.option(\"header\", \"true\").option(\"inferSchema\", \"true\").csv(f\"file:///{directory}\\\\{filename}\")\n",
        "lines.collect()[:3]"
      ]
    },
    {
      "cell_type": "code",
      "execution_count": null,
      "id": "bc3d6910",
      "metadata": {
        "id": "bc3d6910",
        "outputId": "9d3bb3a2-8d3f-45cc-f951-009faa1700b3"
      },
      "outputs": [
        {
          "name": "stdout",
          "output_type": "stream",
          "text": [
            "+---+-------+\n",
            "|age|friends|\n",
            "+---+-------+\n",
            "| 33|    385|\n",
            "| 26|      2|\n",
            "| 55|    221|\n",
            "| 40|    465|\n",
            "| 68|     21|\n",
            "| 59|    318|\n",
            "| 37|    220|\n",
            "| 54|    307|\n",
            "| 38|    380|\n",
            "| 27|    181|\n",
            "| 53|    191|\n",
            "| 57|    372|\n",
            "| 54|    253|\n",
            "| 56|    444|\n",
            "| 43|     49|\n",
            "| 36|     49|\n",
            "| 22|    323|\n",
            "| 35|     13|\n",
            "| 45|    455|\n",
            "| 60|    246|\n",
            "+---+-------+\n",
            "only showing top 20 rows\n",
            "\n"
          ]
        }
      ],
      "source": [
        "friendsByAge = lines.select(\"age\", \"friends\")\n",
        "friendsByAge.show()"
      ]
    },
    {
      "cell_type": "code",
      "execution_count": null,
      "id": "f139069c",
      "metadata": {
        "id": "f139069c",
        "outputId": "ac2671db-1584-4b4e-8ff0-233f264a45cc"
      },
      "outputs": [
        {
          "name": "stdout",
          "output_type": "stream",
          "text": [
            "+---+------------------+\n",
            "|age|      avg(friends)|\n",
            "+---+------------------+\n",
            "| 31|            267.25|\n",
            "| 65|             298.2|\n",
            "| 53|222.85714285714286|\n",
            "| 34|             245.5|\n",
            "| 28|             209.1|\n",
            "| 26|242.05882352941177|\n",
            "| 27|           228.125|\n",
            "| 44| 282.1666666666667|\n",
            "| 22|206.42857142857142|\n",
            "| 47|233.22222222222223|\n",
            "| 52| 340.6363636363636|\n",
            "| 40| 250.8235294117647|\n",
            "| 20|             165.0|\n",
            "| 57| 258.8333333333333|\n",
            "| 54| 278.0769230769231|\n",
            "| 48|             281.4|\n",
            "| 19|213.27272727272728|\n",
            "| 64| 281.3333333333333|\n",
            "| 41|268.55555555555554|\n",
            "| 43|230.57142857142858|\n",
            "+---+------------------+\n",
            "only showing top 20 rows\n",
            "\n"
          ]
        }
      ],
      "source": [
        "friendsByAge.groupBy(\"age\").avg(\"friends\").show()"
      ]
    },
    {
      "cell_type": "code",
      "execution_count": null,
      "id": "21bb0abd",
      "metadata": {
        "id": "21bb0abd",
        "outputId": "12f23856-3849-4d38-b572-eaf69f9a9b60"
      },
      "outputs": [
        {
          "name": "stdout",
          "output_type": "stream",
          "text": [
            "+---+------------------+\n",
            "|age|      avg(friends)|\n",
            "+---+------------------+\n",
            "| 18|           343.375|\n",
            "| 19|213.27272727272728|\n",
            "| 20|             165.0|\n",
            "| 21|           350.875|\n",
            "| 22|206.42857142857142|\n",
            "| 23|             246.3|\n",
            "| 24|             233.8|\n",
            "| 25|197.45454545454547|\n",
            "| 26|242.05882352941177|\n",
            "| 27|           228.125|\n",
            "| 28|             209.1|\n",
            "| 29|215.91666666666666|\n",
            "| 30| 235.8181818181818|\n",
            "| 31|            267.25|\n",
            "| 32| 207.9090909090909|\n",
            "| 33| 325.3333333333333|\n",
            "| 34|             245.5|\n",
            "| 35|           211.625|\n",
            "| 36|             246.6|\n",
            "| 37|249.33333333333334|\n",
            "+---+------------------+\n",
            "only showing top 20 rows\n",
            "\n"
          ]
        }
      ],
      "source": [
        "friendsByAge.groupBy(\"age\").avg(\"friends\").sort(\"age\").show()"
      ]
    },
    {
      "cell_type": "code",
      "execution_count": null,
      "id": "f0a8a3a4",
      "metadata": {
        "id": "f0a8a3a4",
        "outputId": "d588a54b-11fa-471f-e001-0cfb3cfb025b"
      },
      "outputs": [
        {
          "name": "stdout",
          "output_type": "stream",
          "text": [
            "+---+----------------------+\n",
            "|age|round(avg(friends), 2)|\n",
            "+---+----------------------+\n",
            "| 18|                343.38|\n",
            "| 19|                213.27|\n",
            "| 20|                 165.0|\n",
            "| 21|                350.88|\n",
            "| 22|                206.43|\n",
            "| 23|                 246.3|\n",
            "| 24|                 233.8|\n",
            "| 25|                197.45|\n",
            "| 26|                242.06|\n",
            "| 27|                228.13|\n",
            "| 28|                 209.1|\n",
            "| 29|                215.92|\n",
            "| 30|                235.82|\n",
            "| 31|                267.25|\n",
            "| 32|                207.91|\n",
            "| 33|                325.33|\n",
            "| 34|                 245.5|\n",
            "| 35|                211.63|\n",
            "| 36|                 246.6|\n",
            "| 37|                249.33|\n",
            "+---+----------------------+\n",
            "only showing top 20 rows\n",
            "\n"
          ]
        }
      ],
      "source": [
        "# func.round 함수를 이용해 숫자들을 소수 둘째 자리까지만 표시\n",
        "friendsByAge.groupBy(\"age\").agg(func.round(func.avg(\"friends\"), 2)).sort(\"age\").show()"
      ]
    },
    {
      "cell_type": "code",
      "execution_count": null,
      "id": "1414b0e9",
      "metadata": {
        "id": "1414b0e9",
        "outputId": "88fdff0b-e124-4ffd-bdec-5818070406e4"
      },
      "outputs": [
        {
          "name": "stdout",
          "output_type": "stream",
          "text": [
            "+---+-----------+\n",
            "|age|friends_avg|\n",
            "+---+-----------+\n",
            "| 18|     343.38|\n",
            "| 19|     213.27|\n",
            "| 20|      165.0|\n",
            "| 21|     350.88|\n",
            "| 22|     206.43|\n",
            "| 23|      246.3|\n",
            "| 24|      233.8|\n",
            "| 25|     197.45|\n",
            "| 26|     242.06|\n",
            "| 27|     228.13|\n",
            "| 28|      209.1|\n",
            "| 29|     215.92|\n",
            "| 30|     235.82|\n",
            "| 31|     267.25|\n",
            "| 32|     207.91|\n",
            "| 33|     325.33|\n",
            "| 34|      245.5|\n",
            "| 35|     211.63|\n",
            "| 36|      246.6|\n",
            "| 37|     249.33|\n",
            "+---+-----------+\n",
            "only showing top 20 rows\n",
            "\n"
          ]
        }
      ],
      "source": [
        "friendsByAge.groupBy(\"age\").agg(func.round(func.avg(\"friends\"), 2).alias(\"friends_avg\")).sort(\"age\").show()"
      ]
    },
    {
      "cell_type": "code",
      "execution_count": null,
      "id": "90d883c4",
      "metadata": {
        "id": "90d883c4"
      },
      "outputs": [],
      "source": [
        "spark.stop()"
      ]
    }
  ],
  "metadata": {
    "kernelspec": {
      "display_name": "Python 3 (ipykernel)",
      "language": "python",
      "name": "python3"
    },
    "language_info": {
      "codemirror_mode": {
        "name": "ipython",
        "version": 3
      },
      "file_extension": ".py",
      "mimetype": "text/x-python",
      "name": "python",
      "nbconvert_exporter": "python",
      "pygments_lexer": "ipython3",
      "version": "3.9.7"
    },
    "colab": {
      "provenance": [],
      "include_colab_link": true
    }
  },
  "nbformat": 4,
  "nbformat_minor": 5
}