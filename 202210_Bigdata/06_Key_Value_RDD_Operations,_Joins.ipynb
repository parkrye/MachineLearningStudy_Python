{
  "cells": [
    {
      "cell_type": "markdown",
      "metadata": {
        "id": "view-in-github",
        "colab_type": "text"
      },
      "source": [
        "<a href=\"https://colab.research.google.com/github/parkrye/Python/blob/main/202210_Bigdata/06_Key_Value_RDD_Operations%2C_Joins.ipynb\" target=\"_parent\"><img src=\"https://colab.research.google.com/assets/colab-badge.svg\" alt=\"Open In Colab\"/></a>"
      ]
    },
    {
      "cell_type": "code",
      "execution_count": null,
      "id": "84ac11cb",
      "metadata": {
        "id": "84ac11cb"
      },
      "outputs": [],
      "source": [
        "from pyspark import SparkConf, SparkContext\n",
        "conf = SparkConf().setMaster(\"local\").setAppName(\"key-value_rdd_op_joins\")\n",
        "sc = SparkContext(conf = conf)"
      ]
    },
    {
      "cell_type": "markdown",
      "id": "842b4a33",
      "metadata": {
        "id": "842b4a33"
      },
      "source": [
        "# Operations\n",
        "\n",
        "- `groupByKey`\n",
        "    - `KeyValueRDD.groupByKey()`\n",
        "    - 그룹핑 후에 특정 Transformations 같은 연산\n",
        "    - `Key` 값이 있는 상태에서 시작\n",
        "- `groupBy()`\n",
        "    - `RDD.groupBy(numPartitions=None, partitionFunc=<function portable_hash>)`\n",
        "    - 함수에 의해서 그룹이 생기는 연산"
      ]
    },
    {
      "cell_type": "code",
      "execution_count": null,
      "id": "f1019201",
      "metadata": {
        "id": "f1019201",
        "outputId": "ccd18725-6d87-479e-f65e-f5cec9b59585"
      },
      "outputs": [
        {
          "data": {
            "text/plain": [
              "[('짜장면', <pyspark.resultiterable.ResultIterable at 0x2638291d9a0>),\n",
              " ('짬뽕', <pyspark.resultiterable.ResultIterable at 0x2638291da30>)]"
            ]
          },
          "execution_count": 4,
          "metadata": {},
          "output_type": "execute_result"
        }
      ],
      "source": [
        "rdd = sc.parallelize([\n",
        "    (\"짜장면\", 15),\n",
        "    (\"짬뽕\", 10),\n",
        "    (\"짜장면\", 5)\n",
        "])\n",
        "\n",
        "g_rdd = rdd.groupByKey()\n",
        "g_rdd.collect()"
      ]
    },
    {
      "cell_type": "code",
      "execution_count": null,
      "id": "f3c54897",
      "metadata": {
        "id": "f3c54897",
        "outputId": "58565e05-1de9-4bbb-e93b-20503e6b21df"
      },
      "outputs": [
        {
          "data": {
            "text/plain": [
              "[('짜장면', 2), ('짬뽕', 1)]"
            ]
          },
          "execution_count": 5,
          "metadata": {},
          "output_type": "execute_result"
        }
      ],
      "source": [
        "g_rdd.mapValues(len).collect()"
      ]
    },
    {
      "cell_type": "code",
      "execution_count": null,
      "id": "1cf04514",
      "metadata": {
        "id": "1cf04514",
        "outputId": "f5fca748-e637-4509-811c-fa654e9813b4"
      },
      "outputs": [
        {
          "data": {
            "text/plain": [
              "[('짜장면', [15, 5]), ('짬뽕', [10])]"
            ]
          },
          "execution_count": 6,
          "metadata": {},
          "output_type": "execute_result"
        }
      ],
      "source": [
        "g_rdd.mapValues(list).collect()"
      ]
    },
    {
      "cell_type": "code",
      "execution_count": null,
      "id": "6d16bf55",
      "metadata": {
        "id": "6d16bf55",
        "outputId": "36afcd36-cdc4-453c-e1ae-9a880f2f1579"
      },
      "outputs": [
        {
          "data": {
            "text/plain": [
              "[('C', <pyspark.resultiterable.ResultIterable at 0x263828f3dc0>),\n",
              " ('P', <pyspark.resultiterable.ResultIterable at 0x2638297d250>),\n",
              " ('J', <pyspark.resultiterable.ResultIterable at 0x2638297d3a0>)]"
            ]
          },
          "execution_count": 8,
          "metadata": {},
          "output_type": "execute_result"
        }
      ],
      "source": [
        "# groupBy는 그룹핑할 키에 대한 정의를 개발자가 직접 해줘야 한다.\n",
        "grouped = sc.parallelize([\n",
        "    \"C\", \"C#\", \"C++\", 'Python', \"Java\", \"JavaScript\"\n",
        "]).groupBy(lambda x : x[0]).collect()\n",
        "\n",
        "grouped"
      ]
    },
    {
      "cell_type": "code",
      "execution_count": null,
      "id": "11574c9e",
      "metadata": {
        "id": "11574c9e",
        "outputId": "2fd0b323-2e64-47a4-9d5c-bdee689b659f"
      },
      "outputs": [
        {
          "name": "stdout",
          "output_type": "stream",
          "text": [
            "C ['C', 'C#', 'C++']\n",
            "P ['Python']\n",
            "J ['Java', 'JavaScript']\n"
          ]
        }
      ],
      "source": [
        "for k, v in grouped:\n",
        "    print(k, list(v))"
      ]
    },
    {
      "cell_type": "code",
      "execution_count": null,
      "id": "171a7962",
      "metadata": {
        "id": "171a7962"
      },
      "outputs": [],
      "source": [
        "# groupByKey는 K-V RDD를 사용할 때 Key가 알아서 그룹핑의 기준이 된다.\n",
        "\n",
        "x = sc.parallelize([\n",
        "    (\"MATH\", 7), (\"MATH\", 2), (\"ENGLISH\", 7),\n",
        "    (\"SCIENCE\", 7), (\"ENGLISH\", 4), (\"ENGLISH\", 9),\n",
        "    (\"MATH\", 8), (\"MATH\", 3), (\"ENGLISH\", 4),\n",
        "    (\"SCIENCE\", 6), (\"SCIENCE\", 9), (\"SCIENCE\", 5)\n",
        "], 3)\n",
        "\n",
        "y = x.groupByKey()"
      ]
    },
    {
      "cell_type": "code",
      "execution_count": null,
      "id": "896e5dcf",
      "metadata": {
        "id": "896e5dcf",
        "outputId": "e2e471e7-0737-41c6-9661-c8519b740114"
      },
      "outputs": [
        {
          "name": "stdout",
          "output_type": "stream",
          "text": [
            "3\n"
          ]
        }
      ],
      "source": [
        "print(y.getNumPartitions())"
      ]
    },
    {
      "cell_type": "code",
      "execution_count": null,
      "id": "ab38f38a",
      "metadata": {
        "id": "ab38f38a",
        "outputId": "1333c3eb-0eeb-4af4-f5ce-4d62750216be"
      },
      "outputs": [
        {
          "data": {
            "text/plain": [
              "2"
            ]
          },
          "execution_count": 12,
          "metadata": {},
          "output_type": "execute_result"
        }
      ],
      "source": [
        "# 파티션의 개수를 바꿀 수 있다.\n",
        "y = x.groupByKey(2)\n",
        "y.getNumPartitions()"
      ]
    },
    {
      "cell_type": "code",
      "execution_count": null,
      "id": "a08434df",
      "metadata": {
        "id": "a08434df",
        "outputId": "0c1f45ed-cee8-4789-c66b-659763ed38da"
      },
      "outputs": [
        {
          "data": {
            "text/plain": [
              "[('MATH', <pyspark.resultiterable.ResultIterable at 0x26382988a00>),\n",
              " ('ENGLISH', <pyspark.resultiterable.ResultIterable at 0x2638298a340>),\n",
              " ('SCIENCE', <pyspark.resultiterable.ResultIterable at 0x2638298a490>)]"
            ]
          },
          "execution_count": 13,
          "metadata": {},
          "output_type": "execute_result"
        }
      ],
      "source": [
        "y.collect()"
      ]
    },
    {
      "cell_type": "code",
      "execution_count": null,
      "id": "3e5d18c3",
      "metadata": {
        "id": "3e5d18c3",
        "outputId": "f3c7ea0e-299f-4a7d-be09-762e2916ed3a"
      },
      "outputs": [
        {
          "name": "stdout",
          "output_type": "stream",
          "text": [
            "MATH [7, 2, 8, 3]\n",
            "ENGLISH [7, 4, 9, 4]\n",
            "SCIENCE [7, 6, 9, 5]\n"
          ]
        }
      ],
      "source": [
        "for t in y.collect():\n",
        "    print(t[0], list(t[1])) # t[0] : Key, t[1] : 그룹핑에 의해 묶인 값"
      ]
    },
    {
      "cell_type": "markdown",
      "id": "71b28119",
      "metadata": {
        "id": "71b28119"
      },
      "source": [
        "# reduceByKey\n",
        "- `KeyValueRDD.reduceByKey(<func>, numPartitions=None, partitionFunc=<function portable_hash>)`\n",
        "- 주어지는 `key`를 기준으로 `Group`을 만들고 합쳐줍니다.\n",
        "- Transformations 함수 입니다."
      ]
    },
    {
      "cell_type": "code",
      "execution_count": null,
      "id": "cc030256",
      "metadata": {
        "id": "cc030256",
        "outputId": "6dfa6f3d-aada-4280-fb80-a206e675f69d"
      },
      "outputs": [
        {
          "data": {
            "text/plain": [
              "[('짜장면', 20), ('짬뽕', 10)]"
            ]
          },
          "execution_count": 15,
          "metadata": {},
          "output_type": "execute_result"
        }
      ],
      "source": [
        "from operator import add\n",
        "\n",
        "rdd = sc.parallelize([\n",
        "    (\"짜장면\", 15),\n",
        "    (\"짬뽕\", 10),\n",
        "    (\"짜장면\", 5)\n",
        "])\n",
        "\n",
        "rdd.reduceByKey(add).collect()"
      ]
    },
    {
      "cell_type": "markdown",
      "id": "c4f704fd",
      "metadata": {
        "id": "c4f704fd"
      },
      "source": [
        "개념적으로는 `groupByKey + reduce`입니다. `groupByKey`보다 `reduceBykey`를 쓰는게 훨씬 빠릅니다."
      ]
    },
    {
      "cell_type": "code",
      "execution_count": null,
      "id": "3c373468",
      "metadata": {
        "id": "3c373468",
        "outputId": "3f346cef-95e5-4179-8c98-ed3673ae2e52"
      },
      "outputs": [
        {
          "data": {
            "text/plain": [
              "[('MATH', 20), ('ENGLISH', 24), ('SCIENCE', 27)]"
            ]
          },
          "execution_count": 16,
          "metadata": {},
          "output_type": "execute_result"
        }
      ],
      "source": [
        "x = sc.parallelize([\n",
        "    (\"MATH\", 7), (\"MATH\", 2), (\"ENGLISH\", 7),\n",
        "    (\"SCIENCE\", 7), (\"ENGLISH\", 4), (\"ENGLISH\", 9),\n",
        "    (\"MATH\", 8), (\"MATH\", 3), (\"ENGLISH\", 4),\n",
        "    (\"SCIENCE\", 6), (\"SCIENCE\", 9), (\"SCIENCE\", 5)\n",
        "], 3)\n",
        "\n",
        "x.reduceByKey(lambda a, b : a + b).collect()"
      ]
    },
    {
      "cell_type": "markdown",
      "id": "0ce0ada8",
      "metadata": {
        "id": "0ce0ada8"
      },
      "source": [
        "# mapValues\n",
        "- `KeyValueRDD.mapValues(<func>)`\n",
        "- 함수를 `Value`에만 적용합니다.\n",
        "    - 파티션과 키는 그 위치에 그대로 있습니다.\n",
        "- `Transformations`"
      ]
    },
    {
      "cell_type": "code",
      "execution_count": null,
      "id": "9242d652",
      "metadata": {
        "id": "9242d652",
        "outputId": "4dc8e413-deb5-4c1c-fda7-72df860089d1"
      },
      "outputs": [
        {
          "data": {
            "text/plain": [
              "[('하의', 3), ('상의', 4)]"
            ]
          },
          "execution_count": 17,
          "metadata": {},
          "output_type": "execute_result"
        }
      ],
      "source": [
        "rdd = sc.parallelize([\n",
        "    (\"하의\", [\"청바지\", \"반바지\", \"치마\"]),\n",
        "    (\"상의\", [\"니트\", \"반팔\", \"긴팔\", \"나시\"])\n",
        "])\n",
        "\n",
        "rdd.mapValues(lambda x : len(x)).collect()"
      ]
    },
    {
      "cell_type": "markdown",
      "id": "c06a2d63",
      "metadata": {
        "id": "c06a2d63"
      },
      "source": [
        "`key`가 아닌 `value`에만 적용할 함수를 만들 수가 있기 때문에 데이터의 파티션이 변경될 염려가 없다."
      ]
    },
    {
      "cell_type": "markdown",
      "id": "a24f4143",
      "metadata": {
        "id": "a24f4143"
      },
      "source": [
        "# countByKey\n",
        "- `KeyValueRDD.countByKey(<func>)`\n",
        "- 각 키가 가진 요소들의 개수를 센다.\n",
        "- `Action`"
      ]
    },
    {
      "cell_type": "code",
      "execution_count": null,
      "id": "20f48f8b",
      "metadata": {
        "id": "20f48f8b",
        "outputId": "f68ff363-d321-40fa-e82d-5ff810953197"
      },
      "outputs": [
        {
          "data": {
            "text/plain": [
              "defaultdict(int, {'하의': 1, '상의': 1})"
            ]
          },
          "execution_count": 19,
          "metadata": {},
          "output_type": "execute_result"
        }
      ],
      "source": [
        "rdd = sc.parallelize([\n",
        "    (\"하의\", [\"청바지\", \"반바지\", \"치마\"]),\n",
        "    (\"상의\", [\"니트\", \"반팔\", \"긴팔\", \"나시\"])\n",
        "])\n",
        "\n",
        "rdd.countByKey()"
      ]
    },
    {
      "cell_type": "markdown",
      "id": "451138f6",
      "metadata": {
        "id": "451138f6"
      },
      "source": [
        "# keys()\n",
        "- 모든 key를 가진 RDD를 생성합니다.\n",
        "- `keys()`는 파티션을 유지하거나 키가 굉장히 많은 경우가 있기 때문에 Transformations 입니다."
      ]
    },
    {
      "cell_type": "code",
      "execution_count": null,
      "id": "bb834fe1",
      "metadata": {
        "id": "bb834fe1",
        "outputId": "7eb104ce-e6c2-40af-b692-df1b5341eddd"
      },
      "outputs": [
        {
          "data": {
            "text/plain": [
              "PythonRDD[43] at RDD at PythonRDD.scala:53"
            ]
          },
          "execution_count": 20,
          "metadata": {},
          "output_type": "execute_result"
        }
      ],
      "source": [
        "rdd.keys()"
      ]
    },
    {
      "cell_type": "code",
      "execution_count": null,
      "id": "80c11ba6",
      "metadata": {
        "id": "80c11ba6",
        "outputId": "8fc86ad6-c035-4b3f-d012-e40d243ad04d"
      },
      "outputs": [
        {
          "data": {
            "text/plain": [
              "['하의', '상의']"
            ]
          },
          "execution_count": 21,
          "metadata": {},
          "output_type": "execute_result"
        }
      ],
      "source": [
        "rdd.keys().collect()"
      ]
    },
    {
      "cell_type": "code",
      "execution_count": null,
      "id": "654609bf",
      "metadata": {
        "scrolled": true,
        "id": "654609bf",
        "outputId": "b6815884-b7a9-4f00-f1b1-9b53823b54d8"
      },
      "outputs": [
        {
          "name": "stdout",
          "output_type": "stream",
          "text": [
            "12\n",
            "3\n"
          ]
        }
      ],
      "source": [
        "x = sc.parallelize([\n",
        "    (\"MATH\", 7), (\"MATH\", 2), (\"ENGLISH\", 7),\n",
        "    (\"SCIENCE\", 7), (\"ENGLISH\", 4), (\"ENGLISH\", 9),\n",
        "    (\"MATH\", 8), (\"MATH\", 3), (\"ENGLISH\", 4),\n",
        "    (\"SCIENCE\", 6), (\"SCIENCE\", 9), (\"SCIENCE\", 5)\n",
        "], 3)\n",
        "\n",
        "print(x.keys().count()) # 키의 총 개수\n",
        "print(x.keys().distinct().count()) # 키의 종류 개수"
      ]
    },
    {
      "cell_type": "markdown",
      "id": "99e71202",
      "metadata": {
        "id": "99e71202"
      },
      "source": [
        "# Joins"
      ]
    },
    {
      "cell_type": "code",
      "execution_count": null,
      "id": "6284cbfa",
      "metadata": {
        "id": "6284cbfa",
        "outputId": "d4792909-914e-4ef9-9c2d-d17465e0cbf8"
      },
      "outputs": [
        {
          "data": {
            "text/plain": [
              "[('foo', (1, 1)), ('goo', (2, 2)), ('goo', (2, 10))]"
            ]
          },
          "execution_count": 25,
          "metadata": {},
          "output_type": "execute_result"
        }
      ],
      "source": [
        "# Inner Join : 서로간에 존재하는 키만 합쳐줍니다.\n",
        "rdd1 = sc.parallelize([\n",
        "    (\"foo\", 1),\n",
        "    (\"goo\", 2),\n",
        "    (\"hoo\", 3)\n",
        "])\n",
        "\n",
        "rdd2 = sc.parallelize([\n",
        "    (\"foo\", 1),\n",
        "    (\"goo\", 2),\n",
        "    (\"goo\", 10),\n",
        "    (\"moo\", 6)\n",
        "])\n",
        "\n",
        "rdd1.join(rdd2).collect()"
      ]
    },
    {
      "cell_type": "markdown",
      "id": "64640682",
      "metadata": {
        "id": "64640682"
      },
      "source": [
        "**Outer Join**\n",
        "- 기준이 되는 한 쪽에는 데이터가 있고, 다른 쪽에는 데이터가 없는 경우\n",
        "    - 설정한 기준에 따라서 기준에 맞는 데이터가 항상 남아있는다.\n",
        "- `leftOuterJoin` : 왼쪽에 있는 rdd가 기준이 됩니다. (함수를 호출하는 쪽)\n",
        "- `rightOuterJoin` : 오른쪽에 있는 rdd가 기준이 됩니다. (함수에 매개변수로 들어가는 쪽)"
      ]
    },
    {
      "cell_type": "code",
      "execution_count": null,
      "id": "ee3c2b9b",
      "metadata": {
        "id": "ee3c2b9b",
        "outputId": "13deeb14-2515-4c03-c44f-22513d778833"
      },
      "outputs": [
        {
          "data": {
            "text/plain": [
              "[('foo', (1, 1)), ('goo', (2, 2)), ('goo', (2, 10)), ('hoo', (3, None))]"
            ]
          },
          "execution_count": 26,
          "metadata": {},
          "output_type": "execute_result"
        }
      ],
      "source": [
        "rdd1.leftOuterJoin(rdd2).collect()"
      ]
    },
    {
      "cell_type": "code",
      "execution_count": null,
      "id": "6a47083e",
      "metadata": {
        "id": "6a47083e",
        "outputId": "0f59a635-fc86-451a-d1ea-605583d12438"
      },
      "outputs": [
        {
          "data": {
            "text/plain": [
              "[('foo', (1, 1)), ('moo', (None, 6)), ('goo', (2, 2)), ('goo', (2, 10))]"
            ]
          },
          "execution_count": 27,
          "metadata": {},
          "output_type": "execute_result"
        }
      ],
      "source": [
        "rdd1.rightOuterJoin(rdd2).collect()"
      ]
    },
    {
      "cell_type": "code",
      "execution_count": null,
      "id": "13d1573c",
      "metadata": {
        "id": "13d1573c"
      },
      "outputs": [],
      "source": [
        "sc.stop()"
      ]
    },
    {
      "cell_type": "code",
      "execution_count": null,
      "id": "5727675a",
      "metadata": {
        "id": "5727675a"
      },
      "outputs": [],
      "source": []
    }
  ],
  "metadata": {
    "kernelspec": {
      "display_name": "Python 3 (ipykernel)",
      "language": "python",
      "name": "python3"
    },
    "language_info": {
      "codemirror_mode": {
        "name": "ipython",
        "version": 3
      },
      "file_extension": ".py",
      "mimetype": "text/x-python",
      "name": "python",
      "nbconvert_exporter": "python",
      "pygments_lexer": "ipython3",
      "version": "3.9.7"
    },
    "colab": {
      "provenance": [],
      "include_colab_link": true
    }
  },
  "nbformat": 4,
  "nbformat_minor": 5
}