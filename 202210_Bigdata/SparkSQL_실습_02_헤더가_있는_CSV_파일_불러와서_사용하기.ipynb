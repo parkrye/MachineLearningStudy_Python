{
  "cells": [
    {
      "cell_type": "markdown",
      "metadata": {
        "id": "view-in-github",
        "colab_type": "text"
      },
      "source": [
        "<a href=\"https://colab.research.google.com/github/parkrye/Python/blob/main/202210_Bigdata/SparkSQL_%EC%8B%A4%EC%8A%B5_02_%ED%97%A4%EB%8D%94%EA%B0%80_%EC%9E%88%EB%8A%94_CSV_%ED%8C%8C%EC%9D%BC_%EB%B6%88%EB%9F%AC%EC%99%80%EC%84%9C_%EC%82%AC%EC%9A%A9%ED%95%98%EA%B8%B0.ipynb\" target=\"_parent\"><img src=\"https://colab.research.google.com/assets/colab-badge.svg\" alt=\"Open In Colab\"/></a>"
      ]
    },
    {
      "cell_type": "code",
      "execution_count": null,
      "id": "2b64ec36",
      "metadata": {
        "id": "2b64ec36"
      },
      "outputs": [],
      "source": [
        "from pyspark.sql import SparkSession\n",
        "\n",
        "spark = SparkSession.builder.appName(\"SparkSQL\").getOrCreate()"
      ]
    },
    {
      "cell_type": "code",
      "execution_count": null,
      "id": "c94634c7",
      "metadata": {
        "id": "c94634c7"
      },
      "outputs": [],
      "source": [
        "directory = \"C:\\\\Users\\\\mhso_lec\\\\study_notebook\\\\data\"\n",
        "filename  = \"fakefriends-header.csv\""
      ]
    },
    {
      "cell_type": "code",
      "execution_count": null,
      "id": "0ff0769b",
      "metadata": {
        "id": "0ff0769b",
        "outputId": "44a83964-1cb8-4fcb-fddc-90485ec82d2c"
      },
      "outputs": [
        {
          "name": "stdout",
          "output_type": "stream",
          "text": [
            "+------+--------+---+-------+\n",
            "|userID|    name|age|friends|\n",
            "+------+--------+---+-------+\n",
            "|     0|    Will| 33|    385|\n",
            "|     1|Jean-Luc| 26|      2|\n",
            "|     2|    Hugh| 55|    221|\n",
            "|     3|  Deanna| 40|    465|\n",
            "|     4|   Quark| 68|     21|\n",
            "|     5|  Weyoun| 59|    318|\n",
            "|     6|  Gowron| 37|    220|\n",
            "|     7|    Will| 54|    307|\n",
            "|     8|  Jadzia| 38|    380|\n",
            "|     9|    Hugh| 27|    181|\n",
            "|    10|     Odo| 53|    191|\n",
            "|    11|     Ben| 57|    372|\n",
            "|    12|   Keiko| 54|    253|\n",
            "|    13|Jean-Luc| 56|    444|\n",
            "|    14|    Hugh| 43|     49|\n",
            "|    15|     Rom| 36|     49|\n",
            "|    16|  Weyoun| 22|    323|\n",
            "|    17|     Odo| 35|     13|\n",
            "|    18|Jean-Luc| 45|    455|\n",
            "|    19|  Geordi| 60|    246|\n",
            "+------+--------+---+-------+\n",
            "only showing top 20 rows\n",
            "\n"
          ]
        }
      ],
      "source": [
        "# 자동으로 데이터 타입을 유추하비다. (inferSchema, true)\n",
        "people = spark.read.option(\"header\", \"true\").option(\"inferSchema\", \"true\").csv(f\"file:///{directory}\\\\{filename}\")\n",
        "people.show()"
      ]
    },
    {
      "cell_type": "code",
      "execution_count": null,
      "id": "c222ea7e",
      "metadata": {
        "id": "c222ea7e",
        "outputId": "a9d83945-3adb-483e-afde-61b46e61b8dc"
      },
      "outputs": [
        {
          "name": "stdout",
          "output_type": "stream",
          "text": [
            "root\n",
            " |-- userID: integer (nullable = true)\n",
            " |-- name: string (nullable = true)\n",
            " |-- age: integer (nullable = true)\n",
            " |-- friends: integer (nullable = true)\n",
            "\n"
          ]
        }
      ],
      "source": [
        "# 스키마 정보 확인\n",
        "people.printSchema()"
      ]
    },
    {
      "cell_type": "code",
      "execution_count": null,
      "id": "fcc48948",
      "metadata": {
        "id": "fcc48948",
        "outputId": "04e9d67f-b44b-4322-a8b0-7462cf7e421e"
      },
      "outputs": [
        {
          "name": "stdout",
          "output_type": "stream",
          "text": [
            "+--------+\n",
            "|    name|\n",
            "+--------+\n",
            "|    Will|\n",
            "|Jean-Luc|\n",
            "|    Hugh|\n",
            "|  Deanna|\n",
            "|   Quark|\n",
            "|  Weyoun|\n",
            "|  Gowron|\n",
            "|    Will|\n",
            "|  Jadzia|\n",
            "|    Hugh|\n",
            "|     Odo|\n",
            "|     Ben|\n",
            "|   Keiko|\n",
            "|Jean-Luc|\n",
            "|    Hugh|\n",
            "|     Rom|\n",
            "|  Weyoun|\n",
            "|     Odo|\n",
            "|Jean-Luc|\n",
            "|  Geordi|\n",
            "+--------+\n",
            "only showing top 20 rows\n",
            "\n"
          ]
        }
      ],
      "source": [
        "# select 활용하기\n",
        "people.select(\"name\").show()"
      ]
    },
    {
      "cell_type": "code",
      "execution_count": null,
      "id": "2623b341",
      "metadata": {
        "id": "2623b341",
        "outputId": "8fe86a09-0ce3-4367-e27f-b10259b4ed86"
      },
      "outputs": [
        {
          "name": "stdout",
          "output_type": "stream",
          "text": [
            "+------+-------+---+-------+\n",
            "|userID|   name|age|friends|\n",
            "+------+-------+---+-------+\n",
            "|    21|  Miles| 19|    268|\n",
            "|    48|    Nog| 20|      1|\n",
            "|    52|Beverly| 19|    269|\n",
            "|    54|  Brunt| 19|      5|\n",
            "|    60| Geordi| 20|    100|\n",
            "|    73|  Brunt| 20|    384|\n",
            "|   106|Beverly| 18|    499|\n",
            "|   115|  Dukat| 18|    397|\n",
            "|   133|  Quark| 19|    265|\n",
            "|   136|   Will| 19|    335|\n",
            "|   225|   Elim| 19|    106|\n",
            "|   304|   Will| 19|    404|\n",
            "|   327| Julian| 20|     63|\n",
            "|   341|   Data| 18|    326|\n",
            "|   349| Kasidy| 20|    277|\n",
            "|   366|  Keiko| 19|    119|\n",
            "|   373|  Quark| 19|    272|\n",
            "|   377|Beverly| 18|    418|\n",
            "|   404| Kasidy| 18|     24|\n",
            "|   409|    Nog| 19|    267|\n",
            "+------+-------+---+-------+\n",
            "only showing top 20 rows\n",
            "\n"
          ]
        }
      ],
      "source": [
        "# 21살 미만인 사람만 확인하기(where절)\n",
        "people.filter(people.age < 21).show()"
      ]
    },
    {
      "cell_type": "code",
      "execution_count": null,
      "id": "6b457f38",
      "metadata": {
        "id": "6b457f38",
        "outputId": "a1b7e681-ff89-47e6-cf88-27d9e81cb8e0"
      },
      "outputs": [
        {
          "name": "stdout",
          "output_type": "stream",
          "text": [
            "+---+-----+\n",
            "|age|count|\n",
            "+---+-----+\n",
            "| 31|    8|\n",
            "| 65|    5|\n",
            "| 53|    7|\n",
            "| 34|    6|\n",
            "| 28|   10|\n",
            "| 26|   17|\n",
            "| 27|    8|\n",
            "| 44|   12|\n",
            "| 22|    7|\n",
            "| 47|    9|\n",
            "| 52|   11|\n",
            "| 40|   17|\n",
            "| 20|    5|\n",
            "| 57|   12|\n",
            "| 54|   13|\n",
            "| 48|   10|\n",
            "| 19|   11|\n",
            "| 64|   12|\n",
            "| 41|    9|\n",
            "| 43|    7|\n",
            "+---+-----+\n",
            "only showing top 20 rows\n",
            "\n"
          ]
        }
      ],
      "source": [
        "# 그룹핑\n",
        "people.groupBy(\"age\").count().show()"
      ]
    },
    {
      "cell_type": "code",
      "execution_count": null,
      "id": "e950f487",
      "metadata": {
        "id": "e950f487",
        "outputId": "ebccac31-c3f1-49fa-b448-c733691f6057"
      },
      "outputs": [
        {
          "name": "stdout",
          "output_type": "stream",
          "text": [
            "+--------+----------+\n",
            "|    name|(age + 10)|\n",
            "+--------+----------+\n",
            "|    Will|        43|\n",
            "|Jean-Luc|        36|\n",
            "|    Hugh|        65|\n",
            "|  Deanna|        50|\n",
            "|   Quark|        78|\n",
            "|  Weyoun|        69|\n",
            "|  Gowron|        47|\n",
            "|    Will|        64|\n",
            "|  Jadzia|        48|\n",
            "|    Hugh|        37|\n",
            "|     Odo|        63|\n",
            "|     Ben|        67|\n",
            "|   Keiko|        64|\n",
            "|Jean-Luc|        66|\n",
            "|    Hugh|        53|\n",
            "|     Rom|        46|\n",
            "|  Weyoun|        32|\n",
            "|     Odo|        45|\n",
            "|Jean-Luc|        55|\n",
            "|  Geordi|        70|\n",
            "+--------+----------+\n",
            "only showing top 20 rows\n",
            "\n"
          ]
        }
      ],
      "source": [
        "# 연산 ( 모든 사람들의 나이를 10살 더하기 )\n",
        "people.select(people.name, people.age+10).show()"
      ]
    },
    {
      "cell_type": "code",
      "execution_count": null,
      "id": "af40913c",
      "metadata": {
        "id": "af40913c"
      },
      "outputs": [],
      "source": [
        "spark.stop()"
      ]
    }
  ],
  "metadata": {
    "kernelspec": {
      "display_name": "Python 3 (ipykernel)",
      "language": "python",
      "name": "python3"
    },
    "language_info": {
      "codemirror_mode": {
        "name": "ipython",
        "version": 3
      },
      "file_extension": ".py",
      "mimetype": "text/x-python",
      "name": "python",
      "nbconvert_exporter": "python",
      "pygments_lexer": "ipython3",
      "version": "3.9.7"
    },
    "colab": {
      "provenance": [],
      "include_colab_link": true
    }
  },
  "nbformat": 4,
  "nbformat_minor": 5
}