{
  "cells": [
    {
      "cell_type": "markdown",
      "metadata": {
        "id": "view-in-github",
        "colab_type": "text"
      },
      "source": [
        "<a href=\"https://colab.research.google.com/github/parkrye/Python/blob/main/202210_Bigdata/RDD_%EC%8B%A4%EC%8A%B5_2_%EB%82%98%EC%9D%B4%EB%A5%BC_%EA%B8%B0%EC%A4%80%EC%9C%BC%EB%A1%9C_%EC%B9%9C%EA%B5%AC_%EC%88%98_%EC%84%B8%EC%96%B4%EB%B3%B4%EA%B8%B0.ipynb\" target=\"_parent\"><img src=\"https://colab.research.google.com/assets/colab-badge.svg\" alt=\"Open In Colab\"/></a>"
      ]
    },
    {
      "cell_type": "code",
      "execution_count": null,
      "id": "7c0a52af",
      "metadata": {
        "id": "7c0a52af"
      },
      "outputs": [],
      "source": [
        "from pyspark import SparkConf, SparkContext\n",
        "\n",
        "conf = SparkConf().setMaster(\"local\").setAppName(\"FriendsByAge\")\n",
        "sc = SparkContext(conf = conf)"
      ]
    },
    {
      "cell_type": "code",
      "execution_count": null,
      "id": "58bf1990",
      "metadata": {
        "id": "58bf1990"
      },
      "outputs": [],
      "source": [
        "directory = \"C:\\\\Users\\\\mhso_lec\\\\study_notebook\\\\data\"\n",
        "filename  = \"fakefriends.csv\""
      ]
    },
    {
      "cell_type": "code",
      "execution_count": null,
      "id": "623a8c5e",
      "metadata": {
        "id": "623a8c5e",
        "outputId": "e549cc55-c23f-40a3-d4d3-0b7c288fe5d4"
      },
      "outputs": [
        {
          "data": {
            "text/plain": [
              "['0,Will,33,385',\n",
              " '1,Jean-Luc,26,2',\n",
              " '2,Hugh,55,221',\n",
              " '3,Deanna,40,465',\n",
              " '4,Quark,68,21',\n",
              " '5,Weyoun,59,318']"
            ]
          },
          "execution_count": 3,
          "metadata": {},
          "output_type": "execute_result"
        }
      ],
      "source": [
        "lines = sc.textFile(f\"file:///{directory}\\\\{filename}\")\n",
        "lines.collect()[:6]"
      ]
    },
    {
      "cell_type": "markdown",
      "id": "20f6163f",
      "metadata": {
        "id": "20f6163f"
      },
      "source": [
        "# 라인 파싱 함수 생성\n",
        "- 각 라인을 쪼개고 파싱하는 함수를 만들어 둡니다."
      ]
    },
    {
      "cell_type": "code",
      "execution_count": null,
      "id": "e0d895ca",
      "metadata": {
        "id": "e0d895ca"
      },
      "outputs": [],
      "source": [
        "def parseLine(line):\n",
        "    fields = line.split(',')\n",
        "    age = int(fields[2])\n",
        "    numFriends = int(fields[3])\n",
        "    \n",
        "    return age, numFriends"
      ]
    },
    {
      "cell_type": "code",
      "execution_count": null,
      "id": "c1a18d7e",
      "metadata": {
        "id": "c1a18d7e",
        "outputId": "7fdd251c-674c-4545-b000-09beb0b1032e"
      },
      "outputs": [
        {
          "data": {
            "text/plain": [
              "[(33, 385), (26, 2), (55, 221), (40, 465), (68, 21)]"
            ]
          },
          "execution_count": 5,
          "metadata": {},
          "output_type": "execute_result"
        }
      ],
      "source": [
        "# 직접 만든 함수를 map에서 실행할 수 있도록 콜백으로 전달합니다.\n",
        "rdd = lines.map(parseLine)\n",
        "rdd.collect()[:5]"
      ]
    },
    {
      "cell_type": "markdown",
      "id": "54d91135",
      "metadata": {
        "id": "54d91135"
      },
      "source": [
        "# Key-Value RDD 생성\n",
        "- 친구의 `age`를 `key`로 놓고, 개수를 세기 위해 `value`에 1을 갖는 `Key-Value RDD`를 생성합니다.\n",
        "```\n",
        "(나이, (친구수, 1))\n",
        "```"
      ]
    },
    {
      "cell_type": "code",
      "execution_count": null,
      "id": "09e3ac2c",
      "metadata": {
        "id": "09e3ac2c",
        "outputId": "df4db31e-39a8-4507-f145-aaad44605068"
      },
      "outputs": [
        {
          "data": {
            "text/plain": [
              "[(33, (385, 1)), (26, (2, 1)), (55, (221, 1)), (40, (465, 1)), (68, (21, 1))]"
            ]
          },
          "execution_count": 6,
          "metadata": {},
          "output_type": "execute_result"
        }
      ],
      "source": [
        "age_count_rdd = rdd.mapValues(lambda x : (x, 1))\n",
        "age_count_rdd.collect()[:5]"
      ]
    },
    {
      "cell_type": "markdown",
      "id": "338a31ba",
      "metadata": {
        "id": "338a31ba"
      },
      "source": [
        "`reduceByKey`를 이용해 같은 나이(`key`)를 갖는 데이터를 집계합니다."
      ]
    },
    {
      "cell_type": "code",
      "execution_count": null,
      "id": "ed914556",
      "metadata": {
        "id": "ed914556",
        "outputId": "b022da5b-ec34-4f27-8f1d-8f94f2e47960"
      },
      "outputs": [
        {
          "data": {
            "text/plain": [
              "[(33, (3904, 12)),\n",
              " (26, (4115, 17)),\n",
              " (55, (3842, 13)),\n",
              " (40, (4264, 17)),\n",
              " (68, (2696, 10))]"
            ]
          },
          "execution_count": 7,
          "metadata": {},
          "output_type": "execute_result"
        }
      ],
      "source": [
        "# x와 y는 각 항목을 의미합니다. x는 친구의 수, y는 1\n",
        "totalsByAge = age_count_rdd.reduceByKey(lambda x, y : (x[0] + y[0], x[1] + y[1] ))\n",
        "totalsByAge.collect()[:5]"
      ]
    },
    {
      "cell_type": "code",
      "execution_count": null,
      "id": "30ba3223",
      "metadata": {
        "id": "30ba3223",
        "outputId": "e169e21d-b088-4047-c302-3c3b9bf0676a"
      },
      "outputs": [
        {
          "data": {
            "text/plain": [
              "[(33, 325.3333333333333),\n",
              " (26, 242.05882352941177),\n",
              " (55, 295.53846153846155),\n",
              " (40, 250.8235294117647),\n",
              " (68, 269.6)]"
            ]
          },
          "execution_count": 8,
          "metadata": {},
          "output_type": "execute_result"
        }
      ],
      "source": [
        "# 평균 친구수 구하기\n",
        "averageByAge = totalsByAge.mapValues(lambda x : x[0] / x[1])\n",
        "averageByAge.collect()[:5]"
      ]
    },
    {
      "cell_type": "code",
      "execution_count": null,
      "id": "bff0fad5",
      "metadata": {
        "id": "bff0fad5",
        "outputId": "04f580a2-ab12-4c12-9218-aea688c5304e"
      },
      "outputs": [
        {
          "name": "stdout",
          "output_type": "stream",
          "text": [
            "(33, 325.3333333333333)\n",
            "(26, 242.05882352941177)\n",
            "(55, 295.53846153846155)\n",
            "(40, 250.8235294117647)\n",
            "(68, 269.6)\n",
            "(59, 220.0)\n",
            "(37, 249.33333333333334)\n",
            "(54, 278.0769230769231)\n",
            "(38, 193.53333333333333)\n",
            "(27, 228.125)\n",
            "(53, 222.85714285714286)\n",
            "(57, 258.8333333333333)\n",
            "(56, 306.6666666666667)\n",
            "(43, 230.57142857142858)\n",
            "(36, 246.6)\n",
            "(22, 206.42857142857142)\n",
            "(35, 211.625)\n",
            "(45, 309.53846153846155)\n",
            "(60, 202.71428571428572)\n",
            "(67, 214.625)\n",
            "(19, 213.27272727272728)\n",
            "(30, 235.8181818181818)\n",
            "(51, 302.14285714285717)\n",
            "(25, 197.45454545454547)\n",
            "(21, 350.875)\n",
            "(42, 303.5)\n",
            "(49, 184.66666666666666)\n",
            "(48, 281.4)\n",
            "(50, 254.6)\n",
            "(39, 169.28571428571428)\n",
            "(32, 207.9090909090909)\n",
            "(58, 116.54545454545455)\n",
            "(64, 281.3333333333333)\n",
            "(31, 267.25)\n",
            "(52, 340.6363636363636)\n",
            "(24, 233.8)\n",
            "(20, 165.0)\n",
            "(62, 220.76923076923077)\n",
            "(41, 268.55555555555554)\n",
            "(44, 282.1666666666667)\n",
            "(69, 235.2)\n",
            "(65, 298.2)\n",
            "(61, 256.22222222222223)\n",
            "(28, 209.1)\n",
            "(66, 276.44444444444446)\n",
            "(46, 223.69230769230768)\n",
            "(29, 215.91666666666666)\n",
            "(18, 343.375)\n",
            "(47, 233.22222222222223)\n",
            "(34, 245.5)\n",
            "(63, 384.0)\n",
            "(23, 246.3)\n"
          ]
        }
      ],
      "source": [
        "results = averageByAge.collect()\n",
        "for result in results:\n",
        "    print(result)"
      ]
    },
    {
      "cell_type": "code",
      "execution_count": null,
      "id": "0b252ed1",
      "metadata": {
        "id": "0b252ed1"
      },
      "outputs": [],
      "source": [
        "sc.stop()"
      ]
    }
  ],
  "metadata": {
    "kernelspec": {
      "display_name": "Python 3 (ipykernel)",
      "language": "python",
      "name": "python3"
    },
    "language_info": {
      "codemirror_mode": {
        "name": "ipython",
        "version": 3
      },
      "file_extension": ".py",
      "mimetype": "text/x-python",
      "name": "python",
      "nbconvert_exporter": "python",
      "pygments_lexer": "ipython3",
      "version": "3.9.7"
    },
    "colab": {
      "provenance": [],
      "include_colab_link": true
    }
  },
  "nbformat": 4,
  "nbformat_minor": 5
}