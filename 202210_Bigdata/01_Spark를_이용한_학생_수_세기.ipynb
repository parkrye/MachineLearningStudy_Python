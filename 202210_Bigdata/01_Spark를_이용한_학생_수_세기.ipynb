{
  "cells": [
    {
      "cell_type": "markdown",
      "metadata": {
        "id": "view-in-github",
        "colab_type": "text"
      },
      "source": [
        "<a href=\"https://colab.research.google.com/github/parkrye/Python/blob/main/202210_Bigdata/01_Spark%EB%A5%BC_%EC%9D%B4%EC%9A%A9%ED%95%9C_%ED%95%99%EC%83%9D_%EC%88%98_%EC%84%B8%EA%B8%B0.ipynb\" target=\"_parent\"><img src=\"https://colab.research.google.com/assets/colab-badge.svg\" alt=\"Open In Colab\"/></a>"
      ]
    },
    {
      "cell_type": "code",
      "execution_count": null,
      "id": "9e7fb500",
      "metadata": {
        "id": "9e7fb500"
      },
      "outputs": [],
      "source": [
        "from pyspark import SparkConf, SparkContext"
      ]
    },
    {
      "cell_type": "code",
      "execution_count": null,
      "id": "bdc75b46",
      "metadata": {
        "id": "bdc75b46"
      },
      "outputs": [],
      "source": [
        "# 스파크 환경 설정 객체 생성\n",
        "conf = SparkConf().setMaster(\"local\").setAppName(\"country-student-counts\")\n",
        "\n",
        "# SparkContext 생성\n",
        "sc = SparkContext(conf=conf)"
      ]
    },
    {
      "cell_type": "code",
      "execution_count": null,
      "id": "bfc1f974",
      "metadata": {
        "id": "bfc1f974"
      },
      "outputs": [],
      "source": [
        "# 데이터 directory 및 filename 설정\n",
        "directory = \"C:\\\\Users\\\\mhso_lec\\\\study_notebook\\\\data\"\n",
        "filename  = \"xAPI-Edu-Data.csv\""
      ]
    },
    {
      "cell_type": "code",
      "execution_count": null,
      "id": "0de0baef",
      "metadata": {
        "id": "0de0baef",
        "outputId": "c4a179e2-bfe2-4b04-d270-fa88148bc171"
      },
      "outputs": [
        {
          "data": {
            "text/plain": [
              "file:///C:\\Users\\mhso_lec\\study_notebook\\data\\xAPI-Edu-Data.csv MapPartitionsRDD[3] at textFile at NativeMethodAccessorImpl.java:0"
            ]
          },
          "execution_count": 4,
          "metadata": {},
          "output_type": "execute_result"
        }
      ],
      "source": [
        "# 데이터 로딩 및 RDD 생성\n",
        "lines = sc.textFile(\"file:///{}\\\\{}\".format(directory, filename))\n",
        "lines"
      ]
    },
    {
      "cell_type": "code",
      "execution_count": null,
      "id": "42918f37",
      "metadata": {
        "id": "42918f37",
        "outputId": "81f32b97-3cba-401b-8570-336e502b29ce"
      },
      "outputs": [
        {
          "data": {
            "text/plain": [
              "'gender,NationalITy,PlaceofBirth,StageID,GradeID,SectionID,Topic,Semester,Relation,raisedhands,VisITedResources,AnnouncementsView,Discussion,ParentAnsweringSurvey,ParentschoolSatisfaction,StudentAbsenceDays,Class'"
            ]
          },
          "execution_count": 5,
          "metadata": {},
          "output_type": "execute_result"
        }
      ],
      "source": [
        "header = lines.first() # 첫 번째 줄을 보여달라는 action\n",
        "header"
      ]
    },
    {
      "cell_type": "code",
      "execution_count": null,
      "id": "f257370a",
      "metadata": {
        "id": "f257370a",
        "outputId": "d5ac6ca3-da01-44c9-8049-96d3327213ef"
      },
      "outputs": [
        {
          "data": {
            "text/plain": [
              "PythonRDD[5] at RDD at PythonRDD.scala:53"
            ]
          },
          "execution_count": 6,
          "metadata": {},
          "output_type": "execute_result"
        }
      ],
      "source": [
        "datas = lines.filter(lambda row : row != header)\n",
        "datas # 데이터의 변환( 필요한 부분만 보고 싶다! )이 바로 일어나지 않았다. - Transformation"
      ]
    },
    {
      "cell_type": "code",
      "execution_count": null,
      "id": "1500b50e",
      "metadata": {
        "id": "1500b50e",
        "outputId": "69e84cb1-699a-4d78-a5a8-cc47a4563228"
      },
      "outputs": [
        {
          "data": {
            "text/plain": [
              "PythonRDD[8] at RDD at PythonRDD.scala:53"
            ]
          },
          "execution_count": 9,
          "metadata": {},
          "output_type": "execute_result"
        }
      ],
      "source": [
        "countries = datas.map(lambda row : row.split(\",\")[2]) # 데이터 각각에 특정 효과를 부여한다.\n",
        "countries # map의 결과도 RDD . map도 Transformations"
      ]
    },
    {
      "cell_type": "code",
      "execution_count": null,
      "id": "194a6c8e",
      "metadata": {
        "id": "194a6c8e",
        "outputId": "aa391541-327c-45f5-e4ab-38688fe7111e"
      },
      "outputs": [
        {
          "data": {
            "text/plain": [
              "['KuwaIT', 'KuwaIT', 'KuwaIT']"
            ]
          },
          "execution_count": 11,
          "metadata": {},
          "output_type": "execute_result"
        }
      ],
      "source": [
        "countries.collect()[:3] # collect()는 RDD에 있는 모든 Transformations 연산을 적용한 결과를 보여달라! action"
      ]
    },
    {
      "cell_type": "code",
      "execution_count": null,
      "id": "1600f845",
      "metadata": {
        "id": "1600f845",
        "outputId": "bb86b14d-0257-4b90-ec3f-cbfeb57f326f"
      },
      "outputs": [
        {
          "data": {
            "text/plain": [
              "defaultdict(int,\n",
              "            {'KuwaIT': 180,\n",
              "             'lebanon': 19,\n",
              "             'Egypt': 9,\n",
              "             'SaudiArabia': 16,\n",
              "             'USA': 16,\n",
              "             'Jordan': 176,\n",
              "             'venzuela': 1,\n",
              "             'Iran': 6,\n",
              "             'Tunis': 9,\n",
              "             'Morocco': 4,\n",
              "             'Syria': 6,\n",
              "             'Iraq': 22,\n",
              "             'Palestine': 10,\n",
              "             'Lybia': 6})"
            ]
          },
          "execution_count": 8,
          "metadata": {},
          "output_type": "execute_result"
        }
      ],
      "source": [
        "result = countries.countByValue() # 각각의 개수를 센 결과를 보여준다. - action\n",
        "result"
      ]
    }
  ],
  "metadata": {
    "kernelspec": {
      "display_name": "Python 3 (ipykernel)",
      "language": "python",
      "name": "python3"
    },
    "language_info": {
      "codemirror_mode": {
        "name": "ipython",
        "version": 3
      },
      "file_extension": ".py",
      "mimetype": "text/x-python",
      "name": "python",
      "nbconvert_exporter": "python",
      "pygments_lexer": "ipython3",
      "version": "3.9.7"
    },
    "colab": {
      "provenance": [],
      "include_colab_link": true
    }
  },
  "nbformat": 4,
  "nbformat_minor": 5
}