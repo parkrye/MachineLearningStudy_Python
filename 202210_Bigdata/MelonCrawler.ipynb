{
  "nbformat": 4,
  "nbformat_minor": 0,
  "metadata": {
    "colab": {
      "provenance": [],
      "collapsed_sections": [],
      "authorship_tag": "ABX9TyNKfGucY0nAjjz627FAx0Dr",
      "include_colab_link": true
    },
    "kernelspec": {
      "name": "python3",
      "display_name": "Python 3"
    },
    "language_info": {
      "name": "python"
    }
  },
  "cells": [
    {
      "cell_type": "markdown",
      "metadata": {
        "id": "view-in-github",
        "colab_type": "text"
      },
      "source": [
        "<a href=\"https://colab.research.google.com/github/parkrye/Python/blob/main/202210_Bigdata/MelonCrawler.ipynb\" target=\"_parent\"><img src=\"https://colab.research.google.com/assets/colab-badge.svg\" alt=\"Open In Colab\"/></a>"
      ]
    },
    {
      "cell_type": "code",
      "source": [
        "import requests\n",
        "from bs4 import BeautifulSoup"
      ],
      "metadata": {
        "id": "lJaCfxPpJ6Ig"
      },
      "execution_count": null,
      "outputs": []
    },
    {
      "cell_type": "code",
      "execution_count": null,
      "metadata": {
        "id": "nB_KJAWMHvEy"
      },
      "outputs": [],
      "source": [
        "url = \"https://www.melon.com/chart/index.htm\"\n",
        "song = \"ellipsis rank01\"\n",
        "singer = \"ellipsis rank02\"\n",
        "\n",
        "header = {\"User-Agent\":\"Mozila/5.0 (Winodws NT 6.3; Trident/7.0; rv:11.0) like Gecko\"}\n",
        "res = requests.get(url, headers=header)\n",
        "html = res.text\n",
        "\n",
        "soup = BeautifulSoup(html)\n",
        "\n",
        "song_list = []\n",
        "singer_list = []\n",
        "chart_list = []\n",
        "for song in soup.find_all('div', {'class':song}):\n",
        "  song_list.append(song.find('a').text)\n",
        "for singer in soup.find_all('div', {'class':singer}):\n",
        "  singer_list.append(singer.find('a').text)\n",
        "for i in range(len(song_list)):\n",
        "  chart_list.append([song_list[i], singer_list[i]])"
      ]
    },
    {
      "cell_type": "code",
      "source": [
        "for i in range(len(chart_list)):\n",
        "  print(f\"{i+1}위 {chart_list[i][0]} / {chart_list[i][1]}\")"
      ],
      "metadata": {
        "colab": {
          "base_uri": "https://localhost:8080/"
        },
        "id": "huBhyFR2KsPt",
        "outputId": "6903c271-ca54-460f-f7e4-c2e76f3ef333"
      },
      "execution_count": null,
      "outputs": [
        {
          "output_type": "stream",
          "name": "stdout",
          "text": [
            "1위 Nxde / (여자)아이들\n",
            "2위 ANTIFRAGILE / LE SSERAFIM (르세라핌)\n",
            "3위 사건의 지평선 / 윤하 (YOUNHA)\n",
            "4위 새삥 (Prod. ZICO) (Feat. 호미들) / 지코 (ZICO)\n",
            "5위 After LIKE / IVE (아이브)\n",
            "6위 Hype boy / NewJeans\n",
            "7위 Rush Hour (Feat. j-hope of BTS) / Crush\n",
            "8위 Attention / NewJeans\n",
            "9위 Shut Down / BLACKPINK\n",
            "10위 Monologue / 테이\n",
            "11위 사랑은 늘 도망가 / 임영웅\n",
            "12위 자격지심 (Feat. ZICO) / BE'O (비오)\n",
            "13위 LOVE DIVE / IVE (아이브)\n",
            "14위 Pink Venom / BLACKPINK\n",
            "15위 우리들의 블루스 / 임영웅\n",
            "16위 딱 10CM만 / 10CM\n",
            "17위 다시 만날 수 있을까 / 임영웅\n",
            "18위 무지개 / 임영웅\n",
            "19위 우린 그렇게 사랑해서 / 강민경 (다비치)\n",
            "20위 이제 나만 믿어요 / 임영웅\n",
            "21위 TOMBOY / (여자)아이들\n",
            "22위 아버지 / 임영웅\n",
            "23위 그라데이션 / 10CM\n",
            "24위 그때 그 순간 그대로 (그그그) / WSG워너비 (가야G)\n",
            "25위 Cookie / NewJeans\n",
            "26위 A bientot / 임영웅\n",
            "27위 해요 (2022) / #안녕\n",
            "28위 손이 참 곱던 그대 / 임영웅\n",
            "29위 인생찬가 / 임영웅\n",
            "30위 사랑해 진짜 / 임영웅\n",
            "31위 내가 아니라도 / 주호\n",
            "32위 연애편지 / 임영웅\n",
            "33위 사랑인가 봐 / 멜로망스\n",
            "34위 사랑역 / 임영웅\n",
            "35위 정이라고 하자 (Feat. 10CM) / BIG Naughty (서동현)\n",
            "36위 보금자리 / 임영웅\n",
            "37위 사랑해요 그대를 / 임영웅\n",
            "38위 보고싶었어 / WSG워너비 (4FIRE)\n",
            "39위 That That (prod. & feat. SUGA of BTS) / 싸이 (PSY)\n",
            "40위 FEARLESS / LE SSERAFIM (르세라핌)\n",
            "41위 나의 X에게 / 경서\n",
            "42위 너의 모든 순간 / 성시경\n",
            "43위 FOREVER 1 / 소녀시대 (GIRLS' GENERATION)\n",
            "44위 ELEVEN / IVE (아이브)\n",
            "45위 내 기쁨은 너가 벤틀리를 끄는 거야 / 김승민\n",
            "46위 That's Hilarious / Charlie Puth\n",
            "47위 취중고백 / 김민석 (멜로망스)\n",
            "48위 LAW (Prod. Czaer) / 윤미래\n",
            "49위 LOVE me / BE'O (비오)\n",
            "50위 The Astronaut / 진\n",
            "51위 Dynamite / 방탄소년단\n",
            "52위 다정히 내 이름을 부르면 / 경서예지\n",
            "53위 SNEAKERS / ITZY (있지)\n",
            "54위 I Don't Think That I Like Her / Charlie Puth\n",
            "55위 Left and Right (Feat. Jung Kook of BTS) / Charlie Puth\n",
            "56위 도깨비불 (Illusion) / aespa\n",
            "57위 새벽에 걸려온 너의 전화는 / 한동근\n",
            "58위 Butter / 방탄소년단\n",
            "59위 주저하는 연인들을 위해 / 잔나비\n",
            "60위 떠나보낼 준비해 둘걸 그랬어 / 임한별\n",
            "61위 Love story / 볼빨간사춘기\n",
            "62위 Yet To Come / 방탄소년단\n",
            "63위 봄날 / 방탄소년단\n",
            "64위 POP! / 나연 (TWICE)\n",
            "65위 봄여름가을겨울 (Still Life) / BIGBANG (빅뱅)\n",
            "66위 사랑한다고 말해줘 / 탑현\n",
            "67위 Permission to Dance / 방탄소년단\n",
            "68위 모든 날, 모든 순간 (Every day, Every Moment) / 폴킴\n",
            "69위 못해 / 김나영\n",
            "70위 밤하늘의 별을(2020) / 경서\n",
            "71위 STAY / The Kid LAROI\n",
            "72위 그중에 그대를 만나 / 김호중\n",
            "73위 DICE / NMIXX\n",
            "74위 그래서 그대는 / 이영현\n",
            "75위 스티커 사진 / 21학번\n",
            "76위 MY BAG / (여자)아이들\n",
            "77위 고백연습 / 경서\n",
            "78위 통화연결음 / 보라미유\n",
            "79위 나의 목소리로 / 김호중\n",
            "80위 Feel My Rhythm / Red Velvet (레드벨벳)\n",
            "81위 strawberry moon / 아이유\n",
            "82위 신호등 / 이무진\n",
            "83위 INVU / 태연 (TAEYEON)\n",
            "84위 Girls / aespa\n",
            "85위 드라마 / 아이유\n",
            "86위 내 손을 잡아 / 아이유\n",
            "87위 인생은 뷰티풀 / 김호중\n",
            "88위 Off My Face / Justin Bieber\n",
            "89위 첫사랑 / 백아\n",
            "90위 회전목마 (Feat. Zion.T, 원슈타인) (Prod. Slom) / sokodomo\n",
            "91위 바보에게 바보가 (웹툰 '연애의 발견' X 이석훈) / 이석훈\n",
            "92위 Next Level / aespa\n",
            "93위 Talk that Talk / TWICE (트와이스)\n",
            "94위 늦은 밤 헤어지긴 너무 아쉬워 / 케이시 (Kassy)\n",
            "95위 I Ain't Worried / OneRepublic\n",
            "96위 GANADARA (Feat. 아이유) / 박재범\n",
            "97위 너를 생각해 / 주시크 (Joosiq)\n",
            "98위 주마등 / 김호중\n",
            "99위 듣고 싶을까 / MSG워너비(M.O.M)\n",
            "100위 아무래도 난 / 주시크 (Joosiq)\n"
          ]
        }
      ]
    }
  ]
}