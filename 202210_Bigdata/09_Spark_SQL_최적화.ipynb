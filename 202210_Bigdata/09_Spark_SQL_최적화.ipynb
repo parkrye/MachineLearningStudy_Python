{
  "cells": [
    {
      "cell_type": "markdown",
      "metadata": {
        "id": "view-in-github",
        "colab_type": "text"
      },
      "source": [
        "<a href=\"https://colab.research.google.com/github/parkrye/Python/blob/main/202210_Bigdata/09_Spark_SQL_%EC%B5%9C%EC%A0%81%ED%99%94.ipynb\" target=\"_parent\"><img src=\"https://colab.research.google.com/assets/colab-badge.svg\" alt=\"Open In Colab\"/></a>"
      ]
    },
    {
      "cell_type": "code",
      "execution_count": null,
      "id": "82f4edfa",
      "metadata": {
        "id": "82f4edfa"
      },
      "outputs": [],
      "source": [
        "from pyspark.sql import SparkSession\n",
        "\n",
        "spark = SparkSession.builder.appName(\"trip_count_sql\").getOrCreate()"
      ]
    },
    {
      "cell_type": "code",
      "execution_count": null,
      "id": "5d0fda0f",
      "metadata": {
        "id": "5d0fda0f"
      },
      "outputs": [],
      "source": [
        "directory=\"C:\\\\Users\\\\mhso_lec\\\\study_notebook\\\\data\"\n",
        "trip_file = \"fhvhv_tripdata_2020-03.csv\""
      ]
    },
    {
      "cell_type": "code",
      "execution_count": null,
      "id": "26f33303",
      "metadata": {
        "id": "26f33303"
      },
      "outputs": [],
      "source": [
        "# inferSchema : 자동으로 스키마 예측하게 하기\n",
        "data = spark.read.csv(f\"file:///{directory}\\\\{trip_file}\", inferSchema=True, header=True)"
      ]
    },
    {
      "cell_type": "markdown",
      "id": "7f943c4c",
      "metadata": {
        "id": "7f943c4c"
      },
      "source": [
        "불러온 데이터 확인하기"
      ]
    },
    {
      "cell_type": "code",
      "execution_count": null,
      "id": "155a4ac4",
      "metadata": {
        "id": "155a4ac4",
        "outputId": "62b85b6a-7705-498b-8321-05ac422334cd"
      },
      "outputs": [
        {
          "name": "stdout",
          "output_type": "stream",
          "text": [
            "+-----------------+--------------------+-------------------+-------------------+------------+------------+-------+\n",
            "|hvfhs_license_num|dispatching_base_num|    pickup_datetime|   dropoff_datetime|PULocationID|DOLocationID|SR_Flag|\n",
            "+-----------------+--------------------+-------------------+-------------------+------------+------------+-------+\n",
            "|           HV0005|              B02510|2020-03-01 00:03:40|2020-03-01 00:23:39|          81|         159|   null|\n",
            "|           HV0005|              B02510|2020-03-01 00:28:05|2020-03-01 00:38:57|         168|         119|   null|\n",
            "|           HV0003|              B02764|2020-03-01 00:03:07|2020-03-01 00:15:04|         137|         209|      1|\n",
            "|           HV0003|              B02764|2020-03-01 00:18:42|2020-03-01 00:38:42|         209|          80|   null|\n",
            "|           HV0003|              B02764|2020-03-01 00:44:24|2020-03-01 00:58:44|         256|         226|   null|\n",
            "+-----------------+--------------------+-------------------+-------------------+------------+------------+-------+\n",
            "only showing top 5 rows\n",
            "\n"
          ]
        }
      ],
      "source": [
        "data.show(5)"
      ]
    },
    {
      "cell_type": "markdown",
      "id": "fc0c66b5",
      "metadata": {
        "id": "fc0c66b5"
      },
      "source": [
        "SQL 사용을 위해서 임시 VIEW를 생성"
      ]
    },
    {
      "cell_type": "code",
      "execution_count": null,
      "id": "0bac58c0",
      "metadata": {
        "id": "0bac58c0"
      },
      "outputs": [],
      "source": [
        "data.createOrReplaceTempView(\"mobility_data\") # 데이터 프레임에 SQL 사용 가능!"
      ]
    },
    {
      "cell_type": "code",
      "execution_count": null,
      "id": "6dc0e132",
      "metadata": {
        "id": "6dc0e132",
        "outputId": "856e7ea4-3907-4542-8a2e-2b1eea607e78"
      },
      "outputs": [
        {
          "name": "stdout",
          "output_type": "stream",
          "text": [
            "+-----------------+--------------------+-------------------+-------------------+------------+------------+-------+\n",
            "|hvfhs_license_num|dispatching_base_num|    pickup_datetime|   dropoff_datetime|PULocationID|DOLocationID|SR_Flag|\n",
            "+-----------------+--------------------+-------------------+-------------------+------------+------------+-------+\n",
            "|           HV0005|              B02510|2020-03-01 00:03:40|2020-03-01 00:23:39|          81|         159|   null|\n",
            "|           HV0005|              B02510|2020-03-01 00:28:05|2020-03-01 00:38:57|         168|         119|   null|\n",
            "|           HV0003|              B02764|2020-03-01 00:03:07|2020-03-01 00:15:04|         137|         209|      1|\n",
            "|           HV0003|              B02764|2020-03-01 00:18:42|2020-03-01 00:38:42|         209|          80|   null|\n",
            "|           HV0003|              B02764|2020-03-01 00:44:24|2020-03-01 00:58:44|         256|         226|   null|\n",
            "+-----------------+--------------------+-------------------+-------------------+------------+------------+-------+\n",
            "\n"
          ]
        }
      ],
      "source": [
        "query = \"\"\"\n",
        "select *\n",
        "from mobility_data\n",
        "limit 5\n",
        "\"\"\"\n",
        "spark.sql(query).show()"
      ]
    },
    {
      "cell_type": "markdown",
      "id": "576c0b31",
      "metadata": {
        "id": "576c0b31"
      },
      "source": [
        "# 스파크 SQL을 사용하는 이유\n",
        "- 집계\n",
        "- 승차 년-월-일 별 카운트 구하기"
      ]
    },
    {
      "cell_type": "code",
      "execution_count": null,
      "id": "e434f842",
      "metadata": {
        "id": "e434f842",
        "outputId": "292fb60c-20bf-4457-e264-e89faab209d5"
      },
      "outputs": [
        {
          "name": "stdout",
          "output_type": "stream",
          "text": [
            "+-----------+------+\n",
            "|pickup_date| trips|\n",
            "+-----------+------+\n",
            "| 2020-03-02|648986|\n",
            "| 2020-03-01|784246|\n",
            "| 2020-03-03|697880|\n",
            "| 2020-03-04|707879|\n",
            "| 2020-03-05|731165|\n",
            "| 2020-03-06|872012|\n",
            "| 2020-03-07|886071|\n",
            "| 2020-03-08|731222|\n",
            "| 2020-03-10|626474|\n",
            "| 2020-03-09|628940|\n",
            "| 2020-03-11|628601|\n",
            "| 2020-03-12|643257|\n",
            "| 2020-03-13|660914|\n",
            "| 2020-03-15|448125|\n",
            "| 2020-03-14|569397|\n",
            "| 2020-03-16|391518|\n",
            "| 2020-03-17|312298|\n",
            "| 2020-03-20|261900|\n",
            "| 2020-03-19|252773|\n",
            "| 2020-03-18|269232|\n",
            "+-----------+------+\n",
            "only showing top 20 rows\n",
            "\n"
          ]
        }
      ],
      "source": [
        "query = \"\"\"\n",
        "\n",
        "select split(pickup_datetime, ' ')[0] as pickup_date, count(*) as trips\n",
        "from mobility_data\n",
        "\n",
        "group by pickup_date\n",
        "\"\"\"\n",
        "\n",
        "spark.sql(query).show()"
      ]
    },
    {
      "cell_type": "code",
      "execution_count": null,
      "id": "e46f6b6e",
      "metadata": {
        "id": "e46f6b6e",
        "outputId": "590e70a7-727b-4387-8570-ea97e43006e1"
      },
      "outputs": [
        {
          "name": "stdout",
          "output_type": "stream",
          "text": [
            "== Parsed Logical Plan ==\n",
            "'Aggregate ['pickup_date], ['split('pickup_datetime,  )[0] AS pickup_date#185, 'count(1) AS trips#186]\n",
            "+- 'UnresolvedRelation [mobility_data], [], false\n",
            "\n",
            "== Analyzed Logical Plan ==\n",
            "pickup_date: string, trips: bigint\n",
            "Aggregate [split(pickup_datetime#18,  , -1)[0]], [split(pickup_datetime#18,  , -1)[0] AS pickup_date#185, count(1) AS trips#186L]\n",
            "+- SubqueryAlias mobility_data\n",
            "   +- View (`mobility_data`, [hvfhs_license_num#16,dispatching_base_num#17,pickup_datetime#18,dropoff_datetime#19,PULocationID#20,DOLocationID#21,SR_Flag#22])\n",
            "      +- Relation [hvfhs_license_num#16,dispatching_base_num#17,pickup_datetime#18,dropoff_datetime#19,PULocationID#20,DOLocationID#21,SR_Flag#22] csv\n",
            "\n",
            "== Optimized Logical Plan ==\n",
            "Aggregate [_groupingexpression#190], [_groupingexpression#190 AS pickup_date#185, count(1) AS trips#186L]\n",
            "+- Project [split(pickup_datetime#18,  , -1)[0] AS _groupingexpression#190]\n",
            "   +- Relation [hvfhs_license_num#16,dispatching_base_num#17,pickup_datetime#18,dropoff_datetime#19,PULocationID#20,DOLocationID#21,SR_Flag#22] csv\n",
            "\n",
            "== Physical Plan ==\n",
            "AdaptiveSparkPlan isFinalPlan=false\n",
            "+- HashAggregate(keys=[_groupingexpression#190], functions=[count(1)], output=[pickup_date#185, trips#186L])\n",
            "   +- Exchange hashpartitioning(_groupingexpression#190, 200), ENSURE_REQUIREMENTS, [id=#292]\n",
            "      +- HashAggregate(keys=[_groupingexpression#190], functions=[partial_count(1)], output=[_groupingexpression#190, count#192L])\n",
            "         +- Project [split(pickup_datetime#18,  , -1)[0] AS _groupingexpression#190]\n",
            "            +- FileScan csv [pickup_datetime#18] Batched: false, DataFilters: [], Format: CSV, Location: InMemoryFileIndex(1 paths)[file:/C:/Users/mhso_lec/study_notebook/data/fhvhv_tripdata_2020-03.csv], PartitionFilters: [], PushedFilters: [], ReadSchema: struct<pickup_datetime:string>\n",
            "\n"
          ]
        }
      ],
      "source": [
        "# 실행 계획 살펴보기\n",
        "spark.sql(query).explain(True)"
      ]
    },
    {
      "cell_type": "code",
      "execution_count": null,
      "id": "a748f25d",
      "metadata": {
        "id": "a748f25d",
        "outputId": "7c9e93f4-0441-47c6-9de3-95ede04995c4"
      },
      "outputs": [
        {
          "name": "stdout",
          "output_type": "stream",
          "text": [
            "== Parsed Logical Plan ==\n",
            "'Aggregate ['pickup_date], ['pickup_date, 'count(1) AS trips#211]\n",
            "+- 'SubqueryAlias __auto_generated_subquery_name\n",
            "   +- 'Project ['split('pickup_datetime,  )[0] AS pickup_date#210]\n",
            "      +- 'UnresolvedRelation [mobility_data], [], false\n",
            "\n",
            "== Analyzed Logical Plan ==\n",
            "pickup_date: string, trips: bigint\n",
            "Aggregate [pickup_date#210], [pickup_date#210, count(1) AS trips#211L]\n",
            "+- SubqueryAlias __auto_generated_subquery_name\n",
            "   +- Project [split(pickup_datetime#18,  , -1)[0] AS pickup_date#210]\n",
            "      +- SubqueryAlias mobility_data\n",
            "         +- View (`mobility_data`, [hvfhs_license_num#16,dispatching_base_num#17,pickup_datetime#18,dropoff_datetime#19,PULocationID#20,DOLocationID#21,SR_Flag#22])\n",
            "            +- Relation [hvfhs_license_num#16,dispatching_base_num#17,pickup_datetime#18,dropoff_datetime#19,PULocationID#20,DOLocationID#21,SR_Flag#22] csv\n",
            "\n",
            "== Optimized Logical Plan ==\n",
            "Aggregate [pickup_date#210], [pickup_date#210, count(1) AS trips#211L]\n",
            "+- Project [split(pickup_datetime#18,  , -1)[0] AS pickup_date#210]\n",
            "   +- Relation [hvfhs_license_num#16,dispatching_base_num#17,pickup_datetime#18,dropoff_datetime#19,PULocationID#20,DOLocationID#21,SR_Flag#22] csv\n",
            "\n",
            "== Physical Plan ==\n",
            "AdaptiveSparkPlan isFinalPlan=false\n",
            "+- HashAggregate(keys=[pickup_date#210], functions=[count(1)], output=[pickup_date#210, trips#211L])\n",
            "   +- Exchange hashpartitioning(pickup_date#210, 200), ENSURE_REQUIREMENTS, [id=#359]\n",
            "      +- HashAggregate(keys=[pickup_date#210], functions=[partial_count(1)], output=[pickup_date#210, count#216L])\n",
            "         +- Project [split(pickup_datetime#18,  , -1)[0] AS pickup_date#210]\n",
            "            +- FileScan csv [pickup_datetime#18] Batched: false, DataFilters: [], Format: CSV, Location: InMemoryFileIndex(1 paths)[file:/C:/Users/mhso_lec/study_notebook/data/fhvhv_tripdata_2020-03.csv], PartitionFilters: [], PushedFilters: [], ReadSchema: struct<pickup_datetime:string>\n",
            "\n"
          ]
        }
      ],
      "source": [
        "spark.sql(\"\"\"select \n",
        "                pickup_date, \n",
        "                count(*) as trips\n",
        "             from ( select\n",
        "                          split(pickup_datetime, ' ')[0] as pickup_date\n",
        "                          from mobility_data )\n",
        "             group by pickup_date\"\"\").explain(True)"
      ]
    },
    {
      "cell_type": "code",
      "execution_count": null,
      "id": "cd7e1d74",
      "metadata": {
        "id": "cd7e1d74"
      },
      "outputs": [],
      "source": [
        "spark.stop()"
      ]
    }
  ],
  "metadata": {
    "kernelspec": {
      "display_name": "Python 3 (ipykernel)",
      "language": "python",
      "name": "python3"
    },
    "language_info": {
      "codemirror_mode": {
        "name": "ipython",
        "version": 3
      },
      "file_extension": ".py",
      "mimetype": "text/x-python",
      "name": "python",
      "nbconvert_exporter": "python",
      "pygments_lexer": "ipython3",
      "version": "3.9.7"
    },
    "colab": {
      "provenance": [],
      "include_colab_link": true
    }
  },
  "nbformat": 4,
  "nbformat_minor": 5
}