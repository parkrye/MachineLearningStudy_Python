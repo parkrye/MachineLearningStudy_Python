{
  "cells": [
    {
      "cell_type": "markdown",
      "metadata": {
        "id": "view-in-github",
        "colab_type": "text"
      },
      "source": [
        "<a href=\"https://colab.research.google.com/github/parkrye/Python/blob/main/202210_Bigdata/RDD_%EC%8B%A4%EC%8A%B5_1_%EC%98%81%ED%99%94_%EB%B3%84%EC%A0%90_%EC%B9%B4%EC%9A%B4%ED%8A%B8.ipynb\" target=\"_parent\"><img src=\"https://colab.research.google.com/assets/colab-badge.svg\" alt=\"Open In Colab\"/></a>"
      ]
    },
    {
      "cell_type": "code",
      "execution_count": null,
      "id": "a3bece3f",
      "metadata": {
        "id": "a3bece3f"
      },
      "outputs": [],
      "source": [
        "from pyspark import SparkConf, SparkContext\n",
        "from collections import OrderedDict"
      ]
    },
    {
      "cell_type": "code",
      "execution_count": null,
      "id": "f2a8091e",
      "metadata": {
        "id": "f2a8091e"
      },
      "outputs": [],
      "source": [
        "conf = SparkConf().setMaster(\"local\").setAppName(\"RatingsHistogram\")\n",
        "sc = SparkContext(conf=conf)"
      ]
    },
    {
      "cell_type": "markdown",
      "id": "422eade4",
      "metadata": {
        "id": "422eade4"
      },
      "source": [
        "# MovieLens 데이터 불러오기"
      ]
    },
    {
      "cell_type": "code",
      "execution_count": null,
      "id": "ea67a7cb",
      "metadata": {
        "id": "ea67a7cb"
      },
      "outputs": [],
      "source": [
        "directory = \"C:\\\\Users\\\\mhso_lec\\\\study_notebook\\\\data\\\\ml-100k\"\n",
        "filename  = \"u.data\""
      ]
    },
    {
      "cell_type": "code",
      "execution_count": null,
      "id": "25206132",
      "metadata": {
        "id": "25206132",
        "outputId": "e54cd671-2a4b-48fc-b062-ca1011cb0415"
      },
      "outputs": [
        {
          "data": {
            "text/plain": [
              "['196\\t242\\t3\\t881250949',\n",
              " '186\\t302\\t3\\t891717742',\n",
              " '22\\t377\\t1\\t878887116',\n",
              " '244\\t51\\t2\\t880606923',\n",
              " '166\\t346\\t1\\t886397596']"
            ]
          },
          "execution_count": 5,
          "metadata": {},
          "output_type": "execute_result"
        }
      ],
      "source": [
        "lines = sc.textFile(f\"file:///{directory}\\\\{filename}\")\n",
        "lines.collect()[:5]"
      ]
    },
    {
      "cell_type": "markdown",
      "id": "1da04f0b",
      "metadata": {
        "id": "1da04f0b"
      },
      "source": [
        "각 라인을 한줄씩 처리 해야 하기 때문에 `map`을 사용"
      ]
    },
    {
      "cell_type": "code",
      "execution_count": null,
      "id": "1535139a",
      "metadata": {
        "id": "1535139a",
        "outputId": "36ff9119-34a5-4182-9f20-a28b91ac509f"
      },
      "outputs": [
        {
          "data": {
            "text/plain": [
              "['3', '3', '1', '2', '1']"
            ]
          },
          "execution_count": 6,
          "metadata": {},
          "output_type": "execute_result"
        }
      ],
      "source": [
        "ratings = lines.map(lambda x : x.split()[2])\n",
        "ratings.collect()[:5]"
      ]
    },
    {
      "cell_type": "markdown",
      "id": "27639a44",
      "metadata": {
        "id": "27639a44"
      },
      "source": [
        "# `countByValue()` 사용하기\n",
        "- 각 별점의 개수를 세어주기 위해 값의 개수를 세어주는 `countByValue` 함수를 사용"
      ]
    },
    {
      "cell_type": "code",
      "execution_count": null,
      "id": "b46cfac4",
      "metadata": {
        "id": "b46cfac4",
        "outputId": "0dca28b5-9d49-4c71-f645-cad392d76762"
      },
      "outputs": [
        {
          "data": {
            "text/plain": [
              "defaultdict(int, {'3': 27145, '1': 6110, '2': 11370, '4': 34174, '5': 21201})"
            ]
          },
          "execution_count": 7,
          "metadata": {},
          "output_type": "execute_result"
        }
      ],
      "source": [
        "result = ratings.countByValue()\n",
        "result"
      ]
    },
    {
      "cell_type": "markdown",
      "id": "8e95c353",
      "metadata": {
        "id": "8e95c353"
      },
      "source": [
        "별점 순서대로 정렬"
      ]
    },
    {
      "cell_type": "code",
      "execution_count": null,
      "id": "5ae52c98",
      "metadata": {
        "id": "5ae52c98",
        "outputId": "3146dd32-1b36-4955-831b-2c2380688ef5"
      },
      "outputs": [
        {
          "name": "stdout",
          "output_type": "stream",
          "text": [
            "1 6110\n",
            "2 11370\n",
            "3 27145\n",
            "4 34174\n",
            "5 21201\n"
          ]
        }
      ],
      "source": [
        "sortedResults = OrderedDict(sorted(result.items()))\n",
        "for key, value in sortedResults.items():\n",
        "    print(key, value)"
      ]
    },
    {
      "cell_type": "code",
      "execution_count": null,
      "id": "45d6a69b",
      "metadata": {
        "id": "45d6a69b"
      },
      "outputs": [],
      "source": [
        "sc.stop()"
      ]
    }
  ],
  "metadata": {
    "kernelspec": {
      "display_name": "Python 3 (ipykernel)",
      "language": "python",
      "name": "python3"
    },
    "language_info": {
      "codemirror_mode": {
        "name": "ipython",
        "version": 3
      },
      "file_extension": ".py",
      "mimetype": "text/x-python",
      "name": "python",
      "nbconvert_exporter": "python",
      "pygments_lexer": "ipython3",
      "version": "3.9.7"
    },
    "colab": {
      "provenance": [],
      "include_colab_link": true
    }
  },
  "nbformat": 4,
  "nbformat_minor": 5
}