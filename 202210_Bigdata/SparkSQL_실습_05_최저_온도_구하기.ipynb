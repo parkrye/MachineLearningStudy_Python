{
  "cells": [
    {
      "cell_type": "markdown",
      "metadata": {
        "id": "view-in-github",
        "colab_type": "text"
      },
      "source": [
        "<a href=\"https://colab.research.google.com/github/parkrye/Python/blob/main/202210_Bigdata/SparkSQL_%EC%8B%A4%EC%8A%B5_05_%EC%B5%9C%EC%A0%80_%EC%98%A8%EB%8F%84_%EA%B5%AC%ED%95%98%EA%B8%B0.ipynb\" target=\"_parent\"><img src=\"https://colab.research.google.com/assets/colab-badge.svg\" alt=\"Open In Colab\"/></a>"
      ]
    },
    {
      "cell_type": "code",
      "execution_count": null,
      "id": "83c9c4fc",
      "metadata": {
        "id": "83c9c4fc"
      },
      "outputs": [],
      "source": [
        "from pyspark.sql import SparkSession\n",
        "from pyspark.sql import functions as func\n",
        "from pyspark.sql.types import StructType, StructField, StringType, IntegerType, FloatType\n",
        "\n",
        "spark = SparkSession.builder.appName(\"MinTemperatures\").getOrCreate()"
      ]
    },
    {
      "cell_type": "markdown",
      "id": "8f346c62",
      "metadata": {
        "id": "8f346c62"
      },
      "source": [
        "스키마 정의하기"
      ]
    },
    {
      "cell_type": "code",
      "execution_count": null,
      "id": "8600c758",
      "metadata": {
        "id": "8600c758"
      },
      "outputs": [],
      "source": [
        "schema = StructType([\n",
        "    StructField(\"stationID\", StringType(), True),\n",
        "    StructField(\"date\", IntegerType(), True),\n",
        "    StructField(\"measure_type\", StringType(), True),\n",
        "    StructField(\"temperature\", FloatType(), True)\n",
        "])"
      ]
    },
    {
      "cell_type": "code",
      "execution_count": null,
      "id": "8053227b",
      "metadata": {
        "id": "8053227b"
      },
      "outputs": [],
      "source": [
        "directory = \"C:\\\\Users\\\\mhso_lec\\\\study_notebook\\\\data\"\n",
        "filename  = \"1800.csv\""
      ]
    },
    {
      "cell_type": "code",
      "execution_count": null,
      "id": "0747db38",
      "metadata": {
        "id": "0747db38",
        "outputId": "18b5c1fa-08cf-4ade-d4cf-7d7845686a04"
      },
      "outputs": [
        {
          "name": "stdout",
          "output_type": "stream",
          "text": [
            "root\n",
            " |-- stationID: string (nullable = true)\n",
            " |-- date: integer (nullable = true)\n",
            " |-- measure_type: string (nullable = true)\n",
            " |-- temperature: float (nullable = true)\n",
            "\n"
          ]
        }
      ],
      "source": [
        "df = spark.read.schema(schema).csv(f\"file:///{directory}\\\\{filename}\")\n",
        "df.printSchema()"
      ]
    },
    {
      "cell_type": "code",
      "execution_count": null,
      "id": "48f0f483",
      "metadata": {
        "id": "48f0f483",
        "outputId": "6ace3c68-7204-413d-86cb-2f1844867bca"
      },
      "outputs": [
        {
          "name": "stdout",
          "output_type": "stream",
          "text": [
            "+-----------+--------+------------+-----------+\n",
            "|  stationID|    date|measure_type|temperature|\n",
            "+-----------+--------+------------+-----------+\n",
            "|ITE00100554|18000101|        TMAX|      -75.0|\n",
            "|ITE00100554|18000101|        TMIN|     -148.0|\n",
            "|GM000010962|18000101|        PRCP|        0.0|\n",
            "|EZE00100082|18000101|        TMAX|      -86.0|\n",
            "|EZE00100082|18000101|        TMIN|     -135.0|\n",
            "|ITE00100554|18000102|        TMAX|      -60.0|\n",
            "|ITE00100554|18000102|        TMIN|     -125.0|\n",
            "|GM000010962|18000102|        PRCP|        0.0|\n",
            "|EZE00100082|18000102|        TMAX|      -44.0|\n",
            "|EZE00100082|18000102|        TMIN|     -130.0|\n",
            "|ITE00100554|18000103|        TMAX|      -23.0|\n",
            "|ITE00100554|18000103|        TMIN|      -46.0|\n",
            "|GM000010962|18000103|        PRCP|        4.0|\n",
            "|EZE00100082|18000103|        TMAX|      -10.0|\n",
            "|EZE00100082|18000103|        TMIN|      -73.0|\n",
            "|ITE00100554|18000104|        TMAX|        0.0|\n",
            "|ITE00100554|18000104|        TMIN|      -13.0|\n",
            "|GM000010962|18000104|        PRCP|        0.0|\n",
            "|EZE00100082|18000104|        TMAX|      -55.0|\n",
            "|EZE00100082|18000104|        TMIN|      -74.0|\n",
            "+-----------+--------+------------+-----------+\n",
            "only showing top 20 rows\n",
            "\n"
          ]
        }
      ],
      "source": [
        "df.show()"
      ]
    },
    {
      "cell_type": "code",
      "execution_count": null,
      "id": "c61d09a2",
      "metadata": {
        "id": "c61d09a2",
        "outputId": "3022c844-0141-4cc1-ccf5-a91722879789"
      },
      "outputs": [
        {
          "name": "stdout",
          "output_type": "stream",
          "text": [
            "+-----------+--------+------------+-----------+\n",
            "|  stationID|    date|measure_type|temperature|\n",
            "+-----------+--------+------------+-----------+\n",
            "|ITE00100554|18000101|        TMIN|     -148.0|\n",
            "|EZE00100082|18000101|        TMIN|     -135.0|\n",
            "|ITE00100554|18000102|        TMIN|     -125.0|\n",
            "|EZE00100082|18000102|        TMIN|     -130.0|\n",
            "|ITE00100554|18000103|        TMIN|      -46.0|\n",
            "|EZE00100082|18000103|        TMIN|      -73.0|\n",
            "|ITE00100554|18000104|        TMIN|      -13.0|\n",
            "|EZE00100082|18000104|        TMIN|      -74.0|\n",
            "|ITE00100554|18000105|        TMIN|       -6.0|\n",
            "|EZE00100082|18000105|        TMIN|      -58.0|\n",
            "|ITE00100554|18000106|        TMIN|       13.0|\n",
            "|EZE00100082|18000106|        TMIN|      -57.0|\n",
            "|ITE00100554|18000107|        TMIN|       10.0|\n",
            "|EZE00100082|18000107|        TMIN|      -50.0|\n",
            "|ITE00100554|18000108|        TMIN|       14.0|\n",
            "|EZE00100082|18000108|        TMIN|      -31.0|\n",
            "|ITE00100554|18000109|        TMIN|       23.0|\n",
            "|EZE00100082|18000109|        TMIN|      -46.0|\n",
            "|ITE00100554|18000110|        TMIN|       31.0|\n",
            "|EZE00100082|18000110|        TMIN|      -75.0|\n",
            "+-----------+--------+------------+-----------+\n",
            "only showing top 20 rows\n",
            "\n"
          ]
        }
      ],
      "source": [
        "# 최소 온도 구하기\n",
        "minTemps = df.filter(df.measure_type == \"TMIN\")\n",
        "minTemps.show()"
      ]
    },
    {
      "cell_type": "code",
      "execution_count": null,
      "id": "1d593238",
      "metadata": {
        "id": "1d593238",
        "outputId": "b6a8494c-a07b-440e-cf92-4fce6fab6d95"
      },
      "outputs": [
        {
          "name": "stdout",
          "output_type": "stream",
          "text": [
            "+-----------+-----------+\n",
            "|  stationID|temperature|\n",
            "+-----------+-----------+\n",
            "|ITE00100554|     -148.0|\n",
            "|EZE00100082|     -135.0|\n",
            "|ITE00100554|     -125.0|\n",
            "|EZE00100082|     -130.0|\n",
            "|ITE00100554|      -46.0|\n",
            "|EZE00100082|      -73.0|\n",
            "|ITE00100554|      -13.0|\n",
            "|EZE00100082|      -74.0|\n",
            "|ITE00100554|       -6.0|\n",
            "|EZE00100082|      -58.0|\n",
            "|ITE00100554|       13.0|\n",
            "|EZE00100082|      -57.0|\n",
            "|ITE00100554|       10.0|\n",
            "|EZE00100082|      -50.0|\n",
            "|ITE00100554|       14.0|\n",
            "|EZE00100082|      -31.0|\n",
            "|ITE00100554|       23.0|\n",
            "|EZE00100082|      -46.0|\n",
            "|ITE00100554|       31.0|\n",
            "|EZE00100082|      -75.0|\n",
            "+-----------+-----------+\n",
            "only showing top 20 rows\n",
            "\n"
          ]
        }
      ],
      "source": [
        "# 최적화를 위해 데이터를 줄입니다. Shuffle이 많이 일어나는 것을 방지\n",
        "stationTemps = minTemps.select(\"stationID\", \"temperature\")\n",
        "stationTemps.show()"
      ]
    },
    {
      "cell_type": "code",
      "execution_count": null,
      "id": "b608da20",
      "metadata": {
        "id": "b608da20",
        "outputId": "e783c24d-e1db-493b-a998-ac4e26cec2b2"
      },
      "outputs": [
        {
          "name": "stdout",
          "output_type": "stream",
          "text": [
            "+-----------+----------------+\n",
            "|  stationID|min(temperature)|\n",
            "+-----------+----------------+\n",
            "|ITE00100554|          -148.0|\n",
            "|EZE00100082|          -135.0|\n",
            "+-----------+----------------+\n",
            "\n"
          ]
        }
      ],
      "source": [
        "minTempsByStation = stationTemps.groupBy(\"stationID\").min(\"temperature\")\n",
        "minTempsByStation.show()"
      ]
    },
    {
      "cell_type": "code",
      "execution_count": null,
      "id": "986f6d7f",
      "metadata": {
        "id": "986f6d7f",
        "outputId": "c59b2ddc-2b24-4e0a-f7b6-d3b7e8e1b30e"
      },
      "outputs": [
        {
          "name": "stdout",
          "output_type": "stream",
          "text": [
            "+-----------+----------------+-----------+\n",
            "|  stationID|min(temperature)|temperature|\n",
            "+-----------+----------------+-----------+\n",
            "|ITE00100554|          -148.0|       5.36|\n",
            "|EZE00100082|          -135.0|        7.7|\n",
            "+-----------+----------------+-----------+\n",
            "\n"
          ]
        }
      ],
      "source": [
        "# withColumn 함수를 사용해서 컬럼을 하나 추가\n",
        "minTempsByStationF = minTempsByStation.withColumn(\"temperature\",\n",
        "                                                 func.round(func.col(\"min(temperature)\") * 0.1 * (9.0 / 5.0) + 32.0, 2 )\n",
        "                                                 )\n",
        "minTempsByStationF.show()"
      ]
    },
    {
      "cell_type": "code",
      "execution_count": null,
      "id": "53b85d88",
      "metadata": {
        "id": "53b85d88",
        "outputId": "2e2f604d-8e2c-493e-cd3f-5c94243601f9"
      },
      "outputs": [
        {
          "name": "stdout",
          "output_type": "stream",
          "text": [
            "+-----------+-----------+\n",
            "|  stationID|temperature|\n",
            "+-----------+-----------+\n",
            "|ITE00100554|       5.36|\n",
            "|EZE00100082|        7.7|\n",
            "+-----------+-----------+\n",
            "\n"
          ]
        }
      ],
      "source": [
        "minTempsByStationF.select(\"stationID\", \"temperature\").show()"
      ]
    },
    {
      "cell_type": "code",
      "execution_count": null,
      "id": "45a42b60",
      "metadata": {
        "id": "45a42b60"
      },
      "outputs": [],
      "source": [
        "spark.stop()"
      ]
    }
  ],
  "metadata": {
    "kernelspec": {
      "display_name": "Python 3 (ipykernel)",
      "language": "python",
      "name": "python3"
    },
    "language_info": {
      "codemirror_mode": {
        "name": "ipython",
        "version": 3
      },
      "file_extension": ".py",
      "mimetype": "text/x-python",
      "name": "python",
      "nbconvert_exporter": "python",
      "pygments_lexer": "ipython3",
      "version": "3.9.7"
    },
    "colab": {
      "provenance": [],
      "include_colab_link": true
    }
  },
  "nbformat": 4,
  "nbformat_minor": 5
}