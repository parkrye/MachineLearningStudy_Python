{
  "cells": [
    {
      "cell_type": "markdown",
      "metadata": {
        "id": "view-in-github",
        "colab_type": "text"
      },
      "source": [
        "<a href=\"https://colab.research.google.com/github/parkrye/Python/blob/main/202210_Bigdata/11_MLlib_ALS.ipynb\" target=\"_parent\"><img src=\"https://colab.research.google.com/assets/colab-badge.svg\" alt=\"Open In Colab\"/></a>"
      ]
    },
    {
      "cell_type": "code",
      "execution_count": null,
      "id": "a30628be",
      "metadata": {
        "id": "a30628be"
      },
      "outputs": [],
      "source": [
        "from pyspark.sql import SparkSession"
      ]
    },
    {
      "cell_type": "code",
      "execution_count": null,
      "id": "41fa1372",
      "metadata": {
        "id": "41fa1372"
      },
      "outputs": [],
      "source": [
        "# OutOfMemory 오류가 나면 각종 설정을 추가적으로 해줄 수 있다.\n",
        "MAX_MEMORY = '5g'\n",
        "spark = SparkSession.builder.appName(\"movie-recommendation\")\\\n",
        "    .config(\"spark.executor.memory\", MAX_MEMORY)\\\n",
        "    .config(\"spark.driver.memory\", MAX_MEMORY)\\\n",
        "    .getOrCreate()"
      ]
    },
    {
      "cell_type": "code",
      "execution_count": null,
      "id": "3c88dce1",
      "metadata": {
        "id": "3c88dce1"
      },
      "outputs": [],
      "source": [
        "directory=\"C:\\\\Users\\\\mhso_lec\\\\study_notebook\\\\data\\\\ml-25m\"\n",
        "filename = \"ratings.csv\""
      ]
    },
    {
      "cell_type": "code",
      "execution_count": null,
      "id": "2053f38a",
      "metadata": {
        "id": "2053f38a",
        "outputId": "c4897338-5236-474c-a614-41746db4d034"
      },
      "outputs": [
        {
          "name": "stdout",
          "output_type": "stream",
          "text": [
            "+------+-------+------+----------+\n",
            "|userId|movieId|rating| timestamp|\n",
            "+------+-------+------+----------+\n",
            "|     1|    296|   5.0|1147880044|\n",
            "|     1|    306|   3.5|1147868817|\n",
            "|     1|    307|   5.0|1147868828|\n",
            "|     1|    665|   5.0|1147878820|\n",
            "|     1|    899|   3.5|1147868510|\n",
            "|     1|   1088|   4.0|1147868495|\n",
            "|     1|   1175|   3.5|1147868826|\n",
            "|     1|   1217|   3.5|1147878326|\n",
            "|     1|   1237|   5.0|1147868839|\n",
            "|     1|   1250|   4.0|1147868414|\n",
            "|     1|   1260|   3.5|1147877857|\n",
            "|     1|   1653|   4.0|1147868097|\n",
            "|     1|   2011|   2.5|1147868079|\n",
            "|     1|   2012|   2.5|1147868068|\n",
            "|     1|   2068|   2.5|1147869044|\n",
            "|     1|   2161|   3.5|1147868609|\n",
            "|     1|   2351|   4.5|1147877957|\n",
            "|     1|   2573|   4.0|1147878923|\n",
            "|     1|   2632|   5.0|1147878248|\n",
            "|     1|   2692|   5.0|1147869100|\n",
            "+------+-------+------+----------+\n",
            "only showing top 20 rows\n",
            "\n"
          ]
        }
      ],
      "source": [
        "ratings_df = spark.read.csv(f\"file:///{directory}\\\\{filename}\", inferSchema=True, header=True)\n",
        "ratings_df.show()"
      ]
    },
    {
      "cell_type": "markdown",
      "id": "3dc62187",
      "metadata": {
        "id": "3dc62187"
      },
      "source": [
        "timestamp만 빼고 선택해 주기"
      ]
    },
    {
      "cell_type": "code",
      "execution_count": null,
      "id": "37cb15b1",
      "metadata": {
        "id": "37cb15b1",
        "outputId": "03ac36b6-199f-420f-b95f-3f16982081cd"
      },
      "outputs": [
        {
          "name": "stdout",
          "output_type": "stream",
          "text": [
            "root\n",
            " |-- userid: integer (nullable = true)\n",
            " |-- movieId: integer (nullable = true)\n",
            " |-- rating: double (nullable = true)\n",
            "\n"
          ]
        }
      ],
      "source": [
        "ratings_df = ratings_df.select([\"userid\", \"movieId\", \"rating\"])\n",
        "ratings_df.printSchema()"
      ]
    },
    {
      "cell_type": "code",
      "execution_count": null,
      "id": "c79d2134",
      "metadata": {
        "id": "c79d2134",
        "outputId": "ed43b376-985c-441d-f48b-93f5d4d79161"
      },
      "outputs": [
        {
          "name": "stdout",
          "output_type": "stream",
          "text": [
            "+-------+------------------+\n",
            "|summary|            rating|\n",
            "+-------+------------------+\n",
            "|  count|          25000095|\n",
            "|   mean| 3.533854451353085|\n",
            "| stddev|1.0607439611423475|\n",
            "|    min|               0.5|\n",
            "|    max|               5.0|\n",
            "+-------+------------------+\n",
            "\n"
          ]
        }
      ],
      "source": [
        "ratings_df.select('rating').describe().show()"
      ]
    },
    {
      "cell_type": "markdown",
      "id": "c724be35",
      "metadata": {
        "id": "c724be35"
      },
      "source": [
        "`train`, `test` 데이터 세트 분리하기"
      ]
    },
    {
      "cell_type": "code",
      "execution_count": null,
      "id": "af5027d6",
      "metadata": {
        "id": "af5027d6"
      },
      "outputs": [],
      "source": [
        "train_ratio = 0.8\n",
        "test_ratio  = 0.2\n",
        "\n",
        "train_df, test_df = ratings_df.randomSplit([0.8, 0.2])"
      ]
    },
    {
      "cell_type": "markdown",
      "id": "f535655d",
      "metadata": {
        "id": "f535655d"
      },
      "source": [
        "## ALS 추천 알고리즘 가져오기"
      ]
    },
    {
      "cell_type": "code",
      "execution_count": null,
      "id": "71e53466",
      "metadata": {
        "id": "71e53466"
      },
      "outputs": [],
      "source": [
        "from pyspark.ml.recommendation import ALS"
      ]
    },
    {
      "cell_type": "code",
      "execution_count": null,
      "id": "77a87680",
      "metadata": {
        "id": "77a87680"
      },
      "outputs": [],
      "source": [
        "als = ALS(\n",
        "    maxIter=5,\n",
        "    regParam=0.1,\n",
        "    userCol = \"userid\",\n",
        "    itemCol = \"movieId\",\n",
        "    ratingCol = \"rating\",\n",
        "    coldStartStrategy=\"drop\"\n",
        ")"
      ]
    },
    {
      "cell_type": "code",
      "execution_count": null,
      "id": "a201f8c9",
      "metadata": {
        "id": "a201f8c9"
      },
      "outputs": [],
      "source": [
        "model = als.fit(train_df)"
      ]
    },
    {
      "cell_type": "markdown",
      "id": "cf1a4d91",
      "metadata": {
        "id": "cf1a4d91"
      },
      "source": [
        "**예측**"
      ]
    },
    {
      "cell_type": "code",
      "execution_count": null,
      "id": "3b743b0c",
      "metadata": {
        "id": "3b743b0c",
        "outputId": "2749fbb3-9840-4b39-ffa8-b9e645c53b95"
      },
      "outputs": [
        {
          "name": "stdout",
          "output_type": "stream",
          "text": [
            "+------+-------+------+----------+\n",
            "|userid|movieId|rating|prediction|\n",
            "+------+-------+------+----------+\n",
            "|    31|   6620|   1.5| 2.4813013|\n",
            "|    31|   8638|   2.0| 2.6503458|\n",
            "|   321|   3175|   3.0| 3.2194626|\n",
            "|   375|   1580|   2.5| 3.5059772|\n",
            "|   481|   1580|   4.0|  3.556855|\n",
            "|   597|   1645|   5.0|  3.308879|\n",
            "|   597|   2142|   2.0|  3.139091|\n",
            "|   597|   4519|   4.0| 3.5130634|\n",
            "|   833|   3175|   5.0| 3.4716473|\n",
            "|   858|   8638|   3.0| 3.9397829|\n",
            "|  1088|   1580|   4.0| 3.6711287|\n",
            "|  1133|   3175|   4.0| 3.5227168|\n",
            "|  1342|   8638|   4.0| 3.9017036|\n",
            "|  1352|   1580|   2.5| 3.1428387|\n",
            "|  1404|   1959|   4.0| 3.0831313|\n",
            "|  1743|   1580|   4.0| 3.7619722|\n",
            "|  1787|   1580|   3.0| 3.4076188|\n",
            "|  1829|   1959|   4.0| 3.6322198|\n",
            "|  1975|   1591|   3.0| 2.6983707|\n",
            "|  1977|   1591|   1.0| 1.7971169|\n",
            "+------+-------+------+----------+\n",
            "only showing top 20 rows\n",
            "\n"
          ]
        }
      ],
      "source": [
        "predictions = model.transform(test_df)\n",
        "predictions.show()"
      ]
    },
    {
      "cell_type": "markdown",
      "id": "e903ab4f",
      "metadata": {
        "id": "e903ab4f"
      },
      "source": [
        "* `rating` : 실제 값( `target`, `label` )\n",
        "* `prediction` : 모델이 예측한 값"
      ]
    },
    {
      "cell_type": "markdown",
      "id": "3b05a092",
      "metadata": {
        "id": "3b05a092"
      },
      "source": [
        "**통계 확인**"
      ]
    },
    {
      "cell_type": "code",
      "execution_count": null,
      "id": "0243e618",
      "metadata": {
        "id": "0243e618",
        "outputId": "340f2640-10af-4697-b580-622d2861f8a5"
      },
      "outputs": [
        {
          "name": "stdout",
          "output_type": "stream",
          "text": [
            "+-------+------------------+------------------+\n",
            "|summary|            rating|        prediction|\n",
            "+-------+------------------+------------------+\n",
            "|  count|           4998102|           4998102|\n",
            "|   mean| 3.534835923716643| 3.372317466501226|\n",
            "| stddev|1.0601187235200944|0.6359022658070387|\n",
            "|    min|               0.5|        -1.7934492|\n",
            "|    max|               5.0|         6.5016565|\n",
            "+-------+------------------+------------------+\n",
            "\n"
          ]
        }
      ],
      "source": [
        "predictions.select(\"rating\", \"prediction\").describe().show()"
      ]
    },
    {
      "cell_type": "markdown",
      "id": "44ad236c",
      "metadata": {
        "id": "44ad236c"
      },
      "source": [
        "**RMSE Evaluation**"
      ]
    },
    {
      "cell_type": "markdown",
      "id": "29e2e699",
      "metadata": {
        "id": "29e2e699"
      },
      "source": [
        "$$\n",
        "MSE = \\frac{1}{N}\\sum_{i=1}^{N}(y_i - t_i)^2\n",
        "$$\n",
        "\n",
        "MSE : 평균 제곱 오차 (Mean Squared Error)\n",
        "- $y_i$ : 예측 값 ($\\hat{y}$)\n",
        "- $t_i$ : 실제 값\n",
        "\n",
        "$$\n",
        "RMSE = \\sqrt{\\frac{1}{N}\\sum_{i=1}^{N}(y_i - t_i)^2}\n",
        "$$\n",
        "\n",
        "RMSE : 평균 제곱 오차의 제곱근 (Root Mean Squared Error)"
      ]
    },
    {
      "cell_type": "code",
      "execution_count": null,
      "id": "96acdf44",
      "metadata": {
        "id": "96acdf44"
      },
      "outputs": [],
      "source": [
        "# 영화의 평점 예측, 즉 회귀를 진행 했기 때문에 RegressionEvaluator\n",
        "from pyspark.ml.evaluation import RegressionEvaluator\n",
        "\n",
        "evaluator = RegressionEvaluator(metricName='rmse', labelCol='rating', predictionCol='prediction')"
      ]
    },
    {
      "cell_type": "code",
      "execution_count": null,
      "id": "c7489230",
      "metadata": {
        "id": "c7489230",
        "outputId": "d9029e3d-5bf0-4d1f-87d9-1b9d218319cd"
      },
      "outputs": [
        {
          "name": "stdout",
          "output_type": "stream",
          "text": [
            "0.818637330578193\n"
          ]
        }
      ],
      "source": [
        "rmse = evaluator.evaluate(predictions)\n",
        "print(rmse)"
      ]
    },
    {
      "cell_type": "markdown",
      "id": "e8436200",
      "metadata": {
        "id": "e8436200"
      },
      "source": [
        "평균적으로 예측을 했을 때 `0.82`점 정도의 오차가 있다."
      ]
    },
    {
      "cell_type": "markdown",
      "id": "dc0c9874",
      "metadata": {
        "id": "dc0c9874"
      },
      "source": [
        "`user` 또는 `movie`마다 추천을 해주기"
      ]
    },
    {
      "cell_type": "code",
      "execution_count": null,
      "id": "e0bba5e9",
      "metadata": {
        "id": "e0bba5e9",
        "outputId": "b18beb8c-e123-4c9c-cf24-002e28230880"
      },
      "outputs": [
        {
          "name": "stderr",
          "output_type": "stream",
          "text": [
            "C:\\Users\\mhso_lec\\anaconda3\\lib\\site-packages\\pyspark\\sql\\context.py:125: FutureWarning: Deprecated in 3.0.0. Use SparkSession.builder.getOrCreate() instead.\n",
            "  warnings.warn(\n"
          ]
        },
        {
          "name": "stdout",
          "output_type": "stream",
          "text": [
            "+------+--------------------+\n",
            "|userid|     recommendations|\n",
            "+------+--------------------+\n",
            "|    31|[{200930, 3.94093...|\n",
            "|    34|[{194434, 5.87953...|\n",
            "|    53|[{194334, 6.84846...|\n",
            "|    65|[{194434, 7.04170...|\n",
            "|    78|[{151989, 7.00413...|\n",
            "|    85|[{205453, 6.43756...|\n",
            "|   108|[{194434, 6.07313...|\n",
            "|   133|[{151989, 5.93940...|\n",
            "|   137|[{203086, 5.72784...|\n",
            "|   148|[{194434, 6.20700...|\n",
            "|   155|[{194434, 6.36272...|\n",
            "|   193|[{151989, 5.57745...|\n",
            "|   211|[{194434, 6.78015...|\n",
            "|   243|[{151989, 5.10611...|\n",
            "|   251|[{159467, 5.50269...|\n",
            "|   255|[{194434, 6.58089...|\n",
            "|   296|[{194434, 4.89570...|\n",
            "|   321|[{151989, 5.97614...|\n",
            "|   322|[{199187, 6.43361...|\n",
            "|   362|[{194434, 6.22817...|\n",
            "+------+--------------------+\n",
            "only showing top 20 rows\n",
            "\n"
          ]
        }
      ],
      "source": [
        "# 각 user 에게 top3 아이템을 추천 = {item 번호, 예측된 점수}\n",
        "model.recommendForAllUsers(3).show()"
      ]
    },
    {
      "cell_type": "code",
      "execution_count": null,
      "id": "0f1af53d",
      "metadata": {
        "id": "0f1af53d",
        "outputId": "bf3e1a07-d4b6-4b73-efe3-20b160081e3a"
      },
      "outputs": [
        {
          "name": "stdout",
          "output_type": "stream",
          "text": [
            "+-------+--------------------+\n",
            "|movieId|     recommendations|\n",
            "+-------+--------------------+\n",
            "|     31|[{87426, 4.997895...|\n",
            "|     34|[{58248, 5.517972...|\n",
            "|     53|[{18885, 5.264951...|\n",
            "|     65|[{87426, 5.049288...|\n",
            "|     78|[{149507, 4.60785...|\n",
            "|     85|[{105801, 4.81886...|\n",
            "|    108|[{87426, 5.682478...|\n",
            "|    133|[{160416, 5.06371...|\n",
            "|    137|[{160416, 5.20013...|\n",
            "|    148|[{104135, 4.19040...|\n",
            "|    155|[{96471, 5.02369}...|\n",
            "|    193|[{10183, 4.371178...|\n",
            "|    211|[{105801, 4.99416...|\n",
            "|    243|[{143282, 5.01997...|\n",
            "|    251|[{87426, 4.734022...|\n",
            "|    255|[{93649, 4.289404...|\n",
            "|    296|[{56026, 5.564756...|\n",
            "|    321|[{105801, 5.17007...|\n",
            "|    322|[{149507, 5.01883...|\n",
            "|    362|[{108346, 4.93770...|\n",
            "+-------+--------------------+\n",
            "only showing top 20 rows\n",
            "\n"
          ]
        }
      ],
      "source": [
        "# 각 movie에 어울리는 top 3 user를 추천\n",
        "model.recommendForAllItems(3).show()"
      ]
    },
    {
      "cell_type": "markdown",
      "id": "3564647d",
      "metadata": {
        "id": "3564647d"
      },
      "source": [
        "**user_list**를 이용해서 예측"
      ]
    },
    {
      "cell_type": "code",
      "execution_count": null,
      "id": "59f19a82",
      "metadata": {
        "id": "59f19a82",
        "outputId": "30767e12-3c92-4079-de0b-c10d897d5321"
      },
      "outputs": [
        {
          "name": "stdout",
          "output_type": "stream",
          "text": [
            "+------+\n",
            "|userId|\n",
            "+------+\n",
            "|    65|\n",
            "|    78|\n",
            "|    81|\n",
            "+------+\n",
            "\n"
          ]
        }
      ],
      "source": [
        "from pyspark.sql.types import IntegerType\n",
        "\n",
        "user_list = [65, 78, 81]\n",
        "users_df = spark.createDataFrame(user_list, IntegerType()).toDF(\"userId\")\n",
        "\n",
        "users_df.show()"
      ]
    },
    {
      "cell_type": "code",
      "execution_count": null,
      "id": "11286ac3",
      "metadata": {
        "id": "11286ac3",
        "outputId": "a5197b8c-0eac-478c-cbcc-65ee5755e2de"
      },
      "outputs": [
        {
          "name": "stdout",
          "output_type": "stream",
          "text": [
            "+------+--------------------+\n",
            "|userid|     recommendations|\n",
            "+------+--------------------+\n",
            "|    65|[{194434, 7.04170...|\n",
            "|    78|[{151989, 7.00413...|\n",
            "|    81|[{203086, 5.13430...|\n",
            "+------+--------------------+\n",
            "\n"
          ]
        }
      ],
      "source": [
        "# 데이터 프레임으로 예측 할 때는 recommendForUserSubset\n",
        "user_recs = model.recommendForUserSubset(users_df, 5) # 각 user에 대해 top 5 추천\n",
        "user_recs.show()"
      ]
    },
    {
      "cell_type": "markdown",
      "id": "7c502c82",
      "metadata": {
        "id": "7c502c82"
      },
      "source": [
        "`65`번 사용자를 위한 추천 영화 목록 만들어 보기"
      ]
    },
    {
      "cell_type": "code",
      "execution_count": null,
      "id": "ec581fa4",
      "metadata": {
        "id": "ec581fa4",
        "outputId": "8eb6d817-d847-4b2d-9f73-1dc88f00457a"
      },
      "outputs": [
        {
          "data": {
            "text/plain": [
              "[Row(movieId=194434, rating=7.041701793670654),\n",
              " Row(movieId=205277, rating=6.73788595199585),\n",
              " Row(movieId=169606, rating=6.734252452850342),\n",
              " Row(movieId=139036, rating=6.479048728942871),\n",
              " Row(movieId=179979, rating=6.281877040863037)]"
            ]
          },
          "execution_count": 25,
          "metadata": {},
          "output_type": "execute_result"
        }
      ],
      "source": [
        "movies_list = user_recs.collect()[0].recommendations\n",
        "movies_list"
      ]
    },
    {
      "cell_type": "code",
      "execution_count": null,
      "id": "f3bc3a68",
      "metadata": {
        "id": "f3bc3a68",
        "outputId": "be031b22-9b3a-4850-834f-46ed4d328863"
      },
      "outputs": [
        {
          "name": "stdout",
          "output_type": "stream",
          "text": [
            "+-------+-----------------+\n",
            "|movieId|           rating|\n",
            "+-------+-----------------+\n",
            "| 194434|7.041701793670654|\n",
            "| 205277| 6.73788595199585|\n",
            "| 169606|6.734252452850342|\n",
            "| 139036|6.479048728942871|\n",
            "| 179979|6.281877040863037|\n",
            "+-------+-----------------+\n",
            "\n"
          ]
        }
      ],
      "source": [
        "recs_df = spark.createDataFrame(movies_list)\n",
        "recs_df.show()"
      ]
    },
    {
      "cell_type": "markdown",
      "id": "28a62cfe",
      "metadata": {
        "id": "28a62cfe"
      },
      "source": [
        "영화 이름으로 추천하기"
      ]
    },
    {
      "cell_type": "code",
      "execution_count": null,
      "id": "d9f91751",
      "metadata": {
        "id": "d9f91751"
      },
      "outputs": [],
      "source": [
        "movies_file = \"movies.csv\""
      ]
    },
    {
      "cell_type": "code",
      "execution_count": null,
      "id": "1d40aea6",
      "metadata": {
        "id": "1d40aea6",
        "outputId": "959612a5-4c17-4234-9708-d62c0e57f90c"
      },
      "outputs": [
        {
          "name": "stdout",
          "output_type": "stream",
          "text": [
            "+-------+--------------------+--------------------+\n",
            "|movieId|               title|              genres|\n",
            "+-------+--------------------+--------------------+\n",
            "|      1|    Toy Story (1995)|Adventure|Animati...|\n",
            "|      2|      Jumanji (1995)|Adventure|Childre...|\n",
            "|      3|Grumpier Old Men ...|      Comedy|Romance|\n",
            "|      4|Waiting to Exhale...|Comedy|Drama|Romance|\n",
            "|      5|Father of the Bri...|              Comedy|\n",
            "|      6|         Heat (1995)|Action|Crime|Thri...|\n",
            "|      7|      Sabrina (1995)|      Comedy|Romance|\n",
            "|      8| Tom and Huck (1995)|  Adventure|Children|\n",
            "|      9| Sudden Death (1995)|              Action|\n",
            "|     10|    GoldenEye (1995)|Action|Adventure|...|\n",
            "|     11|American Presiden...|Comedy|Drama|Romance|\n",
            "|     12|Dracula: Dead and...|       Comedy|Horror|\n",
            "|     13|        Balto (1995)|Adventure|Animati...|\n",
            "|     14|        Nixon (1995)|               Drama|\n",
            "|     15|Cutthroat Island ...|Action|Adventure|...|\n",
            "|     16|       Casino (1995)|         Crime|Drama|\n",
            "|     17|Sense and Sensibi...|       Drama|Romance|\n",
            "|     18|   Four Rooms (1995)|              Comedy|\n",
            "|     19|Ace Ventura: When...|              Comedy|\n",
            "|     20|  Money Train (1995)|Action|Comedy|Cri...|\n",
            "+-------+--------------------+--------------------+\n",
            "only showing top 20 rows\n",
            "\n"
          ]
        }
      ],
      "source": [
        "movies_df = spark.read.csv(f\"file:///{directory}\\\\{movies_file}\", inferSchema=True, header=True)\n",
        "movies_df.show()"
      ]
    },
    {
      "cell_type": "markdown",
      "id": "dca333a9",
      "metadata": {
        "id": "dca333a9"
      },
      "source": [
        "spark SQL을 사용하기 위해 TempView 등록"
      ]
    },
    {
      "cell_type": "code",
      "execution_count": null,
      "id": "01f0998a",
      "metadata": {
        "id": "01f0998a"
      },
      "outputs": [],
      "source": [
        "recs_df.createOrReplaceTempView(\"recommendations\")\n",
        "movies_df.createOrReplaceTempView(\"movies\")"
      ]
    },
    {
      "cell_type": "markdown",
      "id": "0d6d1063",
      "metadata": {
        "id": "0d6d1063"
      },
      "source": [
        "추천 영화와 추천 영화의 제목, 장르 조회"
      ]
    },
    {
      "cell_type": "code",
      "execution_count": null,
      "id": "da1a975b",
      "metadata": {
        "id": "da1a975b",
        "outputId": "dc7a8f14-a287-4770-dd6c-ec126f6c03f6"
      },
      "outputs": [
        {
          "name": "stdout",
          "output_type": "stream",
          "text": [
            "+-------+--------------------+--------------------+-------+-----------------+\n",
            "|movieId|               title|              genres|movieId|           rating|\n",
            "+-------+--------------------+--------------------+-------+-----------------+\n",
            "| 194434|   Adrenaline (1990)|  (no genres listed)| 194434|7.041701793670654|\n",
            "| 205277|   Inside Out (1991)|Comedy|Drama|Romance| 205277| 6.73788595199585|\n",
            "| 169606|Dara O'Briain Cro...|              Comedy| 169606|6.734252452850342|\n",
            "| 139036|World Gone Wild (...|       Action|Sci-Fi| 139036|6.479048728942871|\n",
            "| 179979|Heroes Above All ...|  Adventure|Children| 179979|6.281877040863037|\n",
            "+-------+--------------------+--------------------+-------+-----------------+\n",
            "\n"
          ]
        }
      ],
      "source": [
        "query = \"\"\"\n",
        "    \n",
        "    SELECT * \n",
        "    \n",
        "    FROM movies\n",
        "    JOIN recommendations ON movies.movieId = recommendations.movieId\n",
        "    \n",
        "    ORDER BY rating desc\n",
        "    \n",
        "\"\"\"\n",
        "\n",
        "recommended_movies = spark.sql(query)\n",
        "recommended_movies.show()"
      ]
    },
    {
      "cell_type": "code",
      "execution_count": null,
      "id": "331ad292",
      "metadata": {
        "id": "331ad292"
      },
      "outputs": [],
      "source": [
        "# 함수화 시켜보기\n",
        "def get_recommendations(user_id, num_recs):\n",
        "    user_df = spark.createDataFrame([user_id], IntegerType()).toDF(\"userId\")\n",
        "    user_recs_df = model.recommendForUserSubset(user_df, num_recs)\n",
        "    \n",
        "    recs_list = user_recs_df.collect()[0].recommendations\n",
        "    recs_df = spark.createDataFrame(recs_list)\n",
        "    \n",
        "    recommended_movies = recs_df.join(movies_df, \"movieId\")\n",
        "    return recommended_movies"
      ]
    },
    {
      "cell_type": "code",
      "execution_count": null,
      "id": "4a60bc0f",
      "metadata": {
        "id": "4a60bc0f",
        "outputId": "d5fc7829-d959-4774-bcb5-d511c7aff609"
      },
      "outputs": [
        {
          "data": {
            "text/html": [
              "<div>\n",
              "<style scoped>\n",
              "    .dataframe tbody tr th:only-of-type {\n",
              "        vertical-align: middle;\n",
              "    }\n",
              "\n",
              "    .dataframe tbody tr th {\n",
              "        vertical-align: top;\n",
              "    }\n",
              "\n",
              "    .dataframe thead th {\n",
              "        text-align: right;\n",
              "    }\n",
              "</style>\n",
              "<table border=\"1\" class=\"dataframe\">\n",
              "  <thead>\n",
              "    <tr style=\"text-align: right;\">\n",
              "      <th></th>\n",
              "      <th>movieId</th>\n",
              "      <th>rating</th>\n",
              "      <th>title</th>\n",
              "      <th>genres</th>\n",
              "    </tr>\n",
              "  </thead>\n",
              "  <tbody>\n",
              "    <tr>\n",
              "      <th>0</th>\n",
              "      <td>203086</td>\n",
              "      <td>6.966009</td>\n",
              "      <td>Truth and Justice (2019)</td>\n",
              "      <td>Drama</td>\n",
              "    </tr>\n",
              "    <tr>\n",
              "      <th>1</th>\n",
              "      <td>200930</td>\n",
              "      <td>6.885708</td>\n",
              "      <td>C'est quoi la vie? (1999)</td>\n",
              "      <td>Drama</td>\n",
              "    </tr>\n",
              "    <tr>\n",
              "      <th>2</th>\n",
              "      <td>194434</td>\n",
              "      <td>6.829452</td>\n",
              "      <td>Adrenaline (1990)</td>\n",
              "      <td>(no genres listed)</td>\n",
              "    </tr>\n",
              "    <tr>\n",
              "      <th>3</th>\n",
              "      <td>199187</td>\n",
              "      <td>6.639089</td>\n",
              "      <td>Hoaxed (2019)</td>\n",
              "      <td>(no genres listed)</td>\n",
              "    </tr>\n",
              "    <tr>\n",
              "      <th>4</th>\n",
              "      <td>203882</td>\n",
              "      <td>6.411418</td>\n",
              "      <td>Dead in the Water (2006)</td>\n",
              "      <td>Horror</td>\n",
              "    </tr>\n",
              "    <tr>\n",
              "      <th>5</th>\n",
              "      <td>205277</td>\n",
              "      <td>6.321107</td>\n",
              "      <td>Inside Out (1991)</td>\n",
              "      <td>Comedy|Drama|Romance</td>\n",
              "    </tr>\n",
              "    <tr>\n",
              "      <th>6</th>\n",
              "      <td>133291</td>\n",
              "      <td>6.283045</td>\n",
              "      <td>Pump (2014)</td>\n",
              "      <td>Documentary</td>\n",
              "    </tr>\n",
              "    <tr>\n",
              "      <th>7</th>\n",
              "      <td>157791</td>\n",
              "      <td>6.216833</td>\n",
              "      <td>.hack Liminality In the Case of Kyoko Tohno</td>\n",
              "      <td>(no genres listed)</td>\n",
              "    </tr>\n",
              "    <tr>\n",
              "      <th>8</th>\n",
              "      <td>157789</td>\n",
              "      <td>6.216833</td>\n",
              "      <td>.hack Liminality In the Case of Yuki Aihara</td>\n",
              "      <td>(no genres listed)</td>\n",
              "    </tr>\n",
              "    <tr>\n",
              "      <th>9</th>\n",
              "      <td>151615</td>\n",
              "      <td>6.213534</td>\n",
              "      <td>Hello Stranger (2010)</td>\n",
              "      <td>Drama</td>\n",
              "    </tr>\n",
              "  </tbody>\n",
              "</table>\n",
              "</div>"
            ],
            "text/plain": [
              "   movieId    rating                                        title  \\\n",
              "0   203086  6.966009                     Truth and Justice (2019)   \n",
              "1   200930  6.885708                    C'est quoi la vie? (1999)   \n",
              "2   194434  6.829452                            Adrenaline (1990)   \n",
              "3   199187  6.639089                                Hoaxed (2019)   \n",
              "4   203882  6.411418                     Dead in the Water (2006)   \n",
              "5   205277  6.321107                            Inside Out (1991)   \n",
              "6   133291  6.283045                                  Pump (2014)   \n",
              "7   157791  6.216833  .hack Liminality In the Case of Kyoko Tohno   \n",
              "8   157789  6.216833  .hack Liminality In the Case of Yuki Aihara   \n",
              "9   151615  6.213534                        Hello Stranger (2010)   \n",
              "\n",
              "                 genres  \n",
              "0                 Drama  \n",
              "1                 Drama  \n",
              "2    (no genres listed)  \n",
              "3    (no genres listed)  \n",
              "4                Horror  \n",
              "5  Comedy|Drama|Romance  \n",
              "6           Documentary  \n",
              "7    (no genres listed)  \n",
              "8    (no genres listed)  \n",
              "9                 Drama  "
            ]
          },
          "execution_count": 35,
          "metadata": {},
          "output_type": "execute_result"
        }
      ],
      "source": [
        "recs = get_recommendations(456, 10)\n",
        "recs.toPandas()"
      ]
    },
    {
      "cell_type": "code",
      "execution_count": null,
      "id": "c352db3b",
      "metadata": {
        "id": "c352db3b"
      },
      "outputs": [],
      "source": [
        "spark.stop()"
      ]
    }
  ],
  "metadata": {
    "kernelspec": {
      "display_name": "Python 3 (ipykernel)",
      "language": "python",
      "name": "python3"
    },
    "language_info": {
      "codemirror_mode": {
        "name": "ipython",
        "version": 3
      },
      "file_extension": ".py",
      "mimetype": "text/x-python",
      "name": "python",
      "nbconvert_exporter": "python",
      "pygments_lexer": "ipython3",
      "version": "3.9.7"
    },
    "colab": {
      "provenance": [],
      "include_colab_link": true
    }
  },
  "nbformat": 4,
  "nbformat_minor": 5
}