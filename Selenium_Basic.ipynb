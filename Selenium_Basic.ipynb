{
  "nbformat": 4,
  "nbformat_minor": 0,
  "metadata": {
    "colab": {
      "provenance": [],
      "collapsed_sections": [],
      "authorship_tag": "ABX9TyOY+0QCLsq4X42+nZX28M/G",
      "include_colab_link": true
    },
    "kernelspec": {
      "name": "python3",
      "display_name": "Python 3"
    },
    "language_info": {
      "name": "python"
    }
  },
  "cells": [
    {
      "cell_type": "markdown",
      "metadata": {
        "id": "view-in-github",
        "colab_type": "text"
      },
      "source": [
        "<a href=\"https://colab.research.google.com/github/parkrye/Python/blob/main/Selenium_Basic.ipynb\" target=\"_parent\"><img src=\"https://colab.research.google.com/assets/colab-badge.svg\" alt=\"Open In Colab\"/></a>"
      ]
    },
    {
      "cell_type": "code",
      "execution_count": 1,
      "metadata": {
        "colab": {
          "base_uri": "https://localhost:8080/"
        },
        "id": "rJ8CEBqvsF21",
        "outputId": "81ad5ce7-f84b-4a85-ce0f-b100c8b2aa9f"
      },
      "outputs": [
        {
          "output_type": "stream",
          "name": "stdout",
          "text": [
            "Looking in indexes: https://pypi.org/simple, https://us-python.pkg.dev/colab-wheels/public/simple/\n",
            "Collecting selenium\n",
            "  Downloading selenium-4.5.0-py3-none-any.whl (995 kB)\n",
            "\u001b[K     |████████████████████████████████| 995 kB 4.3 MB/s \n",
            "\u001b[?25hRequirement already satisfied: certifi>=2021.10.8 in /usr/local/lib/python3.7/dist-packages (from selenium) (2022.9.24)\n",
            "Collecting trio~=0.17\n",
            "  Downloading trio-0.22.0-py3-none-any.whl (384 kB)\n",
            "\u001b[K     |████████████████████████████████| 384 kB 42.1 MB/s \n",
            "\u001b[?25hCollecting trio-websocket~=0.9\n",
            "  Downloading trio_websocket-0.9.2-py3-none-any.whl (16 kB)\n",
            "Collecting urllib3[socks]~=1.26\n",
            "  Downloading urllib3-1.26.12-py2.py3-none-any.whl (140 kB)\n",
            "\u001b[K     |████████████████████████████████| 140 kB 62.9 MB/s \n",
            "\u001b[?25hRequirement already satisfied: idna in /usr/local/lib/python3.7/dist-packages (from trio~=0.17->selenium) (2.10)\n",
            "Collecting outcome\n",
            "  Downloading outcome-1.2.0-py2.py3-none-any.whl (9.7 kB)\n",
            "Requirement already satisfied: attrs>=19.2.0 in /usr/local/lib/python3.7/dist-packages (from trio~=0.17->selenium) (22.1.0)\n",
            "Collecting sniffio\n",
            "  Downloading sniffio-1.3.0-py3-none-any.whl (10 kB)\n",
            "Collecting exceptiongroup>=1.0.0rc9\n",
            "  Downloading exceptiongroup-1.0.0-py3-none-any.whl (12 kB)\n",
            "Requirement already satisfied: sortedcontainers in /usr/local/lib/python3.7/dist-packages (from trio~=0.17->selenium) (2.4.0)\n",
            "Collecting async-generator>=1.9\n",
            "  Downloading async_generator-1.10-py3-none-any.whl (18 kB)\n",
            "Collecting wsproto>=0.14\n",
            "  Downloading wsproto-1.2.0-py3-none-any.whl (24 kB)\n",
            "Requirement already satisfied: PySocks!=1.5.7,<2.0,>=1.5.6 in /usr/local/lib/python3.7/dist-packages (from urllib3[socks]~=1.26->selenium) (1.7.1)\n",
            "Collecting h11<1,>=0.9.0\n",
            "  Downloading h11-0.14.0-py3-none-any.whl (58 kB)\n",
            "\u001b[K     |████████████████████████████████| 58 kB 5.2 MB/s \n",
            "\u001b[?25hRequirement already satisfied: typing-extensions in /usr/local/lib/python3.7/dist-packages (from h11<1,>=0.9.0->wsproto>=0.14->trio-websocket~=0.9->selenium) (4.1.1)\n",
            "Installing collected packages: sniffio, outcome, h11, exceptiongroup, async-generator, wsproto, urllib3, trio, trio-websocket, selenium\n",
            "  Attempting uninstall: urllib3\n",
            "    Found existing installation: urllib3 1.24.3\n",
            "    Uninstalling urllib3-1.24.3:\n",
            "      Successfully uninstalled urllib3-1.24.3\n",
            "\u001b[31mERROR: pip's dependency resolver does not currently take into account all the packages that are installed. This behaviour is the source of the following dependency conflicts.\n",
            "requests 2.23.0 requires urllib3!=1.25.0,!=1.25.1,<1.26,>=1.21.1, but you have urllib3 1.26.12 which is incompatible.\u001b[0m\n",
            "Successfully installed async-generator-1.10 exceptiongroup-1.0.0 h11-0.14.0 outcome-1.2.0 selenium-4.5.0 sniffio-1.3.0 trio-0.22.0 trio-websocket-0.9.2 urllib3-1.26.12 wsproto-1.2.0\n",
            "Get:1 https://cloud.r-project.org/bin/linux/ubuntu bionic-cran40/ InRelease [3,626 B]\n",
            "Get:2 http://security.ubuntu.com/ubuntu bionic-security InRelease [88.7 kB]\n",
            "Ign:3 https://developer.download.nvidia.com/compute/machine-learning/repos/ubuntu1804/x86_64  InRelease\n",
            "Get:4 https://developer.download.nvidia.com/compute/cuda/repos/ubuntu1804/x86_64  InRelease [1,581 B]\n",
            "Hit:5 https://developer.download.nvidia.com/compute/machine-learning/repos/ubuntu1804/x86_64  Release\n",
            "Get:6 https://cloud.r-project.org/bin/linux/ubuntu bionic-cran40/ Packages [98.9 kB]\n",
            "Get:7 http://ppa.launchpad.net/c2d4u.team/c2d4u4.0+/ubuntu bionic InRelease [15.9 kB]\n",
            "Get:8 https://developer.download.nvidia.com/compute/cuda/repos/ubuntu1804/x86_64  Packages [992 kB]\n",
            "Hit:9 http://archive.ubuntu.com/ubuntu bionic InRelease\n",
            "Get:10 http://archive.ubuntu.com/ubuntu bionic-updates InRelease [88.7 kB]\n",
            "Hit:12 http://ppa.launchpad.net/cran/libgit2/ubuntu bionic InRelease\n",
            "Get:13 http://archive.ubuntu.com/ubuntu bionic-backports InRelease [83.3 kB]\n",
            "Get:14 http://ppa.launchpad.net/deadsnakes/ppa/ubuntu bionic InRelease [15.9 kB]\n",
            "Get:15 http://security.ubuntu.com/ubuntu bionic-security/main amd64 Packages [3,035 kB]\n",
            "Get:16 http://archive.ubuntu.com/ubuntu bionic-updates/universe amd64 Packages [2,332 kB]\n",
            "Hit:17 http://ppa.launchpad.net/graphics-drivers/ppa/ubuntu bionic InRelease\n",
            "Get:18 http://ppa.launchpad.net/c2d4u.team/c2d4u4.0+/ubuntu bionic/main Sources [2,181 kB]\n",
            "Get:19 http://security.ubuntu.com/ubuntu bionic-security/universe amd64 Packages [1,554 kB]\n",
            "Get:20 http://archive.ubuntu.com/ubuntu bionic-updates/main amd64 Packages [3,467 kB]\n",
            "Get:21 http://ppa.launchpad.net/c2d4u.team/c2d4u4.0+/ubuntu bionic/main amd64 Packages [1,117 kB]\n",
            "Fetched 15.1 MB in 6s (2,459 kB/s)\n",
            "Reading package lists... Done\n",
            "Reading package lists... Done\n",
            "Building dependency tree       \n",
            "Reading state information... Done\n",
            "The following package was automatically installed and is no longer required:\n",
            "  libnvidia-common-460\n",
            "Use 'apt autoremove' to remove it.\n",
            "The following additional packages will be installed:\n",
            "  chromium-browser chromium-browser-l10n chromium-codecs-ffmpeg-extra\n",
            "Suggested packages:\n",
            "  webaccounts-chromium-extension unity-chromium-extension\n",
            "The following NEW packages will be installed:\n",
            "  chromium-browser chromium-browser-l10n chromium-chromedriver\n",
            "  chromium-codecs-ffmpeg-extra\n",
            "0 upgraded, 4 newly installed, 0 to remove and 20 not upgraded.\n",
            "Need to get 91.7 MB of archives.\n",
            "After this operation, 309 MB of additional disk space will be used.\n",
            "Get:1 http://archive.ubuntu.com/ubuntu bionic-updates/universe amd64 chromium-codecs-ffmpeg-extra amd64 105.0.5195.102-0ubuntu0.18.04.1 [1,156 kB]\n",
            "Get:2 http://archive.ubuntu.com/ubuntu bionic-updates/universe amd64 chromium-browser amd64 105.0.5195.102-0ubuntu0.18.04.1 [80.1 MB]\n",
            "Get:3 http://archive.ubuntu.com/ubuntu bionic-updates/universe amd64 chromium-browser-l10n all 105.0.5195.102-0ubuntu0.18.04.1 [5,097 kB]\n",
            "Get:4 http://archive.ubuntu.com/ubuntu bionic-updates/universe amd64 chromium-chromedriver amd64 105.0.5195.102-0ubuntu0.18.04.1 [5,320 kB]\n",
            "Fetched 91.7 MB in 8s (12.1 MB/s)\n",
            "Selecting previously unselected package chromium-codecs-ffmpeg-extra.\n",
            "(Reading database ... 123942 files and directories currently installed.)\n",
            "Preparing to unpack .../chromium-codecs-ffmpeg-extra_105.0.5195.102-0ubuntu0.18.04.1_amd64.deb ...\n",
            "Unpacking chromium-codecs-ffmpeg-extra (105.0.5195.102-0ubuntu0.18.04.1) ...\n",
            "Selecting previously unselected package chromium-browser.\n",
            "Preparing to unpack .../chromium-browser_105.0.5195.102-0ubuntu0.18.04.1_amd64.deb ...\n",
            "Unpacking chromium-browser (105.0.5195.102-0ubuntu0.18.04.1) ...\n",
            "Selecting previously unselected package chromium-browser-l10n.\n",
            "Preparing to unpack .../chromium-browser-l10n_105.0.5195.102-0ubuntu0.18.04.1_all.deb ...\n",
            "Unpacking chromium-browser-l10n (105.0.5195.102-0ubuntu0.18.04.1) ...\n",
            "Selecting previously unselected package chromium-chromedriver.\n",
            "Preparing to unpack .../chromium-chromedriver_105.0.5195.102-0ubuntu0.18.04.1_amd64.deb ...\n",
            "Unpacking chromium-chromedriver (105.0.5195.102-0ubuntu0.18.04.1) ...\n",
            "Setting up chromium-codecs-ffmpeg-extra (105.0.5195.102-0ubuntu0.18.04.1) ...\n",
            "Setting up chromium-browser (105.0.5195.102-0ubuntu0.18.04.1) ...\n",
            "update-alternatives: using /usr/bin/chromium-browser to provide /usr/bin/x-www-browser (x-www-browser) in auto mode\n",
            "update-alternatives: using /usr/bin/chromium-browser to provide /usr/bin/gnome-www-browser (gnome-www-browser) in auto mode\n",
            "Setting up chromium-chromedriver (105.0.5195.102-0ubuntu0.18.04.1) ...\n",
            "Setting up chromium-browser-l10n (105.0.5195.102-0ubuntu0.18.04.1) ...\n",
            "Processing triggers for man-db (2.8.3-2ubuntu0.1) ...\n",
            "Processing triggers for hicolor-icon-theme (0.17-2) ...\n",
            "Processing triggers for mime-support (3.60ubuntu1) ...\n",
            "Processing triggers for libc-bin (2.27-3ubuntu1.6) ...\n"
          ]
        }
      ],
      "source": [
        "!pip install selenium\n",
        "!apt-get update\n",
        "!apt install chromium-chromedriver"
      ]
    },
    {
      "cell_type": "code",
      "source": [
        "from selenium import webdriver\n",
        "from urllib.request import urlopen\n",
        "from bs4 import BeautifulSoup as bs\n",
        "from urllib.parse import quote_plus\n",
        "from selenium.webdriver.common.keys import Keys\n",
        "from selenium.webdriver.common.by import By\n",
        "import time"
      ],
      "metadata": {
        "id": "fx4BmGI7uXqm"
      },
      "execution_count": 12,
      "outputs": []
    },
    {
      "cell_type": "code",
      "source": [
        "chrome_options = webdriver.ChromeOptions()\n",
        "chrome_options.add_argument('--headless')\n",
        "chrome_options.add_argument('--no-sandbox')\n",
        "chrome_options.add_argument('--disable-dev-shm-usage')\n",
        "driver = webdriver.Chrome('chromedriver', chrome_options=chrome_options)"
      ],
      "metadata": {
        "colab": {
          "base_uri": "https://localhost:8080/"
        },
        "id": "0hSFZIk8wfxd",
        "outputId": "8d63f45a-a3f0-4e30-c56f-03e79e20f35e"
      },
      "execution_count": 81,
      "outputs": [
        {
          "output_type": "stream",
          "name": "stderr",
          "text": [
            "/usr/local/lib/python3.7/dist-packages/ipykernel_launcher.py:5: DeprecationWarning: use options instead of chrome_options\n",
            "  \"\"\"\n"
          ]
        }
      ]
    },
    {
      "cell_type": "markdown",
      "source": [
        "\n",
        "\n",
        "---\n",
        "\n"
      ],
      "metadata": {
        "id": "0PkF4lYyBhNy"
      }
    },
    {
      "cell_type": "code",
      "source": [
        "url = 'http://unico2013.dothome.co.kr/crawling/exercise_css.html'\n",
        "driver.get(url)"
      ],
      "metadata": {
        "id": "QQR1ycM_1DJx"
      },
      "execution_count": 38,
      "outputs": []
    },
    {
      "cell_type": "code",
      "source": [
        "element = driver.find_element(By.TAG_NAME, 'h1')\n",
        "element.text"
      ],
      "metadata": {
        "colab": {
          "base_uri": "https://localhost:8080/",
          "height": 35
        },
        "id": "uPifaRMN2Qlq",
        "outputId": "bcf984e8-931f-4463-cd49-2774748235ca"
      },
      "execution_count": 53,
      "outputs": [
        {
          "output_type": "execute_result",
          "data": {
            "text/plain": [
              "'CSS 선택자 학습'"
            ],
            "application/vnd.google.colaboratory.intrinsic+json": {
              "type": "string"
            }
          },
          "metadata": {},
          "execution_count": 53
        }
      ]
    },
    {
      "cell_type": "code",
      "source": [
        "element = driver.find_elements(By.TAG_NAME, 'h2')\n",
        "for tag in element:\n",
        "  print(tag.tag_name, ':', tag.text)"
      ],
      "metadata": {
        "colab": {
          "base_uri": "https://localhost:8080/"
        },
        "id": "VcfwUQdH2R7w",
        "outputId": "eec12178-767e-4b48-ba90-70bd63debf8b"
      },
      "execution_count": 40,
      "outputs": [
        {
          "output_type": "stream",
          "name": "stdout",
          "text": [
            "h2 : 교육과정 소개\n",
            "h2 : 웹 클라이언트 기술\n",
            "h2 : 학습 순서(수집)\n"
          ]
        }
      ]
    },
    {
      "cell_type": "code",
      "source": [
        "element = driver.find_elements(By.CLASS_NAME, 'subtitle')\n",
        "for tag in element:\n",
        "  print(tag.id, ':', tag.tag_name, ':', tag.text)"
      ],
      "metadata": {
        "colab": {
          "base_uri": "https://localhost:8080/"
        },
        "id": "U6zgSmzN2vlQ",
        "outputId": "f9579e75-0578-40ae-a762-2b6e57256ae4"
      },
      "execution_count": 41,
      "outputs": [
        {
          "output_type": "stream",
          "name": "stdout",
          "text": [
            "36dbc424-572a-4bfb-8165-380a421f0482 : h2 : 웹 클라이언트 기술\n",
            "1893aaee-490c-485e-baff-fe2d2d98da73 : h2 : 학습 순서(수집)\n"
          ]
        }
      ]
    },
    {
      "cell_type": "code",
      "source": [
        "element = driver.find_element(By.ID, 'f_subtitle')\n",
        "element.text"
      ],
      "metadata": {
        "colab": {
          "base_uri": "https://localhost:8080/",
          "height": 35
        },
        "id": "sseW4PU63SGR",
        "outputId": "b5866a2c-3aab-4638-a281-5763cdc2d4fd"
      },
      "execution_count": 49,
      "outputs": [
        {
          "output_type": "execute_result",
          "data": {
            "text/plain": [
              "'교육과정 소개'"
            ],
            "application/vnd.google.colaboratory.intrinsic+json": {
              "type": "string"
            }
          },
          "metadata": {},
          "execution_count": 49
        }
      ]
    },
    {
      "cell_type": "code",
      "source": [
        "element = driver.find_element(By.CSS_SELECTOR, '#f_subtitle')\n",
        "element.text"
      ],
      "metadata": {
        "colab": {
          "base_uri": "https://localhost:8080/",
          "height": 35
        },
        "id": "I-eLM4rQ4eee",
        "outputId": "e5620114-74cd-47b4-f532-3cb256726c5e"
      },
      "execution_count": 54,
      "outputs": [
        {
          "output_type": "execute_result",
          "data": {
            "text/plain": [
              "'교육과정 소개'"
            ],
            "application/vnd.google.colaboratory.intrinsic+json": {
              "type": "string"
            }
          },
          "metadata": {},
          "execution_count": 54
        }
      ]
    },
    {
      "cell_type": "code",
      "source": [
        "element = driver.find_element(By.CSS_SELECTOR, 'section>h2')\n",
        "element.text"
      ],
      "metadata": {
        "colab": {
          "base_uri": "https://localhost:8080/",
          "height": 35
        },
        "id": "m7tF3d6T3yzZ",
        "outputId": "ea9341fc-f7dc-4593-82d3-85f8bd569c1e"
      },
      "execution_count": 50,
      "outputs": [
        {
          "output_type": "execute_result",
          "data": {
            "text/plain": [
              "'교육과정 소개'"
            ],
            "application/vnd.google.colaboratory.intrinsic+json": {
              "type": "string"
            }
          },
          "metadata": {},
          "execution_count": 50
        }
      ]
    },
    {
      "cell_type": "code",
      "source": [
        "css_selector = driver.find_elements(By.CSS_SELECTOR, 'ul>li.atype')\n",
        "for css in css_selector:\n",
        "  print(css.id, ':', css.tag_name, ':', css.text)"
      ],
      "metadata": {
        "colab": {
          "base_uri": "https://localhost:8080/"
        },
        "id": "7GDEFZGS5Y-3",
        "outputId": "8d9705f7-cb70-4aa6-e20b-211aee8951ea"
      },
      "execution_count": 59,
      "outputs": [
        {
          "output_type": "stream",
          "name": "stdout",
          "text": [
            "774c30f2-b882-4d37-90ba-6050d694661c : li : CSS3\n",
            "5cfb396e-e12f-46cb-95fd-f1ce05d7cbe7 : li : Ajax\n"
          ]
        }
      ]
    },
    {
      "cell_type": "code",
      "source": [
        "xpath = driver.find_element(By.XPATH, '//div/img')\n",
        "xpath"
      ],
      "metadata": {
        "colab": {
          "base_uri": "https://localhost:8080/"
        },
        "id": "FnX3m6Hf7COT",
        "outputId": "b6e14012-b187-475d-b2be-1dc7bbf2d4b1"
      },
      "execution_count": 60,
      "outputs": [
        {
          "output_type": "execute_result",
          "data": {
            "text/plain": [
              "<selenium.webdriver.remote.webelement.WebElement (session=\"d27e563dd85feef2e15b0eac953177a3\", element=\"5866f2c1-7977-4f9c-8580-3bbd9b7b1418\")>"
            ]
          },
          "metadata": {},
          "execution_count": 60
        }
      ]
    },
    {
      "cell_type": "code",
      "source": [
        "xpath = driver.find_elements(By.XPATH, '/html/body/header/nav/a')\n",
        "xpath"
      ],
      "metadata": {
        "colab": {
          "base_uri": "https://localhost:8080/"
        },
        "id": "qLNLzQVn7vsO",
        "outputId": "4327d1cb-cd5f-441a-9056-57d93963bfa6"
      },
      "execution_count": 61,
      "outputs": [
        {
          "output_type": "execute_result",
          "data": {
            "text/plain": [
              "[<selenium.webdriver.remote.webelement.WebElement (session=\"d27e563dd85feef2e15b0eac953177a3\", element=\"0ecc9341-55a1-49a7-83a7-bf79b0baad10\")>,\n",
              " <selenium.webdriver.remote.webelement.WebElement (session=\"d27e563dd85feef2e15b0eac953177a3\", element=\"488ecf03-737f-4f54-8c4c-c803db4561ff\")>]"
            ]
          },
          "metadata": {},
          "execution_count": 61
        }
      ]
    },
    {
      "cell_type": "markdown",
      "source": [
        "\n",
        "\n",
        "---\n",
        "\n"
      ],
      "metadata": {
        "id": "QR3GG9P0BYEw"
      }
    },
    {
      "cell_type": "code",
      "source": [
        "url = 'https://www.melon.com/chart/index.htm'\n",
        "driver.get(url)\n",
        "time.sleep(1)"
      ],
      "metadata": {
        "id": "v8E033bpBdYo"
      },
      "execution_count": 82,
      "outputs": []
    },
    {
      "cell_type": "code",
      "source": [
        "# 차트파인더: //*[@id=\"gnb_menu\"]/ul[1]/li[1]/div/div/button/span\n",
        "driver.find_element(By.XPATH, '//*[@id=\"gnb_menu\"]/ul[1]/li[1]/div/div/button/span').click()\n",
        "time.sleep(1)\n",
        "\n",
        "# 주간 차트: //*[@id=\"d_chart_search\"]/div/h4[1]/a\n",
        "driver.find_element(By.XPATH, '//*[@id=\"d_chart_search\"]/div/h4[1]/a').click()\n",
        "time.sleep(1)\n",
        "\n",
        "# 2020년대: //*[@id=\"d_chart_search\"]/div/div/div[1]/div[1]/ul/li[1]/span/label\n",
        "driver.find_element(By.XPATH, '//*[@id=\"d_chart_search\"]/div/div/div[1]/div[1]/ul/li[1]/span/label').click()\n",
        "time.sleep(1)\n",
        "\n",
        "# 2022년도: //*[@id=\"d_chart_search\"]/div/div/div[2]/div[1]/ul/li[1]/span/label\n",
        "driver.find_element(By.XPATH, '//*[@id=\"d_chart_search\"]/div/div/div[2]/div[1]/ul/li[1]/span/label').click()\n",
        "time.sleep(1)\n",
        "\n",
        "# 1월: //*[@id=\"d_chart_search\"]/div/div/div[3]/div[1]/ul/li[1]/span/label\n",
        "driver.find_element(By.XPATH, '//*[@id=\"d_chart_search\"]/div/div/div[3]/div[1]/ul/li[1]/span/label').click()\n",
        "time.sleep(1)\n",
        "\n",
        "# 1주간: //*[@id=\"d_chart_search\"]/div/div/div[4]/div[1]/ul/li[1]/span/label\n",
        "driver.find_element(By.XPATH, '//*[@id=\"d_chart_search\"]/div/div/div[4]/div[1]/ul/li[1]/span/label').click()\n",
        "time.sleep(1)\n",
        "\n",
        "# 장르종합: //*[@id=\"d_chart_search\"]/div/div/div[5]/div[1]/ul/li[1]/span/label\n",
        "driver.find_element(By.XPATH, '//*[@id=\"d_chart_search\"]/div/div/div[5]/div[1]/ul/li[1]/span/label').click()\n",
        "time.sleep(1)\n",
        "\n",
        "# 검색: //*[@id=\"d_srch_form\"]/div[2]/button/span/span\n",
        "driver.find_element(By.XPATH, '//*[@id=\"d_srch_form\"]/div[2]/button/span/span').click()\n",
        "time.sleep(1)"
      ],
      "metadata": {
        "id": "5RbzTdLGCVOc"
      },
      "execution_count": 83,
      "outputs": []
    },
    {
      "cell_type": "code",
      "source": [
        "html = driver.page_source\n",
        "\n",
        "soup = bs(html, 'html.parser')\n",
        "\n",
        "songs = soup.find_all('div', {'class': 'ellipsis rank01'})\n",
        "singers = soup.find_all('div', {'class': 'ellipsis rank02'})\n",
        "\n",
        "song_list = []\n",
        "singer_list = []\n",
        "chart_list = []\n",
        "for song in songs:\n",
        "  song_list.append(song.find('a').get_text())\n",
        "for singer in singers:\n",
        "  singer_list.append(singer.find('a').get_text())\n",
        "for i in range(len(song_list)):\n",
        "  chart_list.append([song_list[i], singer_list[i]])"
      ],
      "metadata": {
        "id": "w276xJm1GHSd"
      },
      "execution_count": 87,
      "outputs": []
    },
    {
      "cell_type": "code",
      "source": [
        "for rank in range(len(chart_list)):\n",
        "  print(rank, \":\", chart_list[rank][0], \"-\", chart_list[rank][1])"
      ],
      "metadata": {
        "colab": {
          "base_uri": "https://localhost:8080/"
        },
        "id": "tjUHCRDpJHDj",
        "outputId": "5ef5f949-e6a7-4c9f-9d8e-fcce5e2dd0cd"
      },
      "execution_count": 90,
      "outputs": [
        {
          "output_type": "stream",
          "name": "stdout",
          "text": [
            "0 : Counting Stars (Feat. Beenzino) - BE'O (비오)\n",
            "1 : 회전목마 (Feat. Zion.T, 원슈타인) (Prod. Slom) - sokodomo\n",
            "2 : 리무진 (Feat. MINO) (Prod. GRAY) - BE'O (비오)\n",
            "3 : 겨울잠 - 아이유\n",
            "4 : ELEVEN - IVE (아이브)\n",
            "5 : 취중고백 - 김민석 (멜로망스)\n",
            "6 : 사랑은 늘 도망가 - 임영웅\n",
            "7 : 만남은 쉽고 이별은 어려워 (Feat. Leellamarz) (Prod. TOIL) - 베이식 (Basick)\n",
            "8 : 눈이 오잖아(Feat.헤이즈) - 이무진\n",
            "9 : strawberry moon - 아이유\n",
            "10 : 다정히 내 이름을 부르면 - 경서예지\n",
            "11 : Dreams Come True - aespa\n",
            "12 : 드라마 - 아이유\n",
            "13 : 불협화음 (Feat. AKMU) (Prod. GRAY) - Mudd the student\n",
            "14 : 신호등 - 이무진\n",
            "15 : Savage - aespa\n",
            "16 : STAY - The Kid LAROI\n",
            "17 : Next Level - aespa\n",
            "18 : 흰눈 - 먼데이 키즈 (Monday Kiz)\n",
            "19 : 쉬어 (Feat. MINO) (Prod. GRAY) - 아넌딜라이트(Anandelight)\n",
            "20 : 네가 없는 밤 (Feat. ASH ISLAND) (Prod. GRAY) - BE'O (비오)\n",
            "21 : 너를 생각해 - 주시크 (Joosiq)\n",
            "22 : Wake Up (Prod. 코드 쿤스트) - 개코\n",
            "23 : OHAYO MY NIGHT - 디핵 (D-Hack)\n",
            "24 : 정거장 - 아이유\n",
            "25 : 바라만 본다 - MSG워너비(M.O.M)\n",
            "26 : 문득 - BE'O (비오)\n",
            "27 : 낙하 (with 아이유) - AKMU (악뮤)\n",
            "28 : Butter - 방탄소년단\n",
            "29 : Step Back - GOT the beat\n",
            "30 : Christmas Tree - V\n",
            "31 : Permission to Dance - 방탄소년단\n",
            "32 : 러브레터 - 아이유\n",
            "33 : Celebrity - 아이유\n",
            "34 : My Universe - Coldplay\n",
            "35 : 우리가 헤어져야 했던 이유 - 비비 (BIBI)\n",
            "36 : Dynamite - 방탄소년단\n",
            "37 : 헤픈 우연 - 헤이즈 (Heize)\n",
            "38 : Still I Love You - 토요태\n",
            "39 : Weekend - 태연 (TAEYEON)\n",
            "40 : 그게 더 편할 것 같아 (N번째 연애 X 멜로망스) - 멜로망스\n",
            "41 : 너 - 아이유\n",
            "42 : 라일락 - 아이유\n",
            "43 : 밤하늘의 별을(2020) - 경서\n",
            "44 : Bad Habits - Ed Sheeran\n",
            "45 : 이제 나만 믿어요 - 임영웅\n",
            "46 : 고백 - 멜로망스\n",
            "47 : MBTI (Feat. 쿠기 & 로꼬) (Prod. GRAY) - BE'O (비오)\n",
            "48 : 어떻게 이별까지 사랑하겠어, 널 사랑하는 거지 - AKMU (악뮤)\n",
            "49 : 서랍 - 10CM\n",
            "50 : 찰나가 영원이 될 때 (The Eternal Moment) - 마크툽 (MAKTUB)\n",
            "51 : 사이렌 Remix (Feat. UNEDUCATED KID, Paul Blanco) - 호미들\n",
            "52 : 안녕 우린 헤어져야만 해 - 전상근\n",
            "53 : 모든 날, 모든 순간 (Every day, Every Moment) - 폴킴\n",
            "54 : 매일 크리스마스 (Everyday Christmas) - 다비치\n",
            "55 : 롤린 (Rollin') - 브레이브걸스\n",
            "56 : 이별후회 - 김나영\n",
            "57 : 추억은 만남보다 이별에 남아 - 정동하\n",
            "58 : 내 손을 잡아 - 아이유\n",
            "59 : 밝게 빛나는 별이 되어 비춰줄게 - 송이한\n",
            "60 : 시간을 거슬러 (낮에 뜨는 달 X 케이윌) - 케이윌\n",
            "61 : Dun Dun Dance - 오마이걸 (OH MY GIRL)\n",
            "62 : Snowman - Sia\n",
            "63 : Blueming - 아이유\n",
            "64 : 오늘도 빛나는 너에게 (To You My Light) (Feat.이라온) - 마크툽 (MAKTUB)\n",
            "65 : Off My Face - Justin Bieber\n",
            "66 : 좋아좋아 - 조정석\n",
            "67 : 비가 오는 날엔 (2021) - 헤이즈 (Heize)\n",
            "68 : 그대라는 사치 - 임영웅\n",
            "69 : 죽을 만큼 아파서 (Feat. JAMIE (제이미)) - MC몽\n",
            "70 : 호우주의 (Feat. 개코, 넉살 (Nucksal)) (Prod. 코드 쿤스트) - 조광일\n",
            "71 : 멜로디 - ASH ISLAND\n",
            "72 : DUMB DUMB - 전소미\n",
            "73 : Queendom - Red Velvet (레드벨벳)\n",
            "74 : 취기를 빌려 (취향저격 그녀 X 산들) - 산들\n",
            "75 : 다시 사랑한다면 (김필 Ver.) - 임영웅\n",
            "76 : 너의 모든 순간 - 성시경\n",
            "77 : 그날에 나는 맘이 편했을까 - 이예준\n",
            "78 : Santa Tell Me - Ariana Grande\n",
            "79 : 탕!♡ - MINO (송민호)\n",
            "80 : 봄날 - 방탄소년단\n",
            "81 : 깐부 (Feat. 염따, ASH ISLAND) (Prod. TOIL) - KOONTA (쿤타)\n",
            "82 : 비와 당신 - 이무진\n",
            "83 : 작은 것들을 위한 시 (Boy With Luv) (Feat. Halsey) - 방탄소년단\n",
            "84 : 나 그댈위해 시 한편을 쓰겠어 - 케이시 (Kassy)\n",
            "85 : 잊었니 - 임영웅\n",
            "86 : ASAP - STAYC(스테이씨)\n",
            "87 : All I Want for Christmas Is You - Mariah Carey\n",
            "88 : Peaches (Feat. Daniel Caesar & Giveon) - Justin Bieber\n",
            "89 : Savage Love (Laxed - Siren Beat) (BTS Remix) - Jawsh 685\n",
            "90 : 밤새 서로 미루다 - 존박\n",
            "91 : 너와 나의 Memories - 염따\n",
            "92 : 별빛 같은 나의 사랑아 - 임영웅\n",
            "93 : HERO - 임영웅\n",
            "94 : Life Goes On - 방탄소년단\n",
            "95 : 끝사랑 - 임영웅\n",
            "96 : 미리 메리 크리스마스 (Feat. 천둥 Of MBLAQ) - 아이유\n",
            "97 : 에잇(Prod.&Feat. SUGA of BTS) - 아이유\n",
            "98 : 그대 손 놓아요 - 이선희\n",
            "99 : Bk Love - 임영웅\n"
          ]
        }
      ]
    }
  ]
}