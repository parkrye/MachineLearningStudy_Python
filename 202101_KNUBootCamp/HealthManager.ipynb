{
  "nbformat": 4,
  "nbformat_minor": 0,
  "metadata": {
    "colab": {
      "provenance": [],
      "collapsed_sections": [],
      "authorship_tag": "ABX9TyNc1swvf8FKblD2auJlNZ+B",
      "include_colab_link": true
    },
    "kernelspec": {
      "name": "python3",
      "display_name": "Python 3"
    },
    "language_info": {
      "name": "python"
    }
  },
  "cells": [
    {
      "cell_type": "markdown",
      "metadata": {
        "id": "view-in-github",
        "colab_type": "text"
      },
      "source": [
        "<a href=\"https://colab.research.google.com/github/parkrye/Python/blob/main/202101_KNUBootCamp/HealthManager.ipynb\" target=\"_parent\"><img src=\"https://colab.research.google.com/assets/colab-badge.svg\" alt=\"Open In Colab\"/></a>"
      ]
    },
    {
      "cell_type": "code",
      "execution_count": null,
      "metadata": {
        "id": "uLbe_CVi703Y"
      },
      "outputs": [],
      "source": [
        "import csv\n",
        "import matplotlib.pyplot as plt #그래프 시각화를 위한 라이브러리\n",
        "\n",
        "class human:\n",
        "    def __init__(self, name, weight):\n",
        "        self.name = name\n",
        "        self.weight = weight\n",
        "        self.weight_list = {}      # key: 날짜, value : 몸무게가 되도록 설정\n",
        "\n",
        "    def eat(self, today, meal):\n",
        "        self.weight += meal * 0.01\n",
        "        self.weight_list[today] = self.weight\n",
        "\n",
        "    def gym(self, today, kaloli):\n",
        "        self.weight -= kaloli * 0.002\n",
        "        self.weight_list[today] = self.weight\n",
        "\n",
        "    def write(self):\n",
        "        for day, weight in self.weight_list.items():\n",
        "          print(f'date : {day}, weight : {weight:.2f}')"
      ]
    },
    {
      "cell_type": "code",
      "source": [
        "#  다이어트 정보 파일 읽어오기\n",
        "\n",
        "minsu =  human('Min-su', 50)\n",
        "\n",
        "f = open('weight.csv', 'r')\n",
        "\n",
        "data = csv.reader(f, delimiter=',')\n",
        "\n",
        "for row in data:\n",
        "  print(row)\n",
        "  if row[2] == 'eat':\n",
        "    minsu.eat(row[0], int(row[3]))\n",
        "  elif row[2] == 'gym':\n",
        "    minsu.gym(row[0], int(row[3]))\n",
        "\n",
        "\n",
        "minsu.write()\n",
        "f.close()"
      ],
      "metadata": {
        "colab": {
          "base_uri": "https://localhost:8080/"
        },
        "id": "uYXDsn1w8fPu",
        "outputId": "fc985e6d-2d3c-4ed6-e95d-1b93d4e052ca"
      },
      "execution_count": null,
      "outputs": [
        {
          "output_type": "stream",
          "name": "stdout",
          "text": [
            "['2022-01-01', '51', 'eat', '100']\n",
            "['2022-01-02', '50', 'eat', '200']\n",
            "['2022-01-03', '50', 'eat', '300']\n",
            "['2022-01-04', '50', 'eat', '100']\n",
            "['2022-01-05', '50', 'eat', '100']\n",
            "['2022-01-01', '51', 'gym', '200']\n",
            "['2022-01-02', '51', 'gym', '200']\n",
            "['2022-01-03', '51', 'gym', '100']\n",
            "['2022-01-04', '51', 'gym', '100']\n",
            "['2022-01-05', '52', 'gym', '100']\n",
            "date : 2022-01-01, weight : 57.60\n",
            "date : 2022-01-02, weight : 57.20\n",
            "date : 2022-01-03, weight : 57.00\n",
            "date : 2022-01-04, weight : 56.80\n",
            "date : 2022-01-05, weight : 56.60\n"
          ]
        }
      ]
    },
    {
      "cell_type": "code",
      "source": [
        "import csv\n",
        "import matplotlib.pyplot as plt\n",
        "\n",
        "class human:\n",
        "    def __init__(self, name, weight):\n",
        "        self.name = name\n",
        "        self.weight = weight\n",
        "        self.weight_list = {}\n",
        "\n",
        "    def eat(self, today, meal):\n",
        "        self.weight += meal * 0.01\n",
        "        self.weight_list[today] = self.weight\n",
        "\n",
        "    def gym(self, today, kaloli):\n",
        "        self.weight += kaloli * 0.002\n",
        "        self.weight_list[today] = self.weight\n",
        "\n",
        "    def write(self):\n",
        "        for day, weight in self.weight_list.items():\n",
        "            print(f'date = : {day}, weight = {weight:.2f}')\n",
        "\n",
        "class woman(human):\n",
        "    def __init__(self, name, weight, height):\n",
        "      super().__init__(name, weight)\n",
        "      self.height = height\n",
        "\n",
        "    def bmi_calc(self):\n",
        "      self.bmi = self.weight / (self.height * self.height)\n",
        "        \n",
        "    def showInfo(self):\n",
        "      print(f'키 : {self.height}cm, 체중 : {self.weight}kg')\n",
        "      self.bmi_calc()\n",
        "      if self.bmi < 18.5:\n",
        "        return ('저체중입니다')\n",
        "      elif self.bmi < 25:\n",
        "        return ('정상체중입니다')\n",
        "      elif self.bmi < 30:\n",
        "        return ('과체중입니다')\n",
        "      elif self.bmi < 40:\n",
        "        return ('비만입니다')\n",
        "      else:\n",
        "        return ('고도비만입니다')\n",
        "\n",
        "minsu = woman('Min-su', 50, 160)\n",
        "print(minsu.name, '는', minsu.showInfo())"
      ],
      "metadata": {
        "colab": {
          "base_uri": "https://localhost:8080/"
        },
        "id": "SEDgRXsQ8g5c",
        "outputId": "f4d64d84-606f-4f98-fbc7-b7c381233d2d"
      },
      "execution_count": null,
      "outputs": [
        {
          "output_type": "stream",
          "name": "stdout",
          "text": [
            "키 : 160cm, 체중 : 50kg\n",
            "Min-su 는 저체중입니다\n"
          ]
        }
      ]
    }
  ]
}