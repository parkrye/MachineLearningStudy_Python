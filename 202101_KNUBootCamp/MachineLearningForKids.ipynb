{
  "nbformat": 4,
  "nbformat_minor": 0,
  "metadata": {
    "colab": {
      "provenance": [],
      "collapsed_sections": [],
      "authorship_tag": "ABX9TyOqds/iCEr3X9rtzYC00DdR",
      "include_colab_link": true
    },
    "kernelspec": {
      "name": "python3",
      "display_name": "Python 3"
    },
    "language_info": {
      "name": "python"
    }
  },
  "cells": [
    {
      "cell_type": "markdown",
      "metadata": {
        "id": "view-in-github",
        "colab_type": "text"
      },
      "source": [
        "<a href=\"https://colab.research.google.com/github/parkrye/Python/blob/main/202101_KNUBootCamp/MachineLearningForKids.ipynb\" target=\"_parent\"><img src=\"https://colab.research.google.com/assets/colab-badge.svg\" alt=\"Open In Colab\"/></a>"
      ]
    },
    {
      "cell_type": "code",
      "execution_count": null,
      "metadata": {
        "colab": {
          "base_uri": "https://localhost:8080/"
        },
        "id": "Q0QWfFkDahVV",
        "outputId": "00cc82c9-c7f8-4e89-d61d-57c8cbf4e4ea"
      },
      "outputs": [
        {
          "output_type": "stream",
          "name": "stdout",
          "text": [
            "result: 'Strategy' with 11% confidence\n"
          ]
        }
      ],
      "source": [
        "import requests\n",
        "\n",
        "# This function will pass your text to the machine learning model\n",
        "# and return the top result with the highest confidence\n",
        "def classify(text):\n",
        "    key = \"434aa120-7f48-11ec-8b7e-b915fd39db3edef22a35-e95e-4dba-a00d-2de2ad7d064f\"\n",
        "    url = \"https://machinelearningforkids.co.uk/api/scratch/\"+ key + \"/classify\"\n",
        "\n",
        "    response = requests.get(url, params={ \"data\" : text })\n",
        "\n",
        "    if response.ok:\n",
        "        responseData = response.json()\n",
        "        topMatch = responseData[0]\n",
        "        return topMatch\n",
        "    else:\n",
        "        response.raise_for_status()\n",
        "\n",
        "\n",
        "# CHANGE THIS to something you want your machine learning model to classify\n",
        "demo = classify(\"The text that you want to test\")\n",
        "\n",
        "label = demo[\"class_name\"]\n",
        "confidence = demo[\"confidence\"]\n",
        "\n",
        "\n",
        "# CHANGE THIS to do something different with the result\n",
        "print (\"result: '%s' with %d%% confidence\" % (label, confidence))"
      ]
    }
  ]
}