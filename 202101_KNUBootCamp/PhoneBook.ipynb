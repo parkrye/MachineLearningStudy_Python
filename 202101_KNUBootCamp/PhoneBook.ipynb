{
  "nbformat": 4,
  "nbformat_minor": 0,
  "metadata": {
    "colab": {
      "provenance": [],
      "collapsed_sections": [],
      "include_colab_link": true
    },
    "kernelspec": {
      "name": "python3",
      "display_name": "Python 3"
    },
    "language_info": {
      "name": "python"
    }
  },
  "cells": [
    {
      "cell_type": "markdown",
      "metadata": {
        "id": "view-in-github",
        "colab_type": "text"
      },
      "source": [
        "<a href=\"https://colab.research.google.com/github/parkrye/Python/blob/main/202101_KNUBootCamp/PhoneBook.ipynb\" target=\"_parent\"><img src=\"https://colab.research.google.com/assets/colab-badge.svg\" alt=\"Open In Colab\"/></a>"
      ]
    },
    {
      "cell_type": "code",
      "execution_count": null,
      "metadata": {
        "colab": {
          "base_uri": "https://localhost:8080/"
        },
        "id": "Bx6H2pMUoLRx",
        "outputId": "117b3373-48dc-4719-9097-72e337bfb9b9"
      },
      "outputs": [
        {
          "name": "stdout",
          "output_type": "stream",
          "text": [
            "******전화번호부*******\n",
            "     1. 추가하기      \n",
            "     2. 수정하기      \n",
            "     3. 삭제하기      \n",
            "     4. 목록하기      \n",
            "     5. 종료하기      \n",
            "-----------------------\n",
            "선택 메뉴 : 1\n",
            "\n",
            "이름을 입력해주세요 : 조이\n",
            "번호를 입력해주세요 : 4408\n",
            "\n",
            "******전화번호부*******\n",
            "     1. 추가하기      \n",
            "     2. 수정하기      \n",
            "     3. 삭제하기      \n",
            "     4. 목록하기      \n",
            "     5. 종료하기      \n",
            "-----------------------\n",
            "선택 메뉴 : 2\n",
            "\n",
            "수정할 사용자 이름을 입력해주세요 : 조이\n",
            "수정할 번호를 입력해주세요 : 4409\n",
            "\n",
            "******전화번호부*******\n",
            "     1. 추가하기      \n",
            "     2. 수정하기      \n",
            "     3. 삭제하기      \n",
            "     4. 목록하기      \n",
            "     5. 종료하기      \n",
            "-----------------------\n",
            "선택 메뉴 : 4\n",
            "\n",
            "조이 : 4409\n",
            "\n",
            "******전화번호부*******\n",
            "     1. 추가하기      \n",
            "     2. 수정하기      \n",
            "     3. 삭제하기      \n",
            "     4. 목록하기      \n",
            "     5. 종료하기      \n",
            "-----------------------\n",
            "선택 메뉴 : 3\n",
            "\n",
            "삭제할 사용자 이름을 입력해주세요 : 조조\n",
            "존재하지 않는 사용자입니다\n",
            "\n",
            "******전화번호부*******\n",
            "     1. 추가하기      \n",
            "     2. 수정하기      \n",
            "     3. 삭제하기      \n",
            "     4. 목록하기      \n",
            "     5. 종료하기      \n",
            "-----------------------\n",
            "선택 메뉴 : 5\n"
          ]
        }
      ],
      "source": [
        "phoneBook = {}\n",
        "\n",
        "def printMenu():\n",
        "  print('전화번호부'.center(18, '*'))\n",
        "  print('1. 추가하기'.center(18))\n",
        "  print('2. 수정하기'.center(18))\n",
        "  print('3. 삭제하기'.center(18))\n",
        "  print('4. 목록하기'.center(18))\n",
        "  print('5. 종료하기'.center(18))\n",
        "  print('-'.center(23, '-'))\n",
        "\n",
        "def inputMenu():\n",
        "  select = input('선택 메뉴 : ')\n",
        "  return select\n",
        "\n",
        "def addBook():\n",
        "  name = input('\\n이름을 입력해주세요 : ')\n",
        "  phone = input('번호를 입력해주세요 : ')\n",
        "\n",
        "  if name in phoneBook:\n",
        "    print('이미 존재하는 사용자입니다')\n",
        "  else:\n",
        "    phoneBook[name] = phone\n",
        "        \n",
        "def editBook():\n",
        "  name = input('\\n수정할 사용자 이름을 입력해주세요 : ')\n",
        "\n",
        "  if name in phoneBook:\n",
        "    phone = input('수정할 번호를 입력해주세요 : ')\n",
        "    phoneBook[name] = phone\n",
        "  else:\n",
        "    print('존재하지 않는 사용자입니다')\n",
        "\n",
        "def delBook():\n",
        "  name = input('\\n삭제할 사용자 이름을 입력해주세요 : ')\n",
        "\n",
        "  if name in phoneBook:\n",
        "    del phoneBook[name]\n",
        "  else:\n",
        "    print('존재하지 않는 사용자입니다')\n",
        "        \n",
        "def viewBook():\n",
        "  print()\n",
        "  for i in phoneBook:\n",
        "    print(i+\" : \"+phoneBook[i])\n",
        "\n",
        "while True:\n",
        "    printMenu()\n",
        "    ans= inputMenu()\n",
        "\n",
        "    if ans == \"1\":\n",
        "      addBook()\n",
        "    elif ans == \"2\":\n",
        "      editBook()\n",
        "    elif ans == \"3\":\n",
        "      delBook()\n",
        "    elif ans == \"4\":\n",
        "      viewBook()\n",
        "    elif ans == \"5\":\n",
        "        break\n",
        "    else:\n",
        "        print(\"다시 선택하기\")\n",
        "    print()"
      ]
    }
  ]
}