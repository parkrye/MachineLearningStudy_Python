{
  "nbformat": 4,
  "nbformat_minor": 0,
  "metadata": {
    "kernelspec": {
      "display_name": "Python 3",
      "language": "python",
      "name": "python3"
    },
    "language_info": {
      "codemirror_mode": {
        "name": "ipython",
        "version": 3
      },
      "file_extension": ".py",
      "mimetype": "text/x-python",
      "name": "python",
      "nbconvert_exporter": "python",
      "pygments_lexer": "ipython3",
      "version": "3.7.3"
    },
    "colab": {
      "provenance": [],
      "collapsed_sections": [],
      "include_colab_link": true
    }
  },
  "cells": [
    {
      "cell_type": "markdown",
      "metadata": {
        "id": "view-in-github",
        "colab_type": "text"
      },
      "source": [
        "<a href=\"https://colab.research.google.com/github/parkrye/Python/blob/main/202101_KNUBootCamp/Numpy2.ipynb\" target=\"_parent\"><img src=\"https://colab.research.google.com/assets/colab-badge.svg\" alt=\"Open In Colab\"/></a>"
      ]
    },
    {
      "cell_type": "code",
      "source": [
        "#numpy import 및 속성"
      ],
      "metadata": {
        "id": "qcYgiNEsDFgS"
      },
      "execution_count": null,
      "outputs": []
    },
    {
      "cell_type": "code",
      "source": [
        "import numpy as np\n",
        "\n",
        "list1 = [1, 2, 3]\n",
        "array1 = np.array(list1)\n",
        "\n",
        "print('type:',type(array1))\n",
        "print('dtype:',array1.dtype)\n",
        "print('ndim:',array1.ndim)\n",
        "print('shape:',array1.shape)\n",
        "print('size:',array1.size)\n",
        "print('nbytes:',array1.nbytes)\n",
        "print('itemsize:',array1.itemsize)\n",
        "print(\"strides:\", array1.strides)"
      ],
      "metadata": {
        "id": "P-SCiDCcaVgn",
        "colab": {
          "base_uri": "https://localhost:8080/"
        },
        "outputId": "275bebe1-0742-4f16-c761-087bf37629b2"
      },
      "execution_count": null,
      "outputs": [
        {
          "output_type": "stream",
          "name": "stdout",
          "text": [
            "type: <class 'numpy.ndarray'>\n",
            "dtype: int64\n",
            "ndim: 1\n",
            "shape: (3,)\n",
            "size: 3\n",
            "nbytes: 24\n",
            "itemsize: 8\n",
            "strides: (8,)\n"
          ]
        }
      ]
    },
    {
      "cell_type": "code",
      "source": [],
      "metadata": {
        "id": "4pfFgYFfpuTC"
      },
      "execution_count": null,
      "outputs": []
    },
    {
      "cell_type": "markdown",
      "metadata": {
        "id": "DN3TJOI5maVD"
      },
      "source": [
        "# Numpy 배열의 생성"
      ]
    },
    {
      "cell_type": "code",
      "source": [
        "#array함수를 사용하여 생성\n",
        "arr1 = np.array([1, 2, 3, 4])\n",
        "print(arr1)\n",
        "print(arr1.shape)\n",
        "print()\n",
        "\n",
        "arr2 = np.array([[1, 2], [3, 4]])\n",
        "print(arr2)\n",
        "print(arr2.shape)\n",
        "print()\n",
        "\n",
        "arr3 = np.array([[[1, 2], [3, 4]], [[5, 6], [7, 8]]])\n",
        "print(arr3)\n",
        "print(arr3.shape)"
      ],
      "metadata": {
        "id": "phzn54u9ahb0",
        "colab": {
          "base_uri": "https://localhost:8080/"
        },
        "outputId": "d12be1e6-760d-4cb6-f6aa-28894e94137b"
      },
      "execution_count": null,
      "outputs": [
        {
          "output_type": "stream",
          "name": "stdout",
          "text": [
            "[1 2 3 4]\n",
            "(4,)\n",
            "\n",
            "[[1 2]\n",
            " [3 4]]\n",
            "(2, 2)\n",
            "\n",
            "[[[1 2]\n",
            "  [3 4]]\n",
            "\n",
            " [[5 6]\n",
            "  [7 8]]]\n",
            "(2, 2, 2)\n"
          ]
        }
      ]
    },
    {
      "cell_type": "code",
      "source": [
        "#arange 와 reshape를 사용하여 생성\n",
        "a1 = np.arange(12)\n",
        "print(a1)\n",
        "\n",
        "a2 = a1.reshape(3, 4)\n",
        "print(a2)\n",
        "\n",
        "a3 = np.array(range(12)).reshape(6, -1)\n",
        "print(a3)"
      ],
      "metadata": {
        "id": "vGOllalNt6eR",
        "colab": {
          "base_uri": "https://localhost:8080/"
        },
        "outputId": "11492a4e-ae23-4532-97c1-38941daa5079"
      },
      "execution_count": null,
      "outputs": [
        {
          "output_type": "stream",
          "name": "stdout",
          "text": [
            "[ 0  1  2  3  4  5  6  7  8  9 10 11]\n",
            "[[ 0  1  2  3]\n",
            " [ 4  5  6  7]\n",
            " [ 8  9 10 11]]\n",
            "[[ 0  1]\n",
            " [ 2  3]\n",
            " [ 4  5]\n",
            " [ 6  7]\n",
            " [ 8  9]\n",
            " [10 11]]\n"
          ]
        }
      ]
    },
    {
      "cell_type": "code",
      "source": [
        "# numoy 내장함수를 이용하여 생성\n",
        "a = np.linspace(0, 1, 9)\n",
        "print(a)\n",
        "\n",
        "a2 = np.zeros((3), dtype='int64')\n",
        "print(a2)\n",
        "\n",
        "a3 = np.ones((3), dtype='int64')\n",
        "print(a3)\n",
        "\n",
        "a4 = np.full((3), 4, dtype='int64')\n",
        "print(a4)\n",
        "\n",
        "a5 = np.identity(3)\n",
        "print(a5)\n",
        "\n",
        "a6 = np.diag([1, 2, 3])\n",
        "print(a6)\n",
        "\n",
        "a7 = np.eye(3)\n",
        "print(a7)"
      ],
      "metadata": {
        "id": "xED_2RNguCDn",
        "colab": {
          "base_uri": "https://localhost:8080/"
        },
        "outputId": "c5a920d6-b410-4725-ea6f-0b75a42db538"
      },
      "execution_count": null,
      "outputs": [
        {
          "output_type": "stream",
          "name": "stdout",
          "text": [
            "[0.    0.125 0.25  0.375 0.5   0.625 0.75  0.875 1.   ]\n",
            "[0 0 0]\n",
            "[1 1 1]\n",
            "[4 4 4]\n",
            "[[1. 0. 0.]\n",
            " [0. 1. 0.]\n",
            " [0. 0. 1.]]\n",
            "[[1 0 0]\n",
            " [0 2 0]\n",
            " [0 0 3]]\n",
            "[[1. 0. 0.]\n",
            " [0. 1. 0.]\n",
            " [0. 0. 1.]]\n"
          ]
        }
      ]
    },
    {
      "cell_type": "code",
      "source": [
        "#random 서브패키지를 사용하여 생성\n",
        "a1 = np.random.rand(5)\n",
        "print(a1)\n",
        "\n",
        "a2 = np.random.randint(1, 100, size = 5)\n",
        "print(a2)"
      ],
      "metadata": {
        "id": "dtIaVzlKuGB4",
        "colab": {
          "base_uri": "https://localhost:8080/"
        },
        "outputId": "9279e63d-34f2-492b-d756-a67aeb57addd"
      },
      "execution_count": null,
      "outputs": [
        {
          "output_type": "stream",
          "name": "stdout",
          "text": [
            "[0.4695335  0.27622601 0.84382478 0.15048763 0.03881486]\n",
            "[ 2  5 63 28 82]\n"
          ]
        }
      ]
    },
    {
      "cell_type": "markdown",
      "source": [
        "##실습I"
      ],
      "metadata": {
        "id": "X0Q6_1cHRQno"
      }
    },
    {
      "cell_type": "markdown",
      "source": [
        "### 1.0에서 9까지의 정수값을 가지는 ndarray 객체a를 넘파이를 이용하여 작성하여 다음과 같이 출력하세요\n",
        "```\n",
        "array([0, 1, 2, 3, 4, 5, 6, 7, 8, 9])\n",
        "```\n",
        "\n"
      ],
      "metadata": {
        "id": "OY713pMXSGN5"
      }
    },
    {
      "cell_type": "code",
      "source": [
        "np.arange(0, 10)"
      ],
      "metadata": {
        "id": "4FfsQf2a3CGX",
        "colab": {
          "base_uri": "https://localhost:8080/"
        },
        "outputId": "525c3920-5380-4175-a646-afceb9bdd43e"
      },
      "execution_count": null,
      "outputs": [
        {
          "output_type": "execute_result",
          "data": {
            "text/plain": [
              "array([0, 1, 2, 3, 4, 5, 6, 7, 8, 9])"
            ]
          },
          "metadata": {},
          "execution_count": 39
        }
      ]
    },
    {
      "cell_type": "markdown",
      "source": [
        "### 2.range()함수를 사용하여 0에서 9까지의 정수 값을 가지는 ndarray 객체 b를 만들고 문제 1의 결과와 같이 나타내도록 하세요.\n"
      ],
      "metadata": {
        "id": "uDGk5QrpTYa8"
      }
    },
    {
      "cell_type": "code",
      "source": [
        "np.array(range(0, 10))"
      ],
      "metadata": {
        "id": "wQvqACcU3C1A",
        "colab": {
          "base_uri": "https://localhost:8080/"
        },
        "outputId": "ac3533d0-6e66-4986-c63c-3a98c8f2ad79"
      },
      "execution_count": null,
      "outputs": [
        {
          "output_type": "execute_result",
          "data": {
            "text/plain": [
              "array([0, 1, 2, 3, 4, 5, 6, 7, 8, 9])"
            ]
          },
          "metadata": {},
          "execution_count": 47
        }
      ]
    },
    {
      "cell_type": "markdown",
      "source": [
        "### 3.문제 2의 코드를 수정하여 0에서 9까지의 정수 값 중에서 다음과 같이 짝수를 가지는 ndarray 객체 c를 출력하세요.\n",
        "```\n",
        "array([0, 2, 4, 6, 8])\n",
        "```"
      ],
      "metadata": {
        "id": "2oCtNc9_UM1O"
      }
    },
    {
      "cell_type": "code",
      "source": [
        "np.arange(0, 10, 2)"
      ],
      "metadata": {
        "id": "gmD5z0qi3Di3",
        "colab": {
          "base_uri": "https://localhost:8080/"
        },
        "outputId": "7431564c-0a02-4c90-8619-4ee40921bea2"
      },
      "execution_count": null,
      "outputs": [
        {
          "output_type": "execute_result",
          "data": {
            "text/plain": [
              "array([0, 2, 4, 6, 8])"
            ]
          },
          "metadata": {},
          "execution_count": 41
        }
      ]
    },
    {
      "cell_type": "markdown",
      "source": [
        "### 4.문제 3번 ndarray 객체 c의 shape, ndim, dtype, size. itemsize를 다음과 같이 출력하세요.\n",
        "```\n",
        "c.shape = (5,)\n",
        "c.ndim = 1\n",
        "c.dtype = int64\n",
        "c.size = 5\n",
        "c.itemsize = 8\n",
        "```"
      ],
      "metadata": {
        "id": "gZUeTNeyVBSo"
      }
    },
    {
      "cell_type": "code",
      "source": [
        "c = np.array([0, 2, 4, 6, 8])\n",
        "print('shape =', c.shape)\n",
        "print('ndim =', c.ndim)\n",
        "print('dtpe =', c.dtype)\n",
        "print('size =', c.size)\n",
        "print('itemsize =', c.itemsize)"
      ],
      "metadata": {
        "id": "oFEJ3q0s3EPW",
        "colab": {
          "base_uri": "https://localhost:8080/"
        },
        "outputId": "8e2fb70a-51d2-411c-ae29-98ac5dc15d23"
      },
      "execution_count": null,
      "outputs": [
        {
          "output_type": "stream",
          "name": "stdout",
          "text": [
            "shape = (5,)\n",
            "ndim = 1\n",
            "dtpe = int64\n",
            "size = 5\n",
            "itemsize = 8\n"
          ]
        }
      ]
    },
    {
      "cell_type": "markdown",
      "source": [
        "### 5.full() 함수를 이용하여 모든 원소의 값이 2인 3x3 배열 a1을 생성하세요.\n",
        "```\n",
        "a1 = [[2 2 2]\n",
        "      [2 2 2]\n",
        "      [2 2 2]]\n",
        "```"
      ],
      "metadata": {
        "id": "GrOqtFVXVSEi"
      }
    },
    {
      "cell_type": "code",
      "source": [
        "np.full([3, 3], 2)"
      ],
      "metadata": {
        "id": "5Fq3sG913FRX",
        "colab": {
          "base_uri": "https://localhost:8080/"
        },
        "outputId": "eca6d86f-2d0c-40db-ac81-1b2f767bd9a8"
      },
      "execution_count": null,
      "outputs": [
        {
          "output_type": "execute_result",
          "data": {
            "text/plain": [
              "array([[2, 2, 2],\n",
              "       [2, 2, 2],\n",
              "       [2, 2, 2]])"
            ]
          },
          "metadata": {},
          "execution_count": 46
        }
      ]
    },
    {
      "cell_type": "markdown",
      "source": [
        "###6.arange() 함수를 사용하여 1에서 12까지 12개의 원소를 가지는 1차원 배열 a2를 생성하세요.\n",
        "\n",
        "```\n",
        "a2 = [ 1 2 3 4 5 6 7 8 9 10 11 12]\n",
        "```"
      ],
      "metadata": {
        "id": "qY6BlFHKXjCG"
      }
    },
    {
      "cell_type": "code",
      "source": [
        "np.arange(1, 13)"
      ],
      "metadata": {
        "id": "_NgTBhUy3F-2",
        "colab": {
          "base_uri": "https://localhost:8080/"
        },
        "outputId": "59a437b4-f3a2-4d86-9c68-769ed5729d35"
      },
      "execution_count": null,
      "outputs": [
        {
          "output_type": "execute_result",
          "data": {
            "text/plain": [
              "array([ 1,  2,  3,  4,  5,  6,  7,  8,  9, 10, 11, 12])"
            ]
          },
          "metadata": {},
          "execution_count": 48
        }
      ]
    },
    {
      "cell_type": "markdown",
      "source": [
        "### 7.arange() 함수의 step 값을 이용하여 1에서 50까지 정수 중에서 3의 배수만을 가지는 배열 a3을 생성하세요.\n",
        "\n",
        "```\n",
        "a3 = [ 3 6 9 12 15 18 21 24 27 30 33 36 39 42 45 48]\n",
        "```\n"
      ],
      "metadata": {
        "id": "1yT8W9QAX3rf"
      }
    },
    {
      "cell_type": "code",
      "source": [
        "np.arange(3, 50, 3)"
      ],
      "metadata": {
        "id": "BVmZo7m33GpB",
        "colab": {
          "base_uri": "https://localhost:8080/"
        },
        "outputId": "03945e5e-2716-4a4a-c525-8e482b7cb4d1"
      },
      "execution_count": null,
      "outputs": [
        {
          "output_type": "execute_result",
          "data": {
            "text/plain": [
              "array([ 3,  6,  9, 12, 15, 18, 21, 24, 27, 30, 33, 36, 39, 42, 45, 48])"
            ]
          },
          "metadata": {},
          "execution_count": 49
        }
      ]
    },
    {
      "cell_type": "markdown",
      "source": [
        "### 8.0에서 20 사이에서 동일한 간격의 값을 가지는 원소 5개를 가진 a4 배열을 생성하세요.\n",
        "\n",
        "```\n",
        "a4 = [ 0. 5. 10. 15. 20.]\n",
        "```"
      ],
      "metadata": {
        "id": "mGknYh_wYPbE"
      }
    },
    {
      "cell_type": "code",
      "source": [
        "np.linspace(0, 20, 5)"
      ],
      "metadata": {
        "id": "UYr0y20f3HO9",
        "colab": {
          "base_uri": "https://localhost:8080/"
        },
        "outputId": "76a5dc92-c7cd-4200-c34f-bc01ec18b741"
      },
      "execution_count": null,
      "outputs": [
        {
          "output_type": "execute_result",
          "data": {
            "text/plain": [
              "array([ 0.,  5., 10., 15., 20.])"
            ]
          },
          "metadata": {},
          "execution_count": 51
        }
      ]
    },
    {
      "cell_type": "markdown",
      "source": [
        "# Numpy 배열 연산"
      ],
      "metadata": {
        "id": "hjm7hhc9SFa_"
      }
    },
    {
      "cell_type": "markdown",
      "source": [
        "## 사칙연산"
      ],
      "metadata": {
        "id": "SMmdutMgaXMK"
      }
    },
    {
      "cell_type": "code",
      "source": [
        "a = np.array([1,2,3,4])\n",
        "b = np.array([5,6,7,8])\n",
        "\n",
        "print(np.add(a, b))\n",
        "print(np.subtract(a, b))\n",
        "print(np.multiply(a, b))\n",
        "print(np.divide(a, b))\n",
        "print(pow(a, b))\n",
        "\n"
      ],
      "metadata": {
        "id": "pNzKmBXx0Y8g",
        "colab": {
          "base_uri": "https://localhost:8080/"
        },
        "outputId": "7dc00fb6-52f6-4695-e787-686aa7ddf4e0"
      },
      "execution_count": null,
      "outputs": [
        {
          "output_type": "stream",
          "name": "stdout",
          "text": [
            "[ 6  8 10 12]\n",
            "[-4 -4 -4 -4]\n",
            "[ 5 12 21 32]\n",
            "[0.2        0.33333333 0.42857143 0.5       ]\n",
            "[    1    64  2187 65536]\n"
          ]
        }
      ]
    },
    {
      "cell_type": "code",
      "source": [
        "# 배열의 곱셈\n",
        "\n",
        "a1 = np.array([[1,2],[3,4]])\n",
        "a2 = np.array([[5,6],[7,8]])\n",
        "print(a1)\n",
        "print(a2)\n",
        "print(np.multiply(a, b))\n",
        "\n"
      ],
      "metadata": {
        "id": "XTJZM9Gy1N7S",
        "colab": {
          "base_uri": "https://localhost:8080/"
        },
        "outputId": "f989cb3a-c9f2-41cb-c230-3bc6402f02c3"
      },
      "execution_count": null,
      "outputs": [
        {
          "output_type": "stream",
          "name": "stdout",
          "text": [
            "[[1 2]\n",
            " [3 4]]\n",
            "[[5 6]\n",
            " [7 8]]\n",
            "[ 5 12 21 32]\n"
          ]
        }
      ]
    },
    {
      "cell_type": "code",
      "source": [
        "#행렬의 곱셈\n",
        "\n",
        "\n"
      ],
      "metadata": {
        "id": "7zqvGnlN1vJ7"
      },
      "execution_count": null,
      "outputs": []
    },
    {
      "cell_type": "markdown",
      "source": [
        "## 브로드캐스팅"
      ],
      "metadata": {
        "id": "ESDTdJ6tv_8p"
      }
    },
    {
      "cell_type": "code",
      "source": [
        "a = np.arange(1, 10).reshape(3, 3)\n",
        "b = np.full((3, 3), 2)\n",
        "print(a)\n",
        "print(b)"
      ],
      "metadata": {
        "id": "3JPgUVcA161Q",
        "colab": {
          "base_uri": "https://localhost:8080/"
        },
        "outputId": "a8228c29-f5fc-4028-84d3-eef8d59e51ac"
      },
      "execution_count": null,
      "outputs": [
        {
          "output_type": "stream",
          "name": "stdout",
          "text": [
            "[[1 2 3]\n",
            " [4 5 6]\n",
            " [7 8 9]]\n",
            "[[2 2 2]\n",
            " [2 2 2]\n",
            " [2 2 2]]\n"
          ]
        }
      ]
    },
    {
      "cell_type": "code",
      "source": [
        "print(a+b)\n",
        "print(a-b)\n",
        "print(a*b)\n",
        "print(a/b)\n",
        "print(a@b)"
      ],
      "metadata": {
        "id": "dDpcbfVA2KZo",
        "colab": {
          "base_uri": "https://localhost:8080/"
        },
        "outputId": "78abe88a-66f9-44d3-dee4-1336bbb30f90"
      },
      "execution_count": null,
      "outputs": [
        {
          "output_type": "stream",
          "name": "stdout",
          "text": [
            "[[ 3  4  5]\n",
            " [ 6  7  8]\n",
            " [ 9 10 11]]\n",
            "[[-1  0  1]\n",
            " [ 2  3  4]\n",
            " [ 5  6  7]]\n",
            "[[ 2  4  6]\n",
            " [ 8 10 12]\n",
            " [14 16 18]]\n",
            "[[0.5 1.  1.5]\n",
            " [2.  2.5 3. ]\n",
            " [3.5 4.  4.5]]\n",
            "[[12 12 12]\n",
            " [30 30 30]\n",
            " [48 48 48]]\n"
          ]
        }
      ]
    },
    {
      "cell_type": "code",
      "source": [
        "print(np.concatenate((a, b), axis = 0))\n",
        "print(np.concatenate((a, b), axis = 1))\n",
        "#print(np.concatenate((a, b), axis = 2))\n",
        "\n",
        "print(np.hstack([a, b]))\n",
        "print(np.vstack([a, b]))\n",
        "print(np.dstack([a, b]))"
      ],
      "metadata": {
        "id": "vor3Pmcw2K3v",
        "colab": {
          "base_uri": "https://localhost:8080/"
        },
        "outputId": "2499fc91-1de2-49af-d0ed-a06f0fca55fe"
      },
      "execution_count": null,
      "outputs": [
        {
          "output_type": "stream",
          "name": "stdout",
          "text": [
            "[[1 2 3]\n",
            " [4 5 6]\n",
            " [7 8 9]\n",
            " [2 2 2]\n",
            " [2 2 2]\n",
            " [2 2 2]]\n",
            "[[1 2 3 2 2 2]\n",
            " [4 5 6 2 2 2]\n",
            " [7 8 9 2 2 2]]\n",
            "[[1 2 3 2 2 2]\n",
            " [4 5 6 2 2 2]\n",
            " [7 8 9 2 2 2]]\n",
            "[[1 2 3]\n",
            " [4 5 6]\n",
            " [7 8 9]\n",
            " [2 2 2]\n",
            " [2 2 2]\n",
            " [2 2 2]]\n",
            "[[[1 2]\n",
            "  [2 2]\n",
            "  [3 2]]\n",
            "\n",
            " [[4 2]\n",
            "  [5 2]\n",
            "  [6 2]]\n",
            "\n",
            " [[7 2]\n",
            "  [8 2]\n",
            "  [9 2]]]\n"
          ]
        }
      ]
    },
    {
      "cell_type": "code",
      "source": [
        "print(np.hsplit(a, 3))\n",
        "print(np.vsplit(a, 3))\n",
        "\n",
        "print(a.reshape(9, 1))\n",
        "print(a.flatten())\n",
        "print(a.ravel())"
      ],
      "metadata": {
        "id": "5jxjFi5x2LH_",
        "colab": {
          "base_uri": "https://localhost:8080/"
        },
        "outputId": "ac2aa895-b391-4c00-c852-cae8488114a6"
      },
      "execution_count": null,
      "outputs": [
        {
          "output_type": "stream",
          "name": "stdout",
          "text": [
            "[array([[1],\n",
            "       [4],\n",
            "       [7]]), array([[2],\n",
            "       [5],\n",
            "       [8]]), array([[3],\n",
            "       [6],\n",
            "       [9]])]\n",
            "[array([[1, 2, 3]]), array([[4, 5, 6]]), array([[7, 8, 9]])]\n",
            "[[1]\n",
            " [2]\n",
            " [3]\n",
            " [4]\n",
            " [5]\n",
            " [6]\n",
            " [7]\n",
            " [8]\n",
            " [9]]\n",
            "[1 2 3 4 5 6 7 8 9]\n",
            "[1 2 3 4 5 6 7 8 9]\n",
            "[[1 2 3]\n",
            " [4 5 6]\n",
            " [7 8 9]]\n"
          ]
        }
      ]
    },
    {
      "cell_type": "markdown",
      "source": [
        "## 실습II"
      ],
      "metadata": {
        "id": "aeKm_rRTxd3_"
      }
    },
    {
      "cell_type": "markdown",
      "source": [
        "### 1.1에서 9까지의 모든 정수 값을 크기 순서대로 가지는 3x3 크기의 행렬 a를 생성하고, 모든 성분의 값이 2인 3x3 크기의 행렬 b를 생성하여라."
      ],
      "metadata": {
        "id": "F7A50Y2KxvZq"
      }
    },
    {
      "cell_type": "code",
      "source": [
        "# a 생성\n",
        "\n"
      ],
      "metadata": {
        "id": "WdJWMJJV3gQ4"
      },
      "execution_count": null,
      "outputs": []
    },
    {
      "cell_type": "code",
      "source": [
        "# b 생성\n",
        "\n"
      ],
      "metadata": {
        "id": "O54o-1aU3h4h"
      },
      "execution_count": null,
      "outputs": []
    },
    {
      "cell_type": "markdown",
      "source": [
        "### 2.다음 행렬 연산의 결과를 예상한 후 실행하고 그 결과를 적으세요.\n",
        "\n",
        "```\n",
        "1) a+b\n",
        "2) a-b\n",
        "3) a*b\n",
        "4) a/b\n",
        "5) a@b\n",
        "6) a**2\n",
        "```"
      ],
      "metadata": {
        "id": "-aQScokM39pZ"
      }
    },
    {
      "cell_type": "code",
      "source": [],
      "metadata": {
        "id": "P9CvPMS-3fN6"
      },
      "execution_count": null,
      "outputs": []
    },
    {
      "cell_type": "markdown",
      "source": [
        "## 배열의 결합"
      ],
      "metadata": {
        "id": "wpn7gpo6zLT0"
      }
    },
    {
      "cell_type": "code",
      "source": [
        "#concatenate , stack , hstack,  vstack, dstack / axis\n",
        "\n",
        "\n"
      ],
      "metadata": {
        "id": "C3ju65508ezi"
      },
      "execution_count": null,
      "outputs": []
    },
    {
      "cell_type": "code",
      "source": [],
      "metadata": {
        "id": "rPM-zMuf8nMQ"
      },
      "execution_count": null,
      "outputs": []
    },
    {
      "cell_type": "markdown",
      "source": [
        "## 배열의 분리"
      ],
      "metadata": {
        "id": "XR3BCZWUGUke"
      }
    },
    {
      "cell_type": "code",
      "source": [
        "# hsplit : 열을 갯수대로 나눈다. (column-wise)\n",
        "# vsplit : 행을 갯수대로 나눈다. (row-wise),\n",
        "\n"
      ],
      "metadata": {
        "id": "x1mhhzGR85qG"
      },
      "execution_count": null,
      "outputs": []
    },
    {
      "cell_type": "markdown",
      "source": [
        "## 형태변환"
      ],
      "metadata": {
        "id": "JdDz4PjsHCp7"
      }
    },
    {
      "cell_type": "code",
      "source": [
        "a = np.arange(12)\n",
        "a"
      ],
      "metadata": {
        "id": "t8CZGIPj-RDb"
      },
      "execution_count": null,
      "outputs": []
    },
    {
      "cell_type": "code",
      "source": [
        "# reshape()\n",
        "\n"
      ],
      "metadata": {
        "id": "2ILi9hjS-UOO"
      },
      "execution_count": null,
      "outputs": []
    },
    {
      "cell_type": "code",
      "source": [
        "# transpose()\n",
        "\n",
        "\n"
      ],
      "metadata": {
        "id": "3wK7wSzy-aly"
      },
      "execution_count": null,
      "outputs": []
    },
    {
      "cell_type": "code",
      "source": [
        "# flatten()\n",
        "\n",
        "\n"
      ],
      "metadata": {
        "id": "l7A7-LGh-d_J"
      },
      "execution_count": null,
      "outputs": []
    },
    {
      "cell_type": "code",
      "source": [
        "# ravel() \n",
        "\n",
        "\n"
      ],
      "metadata": {
        "id": "o4QQR5fk-4DL"
      },
      "execution_count": null,
      "outputs": []
    },
    {
      "cell_type": "code",
      "source": [
        "# ravel과 flatten 의 차이\n",
        "\n"
      ],
      "metadata": {
        "id": "FaugLZ4q_YUi"
      },
      "execution_count": null,
      "outputs": []
    },
    {
      "cell_type": "markdown",
      "source": [
        "## 실습III"
      ],
      "metadata": {
        "id": "M-_r90AXIpV0"
      }
    },
    {
      "cell_type": "markdown",
      "source": [
        "###  1.arange() 함수를 사용하여 1에서 12까지의 원소를 가지는 1차원 배열 a1을 생성하여라. 그리고 이 a1 배열을 reshape() 메소드를 사용하여 2행 6열의 행렬로 재구성하세요."
      ],
      "metadata": {
        "id": "Mju29zjkIuQ2"
      }
    },
    {
      "cell_type": "code",
      "source": [
        "a1 = np.arange(1, 13).reshape(2, 6)\n",
        "print(a1)"
      ],
      "metadata": {
        "id": "3euCPtnvAjD3",
        "colab": {
          "base_uri": "https://localhost:8080/"
        },
        "outputId": "df6f37c1-a0c0-4850-af76-f4f0ca30d9f5"
      },
      "execution_count": null,
      "outputs": [
        {
          "output_type": "stream",
          "name": "stdout",
          "text": [
            "[[ 1  2  3  4  5  6]\n",
            " [ 7  8  9 10 11 12]]\n"
          ]
        }
      ]
    },
    {
      "cell_type": "markdown",
      "source": [
        "### 2.arange() 함수를 사용하여 1에서 50까지의 원소를 가지는 1차원 배열 a2을 생성하여라. 그리고 이 a2 배열을 reshape() 메소드를 사용하여 5행 10열의 행렬로 재구성하세요"
      ],
      "metadata": {
        "id": "DSPiA1dpJTe3"
      }
    },
    {
      "cell_type": "code",
      "source": [
        "a2 = np.arange(1, 51).reshape(5, 10)\n",
        "print(a2)"
      ],
      "metadata": {
        "id": "06ZtiPUpAkOO",
        "colab": {
          "base_uri": "https://localhost:8080/"
        },
        "outputId": "99400961-2276-46df-c528-d2fc6269e0f0"
      },
      "execution_count": null,
      "outputs": [
        {
          "output_type": "stream",
          "name": "stdout",
          "text": [
            "[[ 1  2  3  4  5  6  7  8  9 10]\n",
            " [11 12 13 14 15 16 17 18 19 20]\n",
            " [21 22 23 24 25 26 27 28 29 30]\n",
            " [31 32 33 34 35 36 37 38 39 40]\n",
            " [41 42 43 44 45 46 47 48 49 50]]\n"
          ]
        }
      ]
    },
    {
      "cell_type": "markdown",
      "source": [
        "### 3.문제 2에서 생성한 a2 배열을 reshape() 메소드를 사용하여 6행 5열의 행렬로 재구성한 행렬 a3을 생성하세요."
      ],
      "metadata": {
        "id": "CzsfPFySJlBR"
      }
    },
    {
      "cell_type": "code",
      "source": [
        "a3 = np.arange(1, 31).reshape(6, 5)\n",
        "print(a3)"
      ],
      "metadata": {
        "id": "pLPOEZIhAk-O",
        "colab": {
          "base_uri": "https://localhost:8080/"
        },
        "outputId": "c05a89f3-9857-446b-e99d-13b258487b0a"
      },
      "execution_count": null,
      "outputs": [
        {
          "output_type": "stream",
          "name": "stdout",
          "text": [
            "[[ 1  2  3  4  5]\n",
            " [ 6  7  8  9 10]\n",
            " [11 12 13 14 15]\n",
            " [16 17 18 19 20]\n",
            " [21 22 23 24 25]\n",
            " [26 27 28 29 30]]\n"
          ]
        }
      ]
    },
    {
      "cell_type": "markdown",
      "source": [
        "###  4.문제 3에서 생성한 a3 배열을 transpose() 함수를 사용하여 다음과 같은 전치 행렬을 생성하세요\n",
        "```\n",
        "array([[ 1,  6, 11, 16, 21, 26],\n",
        "       [ 2,  7, 12, 17, 22, 27],\n",
        "       [ 3,  8, 13, 18, 23, 28],\n",
        "       [ 4,  9, 14, 19, 24, 29],\n",
        "       [ 5, 10, 15, 20, 25, 30]])\n",
        "\n",
        "```       "
      ],
      "metadata": {
        "id": "5NdXBk_9Anu3"
      }
    },
    {
      "cell_type": "code",
      "source": [
        "print(a3.transpose())"
      ],
      "metadata": {
        "id": "ZralpgYeApSf",
        "colab": {
          "base_uri": "https://localhost:8080/"
        },
        "outputId": "98398159-d568-4360-c71e-73b4c6990985"
      },
      "execution_count": null,
      "outputs": [
        {
          "output_type": "stream",
          "name": "stdout",
          "text": [
            "[[ 1  6 11 16 21 26]\n",
            " [ 2  7 12 17 22 27]\n",
            " [ 3  8 13 18 23 28]\n",
            " [ 4  9 14 19 24 29]\n",
            " [ 5 10 15 20 25 30]]\n"
          ]
        }
      ]
    },
    {
      "cell_type": "markdown",
      "source": [
        "## 배열 비교"
      ],
      "metadata": {
        "id": "n6tAtvh0KPPY"
      }
    },
    {
      "cell_type": "code",
      "source": [
        "a1 = np.array([1,2,3,4])\n",
        "a2 = np.array([3,2,5,4])\n",
        "\n",
        "\n",
        "\n",
        "\n",
        " # 비교연산자는 각각의 값에대해 T/F값을 가지는 같은 차원의 배열이 출력\n",
        "\n",
        "\n",
        "print(np.array_equal(a1, a2))\n",
        "print(a1 == a2)\n",
        "print(a1 > a2)\n",
        "print(a1 < a2)"
      ],
      "metadata": {
        "id": "leRevnFUA-Hu",
        "colab": {
          "base_uri": "https://localhost:8080/"
        },
        "outputId": "9d0c073e-e779-4ace-d1f1-222f61a7b407"
      },
      "execution_count": null,
      "outputs": [
        {
          "output_type": "stream",
          "name": "stdout",
          "text": [
            "False\n",
            "[False  True False  True]\n",
            "[False False False False]\n",
            "[ True False  True False]\n"
          ]
        }
      ]
    },
    {
      "cell_type": "code",
      "source": [
        "\n",
        "  # 함수는 전체 넘파이을 비교하여 전체가 같은지 확인하여 T/F값을 출력\n",
        "\n"
      ],
      "metadata": {
        "id": "5EB_DYphBwZK"
      },
      "execution_count": null,
      "outputs": []
    },
    {
      "cell_type": "markdown",
      "source": [
        "## 배열 정렬"
      ],
      "metadata": {
        "id": "3DuJJxPmLLt1"
      }
    },
    {
      "cell_type": "code",
      "source": [
        "a = np.array([4,2,6,5,1,3,0])\n",
        "a"
      ],
      "metadata": {
        "id": "lzvd3DikB7Ah",
        "colab": {
          "base_uri": "https://localhost:8080/"
        },
        "outputId": "b20cd625-cf07-4ab0-cf4e-d26ce0db2809"
      },
      "execution_count": null,
      "outputs": [
        {
          "output_type": "execute_result",
          "data": {
            "text/plain": [
              "array([4, 2, 6, 5, 1, 3, 0])"
            ]
          },
          "metadata": {},
          "execution_count": 94
        }
      ]
    },
    {
      "cell_type": "code",
      "source": [
        "# view\n",
        "\n",
        "\n"
      ],
      "metadata": {
        "id": "P0Hjb5MXCFvp"
      },
      "execution_count": null,
      "outputs": []
    },
    {
      "cell_type": "code",
      "source": [
        "# 배열 자체 정렬\n",
        "a.sort()\n",
        "a"
      ],
      "metadata": {
        "id": "0MQ7fCl6CIq4",
        "colab": {
          "base_uri": "https://localhost:8080/"
        },
        "outputId": "a7752e85-90c2-4174-d79a-57e1075e5351"
      },
      "execution_count": null,
      "outputs": [
        {
          "output_type": "execute_result",
          "data": {
            "text/plain": [
              "array([0, 1, 2, 3, 4, 5, 6])"
            ]
          },
          "metadata": {},
          "execution_count": 96
        }
      ]
    },
    {
      "cell_type": "code",
      "source": [
        "# 내림차순 정렬\n",
        "print(np.sort(a)[::-1])"
      ],
      "metadata": {
        "id": "0dDvNUOoCUmY",
        "colab": {
          "base_uri": "https://localhost:8080/"
        },
        "outputId": "4ba055d0-980a-4c1c-8bb8-3f89eb167e79"
      },
      "execution_count": null,
      "outputs": [
        {
          "output_type": "stream",
          "name": "stdout",
          "text": [
            "[6 5 4 3 2 1 0]\n"
          ]
        }
      ]
    },
    {
      "cell_type": "code",
      "source": [
        "#축을 지정하여 정렬\n",
        "\n",
        "a3"
      ],
      "metadata": {
        "id": "APyQxtVeCb7h",
        "colab": {
          "base_uri": "https://localhost:8080/"
        },
        "outputId": "9f058da2-d78f-4bf9-f14a-dcd40871cf6c"
      },
      "execution_count": null,
      "outputs": [
        {
          "output_type": "execute_result",
          "data": {
            "text/plain": [
              "array([[ 1,  2,  3,  4,  5],\n",
              "       [ 6,  7,  8,  9, 10],\n",
              "       [11, 12, 13, 14, 15],\n",
              "       [16, 17, 18, 19, 20],\n",
              "       [21, 22, 23, 24, 25],\n",
              "       [26, 27, 28, 29, 30]])"
            ]
          },
          "metadata": {},
          "execution_count": 101
        }
      ]
    },
    {
      "cell_type": "markdown",
      "source": [
        "## 배열의 축"
      ],
      "metadata": {
        "id": "l7teCAZ6NlpD"
      }
    },
    {
      "cell_type": "code",
      "source": [
        "# a.sum / a.max / a.min\n",
        "a = np.arange(0, 6).reshape(3, 2)\n",
        "\n",
        "print(a.sum())\n",
        "print(a.sum(axis = 0))\n",
        "print(a.sum(axis = 1))\n",
        "print(a.min())\n",
        "print(a.min(axis = 0))\n",
        "print(a.min(axis = 1))\n",
        "print(a.max())\n",
        "print(a.max(axis = 0))\n",
        "print(a.max(axis = 1))"
      ],
      "metadata": {
        "id": "w-Nb7Hi5B8Gv",
        "colab": {
          "base_uri": "https://localhost:8080/"
        },
        "outputId": "be04f33a-259e-4133-8674-49b599d7e6f9"
      },
      "execution_count": null,
      "outputs": [
        {
          "output_type": "stream",
          "name": "stdout",
          "text": [
            "15\n",
            "[6 9]\n",
            "[1 5 9]\n",
            "0\n",
            "[0 1]\n",
            "[0 2 4]\n",
            "5\n",
            "[4 5]\n",
            "[1 3 5]\n"
          ]
        }
      ]
    },
    {
      "cell_type": "markdown",
      "source": [
        "##새로운 요소의 삽입 "
      ],
      "metadata": {
        "id": "ViYxAmdjDWcH"
      }
    },
    {
      "cell_type": "code",
      "source": [
        "#insert()\n",
        "a = np.array([1, 3, 4])\n",
        "print(np.insert(a, 1, 2))"
      ],
      "metadata": {
        "id": "MFGlH7MKDiKF",
        "colab": {
          "base_uri": "https://localhost:8080/"
        },
        "outputId": "a9b612e7-e2fc-40f2-8f05-cbdc86b74013"
      },
      "execution_count": null,
      "outputs": [
        {
          "output_type": "stream",
          "name": "stdout",
          "text": [
            "[1 2 3 4]\n"
          ]
        }
      ]
    },
    {
      "cell_type": "markdown",
      "source": [
        "## 실습IV"
      ],
      "metadata": {
        "id": "U894TWkXPA7o"
      }
    },
    {
      "cell_type": "markdown",
      "source": [
        "### 1.1에서 100까지의 랜덤 정수 15개를 np.random.randint()를 통해서 생성하여라. 이렇게 생성한 정수 값들을 (3, 5)의 shape을 가지는 행렬 a에 저장하도록 하여 출력하세요.\n",
        "```\n",
        "array([[36, 60, 56, 62, 97],\n",
        "       [84, 45, 97, 31, 11],\n",
        "       [72, 34, 69, 57, 83]])\n",
        "```"
      ],
      "metadata": {
        "id": "T0AnSMlKE5pH"
      }
    },
    {
      "cell_type": "code",
      "source": [
        "a = np.random.randint(1, 101, 15).reshape(3, 5)\n",
        "print(a)"
      ],
      "metadata": {
        "id": "Xig4Px3-E64g",
        "colab": {
          "base_uri": "https://localhost:8080/"
        },
        "outputId": "28e35523-6e50-4fc7-d364-7cb7e64898ad"
      },
      "execution_count": null,
      "outputs": [
        {
          "output_type": "stream",
          "name": "stdout",
          "text": [
            "[[40 41 71 34  2]\n",
            " [21 32 47 60 66]\n",
            " [10 45 42 84 18]]\n"
          ]
        }
      ]
    },
    {
      "cell_type": "markdown",
      "source": [
        "### 2.문제 1에서 생성한 a 행렬에 대해 열방향의 최댓값, 최솟값, 평균을 각각 다음과 같이 출력하세요.\n",
        "```\n",
        "a의 열방향 최댓값 : [84 60 97 62 97]\n",
        "a의 열방향 최솟값 : [36 34 56 31 11]\n",
        "a의 열방향 평균 : [64. 46.33333333  74. 50. 63.66666667]\n",
        "\n",
        "```"
      ],
      "metadata": {
        "id": "ONgqKmG3FgLH"
      }
    },
    {
      "cell_type": "code",
      "source": [
        "print(a.max(axis = 0))\n",
        "print(a.min(axis = 0))\n",
        "print(a.mean(axis = 0))"
      ],
      "metadata": {
        "id": "DLfZ2L_YFha1",
        "colab": {
          "base_uri": "https://localhost:8080/"
        },
        "outputId": "755171d0-7fa0-454b-cb48-30a4d3bd1f08"
      },
      "execution_count": null,
      "outputs": [
        {
          "output_type": "stream",
          "name": "stdout",
          "text": [
            "[40 45 71 84 66]\n",
            "[10 32 42 34  2]\n",
            "[23.66666667 39.33333333 53.33333333 59.33333333 28.66666667]\n"
          ]
        }
      ]
    },
    {
      "cell_type": "markdown",
      "source": [
        "### 3.문제 1에서 생성한 a 행렬에 대해 행방향의 최댓값, 최솟값, 평균을 각각 다음과 같이 출력하세요.\n",
        "\n",
        "```\n",
        "a의 행방향 최댓값 : [97 97 83]\n",
        "a의 행방향 최솟값 : [36 11 34]\n",
        "a의 행방향 평균 : [62.2 53.6 63. \n",
        "```"
      ],
      "metadata": {
        "id": "TMoMCw3zFt4e"
      }
    },
    {
      "cell_type": "code",
      "source": [
        "print(a.max(axis = 1))\n",
        "print(a.min(axis = 1))\n",
        "print(a.mean(axis = 1))"
      ],
      "metadata": {
        "id": "kQHNzbsYFux3",
        "colab": {
          "base_uri": "https://localhost:8080/"
        },
        "outputId": "9c6280bb-b480-43a0-e8de-93d90c79d071"
      },
      "execution_count": null,
      "outputs": [
        {
          "output_type": "stream",
          "name": "stdout",
          "text": [
            "[71 66 84]\n",
            "[ 2 21 10]\n",
            "[37.6 45.2 39.8]\n"
          ]
        }
      ]
    },
    {
      "cell_type": "markdown",
      "source": [
        "## 배열의 인덱싱과 슬라이싱"
      ],
      "metadata": {
        "id": "wqTeBMAiQS_G"
      }
    },
    {
      "cell_type": "markdown",
      "source": [
        "### 1차원 배열의 인덱싱과 슬라이싱"
      ],
      "metadata": {
        "id": "6mGtSBOEQhOq"
      }
    },
    {
      "cell_type": "code",
      "source": [],
      "metadata": {
        "id": "WpIBfTxFGtp2"
      },
      "execution_count": null,
      "outputs": []
    },
    {
      "cell_type": "code",
      "source": [],
      "metadata": {
        "id": "KnNp7T5tGwyu"
      },
      "execution_count": null,
      "outputs": []
    },
    {
      "cell_type": "code",
      "source": [],
      "metadata": {
        "id": "syG-rablGw83"
      },
      "execution_count": null,
      "outputs": []
    },
    {
      "cell_type": "markdown",
      "source": [
        "### 다차원 배열의 인덱싱과 슬라이싱"
      ],
      "metadata": {
        "id": "oyhmCW_yWdoB"
      }
    },
    {
      "cell_type": "code",
      "source": [
        "import numpy as np\n",
        "\n",
        "a = np.arange(0,6).reshape(3,2)\n",
        "a"
      ],
      "metadata": {
        "colab": {
          "base_uri": "https://localhost:8080/"
        },
        "id": "z-uG-FHHGu0m",
        "outputId": "ee1c0de7-bb0e-43a7-df0e-6650b251a694"
      },
      "execution_count": null,
      "outputs": [
        {
          "output_type": "execute_result",
          "data": {
            "text/plain": [
              "array([[0, 1],\n",
              "       [2, 3],\n",
              "       [4, 5]])"
            ]
          },
          "metadata": {},
          "execution_count": 2
        }
      ]
    },
    {
      "cell_type": "code",
      "source": [],
      "metadata": {
        "id": "sncOm-qaHfex"
      },
      "execution_count": null,
      "outputs": []
    },
    {
      "cell_type": "markdown",
      "source": [
        "## 실습V"
      ],
      "metadata": {
        "id": "1SajgTMJY2mG"
      }
    },
    {
      "cell_type": "markdown",
      "source": [
        "### 1. 1에서 16까지의 연속적인 값을 원소로 가지는 4x4 크기의 2차원 배열 a를 생성하여라. 이 a를 인덱싱하여 다음과 같은 b, c, d, e, f 배열을 구하세요.\n",
        "![image.png](data:image/png;base64,iVBORw0KGgoAAAANSUhEUgAABJcAAAD6CAYAAAAcLKZ/AAAgAElEQVR4nOy915McR5av+Xno1KUlSqGgqdndlNNiuq/NzJ0ds325D/vn7evuy9rane25s7Nze5pNNtlkU0AVgNJap9Yh3PchsgqgJkEAFTXwz4wsoDKRcTLCxfGfHz9HKKUUGo1Go9FoNBqNRqPRaDQazWNgnLUBGo1Go9FoNBqNRqPRaDSa84sWlzQajUaj0Wg0Go1Go9FoNI+NFpc0Go1Go9FoNBqNRqPRaDSPjRaXNBqNRqPRaDQajUaj0Wg0j40WlzQajUaj0Wg0Go1Go9FoNI+NFpc0Go1Go9FoNBqNRqPRaDSPjRaXNBqNRqPRaDQajUaj0Wg0j40WlzQajUaj0Wg0Go1Go9FoNI+NFpc0Go1Go9FoNBqNRqPRaDSPjRaXNBqNRqPRaDQajUaj0Wg0j40WlzQajUaj0Wg0Go1Go9FoNI+NFpc0Go1Go9FoNBqNRqPRaDSPjRaXNBqNRqPRaDQajUaj0Wg0j40WlzQajUaj0Wg0Go1Go9FoNI+NFpc0Go1Go9FoNBqNRqPRaDSPjRaXNBqNRqPRaDQajUaj0Wg0j431OP9IKUUURezu7LCyvMzW9jZKqVipEgIQT9TIn44EBQoQwsAwTIRJ/DspkVKilEKIZGptSkkAhDBxXAclFVEUEkUSUAiRtPvdQ0kQAmEYGMLAMOJfhZEEot4DSeY9B4lUIIQgn+/j2rWrzMzOkEqlnsrVgiCgVCpx584ddre347apVO/2JPMeKRV3d8MwEKbAkBAqhTrtTwltl8jYdtPENk2EMAjCACWj3ndK6v2WCAHCMHv9SSClIpJR/DCUSN7Qe4IClEQKKBT6uHhxjhdefBHTNJ/O5ZSiWqny8cd/oXhcJPT93nCTzGcLfG28xAApQUVR7zVI7ligEIbAsiwMwyCKIqIwSHR/AgkYCCHiMYy4mcpIomLnILHzk1LxGGYYBl7K48aNG1y+dAnH857aNQ8PDrh37x57u3v4vh/7fMJI8JgTPz/DMDCEQPX8Dyl7/Ukl03alFBD7HrZtIgyTKFKEgU/s70HyxgH50J8zBGbP35MS5DnwCZSM51YFpFIprt+4wczsLLlc7qxN02g0mnPHY4lLAGEYsrG2xh//+EfuLSwwOjqO7VhIKUnijH0yp4WhJAh8At9HGAa2bWHbNqZp0pvTE8fJhBwEAfVaDWEIPC9FKuUB4tQZSSYKv+sThCEqkhimget5WIaBSqijAXF7iSJJrVrDcR1QktGx0acmLkVRxP7+Pn/49//J8tISY6OjGKZJkp+sACIp8btdojBCKolt2ziui5HgRbwQ8YLX9zu0mi2iSJJKe7huCtM0e2NY8hAiXngEQYDf9ZFSYpomjutiWSYCkfD2IjguHpPJZnjrrTe5eu3aUxOXBFAuV/jXf/kflMtlUqkUnuvGGtdTueKTQCGlxPcDwiAApbAsG8d1MEyDJM6rEFtlGAZdv0u73SIIQjzPI5NOgzASOz+JnpoU+AFdv4tSEsMwcWwby7ERCbbdMAzCMKTdbNHutlFSMjU19VTFpb29Pd77j/9gdXUN1/NIeR7CSO49EgKklIR+gN/tIkUsfrqOg2kl39+TUUSj2SAIQmzboVDIoZRKrN0nhEGA78fzkzAMbMfGsZPdn0Tvf7VaDb/roxT09fWTyWQS7ctoNBpNEnlscSmKIg4ODlh68IDtrW2uXrtONpfF73YTN/kZIt6xFoZBvVbn+KhFqVTCNE0GBgcYGBggl8/jBwHIhBkPOI4DKIrHRW7dvInt2Fy8eJGhoSEMwySKokQuiE8W6vv7+9RqNbqdDplMhoHBATKZ7GnkRdIcDsMwervvAft7e6ysLPPiiy8S+N2nds0oiqiUKyzcXeDoYJ9r167iul68k97b9UsKJ4tJhKDTbrO3v0elXEYBfX19DA0Pk8lkCHuRC0nDskxsx2Fvd4+V5VWajQZXrlxhfGKQTMqj1e6ctYnfiG3b+H5AuVykeFyk0+mQzeXI5/P0FfoQpkApkjcWCLBMC4FgfWOd3b0dhoeHn6qdCmg1G9z84gtSqTSXr15hZHT0dKxMUn8CMM14AdPpdDg8OKRSrSAjSV9fHyOjI7g90SCKorM08xsxewvIg4NDtja2OC4XmZuZZWpqCtfz6CSwPxmGwDBMpIw4Pj6mVC7SarXIZnOkh4cZGBjAtm3CKEQl0SfwHLodn7XqCgt3FnjllVcIguCpXrNULHHv3n2Oj4+5fv06I6PDQCxyJQ0hBKZp0um0KR0XKVUqSCkZGBhgYKCfbC6Hkip5YyVg2TYoRbPRYHNjk6PjI0ZHR7ly5VIsloVR4savOPovPg5wfHREuVym1WrheR4joyP09/fjOi5BECRS3LdsB6UiysUyCwsLvPLqqzSbzcRGWmk0Gk2SeWxxSUpJs9Wi3elQKBT47e9+x9DQEM1m40na98QwTRPDMDjY3+f+/fusLK+cijRXr11jfHycVquFUAJhnATIny1KKaRSpNNpAFZWVrh16yZeKsX169f51a9/jWVZ+L5PFEWJmwgt2yIKIu7cucPigwdUa1WGhod44803GR4exjGd2HlPwL1+lDgc3SYIAtrtDhvrGzQaDcLw6Tqi3U6Her1Ovq+Pv/3d78gXCkRRRBgEiXu2phlHypTLJW7fvs36+jpKKmZmZ3j1tdcYHBw8PTqRNCzLIpPNcvOLLzjY3ycMQ67duME7775Df38/1UqF3pmTszb1S3ieR6vVYnVlhdu3blOuVJiYmODGjRtMz0xjWXHkaNIWTEopHMfBtCxK5SKfffoptWrtqbYNpRR+4FMqlXjltWneffdtrly9Rrfrx8diSFYc0ImgXa1WuXvnDksry4R+yPTMDG+88Qa5fC6OFEyYuCSVwjRN0uk0C3fuUq1UaDQbzF2c4+/+/u/J5XJUq9XEjV9CCCzbIvADlpeXWbi7QKlYZHR0lKvXrjE7O4uX8uLFcMLGMKUUuWyOeqPBn957j08//ZRGvfHU20ar3aJWq9HXV+Ctt9/i2vVrCCHodv2net3H4eT51io1lpeX4eZNVBQxd/EiN158gZHRUWQCN+WUUriOhxBwcLBPqVikXqsyMTHOP/7TPxH4fiLbpBACw7JAKZYeLHJvYYHScZFCX4HrL9xg7uJFstksnU7yhGYA1/OQUYRj23zxxee0Wk2C8OmKtU8av7x81iZoNJpzjNN/6Yl91mOLSyiFlPGZ+3yhwPzleSYmJmnU673DGQlxJnuLRNELic5ms9TqdUqlMp7jMnnhAvPz80xPTdPt+phCYAqTh77wWUziAgmgJL4McRyHSEqiSOKl0uRyWSYmJ7l85Qq2ZRFGETJp4pJSWLZDt9uhVq9RLpUwLZPRkREuX7rM2Pg4lm0jo16+mISglMIwDCzbxvd9RsfGsCyLKAqRT7EtKHWyiyrp6+/nytWrp+f9IykRCbtHlmWBEBweHlIslag3GshIMjF5gStXrzI6Okq73U7KKBDTSxJlmCbZbJZKuUyhr0C9UWdsdIyZ2VmGh4dpt1rJyw+hFI7nUa/ViCLJwf4hwjAYGxtj7uIcF+fncWw7PvYVRZAU23vjr2WaRFLGorLjEj2DaAdFLMYMDAwwPT3H/KVLyEgiEFhCYJCgHFWGARKKpWNatSb1aoMg8Jm9MMVLN14kn8+dnPM5a0s5uWlSSUIVoYTAcd2e8NBH2vMYHBxianqa4aGhxEUAxPmhDEzTJAwCgiji6KiIkoqx8TFmZqe5dPkS2Ww2Ps4tZeLsT6XTVCplVldXsS0LqZ7m7BQjo7jtFfr6mJicZP7SZRzHwe92HybgO2t6dpzk0SqVynS7Xba2tlBKMnlhkvn5ecYnJuL7pVTi/A/HdZGRxHYd+vr78VJp+gYGuHrtGkEQxCkdknK/AZRC9TbkID5mWiwWUUoxODTE9MwMV65cJl/oo9NuJ6ovnbQX23FQSrG4uIjjuqf+WOL8gO/kvNip0Wj+s/P44lIPwzRxHId0Ko1pGBQKhSdh11Mjn8+TyWTwPA/XdcmkM2QyOWzXAcekG3bpyJCIOGroWQ7XJy6OYYCJiSkMUlYaW8SPKZvNYlsWjh3f71wul/iJz3JsMtkMqXQKr+2RSmXI5fPkcrmnlm/lSeE4DqlUqpfv5OmjiJPKu65DoVA4jVhLMrlcjnQ6Q8pLIaM4yi6TyeA4Tu84Z3JJpVJ4nofjOHgpl3QqhW3b2Akew6SU5HK5U9tT6fRpfzpx7pNKFEWkUmkss1dN4VkgwPNSZLOZ0/7kq5BuGBCqiLCXGPmRt58JhmkilaRmRjRNiW9KfClpmRFVK0RaPTFOJEFcAtMAS1i4potrxP3cS6VwXRfLcfA8D89xsGybQl/fGVv77UgpyWWzpNMenueSSqfJZnNk81lSXpqnk2HvyZBOZchms3ES9WfYcl3XJZ1Ok85ksEwT7ynmefqpBEFANpfF8zykjMhkMuRzObLZbKJ9Jykl6XQa1/OwHRvXsbEtC9uy4CnlfXxSZLNZUukUjuuSSqXIZLOks1lc18V13bM27zvJZnM4tp24dOk/iAS3Z41G83zxk8Slk7pwQsTJB88DJ5Ep4pHdrZNDcDW/wU7rmGKnTqjCuBIKz2bBoR75KQBTGKRNj5ncGINuHks8dB+Nnu3nAqUwEKf3G3oJK8+B+QK+ZPuzMDm+Tny9pO+anRwpMAxxOg4IIU53uJNOpBQCgREbnrgjEt+E6lWHFEZv/OJhv0p6e1Enu+3P0MaTvvSw8yoO2iUO2mUaQYdQRjwawHSW4hJKUK9V2WjscdgtE/ohbuuIhfIKGZlHoM58nlW9/xkCsnaKkfQAY94ArmGflGM9fW+UoIiQb+OkLxknP+NfxpUXE46U0emY+6wariEEBnFyeSUlJHyD6CSK6UtzeILHyBNOjjgKwBAG6hy0R3joEwhhfOmeJzFv2TdhGL20GOegjWg0Gk1S+cmRS5CE7EQ/HKVUXGpYKU5KBwkBEZLjdpWF4jq77QNMEVGwXOLl3LOJYFLExZEDKfEjhWN6OMIgZ3tYpnd6n6VScYlXKU+FsiQT9cKLT5J3yyiKnY2Ebw9JOLN8UOdFoDkJH5dK9SrZnKfRIH6+UibraMR30uv3Uso4Ia16eO/PA0rGveqZXvOkwpJSdFXIem2HpcomraCJZQjsE3HhDPr6yRVNwwRD0Go0OWrvUO2UkEFEqemwXVsmLTIAREH0TNc9J5sdilhoj4jnJj9SZJwslwuz5Mw0rmvH7zpPfYlesYRIxZXpVSyInYxn54GTxfyztFYi42N45+AePXq86SSH5Xk57qRU7H08iyOPTxJ1etRQIWWcfFydg40biO81KmlZQDUajeZ88ZPEpWSXdf4hnIhGcZWlWtBmt3XMfnOXIVeRtuJjFKHk6e4Mxp47AgiUwo8k5U6HZmhwtTAd765/bYPwfEzWp5wzc8+a8+jenEebY86Z3Y8MvOfM8jNFIZAqYr95xGZ9A5Mug56LIwysk/LfCsSzTBnY2+OwDIFQgpAWtqpjyxaBkpiqgaNKuKoNKCLVm4yelY2965wEx0RK0Y1CKt2ASpCn4BRoR8lL6PxjiXMcnvxNgdITlubsOZ8+9sk2qUaj0WieR55I5NJ5RxDvxoUyIJJdHMNnyIHpdIRSglCpH+fIf9Ub+AH/9iSIJ5SKShjR8DschxHdqNNbUGg0mqdDsnewv5VzavZZIpWiGbYJZJO8HTLumPQ5Jo4hfvhC7tve9LjPQ4FlxgpOvRtRcyIatsJHMuhILngR+VQcbRHa8qc/98eYn0TvKFykJGUzpBUG1MIu3cgnOidRCT8K3bf+U3D+hBmNRqPRaM43Wlzi4e6QQJAyBZZjMuGaTKcclBCE3yfuPOrBCIgPEMSfqh59/XscVqEEEYq8H1LpWOx1ot7H/ydwkbSzrkkcCapqqXk2qDiXmWvAoGsxlbYZcG1sQ/SOoXzLWPulMb6X8+rk77J3BORr88APsSf+YVkmSkC1G3Hk2hQdkwDFoGtxIWNTyMQ5jcLHybn0Nbti44zeiz9EGjrJryiBnG1SCSBQJkIYP3R6SzTn2XbNt6Of61mR8JwHGo1Go3lqJE9c+q7zzk8hqfJDYSlOVukYBo5hkncs8o6NQhB8x86s+MpnnJbBFSB6lYgi9f2Vek+m4giQyiBj2zimxDRMnmYq6e/Mm/CMklj/eGKbv830pOdSeNZ88zMW5yNnZc/2rwVbJNX478zXkNx7fj7HgR+PACxh4hk2ORPytk3etrBFL+cOD4WUr4om8kSU6SV9NU0jLgkuJTJSRApOsqN89TO+C6XAts04958V4JkmjjDAMHBNk6xlk7Ps+Ni0eLxF26PzkyEe/lRSEf3AZLun90EKsqbENS1MYZ3OT09nC0R9dwqnhLbN785HlNxx4NnzHc83oc/2a3zDmJ/Y+YnvapsnBVeenS0/nPM5Dmg0Gs3zSPLEJSEQREStBu0AQmxM1yPlGV9PO/TEUadCUahUfBwOCL/HaxZCIEwDwzAwhUSFkjCMCBEI9Yijob7ZAT/ZEY5zasQJsCMlH5bmeYqRS0IIUF2Cdpt2JyLExPSyeJ6Fm9jZumdY1IntDiAyLAzHw3NtvIQXsHnWCBUh/TadboivbMy0R8qxEtj5vwEhgAghFZEUKExMM8GRfEIgCAjbLTrtAB8L00njphwcM7k76UIIVNjG73TwA0WgLAzXI512cM7auKeAOhlre+N8PA7G4tI3cbpxYIGKIqJOSMuXdKSB4znYtsAWCnGymfAj7TF6CccjFUdASeLxX6k451+kHv+zhQBhGBimgSEkRBIZSjo8jNj9PiHsUbEsVPSSyP9IQx6Lnj/QbdHq+ITKRFgeTsrDs5IbHxEPWwF+u00nCGM/xk7hpWxcPT89Qk9o82u0WiFdHGwvjesZ52N+gnhckAG+NBDCwDSSO84DCBEiu106bR9fCrBSOCkHzxaJ7U8gENIn6LRo+5IIC2yXlOfgWUm+2xqNRvP8kZD5+2FNGhW06FSOON7eZK8S0jQLpIbHGZscYSxr4T2D2e+knpHsiTvfd3gmfl0hZUjUbNKs+9Q74FsumZxLJgWuJb41R+ijkU/xwuKrrz4NFEqGRH6dZvGAo4NjDktNWtLD6p9kaGyE0YEMhZSFJRTGo/W6zwrVO8QR+UR+hfL+IQcHJSrtkC5p7NwQgyNDXBgtkHJMnJMV0fPIiTAZdmmX9ykd7LJfbFMlhzc6zcTEMOM5A9t4uLhMBL0QP4WCMCDsNuk0GjR8gS/SuNksQ3nrNAFzMuhFV8mQsFunWzviaPeIw1KTRuRgFsbpHx1ldCBHf8bCMeN/koSvoJSKnfZulfL+PsWjMqVGQAcXMzvC2OQII4M5sq6JYwAqAePAE+RkrFffI9ooBIaQiCikXW5QPqhyVOxSDl3S4wMMD2cYzptkLb5dofouO6QEI273J3Y8uq1wEhH1OLUlVK+HKxkSdHw69Rb1pqJtuDhZh8G81Ssu/12f0fupTux6msrSSeVJiQiatGrHHO/ts3/cpBHaGLlh8sNjjI0UGMzEYs2J8HW2TbNngewStKvUjo84PihSrPu0lIeVGWR4YpThwTx9KRPbjMPlkhzl8lRRqnevKpQ2Vtg5alFVOZyRC4yODzKad8lYBgZJeLYnqF5/kqgoIgw7BI067WaHsuon35ehkLFwEyV49HqrlKiwSbt6yPHBIYdHTeq+CZlB8qPjjI0MMpozsHrjfBKapVIKoXzCbp166Yjj/WOOqm3aMoWZGaB/ZJjx4T4KWQc3ucqYRqPRPFckQlyKd0Aj6Jap76+zubjI3Xtr7FZDWs4A3vBFpi5f5ZUbU0wOuqTENxRPe2p8356uQkUh3VaXTq1JcbvIzl6Ho46HMTjIxXnBzKRHyhJEXfXwI7/tal977SnM8CoCOvi1fXaWF9lc32Jzp8xRrU1HWcjUGIOT88xeusiluVHGCi4Z+1ne828xGwVhh251m8r6AncXd1jcq9PoRviRhZkaoP/CHLNXr3NleoDRvEfahqS4pc8ShYRujdbBChuLD3iwtM3mUZuGXcAZPmT6ylVevjHBeH+KnCXO/NkCD48XRB3CdoNG+ZDj3S22d4scdQqQn2ZqfppcJhc7wElBAaJDu7rH8cYa22trrG0XOay2aEY2Ij1CYXyemUsXuTg7yoWhNPmzvuGqt1xTAX51h/L6LW4v7rO+V6XcDAiFA1aegZnLzFy+zMWpISb7PdIWSZIifzKn+rP49mO28RsVstvBr5TYWjxkabnM9pFP03CxhxtMzg1zeb6PmTGXtKEwfmSEUazZfV/s0Pe95xs+VwE9UaldrVPer3KwW2e/YRFkh5i8OEA+b+OYCvE9otg3HRV8OihQbYJakeL2Glur66xuHbBfadMMDfAGyY7MMXXpMlcvTTA1lCZvkxgFIixvU9y4x9LqNkvbVcqtgG5oItw++i5c4sKleS5Nj3BhME3OToDBzxh1soHQrdOpbHG4vsQXny+xedSgbuaxBue5MD/PtWvTzI7l6bNFHNmXiFulQPqE3SbN8iHHh3sc7hxzWFGUUte5duMC12bzuFZimiOgELKL3yxS2l5jfWWVzc1D9iptGj4ob4DMyCwX5i5z4/oU4/0p8k5CFgcyJKrsUtpZZHl1gwebFUqNgG4oEF4/+ZEpJuevcHl+nKmhLHknGXdco9FonmcSMX/Ea5w23d0FNj/7gA8/vsefNyWBUJimg+GusbS4TcP6r7zx0jQXs5B+BnPID8mZYagIv1GjsnvE+oMDHtzd5d5mxIEcpP+KgZHzGBtzMS2TqPsYW9pPhQjCI5q7N/nr//snbq2WOAgMItvEpUut+AVhdoaFG2/z8jtv88sXRpnrtzDPeEEsBITdOs2tB2y896/8ZbnBvU6WlK0w/Dp+M6B98wLpxRb/8A+v8ca1USZt51Q4ea7cDtmlW1ph+6//yoefLPHxpk81NMhkLYJ7KywtblLlH/jFy1PMFwzySRFrVBfZPqKys8rqvVvc+eIOt5Zr7ISzFObf4h1ngKvTGTJ2Ugw+4ZjK1hfcfu9TPr61yV5go2yBiDp0mrfwrTvcvf42L735Nu+8PssLAwr7rLeGBRC2ae0tsf0fv+ej1ZC1lk1kQEZ0aZdKNG5fZvDq27z5N6/zq1cnmMy7z9+xHkNgqIBOpcTepw/47PNDPt0IKAeC/j6T6sIxmxs1jjuzdLwxrhcEWTOOQv2hUpD4lj8/+rsfHStkCEQUEnXq1PaLbCzusrhwyIO1JludAvYkvGlnuHLFwzVAyO8R2J4ZEUqWqR/c4vb7n/DXzzfYaCpkysYI23TbIb64zZ2VX7Dd/FvefW2OV0ZUz5k5yz4VH3DvbC2w/dEf+HSxyM2qi+laWH4dv9GiefMBhctv8Prbr/Orn89yZcAlUUEuT52TBhYRlNc5vPUnPv3Lp/z+bkhgKSxL4IcrLC9e5aj7t/judV4csskIlQxRW0XITpnmwSor9+6wcOsOd5eO2Kj10xqzkLk8kxNZ+hN1Nl+CLNMt3Wfhgw/4y+cbbFRCAtfBMHzCZpcuN7k1+QobnX/ily9PcmPEJmeftd1AFNLZecDOX/6Dz+7t8nnZQTgOll/Fb/l0zGG86SNe/+Vb/Opns9wYSz2f/p5Go9EkiESIS0JGRN0j9h98xs33P+KThSo7o79gdsJlODikvbXI+vI6fxy/gsiNMHDJI506a6tBWCbUKjS399hc2OXzW0esrO6ztKc4lIoBY4jrrwzTkQIjaR5kUKVb32dzp8ZRy0UMDTM2nmfQqHJU/yOLG/vcqhuUrHHGBrKMZPJ4qbP/DiqUBK0urWqHyMiQGp1lot8m21yhuvmA2yuHfLGk6J8cZGA0Rzbj0J/gXDdPB0nkFylv3OKzP77Px8sBG7krDE4NM5MuU7y1wMbWFu+NzCMygxSuFsjnztpm4oi6ToXW5h3Wbt/i08/vcvPeIis7DbbDkFw0x+T1Nv4PTED87FAQlmhWDtk7rLFftVBjk4xO5MnLI6oPbrK8sclCXVBSg2QHhrhUyJAEfUxJRdjs0Kq0iMxBUmMj5LIOQ9EhzWiNPy98xsaeInKyjFzoI5N1GDETscx7ZhhGBJ0m1Z19Fj5c44tln3VnkMKFPqYH22xsrFO81aFluQSFPiZe9Ehn4oqhZybWxBUlwO/g7x+xc2eL27cPuLtYZHu/xXY3QDQHmbjsE/SOPAsjTjp19r0rREVV2rUj9g4q7NYEQW6MyYvD5IIDmhv32Vz/nOVil6J5gVRhiPnBHAVTJaBdSvxGk1atQ6A8vJFJBgdy9IXbtNZv88n9L9jcD+iKFEOTAwwPDDFIknPdPGniHHrIKqWtu9z76AP+8udlFjNvc3l+kGlxROXuIjs3d/kwPUKUG2fktSFmsnGTPmtU0KB9sMLO7Q/57K8PuHlvkbWdInutYQ6PX+SVt1q0wh9Sf/FZEkLYwG8ccXBQZK8i6HgjjMwM0+/U8TfvsbFyh/X9MjvONfLZHOO5fnIJmKCUlAStFu1alyBK4QyMMTA6wEB3ndrWEourC9xe79A2cvSP9TE6lmKQhCxsNBqN5jklAWNwhFJlgvoKa6tbLOzY1Pt/zjv/7X/jrUtZxo8+Z/+Df+EP//MuH376gDvDs7w2fIHxlH22jqQhEDaEtRq1nTKHBz5Fe4iJa5AbabFRtCibgigE+TiJMp4mSoDIkxp5idf+6SrXjTTZvgz9fSk81SS66PP+Bwv8+9ohx0trbL8ySe1CmsHU2W5lKQVGKk927jUu/+Mo/dKhk+kj64Ard2lvf8z4v3xM8f+5y/7WW6wWLzI+WiBnCpKwCfdsUECVsLHO7uYan6+ZNAZe4tW/+wfeeHmM68EqO9YB//6nFT78Yom7Q9O8NOhxMeeeteEgI6J6idrWGnt7DYpikqFrWUYnVrh/mKKUUvhdyVwfFHAAACAASURBVHcUbzwjBEQ58pMv88LvLjP8lkv/cJ6+vgxesE97tY8773/Avy4ec7S+xvr6ZWovpsjaZ7y7rQDLIz39CvP/WCBnZgicLK5r4skyqjyC+7+/zwcL6xQ3V1k+vsHUeIGCDd7ZWv6MiAdtUwYEjRJHO8fcWpPU0uNc+9U1Xn9jlJc5ZqN+xPv3GtxfPubuYIW/mRlmKGvEOd/OKFhVmAaCiLDToblf4nC3TYUCuTmP1yeKDB7ZrEfg+/LLU1MSzvIoA6GypEducP3XMwz9wiKdLzA4mCalinQ2/sLax3/k95+XWVxdZX31IrVX0uS9s86kHN88b+4XzKdnGAgMWm4Oz3NJG/vU96YY+L/e549f7FHdXmFp70WuXB4i5z0v/amH6EJnmf3tNe6s+mxEV3n9f/1v/PZns1yq3+YwV+dPf17hvXuL3Bm6whuzWcazLtaZPtz42cpWnebeFodruxzKSbJzKV6f2KRR8fnvOxAFvawDSUIJFFnc/stc+uUI+dcc7GyOkeEUrghg531WPvkDf/y0zB8eLLH1wgSV+QzTee/shwPLwZ1+lTl3knxX8a6bw0u5pDiktfU5tz/8mP/+b/vUt5ZZ3b3O1svjFHopHM56GNNoNJrnlQSISyEqKOFX1tg9brArJ3Dm3uVXv/kZ7xTA2dlGLTgYYZfS4hp7V7YovTVIgH32VYwkSCzMTI7CZJr56QIzKY/G9gHuosGdrhHvtp39VvCXUQaYg6THBnh9skDK+YpzW7hFt1Jk6SikVKvQqrfwwxDOWKIRgOGkyUzMk52Y58KXXp2BOehsbfHe77cImw1q7YCmFETEDf35cDYkBGXCygbHB4dsBFNkpt7mrXff4XfzLrlqjehjDyPsUFle4WD+CsWfD9PFxeVs15YSkIaDkRkiPzXM5YkM+fQx3p6Pfc/ldvtslxffiRikb3KEF6bSvOQYZE9fGIORMpnmCvcO2pSaNRrlBt1IITnDale9I3nC9EiNzZIem2Xia28KeO2jRdZWdzhqVai0A5qRJEpGhq6nz8mxxdAnrJapFBtstvNYc9O88tYcv3kzz9h+m/awg3m7RX2nQne5RKnVT1s6WGacI+lMhn+lUEqghIlwM2TGLWYn09hWh74GZO/7VA7NL5fwTso8pUyEOUBudIAb42kM2yRzauQMjLYZCVd4sL3NynGVRqlORybFfEFqcp705DyTX/r9NFwRNB+ssrq0ymanQrXZphH2qtEmdmB70iiIuqjqMsdHB2w2+2kNvcq7v32H30yZFMpHWA/SOPjU1jfYG1/nqDpDe9LFM86+OqASBkaqn/ToNeYm5/GsQ/paHodrG7xftjGNBEZ1KhNh9pEazHJ1MMV12ybzqA472WI0WuXooMZ7d6q0Kg06QRIUMoUwbdyJi4xPXGT8S6/NwpSJ1Trk7sd7POiUqTU61AKI7GRo5BqNRvO8cvbikgpQ7RphaZ9GJ6KTHiM3NMW4GWA17rD94BM+WdzmowOLptpD1vepdbvUgX7O0NmQCulHmANDDOUHyEuD61KSPShz90Ag/TjCQhIHCiUKw0CJDJYFeQPMR2ZipSJEq0sriAhNG9PO4DgOlnHWbh0PF0K9ZMRKBsgoJAgjJFXUUYVKUxI4OQrZFFnPwusdiUuA9c8GFUGnTlg5otFo0slcZ3hgkhE7INPZpnTvff68uMdHBwb1cJ+gfkjdb1MFhjhDh0yBMCysvkkGX+7ndeUhwzZm8UPWS4AfEAZRQhaQ34CVwcbENh6WdRcAfpuw0aTRDgkNB8NN4bgudgIWSvDweSul4uSpUUQUQRS1SIcVqm1JYKZw02kKnomXlOTvT52TVN8K5QcEtQadeod2apChvgLDriJX3+fo3iKfbLa4cxBS6rYYr1epdCLqEWSMhxPss263qnc0R2SyFK5d5MUrFlKGqNI2xbsg/IgokN9bJe9MECZYaSxLYArjy2NS2CBstGh1I3xlYrgpbNfBJgmLybjNnMxRSkXIMMQPLWy7SLtaptSM8EUKz0uTS9mkLDDP3vBnS+gji9t0Gi2azhCib47JVESKVQ5W3+eTpR0+3g0pHR9TqO1Ta7eph5CzOMMNxV4UY2aYwpW3uDH7cy4JG7P4KaUFg/1WQCTjqo7J608GmC6G6ZE1Hs5OSinAR7RbNNshXWkivHh+spJwBpG4Yl3cn0CpEBVFBCEYTol6qcxxLcDHw0mlyaUsMmY8ryZhbj2vJHE//HEwTYFhG4gvDbC9CS+SqEgRhv85vutzixDYroF4NO3MSaVspVCRRAYQJe60w39+zl5ciiSi2yas1+j4BtLrI5XNkPEPOFq+zfLCKtttA+vaRQpLbcxGkVbHpwHkOcNJpFcnWrguXtYmY1sYYRurYWEbCpW4vDBfoee0C/XVXZ4u9fVDDnbbNBknMzlG30CBlJ20g2UBqnFArXzEbrFF5XCF0vY9bq12CS7+nOnZKS4Ophm243ir52YnSynodggbddqtgCg1gJfPkFJlqht3uPvRXXYjF/PqJfKLXex2lbbfpQEMctZOmYGwXOyci40BQYRs2bhCIGScvyZxQu0Jwjx1gh9taNKPqO9X2N9q0ZDDuGNjDI4Pkk2CWPsoSkLzgEa5wmGxzOHRHp29T7m1peiOXuPC5StcGs4yYhvPzxHTE8E9DAlqHdrtkNBL4+ZcUnTprB+w8N4Wx5YH4ybpIwOv1aTlR7QlhJz9BGtYNkbBxXMd3KiDH1o0TYFKTPLub+NkflJfLqHqBzSOquxuVil3PVIT4wxNDpG1k1E6/RQZQLtMq3zEbrFJ5Xid8tZtbq52qffPM3TpOpfH+xmzzzoe+FmjIAqJKlU6bR/fzmIVBhhK+dTv3mHlL/fY6RhE01Pk2hK3Xabd7tJSipCzFJd6mA52ysFKKdIEGIFN2zVQYSJlpR7iYaTqo/OTABF2aR2X2NuocFQSpKen6B8dJJs68zv9FUJUu0yrfMheqUn1eJWDjQcsLpYo5i4ydOUG85ODTLjPW396Qij1aDOJSxOoBEbh/RCUQiGIIkUYRSgRb5492juF6m0FnPSLn3jJr849T3JuffSzv2rnk9ocOn3up7uNvSXukx7SxCPf4Tts/5o9vfdzapOKn6kS+G2FMtQjBVQEQggMoRCyV2FXffXDNE+bs/Z9QUlkGOC3fILQxDAtbKNN9/CQjbs7LG8pZP8FXro6zL3DJaxuEz8M6ZIcxVkhUVIipURGZ5jE9Ycivm3SaENrnQf39ljaUnRSo0xcm2Z8IkfaS8piWMVOnPQJq9uUl7/g1v0D7t99wO7WHodcQF5/g9n5WS72pRlISITIM0MBQUDQ9fEDwPawRYOwXGRjY4Pb9wOMiRlenM1y/3AJx2/i+z5tzr4/CSG+PAEYYKCIkhhd8Sjf6qAEBK1tNld2eLAmabkjjM5PMXOxH9dKWKtUElndorh6n7v3N7h5f5ODxftsGNfJ3LjOxNWrXOrP0m8Zz0fk0kngEqAiSeBHBL5CmRa2CKBeZve4xGd3IrxfDDDnBngLHcygix9IgkggEQjOONpOKZAKFSmiKEJJ+TVHO3F84/ykgJBOc5fdzW3uL3WoMMXYlRnm5kfIJG1FKbuE9R0qa7dZeLDNwp0HbK9ssi2ncK5e5sbla1wd7WdAiAQ4Yc8QJXpJmrv4fu8YtCFxGius3lrnzgMfOXyBS0Mu1LZxZZuuHxLIM0tf9iVEL5RGIE5XdiKSie9P8A0LU7pEnX321re4v9JkpzXIhXfmmJ4bIJc5+9qLX0L6yMY+jc1b3H+wycKtBdbWDzjy+/CnfsWlqy9wZXKICR5G3iTG9oRzOhtIhVQqnrcMgRDxbp6Ac3UzBRIVRjRrAUfHXar1kK4SRFLGfcFxsDMu/f02430mKVucbrI/1vWMOP2JYfSuLSGK4lMrPxXDNDGNb9JFYmtVJAl/ShEOIRCGgWnE9p8+Z9mL+lE/IernxKiTz+xdxxRxZMa33SdhgtG7p0KIL9mEUkgJSklkGNFthRzttilXAloIAgnKEFiWheE59BVshvosCp7AtvhOQUvzZDl7v0YpCCOiSBJiIUOfsLRBaXmdB4eKXecK/VMpfjbTpfR7hQp8/FAScMaN5FThlagAoijujErK04ntHI3HQAj1TWqLf+STe2UetMZIXbzC6zfGuDjkkE6c8y7jnayjTXbX11l8sMrufhN/+AIjfcPkCznybgLycj1zFEpGRGFEJAWokKi0TnXlkMp+g0XzBa5c6ufF/hrVfxMoGdINIsKzNvubOot6uDNzrqJaTwaAziqltb9y5942d2pD2C9e5oXrE9wYNxJRKe7LSGSnTOt4k72NJZYWd9hZ2qdx4Qaz2QHy/QUKKRvvfA1qTwQpFTJURDJ2xGW1QmOjRbXc5D4T/Houz2C2grUXsF8MCUJJqB6WTj/zYwZSEgYRRBFhIInUiVXnB6VA+FtUVj/n/v11bh7lCC5c5/UXJnlpVuAZvaiMpCBDVKdGu7TBweYqSw9W2Vg/pjEyxVS6j9xAH31pF9dIktHPABGHzIVhiJQmSoJsFWkvfsrdrSZL4ioXZ3PMZZsEn+9RjkLCMCSICxmebZ66R1G9nAeh/FLBlvPTqyJU64j6xqcs3lvmi/0UpdzL/Oq1KW5cSFFIQH2PLyEjVLdGp7zN4eYKiw9WWNlq0slk6L/cR7avn/6M93xsfDxpRCxSqE5AN1C0sTAcA8c2SJ/9CvFHIYTAFCHdZoO9lTIfvFfm9mKbigEdXyEtC6svR25+lNdfLvD3LxqMWwLLBPkTRBphxP8hDZ6Yt3oi9nzPgPeT/AsVV1gVJg/LcZ5EsRkgnoSifzJon+wdG6J3i77N6l7UsvGITfRCzSKBQGEYChV1aR5W+fz/O+DTWzW2AmiECmmamGkPe2SYF14Y4Lc/z3B90sSzes/4XC0mzi+JGDqEiNOeGoYkqB9RXKmyKtfY9d6EqzeYng54lY/4dzOiLARRokKDHnoVgu8IzU+SyY/SO3agWsfUVr5g4d//jc/2+6iMv8obL7/E2/NZZjICK3FekwA7hZMboG8wYHIO3GyVpu1hVreplKYotjxyrocnnqOoSAEKgUIglCRsFSkubbPeOaSRvYT/0i+Zu9LkSuND/mQqKuJhOGkib895c9oVKCIEHRoPPmXpgw/5fK3L4eAv+NmNl3nj8iDX0mdt5DcjbA8nM0BhcJLxaYuUZXNkGaRah7SOixSbGXJeiszz5MGr3nFMYidMBT6V9TpbQR2ZL9B+7UXmpuuErRqHRsRuvHd5emw6KcQbgAZCnHiqCTLuhxA2aS5/xvLHH3FrucZ2+jUuvfwmb10e4IbXc7ATNUiYCNPDTg+SG+gwMSsx3RwlwyHdLdEuH3LUKDCaSeE9T/3pdEAXCCNCBTWa+2usvvcnNtQvCa6/yfTlFjOtL1iyIsqRRIrT9U6y5gHB14w6N72qU6W1fZ+1D//E53eP2LBeovDqr/nV1QJX+kQCqxcaCNPDyvSRHRhnfKaLcqvUyGGEZdrlA45reS4UMri9h/Bc+Hs/ld7xoTAIaC8fsLYfco8c9lCWuQmX6yMmrhkL91HPSUxEOq5vwwAhJTIIqBfbbK602NwNSV8vUHAFadcilfdID5gMpAWOQS83yA/4Uicism1gOiamIaHRorHbYnu3y9qRJBjI0D+WZW7AYDAtsE1+RHXjWCYSSIwooFHscLDXZnOnS6UR0YoUoYyLCgjHwcunmJ1LM3PBpc8zsJX6YRFYohdtpUKiZof6YYPVlTrL2z67dQjSHn3jWSZmc1ya9LiQE2Qthf8jdqBPgsSsjI1pSmi1ae82WNvusl6UhIU0fWMpxkc8BlOCtAVGGBG0u9QPWxxu11nd89kth1S7oBwLry/D6IUcly6nmRkxyTsWnmfTN+QxMq0QEbTrbdr1LpWWZGunTao/4NWmIlACzHhvQ/NsOHtxSZgo08GyBR67NI+OWF0bwG0WuPhf5njpZ5PcGDgmuhkQhSCEgWUaCa3+pb7+p97B1eQ6HQLkDu3dD7n55w/4P/49oHXlZX72uzd55xdzjGcdkpYeBgSYHtboy0xk5/i7GwG/ae/ROHzArY9u8oc//N98NuwhMx6BM8aVrEhIwtdngYgTY1sCRxTxi7e5teHiVwpc/fUMv/7lFC9NbNP5JOhNAHF/OslLlVRObEuUrvxNiAgRleHwz3zy3p/5/Z8b7ORe5dXfvc27b80zOxQrS4kT8wwbY/RlJrNXyN9o8UazhGrc5/1//ojPlv7EHTtE9f09v3xxgqt9JqmztvcZYpgC0xJYtIhqu9zfNGiXHK6+2c/v/q6f6bEO24u9MuSAZZqYZsKeL/BIL/qG3yfP2lNUDVn6iC8+eI//8VGVdeMy8796l9/+9iqzQ97ZR4Z9A8pKYw5dZfRnE/zmasi7nWPaxXv89Q9/5fN7H7H0YZcok8HIXuRaVpBO3Bz7lFAChIlp2ziiRFRvsHkwwv9ZTHHh72d48+0pXpjcI7wDUagAA8swscTDjfxEkTAR+YdRoXP8Oauf/4F/fu+Ie90Zpv7mHX7zv7zCdNbE/WqesyRguhgD8wy9NMov5wLe/q9HVHcXWbp5hz9/9AmrH4aYaQdZuMErWUgZCWwrCcQwe5uRYUhnp8TOgy5/RZC+6OH1eVxzTCwXjEgiQgXyyeX5eeKcBrkoZCjxO4paXRKaDqPXBpketRnzTPKuhVVIMTwYH4kzFI/k6/kOjPizCUK6zQ6deofqfo2NpRqLKy2WjqE9M8b0Sy6ZlENfxiBlKvwfIWgIQ2AqhSF9Gsd1Vu6W+eRmm4NGSOAYsQZmWFipFJlhEDmboTGHvBELJ98rLikQpsAwJGG9S2WzzPpCkU8XGizsBOw1QHouqbE2k4chtZf6YN5jblD0IrN+2Pcwekff/FqLTr1LZa/K7lqNu/da3N9TGHMDzL5iEOVdMimDtCkQMiRsdqluVdi8W+bmZpfVYkSlC8IyMdN1hi50OOgOUbuS5vKgxUAuzYVrA5hDEU1DEB4UKW1WWdvx2a5G1JsRrUD1dEEDdb7OQJxrzl5cMgyEbWO7FrYsE3agLgdpj77KxMXLXL+QY5IdNrstuspBmSlcw0iOWCDh5MCqaRnxwkIYGD2J1LQMLMvENgWh6Kn/SUK0aKzd5P6Hn/DJ3RI7/a/z0i/e5q1X53hx3CUrwEjI2uNhsjZAWJiZPjJenlS/AjGJmMpjHG6x+M9/4t7mFks7LzM1AbMZcBJg/zNBCITlYDk2jtEiau1QVZdoDF2nf/ZFXpsqcMFe5oHfoSsdpJHCsUxcEvGIv4yIxS/TFHFFJcPENEzs5Fn6kKhJ53CR1T9+wF/vV9nLXGP8F3/DO6/P8eJ4moHe8dKkfQMhDIQ3QNpVeH0wLC9g2gOUvrjD7r3bLGyv8WC3yfxMxHTOJPXcRFsIDNPAdk1sI0Q1KzTkAI3CMNmZSV6bcRkxJbtRhC8FkeHgGMRVA0+izM/2CwDxTqVpmyjLxBIGxknSSzOet0xTYMqod/QvCZxMOl3Cw/usfPABH98sseNeov/627z5i2v8bMJjoOfBJK4/mRYi1UfKy2PnBaY1QVDN01lZYf/uGrf3VlnaLnG1NsfFNM+PuNTbNXc8D0e0Ue0KzU6Ko8HXeG3+Oi/N5Rlzt9iNWnSUSSg8HNM8ra6ZEFeEUyssA8MyMI1e7hLTwjSNR9+RMEKCo0XWP/8rH/91k1U1Tfbld/nZGy/wzpxFjuTpSgAYFoZXwHNzjOQFlnWB7kAWu1li7683+Wh3leXtIuMVuJaOxSXN9xPH48ZVQ2WrS7PW5liF5FuSdiSQpkCaPf9ASQQKFSUj/9k3cqqLxjJCpCycrMf4fIGrF1PMpA36BSjLxHZMPFP88EIxhgEyQjY61DfKrK9UubnRYWW9yeGRTysyqLp9BJOSN30VZ1t8rHYoIfRpVlvs7bbZ2AvouBZ9gzbZtIEpLEzbIZU3yXompnh4JPz7BTIDgwgRdGkdVVm5X+GzL5o8aJr4fTYTEwZ2K6TRaHJ8X3EbcNP9uPkMI0Li9TJ0fZ9EY5qADDlaLrL+oMryZpPVoy6rG12OjxVpK4U7E3DBh64SCCEBRRTEomAoTdy+LCN5GBIKNwhpFNvUt0I+w6LTFRg3UvTPeIxetChMQmQaqJ2QI6sD7ZBPWr2Uk4nxaZ4vEiEu4brYmSw2EZaS2H15+l5/janLE0xkKrhHx7SqZRoii5Uq4NkOaRJy9h512rPj5GcKqSRK9co8K1Cyl4TsaxnOzpoWUf0eK599xkcfbrBQGqD/5+/y0mtXuDaWpd/oJVDDiM/m/v/svdmTXMeV5vlz97vFHpH7BmQm9oUgQRIipaLUpZ6qqbE265qntv6n+h+Yl3mceRibsbGeNpux7i5JVSWJkiiREndiz0QiI/cl1ht3c5+HeyMzQYIkABKIgBifSUhGZmReD1+OH//8nO98rRD488ax5TQYdKLRWiCVSg9HCsCGfIm8Z1MQHQLfp9mN6YbpuAxNlz93ZOspn8dxJFbUxRmvUH3lKgtXTjNXFrC3S69xQFsUkF6ZnOWSZxi6qH/t0hfxS8VfdVb9A20wRpOo/ruPvYLhcIg7hId3Wf/sT/zzP9/mZmuO/LUfce3ta1yZLzHppoKPWvcJ0kFWY+mvKUOiNYkGqSyUhFRrPA9UKHqSnO6R9No0OjGdMAvz/msnl/oelABhWdh5F9tRyKiHVXIpXZ5j9soMi0WBt9ci6PZoa0Xs5ck7Ck+a4dif+lGzRmf7kM5KIhg0mYBrYkisbD8dEltpjECYAPy7rH/xPr/7zU0+3ativXKdy29f59XlMaacdIC0OUE8DMwQ9HOLDUmsSYxASonKiBHwsPJlCq5FQQTooEuzE9AOIP6heb7SQpVKWLbETnwsBwpvvs3i5TMsFrt4rV2C5gHtxCHKV/Fch5wQKIZhaqYVilLbne5Jui+SfySI3H/rkOVnmRCCB9Q/+4D337vJB6sKLlznyk/e5PrFaaaysIej6ODvqZLWs7c37Vetsz5XEilVtj9JHK9IwXMoigDCDu1OQKuX+XtDYseGH9mVreDogtwxQBLjN30ON0N6KiWEha3IOalepOLZDuxCphEw6pvGpp+K/qzEQH/Zke4HtuNQGPOoTeSYLAiqmejOU0XBiyzKyxh0t0dro8XG3UNubkjWDw1JAmUroZEYuj1D9Cz6TSIl+tAa4oigl9AOJFGuyORigWuv55kbt/CMQCQC6blMTllULIHSOl0j3wYpETqCTotGfZ/bdzt8WBfopXEuv17ktWWJs37A/b80+XSlwfYdwaezeQqzRcpFyGd+3zcXQxdImYCJOKy3Wbnd5PZGSB1FS0uII0SUkESGWAsSnf49KQDLwqkUGD/jcq3oYVUcSi4UOk22Ptrgz592+OWtBp8Ji/GqxZUzRSpVm7wGYUsIHEzZopKTOFZmo4fF/v7AMHhySUiEW0BVJsl5RcqOT61SZOLCIhMzNq5u4G/U2X6wTdO5wERtlkrepcSQkEvCYJKIOIoI/QAaPZrdmCAyxDrAb3VpNj0Oyy46MjhKDEnOsiZpb7D7l1/xwXuf8d6KoT21yI+uLbM4JnGCNt1QEwuF5TrYSqHUYEuTCkLi0KfT9Gm0wS6UKFeL5GyNFAd0tx+wubHLXmgjHIecK3GtIZknLwpCgFfAqoyTK9YoiF2q1SLjZ2cZP5XDYZ+kvsb2g20a1llq1SmKufzRehqoT2b6hFFEbBx0NyBsNml1AvxAEAUdgm6Tw16PUqGAHJr1lPaaaayx+8Uf+PB3H/C7Wwb/zCKvnjvN+VkPL+7SaxqMUBjLxvOso3n54pufVbQUESZK19PeocarVCiWPXKOQOkmdFfZ2z1kvwdJziPnKTxLDGGa7PNAdkIxgGWjigW8Up4iAeWKQ22pRu1UmarYx18/YG+rS1Pn0NUK5Zwirwwq060cHHfQ/wyGOAgI/S7+oU+jHeMHCUkYE3Z6NBtdrLyNJ9KoQDkMxKGJ0J06Bzf/wEd/eJ/f3uyxO3GKV5dPc/5UkaoM6DVDYmEhLBvXs1CIAZ8pE0i6NPY7tLsC6eUoVgoUXAtbtgnbD9nb3WOvmxA6Tkqa2EOuYfI8oCxUbQqvWKNkNag4FrVLF5hesCiZNmF9nd21LQ5MGV2eoVTIUbDMcBTnMOlpV+uEKAiIGh0aTZ92LyIJu/jNA5qtCVq1CioWuEqk6XyDHmOToLu7tO7+gY9//z7vfd5kTV7g8pklLixWmHBiopZPR1tYro1jpan1A222SNBJl9aBT7trwM1TKBco5hS28Ok2Ntjf3ma7nRBKl4KXFp75QWxPzwNCYimBoyPCwzb1mx0+eBDTCgSmmKdyusTiQo65imLMMViZDtOT7m9CCoSVPiMdpEwMtb9Pif73DCLRWQre01ffPvl2mQlTKyWwLIltC2ydVirT+imktw3oTPxaKxunWmTqnOKNRYuze13CzSb+ZodDoYn1UWGzp9uM+jyINpgoIY4MEanvMbVY5eLVEudnLHKJIfY1GoHyFI51nA73bY8TSiLihOTAp7ndY7tl2FV5lmbLXLhU5fWLElk1FA8Dor2Ajzo9tjcD7mzHXHUNVTvzt79Rfym9EBZGYI8Vmb5gYZ+OuWgbNm42WQlbdDCIONN7zYh5YSR2waVySuHNGnTBxSs65G2D1xHMRIf4zR7vbgZ09kIOGzEdIylbGlsJpJ3ejNoq1QhOCdOn6P8RvlcMnlzCQtgV7PElamNzTHp1WiYkiRLiGMLWPvu37nPzky3a5X/L0sIi48XckERagCIhikI6DZ/tjRa91SYPtwMOW9DTTfbqO6zeB4sKOTfHVBFy6kiKaUBIgAPaDz/m1//XP/HbzzUP89eYOb3IKb1BuLrNLS0weLilKhNzE4xXCwMW8tUY08Zv4a8gMAAAIABJREFUP+TBzToffdYjv7DImWvLzJU0TuNT6h/+C+//6VP+sFuiWhxndirPVEVgyx/SRZYEp4yqnqIyscyM1yLRCTo0xBHYyR6bn93m5qdbtArvMD9ziolikRJDEjpqIkzYpNPosrvxkIP7a9yrt9hvCrrBFgcb97h3WxH05inlq8wUJZ41DGN7yPa9v/DBf/81//ruA+7nb7A8N8u01YTVv3BHS4xxsUsValMTzEyV8NSgypALIEHQJerVeXhnjffeb1K7cJ5T5+aZrQq87gqHn/1X/vDn2/xl28LMjvPqlMd0RfyABIhTj03YNna1QnF8jKlch57REIZEUUAUdnjw8Q4P7vo0xBju/BhjBZuiMqmWw0Dbn41zHNJr99jfbLL34ICtTZ+DdkTYadHa2mPlpqE5VaNWyTFesClbZsDp2xpjWjTXP+GDX/wL//rrFe7EF5k5tciU08Wuf8rqtiSMFE6+Qm1qkumZKgU16IC6AOKHrHy6wp3VCDk+w+lLS8xP5ij7d9j+5Bf88YPP+WDD0D03xvJMmdmawB0CL+yFQjmYsWWKE4tMFQ+Y6MQkfi+VDfDb7N+8x91PNzkQi5TnlpgqFykJMSTnBI2JO/Ra+2xv7rG/skJ97YCNRo8k2Oawfof7t8HiNMXCGPNlh8IwsGKmiX9wiw//6Zf8y2/ucTM8jffKOaZzEd7m56zvwb1IoZwy47OTTEyUKFtywPtqQBLXWb25yp37AUlxkvmLSyzOlyj3brH18W/58/t/5o8PQvaXxjk1UWFxnFSAeqDtfjkhpEQkGt3yaXQ0Dw4NxorotBJ8x8PejNhuVHjlbB5rxqKSEePfXqo+JQ+SICEKEvyepptV7RIn3pM2QqCRWLbCywtyuVRSRH2X/agfBWUMWovj10/7d3RKhkjPpXCqxuJ0hVlP0asfsv9pyN1Gh0/7F0rP2F7TJ9ziBB0lRHFCqA1hqAl7ml4Ilq1wCgrXk6lNTMy3RBKdgASTJMTtkG4zohsrkmKR2liO6ZrHREHAZIHetMtiTbC6E7N+GLG1ExPOKp40EEhrgTCK0nyN5QnNeRWhCLitI6LbHdbkCXueBWwJBJbnUHJsSkKgbIlUEmES0sBFmWpfOgppCyyZFi3qZwcZ1Y+8ND+g897wYgjcGgshazjl85y/fIk3VrdoffFr3v1fOtT/b5vxaBu/vsnK/jTz/9NF3nhjjumKMxwTR1pYuktwuM3GZ3V+9+4WD1a2qW932GzBQdTjo942+zsznH71DOdeOcU7izZFD9AQDcyBjyHYoLN3m5urW6w86LHlGLrhHr9Yd8mrkCBw0O40U8tXePvv3+L6ZRfXVgO8PUw1Qoi69HZusvben7j/T4aoVCRnA8EBfqPBrl/GfutvuXHjKm+drrCUT/WWhqpM9XNHGbu8zMLZK/z48hf868q7fPS/bbHxy3F+4e6z+8VtHjQnmPr7C7z6+hyzE6k888DXlNBgupjOXeoff8IffvcxH358k+29DR4cSg6jQ3rN+/yf7XPM3fgfufzam/zsjM38oK2YMUCd5v4KKw/Xubmyzq7nYpI9kjWPj52YMLKJ5CSTS5d57Z0f8dOxPDNKDijV40R6btIj3L9D/U/v8sd3bQLXRdkGW7fx97d42BxDXXqNV3/yNj9ZrrGYl0NYSeg5IfMQtXSQ5Ummlxq8cWWb3t2H3PnPHXbeK/Nh2Wf1j5vsW2PkXp3ilbcmmCpbOEYgntjjew5I8y5RJibx99m9vc57v9/is8+22dtvUG/AXi8k9Pf5L0GNsVcvc+mVed5ctqnlU3HywSHCJFt0DlZYfVDn9mqdzTihp3qYBy6f5TVoiZ/UqC5c5vrf/Ih3amUWcjK9qR5Us4UBGZMc3qb+54+5s+XTdQu4eYmKGnT399hq5zFnr3H1xz/hpxenOZMTDFvV9+cLAcJDeBeYX36FNy6vcNj4gvf/9//E//r7Cv+VTQ5u36feKuDeuMhrP1pifiKHOzThXSG6u8bBvff57a8+4+OPvqC+9ZDddkj38D0+/fXndHcvsPD6zzjz+jv8w0Wb5YELPoYQ79E7WGH14UPurm6w5nfxkoTfbee5mzcILQiokBu/yJv/9se89eYZPM8esK2XGJ2QHNxj88OP+GK9SdvO4xUcVLRPp9HgsOPSPf0zrvzkHX5yZY7LJYZTP3JoIej3llCgezH+RoeWa7CmXYKyQ5UO4V6Hhx8lNBsabSBfKGKPKwoChP7mgkVCpYLh4UGbvbUmK/WA201BFKfblMhC5oUBLSEUHpWJHEtLBZZPSyZKEkuYpyshn32so5TwhPT/2d94JvJHp39Yujb5nEPJFji2phd3sFckDzNdON0/bzztM/qK2QZMYiCO0WFA51CwdlfzsRuwO+NRrriMjXksLDhUbImHOco6+LZHCpmOVxKmkVGJkCjPwnMlXj+aTClsz8LzBLbWxJ2YbqNfqU48yVMwRmKwKdUUNQc8N4aOYb8k8WyB6ldnOBJhz+agRapZrDW6F9ILEjrtgIOtFhufd7m7CaaSpzqXZ2LCpiwMKulLtwCJOYqm+0Ed+YYQgz6WAWCEi5WbZ+7Sda7v79II/sz+3Q+4t5pwV7pYuRlKZ1/nx2+f443zRcbyw7N1CAzoGB1EBH5IO/EQZYfpqmQ8Niil0b2IdjsizITwUm2IATZaAwlIp0T17KucpUE1UQgvIvYjOibAj1yIy3R7EUGcarIMttclCBvLLlIsFZioCNZ2dtg82CLSCTE2KjdF5exrvHrj5/z0tbNcnswzpo4jcH8YEICDdGeYXH6VG+/cpcknNO98xsN12HEdIiapnHmTt350njfOV5goD8edcAqD0DFJ1MHv9egkeaguM1uVTCcCJQ1Rt0u7ExBE5qnCsp8rkgSVG6O8eJHFqyUKiYtwE0TQotWLCWMHbeXxewFRlAyBIKYAbKRVoFAsMDMm2VzZYW/Hx48NWjkIa4LKxR9x4Y0f8+Mbl7g6XWTcHpYIghcFQ2IU0i1Rm5/h2o+2aehNmnd22PrLDn8sKhp+mcnL81x6bYobl3NUPZk63AOdmCcMntYkYUTQDfEji8SrMV6UVJO0qkvYCel2E4JQk5hhMJVpMqFwSxQXLnD6ch7VFah8jIoi2g2NNpIQF8ePCLL1NPA6MEaBKlKplBgvSx7UD6jXN/FNKlAq3TFKy69x7vWf8NaNy7y2UGHCGnS01SCgQE0yefoK195eo+13WPvwU9bfC1kXkoAJKqdf48aNK7z9ygRTJfnNGi0vGiZGRz16nS6d2CXOLVCu2Lw+o5A6gsCn0+kRRJA8kVLw84cxIK0c+fmLLF7JIxoGUdQ4SZtOU5NoSawcklxAEMfEQ1GW1UbJIqVKiYmKJLfWoL6xxaY2JEYgvHFKs1e4cv0n/M1br/LG4hjTgySXX3IIaUg0RKFClnNMLFS5/IrDomiw9nGT33/gs/ugwcqEw/jpHJWSheuCi+Fr7yJEmg6HMSSdHu2NJut3u3y8JQh0lraWeXBpLS+BL4pMnhKoosPErEMVUiP5XQx8P0XqSbiRb/tTCpSSSAU6NkSBJgwToiQllr4LjkoBmFTjybENSkc0d1vc+bRD/a7E8lwKkyUWLtd45XSOM+OKgm3S1Lhv+WzGgJEC5UiUBSKJiToBbd/gJ1njk5igG7HX0Ow0oFPQmDjGGKvPrz1hNwpsS6BkmoMYBwlBoIkTvr7ioACjE8JWQLvepL7R5n7d586DHg/udznUDoXXSpy/WuLsKY+S1MhEkIwW/dBhKMglgQArT3HuCmd/rNDl05Q+r7PRjOhZNXITaRTGG1emWaoIvGGZSEYTYyMLNcaWBNdNlYWWIZECaYPQGp0AuTzeZI3pCUnBMuiBr4TUuSvOvclb/+4USwcd/DBGC0OSGCAhjm2MXaY8OcvibJWaIwd+qDTGxc5PM332DW78Q5nJa4fstgPCRJOoHFZhgrG5ZU6fv8DZmTxj7uDbPChImSM3dZ6ln/w7flpepnJ7g7U9H1+WccfPsHD+CtevzXFmzKY0LKcbIwAX8vNMLGqum3kmLoUkKq1mJdFobdBWkdz8InPTFmV7GKoZCmCC2uk3uf7z00xcbtKLEiKTiZFrjdYKrUqUxmdYWByjrOQAS2v3tTQcpDPJxOJ13vyHHONbDfZaPn4M2vKQbo3xU+c5tbzI0myVCU9iDdp0vXCITBTbxh0bZ+GNS7xdHKe8dMDaTkRPusjKBPPnp7l4eZyzYxIvE0AYKNmReZkGC7wSlYV5rr5dYfx8RGgE0kkrMJpIE0kbb67GzLRF1TFPkObwvKEQYpLS7HWu/nyO6sUGnV5Eku1PRhuMkGjy5KozzJ+ZoGaLbG4OyhikpD6MM3H2OtdNlfELe2w1e/S0JsZB5sYYmz/LwtISp+dqTBdUmu7xA1tT6WFS4U0sM3/973grNwvzqzzc7dCmiFVbZObsJa69vsT5KYvisOxPAFgIZ5LS7Ktc+5tpxi6m9tLybCwSkiBCOyWc6TNMzrrU3GEYXIGQNbyJq1z56Rilsw2a3RAjDJEGjEYbATKPnZ/i9PIkEzmLtLDpICeoRFo1Jpdf5ZopUzm7zZXDAD9KiIWNlR+nNH2aueUzLM9PMpsfdBrfyw2tDcaSyFqB2nyVxbMVXrnksJh3qMXQXN3ms2YPv9lj/SBhacowZmfnsW9gGkymqyQsiZ23KZQdxkJBkKT1nFKmwiCNQUtBHptaWVHwJHafLPwuhNBjJsWzzhPRZ1ZEprOZpdt9mdR5puZmxQAkAm255Mp5ZuYkZ5EkGAp2jPF9Dne7rD/0ub2h8X88hn29wOmqpCAN6lsq+Zkk1V1SJZdCxaZkB9jdDrubLe49lMx4Arve4N5ah7s7MesdhyCWWH1x/yfuOJH9zyCyCDJNpkX1jb8mUnsURHS2W2zdPuTm/Q5/qWt2Ggpv0uPSlMf8jM14UaD6f3C08IcOQ0EukTkb5KcpL5W5OnmehdebtNqGUORwilVq1QLFooOLYWi2EKOJjY0ojDF5tsrYkkk3aThaWEYDQiBkVvZZMvjbYSHBGSM3WeRK8TwXEk1ishpCGaWsDQhhoWwbJ+fiWmrAN6wGsFBOjfJcgQu1JZbCiDAxWQikQCgH2/Vwczk8izSUlgGLUg4IRkhwqxQW3+Ty+AVOXW/T7gS0kxxeqUKtVqFQcHAlKJPyOoPvp37KxCzjS+MUZiMuxgYjxVEErTEGjUK5Ho7t4NochT8PtP1qnOJkmbPlc5yOkyzvu1/1pB82rpC2g+s6eBm5NFgBdYl0ypRmLnC+usDpKCGKs+gVITHCwnZzuDkXzxFYWaWkgYvTvmhkQvPCK1A4vcSF8SkWrnQ4bCU0E5tCrUip5lLyLHLCPHlp4+fdaECjMF6Z2qkSlTnD1Sy0vV+uua8/IaTM9idDPOjLD2MhVJXcWIGzpTOcuhRnFbnSNhtjAIkRCqksHNfBtQbtzKRtQhQozV7kbHWJhTAi0lm1KwQoG8f1cFwX11HYDIHdGhSMwTgVvNlXWKouM35pj/1GSGA8nHKVUrFEueSSs8SQRXY5SHeK0myZK7VLnIt0tp5E6u8ZjRESaXnYnotnD8HmahRGlXGqeZaunmL+QpKStCLTaumHEUiJUA6O5+C6FnLgMcESoYoUp86xVDnN7NWQONLpIRWBUBaW7eF4Hp4tsqqMIzw9snFOSCuj1vLkp/PMzOSZn7KolCz0fIezUxa7YcJmFLPXTjj0ISyQGt6vE3jO/B+EwvJc8hNFprXD+RpE+svFDAwIQYRHqeYyXbUoWKnektBH7xgO9PfNr/v5yZSvJ/6baSVXLSW4OcrTgrOEeHOS2CQ4SUTUaLG+2uXWgw73PpbcmnKYWfYoFhWuJXCF/ka9RJMkGGlhVQpUZn3mxxPmNru0V3f5s9WlsarIHzTYv9vlfjOhLRW2I7DtRwvnPPE4fCk/7bG+41f+mAAlkI6FU7Qp1TymEoOTB1WUWH5EcBjSGZP08nJYSIwRvoThGJf+jBMWyiuSd/PkKtNMJKCNRFoKS0mkGAqv/VEIgRAKyxF4Mi0/nG590L/1BoNONDoxw1F2WAgwNtK2yVscXQ18NaQyI2ayPNvBOcLHTxXSxnYsLCdHvl+iPnuPOHpr5ugNtNT7YJF2g41yy+TtArmyZkxrYhRSSWwlEUf9NCQHHAEYCcrF9lxsrz/rSPW2jkiaYSQ4bGzHRjmGfD9o+Cu3NMdztH/ZNzh9mPQfYywsR6Fsj1xKoZxoV/Zv36swA07nHTSMQDgunm3jlQqUIk2YSOy8wlYSaQwmNsMVoi0EYGF5AiUFSnx17RhDmjqX6KeroPPcINIUaMdCOgIPgziKxHr0feLErwwWfaENC9tWKCtPjmP7dfzzTDvwB43+LbiFsAu4Vh63WKU8mXpOyrZQUiAzwmYIBvdRKBtL2RQdOPKLsjFND9KiP9Tp2WrQ+6vop0Db5CyXXLrrP2Z/St977EcNAySWk0c6ebxHHFSTXjOLft8PS378y4YTnaZNGtWSV9h5G8dV2LYEbKycRTkvKdoJAoMfGsKE9DwjUpLoayUGs/cI28IpuJSqkknn+HePplp6y0GMTb5sU8pJHAVyKFI0vwrxpa99SHi2qPT+HiclIl+gMutybtwwFwmMMCgTkXTz1CcPyJkmh39q0tgus3qQMDsB4xapbtLXhS4ZUsF2JZGlAtX5mHNnE5r7+3y0sc+9PzW47VgUdYIdRmjAqyq8ioWdRTqL7zgWj+2To5tj0sgLJKrgUlkeZ3myTPVyyKVGSLveoF4P+fBOg5uhwbNgaqJATZhUV5eRCRgmDAe5dIR0lgkhEZaF85XWDXqX/joYTGJItMDIExT7sdVMKw0MqHVfhTjuyhPe+Tf7vIPv+GOnXByFp359q364xBJwggUQCGkhMrFB+6tvHKJ+OjEH5dF3Tvx4mNp6AicWjjzpcnyLuRrsZzkZ5nx84B1yEzBgpBcEUgqEZeMosDEICUZrzFDZ+GP0I2jTK4/jFpqTZGEW2j8UztnROhfHGhRPMj8Hjv4l2fEt76MWa7hb/8IgHn2R2h4XN/etbx48TuxBR7bzkR8fDfzJLwPGSd+uv6K+fX8aPI7bnepmfstuOtwfZvhxbL4QmLQgRZzuFyYjLKSQSJPaZWGeLC9ACkmiDXGnR3ujwdqazyf7giAm1VJTZCxsSi75MsfYdJFzUpEvK/JeRswPxeZ0AhmxKaRESpmKZZPejwoF/WotT016CAmehVdwyEuB1qmcn5AJwriUbYh3QlY+7nIYRRz4mkYI0ZOUUNcGIyXGcslNVFm+LHAsRe5Whzv7sJdYWFKT60lkEOLlBLqq8IoKlZ0hnnoYUgY4rUYoMjmIjJCUin7tkZT8AqSSWLaLU8hRkJJZNLrXxaxpPv7DHh98esiDjqYw6XL+1SJ5hx9YUYyXA0NGLr2sSAU2NIYkfnyUnxjtfSOMMMIILzeMQffjzvuO4+DV2b8d2pAkyWMjZ/uaCKM9aoQRRhjhBwoh0jL1vZjQjwkijc4qmCWJphMYulEaiefamVhzRgp8bdSSAJRBGE3c7tGsN1m72ebPdejFqeaSEH3KM72Rb6kiM8sSp+oyv+AyKUmjp7+lKt0LgTn+YjAIYRBozPF3MimELFA1Y02eOP7SpKLmJtLIBKQtUUqhFGknxSATQ5xAQpop46is+tqTQKQXYdoIsB2K8zWWa0XGryS8GUM30ohGm93Pdlm5o4mFhS5LahM2jqW/WdDpqx8FEBiT5pcIk110ZantWZY7ApOm4JpU7FsnAqEktiOwbJWSdNKCskO+qHDCHq1uSNePaSYQmmPfZeDzY4QjjMil7xsjB32EEUYY4a8fQ3iZ+m34usv/0Z41wggjjPDDhRAGHSYEe13CcpedvRxbLUGeHq0Dn41DzV4owbaoFSQlF5yUe/pmZAUYpOvgVvLUpg2nJAQ6jVzqZzVKDFoIuiLP5KTNeFHiZdWe0/qhT4mjX5BHmVffC4yBRBPHmjCIaDZjGu2YdmgIrQjdjWk1IpotQw5FlEV6yW88G5ojHUTdi+k2InqxQVsWTsWlmAPXhOiDFvWVNiubEVsiR63gMlWU1BxwHg1M/iqOopRTginWEGGhSy7TczYLjoGkS3i7x1/uKW7HNuQcpmoOS5MSzzJPlRYnhEHHCXGsSUxIpxnS6CT4kSYIE3rdmHYzpuEpqnlNgYSun9DsQKglxbJFsRDjKo3s+rS2emzuxvSMQNgK2wZLfEm3a6S7NjQYkUvfF4YqDHqEEUYYYYQRjvGDl/oZYYQRRhjhBI43BaEkIkpIdls0lMPdSclH1Tzaa1O/0+KLPcMOLhMlh7mqYjwvUnLp68S8IY1qigBlkT81ztJMldl3DD97XIbH0a9IlCVxHYHrpBXBzNPmmz82feQ4Srcvgff0KV6ASdB+SKcTsrkbsHWvxdpGQL0V0456JFtN7t91qZEjnHPxyg6VLADnm6AsgY4Tkl7A4cM22wcJTWHhzheoFaEQ9fAf7vHFJw1ubsTsFissTuZZrllM58Eh1Uz8NkgJwiQEfsT+bsJe06AKkpIdY/ltVj7d54MvQm52XfIzJU5PuVyqgReZbxQL/0o/AbobErR6NDtdNna63Fvvsd1OaBKQbLZZu+dR7npYEzDpxrSaAatrMTsNQWXOY3zComxpOGix8ekBH3/eYUsUKNXyVGseUw7kRKZrJ0CYfnGF0Vl80BiRSyOMMMIII4wwwggjjDDCCD8Y9FO8BUYpnIKkUjW0gzYbnwT8Zl3yYezTaAu2E4/aUpXFpRLnxiwmnVRzMHqSxwiB9BS5gk1eKRAG87goEw2ITO8pSlPQvzbl7ikgJGmBAAlCZyTT05JLUoLRWDqm12qxu9Lgg098vrjVYn3dp9OBpt0k7mne23Zp7pS59GqNc684uHmBKx5XNOmohRylvWiN8XscrDW5vRmyZSwSabCShKgb0ekJgmKRc69McPVSgeWyoCoM6omy1iRIjcCge+kzvvi4ycNmTDvSRDrB70LPzpM7V+XCtQqXZm1mxLFi45OQNiLLl9SNFvt3Dri50uKjesCtlR4bnZggbHP4haHVitmdL9G4kOfqKUE+7HG43uTWZz5tKTGORFkGGUS0DkKaiUv1Yo3zV6tcXswxJQxOllcpRPrxlByl+A8DRuTSCCOMMMIII4wwwggjjDDCDwVZqXghJValwNhSwoWypHio8VsRwXrIblcTFosUlqqcvVrh8pkcp8uSotBIAxF8a6SIyJiJtNi3Tg//X8uEmKwy8DPmnZ9oiDEGrTVJnBBHmigSxNqgs0rTR4VMnpKJMHFC1A1pHAYcdg2+42AXPBYkJDrEdAQHhxF7Hc2CJo0oUt+sC6Sz0pLSknh5gWcbTC9gf7vDfg9iIZGOTWGqyPy5Gq+8WePags2kC55OSbgnIX9SMW2BFAYRBASHHbbXeqx3BF3bIV8rMLtc4eLVKq9dzHOqqnBjTcxTpidK0HFC0Alp7QXsH2gCZVFasKmSkCgD7ZDWQcRBS9NJbEq2omAbnCigcaA5iDShActWCM+lMl/myus1Xjlf5MKsTdEYTKiJpCQxBmJDGBmSxJAYkxIcQ1pt8K8dI3JphBFGGGGEEUYYYYQRRhjhBwKTpBXfhGXhzo9xqlTCCgUHjZDOfkj3IGS/J6CaZ3yxwrmlIouTFjXHYOm0cvy38jIntH50rL9do6mPZ9HPOak7lIlFJ2FCp9Fjf1dQ7khiCcJWWI6k4Mg00uVJ4lyynDMtFSKfozRd4eylHLkZTTcReAULhwQdaXqhIjeRZ2rKZkKl2kDfJupttAEk0rMpzZRY0JKkmKO4G3PgGyIUsuhSmy5warnEpXMuky7k+pVen2Qs0GnlWCFRrkdtrsK5qwI1GTLtSwLboTxZYGG5yJnFPKcnbcpSoyPQT0HAGZ1puRc9inMV5nEJ5w3LRmJ5CjuJ0bEgNApZzDM77zFZsajZAnHOgHIY30846Gl6GpRr41VyTM2XOHe+wKlJm5prML2YTjumG4NWCr0TsN2MOPQNUQKWGQIR+B8ovhO59NeR13g89Yx55GX6WrzgqWkeffG4pWG+/LaXAS9dg0f460f/Hmk0OX84+JqxflpNh+8ZJx3Px7VweFwkzSOdNSzN+o4Ynv4d4fvEaFQHhQEb1GfFD3DCGEDaNvnlCYpKcAY4VqDuixOlUSHEhkQbEs1ROtxTnwGfp+jycZYfUoESmrDTY+teE6/To5VTlB2FVckzOe6yNGbIuYKsGN0TQUsba3yM+clxFt8UX3MQNmmOWmxIYkOSRWF90yNSXSmBclwKpzzOLU1w8UixOvNVTUbOxWl0jn66Am5p+zVoFFaxyMK1EktvzPO36iQDmI6zSQyJ1ugY4qcdZG0wWmBPV5mbr3FaCn76ONEpw9Hc0onBkGdqtsald76k1N1/X2IwsQE0cRjhdwO2VjtsHSR0kMQ7TQ7WQlYPDd1YkJcCSz0RdTjC94zvRC69lMeyE8mYRyGRxz98xEhIkbG1L+pDCoGQj9LPEsnjzPdLtViOa42+vHjBE128jOq7L2Ob+3iZQmf79sv0N82Xp+0DnyFZRZb+f4sT338mgc/vCVKAMV8ue5LqHKT/ZGIRA0K/ZX2xzEcc6kcGNd2/XqbldBJHbuhjBUGGEYNp58DX8RMjjQZI8fK0ug8Bjz+7DjFOHuVePj/mZWvv9wfT5y76KWvagDRHW6ZJjiNkhhIn2iWlwnYEOVcTrrX45FcP+EKCY1t4tRKFM9O88ZqiUnTwXHHMoT3ps3SaVpckJhPIfvT5KRdk0PrZri2MNn35KYQwiL4Jy56jtXl6zaivPMSAFug4rQKXZSym46tT4uo7O0QZyaQxyK9xX4wx6ec1oIVBGgGxQXDic2dtSwk6gZQadERnr8mn727x/kctHiaCTqfW5hiSAAAgAElEQVRHrxfj49IoSRY8gWsZZPZxX3SsyA8Z33tanBlSy3OSSJIcn4OFyMpUComUAikkWmakvRRIk+amPvf2kZVuRCKFRIi+KtkxgytEZgSFQEj5yOcaxn4/2ecCgUSmX+WxxRj2dp+MJ3iRLT3plA11H2UqelIIjDHp2GbDO4zt7kMIkdG2fSHF4e5vyPpaghQy7ed+7vyXHOJha/8jBwz5eLL8eT9f9iuICAlSZjbUpIR+Zvv7Dt1gIJHSIGUmOprZ+bR9ItUSRSIGSTAJgUCDkAgpEVlbj34OJ/aq4+8P23w8iXSvTfckkZmC9Htpu0Vm14YNqS2Qjzrfzx3pyUPwaDWeYewf6Nv4dG0fVRDKxlq+BH7T0ev0aHT0ehjbDCfaLTK/OrNdJ/3VoW+7lLzgRTU80BkZcnL69YfrpbkwMBgspOdSm6tw7S2DOxXQlIIoTjCWQpZt8hVF2RVYiiND9rQfz2hNEoB+dHke47v0WUbmxXH6Bx4xCd/jWGitMQlfCZs236OLZmJN3L/I+zIBp7/0PJO2qR/U8UgzTt4EZid5y7bJV1zGJiOiWNCtOcRSYXkecrzE2fMu8xWJKw060S/TPexLj++BXHr5mH4j+kJuAozAII7yVVMRufR7gnTSP1ku63fE0b7cT4U7kShhHnnL0SIdZmLpKxBgRHarzXDfaB0dKtJX6Tfl8w+tfNSQDm//nETaV8drynzn65QXhz5dmEZivBz9nd7cHItdpnuzGGpb0F9P2Yvs6wttQdpfWciNEY/aVU5Y3EFBiL7NOUFm93lPHuOYvWCIrAEmIxceuTY9ckiP4yxeluV0dPg9ud2K4V5PRzDmBXtfx+TB0cXXsOOoiY+SM4/YpCGEgBOE+MuWYnZMPfbXzxCvokcghjo058XgsR//JekSYyDBQuWLTC05vF0uc6mVECSkKV4IcCysgketbFFx0qu5Z65I901Ez/fRZ48jvr7nsXiESHpeJvFxx4ITe+7j3n/iy5deGBItMNImVytx+W2HmUsxXQ0xBiMVylZYnk25bDNRlngSdPz9fZwRvh3PTi5lUTTGaHQSH4171/eHzjj3b6uUUvi+T6/XIwxDhJAEYQ8/9HGiLt2uT+gHJEmIbynadghAqJ+vE9cP3Bakac1+khB0Y2I/xG93iMcijIIgCEiShCgMiaKQOE5QyhBGEUkUHd0ODQMM4Ng2URTR6/UIwpAoigjCkG63S6/Xw7Zt4jgeOgdeCIHj2IRRSBhFmCR5vHH8Xh+aRVUAURzhd7s4tp2OdxwPHYWrVJpA3ev1CIIeURCijSbo9dJ5qtP/HraxBbBtG8dx0IlO11GSEEXx0WGp0+kM5cEjl8sRxTE93ycMAqIkJOj5+H6XMAwxxpAkCVoP12FECIFlWUghiKMInSSP5tM/Z4RBQBxGaK3Tvur6BH6ILw2+HdCJNLbMaP0BTFcN2Fbq5PrdgNCPiCJNFCYEfkSnE2A5CmEMUaQHcqY/+cxuGNPrRulalz2i8Nhri+OYJImJkwTLsgHotNtDtTdBOidt2z5aT0EYEEZh+pl8nygMsW37aF0NE4wxFIoFjDH0/B5a6xdkr9JnRFFMrDWJ1og4JgiCF/Dsp4OUEsuy6AUB3W6HKIpIkuRof4qThCTbp4YJxhhc1z2y5XESE8VxajOBJEkIw3BobbzR+sgnCMMwXVNBQBxFqU/g+0PJU+TzOXSi6fV8dJK8mAvlEZ4LtJEIS1EcdylNC1Di0YsQY0BrTGLQyaP3JCO8HEi1zy3cks3CWJFTlviS75aRxInBxBqtv5nLGuH7xzOTS4Z0AzfG0Gp1WV1dpev7dFqtoXPGkBJLSaSSrK9vsLW5yeHhIZ7jsr21ydpqlYNuk43th+wf7KCTA7YKivJhBMYQ8WJuCAVp9YVmrNlutWk1Q7biTR7qNfxck/X1dXy/h5SKna1t7t+7h2UpwjAkSZ5W1u35w7Zd4jhiY2OD/f09Go0mjm3zYPUBYRBg2xZRNHzkklQK27IIo4i93V0SrR8JpX8uMKSpJkC71WLl/n3K5TJaa6I4Hi7CVggspRBCsLe3x/bWFoeNA7TWbG1v8eDBA/xulyAIhm5sARzHoVgsUq/XabdbBL2Avd1d1tbW6Ha7HBweDGVudj6fp93uUK/X2d/fp9FosLe3x8OHD7EsC8uy0rK7Q2YLhBBYjoMlJfv7u0RhiJLPt1BpPyJFKUWj2WR9vU65WmW/fcDu2jaN7gG7HjwshjQtCysjl140+stDZeRSsxmws9Oi0egSh5q9vTZra/scHvgIYUiSQR4q09jedhyz0ww5DF2c/Abr8Rh5X7O5vkG71aDX67G/v8/6+hqtZoPDw8OhI2ullEfk0fr6Ont7ezQPmuzl9qhvbOB5HrlCgSgIhu4gD4ZiqUyr3WZze4soirL0/ufbx1Kl+ZrtVpPNep3VsTGkFAR+77k+91nQ38MPDg7Y3Ej9Pa01Wzs7rK6uEoYhsU7Q8XDZSgDH85BAfb1Os9EkCAKazRarKyuEcUQYhJghm5MpWWthDNTX19jb26PRaKCEYqNeJ5fLUSqV8H1/0E39KkS6t8ZxzObGJkEYpgIO4ssJ5yO8FMiibLU2yFgiki/v6ybVAvpSRsgILxOyyEidprtJIx4T5pSG9puszN1onF8sntnDl0KgVHqY2d7e4nfvvku1WqXn+1no/HDAAAiBkgohBQf7B6ytrbG5sYFjWcRxzEGzgVcqsNHcYb39EGOa9FzBfi5HKvr/YjSXALQR9HRCvRuw6Ud8XskRrbQp23nW1h/SbrcJw5DPb91E2RZKSeIkQSfJ0PQ5pKJrllLEScLq6gr1+jrddpdOq4XjulQqZSyl0lDVbL4MQ/v7pKmSiiiOuXP7DnEcY1nWc23fse6HYHtrm9/99l1y+Vx2g6kRQ3S3YhBIlba13WqxsrLC1tYWAFEUEccx5VKZOE7J2WG5Mej3oFIWXs7j/t17bG/v0mw2uXXrFtKSlAolOp02MBxthqNtEtdx6PV6bG1vs/pglU6nQ6/XI45j1tfWkEphNCQmGRr9/L79tZRCKsXtO3fxez1s+/muJzgmEOr1Dd5//wP2dvdodpvc271JK9yhZxvankNOWVkg1YBqhhmONH/8XsT62j5bm02SxBDFGhDkc2kUUGIGSy4JY+jphPVeTCNyaLldqDaplye4d/8+GxubdDodVu7f57e//g25XI5Otzs08xGyG0wpUVKSJJqNjToPVh/QbDbTyLYgZHN9Hdt1SZIEo/XQ2AJI25/L5en0fD7/7DOCIDjSYHuesCwLKSU7W9t8+MEH7O/tIYQgjKKh2r8hjQJWStHtdthY36C+vo42Jote9KlVamiTRnkKGPju2m+DAWzLPvJV6/U67Vab9fWH/PM//zNJHB9Fe39JJmWgbRZCYEkLg2F9/SFraw9oNls0G00SHbO5uYXneYRRODRzBY6jGSzHwWjN559+iu/7mU6XfDlSP0d4BEcjpkl1dr7xTSO8jDg5fCYyX39GH43zwPDM5FL/VjhJErY2N3n317/By+WGNs2p/9Xv9Wg1GnQ6HaQQ7O3vs/LgAbbr0Ao6tKMWmB47SnLfthAiVeZ/kbM0NoZWHNOONKHjs5lbxVY2rVaLZqOBsiy++Owz9nZ2gGMNgWFDP7Kt0WjQbrWIw5C9nR0OGw1c10VKOYS3wsdRD1pr7t27RxiGWJb9iBD583imzKKBNje3+M1vfoPjOJjMIR42SJnelAdhwGHzkE6rA8D+3j6bG5u4rpuKBQ7pvLQsi8ODA7a3tgiCgC8+/5ydnZ00VSY7LA0blFJEUUS326XRaBBGIXv7e+zu7JLL5Y7W27D2OcCdm7dASmzHee7P7KdqbNTrvPf733P79i3COGSrs0+YdNhThnXbwvpK1dAXj/4ZJo4TWq0enVaAARqHXfZ321i2HMhe9NWGGuJE044NPSNx1SY77gpF1+PwsMHmZkou3bt7F9/3sa10PQ0b+jY+jbxu0Ww2CcOQ/b09tnd2KBQKQ72e+lFX9XqdIAhS8vY5H4Qty0JIyfbOLu/98U/cuXsPKeXQRUr2IaUkjCI67TaNw0OMMRweHFKv149SzwbOKj0GSqk05THosbFep9Vq8XDtIb/8p18c+QPDNif7l2NH66nRIAxDbMdhb2+PfP42dpbmP4xQSqG1Zm1tLY2uUhKphtELGOGpMBrCv36Mxngo8expcdoQRxGWlJw+fZp//z//I7WxMfyujzbDEqsAkJYhFEqhpGR3d5eV+/dZW1vDtm1OnzrFqcXTeLUSD/brrDVXMbrBbE5xKu+lzvQL2MgFIIwkBvwk5mG3x2on5lLtElemzlN2i6ysrnDwfxzgui5v3rjBG2++iSUVUZzqCWQlhYYCAoNtW8Rxwp07t3mwskK706FaqfLKtWvUxsczclIfRbcMAwRpxSZlWURRxK9++Uve/9Of0tTD50jyGGNS7TJjOL14mn//j/9IqVRCJ5r4SNNseNaUJSVCCRqHTW7fuc1GvY4xhtnZWS5dvEylViEOY5KhcoJTW6CURb6Y5+bNm/zLr37F/v4BN27c4LXr1ylVKrQbjRMC5YNuM/QXtee6dH2f9fV17ty+TbPZZGJignPnzjEzO5seSjItlGGaKwKwbBulJP/l//nP3L51hyh8/qk0JjFEYcjy8jI///nPOXfmHAfdBu9tfsRBb4NJF+ZzOfJKopRAGD2wanFKKoSATjtgZWWXjXqDJE6YnC5z8eIsuYKLwJDowR3OpBFowI9j1vyEvcim5s5weXyJxdo0X9y+zW9/+xvW19e5du1Vfvbzf0PBK9BsNRFSDazdX0Va1dJSijiOWXvwgHt373LQOGR8fIKlpSXm5uZwPZc47muYDct6AjAUCnm63S7v//GP7O3uptHLz9lYRWGENob5hXn+h7//O84sn0FIQRhEDFN8aloNWKIsRavd4sHqKrdv3cagmZ9b4MzZs4xPjKMTfRS5NBxtB43GcRyEEOzu7PIvv/oVq6urnD17lv/wH/8jcRwRhtGxsP4QwGDSqqWWBcawurrKvTt3ODw8pFQuc+bsGeYXFsjn8vTCoB/OOuhmA6m/JxA4noNOEv7w+9/z//2/aQqlHmiU6AgjjDDCy4tnJpe0McRJjLIsZubmeOvHP2ZudjYT9P4+m/j9oB9ptbm5SblcRimF5+W4cuUyl65coThZ5dbhKrndEjre5GJZcbVSxBheCLlEVrEmMYZGlPBpo0nciHhj/i1eH7/CmFtmZm6G//7f/hulcplr167xt3/7t2m1Ap0M/kb7MbAsRRAEVKoVHMdhf3+f2dk53vk3P2ViYjJNqxzGmyxJlhYX8XD9IZ98/AlxHD1XZ+NIjNkYFhbm+bu//zts183Kww6fkyNkWibj4OCAXC5HPpdD64Rz5y5w40c3mJyaIgzD4bQFUlAoFPA8j9s3b2EMXLp8ibfefpuxsXH8Xjd939CtJxvf73L//v3s8LHD0tISb954k4WF01iWSsmHIexzZaU3w198cZN6fYMgiJ57M7XRhFHE8tISb731NpcuXaQTBTQfCDY7BZbymkvlIjXHQglxVIlvELCyNNODA59C0cW2JFGsWT4zyTs/O0+pkkcYQ5LEDMrOSyHQ2tCMYj5uBqwHeWZyy9yYvMxSeQo3n+f+yn06nQ7LZ85w480bjE9O4nfaMFSJcSmklAgJX3xxC2VZbG1tcvr0aV555RpLy0t4uRzJEGryAHieS6PZJI5jfvmLX6bz4plLHj0ZojjGaM38wjyvX7/O1WvXsKxUNxGGzPsQoKSg2e5w++bN/5+992yS68jSNB/3K0JrkRKZiYQkSJAsFlmyxe72TlvPrtmYzb/an7Lf1vZDr9nsdk9tdemiAkCIBFIAqWVEZOi4wt3nw41MJFksggqMQCEes5RIRJy4cd39+PFz3kPgRwGwW7du8e6PfkSpXI4OtYZxw1GXmD3HYFs2Siv2dvZ4tvGUVrvF3Nwcf/f3f48eiuWPw6HHxWsmRFRqqpSiXK3i2DaHh4eUyiXe/dGPuHz5MplM5vxeGTds28KyIv3SX//6PzBao0M19l0FJ0yYMGEc+Q6C3pFgmpCSZDJJpVwmncmQzmS+T/teAob9/T0y2QzJRIJSscx0dZpMMUcjOSDv7BL6Pco5i9liFoMgeMnd4s4QArQyJMOQvQSkYj6V2SrlXIUkLtVKFdd1SSYSFIpFSuXSD2DVd0NrzeHhIbl8Ht8PyOVzzEzPUiwVR23a16KQKyAtOwreveQYz1m6eyqZYmZ29uU+2feE67qUSkWODrOESlEqlahOTZHL5UZt2gsplEqk0mni8Tj5fJ5SuUQmkyGbG985LAwy9Ho9ctksvudRLBSZmppmaro6atNeiDGGXC77g5RHGGPQRIHZTDZLqVImk8+RAQp+iV7nmEJKMZ3PUnTtYbe40ejmG8C2JRKIxV2KW2nSmQRBEJIvpJieyZEvJhBGjK5b3NknAwk/ZDfVozNIU0iWKZWrZJwsuWKedCpFPBYjk8mQy+fJpNNk0ukf3uBvQHXqlHw+T6/XpVgoUKlWmJqawnacUZv2lTiuS6lcxrYsjHr5YVE9bK2USqXI5/OUy+WXWir+fZBMpWk2GmSGzTFK5RLTM9PkcvlRm/ZCPM8nlUlHPl86RTaXHbVJX4t6rU6+UKDb653fJ9WpKeLx+KhNeyHlShVnOO7HIH43YcKECa8k317QG841C8IwEvF9FRh4Hv1+H8/3EQj6gx4D3yNuQrrtLv12Dx169GyLtj3AGAj4YU7lBIbQQCcIGXQ8gl5Ap9XBS3gkXZd+v3/einbQH6CUOheBHlfCMKTX6+EN+ud293pdsrkstv1yO0Z9V0KlIg0xrSKBxx+gffqZQGq32yWZTI71e6t1lBnSHwzoewO0NvQHAwJ//DRWvowwCAgCnyAI8D2PwPdHbdIL8TyPbreLN/DwBwN6/R6dbiTy7zjOWN8vSikCz0eraDy9bATReBp4HoNBNJf3wz79To9Bp89AQ8ca4JwFl0YowWLZURlmp9Nn0A/w/ZAgUAwGAd2Oh21F6RVBYEamMTvsz0LXDxm0PQYDi4HxCDM+OERiwyokCIPz1u/jjlKKXqeLN5y3ev0+vaF/MO7BpcD36fd6UTmc5KU7KVJEgSTf9/GHwtLuD6Cd9l3oD/rnTVC0VvR7ffq9PplMFoWmGwwYhD4Kwzj0BtNaE48nkMCJ16bRbdH1BnSCAR1CfOXjDzw0euSZtQbAGGxpkXBipJw4aIPve9H65Ee+9mAwIPD9VyK41Ot3MSMsPZ4wYcKEvwXGe3f/MjjbQXzpLsJc+DyaU2xhnpv4/NPn7eJLfhp7xq+y62symus8boKdL2RUaR/fC6+Y3eb5l1fM8rGx98u2ZaO0LSrPuWjB83Xq8+vBaDHGRKWDQ9v+4jpqxkpT5euiuXCdX8mRNeHrIoQgRLPTPeLDoxUeNjbpKA9h5MibgxkddS5DQOegzpPaKvVenU9OVvk/7v+fqCBEBSHajL6DoTIGYxTzqRJvlZZ5u3yFaaeAGMMS2AkTJkyY8MPx+gWX/gLxJd9d/IUY6aZ51M7O98ffzAuZ8LfC+eASr+ZAO7P5VbR9hHzxxF+c9cYeZTzhBf25z8TlhRjhWsTZJZKf/+WX/e0rd0uKr/xxwqvK59/IqMepwGDohQNqgxNq/T2SVkDGdXCEHGmDES2jrnxSgG03iYkBlgiJyR5F5whlFEqHGP1lkd0fBiHAEoJ+qDjo9zmWPo1BgX7gY5xhd+bJ+JkwYcKE15ZJcOkrGMl+48sjXK8+fyMvY8LfEuMngj/hZTOe7/d4WvVlSF7hNNS/yqtz/Sd8E/7a+6oBPQySTMUly6kEC6kYCcvCaIMaWcYyxOI2QsBBEFBLOvQdyULC4T9NpQkDRTAIoyYfIwsuCWLSoul7fFIP8YXEEgAGM4krTZgwYcJrzyS4NGHChAkTJkyYMOG1QRiIWRZ512UhZXMjnSBhWVEjgK/7GH/l9982NKU1JOIOQhqSaZ+ia5OQkkLM4VYmiecrPDfKXPq+sgO/+DAvtN1AwrKo+zZ7/YBG6OBKK3qkcanfnTBhwoQJI2MSXPo+GXVpxYQJEyZMmPDX+MY7yQkT/vaIqlDPCmSjz/pMy+6Fwv7iL781n//+2xbWGQMagzBR90p9Qf5LD5/QDB3N76bWID73Zfjs51JvL/qfhuf5i2Li906YMGHChAtMgkvfCwIpBZ/vynuhfEDrKA37b6+aYMKECRNea6SUIE20E9RjWjQmJFKCjFro8bldpNaR6ZMN4oTXjmEQRwuUMQRDAX3FV5V3GZAW1rBD31/Ea43BaPOt/D1tQJnIKnWh94zR0e8VBvUd21pqAwiBtCS2LbAsgdAarTSh0i+0WwhQRqOGfq0BJhreE8aSr7qXJ/fsePGi+XLyfr1SjGlw6WzljIQXjdZoBUJKhIxEGcemsHvYPUcpUMpEXX+4+AokRpgLTv34mP55NIRe1AbbSLBsHMfBdSykiI7lRmf3sIePOTtZixwhYwRmWOv/eWdLIi2BFMPuL2N93X8oDGYoZaq1jgRBpYUA5LgIcJ4LqQ7HvNFoEzm+kQMrECbaIVsyem/F2CoHa3ToEQwCfCXAdrAdG8exscU4qD0Nr7Q2GKOje8IYjIgacp+NteiIX0ZjSZ7dK6Nugj0mDO8/pRSEnM81ZnjdxuIanY0powiHwS9znntwYfyIyHczY/veGlAe3iDAD8FICzvm4roW1lc15fgh7RuWBGmt0Saaw6L1SQ67wGqMFAgkUgiElJFfgHgFBdBfHlqraF6S0XU68z1e9jU6C5Scff3SOdpEGUNGByie/5F57vBF1goznCe/2Xi62Bv4i3uts8DTX7XtayEQFghjQPkMPEUYCrQQWJbEsp/3evurJX8Xg14vNSBtojXJaLQ2w7Uqui/ODJGAQSKlREgRfbzA/gmvCQKkLb+8pelZNuB3OQn6a/f+y7rxLj7fi57jyyaJl2HXN7HpC39vLiaACpA2IOT5Q513bh1OMpPkjFeL8Qwunddt+4Rej25nQLcncPIFUskYcclQQHD0CKHRvk+/69HuavzAoM3QqTQCpEMs6ZLKOKQT9ngFX4eBMWMUYtCgUztgc7tBzbOx0kXylQqVao5czMa1zEjDS1Hf62jD7nc6tE479EONEuLCfDV0RKVDPJsjlU6ScG0cnjf+ey05bx8eYnSf9mmXzkDgZvMkEi5xS2CPxbUZ2hh26Xd7tDoDet7QoQQQEiHjOPEUuXyKVMI5n8DGwvyzUgWjIKzTOjxkf6/BSVdg0gXylSqVcp5C2iEGI2ypdbYR1hjt4XU6tBpt+koTDk/yz2K2GIF0Y8RSaRLpFMmYhTvZDBNtaTQm9GmeeHjKwkq4xFIuSVtgjdo8INr1KlABXt+j1QnpD/R58AshMMLCisfIZV0SCQt3bEpczg4UQBAQBm0GR3vs7p9y0oXQzZKtTjM1XaCQcomfGT3SG1MDAYN2i06rQ99X+Fw4lhkGby3bwU2kSWTSpOIOjmBM7pcRY4Khv9en64GVTJNIJaPx9AO8rXL48dWBG4MIfYKBR7OrGHgadaFzm8HBjkf+XiZtYw3jTN+GL7NBfKVtXwMpsKVGDHp06i32DnrUmobAjZMupSlPp8klJImvuOA/XCjXYLTPoNOm1+rS9wJ8A/q8Dk8AEilt3FSaZCZNMu4SE6+5v/e6M7w1pBQIO/p6RlRyKhHaoJUZpi/AK3GzfNO1+RV4SWdvlhACbIG0ovVSM1zKNUgtotTNYXb16A9mJ3wdxjO4BKA89Ok6x1sbPHnWYKNTYubHP+HqUpX5JCRGbR9EqdF+B692wuFWnYcbfU5aGmUM0jIo4yDiWcrzJa5cK3B1ySFmDEKPif8uNNCmu7vGzuMVVte2WD0c0O4bRHaG/KU3WLrxBreXS8zmHeIj9YAFgoCgf8zxs1VW7jxht+XRwTnPIBBSYpTEsuMU3/wxC1cWWapkKMcE9lhc8BEhBEIN0O09TrcecGelxuagzNSP3md5ocJ8WpIetY0AGAg7qMYae+tPebReY/MkjO5TYdAyjnSr5Gevcvv2ElcXcmMSFDvDgG7RO9lh79FdHq/usr7fpu4JRLJMdu4WCzducvvqDFdKcsS2GxABJqhT337Cgz8/YL+vaCuJEtFmTkgb7SvsZI785evMXX+D5ak01QS4ozR91EiJMCG63aK7v8vdz3rUrDSphWkWlmMsZ8Ae7lJHNu2cnQCaENWqcbx5xMpGj51atBm2bDDGAjdNqlzi1u0SC/M2jiORoR6P9QmDoMfgZIvdxw94vLLB+n6Xugc6licze5NLN27z5rUZblRs7G+7i//eUGBOqT37jLUHT9mudWkZCy2GpZMIjDI48SzZS1eZvX6TK/MFpmKT4BIA3W1azx7y4HGNrX6W5LV3WL66wJW8JDkOmYBCIrVP2G1wun3EvdUeu7UQPzTYDtHyZWfJTZVYvl7k+lWHtBSI84zc0SIAC4/+cZ3D9SM2npywfujR6IN2E6SrJaauzXHzcpqlqkM2BkEwSos1Rp3S2HzE+qMNto9aNJRED7OWz0Jtlp0ge+kqczfeYOlShbkYOKM0e8KIiWrTg8DgBQo/NATqQpmqlEjHIu5AwpHRWv0tEFYkhyLkhTMNE1Wv6PDrNwV48RNxnpVnmagjo1ZfXnYrRJSZKGV0AHiWhW5UlKWuv0efRAxfuyWj2I9W5q/r1Q2DfVJGwXbN0KZhhq/vaXzf4AWawIAepn5LS2JbkpgjiDsCW458FZjwNRnP4JIxaP+UxtpHrPz2N/z6Xp374g1ul6+TmK5SSUBiHO4xaWP5PQZHe2x/tssfPh5w2BXYMUi6gsC4yIzPgoqTm8pyWcio3GRcVDmUh2h8xsZHf+C3v3DGvf4AACAASURBVFvh/k6PXjJPTLcxtRZ77ThtOUW1kKWcsomPNF1MYAhRXpP24VOe3vuYleM+dRlDCIElFMYE9Ns+/UGceV3ig3yVXCFLMTZCs8cCg/KbdDbv8uT//1d+9adjHjpvcSt3GadcpJS0SY/D7sZo8JuER5+x+dkn/PZPRzw6dMhkBK4LxkpBYompbo7K4iyLo7b3i+gmYf0xe/f+zL/9tzs8PPBpCQcnBlLW2G/HaIsShXyJpXxsDBZKhQ7btI+3eXb3Y560A2rKIkTiCI20Da2DJmGswtT78G7xEoVSktJ45V/+sAiQFmjPp7t/wNP/uM9v/tDhID/P1M9SMF1iLg3J4Yno6IJLQ+cy9FCNYw4frvPRJz0eH4Abs0glAWGhYkXyl1wqizmmjYhKT0dp9xnGgOlB8wkH9//Ef/z7J3zytEtbOFgxG9s+4aApOWWaTLbI5bI1+kCz0ECP9uEWmw/u8Gj3lGPtEAqBbWnQId16l9ApUrztcTszR2E6Tzk2asNHjAGEZrB9j41f/z/8+qNDHugrzOgqpjrPbBaSo55yhABLIgOfoHHCyeM1Pv5jnycHBmNLClmBVgbPqTC17JCopFky6dHOARdtFxKUD60TDh494+M/7vPpSpdTYSPjAsfuUG8pDnWOTDbOTMnFsgVBMEpfVaNUj/bJNtsrd3nw7IT9UBJKB0dqTBjg9Xy8wCX3tsfbqRmSUxVmXnt/7/VFCJBogr5H/bjHxnqf3SOfnoYg0CjLwkrFiJczXJpJ8NacIJsQ5wGSr40crpUSQEQlstG3iKEMyneURjt/PdFaLpAikgExGJB8aZJCFOgSGCE+t8uUwkSawIrntn5Hm6SMaum1iCp4hDiTLbmwnpmhTcPgmBFRQY/RIK0oFUkFPs2DLjvPumzu+NQDjW9FoXArHiOZT1CdSvPGgsNcSUTL7Mgn1QkvYiyDS4YefnuTZw8/46PffsSHD5tsVWJkG31qHoSaMRD3kghLgj/ArzU42j9lY8/CjyeZLboU84JAuYhkjEzKJuaIYZ+PMQksAWZQ5/T+73j40X0+3Qg4lFWWLy0yF2sSqjh+LEHaFtiYb53a/X0ijEBYLnY8Q6pQpKAHCJkADLbooHqHtHcPWV+TiB+3eMPXKDlJooQufnuHndV7/Pm3H/PhxzV2phMk6l1uDaKTgrHAKAhaBPVNjrY32dgJOQhmKc6mKGUspEygYjnymThx50yvZByI7jHTPOb0yR1WP/6YP6/2OE3OMrNUYaGgwYe+kyLrWFhjMwdEZbtOPEW6UCLvhhDahBIcPBy9z/HDXfZ6Ht50g2UvIBy1ySMmcnmi7IXDZ/t88odt7n/cp74Qx7vS54oHoWH0HZSEjJy9MEC1GtT2GmzvwWE/xWIxTrEsAQtlxcmmXWJuVMo3arPPiGJLdTqrn7L6yUd8tHLKjpxjerHEXMkiaTRd0iRjUSB0HNanKJJg48TSpHIF8gMLpW2UcIjZPXTvgNNn++y1unQKJ8z3PEL5ee2J1w4DBh+h9tl5cp8Pf/cxH318zNOcpne7yY3h+jTyt3eYBmDCkKDVpLFfY3NPctBLUJ2OU5ly8Aca346TyzgkXTl6F3VIlM1g0J5Ha3OPp3d2uL/a4+kgRXUhy3xVkpAGT8cIXYkjGGozjtxypLSxYymS2QK5osELLZR0idtd/PYhh40j9rY0p7lj5joeyo6Obl/nIfV6IxAiJPT61HYafPqbBvefegQ5J8rYdW1i+TSpBRcTi3FlGtICHPENgi4CRBgSBopWL6TT1/R8g5ISO+aQTFjkUhL3rDz+20xeQiCHgSpUiNfV9AeavjIYy8KN26TjkZzFeRKfMahBSDgIOO0pOp4hMBZWTJJM2GRSNnHL4EjxrbOqo4wog9EhYVfR7yvagUC4kljcJu4IHPG8cYhlA0qjvJBBX9ELNJ6xcGIW6ZQkZQNa0T/ts79+yqOHXfb7iq4wqMAQuEli5SLzNx2yeYv5KQvCobbxyBeFCV/FGAaXPLS3T2v3HvfX9rm7pdhvWiTLPlopQv2yRQS/JtJEpTqej9cPGIQ2ujDN0q1Zfv5OlhuzEt8DrDiJTIJixcFVkRM8cvONBqEYtHZ58ts7rG5petUfsfjmT/jnH0+zmOpjQkPfZLHSZWaLLu4Y5BkbEcNJTlG58iN+HJ/j6iDEE1E+umP2GOx9zB+Uz8amTSGZppiwyZwJVL6m3oYhRPQO6Ow/5PHaJn96ZjhuChJTPkYZlBHf+STj+8NA4ON3u3SDBLpwiUuXfsk//V2RyxUbqSVKpohnq8xWU8RHbe4X6Bztsnn3EY8f1WhVfs7iux/wy3dneKOowA/o6zRWskil7GCNNDJ29twullOitPQ27/1Llau+ZkBUxmObU+Kn/wHHHTobeZJummLSJuOIcVw0fhjEsNat16J3eMDmsxp/3JS02hoZ6ujE1PA5cd+RTfaCKP9cKVTfp+9JdKbM1PICP/9ZlttLDrYGX9k4qRRTUzGS0mDCke8oI0yIVz/g2d1HPH5Up56+xdx7/8gvbk9xqyKIa5+eH4dkhXLZjRzm0UbzABtEgfLVd3knNc9i32OgLbRMkBD7BEd/5N8HfQaPk8SdNMWkQz4+lk7YD4ZBYfwGHH/Iw7UdPnqq2W8YrFSA0CGheVHnth+G8+dXIWFf4XkQpsqUF2f54L0S//iWi9dRhDJGIp2kWI6TFCZyExnNnXn2nNICKUO8XovdBwesrXWpW0XKH1zlg9t53poRpCxDbyAJ3QzlkkNCQhhGZS6jkzGzEHaB8uW3uR2f5VJ3QE9baOmQkLu09+5y/0No1jyEkyUfdykmoxLTyZHi64swGuX7dGp9nq13eLajyb6XIJeUZFybVMYmkbZIxmQULOGbjU+pFEG3y+lhl7X1Ds92fY7ahr7jEi+mmVtIc+NKkvmSTTYG8ts62AKEDhk0+xztttnZ9dnr2qhUksp8ireuxcjFJbbRUV3HIKB73OFoo8mTrT5bdU3bOLiFBFNLWS5fSbNUtCnFDM5wdHyzeWl4rZQiaPc43e+yvT1g9VjgzqSpLKWYm44x5UaZptpEGU0q8Ogcddnb7LF5ojhRCcqXMlxeirFQAdcSuHGLZMYlW1J4vYB44NM96nPY1hwPEnQzIT/twrCfD0M5pgljzPj5NV4Xb3uV7U8+YaNtUS+/QUZ0uZR1yLmMUbZCNHB0oFCBQMZz5JYWePOX1/n7D/LcnrYIghBMgB+EeIEhVMNFb9SvQWjgmG5tk08e9Gm4V1l8/xe88w8/4/2qoJC2ozrkYY2ulFHHhdEu2AaMjR3Lk5/NkZ1eHqadSiDE8h7Tia1z9KhMemmZy/NzXC7EKTtR/f3IA3ojQqgBvZ3H7H92h/XDAUfVd8j6O0xnbHIu553LxgIDJlCEvgB3isLST5j75f/Of/pHh5mcIQwNmCjl15LyovT0GHDIyfE2j9c67HSqXP7Pf8cHv3iXny7mmI0ZbCtq8WyMGKYUj9pewFgIJ0d2KkO6sjQcT1GqswgPcR5+xMez86yHi8xeWuZaPknFFq+tnoWwBMKEdPdqHN7f4enugIOZJfK9bZI5h6I7PgtqJMhuovbivkDbKVKX5ph/+yZ//89l3qnYxCxFGPqoMGAwXJ+UMqNfn1AYGjQb26ysNtlpFZn5+U95/59/zgezaRYSGscRoMzQgZXDjqajxBBta1PkZpfJVJcxZ2Kx0sXpr9BeX+Xp/DQb/Vky81dYLmSY4vXWhxE6IKjvcvT7X7F64nNQepNUb5d8IUUxZuGMwzx5hgCtDUoZtIiTnJvn0ts3+OnfTfM/v+EQhkEkSh6GDHyNrxit7hoAEktoZNgjaJ2ysdZlv50gc3OO6/+0zHvzMS6nLZJxC2NLEoT4Q52aMBx150iBlCmyU8tkykuo8/Ve4Kgs9fQx4c4xn86niS1c5XIpzzyv93j63hhWUp5t5M8wiu9Vt+d7JdJ3j8rFtCEMIQgt4vkkN382w9XZOHNJi6wtsFJxsllJxonyBMzXCAAJKTBaoft9mtsN1u7X+P29Dg83Aw66Bh1zsNNp5q4WaOoKnpViuWxREl+hRfRlGINQIZ4X0K73OHzWYG3llEfrHo8aMagUuPW+xfyVGGlL4CiwgoD+aZu91Rqf/uaIT7d81puGnraIlVJMHwbseRJzM0m8Gvn+3yzRwSCMYtAO6NR7HG832Vw/5bOVHh+vG7LvTnHTcjGFROQHaUUQhLTrHrWDNturDVZXmtzZEmyGGd74qSBMWRQrMfKxOPlZwXU3QeWmwfN8vEaL2qMjPt3U3O9r+gODr8z4uPsTXsiY+MJni0aA395l9/Eqd+/U6KWWmH4nAfuHpE9OsMdEGPHCGocKNcEgxO95hEGfVr3J8Qkc2S5aCBxHIC0JUiPGZVY2AQT79OtbbLTjdPI2JX2MXbvLo50exi2QKVWpVAuUsjESUow4xTuaUc5EHIUF0rooEiQJ9084frTJwVEAy29Rnp2hnIidC7+/fnOSAUJUZ5ftlTXu3z2kpnLM/ew61l1DrN3FZYz0vwCMRiuN3/cI+j08r0a7ucfeUQpHOVhWDDueiE6cRm3rRYwBsU2recROC078BFdlDY7usV63eKoTJEtVSpUCpXyCjCtGX8YzjCAIBMKSyM9pbml085TDT1c5aaXQ05cpLCxSTaVIjD7yMBKEFFiEGK/JwcYxD++0OOw4zP/iEu7gFBmziOlIqHKks815ukKk9mJ0tD4FA58g6NNttzk+sDgRDjE3arsac6OMLIEek8MbDxMe0Gvts9vSHPsxpmlh1+6xWRPsaxc3V6E0XaFaSJCxx0En6nl9ghQS+QXFe9Nt0ni4wfGJJixdIrtwmWouS3zEPVhHw9kYUSjvhPruGn/470+pF99k6v0KJAWxjoeFwuhRT5SfxyhD6Cn8TkA46NNptqnX4xzXHHwlcGMSx47qQixlRp4VbIQFJsR4XbxWi71Tw2nokDIB8dYh+48NdWXjZtLkZrJcKlvEhhEFi1F7B+JcoBjL+rzo/V6D1voOR3sdvPxNphYuUy3mSDPqeeBvgDM/OzoHiwodiEolzbBkEiOGgf1v+/hfvUp+H9UpBjDCxk3HqS7muLycYDktKWCiQzSLYcbri+8ZISKNIB36NA9brH5a55MHXTaCFPKay+28xbztc7TW5uhZwJ2cS1/aIBKUqtFyrF40mIalt1YYQq/F8XqTe3ebfPqow8HpgLoHe12JK0OmT0N8wNgC6StMs0Vjs86jhy1+tSpxLlV4+x2HPD28ZshBrcVnv7Eo2JBJpnHKFgljkPrFY1xIEEahvD77jxs8vtPgwUaHZ13N7omiseMTXvI47Rs6SkZBYO3BaZ37f25x50GHp3tdml7AVsPhyI9RaQS0+xrPgLYt4uk4VTdGQUoIfIIjOGidcnga8ExBb9gpbsKrw3gEl0zkaKD2aO2vsLa2x4NalfTVK9wuSAK3y8H+IWgd/em4eGMyikgrTxG2WnTqWzz6YxsO0qxW47jpDMX5IjPTaaZyNikx6uDY8NmNhs4xXmuPeqioHe9j3/096uhTVHtAq58gOXONhTdv8+ab17g+k6YYj2ppxw+DVqccb27y4O4ez2o58r+4QmU6Tybuvr5deIyGsE5v/z7r64c8OM6hlpZ5/8eLdOtP2LvXijLTRm3nBQwyMttTqNY+7aMPOQl9/vU4zXwpS6owRXFuicXlOWazzniIkJ/ROcTrH9P0Ohycdknd+wPBts0DP6Dbi+GWLzN38x3eeOsatxbzVF2DNaaBGhM0aB5s8OGfttjt3iZ+ZYbqQoVMwh5bm18qIupOZPwug4N9nj1t8ejQZTBV5CcfFDj+zKExANS4dFmLEETaBKGvUe0O/foORwPFr1oJdqZjxNNp0tNFLi0WmM4IUnYkZTh6Jy7AeDX8zhGnXpfjZgf96COc7kN0P2TQdxCZOaZvvcNb797ijYUCc2c1smN1e57JOQfUD7Z59MkOO40K1hvTVBYq5HMu1sijzCPg/CyxxuBkhb31J/zuaZ7U9Sv8aDlPt/2M4ycevhq1v3SRqG25NgYdaMJOj8HxDrW+z+86O/RWXZRMUlooMzebZSrvkndH2xlYEAXF0RrT7+O327QDn3rLp7O2T1I02PAVg56AZJbS8jS33p/n+kyCqZQgbhlGquf9VwmobW+z9mCXtb0AlqapXK5SzEdK3mM1BbxiRNXU0YFEpxfS6Yb0fENoJNK1iKdsUgmLREwSk98id1xGlRAv/j8arb5FkOlCWXrUQRpsV+ImHJIZh1RaktY6ykA03+TxBZYIUb5Hfb/LkycDVrYF4btlbv68xE+vurwTNlj/twG/+rjH79c7hG6SatbhnWmb+Nc5xxUSIVSURuUP6J722T8asHtq8KVFqijJSImRUX6AEQJhCbQK8I9anGw0eLqreGIX+V9+Msd//qnNlcEJu58c8v/9rsNnjxQrS3Eqi3FyeZspWxATGmm+2jSBQQpDGIa0630O9noc1hXdTAynCPkdn6QAiUEj0EOtR3o9jg77bB8G1D1BPOuQNjbt0+hwVSuDNpESsWVH2fyua2GFBr9r045bJJwAWzIemf4TvhFjEVwywkDYR+8/5mj1AesHXU6q73P96hJXUgfUDzQ7ymAhxyBl/wLGYKSDsGwcHWC3Dti/X+P0seR+0sUtl5l5c5Hb787x9rUsy4VoUH2jrgQvA61h0CbsHOKrY/b2DSftIw6nEiTigtbuIf2Hj1nZa3MQpHCdJZLTMZxxyzc2gBiAv8PR0SGP9qBGiSu3qsxU4sRf564h2kc3Njla+YSNox5Hube4fOUqP1lSrKU121piIRh1TtrnERjLRVhxXDzs5hO26yf8dgPSyRSJymWmbnzAO36Mn9+scqVgnVs/2mnBQLcF/Rq+d8TJiU/vwyblaoKEE9JrtOipBzzaabPnxZDJLMVZOaaBzwHGP6B1ssPdZ5LebJmZxQqX5pPE4mfdUV4zhid3QaPF8co2m4cD9tPTTF+Z4qeLNn9OCk4HGmWGDu2o7b2AFhJj2dhoZLvG6UmXj7cFTxIObi5H5doib/zE5oNrSRaLDgnbfPd2Mt8VpaDfQfdqBMERJyd9DtoNTk8yxESA1+sy8BI83K6xF6TRbobSok1cjFOZLMOoQghih8bJHo92NKd2icpCmUsLKTKpKGQxRhb/AEQBI2EUYWObxvpdnq5vs174Gf909S3eWzhl666kDmgjGZv30ww/SQGWhZQGt1tj76TFnV2HvU8stJuhenuZW+8u8O6NPImpSBzbjKSaY9j1RkpEaNB+gO51CIIOtZqi3+jR77jE4xB0I002++kpByaF+cAmczlGOgGBNz7hvQgF7HNUO2D9wOfAy1OarbBwKUkuM2rbXmGMActC6BB6PU6326xvdHiy0WPv1NCWDnYhyfxShmtXUlyZi1NJQWwofvOiu8QYM1wbBYbhoebZoDBf+H5YSyr+4h+/OVF5uI5a3g+DSeasguTr3trDzquEIXrg0W75HHUFXSfB4nyC60tpluZsck2fK9dTHLRD7jzxGRz0aBzHaGkHKcHiBcFyozFGoLAQTorCkst7uTJXfh5Ap0XzsM3vHsDmwOCHkeavkBrlK1r7Ho3dgJ6JkX2nzOK1FIvZkEw3xHR8+s0+3a5iu+Gx2VAsVAyFlCEuX3wdjImCQMKOUVyu8mYyx+VAYSVCDtaa/Ga9TR9AabTRw25xLiaR5+pPi+RuKfC62J0GH30W8KtHUemiGr4N8oIBZzE4M4wSns2d4zYLTXgxYxFcEsag/FP2V9d5fG+PvW6B0k/f5+obSRZbdZQJCBFIhlolo97gnN3tyqBjSeJTVWavC94pQEsJxKBH0O7RONhltafpD6LSk+J7ObIYrOFQGd2AMeB7hP0W/qBB357Bnb5B9Z1lbk7ZWOv/ndWNOutb9/nso0tcnc4xX6iQccZsOywA1cE0Vzg+2uNpJ0u/ushbC2mmMoL4a6vsaFDBKbWtDe5/vMNBd57MrXe4/qMFlrMrHBMOO6pEabhjcyogJMSyuNM3mH8D3skOqAQxXL+Bd1qjtX+ftUaPetchbv+E/HvTlKzRTwcABD6638T3mngyjVO6RvX2NW6WA9yDO2ys7vB49yGPP5lmtlrhzWqVqjVm4wmAU4LmBqf7Gzxql5CZORZncyyWBAkrqtN/3caTJTXG79I8rPP4Tp2DVobktWkuv1flcqLGfSs6LdBRkeEY6P8Q6S0BwnFxSmWq1zxuZTWFgUQqD9Pt0a4fsnUnpNYRJJ1Fkuk8M66FpdRonTmjEcEA1W8RDJr0RQxZXqby1htcK/rET1c52Njg4cFDVj5aZqpU5q2ZWWZi43ZrGjB9aD3hdH+b9VYK79IM89M5Fos22bPx9FpxJsXa4XRnk7VPN1jd9Mn++GdcvX2JZXGPlh2JFSmGui9jMcEP9f5sF6dQpHRlgVtpQ34gUH6I6/eonxzy7CNotzWCRQqFMtUYOCPpQDN0Us9aSYUK5XkEgz4D46DzBXI3qlybtkl3jqltHLF2dMSjj/aZK8VYrBYpZB2EF47Xxs540HnMydEe2y2btjPLmzNFlkoWuXFcTl8hbBkwqHfZX6mx8qTFyq7P5qkhFKAJkT2FbUmSaYdMwSWZsHDsSOPqK7vISoEINWF3QLfp0ewoTgZRcGEok3SOEQIlLOIJh2zeoZC3SDlRV7RvdCN+ofTueWDpws/f4OHAgFYYXzHwFD0tCVyXQt6lmrfIpyxk3yY3FaM65ZB4GNBp+XS7iq4WpIV58WGiGZayC4lx46SnUlyeljh4mMOQLfo8WtfsemfnPwKBRgWK9mnIacMQSofC5TSzJUNKDTg6CHi6q2m2NSUrwPcCal1NYwB+QoD14uiNMQJjJDgumekYibLBsUNiusNat8fdWKSSKC4EBrEcSKWZyyWYFYpYzybY6XO4HZKyOe+m+7n3R5sLH6DF82DTeK3rE74OYxBcUmhVZ3CywpOHz7i3EXCSLPH2jSKVXABHA7qtPr42WIFP4EEQAi6jDRxog1EKkUyTWVpgOT9FNrQQjo3tNelt77Ly6Q5/erLPVmiTLqdYfrPINVeRHkbuR7Zom0jBTgcBni+Iz1znyj/+C//wv/6IX+RDEscWH/377/lvf6jzZG2F7f1Fjq9nmU4nxy/botdmsP6Qo70ah/Y08alr3CjHKLtD4eHXblbSoE/x6+tsPX7MxysBtekiV66UmJ9x0Cddul0PX2ucwCcIFKEC7DGIGkiJTBRJLb7Ptex1Cr6F78SJB4d0Nj/l8Z3P+OO9J6z9NsbdpWkWb04Ty0Bm9JaDCQk8Hz+wcIrzXP6f/jf+4R/f4hdzPZzjaZ7+5t/4v3/d5PHTxzxbv8LxL8pkscau4x3tBv7OOkdbW+zFFrgytcBiKcO0K4hLM/rr/IMy1NEJBvi1Y/bXD7jzOOAkn2B2Ic3CrIPX9AkGGqU0KlSEQRC1y3bEUHD+hzcZwKiog4xw48RnZ1h0cqRDC9+ycMM+weE+z+5v8+fPjnn8R4uHV/NULmXJphxKQuGPekepNTrw8X1w85eY+dk/8/f/9T1+XDUU6p9ycOdX/F//usWfNlbYerLE0S+nKbiShBiDuWCIwSAGXXj2iMOdfQ5klXT5MnOFPHMJSZKhIsBrhQEzQLdX2F5/zKcP26yeFrn6X6vMlBzY6eN1BvihQoU+oR/gB3GM/LYCL9+T1SbSWzJWjNj0NHM/TuCEDr5lYasBun7C3r1V/v1Px+x/KnhQSrH4VpmUIygJMwIR5AvCoMZghnqGgaexc1kq71zlx//lJn+3ZDPXfsbuR4L/99fH/OvaAfs38xy9nWOOOAnGLLgUDGB7hZO9I45VhrB0mblKkUuuRXrUtr2yCIRRyKDP6U6dT35/zN1Nn30ZQ05nuTxtkdYhuqMRtoIwpBcY+gqylkSg/3p8QoAQBq1C/HqXxtNTHm/1+ewEfD0UDD/7z1EaCwOZpDCV5uqNNLficdy4wBEG85URrC9/7os2fbFg5Bt7vObsUQxaRFnKnGlQDT8EYLRGBAodKPxQMzBR8M39iof+vN0CHAfXtkk4AkeHhE2JbQmk0edBmbPrrsKQbs/Q8UAlLHJFm5Tq0j1o8mRXsdJw8Y3L1WxITRp6fvS3gTIYh6+ZGiRAWCRTw6xNC+hZ2AikEOcJZ9GHiU4E4jFSCRdXhAgh6TtgDZNRv2wqNxe+0WePM+GVZfTBJe2hm9s01z5kdX2Lx7UYg5hDrPWM2tM2O2tbrB2c0vL7hLU96gdHHMcL5PM2cQe+TvXuy8KEIJIJUnMx4jOGGcvGcmwSooe/HCfnKGqHuzxpNjjea7LVMswXIGtHJ5Yj1bYQBiMclKhQnLrMtZvXuP3mNEsAc+9wdW+X+w+e8GzvgE6rQcsPGQCpEZr8nOfLQtCuc/jgKQcHA7ziAtXla8ylLFIjFyEfEVphmnu0n95h49EDHtTjWEXJ9c4uve0DHj59ysZhk6YfkKjtUz+oUcs4VAoOyeHqN8rWwzKeJTl3nblpmLVcZMwhZlr4V3NU05Je7c8c3ltnf/+AZ03NpZQkPRY6bAaNi7BLZAqXuXHrGm++Mc/lpILpHnZjg7l7D9jaPqFbP+E01HgwRsGlaEyFjQYna1vsbTTwZv6BwvwiU7kkueEh1+iv8w/IsL297nbpPNtl5/E+j+oSkxQs9FqE+wMe7tfZbfic9gSy2aV53OI4myYlbZIOWGIkIabo8EMAboxktcx00VC1HSxb4ggPWilm8oZuY5PtPx5xfNhhpxmyUI5TcRhxaZwGodE4aFEgVVjk6o0bvPXWEjcssKY8smqHxY+P+OzuEf36IQ1f00cSg/E5ADGCsN/k+NEGu9tN+vnbzC4sUclnyQ2zFl+n4QRRwM14HXrrf2bzySMeHHpsygy3uuCjUAAAIABJREFUBlu0NwUrq5usH55S7w0IGoecHh5yWHLIFV1ysWg8jfJAUTgxEuUCTi5HyXKQjoVDiOlmuVIJONhcpfusQX3/lKenissZm7ITZWf88ENKXBCgAYREiyTJbIH5y2VuvlFleVpSHfRJdI55stYh/VkTr9Wl2Vd0ESQF37Cr1MtF+23qj9Y53OvRjS2RWrzCVKlA1h6bUf9qMXT2jNbQaXGyfcqd1QGrnTjJq3luvFfi/csOpdAnqA3oaonJ26TtyB/Q+sU6g0IKhNGonkev1uVkp8P6vsBTQ6HsqHYt+hCSntBUlUNuOkEvGO6Tvgdn/ovTxjeZRgxEkRHHwnUkMaEQgc9py+ekpWjnJfkwpHHscbjr0em6hCmNEeY8q+vrJV8NS/CsSIJAaCBQBL7G8zVBlEA5vBxRFqjRGl8ZPCUxliQRU3S2WuycNHnasjnNpElNaeYGbQJhUL7BC6JSt0jp9EVz01kQLXpeG0AbvIGm5+nnQuUX36OhHpQwBtQw48vXeOFQ2PxrnRW8bqvj3xajDy6FPrpeo/10nXq9TiMs4/VOOfjw13SdHvWdLTa3Tzjp+qTWH/BsqsqUc5OMU2Q+K6MI6qgwYLkuTlycB7mUEsQSaVLJaS53uly716TxVOMNPGpdTZC7MKhGpvRowHKw3Qx2LEcqmWXK0WRCUJbGEil0IkcsGSctA4QKCJQiGJG5X44BenSax6w+OmH/NE3qxgJzNxfJOtaw9PA1nJyMImzWaG895WRvl4Z1DadT5/DOH3nwzKdxtMfqQYOTria+8ZCtaoXVRJysU2Y5L6KThdEYHi1gjovruF845cmTmHmDS283efPxLiurTwn7PWpdTd+XGJfRv9WWRDgZ7FiCrCwym1CkjEITQmjjJ3K4yRhJR2HrAb6OnI6xuUsNIEKa9WOerp3wdMeQefcKU0sz5FMJbBGlR4+FrT8E56drBtUb0N6pU9trcCpLiF6Pk5Vtnhxr2o02ayddakGIvXdMai3Pk8Q8cTvBpZyNPdSpG8khnBFIx8GKucSGrq0xIKRFLF1hQfe5utLk0t1ddODT6mv6oUGOXFtPYGwbnAx2TJGVBapJSTpUGEuDEnixHLF0kpQTYGsPXxsCxmcTDIDxGHSOWH94yO4huMsLVJdnKeRSOK/lycfwUM3r0Vl7Qn1/j3qQo+kENO78lntbitbeNms7NQ7aPmJ7lZ3HC6ykE2TsCm7BIeWOdr6Ulo3tOsQtcd6TXQgbmSySTS9x48ohuydtmr5Po6vwAgsxkvF04QYTBiElwnaRsTQZUpRikpwYEA4EPc/Qs2M42Tgpp480mkAbfDPKo9svw8PvH7P26IDdE5DT00xdu0S5lEFa42XpK4OMApA6DPF26hzvd9m3s7jXCrz90yL/8ss0cylJwmhUYJ43VBIiyjoyEH7VpTdR4MogsJIxkqUU1QWLa2mBrw1SXLxToy5uHkkKUzGmczZJa3ioNWodQCPAtrHjMdJpl4KjcXo9dnc9Cjt9qvGAgt9nc7XLo/s9ThoWbsUg7O8wX2nQ8rk+lBSSL+ZfCQzGCLSOStMgQIYD1u60OKr1CZbLzL8fJ70H6XttNpTC+BqlI/HtbypoZIAQjW2Gmk8XssO+9HUOkyikEa+duuDrzuiDS1homQS3RC59QjHW5qi1ztpDsEWfTqNBrXFKo+fTWfkUK1shlZ2iXCxSTTPa4BIMVTbE8JAoSgcUwgzT+hV+aFBIpCVxHYEYecc4QFiQyGCliiREE2kUWmtCDVgC8FChT6A0gbQiwXJLjM+JMBAlmu7RbDzls+2QI5VnammKG1eTxK3XrXzn82gZBydPKpllOtmm3t5gc1VwbHv0O00OGk0abR/55A52pkwyO0OxXGahMExTHqnxkTByJKJ4pl9jQAUE/ZAg1ITaxrYtXFswNgeWqTx2KkvMbuGokFDroT8ULccm8FHaYLARlo0txkQr6hwNbNI43WZ1r89GJ8/ClSpLCymy45GuOAKie08LgXCSJJJJqkmfRq/B7oaktafw+x6HnYBmP0BuHmGyKZL5AuV8jGrGkLjofY3kJUThSyEj0Qk5bL0sUKhQEyqNryQxGbVQHwsZMMuGWBYnmSNudXGUwqCfl5IbhQl9wtAQ4oJlY4tofRqfed/HmAO6zU3ubw/Y6ueoLFS4vJgml5VjoiM0AoTBSIlxK6TSe5RTHo3+Fk9XbY7iAb3TOgf1U+rtAWzcx2TLJAvzTJUKFNMuyREHlzjXGD/bXA3LgnRU+uOFhlAP/T1bYskRy9HqSMNFOA52Ik7c6mKHkcBxKCVYEmkMQmt0aAiwEFJiS3DMOHW/DIET/NOnPHzWY9+vkKhUWF7OUcwzPn7AK8bZAQra0D/x6bUMKukSL8XJF11KSUnaFVjaQslhcImhJs7XFMMxJtKctbNxspdyLGXTxHsi8vM4KysjKt+UAiVsEqk4pbJNLiawz3R8RoWJXrc2NrgJynMZbr/RxRs0ufvZJr9e2ePDtMVcUhN2PQ50gp7jknEskjKS5/j2s4D5ku+e/8aY5ylFIlSoepv26j6fHkHRLnCzmuX6tCAZSOrDMaI4l3d6qZd1qCCFNM9//os/mPA3y8iDS0bYyMw02as/45aYw73mUQssYjIE1aS+s8nGYEC3LYlNLVCem2OmmKSYENijdNCMRhqPViOg/T/Ye+/nOJIsz/Pj7iFTIqEBgqAsFskSLNnVNT2qZ3rnds/s7M7u7zy7s9uznb3ZsRuxOzM7syO6q7sUJUgCIAEQMmVI9/vBIwGQpUgWiQx056esSIhk5gsPDxfP3/u+PmjpUm361GsSNx7Qe/yEh7e3WN3KaJsm080qi3Vb3lUPc1NPnGImkC7U5qlMLjLv3mdjb421jQMetOHMdE64fp+DlTU293P6/hRhtUHdccqTwmMAk8DuHdqrt7jVrtGZXObqmSZX5sBV4ndQKLVAKGR1lvr5D7jyaZ10R7MXC6RIUaZDd2cdsdcm6g5wZ5aYXlhgYbrGdGDTCEcn2Jxh8gGDbo/ddk4uAyqNJpMNF4c+2fY9ntz7ijsP93miZrk80WKxKam6HE5eo0NA4wyV5jRT/harW2s8XN1n7ZpgqQq1rUfs3XvI5nbKgZpgpjFJU0lCyrQZ1rD/NXvrD1jZE2x6y/x8eZLlaZeaWyyOymPs68fYwwJhQPgVKkuLnPvQ5ffPGfZi66hxRELc75BvdNBGYlp1JuYnWGh5NMPhxnI0CDQmS4gHKQddTWIcqs0KjYaDT0JvZ4+N24958LDPjmzwRj1ktq6oefYUdKQIH1GdJZyYYTp8wOrWYzZWN7i/f53ZuZSJ/SccrKzwaLNL25lnpj5N0xWElMhhq3uYg/u0125xe8dh113i/YUZzk+7TAQlsvPEEQinRrD8EZeyabKlHpf6EkcYAr/PweMHqHaHNBLkUwtMLSxxZqbOVEXaQyMzqtMPjdApUTel09P0MkVtIqBRc/Flhj44YOfmGiuPInbykEatykJTUnF/uAL5a8Voe+AZVvGaTSYrT3A3D9jbPODhRsy8IwkPOuyu7vForUfXn8SphtR8RUWalxA+fk3oGLoP6Kx9za0dxYE7z6W5GS7OerS84kx0zEtgnaTGGNJIk8ZgHIUMHHxf4iuBLMJuzTF9pBdaDxRRzybNyfop3f2E7a6w6VFi+BJzqD2f4FPNFUHNIdXY9C05agcTZFogHI/6XI3L70yQG0P/iwG3NyP29wUPGorWhMSfVLiZTxC4BK4iEHaj/XIOJnnkPHqmvYUUKAG5EniuQOYp8V7O9u02iTtJc6nF7NkqF2oxxjNsa4GRAuUYpCoC0F5qcLIxSLKooje8bxQpjmKoq2QKXarieymHKZAcXpMsrktKMHlJxpoxr4TROpcMoDxUY46JN37C9YVrLEcZg1xg0MjsCRtf/ivNKKa/t0/lvT/gxicf8pNzE5xtCLyRrdBsBJLKeuxvHLCymtDJPJoLNRZmAyrJHvt3Vvn8V1s86Dpks5PMLU5wrm5Ldw4rF4wM4UBwhsrsBd6c/zs67VVWb93kV/MtZi9luJ99xldfPebxYBLnzAWmp6aZ8DxGni1RYDCIbEC8eocnKw94IueRs5c4OznBsms79cjWoKNieDogFLI2S/1CwJWZy8xFOVFqbO0dfUD/0a/xHm8z6A4IbvyMdz65wfuXprjQsFolo0vTStH5Hu3tNe7eanOQhlRnZ1lamqCePqJ9+1/47F+/4tZGTjJ3lcUzi1ysC2qMUiNqiABxnonpJZanb7K69YgHX33FrxdbNA8imitf8MXnq6z1GpiZs0wvnmHaUfijNvsYJk/h/k12Vh/xJG2Qzlzn4kyNxYo8dCqPvJlPmqLEsgwq1C6c5dLcHPOJIckL0U76RHsb6Ju7CM/DvLHEGx9d4OM3alycUISO3dud/FBv5yeRD+jvH/Dwbp+NtktjvsHCQkCVPoOHq9z8l0fc3UgZzJ5lbr7G2aai6Rqy+MQNfgYP4SxQm1rm3Nyvefhkg43bX/Lr3yxR3Rkw9fgLbn+2woNdgZ45z9SZM8z4Vm+pNH007pNs3Gd7ZYWNbIJs/hJn5losVRXV0kUtnhwGgfCqVM6/x8WZN5geJPRTyHODF3TZvvVLKjsH6KhDdPUjrv7kJ/z02iznJxyqzogmdWEPq6SOiA4OWFvp8/CJoHmmyeycT0PFJI8fce/vH3DniaE3McmFhRYXmoqqY0Y0BhSY3EYuhTX8yRZn5xzub3XZX9vky89aNLsu+3sbrH6xw8pGhp6dojlTZzJUVMSoc5GOkQ3IN+6zc+82j9I6evYCszNzLNcUNVEinbXTSNE5pbJrKZ2BzgxZZqymUuG5G5aFH4o2Wy2uH34mhRRok5Pu99m9t8vtu33+cdMQ58ecEVog0Rgh6IsqM0tN3sGh2nKp1cD/ZkbYyWNs2p5TDZm6MM3VSgVnPuLyds5BbBAqp5q32dzN2M9c3LqP5ynq0uC+VACzTT1EHnfiHItUEvYLx5EErsAXmrSbs7UmOPNByKW3alw85zLVi9iONZ1EIKS0Di/XvvfL6GYLOHIYPS20hFBD+45EhYXARnkO/+3hn08nyo06yHvMq2XkkUtCKFRQIwxqhNMw+9Rv95gVHfp317h736N+9QZXri9ytQbhiOw9wiDJSdoHbN3d5f5Giq4GNKdcvKhDZ32H1ccZUWuOM9cXuHK5waJv8DJb9WC0D5ECZqnOvsF7Hyyx/esdfnPnH/i3zkPSZUF683MebkmSyfOcf/cqF85MMRGUxLVkADR50mf34WO2HnUx0+eZuniJpYkGU5RogzECBBLlVwn9KuHUAlNP/XaAmUt49Hef8WCzT/XaDa5cv8gbU4rWiOw9jjYRaecxW7dvcWutT+zXaM038JNNOmt3WV/vshdeZPm9j7h2aYGzvh0HRj4hCYA5puYuc/X6TXb2v+C/3vtHPkvXOWilBNt3ePggo9dcZuntN7lyeZYJp1x6Fkb32bm/xvZWTFa7QOvSdc62QibV7/rCXSBcD3+6Qs1VLDoCJRVKaBQdehuGmzNV9twK4vwc564ucH0+pyUz4hTSUXROYbXTNDlZr8vuw01u3o7RlYDalEtIzGBjm421ATvOJGffWebyuQZnaoKq0YfpCqPDQTBNffoSb761zNb+52w/+iWf/ec2BxMRlfYq26tddsIrnHv3KlffXGTKs9EvZUEPBnTXtthePSBpvkfr4hWWpieYUi9QNei3EIFAOD7+5CL+JEw+9duUeS/i4Fdf8ninRnT5LS6/dZW3zwoaI7LXUmyGhCYbdNhb2+Lu532yr0PCCZeqk5Lv7rL2VZf9yhKzV5e4cnWS5ZqhIkflYC4wBo0Cp0LQnOTStSke7zzi17sb3PrbjPhrRaO3y956xIZpcPadBc5faDJblfhZTjQqu5/BJD3ajzbZerhLUn+L5vmLzM9NM+06pTqkOW2YoRaOFHgNj6AaIx/FxHsxBwcpu4lP1RP4RmPSnCSHXICR0uol/ZBjr4h2Ehp0lBHt9dl+3OH+uiDK7b8VksJZZTBIulIx8ALmOyn9TNsy94XPYrRRgPZ/jYNs1Jmq15i8ItBCkmcp+qDD3q8iftlN+GLSJZz2qDRcqsqgjE3sfJE1n8GgMyAz5Jkhy43VSsrt/1lqSLEOI78iqAQCjGK/G/DJXIUP3vS4OK0xnYTdbsrjvkQoRSOU1AKBq8xQcusFjDKY3JBrTZZp0swKeue5Ic81aWrIMmu7dVwZZGYQh9cAmuI9Mk2aGVIpUSdfTnPMa2bkzqXvJkdnfRItIKzTnNNURQx96IcQjnzHozBehXpF0cj26d9e51d3O2x2MxLl4U1NM3/1PB/98RU+/ckC7yxXqMQ5OaN3wFtcwtZlPvpf/wNJ+Jd0/+Kf+Lv/+H/yPxKXKLjE8vt/zE8//SP+9E+v8M5SlbpXkq2wMKAz8rTP9q6kHc+yeO0KF95eZmqqVqoN+8j41vCjFJ136cRApcnETIAvEsQgJUsVow9L81GiQSXwaZrH9G//C//01SNW2ymxCvEmz7N47RPe/6Nf8Gf/0yd8tFSlZgxm9GFLh9TPXuHazzsIP+HJ//Xf+If/5//m79qKtH6B+eu/xyef/AF/8vO3+embVfzSzKRWBNLoLptbkr6eZur8Rc5+eJG5Wvg7vRE+xBhMkpIkKQmAkAihUSZi0AXVqFDHB0+jopheJAhG2nAGhEK4Pr7v0BA98rUH/NutA9YPcmKhcCYmmLq4zDu//yZ//KcXuLHoMqlApHk5eqZUVGYvcO2P/hi8nIP/+Df81X/6c/6pLYir55i69BEf/7s/4c/+/bt8cqVGVZVrcZokCTv7sB9NMnv5DebeucDCVBV3hKmS5WU4YfVJ0Yhqk9q0xPcFKo4ZpAE151hKxSjsE2AcHz/wqYkB4vFdfnWrw9pewkA4eM0mtTPLfPjvrvJ7P1vixoUaLWN3lKPtlgadaYxycGtNLv/0EpnQJH99j7/9+zv8vweavt+keW6Ztz59k1/82QLvn68y6UMelWOlCpAmKXv7ht3OBNMXr7Bw7RxLC00CJQsZ6DEvhQYjBNJxqC1UmJjqU/lVh8erkrtzDl9eCWnUXGZMjtnvs9vJ6SgXUwuYqErqrnWWf2eMmwGdG4yjCBZbLHkef/RGxqU+ZPqZZ9rYEmKJcKnVA2bnPRbqCt8YTPZyVVcPI62wTt7Dr3mZKH3rMslSTTowGKHwJ12qdWAQ03vUZ+WrPl/ezZEXPWbOh8zMu3i6SBF7gc8B60DKE03cT+m0Mw76OXGiyZKcpJ/Q3ovZC3z8VOLXJRPzLo09CYOQ1mTImZaiJgd0uz22djNuH7hUXYeZhmKqIvAdgXluXTUDRqB1hkky8iyme5Bx0MtJ8pwszYn7Kb12SltJJkKD8gRZlJNEKbqdst/R9CJNmuTEUUq/m9Bue4QVhZYST1qHxJHua4km9DEvzGidS9/5tA1FSBs0lt7l7V8sMPt+grq4wEwNqiOfSUwh0xtSW1zk6h+FNC9f4MZOQjfJyISHW63SmJ3gzPkWi/M+DceQ67I4looGVFXU4se8+fNp/HO/z0eP9tlLJHkwQ2vxPMuXllleqNLyZHmiF4wA4eBUZlj45H/hZ+d7vNW6RGOuyZn672qyAT8wcxmMkQhZI2y9yY3/UGXh0wx1bonppktDMsp8uAKJdJpUF97h+s8bNC//jA+fHLDXz8mlh6pN05w9w5nz57h4pkLLA0pTvaywwmsSLNzg4u+1+N8mP+aDzV12IknuT9OYO8fyxbOcW2owLbDaIaVAAArhtJj/9H/n965nvB3O481OMFORyNF3jPJhNMZocuOhKpO8/e/fYylxYKpBc0ITSkFuRhjjbYwtziB8gul5zv/Ew5s7y9vbEfuRIUcgKyG1qRbzyy3OnfFo+QKBGb3eUoFA2Gpxs2+z/EmD/3nyPa7+Ypu9gSDzJ6lML7F08QIXl+vMKJCIUmmCqfo8Mx/8go8XP+ZCZZnq3DTLDVWq6KryEVCbepO3/qTG3IcZ+ew5WjMONTniEahIh9F4+K0Zzn3g4E0t8OZ2zH4/I0XhhAH+RIulS5MsLYZMB5Rnb2RstDzSRbbmWPrA5Q8nFzj3kx67A0PiBoSTE8yfneLCks+UZ5DGkJXFfkCG00y+8ye8P32DBf8stfk55qccfAXj+elHYOyAL6REzDaZWU64Pr+H2e6wf1Pz38SA3SWXps7I9hNix8efrzFz3ieoCprSZkB9bwJlDkIp3MkqU5NVJg1c+y5zgGGm3eFd1S8xth/XtRUSIUGpIvXPPJW19fwogcg1ph/RftjjyVbMllQkUpDHMclGhy9XYFPVOHOuxvXzHstTEqH1sJmfCytTlDHoJGyt9Xh074DH6/usPOpz55HmST8nUZq//68ZDy9OMFtTLFZrTF2IONeJmPqizdbNJ/z3wOWh7rJz74B/W8t51Gzw4UzI2UnJTGDwChGoH4xcKm6GyDXZXp/9jQ6bG13ubEV8+VWXh92MwUabzm88siilM13lrWWPK+cV0XbE/sMOm6v7bGx2+NW9mO09xWDF8EUQo9OYxTN1zs0GnJ10ma7aFGQlQRUVCYfbkzGnixJHLgmQVSqtgMX6PPM5CM8tOt2obbNo4+C3plhstpi7akMWjS6eRSERSqKUTVEQWpfEsXQM4WD8eaYuTNFYusG1LLcie9JBOh6e5+A4tppICYRtLMKAkUhvgtblG9QuaBAuwlEoaReBJbG0RAiEkBjj41XmOHNtinkNwvEQStnnqQyNpgL8+hnmr84xfSnjrTwn07bvCaFQrovreraqFZTD5qfwEP4s9bOTvDX7FlfyjCwHIR2U8nA8B9dVh5pg5UEhVJ3WG+9TNwYtHITj4inGT9N3ImzlP7/B0o0ai1ogpNWXKKL8R9pydjHr4lYbzFyqMX3e8FYRko4p0hqkQDkKpQTCGJ6z+M/JIAAUeNPUFye4OnOVS2lGrsFIZfun6+G48nARUxrbASdoMHHuOrUzhnPKsSXspXWCjXmWYZu4eNU5Fq5OMasBx0FKhVOSJjM4OJU60xdrTC6f4aoBrQvnu7AbdOVIHFVUBS7VjqiIPPCqVBdD3phZ4PwHkBuDkLYyqx0L7IGCKFcgICpoUF++RmUh58zh8yRKsxc41RRVrqk0mblg+NnHmuoXB/z64Q63/79tbqvisMQNmbvU4mqlygTgKusEMPkPi1Xb1DvrZFKK76+Waaznx+hhitWL8VQw1PBnQiCltLo+xXZGGGPFwnmO7Y0AKYXd3yUJg40d7v9yl39Yy7jXhm6uqIUu3nSDs1cmef9KjevzDosB6BcQqrZ2ahSapN3j0a0d/vkfd7mz0efxwLDThyTPaT+O+ce/GXD7ieDy9Ra/v9Rg6VLO9c4O177aYf1/dPk/Ple4UYJODXG9iX9tmnMXapyfcJhUBrdwLD2XbUIAGel+j91b23zx+R7//VHOnR1N7ILuDujdfML+Vsza7CSDtM7sgkNnbY+7v9zlq68PeNDOeNQ1pDqnuxlxK4nY7mQsvu3QFx71BkwNNyPDdMpjN7JM49GYH6akzqVjgl9S4vnDnJ0ydS9ro1IuMjjmRBL2BNhog9GaPNPkua0QVybrgUKo0kF5DsoLy1MN7nsRhZAdSE89ZfM4xuL7sKKAKBdXuUdZcKVptGHuv8T1XdzvE1Io3YM0RCCEg3QcAif43uepFE1+DIFABeFTEYqlbeZSUCyAkHgVF4WB3JbzzkZt2hAhEFLh+gLHUahCGLQQjgCjydPc6iVQtvtdPCFCIVyF7/rfrq1SLqMPEVIhlYM/zit9ASRSSKTvjD5L+xsUa1KpUK7EqdlDGSGt+91ogzE5eWbHgLyk6z2MQLgOXqCoqsIhXoxdeW5I07yUa1UhJNL1Ue5Qs6xsFp52BJn0CSebXHzHoGoB9ZkesxsxBxEMhIOsVpk/V+PcrM9cRVIpQkqOZZt9PwZMltsDtx966Su4vQb7XOa5JotzokFGpASxNhhbyuz5U20NUDiJpO9RmaowfTbhrMgwbegbl8ZUyPSFCS5drvP2osdCaAh4saACY8BogRES5bnUJ0PmzzXIW1VmEORSILRBIcBxCGZczkwoGhMejZbgQiL4+YHhy+2cRz1B4jp4VZ+J5QmW3mry9nLAbGiLXxjzIpk0BpDIwCVsVZg6q7lYMdTOSUIH0BqNRDsBzoTPfEsROgpd85icr3ImVXgJLItCYyvRGMfFmQyZmFRM+gZHa/TAoLOcQaQZJJokL+lYOuYHKalz6TjPnACJcm3MjMnJkxwtBCkc2ndkc9lOsJ7FfI9XWJQmYOlbMaawe7gRGaEtp4bj/fF47Yay8EPPSxltPs73PU/YDf9JmvMiHD5PlCdSsfRo8lijhyHmozbnWYxGZ4Ik00VELcd0J36gr5aCH7LxlDxPZZ9LS8Oz672S3V9jNz9prk/tes9u8DX5sWWTORbCUFrzn3qeKN1e4PRiG1JrEL5LdWGCc7UqzfMplzoZ/dSQCoX0XKp1h1bdY6IiCMAKdb/ox73OOed4NrqxB/xRJ2bjYZsVnZBVBE1HIUOPWt1huqYInnMXrLWN/pOhT+PCNBcn69S7mk4MqVB4oUO9FdBquEyF2JTNl2gcbQDjEDQqLL7pUpmd4GpmSIVAKoEUGpNDbiSq6lFteszUJFUpCd6QfFwPWdqM2WobBijcus/ETMj8XMBsXVIt7HruccoAucAgcCaqTF51uL7UYj4WDBD4rkAYjc4hNwrhuTQnHJq+oL40Qa1RY/F6RmQkpkhP1Fmhl+rZ4BGPlHwr4t66JokTejtddtcT1vc1neTpM/AfipIbUw7K71wq2+LiOzDmaGY+VR1flH2z/t2I8Wr9BXnOEOARcvrv6SndRJ7icaAMvIoN5Wtr+8I4w6ux82QwgLaEAAAgAElEQVQ5vc/TaTR75JySdju1670h5sgJdlrsP/1rg5KjrayErPjUqwG1eVgsnE6miHhV2MgZ8TxaPSfNMXuEFDgKXCcn3e3z4LMtuvcU90KHajUgmJ/g/HKFD89JfFfgCKwkyA8iEL5DGLgEs3VmsenkRtjUcolNi5eFRMrLSqFoBE4QMFkJaJ2xmlOGo1QxG+FU6EcVaawgcVsuZ1tVppcSBgNDIhQqcAgCScUVVkNTv4Te1PD9awFuPaAuBAs2EBIpjtLqjTYIDMJY7SQx5dGYNiyIQjer0FDS2KhJYzJMP2LnQY8HtzrcWo3Y66X0BwmdjYjVtkvbF1Q8gecIG201diqfCsrvXBozZsyYMWNeMcNwfq2Pvj7x9XLxoUMNim+zwQC6WMkPJV5OGsGwjTSmWFCXTkNwzJgxY8b8CATaCGThnBHHRa2MgdxGj+W6pE5JjU0pUw6VusfcnMvjdkTv4T5dA+uegztRpxqFOPWAt5aKWoPiOSNixFBfzUYROVYLxf5LYzC5QWc/VgZlmIIrEA7FZ3zb64r7kUOeWweXQeC4iuqEotYc2mA14NDm5e/b8POL61bq2UOf4TfWeWVyQ5aZwsknnu5HAEaCo0EIzCAn6w7YfHDAzd90We9m9CVkMcSeS9D0ODPj0AwEYrzwODWMnUtjxowZM+Z3DgdbHEJJe3L53OKWr5JizaWK+rtKSCRWy0miUYBT/BzAiHwkp3aHnykkDhop7AntmDFjxoz5LUIbtDbolFMXImKMweAgKxVmzsMnfxpw5npCV0CaarSSyEqAPxdwYVoROlbYGyOef+43YDKDyQzJa2wfYwwmhSR5DpEq+w/AGNIIK55eVPIzxrx4pNJ3MewbCd9t0/CzBJjcpst98yU5ShqE0OjcwWtUWbisedcLOZsYYimtI6sSUpmoMLPgs9wSmNy8WErfmJExdi6NGTNmzJjfGWx4uT2ZDZWk4oAr5GEE0ygscpUtVBA7Am/o7JICVwoCJagoiQGyEa2qBBw6kyIl8aRECVHS4+sxY8aMGfOj+K5Q3pKfKuRIlB/SWvB5t9XkzUSTaU2ui5QqpZCeouJLqq5N33q+lLhn+Lb2KVK/XhmG774PQ47fD3P0t8nhW/w6r8Ym+P7F0vE2eOZ1w8vRwxc6Po05xRvNKmeva1IDubDrIalsJJbvKyq+oISVR8Z8B2Pn0pgxY8aM+Z3ALmoyoixlN9Y8HrhEmS1rPZLIpcIm5djF1MEgYjeO6WYZWarZTxIeDSL6gQQjSNN8JBpEw4/UGA7SjJ04pq8VOTnPlFUYM2bMmDGnFfHM36cOiVACvyaoTkob+nscY2weWWrIspc8UHrVTqRX9TknZdOLfNYzzsijSxqKMAmChqI2KcGR9vWHDqxCICoHnWmy/AU+d8xIGTuXxowZM2bMbzlDMXsbOn6QpvSzhIPUUHcdHCEwmNEcihlQjsQI6O8PeNCNeNRPyDJN2okQO20qaQYC8lSPTHNJIMiNoZNlPO6naOmwpNNDe071gaL4jq9Lzljk+DkYt9GYF2HcXX4LsOlbWWKQ6bf92owwUnnM0xh0DqnOkUVV26d/XYijj0hvcszL8cqcS6dpYfn0FuLoazOM1TNFXmfxQ6N5rZ3aAHK4QD8eAmmGOcSnmMOSJMfKS5yaCxqNoafqjp/m5Gdz+MepuQ5zPEZ6aPMrS6j/bcbY1C4hmQgaVL0J2smAx4nPbiZwClHOUbWkcBQCiCJ4ErscZA55luOkLquDCr5XQRjQ+WsJdH8+Gwvn0kDnJOQ0nToNt4Iv1Tdea07J82TRmOPP0EiU3V8cW/1vHDX2fRhjDsdHc3xhVfytjcZoDh3LGo1BHOu/J9yy5khQ5PhoNNwEm+IlWmuEGE1+khBFkw5DPYvKVWAd37ow9BQ8Qt/klDz7Y54DAzo3YwfSaaDYHubPzsPjie3U8qOcS8PwttM0FptnvzJP997Db4Ut76gRFHUeXxvD0pKH3wyLD4iiksEznLb5zxhzdHp4qjYdz7T9eJb6Vk7XRvIYhyfa5lSdbh+29tDmU2T7KBhuwg0GJRVXmxeoOlW6WYI2EimOgrRHhVIOQkDXaRM0PFQoybKUhfoSb0+9R63VAGPIR+pcgrwQBxXCUHdCztamqbnhN197WrqksH+Iw12yOVWLWnPoiOC1LwoOnR2naLgXx1ZL4lg+x9A3IoZlorAvE0aMeI0iClOeXvkJYey9NsauTUf4gNl2K9z1omjfYq1qhm14GM14ijrLkFNo8pjnYLh+L7lm1BieCrA4LXPxmKf5Uc4lXTgNHOWg5Ol4Yn3fJwhDPM/D832CMCDwPFzhUKlUCKsBWeYTVBXVugdGkJxAZIAs8kwzA5mr8GMPN4FqtYLnegCEQYCUEs91CfwApb55Ylw2pFKEYYjne7hFm4fVCo5T/oxMRylc10UIgdYns0wyxuA5LtVqtfQpD0II/CAgCOzzpLXG932UU/5+CaCkxHEclOPguS6O647apB/E8zwq1Qp+4OM5HkHgUwkDPM8btWk/iOM4+J6HlPLEHLVGazteBiFCCFwcLk+cY7lxhvxwk0RRinh0uwqBtJpL9QMamwZ/KyVOIq7MXeEXlz8h9MPCQTZaD7cxR444KQSuVLjCjuVKKRzPQbkOjuNawe+So6QirIT4QYDreQRBYL/3glGb9oM4jkMY2n59El13GEXtei6e75+KOdwPQirVGq7rkud2vgqDkEC6hNUQv+LjC4+woqjUParKOXSgjgKNIfQ8MFAJ+riORCmJpxyqXkjmZSRuih5htKoQEChF5AiCvkeUB4TVCkElxJEC3/fxPDsnBUGIf0r6CmCfp1Owrh7zEpyOLeoYGDuUfgt4+RFfWCEurTVpljCIIrTWDAaDV2jeq8VRLr1+n2gwIEkSlFQMBn26vS6Ein6/T9yPybKEgaPouQnGCFL9mnUuDFDomGUaeklG1E9I+wmDXp+B3ydwHfr9vm3vNCWOBkRFm9sTLW1rT5YIKSVxEjMo2jtNU5IkodPtWCeElNZBWUKEEBitGQz6GKPtAv51R7AJe+KXZBm9XhcpZGkP0azDTdPudIgGA9I0Jc9zBoMB/X6faq1GmiSjNvMZhqf8glq1Spqm1u4sZxDFRIMBQRiSxrF9eck2x0op2769PnEck6QxcRTT6/XodjpIpYpIhvId90ilMFoTxzHGaFAnY58QkixL6Pd7RFFEnudIYSudud+Iux1lmwmMMDiRwcsVjhbkWuFqSZAqPCmK1JPy3FeDITMJOSnKdYiiiCRJ0Jm9z3GaovOcfr+PKOnhk+u4DPoD4iQmTRKiJKHf69PtdPB83/ZVoEztDuC6Lv1+3667TmgOFUXsT5ZmDHo9er0eruMcRdOVbLyUUtLr9ej3+7Zf6pw4iun3ughHMIh7xP2YeJAwcCU9KTFOhjE2/XMUaGPIfY3Q0Ota3bXcGNI8ZxBHJFlOHGeY170m/R6EgExKeklC1E9JdEzkDBj4fXqOR7ffJY4HZElq23vQPxwDRhl5+X0IIfB8n/5ggNaHdazGjBkzZsxL8KOOE5SUGKPZ393j9q2b7O7sMRj0SrkhFkg8z+XJ5ib3V1bY2trCdz0qlQpCCiqTDe7tr7N+8BCdP8GvKmTtAA1kJ3BKVPgV0EA3zVnt9Njppdw9uEUwBQ2nxoMHK3S7XYwxrNy/z29+/WuklOR5Zk+ySra4cxyHJEm4c/s2j9bW2W+3MVrz1edfMjk1hVJ2sVG2/iKFQElFmqWsrq6RpRmO4yBfp/Ou+EwhBDs723z22Wf4roc2oE358vGklAgE+/t73L9/n42NDfI8JwhDGs06T7Y2ieO0ZGHx1hYpJM1mk/srK+zu7tLr9VhdfcjNmzdptVp0u104ni5RElzHbuDXVtdYX19nf28Px3WoN+ocHBzgSAdtcnQJnUuO46C1Zm19jWgQ4zivP0pMAMpRbG4+4ebNr4mTGKP14an/8aIko0ZKCcbQabe5e+8Ojzc2SLKUIPD47Fe/JAhCNOZw41MGBAKNRkpJEIbcu3uPnSc79HpdNjYec+/uXbafPKHT6ZTSuSSVRGhYWVlhfW2d3Z0dG2kbBPT7fYIgIM/TIoqlXM+THwR0221W7t4liWN7La/ZROUoEIKdnR3u3r6L4ziHc3zZxkvBkXPp/sp9tjY30VqzsrJCEPqEjRqPBjus7t+nlzymWlVEoUegZDHnjmpkMHhFBO3mRoftJx2ifsyTJx1+9dkDslSTpvnII5c8JWmnGQ/3uvR0l7SiEBOabb/Jw7srrK+usr27SxTHNBp1kjilUq0UfaV8uI6DEIp7t+8QRwNbBl3K0kePjxkzZkwZeWnnkpTy8NTq0foj/vav/4Z6o0EcJ8dO+0qCECgEQkoODg7Y3Nhge3sbpRQH7TZr6+sE9ZDN9jZb/S2M7rPtCx74HhpOZCKXYqilZIg1bMcJW1GOqGVst9apOSEbW5vs7e3R6/X49Wef0Y/6KKnIsxyty3cipJTdUD5aX2NzY5Moith58oRoMKDeaCCVPIq8Kg12USGlJMtTvv7qa+I4xnUdxGuMtpDYzY5EsLa6xl/+xV9SCUN7kpnnlGcbDMM2EkLQ63VZX3/Ezs4uYGi32+xub1Or18myrJxjgZT4vs/a6hqP1x/Rbrf58osviQYRlUqFXr9fNj8tYFPi4jhhe3ub9bU1BoMBe3t77O3u0ZqcRCmF1gZt8jLt8xBCoJRCSsVXX3xJt9fD9/3XunC3mwOF5/vcX1nhH/7+H7i/cp8sS9C6fDphSg0FvSPW1tbY3t4mz3MO9nbZ3z+gUqlgoJQn/0pJPM/j8ePHrK+vsbe/z+3bdwiCvyEIAvqDfqn6IwBS2sjZLGdra4vHjx/T6/XY3d1mZ3ubqelpPM8lTXPKKLYXhiGD/oCbX39NNBjgKPXaN8Ke66GkZH1tjX/+l39m/dE6QgjSNC3deGnHHIfBYMDW5ibra2sA9Ho9Hm08xq9VOBi02ehvEWdt9n3BHc/BLcSqRzk8OI4CDJ1uzOrqLgcHEQ8f7PBf/vwLWwErG+2aSQhb3T3KNeuDhNh4PPI3WK+s0HRr7Gw/4fGjx3S7XSqVinWY37mLHwSkaRmdSwLXczG55vPPP6fT6SKKNc6YMWPGjHlxfpygt5AYA0mS0D44QOc5cZKWLtVJCLvYEELR63Zs+lscoxyHXreHH7aJs8SG8w4ijInopRI/sSXj9Alu7I2BxEA/TojTnL7pcSAOSFREp9NB5zlZltIf9DnY20cKQZaXzUFjUVKhjabb7RHHEXGS4EQR7U6H3BhkkVZpbS/H6nRYUUpISa4z+v0+mKGA5mu2UQBCkCUp7YMD4jjCGIPOT7IH/hDmaOElBFG/z2DQJ0kiAPq9Hu12mzzLyPK8dFFXQ9s9z6PT7ZKkCXme0+v32D/YJ4oioigqS3d8CtdxSbOUbrdDFEckcUIUR3S6HYQUh86lsjn0Dp1LQjIY2NS0134ibI4+O0kSOu02+2FImqVWO6Y8DxRgHTQgiKOoSOOJyHNNbzCg3WmTxAlGlNO5JKXEdV3aB23i2D5P0WDA/v4+vu/Z56lkD5QUIKRN1ewV64E4jen3XXrdLo5ycFwHrfNSFmOMBgPiOKLf65MfVg57vZthIQSmcCZ1O23290KEtMLzZbu/QggcpYiiiH6vRxLHGGHo93t0uh2SPKEbd4n6fVId0U8EjuugTka+6nuwRQcMhn4vsVFKuSaONe32gDw3xWHnaK1UUhBnmkGckBqDSvp00wNwMrrdLlEUEacxMpJ0ul1cx8EdRKTZt9WFHzUGz/PIc02317OV+GS5+vOYMWPGnCZe2rlkjCHLM4RUTM/M8NFPPqHVajGIBiVzdFjHhY1GUWw/2WZl5R7ra6s4jsvy2bOcPX+OSqvO/d1HrLYfoM0+i6FkOQxBnExa3DCqPDeGQWZY7Q+Q/YwrrTe5OneFplvj4YOHfPX1VwSBzxuXL/PBRx+hlCJNU0yeF6rg5cFxHLI8586tW9x/8IBep0trYoJ33n3XRlo4yjqXtC5VSp9A4Lh2I9/rdtnd3SHLMniNKSkaMIWTcGZmmo9+8jG1Wg2ttd1QlsX/Voj4D1P42gf73Lp9m/X1dQAWFhe5dvUqExMt2y/NMBVt1MthDg1QSlGpVrh58yZ7O7sIIbl8+TLvvfcejUaDbrcHlMRmODTC9zwGUcT62io3fZ9Ou8PM7AyXL11mfn4OqRwwRdrXqPvKYWEpmxjpOLbow9aTLe7cvk2SJK99nhjq0509e5Yb793gwoULJGlapJaV4s5aDEipkBK6nT537t5hbXWVNEtZWFjg7bffplqtwaFzqTy2G3MkLH3n9m263S5pmrK8vMynn/6UsFKh0+mULgrApky65HnG6sOH3LkTsL+/x/TUNOcunGfxzCKhF5JmSYla22KMoVKp0O/1cZTHzZu3yLV+7WLvaWa1fqZnpnjn3RtcvHgRIYXV1ivR/A1D55JDt9Pm4eoqUgm0MSyfPcfFixcImjWe9He4d7DKIH3CckUy63v4SmKMIR9l5JJnoxh3d7p0OgOSOGd+vs7Hn1wky3KyLB+pc1wAjhT08pzb7T59XWGyMstS7QzTwQSPHq6xUllhd2+Xer3GxUuXWTqzRFgNSeIyRi5BEPjkudXWvHf3ro0ALqNXecyYMWNOAT/KuZRnOY6SzM7O8slPf8r8wrzVBEIz+uLOFoNBYtOclOOwtrqKF3gYowl8n2vX3uL6u29Rn23ReHwHueuS6y2u1iRXG3XAkBpzrIzt62H47rkxdBJN0O4waCdcm3+XT85+wLTf5MvpL/nz//yfqFarvHn1Kn/wh39o07fSlFyfQDTAc1GIJhuB53mkaUoY+ADs7e0xP7/ARx9/zPzCIp7nkOa5ddqUwHSDAWPTphzXJU0SVu/f59effVakeL3exUaea9Camfk5fu9nP6PZaKC1tp/NaMsPH1JU6nYcBwFsb28jpEJKuyi/fOUKP/nkE+bn562+gqY0chzD26cch0ajThiEfPH5F6RpwpUrb/LTn37KzPQU7U4PRHmKiwzLjPtBQLfT4fatmyRJyvbuLsvLZ/nggw+5cPEinufYRXGuS7HXs1XdNQaBch2UEHz+5Resra6RJa/3BNsU/2VpyuLiIh989CFvv/V2Ieyr0ejXPqY/n52ANvZ5EoL9/X0c3zu0/eKlS/z0009pNps2qjHLSnFvhxw6l4KAWq3Gyr17HOzvc/7CBX7yiT1w2j9oo05IwP15MMYgpbKHH2nGl19+QZ5rNjdDlpaWeOfdd3njyhUqYUiapuhhQYeRY08YjIFqtUp7/4BBv89f/pe/sLqLr3t+yjK0zpmdm+O999/j3RvvIqUsoupe/xrpeTBFdRQlBK7rsru7S/2LL+h2e2idc/XqVd57/33qMxOsHDyCJyGdOORaXXGh6hM6qtBcKt7whC/JaIMXuAgBjx/tc/f2Frt7AxYWm3z6B5dIkows1uQj7pOBkOylCXqnTUc3mK9d5NrUFc5UZ7jz5U0AwiBkcnqSGzducOXKFRqNBoMoAmHKsz8wBiEkge+TG037oM1f/9VfgdZonRe/H72dY8aMGXOaePm0OGMOB14/DGk0G1SrVasNUarIJcvw5HTQ7zPRbBKGIYEf0Gw2mJqcojk1yUS6Q50Gedal2VRMN+uAPgHnkl00CiDX4KYZdSenIhyaUy2azSZVr0ZrchLXdfB9n0ajyeTk5GHVrjIipSRJEprNCWq1GnGcUK3WmJqeYmZmCuU4dkFcsv5iUygFudZUa3WkVKBfs/JG8TwZAZUgYGZ6mmqtBlDK+zt0JmljaDab1Co1cp3TaDSYnJqi0WxiDOQ6R59oYun3UBghHQeFIKhWcH0Px3HxqyF+vYJfqdDw3DKse5/GgOe4GAVhs4FXqeD2ewRhSKVZozbVxHVdjDYjrSR0HGnzPAuBfDv+1qo1m250Qql7xhjCSkhromX7JNj2KRnD+UlIyUSzQbVixW8bjQbTMzPWuUQ5x4LheFmr1QjCENf3qFQrtm9WqwRhOGoTvxUpJVobWq1JqtUalUqFWq3GZKvF1NQUQRCUsr3haPxtNBuHVSJf9yNvjD00DMOQeqPBxESrSMUtXxsN+6QQgomJCSqVCrqYn6anpqhPT7LvRtTyBjqq0Woqpms+FUeRm9GpbBltCAI7/8RRQljxcByFH3hMT9dJ04w4yqz3a0SpWwJDoBxknFA3OUZXadQnmJyZYqY2y87Glh0LKiHVao1Wq8Xk5CTVWo16CfsKHI2/E60WruMw+sTDMWPGjDm9/CjNpSHPnvCX2dMvlMJRCqUUSjkoqVA2tgnlKFsRBfsa1wVjFEab13paPMx4EgKEBoVCKgmOxHGdw/xvWbzIpvgdGTRcaJYSYwoxX4kUNiXJcd3D6kECShlSD1itJSlAiteecgDDU1es2KxS37SnZAydy1IppKMgB0ceCctGOmE3OaCdDkhMXjgbRogGhNXWqFXrrKd7tLMBfR3zJGmznu/TR3HQ3QcDr7M44AtRdL2wEtKNejwcPGEnOWA/7bKZHPBg8AR6NRzXRecanecjD7sSCFzhUPMCWm6NCj5ZliGHBc1PcLxylDpMGRZYB04Zx0tTOJiH4udS2HnKdY8q65VxLBjaNGxTJQTCHG3OymqzHb/snKQciRTSCmMf6x9lnluHWmYn177D+6tsZEeen/DnPyfi6fFlGBUopUQpieMoHOXiOC7KUUhHIF2J4yqb7n0is/23ow1IVx0WJJBCIDFICa7rYDDkuXnta9LvRYAjJY6WKEciclW0qcIxHI5fStqfC8o9Fhw/iVFq5KuUMWPGjDn1/Gjn0uFAXEzm5Zw8jjBak2sr6GoKfRJNYX6RUjJc5OvcYBAnIgA7dDBpYxcOxnAYzTI8GbRRPhxqAmhtFx3DE7pSIo61X9Hmthy4Ln2p12E60vDmnIylVugnPxYZWOo2Kvqn1hpdfD3cWO7GB9w8WOVxfxttUirKHe1poLEeI+UoKmmVB52HtOM2URqx0X/Mnf3b1J0ntHfbiMKxWIptZdERgzhk0O2x3n7Ik8E23aiN0/e4f3CfeDfD8RQ60+Q6H5HDVhzqxmljEEhmghZvts5TqdjU2EO9oxM0TxsOx5zjEQ1lwxRjvza66Kv26zzPjx1AlM/uIUMnjDaFqHzJ1wRCCPI8f6piqQb0ULfs2OvKiNH6hJ0gth20Kcb64U/L2D7Cjt3DtRwUabrD9R+2j9pnzkYM5blBC2PT4kY08ms9jKw8WjcNLTFaY/LiOkZYlEAAGo3ObVth7DhlI5mFtZGjNtYcRYuWsq8c4zAKr9xmjhkzZkyp+XHV4oq/TTm2YM+FHqYfDf9nuLA0h46doZifnTj1UDbmBDBoTeHg0tbZpY8EXIeLCavTMRSlLf8saIwVMdAcOSNOD6MRXyhj6s53YReRR4t4gSAlYzfucHt/jYftVaoqYyEMR1rUu9AiRyqHWPq0B+skeY9Mx3TjJ+z2V0h6DQb9nn2ySvRoGQOecYn7Me3oMVG6R5z1iBJFJ1on7KfI1AGtC2HSUVgpMBgSbehlGf3UsFOZYyaY4Exl2l7HCKwyxQ6t7BubIcYWKbXjpC6eq2HnLTvFtGROgalD7Jxkjm3aDaNLjHp+jqd4ntjBB/JQpL/st9g6QY6nkupCT8nq6WidY3L7jKHt2tA6SUZ3qGCMxuQGZNEnoRgMINfGOu61dYiNajiw/c4c2moddPrIXjSmqGindflkD76PskYpjnlxbAVdikqaxYg1TMc3BpNjhfuFFdiUUjyTaWpfbwyYwpF66nuHEAhlqz0+PXwMr9W2y4++VgFS2fY8av/iFxhMrimWN781SCmQSiLEMxd1GCRSbNsFCCVshPdTN6FodG0O2+Y0N8+Pci6dxrxkW/D5OEffCVG84JgIsXkmxPp181TF++84YS/7ou5bOZVGj3kevu3Wagy9LGIv3mc/2aYeambcBukLD5iv2rlnUI6i6vpsqx6+SHFkRk1FtJwuTcfQdfp2d/zKU8uevfIXuSaD73r0VUxf9glFTCoSAhHRUD0mnDaOo+wCX56cO/xZhDD0spwoTTmII7SAdtYfiS2nld+GoVKMOi/zBfmGpuIpuAnHlwont0I5XSu+Z9d6guP3Wtr0fDn8DiSSfKTXKK3+gfh2IemhfMIo+6c4/scw50083bKn4fn5VkbctqXluEyALvvhgc04kUIgpLB2m6NnHlOIqkkDmQFpHSBSfYuyrhEIXZQlMcV+8MeZ9k1eR1t+y7LZGINU0qbafkPLBnutmbHjn3n5VA0DhcNOWPmW4r2Pv0BIYVOrC0f+K3WUv8qTj++bCo5fUtHXpOTpiynGR5HbNzNiOLZLhHzmuoe+Bhs9gj2sPb3D0SvRXBozZsyY4xjAEZKm5+LUQt6sC96bqJPq4bn3Dw2bR7NjEbf3oyvM6OI9XNel3vDRzZBfeS6RcjhXCbgxUWVqssq+kRhpXkAj6nkdYMPXSV6soqadcPyKR085VBoh7dDD76ecqfhcbVQ436rjusKebmf6KU22V8v33zdpoJfnrA0SNIIUF1HuleiYMaeW0+XqGTNmzOniKGtC58cci8M5/cTkIl4Eg8lzooGm18uJkmGUjC2Yg3KQnkMlVNQDgxykZLEminMGGWT5YQAuQircQFGtSEJP4v7Ii5WOPHIOFyHKxhQRLa8KeUzrv1hqDyuJZp2IOMrox4boeISSkDiuJAgVYajwHFC8/L3No5S4nxIlhigzZLpINTYClMKvKCqhInAFzqs6hxIcOc3MUQT4S1M4f4Yux+OOoGE0PMMU68zQ3ksZDHLizEaYGmFvhHQUvm/bNVQaspxk0GcQGQaZJjVWj1hIgXIkfugQhJLAE6hTPMGPnUuvEKGkFY2Udkusc23z+KMSK8oAACAASURBVE9xBxkz5sfgC4lRioYjaLjOcziXhjotshA2FyiJDS3VGp1BXoQ2v3h9JKsD5DiShnKpOwpf2vcPHUnTdWi5LsZL7Yz/nQ4ac+wrexKklLCprFBotT37WntKLouQZFmMDzrX5OY5rsUYKq6D62XUHEWoJH0lCR1F1VE0XYXjOfY95fdpLj1j+/CgHA5Dd823vl4ciuLao0sOdWmOu9akAVcK2mlOKCXa2HiAMWPGjPltYrjes8FPBnJNVtb0maKgCkZ/90a2EDyXEhuloXN0bvU9x/wOI2z6bZIWWorSiuA7qnyBXkKAMjlRv8vjlQ7/8k/7fH2vz14GgzgndxROs07t3Czv3Wjwp29J/I0DNr/a5cubXb7aTtkcGGINkXapTtY5+8YEH37U5Oo5n4WaRCb6MMHleTFC2IIBvrJeG7DvkGlIc0wK6Y91MBkBSuJ4Aulgb0w2TK2HJErp39rg1m92+LeViK/2NHupAEehlM/sUp1L1ye48V6D83Meky6o9Gi1/oMIkApMltLdOGD9Xzf5bGXAnd2MzYEm0YJU+Lj1Gm+9P8GNd5tcOx8woQy+Pha08zII7HW4RaSa1pBodG6D014Gx1FI7/9n7z2f6zrSNM9f5rHX3wtceA96eUoqqUtVXWZM78x27MROxM6X/SM3NmK2eyJ2p6aqu1QlS0+QBOG9vd4el7kfzgFIqaQSWSIBSponCILm4J70+eabz/u8iYEsTyiakHjrINCgQvADup02C3844s6dBqvVkFqkCQwDw3WwCgXmrpZ4540s7wxH2Ec1tu9WuPGwxb2KYjeQOIbEdFwK5Szz14pcf7/IpWmLQhCdOml+aMvwq+dcilUXCQOfSIFCIgwznpivpJccQCCFhigiCkJ8/YQSKIVACM0ZZd5+RiQH9USHRAgRh+B95RGN1hEqDAkjjZYG0rQwDYE8c67eUy/UcTx/RExDNL7xEH3y/IlALiDEaba9V3MMvSzEV04qCgkijdISYVqYpsR8mQ1x6nEQyViSsUi2ftoV8Q0QSeCqIJ5PkSJQAo2InTMCpJCngqbPF1gWU1KfuETiMSJ0bEw/2Tti+qr81tX8ZCF64pxRSp0K8T/55LisJO8lMdbDpD1kogcQM2W/XaA1cbchEE+cUFqc3nqdtELcvkl4wreVPSmPSBx2JO9NJDL+0uWX3L4kPZAI8p9ogcRPa55yH4n4SS2+ycH2A8cJW1yFqCgkDBWhlkjLijOQyld0fzoZWCoiUiFhqFHCwDBNTEOeV0bzv4In67ZIrspPMqY+fSErtEKFAWGkiDCSfhBPbPfzgI7QWiQHDxnbBXxdW+H04Vik+ZQFkDz3k9ujIpQfEEQqsfcsTPMpe+9VbAwpYkeNHxIoUELE2QZlYu/B+S97J+EvicB+rH+U2EVfH5NCIHhSH00ctmGcOBD0eamQPREKj+3sk+J+i92XJJMgscERP7QA3VcET9kCthFSrXTZWuly3JeIkktxMsPogEnJAkNBdN7lPYEQCCIiz6dx0GJpocGDDR9jOo1lSBzLxDEllgmmGc8Bv9KlstFgc7XDo65J2zLJpwxsS+JYYBlgoE/H0fM5lgQShRl6tA+7bGx22T4OqfkC5boUxjJMjKSYLBnkLY0lYmfIMyuxaMCUWE48f+n06W60WT9U1JXELrqUyg4DOUkaHc9pU2LaEscBVwd4vs/BoUe9pYlSLuOXcowk4WpSxPbhM/WvOImO1YTNPtXFKqvbise+pGuZ5F2JbQlsi9juOPmxpw3m54UAhESEAdRbHNRDKj1BV1oMlG1KeYuUmVx8PvNnKpQf0Txq06z0OWpH1PuKfghIQRiB5VoUhtMMj9gMpQS2kBiWwHAMLFfh9ENUv4fX6rNVkXTtFPmRNJcGwEna37Aktq1xtEJ4AZXjgMMjReDYjF7OMSUF+e/RNOeNV8O5dJLNQ4CO+nidOo3jKs1OhC9TGLkSxdIAgxmJbSQb4zkX+QRCxgJeyvcJml2q9R7NviC0XDLFDAN5i6wbb9LRua3A+vQQKlDoqEun7dMNwM3mcGwDUxI7whLhWB15BO0GrXqVajsisPOkSoMMFNNkT5zvL11R8ukDt4LIJ/L6MX2VNG7aIeM+sT2fpL+OJaUjv0+/H9APJWY6jeuYWN9q6P/IkIjUa+Xjteu0qjXqbZ8eLlZ+kOJAiXL2xMH0cufTSTbGiPjrry2Uic8GHXgEzS6Nepd6XxCaLk4uRanoUErHQ0/9LfNJx06YiCeU4BPniiK+pY0gdqB846lbo7V4EqOvQ1TgU29GBBFI28J1LUwjOX8A0tAQhQStHu16l3o7oi9d3FKafMEhbwsc+d0CfmHydVLWEwNHo4i0Ruoki8931d9IDh1hQND16HmarrZIp0wcJxEaPDEtRXxAljoiCgLanRAvEBi2hZsyMeSTeiatQ4QmOmVAPT+/7JXECaVehQSdKs1qjXqrRztyMfNDlAbylDIWrgknIgLnX2+d/NIQeQStKq1Gg0o7wjOyuPkyA6UsA2nOscxPr/HJuh169HsBni+QjouTsrHlySEx3v9REWG/QatyTL3p0RY53IFBBoopco6JLb6dG/niiv4Uc08Q35b2arQ9A184mI5NxjUwE0/v0wcGQYSKfPrdPv1AIi0HJ+1gGz+Bw/BT9p7QAZHXor5/SLXl0cfFzA6SLxUppk3SVvIgZ2BuPAsSB6DWEUGzTbveo9FWtLFxS1nKRZtcSmIaGhWeczkNiUlI5Pv0eiE9X4Bl4boGtvVkrgspEFoR9Tzaxw1qLUVP2pjZNMXBDCVHYcsXEGbyXdBPXUgIAZGH8jr0PIGHjelYpF0T82QgnD4vEIREoYfv+fT7gO3guDaO/WoccX5QEHE4mJQaIRSYil6jw8b9Cks1A2ZKTGVdUgWTvC0xhHo12G0nNCqlUVFEvxtRq4R0AoOpuSLjJZOya5JNOdiDLjNlScqGdtujV/Vo9RTdbJrMSIZLIxbDrkEua5MfchjOGbgShNLPPgdkfN6K+gHBQZ3Nx1U+vdPi0W7AcV9CNk1xdpBrVxXhtRTzZZOc/fQ55hnrrCL8ToTf8Wjut9ldrnLjgc9+5FC4OsCltwyuuDaTUmIX0gzMCuazAbluSKffp1XpcrPhUWuHNGo+XV/F2qhSxufF5ygKJDZgL6B/3KMROHi5LNmxDFfLBuW0geM4DE/YDGUkroiddn+rrLEQIE1N0OrTeHzI3cd9HtdN2rksr78/wJW0xZgtsJV+JieNlLHtr3yf2mqFlYUGD48CdvrQ0QLXhNCTuAMZxt+AK46B5RiMWDblyRyXhE2hq+i1e3SPGhzt9ahXAhr1kGpT4WFgFlKUZorMCRe7HTLb9/FrbR488tmq+jQrAW0vIjDkD9KpdIJXZ+UVIKIWXm2bvbVVHi6sslsN6VpF3JE5Ji9c4c2LZUYLFvarYGQkkAJU0Kd3XONw7YCVtQY7LUnfKVCeHuLCxQLToy5F1+C8M9CoyEf1juhU91nfbFP1c4xcvcDQUJa8lDinT/oErT0OVx6zurTGyqFPJztJafYKly/Nc2HYpeichREsTvjZ6KBLt7JLff+Qg6ZB3ZlkanaI2dEU1lNHWxAoFSC6e1QODtk76FIPMgzMzzEykqfoSOyXXu5XBFGPoLnN3vIyK0vrbB72aIo8zsglpi5c4o2LZUaKNu6rRF0QGgKPfqXG0foRq2s1NusCz8lRGBtk/uIAl6ZT5GzJ+eX0ia3s0I/Q/Q5eo87amk9XOmRHiwyN2pRMjQmnjEav1aKyfsTmSoXNQ4+GXaA4O8L07ACzIw5D6VOS10uGRkUhkRfQb7Ro7TfYb0DNGmB2Ns2IZWNaJEuVjkUXg5Co36ZVbbG916elHNIjJUbHTPIOOPxwb1eeHQIRdgnae+ytLbH8eJ31vRZNlcMauczMhXkuzw0zPZzGEa+KQy1ePwU+Xn2H/eWHrK5usH4c0TCGKUxc5uLVWd68MEjW0ufK+NEJi0d4x7SO99jablEPs2THxhkZH6Rs2k/ddHpE3SrVzSVWFhZZ3etQs0bIzVxl7tIclycKjKbPqAcS1qEK+3jNCq3NJdYaKXruKMPjZWaG0xi2cbpWCSHQyifsVenUDtjcbFAPs6SGRxmbHmYwZWDzapJ1XiiEQERdovYBlZ01HtxZZH2/RZ0C1tAc47MXuXZxlMmhNGmDb2dinjVkHPbht1pUVvbY3KixeRRRE2my46NculxibiLNQEZicE55lHXC+osifL9Nq9Jk/7DPcVeSGioxPJ5j0JK4ie6fViFhr0tzr8Lqgz02DgMaIo0zOsT0lRGujNoMpOVXI0NeWtkBodA6xG/sUd/ZYKtm07GHGBwbYnYsS/ZU+Eacll/5FVqVAw4O6hw0HVIjEwxPlhm2TVIvucg/Koj48smUcYgVUoEVEfg+9f0uuwcS0mlSfU1fyVcvp6aOudRaaaJIE0QGdtpl8uog12ZcZjIGRSkQtkV2wCBtKVqBIgwUyrSwhguMXC7x5kWby1nIOAbYJpmsQVqCiJ59TkupIQzx2l227x1z536D+4dQ8QSR0DhBn+PlKkuRIpUG6aSZKpkUEpbU02T6b6woYEiF1/WpbrfYWWuyud1mba/HvTs9GjLFsOtizeYY9iUTroFVzjKYTmFNwXzoE/VaVHcE9c2QxYpG+XG7aQH6ubxcTyAAHSpUoNCugzNaYOxqibdmTObzAseQWK5JOmPgwok5/be9CI2hfVr1Jo/vHfPZjT73Gw7hJOTn80zMaqJYOOmZnHYxoz9CeR7V7RYbj+ost2HfshEpkyFTE/oa+hF+pAgUhFqCZVOeKpAa0kxrgWq0aK0pNkTASgfqkabvaZSQ2MUUJcviwoBiPAjwe13auxq/qqk3NdqLiMKvnm5+iPb1K+Fc0mh00KT5+FMWPvkjf/58kS8OBcpQmFKgZQ6Zv8Qb//F/5xc/u8z1UZOCdc6FFgJME9k+prGywYMb2/zxyyo7XUUv0ihtINIlxt+5wJs/m+K9K3ku5iCIzuIAeYKTu1sfv7bJwdJdHty6w5276yzugpx4m5//n0Xey7rYtoEDaKHQG39i8fNP+PjzZW6ut+mhCWUaszDNravv84t/+DlvXywz4T7tkHoZZQ/Bq9PcW2H17ufcvvWIe2td9tQMuYu/4h//Mc34aAqbmB+h8fBr2xyt3OXu519w8+4261UbY+w1rv/nLB/mM6QcM3n+x23A66hJZ+sOC7/7b3x8Y4XbeyEtLcmmJV7/j8iBK7z+D/+Jjz64xDsTKcrn6XFLqL1CgOg26G5ucv+LLT69dcziYYgyBWEkMVIF7l6a4c3fXubDy2nmc3EfhmfJCBQghcKrV6ms77Nyf5d7945Y3BY4sxNc+dUlrpdypF1ByjERfo/ezjYbd1f57MYR9zb6VH0wXQtu7lK+OM7bv5zl+htlphyFq9V3srv+9qIrtN+jc1Rh8+E2j+4dsLDWZccrYs9e5j/94xi5ok3KkkhPoUWEX6twtLbH8r0dFhaqLO9rjIlxrvz6Cu8PZnBTkpRQiFNq/I9tViWhf7pDe+8ey3/4Zz7+/DFfbPk0tGQgb1Ct/p705Ntc/Plv+OCj9/jVjEPh5S2MzwfvGG/vNvc//iO//2yN+zsdPMMkwgBZZui1j3j0v/5HfnO5wEwO7DOnzQjQHkHrgNrGfR7c+JKbN5dZ3AFGX+Pav/8tHxTyZDI2FkDYwz94xO79j/n4T3f582KLI0+RyqTwP73F8MV3uP7bD/nFRxeYE8Q/8zKGpI4ZgyJs0T5YZfPRbRZu3+OLe7uselcZuPp3/Pq3bzFQcnFtA+NkH27ucrSywNKd29y5u8z9tQAx/hZXf/P3fDBQIpUyYqf0Syjyq4KYee7T2bnH+me/59M/3eC/r0JkC2wjouc5mMULzP/yP/DhR+/wi/kMg/Y3Z087MwgR6xb5HXq7O2zcXuUPnxzxeN+njcRwTPx/WeXu9cu8/nfz/OxagdfKYOhY9uTMiimJw/XaLepbByzd2eL+vWPW9hT9bImLv73Ge/ksqYJJWkRIHeIdHrL3YI27X27y+wcBnVChLROZ2uHGZ8N88L9d4/q1EjNpSItvD9/+/oVXiLBNt7rJ9qOb3P3yJjceHLHanSU7/yG//M3bDJQzZKyTKe3jtw+pbTxk6fYNbt5c5NFWQL9wiSv/5rf8LJchk3f/p3PpOaEjTRCqmFkoFLaK6dwnoYlCPBsL5Bshnn05/r7jTIiYlWenLYojacYmM0xmJMXEqWqkJAYKqQAkwjKwcy6FkTQTky6zBUXKEPgRCQuJ55JiMHRE5PfpVprc+LLB7U1F78oIVy+nmM1H5Bttbv9LnYOVkLsFC1FwMB2TVBrSgu8MR4sTskUEzQ5bdw+58UWVh0chu9kUzUaEYXj4/Yi+D76K+85M22RTAkdLDOkjO4pM0GcgZ5BqJiLe33eZPVnvhERYJk7BpTicYXTSYqooSOk4QuB7JWROHEZEIfRaVHbq3FrqcmvFZ9sXFHIhvUARPZ2N7pnGk45ZnGFEuxnQbCvIZxmeLTEy7nLFjBCRQKQsChMuIzmDrCEQhkm6YJIqSbQBIhfR6jr4eyY5V9AxYmkcLQykK7Fdm8EMGDok6gmqqk250CdjqaTP9ddK9cPDK+Bc0qD7hO0NNh98zpf/+jmfLrY4nrzO9JjDYHBIb2+V9a0t/kf6IiI1wHi2TK5knq8BJjSmFdI7PGT79ip3vjjgxraNNVpkpBjidhoc7G3xSFn0zBSZrM3UGw5Sn2GAsgZUD93dYO/xbW5+8gV37jxiYXWf5TWFtW8y+u/+LRfCcUJiqr4Oj9i582duf/wZN1ZDtpwpJibSlBp7tHdvs1bvIIbHMVIZ0lMZRl+SU0KjoVulvfuQjXuf8+nnd7mzsMTSrs8eHinvCm9/2CdM6il0h7C1yf7yHb741y+49+ABd+7vsXls4U5Kir/4FZcDRfByivuKoUfY3eFg+Qaf//4TPl8LORi4RHlykAnnmNrjR6wu7PIHdxaRKjCcmqA8en5LgdYgpcAgoF+rsXt3lTtf7HNrS9DMDnChrLBaDWqVPVbvKBqpIgPZUcaupkgL/Vy3Sd8LQiBUCP0qB6t7PLy5zf17ByxvNHn4KCDbsXEvjzMbQojEsDRRs83R8g4Ln65zeyVix8iSG0ozrNvUtnfZa3uoTAajUKA4Y5BzkvDZF10hAcr36O/ts/tgi9t39ll4cMTafp8d30d3x/jwozK+Jk5Xqz10r8bB6g4LN7dZuH/Ao+Uma5sKt2biXJnkYqAJEs02iX51dBdeJDQgQlR/h6PVm3zxuz/x6XKPrcw8AzPjTJZqsPsFOw/bVFSejjPG5YEJMo59jpvr05cKO+zf+YSbH3/C5+sux+44s6M2RW+X4+27rNyMOEjPM5q5Smk+T9k96wN8j6izQ2XjPjf/+AV37i9w78EWS+sRxoTEuvYG8/0In3hPUN0jjlfvcv9Pf+LzW0esmLPkhoqMODUqqwvsNxt8lsnDyDyjMxrTEi8l6De+EOvi7y2wtXCTGzfv8sWdJVY3d1hoawbDWWZfu4gfquQ04qE62xws3+XeFze4c3uB+4vbPFr2MI9szPnLzPdDvBde0lcRATrY5XDlFrc+/oQ//nmN1fIHzE+XGDWOaK4usb20z58p46fKzAzOkRuy4lvu84IAw1AErTpHi5vc//MKN1Ysqm6OoWGLcbvL4fYmK7cdmjJNOmUxPZgmK89QrEgIpArQfoP61j73v9xi4f4+Dx7WWd+LiLIB8vIUM55mTkqkCJBeh8bWHo+/XOPml8esGuOUh23Ksk9UqXCwUefzqSFkNkt+xiKbiaM/X4qDyW/TO1pi78EXfPb5fW7dvcvSxhEPOz2yvUkmLl+kd6rO6xF2dqlsPOD+Z19y+9Zdbt/fYGVXEWYD5IVrzL53hf5LKOaPExppSfAD+kdtDvb77FZDqj5kR01qawGHPdCGwLEk1t+iL2jKWGvnu7znmniQBYooeP7j0pOhGWveSimxrDh8yXUlKRWHPokk1DN5NMnsFQtv246JZSsMQ+GEJGH+z1FjaUDYJ2p16Bw3eXws2SHL1QuDvP+uy5VcD7XSZzXo8/AgopXrkB7LMVq0mHIFmDFp7LvCDZUCbRhYxQyDM5rL45oLZYvVlk+lorFVzOIKE2eOkAIpDSwhMTEQUZyVzDaTrG1fr+L38CJqOG1Ty5YxgcEBC4UMvrtuf/XTpQAUUS+g86jK3sM629KgnnPQPQtXCCyt/4IV9d3ViVmfKtL0fegLi9xYgYG3hnjtUpbrpg9hLE4uXRMrJeJwSQTSAGkbSEsgepLAFlgGmMZTGqhCgBHbzJYtMbTGiiSuJbDMeLyqhJH1Q8cr4FwK0VEVv77CxtoOyxUbf+Rn/OK//Bd+Np9nvP2I9sIf+PzT+/zX1UcsL0yzdzXDbCl3buFNGoGBwqbL1uYxi49abDRdUm9c4o2fTfLekEepssGDmzt8vFKj8miX1YkMh1fHKAuwhTqjjCIKwibh8QKbK8vc3dJ0Bua5ODYOcotK04fTbFUATXR3mfv3N1nYsQjH3uG9X/2GD64OMLT5Mdt//hc+Xlxh9fYqg4UxZrIpRkdejotP6Ai/eUh97REbj9bZ9CfIzEiuD+9TrhssRwrPP4kH1hBWCauLbK8u8+WKxp25yqw9gLlUpxOGyCCM6Z4vpbSvEhSoBmFzg73NdR7s2/ijb/Puf/gH3n97hivROu0b/xd/+nSJf9p4zNqjaXYv5rkyWjqdT2d9vIyJS/FhrX5QY/F+nc26jTE/xTs/v8Svxn0KlS3WFnb45GGT9dubrF1Ic+VCmjFH4IjobOaTEIjQR9UO2V0/ZnEnpJEqcenXRdrNfZShkGEUzycpsXSHfvOI9bUqDzcl/sAol9+b4+23iswcb7L1x4fc3qix/fCIe4PDvD5YYCwnoadeLA3WiDdi1evSWD9ga7nGVj+LOS55a7hKqWJwu6cIw1hQFykg9BCNAzaWqyzuK3rFAabezRHJOp4FwgtQWqC0iI2WF1XWVxJtVHONytYqCzuC7sDbvPlv/xc++LurvCW2aY13+MPNKp8er7J8Z4mdnw8wNmiTP+9GCRu0Ktss3t/g4Z6NuPBL3vnwl/xqVjLTvcXG7T/x328fc/vTT1l5vciF8RQFN2EInRWCOmFtmaONRb583CcozTP9wQCRsUcrAjMIiKIwcZe16XY22NhY5/5KQC39Gq//u3/k+psTXG4vsPf7/8oXj3Z4uLDIJ0Pv8dvRIdK2+VKMHAFEXpf60l02FzdZb+TwRt7i12N9wscmDRkReBEq0XogahA2H7O1vMzDLY96Zorxd4eIjG0aoUB6fpw5kh+DWfnXoEH76PYyBztrLO4GHDjXeP8//x989M4sl8Jl+vf+mRtfPuafdtdYv7fC9jsjzA7kceR56ZhJJAqDHvVanbXlOo82NHpujqtvzfDevM1VfcDOiMc/3Wxw+GiH1fEMO29kmE4J3OfQLfk+ZUQAgQf1Yw43D7m7GtDLlxh6w0Vku1RrAumHyf4kMJRP1K6xv1Xj0VrInh7i2j+8zdtXMkz1j+ndWub2n7f57O4R94sDXC0VGM2byJekoxd2mrTXH7Lz4AGP6wPokdf5oPwQse5SMSHw1ZNDvqrh11c53HjM/dUW1dQUQ28WcIbqbG+B6fuoKHr1wrZeSWjQGkMHtCpNNhYqPHzcYbWiqGBSGLcJjvpUqyE9S8aaV1KcZpl9ls/XSqP7EV6k8SOFF337OqeQmEbs8LAMgSG/p05qor8XZ8PVcTKYpNpfewy0SPKc6HjWavE32JZxwhTdCwmbPTrVHvvKxhssMDOb5uKQoBxEHLQ8Ah3SCgQHxwEHByGNqYhgyEIbyRwLTz/yLxAnj5GYaZfB+UHMoQLXjIhUxudfFxvc7fiJo+JUtg4QaKVjSiUnzhedMHFjn98JQ+v74vSVOvk8rUGJ0/74Pp9sSIUKPPqNDo9ut1jcCJDDKQYDjVM1yJkxazlOrWGcXrd953t1EuauIrwA+oFEC4ljSVKuxDYtHFsiDJEknNCn9Yt9ok+FNJ6qtXxtvUwGn1aakwRDJ/6kk376Jj/fDw2vgHNJgeoQdY+p1tpUgyLW1Ju8+9EH/HzCZrhv0cjvo48X+W+/P6a6V6HV8/E5GTxnjURcEoURtKgeNtk6VDRFnvE3pnnjZzO8N+YxWAFXe2zu1lg6rnG022CvP07OijVKpPh+nttnggYwEUaWVGmGicuzpAcVObeGud/n3n2wRKIDgYKohq48YnW/z56eIT/3AR++/x6/vCyR1gLtW4re8TF7YoWduXnq14owkn15xRc2RnqI/PjrXJyaIqeWMat3uL1qsHUovkpR1QbCzJIqTjN2ZY5Lb5o0NpfJ+EusbpmYSeDcjx8aoi6qW6FZr3PYz2Nducbr77/HL94sM6bHkNYDoto6/9/vKjT2KzTaHj7xuDyXFhIGhvCJgjbNWpPN/YiGyDN4aZK3P5rn+nCfwbqg5HgcHB6y9fiQo/1J9rqavBmHZkrOgBCYiDlqYeLkiwzNFRhMwcxUQPNWi6PIxDo9AAmk18GvVdk/7LMb5MlMTvLWz2b55TsO2QdHtG8I/FqXw2YFa7JOvZvBly8hnuq0Uw0MN0N2eIipkSKurlPsRqSWNAtrXzMGkGhhYRWKjM4XmMyDQwerFrFXN56EG/3Qd8BngfJQ3Srteo29bhZz5hqvvf86H314idnuCIbxL9RqHR580WBn65BWL8A7uSk8t0J76KhKs77P+k6Hw3CE8pW3ee9X7/HueMBYz2LYbbKzd4cHnyxwsPcuu70JRoo2g2daTglmBjc/zsiFccpzFna4R6quWN6yY31FFTtHBRW8xjoHRzU2emWMmXe5/vN3+PUbBYorh4Q3BGGjmkqTjwAAIABJREFUysHRGr2xVSrdIsNZ8yVlxdQgDKRbJDt+hZlSnhEj4Hq0yXY7xUJgxFkoTx8XIFLYxSnGLo0zmta4Zp18N+DxpoWlXhWdrjOACqB/TLNR57Dj4Ocu8tav3+HvLo8y103h5Vehuc0f1+o094+ot/v0dI4c52SwCgCFCPv0Gk0ODvvsdtIU58Z57YNZ3r9gcdmzmUzVWFzfpb5dpbpbZ7s9SdmSpMV3J2t4UdAItLSwMwUGp7Jkx0xEr8mmdcTjBQ8n0R6JtQ37hM0qR8cttrsuXmmc6383w8+vmBR3PNZWBVGvz+HyEfnJIarvpOljkXpZNZEmwi2RHrrEdOkSaXOHyXadZpDmXi/ONvtEXlOAdLFz4wzPDTBctDCiQw4eruJVGzgJ++WnYPF9L4jktyhC1OocLVX47IsGD/cUDcPAHTBINzq0j3ocVgO8gomVJER51vVKGALCEL/eo3nYYfcoYLMt4nDRp/fIJJlQICyyRZfRcZfJEZtCWuI8bzhmYpvEP6LikKToCVNJJ+y7b7wa18nBX53+9fkgATTKj/BbAd2mTz81gD2UYXRAYnV6VDfarD5o03fAKEm0gn4jot9WRGGSPOTEG/KNDS2SsklM22FwwmVIClKmh+G1eJSVuCb0/qJuybco2Zy0Qr9kcmWcAD5x6p2wib7PxJQCGXhEzQ6N/SZfrsNWJ8X0uykcJ2JfKoJ+orGkn3mUAnFmP5VojfqRotcN6By0EMs2dhgQWJrSUIZS2aWcgbSMQwkDHa/xUmsiJRBR7GhS30SbSvpUn4yzSKEifZKDKW6z79E8rwpeAecScaC4NDAMC8vShJaJZbtxxiU7Tco0sR0b07KxDBMjIbqfnzEm45TcXpd226fhSSLbpVx2KRdt8gWDjCgwMFaglKnitru0mz0Ou5rZHGCA/I542hcCIcBMIYpXmXptjswcOKkGunaPZUfG2SAgCWtR0K8RHq9z1LPoZWaYHp5mbthmMFpjq7rF8kGDlWOPVrRHp3pIuz9Ln+ypoO+LhNYGZnaI/Pw7XCz7jEoHp96h+nCRx6s+MhHLjL8EwshjFi4zcW2a34ybjE8fs6EO2UuZbCTXHj+GCfvdECAMkCbSsDBNC9uycBwX2zKxccC2sG0b27EwpRlnCjzPIscpGtB+H6/rUe9BaDsUBtOMDTlkc5AxCxRHSgzka6S8Lq1Wj+OOZjajkUacOe5b9+EXBa1B2lAYY+o1RemiwjB7pKNDvkwJqh2BViCEjOdet4NXa9DsKbruACPlEhMlk2Hd5KhSZf24z0YtoE6HcrVBoz9KU0uyRKe3Hy8EyQ4nnDS5uWkujCtGhYXZgN7SPkvCi7PHCZFYYBJl2ujcKLNvCsaiCNvq0NnbYzctOWyIM9SNewUgBBgSYVmYRpyb2LEz2IDluGA72I6D7dhYthVn2zv39glQYROv06TWUXgiT3GwxPiQS8m2sewxShMzjAwsk/P2aDaaHHZDmhoGz2RjTWarzGLm5xi6MMwvBlzKo3Va2x6bGYtNI3HUnggmeFWC2j6tVp+mNUJu+CJzAznGOaJRWWL1sM7SsUe1f0zmaJNK7y26Gtzvo+3wV0ovnQyZuXeZG9GUsVD+PuUlm5wpMIOvPovMYmYvMHVlivycxnZbBNVHHGct1p6iAPz4HUxJXaWR7E82tjZxDBdTgHQzpCwb14n3J8uK55Ohz6ttkqsCrSH08Loera6mq13GS2lGhlxKBQu3n6Y0PUQ5f0g27NJrdjjoRPTzIrb3eNn2ngIlUIYDmTJDl0p8NCYolrrUN0L6ywZrMlm3ZeyoUb5P2GjQbgV0ZAYxMMxM2WKYFt3GMdtHbR7XBe1OE6/apNELaEfypSUskG6ezNTrTOemSJtTZHu3kI/TFGyB2denB7LYsZvFys0xcnGU94cgne/S2bvHra1NLOOEHPATctj+rUjGQhSGdNcrbD2scntHcGxlGZ3N8NZFkxGvzka7y7EIaUYaLxSnh+bvXFeTUCylNUGzS22jxspKly8PwYvio9/J8i60BinoyQyDEwVekyaZokUmC44B31vT4pSW84zPf1+2VKgI+hF+B7RpYKcEqaBLfbfHwbLHg11BetBiMm3R62jwIvo9hZ+w88QzGBEagZACxxCYhsbQmtBXBJFONLJeRuWeHy9MLk8KpKkJa30amw12lpuskMIfc7kyoSgFPTjQbPf0UxE5z7j/C5143pPNxhSERHSPO/iPoXfUZE9L7MEsw1N5rs6nmBm2KKUkZpL17qvN+jy3iz++leoVcC4ZCJnHyk0zMT3O3O4+294WS1/eIDWZYbS/Qnf5gMVKjsELs8xfGaWcTWFxBofJ74KKCKKTtI0xXc4xBIZMDiIpG8cUoHz63YBGVxNmQJy0+suP4wHpIrMTDKVhQIdIsU2zK7CFSrg8sZtOEEGvg187ohvZkBsiU8yTjqrUHtxi9fE6W57AK5ex/S50a3T9Lk2gzIvvB4HAcAuknRxuWTKqumjhEJjxLctfHG6NNDLrMJgSlMY0tu1RTxnYQp1SXX8aECAzGNlxyuMzXJlc5MjfYevuHW6EY8zqPfr3DnhwlKM4M8fcpXGGi+lTkfPzg0aHiiiI8JUEw8S2TBwTjEQY0HJtHFdiKo9uL6DR0wRh4kuTvHxtCwFaGpAqUM5aDMsQO6rSPUjC+kSyIon4S/U9/GaPni/QmSzpgkMm6tJd2WVt4ZBdX9AvpLG6CrPTodMP6ShJJnnXi+wQrUHYNu6IS8aUSCKiLZudNQ1hfGcDJ1fsCoQFqSJDWRvXCrBCzU5DYJ1kb3xxRXv1IVIYmUkGx2a4OtNiP9xje+E+N+w+HQ7o3T5mtZbCGpni4vw05ayL87doUrxQaIQKiFRAEAkiw8G2LVIWxGqFDjKTw3FN7KhDp9+j0dV4IZxdXJwG4SJToxQcTWbEwrEkB1UDJ1m34ymdTIZem6hZx/MjfLdEqlQmr7sEG49YuXOXjZ6gXRzArINT36URRHQVFF6C81wgwHRwh+cZFpIhfHSzjb8ikOrJxcfpkiQcZHqUckowIDSW2KURWLhECC0TidmTz/6RQ9iI1CSDo9NcnOrSPzhm7cs7DHanaIYbeEt7PDxwcMZmmL08yWgxhSvPIjvtt5WXeKiqCBVGBEoQCQPblqSsJLOWNLEyKVxbYmgPzwtodDRBFNt7Z2N/xGw67eYppAwGJgR5+5jNisQV6jRbkhCJOLEf4Ld69PsRgeXilDIUDZ/e6i5b9/fZqPRpjRZxVn3MToeeF9FRIs62dRLH8cKKrhGWizMwhVVSFC0b+yhLfVUi9UnYjnhi88sUZtqhkILckMSyDqh0LFKEJzE4Lyl478cFITSIOCNsba3F/rZH0y7iTJWYfj3PO5dgItJkvZCdrQgvFFhPUU+e2eQSJ30IsY2knziWTv5JfPVEJ0iylsF5G6fPDQFEKnb0hIFC2AaEAd5Wg30vYr0t2c8WeGNEYrShthNLKgS+fpIA4FlUqMXJBcyTtgyVQilOODhfLdQLtiu/G+IFMtw1UmgMFPWjHptLHZYf9wmHyoxdzjI93ELue2xL/VTIZqxv9GwLsDh1yEnTIFNyKI2lEUISiQjZjWi3Q45W2yytdDnqlKm/kePqmMOk9Q0OtO+q82lf/DjXqVfAuWQi5AB28QoXrmxSP9in/eAOn/3fPpsjFsWohnd4zG6jyPBv3+Ct9+YZH3TPKSTuBMkSKQ0sI/ZaqsCj0w3p9AM8L8LvePSbPbo9j17gIkONF2hUsnCcSdlF4jgSEkOCcbIpKIVWETrp/tjY0BD49FsdAj2M4do4Rgf/qMmjz5dY3fbRwxPM5VNU7vtYfod+36PHS1qrpAAMJEbCMhWohBqr9JMAN5mUXyf1NCWcbHkqeprd9FOBAFnEyl9g6sIB719a5uPlBW7/vw1WbxWZy9apLW+w184z+Pev8dq7s0wM5c5WZ+UvEBsVQkoMU2LKCB0E9Ls+nU6EZwT4fZ9+u0e306cTaVQIXpDQbE8+4iwg4nEmzPhQYWhitUd1Wo34Yl5A6IV43YggFEjbxDFDgmqPza0DHi37qKE8Y2kTZy3C6vfwfEVfy9OLkxdpB5xkWhJSIkwDGUXxvFAnxKavvUloQMZC64ZARgnvVz0P1fhHAAGQQeYuMDpzzIfXlvjjo0Ue/q7N+v0yq+U2WzdWqRmTZN6+zBsfXWaymCJ97k0kQFhIw8IyFIQ9ep0erQ70zRBHdOg3K3TbTTpRhPA1/UDHYvJnshgkDSST9d2I6eWgiXSERqG1fOppDV5A1PMJQok2XVwnQjW32Vpf4v69GuHgCBPvWBiLPm63SjdQ9BOG8AuvkoiFwoUlE6eHCULjRZromwxZIRGGxCDZhxFIHaEj9dPThREOInOFidlD3r6ySaexxmf/zz9zdD/PmFGhubbNUSeDdf0Kr39wiemRDGnzvPSWeOr620QaEkMqUAG9nk+nE9DzBGHfp9vo0uv7dMMIPwLP10Qh4HKmBoiQIh5rCWNKKJHYTU/OMhqNiiKCbojngzYtTFtgdGpsLhyz9KhLQ6aZ+UWRoHaM4/fx/Yh+BEq+wPPiaaEFQhhxEMPpv6lEx+Spx07/9PR8iqG1QseiTD8he+/7Qcq43aIgorLrU29oRDlLeT7P9HyWmUnNoKVoH/SZGOxTqwkcNPJZ08dr4oEnBIbrkB5IU/ZMLmQhUCdHFP0V5pInUxQGHYbzJmlTYH7FS/8DwYnxlghqS0K6jR4bC01kyqZhZ0jN28yWQjJ7fR7taTylUX9zKKc+NeaEPnMP0nfjRRRHAGGE6rQ52GmzuO6zWLEoXnG5ctWhmOmwrxQqiFlbQoKQ8dj77nOgTsIhQWNiOC5DMwWuKJuWBm1qdBTiVbv09lrsVjwWcg5RzsVNW4wOChzx4qr6Y8Ar4FwCLUwMd4DSQJ7BTIhorLO8WGc/L0jLAL9n07Eu8YvBIYbHcuSS3KLnw1xKHEtCot0suYxFUfTZrFRZXThkfCTDUM+jsL/Fwy82WdtqcKgsCrZ5qsFwnk4xnSxe+mv3gAIFUUDohUQyjRH2EMePqJkH3N0xqLtXGJsymAqqfLl+gAx9/CAi4Awmk9YQxWJ8z5a1QZ/+rp91E/zRQAMmwi6SLxUZzoXI1gYbW7sEKYejgZDj7ZB+epCPBoYYHMmRz5zzSVhplDAQTopUxmHADNioVtl6fMjDx0OMjHg0j3dYvrHJ0lKF4yjLsJSJ+N33FHv8W6AVKogIiCCKvlmEV2h0GBFFmlBYsYFVPaIhu2zvBWyaI4zOWYz0uyxXW7SjCD+MBUtfatGjiNDTKK2eCNx/ncrLSYUUURTiByEq/CrN+KcFiXQKpAsDDJc0RnebzdVduksZ+lMhy7faWHPTvJkZZHhikJzztITkecFGWiXSqRyDrodZW2X94RJ3LsxSnldMtO6w8ckn3F9YYk9nmBDxEe3cfWLopxy1X4sViyLCEIIojnuR9TWaq/ts7jR4wOvMzGUZiRo8qm6zs9cjiCJCzmjMRvGa8GzvikDHYt8/JT9tjNhprY0BssUSwwWDTLTHxr0etV2DLbtHdU8RZi7z2i8HGRwboJg2kvl0jhACbbk4mRR5W5Nq19haOqIwWWRQOVj9Iza/WGZ5+ZjDfgZbGic/Fn8/y7JqTRRGaCUILAhjEuCTFkyMUB0lSRx0UtZum95ahcfbPivhIPaEyd9fk/T+pUIYRQShjh0C+htu6V9ORWKNHPEsczhCac1PcEJ9T+hTAeNWS9HzDJy8TWHQpVCwSLsRuA5W3qWQMcm1Y4az4Mky/V1QOmZGG2mL9ECGYemgBgSBOmGYJM4QrdFSEAqLdNZiqGCSMWMdm5Ne/aHYH7FdJUHGzDsz7FKr+Nw+CBiaSzF4Nc30nMNUVMOvCCzAB05a4295Yaz5AydUphOu54/lcl0I0H2f/laV3c0WjyuatSjN9axk3Anpt0LqLUWrp/BChecpfD8iCGVynfPdiM1vEzOTYvKiSX4kRyhEHJWgQvxGh6F2j7tLPZYOOqxt5hkvO7xTMrHNuMv/J2K8As4ljcAj7B1SPa6xX1N0jBLlqSkGSwZZ1cav96kGHp3DI472GrSyObIZeW406ZiuKQnNLINjJWZmDtnvdVl9vM49s08wosg39ll70OCgFqGKBo5jYBpntSl/G5IF/JSw/7Syi4jZQUpjmD5edZvdBZ+l4w675mUGLkwwP9zB2amxKCMCrQjUWWZfe943/ViW1OeFAAKUd0yjeshOXdEVRYoTA7jFLJPpDpmoQjXy6RwdUTls0iqWKOeN7/zklwat0JhoO0NusMD8TIrdbo+1tU3u/A8wxxSZ5hG7DxtsH4VEhsByjCfi2efo9Pj2TUufXrZJQvx2i8Mln1QlwnMymJdGmZ7pY+x7HJmaVqAIz0qA9JvEMeOlgW+c0clU0nzNdn+KrfWjhQZEiO5X6dQO2DkOaFOgMFpgsFhkvNxDHW/TcwOCRoXD3QqtcoGsZXKOMwqwwRggOzDJ/NwQ05urPF67yZ3fKcwlg1F/hb37G6zsdVBmHss2ME0Rh5e+ajgZknEaH4T2CXtVjpeaLHWreKlhxOW3mL3YJ3V0nyMrYFOp07F8PmvDM7xVn1W41KsEASJEhDXatSN2j/tU/DwDk5MMj6UoGy3yRo1GGOHXKhzvVmmMDJPPy3PKDhw7LLQQaMMhXSwwOZFhdqjKw80dHn+skFsOu7LOwd0amwc+vsyRdeKMVzKOADof4kVyEx/jq4v0ScjI6SVCv0d9+4iVG4fsRoOoqTKj05IrpSM+MaGmQGl1xlaV/ou/ffP7f3KT6MUiadQwYXkKE4QRb+5RpE7X3Vjfh+e+IRdCoBRE/YB+rUd1v896XRIoHSsIyCQcPwmL86RDvgzCtcgVJVkhTtlNPxhoEIbANMGQEdSb1CsuK9kMmVyBNybSvDMpGNjTLEcQ6JhRblhPOSiep74nfZKkuX+6i4QQsQ7k2cfEvTgkIZRBL6C5Xudwo8NOxWA7tBlfrrHiaTb7bZaWOmwca6qBZvVxnWxOYlzKMFmyKNpx0iL4K62gY+qk7VoMTqQoi4QRKZOx7+UYr9TIhAGVTkSzElKrxNI4SsQOlR9oC79wvALOpRAdVPCPFlhdWufhgUN34D0+/OA688M2heCA7u4qa2sHPHh4j8VCjguDVyllMricnxCxUoJAuZRmhrh8vUFTHdLcqnJ0t0O/YJE1fbq+Q2Rqcq5JwRE4tkBKfc5GpUwWmada7oS+IAykIXA4onFYY7FiIIIiqbfnmL82ycXUNs2tKI6BFyIRAj9jiCRi7nSX+2uPnphQ+pydemcIrSCqEFQW2V5e5Pa2Q7f0Fm+9do0L00WGZZ3e+h2W1o55tLzA8kCemYErDOeLZDgfX4FEoyIBMkVuuMyFdyeo6j26602O7q5wa9siZQb4HYvASlMwTIoOuFZ8GD7HqYRU8Qz4S/KPQEgDwwBTd+nVYK2mCSfTDL9e4sKbw0znjmkfgxFpIhELM770cXp6q/WX/fy0BsJXw9TjWL+vz/WT509i/n+0u2rUIqw8ZHflATfWDZq513ntvStcuDDKpFGnPfEJj7d8NveWefz5EJvT75JL58ifm+5S8lYjS648zYXrb3O96dFd22f3/p+4teVQTAeErRSeXaZo2RRdg6wtMM7XI/aNOB2r0sQwNKZoErQ2WD02SXku49cnuPTuVS6Ob+DVwQojImHEWm2cZR+cCF+cCj789Xf/pQLoj9pPG0ND2EdV77Gzusj9zZAtcZX3/v3PuTRdYlgd0tt9yObGMQt7i6zcGmRjIk0xk6NoinNy2Mb6lJF2SA0UmXptjDdrHRqrbQ6X1nmwZ3GYA9Vz8cw0GcOk4BiknHg+nec119POYvH0dx2HoQtDYIo+QUezfxhwlxD3tTzjV8tcHA8pNg4wtUYn+5NMzK7zqM+JQui3/e/T334KM+lFQiCwDTCJmc2erwlDkELEl3+BIggi/NDASLJgPVO69PhYgdYRQb1HY73GymKbP+3Hgt7yZMlMnJxISVdkGZnRBLbNwJBNMQeuFIgzvczmexjD8R5gmuCkTeyUQDV6hL6NPZdn6PUiM3MOE24P0QrptSMCKZApiekamMn2oZ/nkJicx4DTRE2xvIJIzktxXwp91hcuL+hNJ4R6pfH6AiKNrX0Mv832cg9/R6PDPkeHPkc1TTsKCO8KtCmxsya2a+LYElvomN31LSXTydn2/2fvvZ7kOrI0z5/7VaFVRupMIDOhQZAgKEqwWs2Y7aztw9r8kfO087RmXbPWa9vW3dPdNV3dLAqABKFFAqlV6LjS3ffhRiSSKJAEWEBGAhWfGVQiMu+5fq+7H//OOd9RxmBJiWWl6x6WBUKDscm4Am9QDi+eC8d+72f+nFt/h3zo0ZNLJsL0tvDXb3Dv/hp3m3Wss7/mr//3v+TShEMpWaezlufOv+7y9d/e4H62yurVeU4t5A9rHEditgEVW+Smpzj1kSJ2PRJ3l7trcVqXXsqTn/Mo99uYrEvNFRSzYI1oY04hUmZbyiMaLBZSpmmruC5OxsNL1ug0HHasBcrmNL85vczl5RyT/VX2w4gEGywX17JwOaZtXAz0X+ThnRwy9MN/fx/pyS7loNJTsJTPnNN31/VQ0NvF37zNk7v3+HZvhuoHv+DT//QLfnWmTN50kU/hi3/9Z7772295lKmwenmaMysVsoyIrJWk2hTCIVObYPHaMqHroL1dbj708RMbXciTmXWpJi7WgaTqWRSzYMtBAs1xTyohDmlacYQRSvfxdKO3HAfXETi6R9gK2TdF3NkyZ+bqfHAuw0xfcy9RRInAODaOlDhHTsNv6p7E4BA8JLPSg/uAchYCKcRhpF0gkfKZttlh2vVAMXHoHL6r88kAImwRbN5i48FtvtmskXvvY/7mN5/yFx/NUfQbyIt9iv/fV+z+7h6PWjke/afzzM4Uyclj1MZ+EYSLW5tn9sNf84mwibO3uPGgSTMWxG6Z3EKJiTiP9n3qGYdyRpIZObmULtqH0VcxPCALcDzsjMAxTZJOi6edWUpz5zgzc46PL1ZZlI95qCKCSKKtLJ6Ux6fNOIjAHxKtSISUSOQLrp9OGimGc2vgqL6rk+h5KJ9k6zprD+5xc8NlJ/8R/+d/+RuunZ6kFm0S72a4+7t/49Fv77F2o8jDT85waqFA3mZk2YBGgzISu1hm+tIC71uGILPFd498GlFCnywTS3UqOxovcKm6gnJWYMvRBBJTtyf1e6wj6/Ph2m8JhC1xPAtbhKhun4MGPJqa4OPpOpfOFDhXbBJux0RaoO00s9E51s6yMp3/6Y462JteNJ/TYKkcHLDTX4OMmDF+AgIj0qyZUlGSdyFsRbT3EzpdRRQrcoFPZ99nvxXRDDNktUC/ytDqwTsjAVtgORLXTX0+KQfBYgxCp2VkiZQ4tkzf26EvxM84N72ueffKgbM0jUU6NnbRIVt2saOQDFBfyjK3kqE+IXFbMVtrMXv7isSxKFVscnkrbRAwXDReYpyNMZjEgElIVEK/p/BjTZxoklgRBYqgn9CzQFgmXRdGefL/OdNSA8KkfvJUldkVm/fzMfkuxFpi6RgpxKABkOGI5nxKsr2kj2qMxgQJUagJhIV2bHIZi6yncUxCcNDjyUbEasMQuhb5sk2pJA8Jwe/f3gvI8BcaMcjaO95I2BvH6MmlJMH0WvR3NthvBLRMjZmJFZZP1ZhxJTaarLtA71GZTOcx3a11dno+DaDG6JwNAKMMeHnycwuc8UrkJ2dY2dXEUiGtgO7WPl/uxzRMjoznUs+JtE3qqNKkh9v00bRJQfpiY4GXxSsXsKMGxpQwEzPkLl1l5ew8s6UDRKtB3+/TJ4vnFPAclwzHNB+kHJBEz673Ysd9eFMMm3YxOO6/S/P2h2E0+C3CvS0Odps0uML0xDKn5uZYKEuELIB7mlMPy2T7D+jsbbLT7tEAZkdpthkIQ7ge2bk5Vrw82clZTm8G+EJgWT69/RZ3QkW745DPpPMpY3Ooq3Xszzf1aQ/fwudzEKyMjZuzcEyEUBpTLeCdmWXu7BQrxQjZ9omCCB+JcT0yriQjzZuPdA8O7HqYZDE4vKdJF0OH/ugaJQeE9PdvUh468O9y2pKBqEewt8nB9gH7+iyl2jKnpmY4Xcijcx6yssTUjfsUkkeEjVW22yGtyDBri9GSSwaMXcKZvMzyJ2Xc2gVW1ps0IoNTiNC9db7tB+ysFijn89Rzg06FI4UYcC/D90qkWRYIyGSxMx6OCJBRjMlfxLt0jbnLFzhfUxQOmoR+j66xUZkKOUfiyWPyEQabzXDuHH7ZetGqJIEjNfKDeXfY+eddhgHikGhnjeZui0a0gp49w9n5KU6VsjhMkhSXmFu9TSl+yubOGjutLs0YJrNpWcPIxsgYsDwy9SnmvCy/LE5yaiekGWiMoyk6Df71cZbHOx5ZL8NUQeLZg4PxMS+PBnEYEBiWlAw4Txh83XZs3JyNJxOEitCuwL54mtlzkyzXoJ74POgF9HHA9fBsC+9YySWeHbgO54j1w89fyMOSojSM+M7Ppj8ZqVi6wLItqvMepZ0YcdCnudpmq6ZZy0DvoMmTu20eb0XsOC71wxDaS7wLBrQCbJvsXJWFQp7ClYSLoUAdCnrDsMMfCBJsMlmXasWmWpR42hz975fD9+bbM52oZ+T/j9suhn6RHCSsvORlgVTEW2hwLZxShvxEgXo+ZNIX5KXBUjFRR7G/1eW7+xGrO2BmHapTLpWqhWelgun6ZYSCJJjEkPRCwl5Ev+ezc9Bnux3TDhOSdsDBZpeNvORR2WJuwqZYkLiIIQPNUJ3pzcyWIxN4uAj9nMVwUO1j5TOUL0xz4dQE86Hm10qQKLBUgOzu84f/6PD5zYT1vsfl38zw0S+rXD6VYTonyWN+uEQujtimAAAgAElEQVR5EMkSoSLqBLS3e6xHNh03S63iMpk3ZOM+nfUGX9zzubErUBc8Zuc9ZidtMlaqd/WsIyc80186MrL6mQyNGB5mjzrW4gXf85Zi9OQSYLRGK4WKfeKgR6/Xp9WTaBcgQbS7NJt9wjAkMToVljWMXLtPYIh8jdEOTrnOqY9nWbEt7GCf9uMHXF/vo6RNkiuRrxaZy0JGgU6O6yg2TIEcqODrEBP18f2IME5QWpKEPn0/wS/aVKwsdnUa1whytktmYZa5qxdZXPAo6DbtnXUaey3a1gr1Qo28l6PEG5wGJu0GpjGYKCIKAvwgJkoSdBISBT18pXCFwBYCicFogVYxthOQBCFhkqASSGIf309bUxe1RlrDKPPbP4m/j5ScUCZBqRAVpvOpHShiaePiQ69Lu9kjCGLiRKGMeWlxxjeFlJ5I27YaJbGKEyxenWbpEws7bNJbfcR3TZ9bsaFfnqBQyTGdE2QsMOp403yNAZMoIh2TxDG9ICZRmkQr4jgm9EP6PUFiu8hCDtex8SxBcabE9OVpFs5VmZBrHOy1ae76tHQWXShR9GwKUr8heYHBWqANaEOkY2I/JgwNcaIxSUwUJAR+hJ9zkToV+jRGkegYFcUEQZKKjitNEsUE/Zh+XxLaBhdzKLD+zsFotFZoFaGiHv1+j6YyJKSZc7R8gnaXnh+TJIp40AFs5HSbMBhl0ImDzC+xeGWB+fcMcexD4w88+vw616OQdv0KpVqdKdehdOxGDg8OmkQZHMfHBCFRnAxaOUf4kaJvLCbcPHa+jOvmyMoOpckJ5j44xeK5IkV2MbtrNLd2aMY5ksoC5Yyk8MbIpWFtu0EjUWFI3Ovjh4pIpe9KHAb0o4hApYdygRgEKUNE0sPvB4SJIlERcRwQ+jFBItADL1XL4y7rOyYYg1EalYSouE/Q73HQk8Q1cJDY/R69Vo9eEBHZiuTI/jRqiTeTaKJEglth9soEC46FTHyi7XW2vn6IQhCUKri1InN5yFoGc2z+3tDIdN2OlSbQIX6gCGNNojQqSgj7Eb6fIdQSkc3heC5ZEVMoZKhfXWDh3ARTuX2c1Q6ttQYNUcDJlyh4DnkrLSsxAw2e1243Ks0SEzbS9/GjmCgRqDgkjgL8KMQ3WTxhEANyQicxlvRJ/IAwilEqIY59wiAhBJJYYVnykPwd4xmMEQgjka5N5UyFhYZmrhGw8XCLW12P/gOLUtBj417AVl+jqgLXSTPyXnootQEhcco53FqespQsiBeVuAmGR3+hQSYaMfTtfuYEOswmkc8O/INGuM9H0J6d74dZ3QDCHCnbewUYg7EcZD5HYbrMpaUe/pOY7sM9bsZdGnlFttnj5gNNw85RncmyMu8wV5FkrJQE+UkOZkhgJIpwr8vO4yaP1nt8ux9zayti24/RGy2C64L+bsjBVIFPPshzNmMzkT3COB/HnBheSqaDKX6Gz24QSNsiU3fJSpiQIm1UIC0s1Uc3Ig62Eza2Y4JujqXzRc6ezbFYssgrBeqnkzqE0JgoImh0WHua8KAtwbXJOwZXRwQHPrd2LNqlEqeXilw55bJck4NO7JBWyMhB18thbcPhDXB0wKUk7ewn06qaNHdi5F7ja8PoySXLQmSLeNUJqoV1vLXH7D38ii+u15Fn8kyHD2jc+oYb36yzL8pUa1NUcx6FERs/DKQk/T5+06efSFS5QLFs4ew12bq7y8P7XVrWJJnFOtPzJepCYZPWKx8fMWbAxATtBu3dTTqt+6w9WGOj2aEbGHaf3OXRrRK51gSmYFOqLDNRnWAqa9MVISrp0es6HBw84MmNh9x/2iMsz1CcnqNWLBwKpL0ZuyNM1MPvtNnZ3qZ19ykP1g7YaSr8zjrbj29z57uEysQs9VKBiYzG9FscbGyQJPd49HiLrf0W7b5g7+kDHt+tkQ/miMpZ6pUMWW/UortvAhbCK+CVJyiVXHL+A/Yefc31b4qUnWkWzTrdb2/w9Y11dnWBcnmCSj5LkREfYiQIY0jCkP5ul76SqEKOfNnFa7fYebDL43stdoMc2XMzTM4VmbQ0Hs/ajB6bqULRb3XpNtr4rQP299vstiM6QR93+4C1+9vkW2WcaQuTL1OuFpnK+BxYCcQh/W6Pvc4+j7/bY3UtoOvUKc9XqBZsCug0o+i135AAFCQh/W7A3k6f9mqDrfUeu62YuNdm+/E2DycVkV+kkMswlTck7Q6tdptue5cnj1rstALa3QR2Gqzd3yXXKRJXPOoVh2xOHkYYT6Iu9M+Gm8OrTFCqZCgkqzQfX+f6zTL18hLLYofeja+5fWuLrdDF1GaoFTwKIyzhOYQ26LCLv7dHu69I8kWcvI0d7NG9f4873zxho1cl995VZuYmqXn2aPZUHRH1OzQ3t0nihzy4v876XpNmR8LWE57cu89tlnGrFiY7R2lijpnCY9pWiIlD+u2Arr/K9vUH3HvQpGEvUFg5y0TWeXOlvkZgUBC36XX7HOzssvf4Hv2nbfabim64xu7TO9y7Z/AXFqhXi0xkQfTb9JtbdBsPefLwKet7LRodSbz9hCf371M2EaqcZ6qcpZB/p2ZRCgHYDl5tmnLlMXm1wdbal/z7l0vkzDynWaV/5xuu33jCRuBi5iep5HMULHF8Jfg/BClQQYzf6NPrRsSlIl7RIRt36a/tc+vzPXaTKezTU0yeqjBpQ+ZYDUw3DSEUSS+kvddlN9zn8aMmm7s+7X5ItNdg494OD2QCnqGYKZKvVpgsRWz3Ykgi/F6Xg26D8NYed75r083OMj9XoVJ0KAqD1Br9Rp5Egol7RL02W7s+3dWH7Kw22TkQdHub7K7d4/5dCxUuMFUtUfHAjXp09rbwe494dO8Jj7caNHsd4t2nrD98xP1iFuPYTM8UKGSd0a/JJw061RMTtk32dI0F3/Dh/gHcbfPktmb9YVrWZcUZMlMe9aksCxMOVU/gCQ36JdeoQWanHJRk2j+YpWmRapwZjJVm7/wpWX8pKZ0yNdoMOk4b0r3xeT/FpKGC4eeM0aBFel7TQ53ZV7i2sMDLkasrrr7fJjEt/m39gNsPNbfROLbkIMoyvVjmzHKeS9M28zlwRJrt9TLVLVIKEq1IWj6tp20e3etxfRfaxkJUwVYx/kab9R74HZuZxQzTs4ayMXh6oP+rBwH8ge9mzOtZZ9OMTTMYa5OOoUovMognIaR4hYDBMKt5oAUmj2RmGgmOQ6nkUZ+28UsZqkWLrCPSkrWXDNgKKZG2wBKauNFj537IVlfTV6CFxLYt7IkKi+drXLtU4v05m/mcwVLpPaIlckBkKUP6LmGelZEKk55YtEANsmSMMiit0/E5rIZ8+0mm0ZNL0kUUp8gtXuLU0gaLT9e5/eRf+d3fJ+zfzlFP1uk//o6bd330wqfMXTzH4kSe+nGlu/8QhABHIAKf3toGq2tdHoc2xgG1f0DjyT6rexbi7ATLl+usnMqRUWmr8ePNuNIIfHo7j3j81Vesrj3k/vYmq/st/ESzeesP6EDTOXUe/2KFD5bPs3zuLBf2nnLn4B5Pf/8P/L5Z4t7WdbZvrHPvoEDxoyVOn5ljspp7s6abAOVvcvD0Hjf+8IgnD75jY32ftT2B6t3n6c0+v8vvU7v4Ge+dd8hMRFj7D1n9w3/wtPWUm7dWebTboO0b7PtfcF0rupvv0Tm7xNWLk8w4FtYLyxbeYkgJhTr52XMsrDxg5cY9Hj39PV/8k09nfZJle5v27a/45k6PeOYq0+fOcXqywiTPegce+4hoEJZECIMIA8LNTVbXujztS3xbYrUbHDzeZ+MAgqkJLnw8xdJcnqwBS2niYzQ13csSgv19Nr7b5MnTPdY6XTY7EZ0oQT/Z5PbnNu36FOZaiVPFCaaX65x5uEHS3Wfn+l2+iHdodDdY/aLFvT0b+3SVUxeqTJUcPKXpv36rSTUNFCbo0Nrc4871A57e32Rvu8/Ggcb4uzy56eMYn+1L8ywsOVSyimh/j/W7mzxa2+PRRoun+z7tviB6usWtz206c1N0lie4dL7EYslCJHACcnZeG9JyrDLZuQvMraxy7ovb3Nv+nK//OSTYnedCdp/961/w7cOYbvES0+9dYWkiT33UJXEA0mDCDuHWd6zeWeVh5NERNq6/TePBHR4/VXSml3n/s0ssz1UouKPYUQ1aB/iNp6xd/5y13cfcXn3Kw70Wzb4mXr3J7d97BFt91AezLBdPM7l0gQunDmhuPWHri3/n3/uP6SZ3WfuPx3yz4SAXTrPy4Qr1rIv75tJq05TJaIfW+iPufPOIW9/ewt/tsN2MCIP7bNwO+EOhwZNLgouXlrk6Y5B7j1n/7hserN7n7tOn3N9p0Ooagqd3uP0fefytLp0zK1y9OM1K/h09DDtZ3IXLzC1tsnL7FruPP+fzf8wRbc6wKLboPfiSO/eadEqXmbt4idPTZSbc0ZJLYlCVr5KIcHeHrbvb3A9ceghE2Cfe2efOt4bgTI3lK1OcXc5TkgZLQ3KcdloCqRVRq8XWd2tsbO9z/0mD+1tdWkGCv7HN3S8d4lZAb7HIhYUqlcUpzi722L/TYvere9zo52ioA4I7e3x9X5A5N8HiuQqTZZusGBx538QSbxKI9+jt3OPWH9Z4fPc6BxsNNvYlfviI7XsRXxb22Wj9iivvneVCXVBsr7N9+yvuP7rLnUePufV0n6bfJ1i/y70v88TtiN3p0/yq4OGNyaU/xiAtSEgJ5SL1FcG1nsDLOVQ2YzZCG2umQDnnMuUaahWP2kKOejnNCpVG/zQJMpy0SqNiSGfEi2byc97nkPn5uZN+QJyoSON3YzpNm2YykDEQ4AqLrG0OS7VMolFBQtCNaLUFTQN5WxBj4TgC2zIpOfaSl1dGICwHr5TnzNU62pN0rve5vxnTiixkKcPS3ATnLle4tpJjuWRRsVPhcvWS19A6JVisnEu2lmNizmKpIJCuTcYBESdEShLZWZyqQ9kBEcb02xqlY0Q3otlR9EJDrMyhz/J6zqgGEk0SpWPaa2taQuIKgbEEliNwXzWb0IBO9KCcc/AlKbC0QkYe5aky595T1COX2ZKFF2kS2xD9VMBzMA+MJbFzGQrTJeZPQTOycA8SmiFElkO2lGfhUo0LF8t8sOAyXxRkhCbSmihQJL5CS4lpRrQ7Me1AEyYDwk4MrpEoksTQ62rQMaof0WoreoEmGpaKvgP5yqMnl3CR7gzZ+V9y5RcxQfA7vC/uc/t3/zfrRgES6RZxJ65x9Td/w28+u8z5ep4cox9+IQS2jNG9Jrv3nvDFLZ/1tiYSDtlqlelzC1z9xSIfvl/kTE2QJMettTQYIe3j7z9h47vrfHNvjftdRVt65Gsx0cYdVlvQbVq4+Y9YPrfMxU+vEXQ7dD+/xfW/u8PTfxCIMEFbNfLLV/nlJ2f58HKZ6eqbtj9CB3t0tm5z+5vvuP1om1ZoESCYyOzQ2djnqy8j6u55StNTrJRCnOY6G999yVfrBzw88Glj45UMyfYDnvQs+h0PN1tjaanKVGk0zY3fKIwEZxJv9kPOfBzzX3YM//b1I25/9T/4n18I/pctMMbDrX/Ild/8Db/57AoXZ8oUGTElIFJqS6Iw/Tb795/w1a0O9/cNSBuvXGFiZY7Lnyzxi6tFlmsCdFoie4xGgtQIExM0W+w82OTOrT3uBxLftXEsTdJssfmdpDlhUZwsUv+gxuLlOa7ttOh+tcvN/7XN//vvDnkUfpKlcGqGS1en+fRKnloWVPyqBf4vb7swQNinv7PLo1ub3H7QoRWBb2ym8l1a6x3uCDhwSphKlffnNWGzwfbdDe7ca/CwrWgZCytnMJ0W6zctOg0Ly8kxs1BgwRIINYiGvYlbGBWsCu7UNU5fVfxv25r8lw+4+e3f8S/fSL5wLXxfkFt4n+WP/oqPP7vG+Xp6sDwJCjrSxOBvc/Dw9/zhxjbf7WgS6ZKpzFFb+owPfv0b/uoXdc7WUq2HkeyqKiDqbLFz52tu3F/jdjOiqSzcgkG31tm6adHed8mXJ6l/tMj8xSv8YneNg3+8ye//5b/x23+x+BdX0+vnyC1c5b1rV/jPv6xR9gZRwjdxTwLQCSI+oLtzl8e3vuXLr54SygyxZVF29gh2Otz82mddLpGdmedcXWM319m6+y3fffuA73b7HCQ2bj6B/jZbN7+hs+9gZIX5hQlWXr/Vo4cRYOUx9U9Y+lDz1x2JI27wh+t/x79+rRHCkJgM7sQ5lv7ir/nlZx9zea5MxXrW5nlks0oIhFAQdmivPeWbb3rc21EE2OTLeTJz57j66RIff1jm/IyD0OqZxMbxGDgo/dFEvTb7Dza4fb/Bg4OIvUBgFSzwO+zc2STs2GidZXKuyOLKDFf3m7QPVvnnf/uCf/h3gyvAaBflzXHl2hTXrhSYLKTBg5fSgvlZiDFxC//gIY9uXufLm+t0YotASIp2g2S/y+3rPTadJQpzp5grCtzONvsPvuX2l3e4ud1jOwSnZCP8XXZv36TXsuleKHH+/RkWRl1TecIRhxZ2qczSZyWWfg3/x/M6MMMD8pExFAaSVxnTHz04v8aHM7BTogn7AbtPWzxOAqKcRdm2sPIe9WnBfJW0yZEQmDghavgcrLdZtT3ICQpZGzvvMFF3KRVscha8PPNj0hwdx8U9M8elxUlWfhnQ7Bq6iUTZFpWKQyEnyTgCC4NKXqHY1KRlusJzKZ6b5uLZaS4Y+K/PDUMqWyjS0vNGn3arw/a6phfFxH6PxmbA1kFCL7EoDXWmjlzjZ0EMSLwoIWz02H/q8FBJoqKFa9sUahmqVYdyMdXRGwa2X+XnP/urQQsbnSszfxHmL5hBhZp4tXswYLCQxTzlQp5fnJ3jF0MZjOG1BgOaVhQapDEkiUYnMc3dgEZH0YsNcatLd91nbU/R9CEpSixLIrQm7iX4jZCtnYhWqOj7Af3tgPUDRSe2KAiGKvffu923zac+AeQSGOlh5xeYvfBLPiZLrjZP/eEB+72Y0MrhluepL13kvV++z3vLdSbyr73a+2cYnaaziUyW3NQEUysRZ3WfXEujvDzl+SkWLs7y/uUqy5MOJcegQo55cxvm2LlkStNMrVzmjDdDXrto28ETCh0F+GKKTH2ahckSuUyNqXOfcCU0BO5N3FtbbHUVgTVBYe4CZz74hF+9N8u5CSddiN4oXKRXpTBxmtMXLKz6WUJpYzvWoGVqjMlPk58rM523cS0HuzDJ1NnLnCmHVGJBYllYwiCSkIBJMpOzLE7nKLjy3ay/FwAeMjPH5MqnfPw3hkz9LlMP99jsRERWFqswQ33pMpc/fZ/3ztSYKtrPvnVEMCZNtBeuR2aqxuRyxBmVx9oz6GyGwswUi+dnuHSpzoVJi7yVapcdf5aVwGDhlorUTk9xWmTxlItwBNKkehEJHiZXZLbmkc/nqJXnuPBJgm9v4N7t8LSRoNwsk/UpFi8u8OH7E5yftMhZJu2a99ox0FsSEpwMmWqF+bMGXaoTIrE9gS00UT/BFCsU57LMFNPOdaZUpHJqmtNWgWwsUbbEFhqjDKHO4FUqLEx7FLMCqcxhhOadmVoCwEZkZ6mc+phrf6XxagvUH2yz1opIZAYy00yde4/zH3zA5YszTObkydhYkUgvizu5yNSZy5yNalDXxFaR4tw5Fi5d5er7Z3m/bpMRBsuM4sEJkB5efoL68kVOOzO4kUViO9gkoGJiU4LSLIuTJUqlClX3Et4venSSHHy7weP9COWWqFfPcvryR3z68QpXZyBrBpoGb+KeDCAkximTry4yv6J4T8yRuFlsRyCSCJVoTHaCzKkaM0UHz9ZYhTrVU+c4rUtYfYGyPWwRY7QhJo9VmGNhpkg59yPCxW8zhAFjIZwZaqeu8f6vbbzCJMU7O2y3A/rGQ+SnqJ2+wPlrH/H++RnmS9ZhBtqoxsQYkZZx2A5utczE8gzLYRdZVQTSJT9ZY+r8Ka5+MMG5OYeay/FrLZFGyI2RuPk81VNTLMg8big4IwSWnWY1hYmLVSozO5OhXMhRyU+RvRrhh5LgmxZbLUUgPZxyjdrSPJ99WOXSjEPBAa01Bl6tW9jLQljgFPHKCyyejfDdBSLbRdoCqWNUnKC9Kt7pOnMFh6wjcHNVKgtnWfTziNNwzvJwpQadEJOH/Dz1U2XK76QEwuuEONTwsaWFZYtnqR5HGVI9KBlL+Hm6gm96AgsYduJ0bMi4CeFmyHf/tMZjT5DzbLKlHLlTk3x4rUwhJxFZCy8nsIKQ4MEO9zcbtL62yVoOpXqB+eUS1z4pcz5nkbElziCi+XKJAoPMHFvg2A6uK8mUITICgyDjibR6whj0z9IOHYSwLIG0BJYUhxkyKQad4QQQBLS3Gmx+0+CLxz73mppmEBP6MaurIMsZqhkLx0q7n0lepIv1EpAgHImVl9jrPXq3Y/afNjjISfKui1sqcP6DKh+8X+RCMYtrmfRaL1kKOLjt5/6dsomWzWF3Y52YtFLoFUwfElLSEkgbpBwybQN6Z1DmZ3T6s6VIKwLioM/qN3t8c7PN6oGiFYT43ZBuX7OqDZMLknxO4uiEYLPF1nf7fH6zx639mK3AYIKAnR1BnzzFrIXrCKwj5YlvG7EEJ4RcEkiQWTITS8xfKVGYu8Tpgx69WJHgYGXL5Ct1pmYmqOTAOyFul0k05IoUzyxxcXKG2Y8S+pEB28UrZMhXspQLkqwNqCPpxMdqvsSIAsW5C5z9bJJpP8I3dtomUxp0HBJrD+GVKZYrVFwbxzvDzAdFfjl5iVPXDthrJURelXx9lpnZKWanC5Rc8YY3awEii5VbYGKlwC9KV3gv1BgrXfwskaZbKpnBrkxTrWTIew5y+jzn/rLClG+IjEQ4FpbQ6CQh1i7SK1KslJkoOthCjF4h9LVjcDNWBqc8z+yVvyQzc5mlRpd2qImxsbJF8uU6k9MTVIr2MetCvAASGIggk8mRXzrN+doUM9di+j7gONj5DIVSllLRoWCZw9Th4110zaDTo0dxbpozxQpz1xShsbAcgRSD1Got0NIlV8xQKth47gST73l8Wp9m8b0Ou01F385QmKwyOVtiuu5ScTSWfvmg2M+yXkrIV6kv5/h0YpH3o1Q02LYktlBEsUZZDnbGI5N3yEiDOzfD2VKVWV8RC4m0LITUCG2IE4mwbbycS7FgIxIz0KJ5lybU8FTr4JXnmL70Gd70RRavdWn5MYlwEF6JYrVGtV6jWrLInqTbd0tk5q+wnJmmcLHPx32NsjK4xRrl+hSTtTz5QbfAUUFaWTITyyz9qkClFxEYG2HbSKkRKiZRNsouUKpVqZdyZJw5vLOf8WFhhen3ttluRvRFifzkLPWpKWamK0wB1huNHggQDnjz1E4VeL94nsUPE4zl4jgCaWJUrNHSQxYmKdeylBwD0+dY+niC6oWAnhJIx0EKDdqglAQnT7ZYZaJyUryc141hPp/AKc1SP58hU19m6oMOnX5MhI3wiuQqNeqTE1SLDjnrT9NdeS0wqV6IcDLkZuc5VaxQupzQC0AJiZ3zyFcLVAs2eUdgGX2s5XCHZqo0ip+ZqHP6V3kmfU1k0rJzaYFQhkSBsVy8XIZi0cbzymSWHa4Uq1TPNdluanw83GqBiYUai1MeZddgGfMqHdJ/BlyEN01xzuPqX5xhua9Q0sWxDFIodKJJsJGFKaoTWSoZcOxTLHyYJ7cS8L4WGMvBtgxGKZSWGJnDLdSYKbkn47Bz0mEYkEeGw23hUEk/1SkaahePekr+EYaaQUik61Kq51m5GOI7Ib4DcZw2B/AzBpEYokijlMSr5qmdLnO6L2k2DPuRQStFkEjsQBMmhmTYvc38zBwSleruSGlhe2CZgUC1GGoS/YnjqdPmR4kQWENS0IARKWMjLYFKDCrRJLEiDhVBoOlHEqwM9VMO1ZkSZ5dz1POSLMCA7HpZwseY4S+BW85SPVdl2Y6IWpr9RCMTCI1CB5o41ig10LKyX1eqe0pQpVpHfC/j6FWhzYBAlfqPyun0UKsK0qywYWOPRJEEitBPCBKIvQxOzuZ0ocip5QxL04Kck54R4lCl5YKBwY8Ejp2hMuMyVymwcibHVEmS0fqtzFga4mStt3YOr5ZjqrbA1Kht+SkMV1cnQ3aqSHnR4YwcEi4GSAijOO1YERsSw5HWhMeFlM0VwiNbnSVbnWXmpb6vgFcrsFBbYeE90tk6Cm0i6SIzNQqZGoXJl/kGG0rTTJemmX6Zj7+ts/YlIACkh1OZZ6oy/3bMJ0DYLu5Egdl5ixVLYh8urwlxFBMEiiBKiaXjn0+QJsM6ZGtZyrM2rm1hDzODBr+nMyUh8iOC0JAID3cix8JkncULMUFkiLDw8g6uDSaMiUM1IMve5DyTCLdAoVChfnqYDfBMOlAMRL9VkpAEEb0IRK1Cad7Bs/74PtNU5oQ4TAgCRRSTZiaI4y7/PSZYDnZ5jnp5jvryqI15GQiEk8Mt55gszzN5IuusBMLy8IqTTBYneallniwUF5kqLjJ1DsCglMA6ztQEAQIbnAr5eoV8HU69zPeVp8iUp6i/aftOMoZLnOViF6epFKepnP6JbzkpTJvl4FSy5GenWTzUVUv3J5Uk9PupvxePLHtTYLSNU8wwPTWBawvswcr+LJdBY0g7fvq+IjY2olRjcqLK7EqEHxoiLbEzNtmcRPsxcagPgznPVUa9RtMdpF0mUylzqvKS3+N5uPk6b1yh4c8FJj0sG/127uFpd2kLK5ejviT5RGZZfC+mrw1hpFDCQuQ83IkspyYtclLgTJWY+cBGzFSZ7iS0Q0OkIdYWbt6jOpllsWxRkIPsbH7G0WFAdiierWUCkwqWv7Z7T39Lnn9wAlRiMFpiTRSpX5S8N5kw0QdfA5bEsmxKlQyTM1nmy5ICaUe3V8pOM6RdyZF49QKzn8zz6UrE6a6mHRpiI1BILC/D7HyO+ZIkO+j6+LrKh43hkBT7037QgJzS5m7XvIgAACAASURBVEfngTIgsRBOhumVKlcyWWa6qW6qkhLLtbFzWSamcszPWBSzAquSZ+IMXMoVKfU1bS2xpYXtWuQKHvXpHPNli3z8rG3C23hUPVnk0tsInYp4xf2A3nP/degQva1lImaQFikZzNpxK9cx3jCMRocBfsAfC1sP59HI55NGhRF+EP24+PahnQmJStJI9mBOSaGI+yOIbuuEOEiI/B/5zJHxNVFMEMb82MePPpfxAjHGsWI4n+Qgq+IVBFfHGOOVYTQ6jvCj6MVrojgBZcHCYOKYIIoJ+OGDybOlOsGECX4IDEphhNSoMKYXHYO9Y4zxumBAGRvp2dQWckwsHSVWhxo8KT1kklTahIkCmckCU1ckV8SR2TIoLxOKNPNIp5kxf+pBf5j9d2yEwSEbZpE9NcHSUp1lKdIkrGEJnSDNzNTpn2nHvFe3MSWXbLyaw8xkkZmhTzi8zjCIrDRGA4rXSrAdN4wGhY3MOqx8VODMp4Nx/R4tlGa9pu+QhchWyM9Wmf/eMyANzGoQSfquofXPKz09IRiTSz8Xz3sPzy8YzzsYb6PH+6476u/0zb1leMGzeL4U4ihZe2JgOOyscVjqnpbQv5hn+cE5NYKbGuz14khY+/DfL/gspPd6tKT/e59/YyHtMcb4Abzre9QYJxfPl12MmlT6IZjvr9OHpW0vNFY82w9O5M2MMcZP4Mi5XmiDkOKIazIgllSakWKESNNmBi+9PAxQ6MOaMKOHc+btnhBCPMtukgzctWGZ32FJ2zMB6597t6l/mGa/SZnqGAkz/In68FoYUG/3kHL0ZTNGIHXaefHwXRsstqlU07M3EJPWKEiGY5N+Lf3rs7K7t3l4xuTSa8KwROdtfhnGGOPEQPxRw4SThxdFqYdE0wm3fdj15dBM8b0/nvvw0VTul/j8GGOMMcY7jD9aP48Jr1SSc2QvOmrnT+5Nb2uofIwxOHLc1wal4IUv9HNzwKi0U9uP/sB3ASbNvkre9L2a4ZjCC5VE36UxHcAoQ/Iy9zt4Bu/6+zYml8YYY4w/DzwfCngLF/GTbPJJtm2MMcYY423C8+tpGunmrRZ5HWOMY8WrOCV/Tg7Mcd3rn9OYwvh9O4KRSOKOMcYYfz5IS5BPhjssjparHTXpSHR36MSfNEhAGhA8VwpkZPp/I9ysxPO/TmqJyBhjjDHGi3ASFizxx2vp8C/DNXXUW+nQrpToGpeljjHGGGOM8X2MM5fGGGOMNwohBJZIW4NrYUYWddUGkKlDbDEgkIxBSJBCIAd2SsFAdPtkxIjNkb8JDDJlmBADW6UwhwcPKQRGmJGQY0NSSYoBETY+eowxxhgnGEPdC0sILOSAoB/dqiUwCCGQYqBVAod6uxJxuLamJNTo1tahjRbP9FvGGGOMMcYYA8bk0hhjjPEmMNBJ7CeaVqTYDSV7UUKkRkcuDaviHAVRRtGMNJGCWBs6sWIv1OhA0QwVxgiEPFnNeDNS0os1jUjjKwiUoZtomlFqu20UWmmUNiNx9lNySdBPNPuRppVotDDoUYfaxxhjjDGeh9H0k4RGGLETJpQcyCkLbQTKjGbtNwY8NELAQRjgq4TEGPpKsRsGRLEiCpO0m9CIGB0pwLMsDsKI3SjC1wk1rTBCD2wa001jjDHGGH/OGJNLP3LUNT/x/28Ef3S58cFsjLcPKdFgCJXiIApZ60PJdkjQf9QF7viQpi7ZtiQnFWuBT1cpQqXZCSMedvvsZ6Dd9RHipPVqMHjKpd8J2eiHHEQx7SjBCyPW+gGq28dybLTWGK0Yhe3DK/YTzXYQ0Y4icl6CHK9hr4ThaJ2kt++V8ZY98vG2++eBZ5RRmvoZaUEzMWz4CkskZO1hC+7RvADagJuk9MxOP6EdG0JlaEaae90EFSmiKBl0uBqJiQjAtTTNKGEr0EjLoPWzLNXx1BljjDHG+PPGmFz6kR1amEGryuPcLr8vpvL8F773P2OMcVJhYZERNnlbYJPQCBMe9Sy00ZgROcVGAwJs2yIjYjb6AZ0kIdSKvTDgSb9Lvmvo9f20PehJaVc36GjqJjFhL2Tb79OMQnpJjBVGbPg+Ub+PtK2UXFIKcYy2f48MMRApTS9JsISibBty1gkZxzGOD2/ZI/8jc98y+48Hr9Sr7ETDQpKxPMpejly/RE8rNkMHJ7IwYnT3aTTYxkGSZi51lUNkLHrKYc3PomJFEiUYRpdVKwBLSPrKwkjIOUWyThZXOkgDxmjelfdkjDHGGGOMV8efRC59T3TwbcFAnEQIgRASIQVioPArhDzUhxFCgDUQLDymMhOBQGKe2TSwEaxD04e2S3ESJYdfjOG9PP/3E4/vpdgcr7MkTwqx8RIQiMF8GkYuDRaSSq7EUnESQZtEhdhOZhARHlFW0OB52o6N52VwnC6WdBHYOFYRz53E8wrETg8xFLo4CaubSUctk8lgYh/HiZGyiZQay8rjOBVcdwLLttFKoaU+VnIJnj1RY8C2DFlHY1uGmdwUVS93+LmRlOsJgRBgjDl8R08sxPfX+aPz6q2A5K1Scx/utanWzWDM5dsz5lIevx8w1AJ6G0bIAAzGaLgOQPqaFt0cpwuzSCFQOsEWMvW3RnhjRhvcjIsQEt/NYVtFpHSx7QKZzGmMlRDJKF3LRmXowBUq2JolJ6HqlpnPT1Fws3A4j9LPvG3r11gjcIwxxhjjT8efRC4Nz95v0wYytHW4OQuTijlKYSFkuinqgXNpSYk2x0PkpP64wRiBlPrZwQIxKNEZkF+GAekkkFKe+HE/JJMGgslvi90AlmUhkWkWi3nz9NLQsRmShyd9jI4exJ4/CEtgwqtwZeIii6VpYpUgpDVagweQQlIsFvGqRe5nH6E8w6nCCu+XP6JWq9Hz+ukHT9jwO46Dn+nxqPmYuGBohk3mSnNcmbjCfH0Rx7XRxmCUHl3WlQZESsY7AopunlqmDqQHYSGHehzHZ9+QNBjFQfxVIITAsiSWkOmeM1wv35L99ZBcPjxZjtCYl4QUEmGJZwQEAiEspDgZa9WPQYjUfzk+DPwQBuN2wucTgCUl1nD+aBi2Y7OkpOoVuFhbYq44SaIH5dqjJkY1uK6D0pqNTp5b2Rr7zhbTmTqf1q4QJTFxHI8s+xd45giZNACTtVwqbp6ilRtEGQaBUY4Q5NbJn08w9FdP/ns9xhhjjHGS8aeVxYl0L9FaowdMk1LqNZj1ZmBZFolSqEShjSbRCUqr9GtakcQJKtGpKG6cEEcKBMT6zfsbw5+vMCSxRimNSlKbjB6MbaIxWqOVQpkEbTQSidYnS3h4CMuyUEqhkiTNqNAapRRJHKOUQsqTa/vQNo3GGMOx5K4NUj+01sRxguuldVxmROKiP4YhQauT9JkOn60azCWALC4zmVlmsjMYzGFZ2miROruOtGnnWpTdMh27zWx2jrOF89S8KpEdjSy56gdhwLFdOqIDecFWZgvhSqZzs6wUzrJcXMbxXDCgtRqp7eLIn0LIw8OIMQajNcctuqUShVLpNbXSI9NT+TGkGaoGpTRxkqRr5nC9TNThOmlGJ1j2gxDCGnIz6V6l9SBLLD1QnlSfQAiBVibd9wdrmFYKPRhvbRjol508WJaFMYZEJ4NA2XEgJYaVGuyJh37JaNebH4JlWWilSAb+h9EapZKUnDEGG5spt0zdKTGMHhkY+b04lk2iDHbGp+rkyNgOFbfAaXcCXIiVYqRlZ8OgMgxIJHHYzS71pxMSlaD00DdIxx5O7lpgSQtE+i4P19oT+EqPMcYYY7wV+Pnk0pEMoCAMabfa5LI5Op3Os5TdE7A6G2MGEXOBJS0O9vZptlr0+3200jSbTXb2dgnthIPdfboHbXTSoxkIdqP0BiL9Ziu5jBkGTlMxyU6kaLX7+O2QhrtPK9PEyUCjcUCUJIPx7rC3s49tW8TJgKw5QREXYwyu4xLFEc1mi263S6/fp9Ptsru7h+XYOLaTOqZwIg7zw4ObZVnYtk0cRbRbbbQxSMt6s+YNyzSFwO/32d3dJYxCtDYkSZJmT52Q7AVjDLZtI4Rgb2+PVqtNr9dDa02r2eLgoIHjuARB8KxkbtQPF9LDgwBbWpQqJTrdLlEQEYUxfjfE7/QJvRytVuvErF+H0ODlMnTabToHHfyeT+gH9Ds9Wo027YM2juMMNJfMoF/1aJEm/BmM0Vi2hWVZdLpd4iRBWseQDUpKEvd7PRrNBs1GkyiKUuJA65ORDTQoebTsdCtuNho0m016vR5RHNNqtdne3iYIA4QQJHFyMuwewBiDZdvk83k67Q5+EBBHEf1ej6Dfp+e5NBqN9PB2QjD0CWzHJo5iDvb26XY69Ho92p0OjYMD9nb3yBcKxIP35aSNeaFQoNXp0Gw2USo5nmyLQTad7/t02m1azSZCWoRBmGYrnoAxOrqHS1vSOGhwsH9Av9/HaE2j0WJ3bw/X89BKDzItT468gzYGz8uAgX67R+gHqCgmDAKCnk8YRoRRCCfondQDbVLLkRhtaOwf0Gt18Xt9upkOjf0mB/sNkjjB932AE2P7sFTay3gopThoNIjjOH0f3pIM+zF+Ai/iYV/0WH+Ir31XX4HjvN+XfQZ/bnjVZ/AWjePPJpeklNiujUoStjY3+X/+x28plyuEYXiioqtDziLVUhIcNJusra2xtbWFbVl02m3W1tfIlHJstLdZ72yBaXPgCR5lMwjMYVbWG7dVANoQKNgIQtb8BKdsOKhtUHTyrG+u0zg4oNfr8cXnfyDo+1iWTDOvlEo3w2Ox9OVgWxYqSXj85AkbGxv0ej129/aIoohqpYKUAwHi48kL+kkM1YCsQUlkkii+/vprwjDEse03S94Zg2WlzvuTp0/57W9/Sz6XQxuDThTmhHAdBhCGQ3Kg1+3xaPUxu1tbGKDdbNFoNiiVSmnEeFh+OlKrUwwz9qWUZLNZHj58xJOnT2g1m3z55ef0+10KxSL9Xp+Txi0BOK5D6Idsb2/zaPUR/V6Pg8YBjWaDG99MptkM2pyY9fdQXcuA5VgIKblx/Qb9fhfP897otYeRdNd1efjoEf/493/PvTt3iJM00+P4sj1+GoZBySDQ7/d5srrK5tYWSilarZSYz+byaabwCYr8G54RzZ7nsbq6yuPHjzloNPju5i1++7d/Sy6bpdfrwQnbmxiWvSvF5uYmq6urdNptms0mBwcH3L59G8d100yLEXbmehGMMWRyGYK+z40bN/D9AMeykW/4IOw5DlII1tfW+J//9E88fPgQISVxkpyk4Unnk0iDid1el63NTR4/fowxhm6vx/7eLuVKJfU9jqyVJ+EejDbYrgNAs9Hk/oMHHDQa3Lt3j//+3/8vEqVJkgRj9Mmwl+G+ms4nYwwbGxs8ffKETqvF9tYWnW6PO/fuks1k0qwxTsZYH4Xjumil+OqrL+n3egghsf5/9t7rOa4kS/P8uV8VGhHQGqAmk1mpS1dNVfdYT/faTK+12f6F+7Bmuw9rs7O91t0z292zXamYFEkyKUBQgiA0EFpd5e77cCMAZpKZSTIJMljDz4wEBQLXr8tzPj/nO2+Q7uVbPAlpSaQtvnORZQANSqNj0Aq0AGlLLMs64OhFb8/XGhSYSKN0chQk//+cjfmx5IOX5Vr8QC0C3XuGlGBbEmlLeLzYiu59WKmDvvmJpWstWyItgbDkAYNvTFK5QAGxJlZJ97zwo57Wt+I7X18Gvvuc77uR+J4x6GdlI5Lhlk5SuXp/DAy9qkMGFOhe3xgSott2BNISieRFfxPVvUkZa7QC9QrkW54VPyktzhJJ6lC1VuP2rdtk8znCMBwY56aPJI0+iaBotduUy2VqtRqOlOhY0e52cFMulXaNalDDGJ/AETTcpHv0q0rn6S28UEMtjKiHivW0hRkKSNsee5Uy3W6XMIpYX19PbucsiY5j1KD1OfQ0qww7u7tUymXCMMTvJoRYLpvpkUuD4wz3IfvkklZsb20RK4UlrUMVSZZS7mtR1et1lm/dIp1OY7RJwsoP7ckvhn5b/W6XnZ1dGvUaGEMcRcRakU6nUUoN3Ngm5JKFa9vs7OxQr9XodrtsbGwgpcRLpfB9/3U386lwbJsojqlWk8gKPwjwfR+lFOW9vWQvGMD1hADbshFSsrW1SeBHiSF3mM6wSA5hKSWVSoV79+/TbLX2HbNB6yJLJjolYRCws7NLrVZDa00cRwhjcFMphAClBi9FVkqJ4zjs7e1Rq1YJfJ/dnW1u37qF43n4XX/gvEkpklSYfrRCeW+Xrh8QRImmTa1Ww7FtlIoPDOwBQsrzCHyf9bVHSaSFFIcerCitJAK83mjw4MEKrXYbISVxHB/yk58fQghsy8L3fSqVCuW9PQwQxzFBEJLL5dBGD2Ravm3ZIJKLm2q1iu93KJfLXL9xYz9VdtD2+H1NO2OoVCrs7e0lkYvdLgqo1ep4rkM0gHMFwHUSnavV1VXCIOjpiQ1A+O9bPD96MhZKKWIl0Ci0SqKoE9Iouey06I2wAR0pdKSJNfQT55PrJ4NNcl7sa6K+SJvkgfbjEz+gr+n6MogBQaKD+q2pa0CD6EVJGy2IlEL7GiUMep+IEUhhsExSWKr3Tzz/Gx/QRDpWKCVQRvWIj0Qeo++TW8L05EFf0EAQICx667XH6vT4w5de81P2NeR+ZLwSUcLkvfqvZQzS9Mm6xEZXgSEKNMqAlgeUu8BgkYyFNEk/GaWIlCEyInmuTL5T9IkqDNbjOd0DYG+9MLlkTBLRI4Qgk8kwOTlBfmgoCdntdeAgQYiEma7X6xijUSrCthyGR0YYH5/AzaWQbQ/dBaM6jHiCCc9Fix659EramCy+INYQhAR+zEhujPHiJFk7jbQtXM/DcRyGh0tMTk1hWRKl4oEzNkAcaC7p5LbN73bJ5fNMTk6Sz+cPNJcGse22TRzHrK2tUalW0Ubva0wcFpIxNGQyGWZmZvBcD0NCLg0aZE+YudNu93TBEgKsNDzM5OQk2VyOOI4GcGwTMdpUOo0RhvX1dWKlKBaLTExOkMlm8Xuh+4MGx3EIwxDHsQmDELvdoVgcYnx8nFKphLSsHnEyeH1uWRYYGBoaIg5DlH41DpLWmsLQEGNjY0xOTR44ZgPWR7Ingut3uyht9rXLSqUSUzPTpFJeQjQPWLshcSod1wUM29tbdLtdCoUC41OTpNNp/I6fGPUDBbF/+WE7DnEYIq02Q0NDjI6NMTw8gufaxAMUKXaAJCLP73Sp1etY0koiXA/5qdokZ3U6nWZ4dISp6WmkFANJLiEEtrTodrtYlkWn2wVtKA0PMzE1QT6XB23Qh95rz4PEI7B64te1Wo2NjXVa7Ra5fI6Z2ZlEh1PFA7d/sU8u9bRNo4iWbZNOpxkdHWV0dJRUL3Jp0HwDENi2jTGGSrnMPds+iCB4izcOUhhUHNJuRFTKIdWGIlCGWBmMlAjHxs6lGB12mCpJrG6A34io1yNqXUUnghiDMhaO55AtOIyMuhRzFhlH/HgU0tPaZEssi31iSz9G/kidaJcaZdBGvPis6xXYsWyRRMMISIglk4S0xAYpDH47oLrrUy5HNLoa34CRAmyJ7blkcx6lIYvhvCSbEggDpn8MPiNpIdCgFfVKQK0aUW8p/Mj0opQMxvVI5z2KQw6jRYu8B7bg+S5yekSaZSURPVqKZF9UgDZJf+qXtIof71tx0KdaP6XNUuyPt3mMXCI2WD2d2jCMaVQCyrsBtZYiEAIlBUJKHM8lnXUpFl0mi4I0IWE7oFwO2KpoGr4hkbMUWK5FKueRKXkUczbDHri9oX/dJ9tPIpfiKMK2bebn5/mrv/lrxibG6bb7jtlgbcxCJAbZ9vY2Szdvsry8jOemOHniJCdOniAzUuB+4xFL1WW02uFYTnI6l0OLVyPoDQk7HhtDK9IsN1rcrEf8eupXnBk+RtHJ8fDhKlevXiWXz/Hxz3/O7//d7xGIJLJl0IwNwLItojDi1tItbi0tUa/VGR0f43e//x3Dw8OJoOoA3hwC2I5DFIaEgc/mxmYvIu/w2qq1JlYxWhsWFxb527/9W2zH3k/hGTRImVzFVKtVbnxzjZUHKyijOXL0CB988CHDoyOEQTB4RjAJ0VwsFrly+TKVvQqbW1t88OEH/OrXv6ZUKu3rQgwabNvG931W11a5cukKtUqFmblZ3n3vPaampvZFfgexz6W00TpJ8zp//gKBHx7q84wxKK0Jo4gTx0/wl//+L1k8cuRAVHzAIHspJY1Gg9u377C8tEQUhSwePcJvf/s7XM/tEfGvu6VPQkqJ56W4cf0arVYLow2nz5zhr//DX1EsDdNqtQZSuySJFrW4d/cu31z9hp2dbaZnZzh9+jRzc3N4njegAsQC13VoNpuURoa5evVKkoJ8yJcfYRSitGFhYYHf/v73vHPmNI7j9AiDwUK/Slm73ebBgwc4Fy6ANpw8eZKzPztLcagIDKZAvm07KK3Y3Nik3W4RxRFHjx7l7/7u7/B9fzDJPA504+7eucP1a9fZ29tjuFTinXfPsrC4SC6bJQwPd99/UfR1Ngv5Ajdv3kT3zo++JtNbvBlIIjligk6HnZU657+scWvFp+1aRJFC2DZWMU92Zpj33itQGDI4Ow22bla5cafFzaqmEhqUFCjjkSllmDkyxAcfFTiZtkinBSJ8nj0jiUjRkSIODZFOdNUOtupkn7J7kU22fDFfUwhAaIyCIDCEuvcsDFJIbEviWoaMpwg7HdaXy1y/1uT+Tkg5MihjULaHVcgxOj/Cz87k+OikRy4rsY0hinmuhtlCYeI267dqfHOtyb11n1oModZg2TCUZ3ShyKmTQ3zsSbKexLYN4TMeJYnURmLLBaFOono0aCGRUuBaAscyWEL8NJtJCKQ0ybOMJupCbARGGGwEQpoD0Y8emSeMQQcKP9ZEGiIElpA4liCdAttSKL/Dzr0q1y7XWVrpUrUEoREYy8bO5SjMjHD6zBB/87FLnoBOpcLKtQZf3AhY2VXgQtzViIxHfrHEzLtjvHvM4oNRQcohiZL6Ca/9MvCTyCWlDNKSFPNF5hcWmJqaGkhDow9pWeRzOdrtNpVyhVQqzcLCAqdOnCQzkke3U9R2W8QxLBYszpQKaCB8RfocCVEE1SimWa2xWQ1ZWDjCscJxSk4ex3VJZzLk8znm5mY5c+ZML81j8AwkSA5s3/cJgiARdbUtJqcmOXnqFMVicd+hGkT0jdPzX32VaEcpdegRbFolN8OlUpF3zr6zHxk4iH3UJwabzSaNep1Wu43Smrm5eY4cPcL4+PhA7wWO47C9vUVxeJh6s8nMzCxHjx6jWCoOrPEupSQIAlzPY3N9CyEE09MzHD92jNm5uYFeT5aV6KtNT0+T8txEhPgVQMUxI6MjHD9+nBMnTw70nBRC0Gw2k1SecpkgCJidnePMmTPYjjOgRMfBXllv1BgZGWFna4eJyQmmZ2YZn5gY6D7vi+Bvb20TK8X09DTHjh/nyJEj+xEkgwjbtqnX62xv7+C67ishTFWswBiKpRJHjxzhxMmTA73nSEvSabUBwcqDFbSKmZuf48SJkxRLpZ4KweC1XfZSDbPZLCMjI2QzWYrFEvOLC5heVOMgQkrZqw6sqJQrgGFsbIyjR49y5OhRMpnMwF4mIsCxHe7fv0/K85LMjEFt61v8AAQCjfYD6jst7tysc+NhhHc0R8oVpBBYJokoETL5FZY7VFZqPLzdYin06LoOxZwkZfX8viQ7DtPjKSTP5rgLmYTiREFIZ7tNeS9gu61oxhCpXlqVEaTyHsXJDKOjLiMZm5xl9hMyn2l3EiClIu6GNMo+Ww9brFUUlS6ESFKFFMXJDFOzaY6O9GoYCEAYjOhVe+90qbcDGjuKzTBDdjjF8QUXLBDPud0k+rAGdMjuWoO7Sw2WdyKiQopUXpKzwOpX5zQHn3keSBQmCOk0fdZWO2xsh+x1ILRdUkMeo+MZFmZcxgoWKZGQLc+/0ydp4LaMif2AZtlnez1gK7BRKY/JCZfxEZu8l6QRSktCpAiqHSrbHdZ3AzZqmkYscYcyjE5lWJj3mMgmUZ5SJOltGpHs622fbtdQlxrdSaMLOf74IWAn5FY/Cs0IjTDQ3m7RijpshTbt0SGKkxlODwu0MImM02vevl6YXNpPJ+wNmuskIoRO7+ugQvRu95NfGiMMwpI4tgcmYXCTnF2TpEIZ2RMlPlz0NxNtkt+MTtqgdFJpCcF+VILp5V1CYmQOMlzXTfoagzFJ3i8k8+RNuBES8lXn3Qs0SYrDoK8lAMuSj60Vsy/wC4Pf/n3HqDcnpZ3oAA1yu6WVVOTB9Ag+k9yM2bbdS1UcXAiRHJGvNLVLfNuBHOSxhUSnLhlfk4Sj99LP+5psg4x+RTjTM+PsN8QmMMYkdoAw+4L4liUHvt224xxE077Co9RonYjCvhF7jsSo3tmEwPSqrDkDbjf1NYz6uh79iquipyM3qLAsC9m7EDPG7Dt0tpVUCx1kwhYGk2x8HehlaX+rQLF5WgrQIMJolFYEXUWtEuMri6mjRaZGHcbSFoWUhzucYm7UIm0bmu2QTi2g6Ru6hSyZ6RwnphymUpJ83iM/mmKiYJGRAqmf3WcX0oDRxF2f3aU9lpcb3GgaKrEgNgIb0EqSm84z967FyYyDl4acTMiQnq7zjzxEIFDork97p8nD5QaXv65xfydmtwOhsMmO55l+x3Aq51HICkZcj+HpPEe1Q25e0exGqK09HqwG3KrGVFsxtbahGyfPd55zu5H0U8cUrXpErRYTGIeh+QJzc2lmshZe2qVQSjE+YpFzEs2gZ+NyDUiJ8kO6uw22Vup8faXJ0orPnm/oWh6pYo7pIwXe/7jEqcUUMxlBRj47KdiX9REoVKDwOz617RabKw1u325xvZrGlAp8+IshPsjZpLMCLzbYUtFtddm5X+P2zSo3Vzrcq2jqscQbzTN1vEQ5KnJmzmHacxmaynM0tHFGAzra0N2qsrfWYrkSts7HFgAAIABJREFUstKI2alrQmVQaQc7n2V0zuIdIiZ9DULxyA9YWQ/Z7YQ0ujGtyBC9DN2ul4SfdML2I8601qg3hOUPw5AgCIjiCCuyCMOQMIqITUzgByg/QumIKND4XYVGEb2SyCWBEBptBEEYEwUKFcREfpBEUrjsi6UrpYijCKVipDxkYdyfCK0UQRjutzeMIsIgQCk18MRYHMfEveom8gmRvENCT7TX933sbHawx1ZroigijGJUlGjExHGcRGC9AVBao1W8L5ysBjjCoo84Uvh+sp6iKEr2rzAkjuOBJ2zjOO5Fhb26Sm0CQRTHhMFBSflB7SOtNWEYJaLScUykIuIoIggCPM8b2Hb30Y9a0Kq3D7wBNoFSijAMiKKIOIoJo5Aw9HvaZu7rbt4PQsUxURglYq1w6ARTv1qqUoowioniCM893KqPPwWGJJUviBJ7Q6k4sf98H631QJM0ybwM99fT4GmtPR1aa8IoJI4jIpXYT/3z6U1AGIZvxL51qBA9e7dPLvUjdzAI/RN1gQ4TvbaKx3SdjXDIFDMc/XCCd4+kOZqRFCVgSVIFm5ytaMYGpSUymyY7X2L+7DC/PuFxMm/IuhJtWXiexJUG8RzTWAiDISbuBuzcrXD3WoNlkaaZsvEcQcESGGUhu4pupHvRTMklPM+Y1iQtg/ZDOhtN1m+XuX69xZd3Y0IpkTYJ0RbF+H5MMzC0I4uRVJqJBZvijCDQmrAdYO5FXHHqdO8JurZMCpCpFzlSepOlNwBxDEiX3GiGo++O8d57BU4XLbIYXEsmmkGuQPae98MwPaFsRafaYet2lZtXy1x8YFjtQC5jiNtdas2QTjMiSDkEloU77zCTgZQlMM+jLBB26Zbb3L/X5O6dJqsPm2zudTi/nkOOWRTmsxw5Jpi0JG6swe/Q2qqwfKPCpZttVqqalpRIEdEtN1mNDL6SxFEB97jL9FyJ0xMFFroKHUd07hlWUxHRXcF2bIij5JJR2x7OsM2MpyjNG7QwCBNyq9Ik4zdYciESAm2ePwLsMPGTvPvHB2mA3ukHIYVACokQcv82qE/PS9mTXtdJvGRScEj0FNsPH6IX/EY/ZFMkYXkHYv7frVbwBvS6EEghECbZ+cUrYWheEl6TI/p4kYHBR69KkWDgnd8nsG89vTm6Cr1CFMmf+/PzDSmZ/Lr6WIhEKPFNGmMhntz33wTsV9R5g/Z5ISSCA5sg2cxed6t+HIJe6sVPlJV4oQdzMNaDiv462v97b798U9aTEGI/FedNQtLHMolg4A3bv3qkyv+Q6BMzWhOFSRn0WBmUSQSTbScRNO5XWXuReZlsr+JHTBazr0P93JyqOPia7I8S17HJlVKMjKYYzQlKRqMRSK/n25meKehYOGmX/JDHyFiKsQJkraQPXsRxT6qKabRSNGqKLi6l06McWcgzP2Iz5xqkElgZl8x4itEhQUEahBE/HrFE4iNKqQjaARtLFW5crLFUtaidmOMPH+f5+ZxFQYWoQNN1XHRBkO/5tE7GxbMtkBB3JLriJgLeLri94MIeRfScMN/5m0DaAjflki2mKI2lGStKCsYglUb1P5EE4P/YGyPRSAIqmw1uXa1z8XLAzsI0i38xyt+cFuRW99i8UeHagxo3bqTpSpeRjMXwrEXaTebtj959S4GlY0ynRW11l4tfNLl4q0slUJRmLZQjMJFGxQYlSMTTjYbtCtvLu1y8HbEcDTH03hC/+SDNu16DvTt1zl9psXxZQAxDxWGKIynGhgQFX4EKaVUdmgWLTMrgdMX+ejTCQjoWqRykchrLSaod7xQt8mlIWaAH0GQZ7NCR141BG603GW/78i0GFm8n51u8xVu8eXibxvMWb/EWPx0GaQtMEOHvttnZ6rC+E7JZN7SVxC2mGZ7JMjvlMVFwKLoGK/nYs0u7CIGwehf4P+gMi6R0e8y+nMYz73LmMbKChMQSlsCykoptti2wNEhjksybx36w6LVPWlaSFm0DUiMRB9XSngMCg9YGpTSdUBDbLsWZIY68U+SdKY/jnsJSBi0lxkraZj/HnYzAIKKITqPN6kbIvV1BN5fn/d9O8Iv3Mnw4JkiZCNOJaPvQ1hYpR2ALgRESYSVptrYlUZbAkiIJsKBf3v4nWsbi4A/9MbCkxLYljtL0b0XUsw6uAKE1RF0aZZ+1XcVay2F4Ps97n4zy7oJgdDhiR3aIw5Abax12HnbYO56iNSEppC3kM87WZM5ZuNkMk8ddzhYi4thnJNOlUZHs9CrSIUnK3BlN51GL3UddyioNs0Wmzw7zwVmHd8OAO+sxVzotKnuGeDTNTKXAgi8opi0yroEoEV23hcAS/cj+A8ZNCLBkEnViOYAS2FYvUIbB9GDekktv8RZv8T8onum65C3e4pWiPyPf0gZv8RZv8RZvcbhIYlREHNHea/HoVpXlOy3ubgSsNTRdJbGLGYoLJU6eGuLsouDYuGTI6UUgPYO/brTB6JiwrQliQzcy33O+JeI40pakHInnCGz5Y5FOP/rwXsl4g9KJeLI2PV2jb31fwpRpo1E6KViF4MXL2fc0Zo1O9It8JfAwyXO1QWHhpASuBZaQ/byVZ3xWQmiYbpeg0WGzYVgPPax0ijMjMXajxWoTpCNJu8mvQioRkRb9PlESYRLySxuD6hGFLxax9CPQBq16EjpKoLRGPId+1cE7K+gGdDoxtVDS8VxOT6c4MWWRsiReKcXIXIb5sk/+UUyn6tNsRbRjlwBI8QzaS0ajkWgvQ242zYczFu+GEXaritjY5MYNQbXeJyb7Wo2K6kZAbc9g8mmGF3NMz3qMOBGdzZC9rZB6LURHNp0gZLup2G0bpjOGjAVGabRK5p3eH4CDSZ8EFBqETIKkUIak/tP3raPXj7fk0qvCY0z928vGt3iLt3iLt3iLt3iLt3iLt3gt6Im1mSjGVCtsLFX57EKHexVD4Ljkpi2mCGg2uuwtaa41FHE4hJXKcWzEIidB/Aj5IqTAxIqo3KK80eTRVsi9uiDqp6N9R2AlEh75kTSz80nFr5G8JIXBPA8T0XO2+j+5X7dl3/cyB4EnT6Dv3PeIsxfz1w7EqoTWRMrQbka0H9a4ZyK66yl2cg7FsQxjIy4TBUPW7hEfzxKp1c/v6vpEDZ9mEFMJwGzW2fisw72mouVbWIUcE/MFTp7IcfaoRdEB2/T75LEHmX5KJPCyNPe/+xKiPwb6oErc8/5MbUApYqUIgVhapDxJ1rOwJOBYiJSNl7JwY0WrG+GHGl+ZJNXwWUjKXqOE6+F5MOq62MrHqjg090SivfXYD5IojI6p1RT1tkCMuQyVBMNeiGy3WX4UcWtTUu86jDgGYSuCSFHtarqxJClfCMZ8T6L5Y2yfMT1yqTeXB1lgfwDIJfPk4n1CW6jH6O6zed/ejF5rjrRIlJJ+aANKdFH6G1mfHX+dN9NP7/Mf6sanht//yGdePn6k3c/K4j4xv/7M8N1+eGKcHu/HfmJv78/wmtaTOQhp3sd31vaPje8rn4/wbPvXk5+Bpxgtr6P9T/Rpv8+/p41PxQFz/ue3pp5trA72x8fXE695r3lybj6hf/JDa+q1rCee2qYf1m15kTV4CDBPv3nut/25UtheV98fOp5hrL7Vj99ZT6/N3jvwhl7sjHq9Z+tPt/fEa5Ai+5G58tbe+8kQMomAUVGMv1Jh9VqZi3ct9twck0eyvHPSYdbusL7UoLpSZ6OpEXmbwlyGQsHB8yAjNOH3DYQAYQFGETc7NNbqPLzT4dK2INDmWxFJSd1hQVdmGZszxCmH4TGHIUgIj+fVWX/dA25I5qgwyJQFBPg7Tba6PvWUzSPPJTWcY2Yhx+ljGeZHHUppiSPMt7e870LI5Oca0N2IuOXjBz7NLrSakjvXW7Q6CdERWG2KawHlTkycHub0mM24J/C+Q769WnzXh38OSAGWxLIkrgCpFa2upt7R6DwQaeJWTKsaEXQEsaeJtCEC+lrsB7TfDzVRgJ1U5nSkQcZJZFEQQ2wOtOQEBoHGKEUnMHS1RHoCB4Wqt6l069zZNaxrD6ugmLEVoa0xkaYdQKDosXqQJIE+H173FP8hDAC5JJKwssdyZZ88gJOpYFSE1gYjLBASacnXomW73759QXD22aInJofYV+WiVzUcI5J3Fq+VeUz6XMikXc+gpbbPliaL4XUYv/2+TBbhkw5Hb57QC0f9zv8mn0lKZQ4w4fvTIQTCJOGV32fMCkBrhdEaZXoCnLaF9dp2q2Rsxf4ce5ol27tK0joJr+0dE1JKLClf80bbv+oSz3h09q/FANE3q14PkrXSk+j8TiMS4vwHWided78fNg5GM9kveep+2V9PWutkT5c2liWxeF0GXK9d/dtCvmfPFiC0ItYmqUhlBFJaWPbrJDceu7AR/XX1LJ/qnafCvJbTKWmE6TlB3+OJJxPlB1f7mySA/PzoneG6N65Pfdfe9yiFUr2+khJhPZbW8VqQ7NnJ70lKyVMbYxRam146TaLhIq2npOG8MhzY2PROmh+39xLSoU/wvZ4+P7AJ9MG/fBv7nN9TOrdnR/xZL6efCglCG1QYsXO3xfqKTy3OoUoOqaxDzrVwXZeUa5EhotruUq0GrFYUi+Mw7kJGwo8qUPdsDGlJLFfiumC04Fv1SIwGIVFC4PT0hw7SuA61Fw4HvXe2XIfCZIaxtqCTt8HS6E6Hxk6L29fr3J4ZYr09zifv5Tk16TLlgCN+PABBGDCRJvYjwrZPO7BopXMEMyOcHRdkO12277bY2qtw/6agM5TDkZLcuEXGBSMTX/QF5KReCD99GRoQFsZzSKUtco7CixSbmz4PNkOOO4JUpcvOow4P7wVUGxbxkMFYz/n075DRSbSQRilN/O17+AQ6+aYwBmUMtmWI2wG7jQD2WpTdLN58npmsJLXXpAK0I0MUQWx47Ax8vn120Le110IumX2n12BMiAoC2p0YJV2cVIpUyv52w0yI8qvsbu5Sqwf4xsUqjFIYGWU075DtffOzm6EvDiET1lQIjel06fqKrrIwlkUqbeFYiRq/EAKUJu606TQ6NFoRTV9gHJd0MUOhmKaQtUnp+MVzep8DB/fqBkyHbtOnHUi8XA7Ps7HF0wTceitJxCi/S7cbEyoLJ5PGdR0c++VFUH5vux+bK+gAE/j4XU2bFKmMSzZl96gigzExcdCl3ewSxmo/hzj5b4mVSpPKpPFSHq40yTgdcvtfCR4LmsBEqNDH70R0tE0qlyXlWtg9gjPpy5DYr1HbKlOud+loF5kdoTA6wdSQJGW/ql55fMUqiDqEfkQnsjC2RyrlknLl/qthYlTQxK+W2au3qfsGbWfJFocpjQ4xlLZxv/tjD6XZfaeif4PRoVnzibSN5abw0i6u5HtuhzWgiMOQbicgVBaWl8ZLO0nu/SE2O2l776sAiDFBi25X0TIZMhmXtCuw+oyEiAm7Xfx2gB9FxH3C1tAzmtJ4mQxeysGz5eG3/bVAoeMOrVZEqGxSuTSum5xPvSWFICTu1miWq+xW2nQiiSyMMzQywsiQR8Z+VYbA446jhtgn8gM6ASg7Qzptk3L3azgBGtVt4ld32Kt3aPgQWylS+WFGZ0YYckWynjjsJfV4uxVGB/idgG4okK6Hl04q2/RvHJ/8tELFPn47JFQS3DRe1iPd++bDcy6/2ysGOhVaviQUHq7nkfEkUvZJPkXs+/idNkEQHdz299eT4+Gms6QzLq4tBuHm76Xg4AwHiDG6Q7MWoXCwUsk57jz+PSLCBHVqO3tUKm2asY3IjZAfHmG4kKbgJVEOr9a8FqB84m6XTgChlSGTdvCcXrEgk5CC2q/TqVeo1VvUOppIpEgXRymNDzOcljivqLUHvWNAdwm6IZ3AgJMilXJxHWs/JUh861OQ7HkBQTeg0zFY2RyplIsjn09w+Cc2HHSECJu0fYFvHBzPI+3ZSRsEGB0TRwFBp4sfhIT6sUsQIxG2g5vJkM5mSIlknP48DL6Xh2QdaXQYs7sZUylrZFrgeRrtB1TWNB0PGm2QniRtgZQGP1QEUaJhhMX3h4L0HHOExM555CbyzAqXYFQQ9TSdDwIEDJokLW5oJM3siEPOFlhJE98wGLQRIBN/afZ0ETGcI/IklqWImh3Kq006K3U2GxGXcynsUopMxmZ4uKfDpCH+Xla19xQNKtJEgUFLm8zUEAu/X+R/+sDhSKvKo//+kE/P1/l8r8nlG11OjDkcH5aMpCVCyheIlXmNMAIjJTKVSebHeIu1tTZrD+pc/lxS3JDkq1V2ltvcWIuodm1yItHssuQL2tYmuSQQWuyfY08luHuXxNJo8LvUtqHbjNmrCwofZ1kcEmT3NLVuh4Y2mMigH0sP/HPEK7dfjDEYo1BhSNSt0qztUt6ps9eUyOIkY3NTTKVyZI1BEBP7dVrlbXbWHvDgwTablQ5dXGRhhtLMEY4tzrA4WSCfEjj9qKBDaTggDFpFxKEmbLVpblTYrBqaIkN2NM/cbJpSzsKSBhMFBI0WOw/LrK832Kr41AOBtlNkx4qMzYwwO5tnpmiRskEcyubZv3FPor5iv023VaNV22Z9s0NDFZg4c5KJ0RxDroX7lFVjTADtHcrr66xv+1QZZuTIIhOjeUq2dYgOZbJihVHEUUjUqdOs7FLdq1Fu2bTT8ywcGWVx0u4ZbDHEdRo7m9y/tUrNj/FNclgZIzDaITcxw9j8HJPjLiWPfcfpzYbBoDGhT9ht0q7vUt6tUW5ogtQ40ycXGR9OJyVITUgctGhXNtl59JCVh5tslju0YgdZmGJo+jinjk0xO55PiBrZJ08OpdnJwWYi4tDHr+9S391hrxpQUcNkxyaZnSky7ThJSVfVIWjuUdl4xIO7D1nfa1LtCpSdITc2y9jCIvNzk8wPpxMDyBzWjaVJ2q1iIr+N36rRbmyy8rBL4JQYmptlcnqEkiv3Q48ff2dMhO7uUd1cZXWjS4MhctNzTM2MMJo6xMgxc+A4qCgg6Dbp1MvUt3fZblrUvQVOnhhhupQm3VfpNC3q249YW9mm3GjTNQYtJEYJEC6p4YlkPU2WGLFlYgS+0cZ77wW0QsUBkd+i0yxT3d1jq6wJvVGmTy4wNmJRsASSCBN0aJTX2F17xKNHW6zvNmmFFqYwzfDMIotHZpkbH2I4a+MdWpnr/vV9sp6i0MdvVWjs7VIpt9kLcnijc8zPl5h0LSyjEaZL3K6wt/aQh3dWWCu3qHYMkZUhXZpg4vhJjsyOM1VKkXWTsT2ss9UAqIAoCAg6u1T3dtne6tI2OXKzM0xMjTKes77HMY/Q7V2aO2s8XG9SjfOkJueZWZxkyk0KuRwOepEgJnHEw6BNp1alsbnCWjNHlJ1icnqMhck0aSkRxKCbNHfW2FjdZKfSoq3BSInRBiFSePlRhufnmZoZZtSWfxbkUrLtaFQUEPlNus0ytcoua5sakxlleG6aqflhigDEqLBFu7JNdWOVhw83WNtp0AgtTHaK4vQC8wvTzE0NM5538eQhEoc9T8KokDj0CToN2uVtdncbVMMcamiWo4slJoa8XtWsAN0ps/1whbWHj9jYqbHbNkR4pEdnGV88zuLcGJOlNHnPTmxVXvZ2+ZinomKisEvQLlMv77K726EWpMjOzDM1M8qoY+E98XEBxNDdpbW3ycZGlUc1l8KJM0xPjjCePnDQDmcbS2wZHQVEYZdOdZva1iabjRRBapKxqVEWZ3NkpUSg0LpNp7rF+v11tssNWsqgLAkKjHHxCiMMz8wwvZhh3HsJ1a/+DJFEiGq0iekaTSfUhFFAxwhEy0KnDK4FYSfCt12ckSyl0RTjOUlegtMjiH6IozCmV4UtkyI7CVOZNI6fRMw8SWyCwiaVdSmWbHIuWAMsWvxDUFoALl7B4cwnGY6FYKTAToEJI1qbdT4qrHD+fsylWsD2asDWsMvJoeS9f1wsPWHdDBLjZcgW84zNDvG7Yw7jeRfHpJk6kuFUzWflnuHRZpdONUM3dIjFQKQtPScMGglWhvG5Iu99GGKFPv9wdZWLXz3kom2RHRKkCxbGTRPl0uTSLhkrIfX3I5Ge97Hisa/f82EhBJZrIcOQ+NEu25kcXS9PqTjCH2eGOJXpku4arlmGGFCyn0XzIg16M/DK55dAocIGrd0NtleWuLu0zO37Fbb8AqV3fsl7mTy58RxZNEaVaW7c5s7X33Dx0i1W24ZOHBNrTWxuYGVnuPfBr3n/Fx/w0XyWkf7N0Es9QR67XlQRUatFdbvG+oNdHixts7znEeQnWHhHkhtOMTTkYAmfuFWj/nCNG5f2uHG/zW5LIV2BjjTKzZGdHGfh7AwffzLBQtEmL/XLD5vuhxlon6CxR3n9Ho/uLHHn7irLKyFh4QQf5seR+Qxp70ljw2iD8Wt0Vi5x+9zXnL/XYTP/M07bJT7I5simIHVoxh1JpIpfp1PdZOPBMneWbnNnpcZ6dxw5a/j3mSwzk+keSRSiw21271/hq/92nnXf4EuJtmykkWiVZuzMh5x0h/BKJfJuEnr65hobj90yhk3aextsP1zm/vIdbt/dZaOVIbX4AT8fnSBdSpNFIXWDoHyH5XMXufz1XVZaMe0w6qXEeJjUNe79/A98+MEZzi4MM5PvbxCH0EtCY+IA1SlT2Vrl4e3r3Ln1gLubgrJ7hqMfSn6XyzFZdLAIMd11GmvXuXHpBp99vUsl0GAlucvKGcIdPcXxjz7mt797lyNDNnnbYL30dvcdyoCguUd17QFr929x9/Y9rt4OkDNnOf5bhw9Hhsi6Li7fiWsQgF+ns36NB198yhfLXbYyp5j5ZYpPRoYppJJqFocHhQnrdMubrK/e4cHSbe7c22GlNUY0DXYhTTGfIu0AIgS1w+bdr/n68xvc22zR9lykbWFiASJL8cg7nHLz2MUhcmmedFbeSCh01KZT2WBn9S4rd29ze3mdh9UU7ux7fFQaxS2myVgGWzdRjXvc+uxLrt96xIO9FrUIhIkJwm+QhQWmz37Cux99wAdHh5ktWodDaPe3Ah0QdyrUtld5dHuJO7fvc3cjZlscZ/Y9lz8U8owVXWxi8Hdob1xh6evr/NtXOzRjQ6TjhCyxc+hvHvHub37Oxx8e4/hklqLgkMhDDSog7FSobayyducGt5buc2c1JCgscuS3v+aDYpFCzk2ixb710gKiFv7GTR5d+ozPrtV5ZB9l7Ocev5qaZLy3xx8KjCCJtmzQrW2yvXqf+7dvc/vmA263FkjNf8wvf5NibMQj7VhAjIp32V25wuXPbnDnUZW6cLAyLjrUCCtPYeoYR60s9ugQhYxD+pCa/mqRRP51qluUV+/y8M4yt+884s6GS/roe7zzhwze3DBDAqBNt3KHexcu882Vu9zb7VAPY4xR+NE3WPlZxk5+wDsff8THpyeYK1iHZ38A6JC4W6ax84j1+3e4c2uZ5dWAXbnI0HEHbyhLKe/hWQaCKvH2V9y8eIsL13bYbIQYR0DoE4kC9thpTnz8MR9+dJyT00OMHw67lMAExN0atY2HPLp3ndtLD7i36tOwJln4/R/5uDRENu+S4tt+jREaQp9g4yZrVy/w1fUNrtSnWJQT/KIwSt4D77Ail0wSgWjCNn59i531+9y/eZPby4+405jGmnyfj37lMjKRI2MDxOhgj+r6Da59dombD8rUhI3IeEmuiU6TnzrCwocucnqWogupw466emPRkyOIDFgW3lie/GyeI2MOp3ICWyTRG0pIvIJHbizL8JjDuKexEagfIkAESEugAk1caVG+W2bpoc/lPQh0QqDsa9H2PuCLDKXpAqdP5Xn3ZIopT+BYBhN//2MGEwJsiSMFqYwLaIwC0jbCaApCk5l1WC8rvmkoui1Nu2OIlTiIKPrBPaJH2rkWlmvhpj2Gsg6TJUk2ZeMGDk7BplSwyDgC1dBEgSbWGiVkcvHyphEbOrngdAtZJk6OIjyHcLjFwqamhU02HWJbEa2O5pJ2sdMOni3IWAf+Xr8i3rNBIKXAsgApsa3HLjQsgWVZ2JbAsiXZlMGKFY1dTaNkSC16TJ/Ic3QhxVQY0lUapcDYAtsSuI5Mfu6fKV4xuaRBN4nqK6xd+4ILn33Ol+ducvVOk4qZ5dR/KpF55yRHgUnhg7/Kzsp5Lv7pC/7Lv24iTp5hYjpLXu3gr1zl4aMOF+53WY6nKGZnyU2mcF629W7oUcgG2WnSXtvk3pWHXDi3ytdLe9wsFxFTip9bec68X2LOtrGVIq6Xqa085NqNBlc2LEwqzbEZDbU91q6vsRdtsLTaxZ8YIZVxGUppbCmS8pcvFSEi3KW6epnrX3zKl19e4uI3ayw/tMgc+zXyF79h8tgEEzjk+M4+pmOC2jprl/4/zv/f/8Q/3YrZOBrTOPYhYwuTzBdtCodl3AkgbBGVH7B1/Rxf/ukzPr94g28exaxzluF3Z1g4u8gv3x8mC0AX7a+xdfcin/7jv7Dh5DClPKl0CkdLVJSlkZ2mcLLLUW16ej1vOgTQJaivsn7rKy7+6TO+PH+DKzer7KoJ5n7tUPzlL5k/AhNWCOEmzfULfPWv/51/+HQHc+Q4o1NZiqKO/+gb7t0u89UarHSyaDvLyLE0WfeQtIC0QvgVuhvfcPvc53z++eecu7rKzZ1hWsMRv3emOX56DkMadICu36f24CtuXFni365lyY0NszihEI2HbF3f5UHlIt+s1AnmjvM3JzIcyUkyL73hAiFCdFSm9ugKN859zvnPL/HVNw+5tqwpfdShObnI5PtHmcUl/8SnFWFji+1rX3D+v/zv/OOSYXPuLzk7dpqJn53k+GFH/iifqLzC1o1zXPj8S764cI0r91o8jM+QPjXN2Y/mObNQgjRgAog3WF+6yPl/Pc+NnQAzPko6m8JSAkmeEVkif6rDXKRfWd7+4cIAPmFzlY3lC1z54gu+OvcNF6/vstEdY/oXkP35J8wdG2EcDdEuwc4FPv2nf+HL5RaN3CiRTGdYAAAgAElEQVTDC2NMpzrU71zh4c6XXLxTZqldQLppiukcw4fFHgoDQY3uxg3uXviMzz87x/lrK1zfylDN/IZP1Dwnz8zz7mIGjxBaj2g9/JJbV5f4l6tpRmfHmBqK8fxNync2ubT8JXcrIfV0ESub452cIW0dxvSM0VGZ1uZNbn3xKV9+cZ5zF+5zaxVSR3/BL8YXGDt7jCNkyH37hQFQrV22b5zj0t//H/zXr9usjP6W46VTTHwC72cP0aEUgArRtRV2b17g63Nf8emXV/n69hbL/idMflgkPzvNJ6dLkHWAABVvsHn3Mhf/dI6rKw26Q8MMjeURvsayhygFKVLHOyxGmjfOj3oqNJgucWeD3TsXuPrFF3z5xWUu3NhhdTfPzO8N5vgJ5jnKPGDrLRrrF7n0b3/iv322QXVoipH5Uca9LsGD66zvnOfS0jrXqllIDTF8Kkvq0Bg4A1GN7uZNHlz+knNfXuDcpZtcWfOo5X/Fid/M8+77M5yazoMTg79L+OhTrl1Z5fMlmzBV5Ni8S0ZvsrF0iTvbl1haa1BNFbByBQoj4pAuEjSoOq3tGyx/9RnnPjvHuYsPWF7TqNI7/HL8JOPvHWOWbC9a7ADCGFRYYefml1z5x/+L//fcOud4n49P/oHxE8c5NvRYivrLhgARB8SNR1TuXOTrz77g8y8vcvH2Hsvd9xk+m8GbnOGTDyYhnYgjR/4Wu6vXuPzpv3HuTp1uoUhuooQTxmBylLoO1uxJFuJEEuiND6w9BBghQEiEbZF2BJm0hV3IMDRb5NipLL+cSlLhtEpKyUtbYjkSx5N4TuJo/+jZL0BoTdzxaW632LjfZGlD0IlBSvajtYXWGClpC81kYFMYS3EkSqHe0EEz2mC0QQtBbEssKbDthBAiNkgSskEZwBJIRyAtkkj9Z4CQAuE52BkXz4lxDaANkRYYkQhNx7EhCA2xAuFIpA1SyP1Ahjeya7UBx8EbKTCZzfDb2ZifBeALgVOr0F6vcudhl/slh1TJJZO1SVti/7L3+TzsnnC6ERhjEs1nA/1SbVobYiRCWmSzhpRt6LYtokyK6VKGd05mODIlyW4oyu2IeheivCDtSXKeSOQzXpDhG3Re8NWSS7qNbtyn9vAin19YZTUYI332E342WePRnZCcidFhmBwERiDEEEMzH/DOf1jEed9hYnGc8dEsTrBDe+lfuX3+U/5+ZZWVS0s8er/AkRGbjOs8vbzkT4CwBCKOaT3c5NGVVW7ej9lIT/P+x4bUmssWAqEMKjaYOEYJG50fZ+Ssw1+MKt73bayUw2jBYOp73P/8Ptcul3m4s8P1G3WOlxyOLxxCGI3REDaINy9y5/p1vrwVUS+e4cxfHcU9t0alHWFrnSyaJz4coOMHVLeu8dX1LS7eVew1HfKuxhb9gMxDhI4IK2vsLl3i1qUbLHXmyB63+fX0LmuNDA+MJgh6x5oxIEJ02MX3Bb69yPHf/Y6Tv3yX4zMlhtEQC1IjExSnJxlPJxFXb+TG2ocRYCLo3qVy/zJXv7nP9WqR1KmPOF2qMrqhIOwiVIwCNBbIPOnRd3jnr6dIf+gwNj/K2NgQqahM5+6fePD53/O/3Vtl59ZdVhdGqM9Nk3EORzDGhC06G8usn/vvXLhrU86c5PiHOUYqETcaFrZW+EF/hrnI/EnG3snyh9IfWfyrPJl8htF8jGk/5P7nn3Hhny9we+cml65u8W5hhmkvTeYwwkTCJmbrAneu3eT8rQ6b6WO8/z8fI/zPNzCuwI3jRMyVx6q6GgMigugR9d3rXF56yGfLsNeQpG1D2k5uBg/ztDAYVHuX3RvnuX3pBjdqk9hzFr+dXGO2muZyVxMrfVBgwCiIWrQ7gji1yNxHRzjzV7/m1NwwwxZYMThDowzPTDFacHoE7xsOE0F3lerKBa7fuMfVLQ+1+D7vTbYoXG+ggy5CJ1puhiR6y8qf4Gf/aYLJPzqkhouMT+bJOYro+v/JtXMX+OfVLSpLt3lwfJR3Zj2GU85Ld3KSnxfjr99k7dKXXFluseMcY+7dFMX5kLs1G7QhCFVvinmQXWToxH/kt7l/x+Qf8+TzWYo5hexusPHNBWb/1//MzZ273F7aYnF8nGPHU4lP97IR7RHtXmft1hX+9VIDv3SSY38xhfx6k7a28VScODZPfFCB3qK1e5Xrt+/zbzdhuypJjQvS9mNaFYcFY1CdOuVrX3Dr6l1u7mTpTP2C/zh7ifSdNE3boKLH1hMxJurS6YByZpj62S85+odf8P7P5iiqEEdJ3PwwhZlpxvLun816Mp112qsXuHHtNl+vCZoTP+OT4yHOf31ESipkFO5rexOnSY2c5tRfjuO+a5EZLjI2XSJv+0S3/oGbFy/x6YMKK7dvce/+PB/OzTGSPpzkdmM00dpN1i5f5ObSLivRPJNnLX4/2+Jh204EWUON0gawIDWJu/i3/PF/iTjRSmG5WUaGDGmxy4NP/5kv/58vWK6tcPfmJouT05zK50g5L3knMAZUDSrf8GjpCn+6XKM5dIKZX41hP6hRqXi4cYhR+ilHjcbEZYLKJa4uP+KzpZD7Ow7FWYMt9SspPBM3K9SWL/Pgwnkubw0Tz3zEH8dv8f+z917PjSVZmufP3a+AJgiAWkaQoSNFpKrMqurq6urpmTGb/Sv3YW1tH9ZsbWx7pstsOkukVqGDMqhBTZCQF1f6PlyAZIiszMgKRIrtYxagCBDXr1/348ePf+f70htpThKCwI8347F5REET1w1pi2EGr7/N1D+8y613Zin6DmYkMdJ5skPDDKVj0ukX0Ab4/41FkUAgkcqgWDLI7wZoTxP4CiORoH/MppjU0PJpn3i0XU0oiYnAu2Tp3zU2dFz+q2yLVCFNaVxwwRa4IYjzXDhaE0mBI9IMjNiU+gySJi99P/e97e8ZL4K4vN4JcNshVUxkwiSfVWSEj3Da1PYbLG+6bFYhzBlk8opcRmLIDk2K5vk3r2PIlxYgUxaJrE3O8kkHDt6Jw8pBRDEdYDkux3su23s+Vc/ALpgk0kbMN6t5ruhRL00/+fJ3fFAHARQqhG0yOGMwllCAT/tRnbUtjW5EpAoWubEk/X0GSQMMHfFC2A0dJwd9X6BbAV4zou5oXF8TBBGu49OsB9RakmQoSPdJsnmFtE0MO0E+l2B6SDGU9Gi6bXYrATuOwssZFNKKQgqSBueysy/+PH7KCaZXm1zSEQKBUFmSpctcnE2RtFs0y2sYjQ1CJVFRHBVqTIQ1SN94PzcGLWZljoGsxFaAbhIN1hhniTu7DtvlXWr1Nl5nU/dynVGXIBAiLVGpDH2TKWbtBLcsj0QqQB4YmKrDLxCFREpCJk9fup83LyqEaWBZioQRoVsDjLhN5O4xtXKDtV2XSi3qbP7jq33PxPX3bn8kDIz0CMWZSaYHDUq5GqmTiPsPIxKS5yvuuRVam3Nszz9gvm5RSU+RkjCaVmSMDonly2zmM80WaC0RZo7EwCWmx2bpU2ukand5sKzY35UIfe5ZhwGR7xHoBKLvMrPv/2f+8J/f5M0h89lyP61/QAb7p2YdFrlIgJEhWZxhKpOgWPKpba6x+FWZcgNUl3cLA4x+koM3uPHbJFfOzycCGGtzWXzFv2847B5WOKnUaYcRWvcqCyfiOW6XyF+4RN5qUooecrC+SX3RxjbEGU2QtBGZSXKpcW5OKW4a5wn/rzAtGlhLt6msHzBXrlNphHi+5jkkYi+p5QqVHqYwPUx/zuLqFY/W/Qr7voUtnlUF0gB+A3drnu35hyztu+xlr5AWDUppmz4j7uPe74fjsZIoXmR8YIasucOAI7m7GDK/ZHSIvLtvjsBz8EMb1T/L1Bu/4/f/6fe8OZEk98wnR/GyKOBnHb1rHYMtVJpkYZrxawbpksBql7HrC5RrArNDGRshwchh9F/ntX/MoYwE2aR5ltAsrdMfbfP4xOXw6IBqpUbLC4kwe9ZDWhvIZJH81AxXZyUF5qjtbKIXLE5UvGGOzYDECKmJQW5MSq5JE+N0mje4PGAiPvy/2W4dc7RfZ+8kwA/ozdF/BGCiUiVyEwNcvpwmZRyQa9/h8boZr0/6WfSkDl2C3SV25u7weKfJVuYyif4j+rNJiuar8OydzpBJEqWLjGaLFC3Bb9Qeh36W+66B0Oc5qgK018YPLFR+lomZt/nNH/6J390oPoVw1JxXlv15W3wvqCSJ/gmGL08xnjeZKFRozbWoWwamjuKNlARElnTxGlffTzIjU+RSBhmrs1IP71MUe+zWjtncOeDksEbTCwnplQiCQKOQyRK50X5mxvsYtRZo7iyTWLF5oEUcp+lucqmIOfZrbo4b3JQG6tyyORGcoB5+xeHeCVuHNfYrHl4APWH31gIdKYRdJDtRZPpCCuUfsJ5Z5NHdWjyfnhf5hC5+ZYO9u5+xuO9QtqaQxRIXMiZZ84ec+P+ApiPQKonVN8HQjde4lNzngufgqRT3m+qcjwLw0aFHGBqQnmRk9n1+/fvf889vDT27Pp1VXP2HPWVaC0ChbJPhmRRDhx7mQp2DBwZzNoyms1wtaESlyf5qi2NfoYtJ+sbSDPVJ8irmLu0iw569AER+BIZJarLEhbECowH8LnrechITskcaDENiGxLLBCPU6L8zOHrh8fv3jBURI7q0G+AdNzg5aLHgJgkzaaaHLYaTPlRrbD0+5rNFj3kngZiyGB6zGCzGiRCpv+OeI42WApFJYPenGEw3KQVNjg4MvlksMKAkQa3GymKT+fWIimHQf8Gmv6hI2vL5Oau/45a/l51eQNBVgXxhE/G/0HFxjgOajYigmCDRJ8i6DR7fPebONy0e7gnMtxJMXkwwWFAklIZAvNA4EmhCP6RR9WkeNanvtjjYD6i1wG+3qR40KW9ZpC1NFsFAzqYwkaRQMXBSClNERI6Pv1+jUq6zfuix7VskkwkG8gbDGUEmrpg/u7fvsnOIs+6/n6q9ouRSp0dkElLT9E0V+E1GYGcd/NoyC/VNHklNA86dkCgwsthKY6RUrNLW/a/AR5gGhikQhoRQoRBPBXMvyQTga7SWJMZGGc8P0qctfL9NcXuFxfkgdlwdZ6m1RgsJQqFMGcukGxJDxO0jkggt46y/kihDII0nk0r6Zd2EkGBmMEpvMfuOT+mmJmUf4h8+YMmIOhLVTzmVDpFle3+P3btLLD3cxekbo/9Gjv6DKn06wOxkgHu7GZaY+TH6r2a4OeFzUSUwj9oczj1iIfJi4sfzbJ5hgPbbBGFAKG2UMjD8NqGncQEhDZSKlbC6Us8/5Yn5t63rYRTY4/RfKPJ2MeAN6WEEayy2timLkDDS5+aTBJnGSCYppgyQ55VrYpipZcXwaCEUQkjkSxuIzzEjiT10mZEPCvyjHMPyltCbW9ze3cLsqihoEF0XKmPVpW59vo4iIq2JnIC4LlohlcQwDWTPiJMBlYbCLWbfDhm8HmGYJ6T0PJ/YgsPgXELsCQvwTw7ZvrfI44fbHMk8pbenMVZXyEqNHQXd9EyPLP5kmSiSv/Zbrk/5TIgU5slXtBdN5iMvJr0/fd4adACuQxBGBNJCKBPTaRK2JIEp45p9JWPFxZ6Rp79qM8EaIT+Z4c1CyJXQxRS77D7cY052xQHg9CGLJCplU0rbz6qRKIGwFErF80kikfSGEDv+TANz6DIjyVGSURYZ7ML2HnMnW6ioizzo1h8IUAZdymil4/kUaoHUPnRaqgwDZRpIJXtwfNzZWhh5jOINxm5O819HDQYGTqhttilbgnURoaPnrTMBkXPE/vwiC7c3OfDT9L9zBWN+nrQFduD1vExTA9LOkb3+j1y7KJgMFaGzSf+SSULo0w382foaoD2HMAwJRApLKpTfRjsOrmHEo0MppBRI9Oka9fM2A5EYIjOW4GY64EIQoPQ+/kGVjNLUdayodOp2jDRGMk1fykSoc2p5oRcvAaaBUhKkQgpxJlPeCxMCNXCZ4bcnyHgC12+TPKowV13FjOLRdX55FEKCkei0uTOfIo00DHw3nvuGVCjTQPSEaKOb7Ewj+q4x/tpF/mVCUChVqazcof1IsEinVEef/xuAWOXueGOFuU+Wqegh0jdGsUsVSvsbyEijX8Hhh0r3k5t5l5nBG/Qbw6SaX8N8grSM4s22FufWSB/tu0R+gC9MDKVQgQNRQNvXSCmRKhbI+EVMpV5ZFKPYpGmQvTLIrGfwnlPnUXmPlT8esPGJSdbSRD742iA/2cfMazY3RwQjSqIk34KEO28CgUaYBiohSCjIf8cz0WEEkYhRqy/4/AScOt74TyVSCUwVc9wIHftYJE8OakEcJouYZ0ca8UmhIi4J/N7jv/M5QkYI38U5rPL4/j6Lh5pQCYhCtB/iehHHfpb8xTy3buR5e9ziQhbs+C3ffT0tiIwU6WLE9RttgrbH7fUKd//PFuupiEQYUq9qwmSG0mw/77+W4vKQQc4SMXJJSoQAw4BQiVgxXL5E4vvzHyIEUoJhCgxTIkOQIkJFvBiaSHT4jxyX+uohSw+O+eJIs9UWGGEQI4NVkuxkjtevZHl90mAkDSbiBVTZNUIKVOTTbDRZuV3h4Z0jHq832HN95reg2m5x76MaB3tVvrlSYmy2n/8y1E/pMtzYP8FZ2+Pxh0f8749M/pU2jZOQg5ZFOJxnYqaPmSGL0aQgZXRyAirmYVKd9b/bjtN+7DwbIUF22MmlohMvPNvdPwV7xZxLBlh9JPpzTOUVhlGhKjZJqgipA6JOWvFs66/iwQ+cHuUJ0H5I6/CEna06jpwkNTZKJpsgqURPTrE0GiEUKt9P/5BJSUlE/ZCwIjA06PCpjWG3rVoTeW2cmker4dKot2nXj1l9XGO1nYCBApemUwznJLFqg3j5G0xpI9IjDKQEJe2h0dRqAktHaP3cMyxgh8rBEo+W9pnfzZJ58wJXB6p4C6vUqyFS6xgy2MtUt5aIRB8pO4uNQIZNdGjQVrIj4whPTCftg99Atw9p1TyWv/h37HCN9dEi+USWTGGYocECAx1p8F+GCTAKJPNg90VIVcc/3mfLBBWGRE+7GxFvdOP5xFn3hS5e5YTyahXPmMAeLJLJZ0gZ8bh86W5LA9LCyJbIpvtJKwujnqJ2pDB1HAA/d3DpWL0waDepVZs06sc4tTIbDzd41OgnGpjl5kwfQ/lYyvulm9ZoaSNSIxQTgoLQGJgEe3MYRN0y7KeaHqCjA+qH88wt7jG3k0CMTvPGWB8t74BmU0PgvwIUnUBaaZIDKRJaUApbCCtNeUWiveeEMToCr0EUnNA8OmLlvuKjYpXySJH+XB+Z3ACDQyUG+ixSpvjxoOsv04QEM0eiP8tQAYRuoJ0WzgIoHT5LBCkMhAAzZqNFc5ZkCw7rVHYaNKMM1sAg2f4sKdPoHQJAC1R2kGx6kLQA5dRp1WLFx9D/tjBVQ+QTuA2qJw2cVo1mdZudpUfcbQ2hRie5ON3PZMnuIBxfeqNBJlAJmz67RKZkYBoCv6KwVLw+PdtZIYSHOJUllhbWebCZwB+a4PVrE7itHZqVCOG/CgYwgTATJEpT2CJeW6P6Ce6yRobPObiJIggcdFClebzLwULIZx+7NI+Gydk5crkSxaESg/kEaas3ccyrt/iA0MymGcxIhPTQLY/d4xAFp6X1Z57ajANmOI2htOjwtRw1qew2qfsWRnGAbKGPjGn00O8IVKZELi3ICo3wDtChzarQRGH4LXApDZGH7zVp1JrUTqqEUYX15WUe1PsI+8e5OFlkasgm0QvUEoA00fYgfQOQHdAYShLumdgqQkTht/ieY9zjRbaWlvjicYLotWkuX+6DdajtrBHoqBt69860RhhJ7OIYZgH6DQNjP82xIVA6eoKGIU4eROC3Cb0T2vUDjucVX+TbBK1p0tjk+gcoDA4w2J+mv7cqGT9v65QpCUOhBvoZuSp5zxHYVo25DZfNPY9qpAkME7vfImMb2ElFxhSYIuqgeL+HiZikWndqYP82yFl3KkX0Dzto7xabRLHb1VoTdWhLos7vIn0eEdtBLHc4dCI0OtSdEkxNGJ0vWPoeDeqispTESFhYaYu0bKGabQ6bmrqrCQ2DZC5F4XKRazfyvHM5xaWCJG9qVPT9SKd1pyrFyqQYu9QHOiQ0qhw/bHF0ElExTWQ+x+jFAjdv5nl/2mQiK7BEzMEkg3he61AThR3AQKSJZNw/PyyZ/FSE04mHu3xFQRgRhpIwjB/CWWLpRRxMfLCAiIh8j9pBQLmiiYTCLmYZnu5n9nqeN2dSzBYEuY4a+wvzGAoNUUjQ9mk7EU1f4popxqcEY6FGRBrlhjh1n5YvCPI5BmzBa0c+bbfGwx2H7RWHcjtCpBJkxnLM3Mxz43KaybxBVkfga/xQIwJNEOj4wFyf7W91twOJx63QIEJNFMb8zLrz3i64pecnAC9gr3abLQRCS7TqXlgiiANI8czcFd8y3iKC6Jid9R0ePWrQtEqMvD7DYDGHbXRDlh6Vwwg4ixojIi2e6wEEEiFDJBFR4NA8rLC6dMjS3D4H+8esb4dUdB+l6+O8dyPNhQEDouCFM/Tf3eD4RWAgJIDq+G39rTgJjUbs32Z/6T4L+xHl5HXeuXiRweYye7sR949UzGfRa9h+R/ZaS+NUsayzDqKfh6fUoEMfrU8I25s8/OsGy/cypDL9pAtTDF39gPd+9Qa/em2UmZKN0fMb6LGdrs4CISEOsyVSdhJ/z/mDZ0/wOk7LP2Jvc5s7t2u42UFKM5MMj5dImC9fb+20NYK47MBQ8Qahc2L0VM7+KfMhqNGurPL4/hIL80vsb6+xUm6xUR9l6NY7/OPrRaaLKlY8e9mPWIi4Tl0YKAO6nlzqM5TCMxY6yKMljpbusrDns2XOMjF9mXcnKiw9hMUGBCE9XhTik8NY+7QLiZagY4TFkwmTztcICEIsWcdvbLLx1SJ76x+TzOZIFy8wfOltbr33bjyfBhMkRe9dQs9NAMgziVghQUaI50I8OfVRZ9bdAjXYWSmzMN+gygSF2UmGxopkE+rsMi+13d1PVAiD2LeJ+HRS/81jQY0OqnjVNVbvPebx0gJbWxuUd6vcb84yM3mDW1eHuT6iSPQqUhDxMa88B44SUZyl1TxncxG10UfrnCx/w8JGjVXjMuOTM7w/G7JyHxaONd4ryC0JERN8CsM4nU9RFOESF4k+YxpEFGJQI2issbKySHnjc74o5rBzU4xcusXNt97l/VuTXB1K/jIOQESMEtDS4HTkK93h+nhe4PR8ZF8kGuyub/N4uU6lPUTu8iSjU4Okk73K0HSX1zjTFaMcZIxK/y6ekqiOW9lka2GZhw+WONxfYnGlysrJCCOzN3nzxhA3xkzSxulVXnaj45hagtFZVITWEJ479Dh/2SiA+jonq7d5vFpmznidW5NXuDbu4rRW+bSzGYfnn/e8zMYLwbmxQjdcfa7rjX8ZIqM6ur3G5soqO+tfcucvBczkMIMzb3H9rXd479ZF3p5O9Ual8xdjsQ8ODJtkqY8LbxqkhnNMHwQc1kPaIUSGgZmxKQwmGBm2GUpKEoJY/exFTMfk4L2008SM0BBF+K5P/cTl6FCSawl8CdpQpHKKlBmvMRrQQUTQ9KgfOxwdwqFHrLImBVZCYRniqdLM72iEYaLyGfovSG6ZGYav+pw4Ia0wRg7bKZv8cJqRIZuxokmfqWOwgv6eB1AadCSQpkFqqI9Ry0IW8vTPtjl2NJ4yMHIpioNJxkYSTOQkaQUiCGi3IrwQ/Ejjt9pERz5HjYCGr/BlJ679Yd3/hAk0OojwHZ9GzeP4sM2+L2khsAyBNBUJS2B26Fm+08dEmhAQKZu+qSIXzSTRTMD1FkRSYuWS9A+kGB5JMFlU5FQnDnrBdsdE7AojlWL8cgmVyzJZD2gbsTqc1BGBD9o0MPqS5IYNBjKKbFYw85bALmQY2/Eon0Q0AomRS1IazzB1IcPEgEHRCvEaIa6raXkR2vdpVTwO6wF1TxB0S04ECCK0F9JqRjhuRKQiiDwq1ZBqW9O2YvRXb/3zi9srCmHEE9+e/XS2WH/vfvHKNNc+49GDNT7dHsS8dZl33xllvGhh9wKtcN60JgrCuG4zOMvuPhP/SkBIhAghcGlXq+yv77F4Z4vyXpUttw/Ghhkq9DM5aFFIC6QbB6sv18QTX2K4dtDp7/Oon3NvEzX27zzk8fw+R2qa/pvvcf1GgfzKFp4MiYQRB4FKoHoJVzgNlOimvjuZ9Th596wlEYlhiuOXee3dPI1QE0VtQr9B6+AR8/sntNotPPUB0ZtTTKVFj9SPXoU9bz7FS2oXPfN9chUagfDLOGtfMH9/nn9fHyHzh1levzHCpdEUSYPeQMrPP9uudZQ1nhiLz1gEYRO/XmZ39RGPvrrLxtY6G06BWukSwwMTXBxLU0z3hs4ibtj5dkegg2fJTjtvkEDUrnK4tMzS/S0O9ASZ67e4+vY0l4JPOTQihIBIyFglpKfz6QwPCvFJkgijeOPwTGcLECYYgwxMXeLqGznSRy7SCNBBk8bBI5aPjqk1HVz1G3xjmstFkxTP+6yfkz3ZR/F8ioh4HqH0t5hfhYO/cPf+Gl9t9xFdmOG1G6NcGsuQ7bG2vDh7uHTJKAG+5QwECBG6RdDcYXdtjrmvb7O8us5u22Y9eZlrpRFGhzMMZs64pl5ia59td9zac8nx51zRPeFwY5XHd9fYbqbJvPYOV98d51ruETVTs6TBE6IDGX+pDX72Dp4oywbC6Nwa/lTbtYk0SxTGZ7n8Whq15xKKAJMm1cN5Vk+qHFcauOJ36PdmuTJgP6WO93O07gFhN+0cEkXhi3Ft6BPC8hc8vL/CN1sJmoVprr42xfWpJLleIlKe8Jc6Lv3pZFmeQQQ/YS3c1i4HmwvM377N1voci9Uslf4ZRgqjjAxnGcopLF42gvHbYoLYez3ff2lE1KC6scbje6us7kRk3vkNs7eGuWossTMXxFGFNCqp4zgAACAASURBVGJ6h17C6Z4XE+gu/6p46n0AFoZdIj98kUuvKaKii0+AJdrUa0tsfFOjelyjGfgYhVtcTUP2lwEH7JlFAQjbIjdskhrsYzyMURUREAmBFALTEFhSIKXuLW3CDzURo1S6B0RSBzQrTVbv7eNvm5STBtmEiVlIMzGd5MoQYCqU0mjHpVU+ZlP7fHlkspU0yGYsMsUU45MJhgomOVtA8P1mrhYSmUyQSdjMljRTWhNEMa9UN440DIlpgCk6XI4vesjY/Tw7QWrYZqqkGb6h8cPYT0kFpoyvYQiNpUKcepuDzRbb2y4HjZBG2yPcqfF4w2PzJIE7wOn6+eI+6vz6J1CmAHyalSYbD46Iak0Oswo7YZHtTzI4nGRqwKCYiveTwfdJVkYgkwnSYzbJ4TwDkcbvJBGEkvEYVXHCSvyAxNLpZSIDM6kYmk1QvAhhpAlFfJgv6BzcdWhWlBSdPraxJk1SpSyjjYBGI6QlFCppks5a5DOShAoIWh4HW03KW212Dn3aUUBrt8bBlsfaiY2TFJhmPEZk4OGfNNldb/N42+e4HSGkz8ZCnbUjn6MSpESnbO4nNCV/Gudj+snvnx0Mnd9oj9bqXVY+/gt3lmqs5N7jVzff5PdXM4ykode5pbPWdMnIvmXYRueyzyLmTzAMg0QqSaYvoL9tEpoRynepNwKcjCSFpnc1E2ct5xleKn0uRV0jqC5w++sN7q9o/AvDXH19krEhCB+H+I5PqG10R2FOd4g4OzRNr8z0M98JkFmM3BUmbvbzX/oEKpUkqWr4x0ts3L/DX/74NZtfKz7KD5AcHCU7aTOcfHVj5pVZl6zoOb30tImwRXv9Hquf/ZlvHu4wn/uA/3r9Gu9dKjBT6Bkf9t+0p1zBU23vLMrSxDATJFM5svkB+u00RiLECJoc1zxalkHSEMieY/m/xU4D5SaNozUWHqxwZ8HHmRjkwrVJZi70Yz0ICNs+YWgju/4iApQ+5T7q3Zx6MoP3RDzT3RzLJGQuM/laiX8a0bS1QdpyEY0VVu98yecfz/H464BP8gOo/gEy6TwzCf309uBnbKcOnLPX77CwgXu4zM6H/y9fLdZYS97gytU3+dXVIjMlSerH6ppzhwvP/kfM9WMYSex0jnS+SL6taEoP4TeptzwaYZKUEHEA3LNB2U1APDXrz30raNKsrLGyuMrthw2OktPMvDbN7KUc9lZA5PqEkSCKOlxNkT5DeL7yvn+qr0USIz3L2I08vxsIeDs0sE0Py9tg9atP+fqrVZbuNvi0r4g1NEIuY3Opx8nIV2/nnu3fhKie/TLcnWPrsz/y9cIRK+oyg5dv8d6NEa4OECezX6l9D18gAUMiLRs7lSWdH6QgLEQyxAib1JseDTckb6sY8drTwOn8Z3fm1/n5FLXwG+usLy5z92GNjeYQl9+5yMVpi8x2RNRsE6LRURjPKS3jWO/pj+6VReIpFMe543mdwchcYOhyig/S7/FaYJOwPFR7k525r/ny40UWH9X53EwhZ15n4Ioim3rFgerPysTpV2lLbBkjk867Tq3jUiAddsrLfqSWfqudDhSJkjIu38uBWXHZvn9IxdLYpkkinyE1JbllW4wXJDJlkMwZpKSLcVDjqOpwe13xUJnkilnGZ4GsQabPIKMUZhB+71JAIUAqhZkQpCXoTmIiHsqd/tSaKPh7+jPOpEkpUVZX9Kqzmmrdqe6KeeCEjPDbLgcbxzy6XWdl32PPjQhbLY7bkoZhkEwYZJOCpCFO2/oiFiHiEy0hyWQVuRSImsPe4iEnZcmqrRB9OQanC1zVFvmsQX8yTlh+N1lixwdLkKbElPIJFdu4TwEdEf7gPj0DZQghsS1BQnWylU9vUOC0zjIM4+erDBPDMkhkIvI+BAKEUigDbENDGOG5bSrlKvPfVHn42OFEgdN0cZyImmFgFw0K2XgcK9+jdVxj53GNr+47rB4ECAuqay7NQKFsg2JCkjY7CbUfdM8v334ayaXvNAG4cPQZ859/xL/+9ZAlPcPV//SPvP+rWS6mIUknS/kq48hvmXRx+VwMjtdmhuzwCJfezdE/PUGrUWdnaY+t9SqVlXX+9Eke+V6B9ycVtoDear6KM892LsiLeXh8OH5M/e6/cffxIQu1AbI+WLUNDlfaVFZ32Dis02hL7JMTqhWHRi4B6Ve/Xj+3h4w0MjfF4PQIiWGFYdkkExGhc4HJQpZkeY3/tXfE8dYOG+s1mqUiUeInNBNfij3dM2c/P+NkdQtdu838l5/yxz/vcL8xxs3/9gfefnOaC/0Jsj/FftEq5pgauMG19wcpzb5HvX7A3vICq3Nr7Cx/zP/40wWsD0Z5fSRJ/mmZwN406hlSSNEhL6S+RHP5Ix4trPOwmiUxrDGbOzib+ywsldk8rFNtgV07oXbUppG10KmYTPBHQbhqTstVtExC5gLDF8bpG1egDCwrQunLjOds0rUTmD/icHuX8lqN4+E8eohf3nx6Bk36bU+mRlCdY/ven/i//vsmy/ImEx/8hnc/uMJsKUXuuZKcr8i+NcKSaNWHnb/O1V8NUbp0i+rJAZXyKvMff8PW0jd81tePjK7yu+kkZuJV30M3CSqBEFFfobb0OctzC9zZF7hjFtea27Q3y8wvbrJxUOO4aUKjTuPI4SihsLMGlvoJDEqRQmYmGZoeJjfa4cowI0x1lYmsQdb3sO8e8nhnm7XVOoejhV9gcgmeSHB8q5MTgAfOHBt3/sL/82/rLLSnGbj1Lu9+cJObozmykegt0vM59t3HNYDIk+q/wuytEunhN3D8Knvz91i+t8zW+m2++LyAoVPkruTI966q7wnTHezYadQnZKwi2yzjLH7C8qNH3NkN2E/ludHapLkZsrKyztL2CTXfQ1UPqR0dU8nlKOZMLOMVufmnDlvPho3uJGvHyI+XuD4giDCwbYGMLlEdyZNptrDv7LG4v8Hc3BG10SI63bsy/1+M6RiRoTvK3mfolfg1CvX3L9v6MSyKD+eknaBvKMPVNwNE3qVlSLwoQiuFSiiSlsQSAkJBopChNFNgJrJoH0dUPEGIIECRSAhsW2KoOFEkXlS2ThCT6KOJOj7rtD+jDq/Uy+jPDo+U6Khvyg7HVff3mjOO3C7YwU5IEglJWinCVJaEaaOyGUqTCS6PmOQTIMIX59YVWhMKiZA2g5M5rrwuMYptTkLwIxAKwoQiYcdon6dzNt/XdNTBZJ5fC6Kz6o2XM0Z1p1pGI6IOVUt3CEhOUSRnnEeCCB2PFaUwVRfAoOMS8dOaTYk0FKatSKUMPEOgkiYZpRjJZsmMJLk2IUkZoCOBlgplSRIJg2RKIEyBNZ1nKGWTnepjbNRiKg3JjlT1T6FE7kdOLglEh5VfCIUUsVqK4ul6zzZhbZWtz//MV3e3WAymSN/8gN//dpZbF9KkOytG9+yzpy0WEpSK26wESomOckmsnqQ65WKREghlYShFpmiT6utnZEajvRZHuYi51jKfru1z/3aFmbE0b02m4iA41D1M1ohYaUUZSBErAgllYEoZJ5fqR1RX5tk/PmG/aePsrrL2TYVmxuFobpGlvUMOHAdv6QHLhT6KxmVS432MpKHn8buQKClQRkfxTUqkNM6et7RQlknKikhE4lSNTyQN7Nkq0UyRhUbISaNB7biN64VEUS9UkH5ME6A62W4kgo6Cmnx6ooeE9VW2v/wzX9/dYM4Zxbz8Af/8z1e5OZmjP/Ej4E+6fEAx2Q1CnvmC2DSxrGIaK2sycnGA4qRP1K7iDChG6nP8z7kFPvt8jTemclwqWOTtXrs3AZhgxuqPUghkRwHSADg+oL6xxuH+LvsNSO9usHG3gdwKOFpaYnHniD3XwV6fZ/XBBHPiKtZEnrFsXH/e86YrhVICo8N7o0yJ0V2lRSy+kO6HtI43KFKAlAXM6X382a9Y29qk0qpTO27RbD23vu5nbKJzPGbESoQd+HPsO5+906Cyzs69z/j6izlutybJv/c+7//mBm/PFhhICgzxKlan882P/Z9UnTVWGij1NAGyRKg0ZtZkeLpIcSIkDJu0dkqMbn7I/7G6zMKdS5QKw7w3apFNmK/gDlRHDSzmYxQKlBQxj1S1Qqu8ztHuNnuNLP7RDuW7nyPXXaqbqyxtH7LbMFEbC6zdu8Od8DJ6Ms9oFnrvCgTCMGK1l45arFAGRhfLJw2ElSVlQrKDiBMShMgzNnEVZ+oRB5tHrLcbVI9atFoh38Ia/TM2A6SJUCpGwHVUmZ4ut9KE0Nzk6N5f+frLee5Wh7Bv/opb713n3StFhtOd5MgrsxjxIpVECYFEgYqVgJ+cEAJECjttMTBRJDfkIawErT7B8PFD/vvSCkv3ZikURrk1lSFvvgp/IOPYVHSUPWWsYqwIoFXDKa9zVC6zX02wF1TYufsJ0ZqHs7PO2voe+60m5tJdVoaKDIqr2JMlJvI95GA7b53yViVEfPIvZawECyBNpK1IWhkSGdA6jgmFtrFHr3Bz5isOtw7Zqdc52m/ge3388uZTb0xHnHLePTeV8hNe5rWGUJioVIrBixYf5HJcb4S4QVzip4VAWBYqbVPqV6SVwBjOMZpKkp71uOREOEFcZhVqiWGapHMWpZJBnxIxmfILNSh+iYLTH561l9WfWqOD+CrP8P51cvphYGCm04xdMUgM9HG5FeJqTSQl0jQwbJNkxqaQU/QnAV8TdJBRL2KRVmCkGb9qkBnu53ojwPU1fqeML7ItEhmbvj6LUlKgtCZ8UcbtTiI0fDqT8pLHp450h1vsbx0qnH//kwnZM4sTf6BQiSTDFyVmX5bZtwJcEXN7SUNiWBaJtEU+Z5KVmgAbo9DP9OtpEuMh9bbuJNMEpm1gZS0yfQn6soJkRwHRf4n3/0PtR0kunaGBxZk8szijmX4CdqtdwmaZyspX/PXDB9zdziIuvcvVD97j7YsFxi14Amrdq8zM6SX0qVRjFEOU6FaG69OygXPZQ6lQpsJKSNKWQoUW5kCSw5zGDByOth2qVZ+gA0HtleOO+1We+/hz+OaYep8oFASeSSptknYdwlqZ7aVtKsrleGeXneMax56DuzpPujTKQHGI4UIfg6leLduxIxKdxIM4PUaJTp12fAsdzylFLPl93hGqFAk7Q9IyMFXUUR/9Nsn4n6fFz7aTIOhyAp0+aPHksNIRBFscrtzhkw/vc7+cIph+mxu//TXvzfQzap45BX36Cb1q9blPl/IsoSLozKVn3y6EQphJEiYkAHIZ+lp5agWwgxP2NyqcVNt4Qe9A22ctF0+CAbuNFx1VsEAShQaWZZJOegTNHfYeH9Autzne22O7WqXqOpgby2wsXWCxNMpgIc9wtrc5T91JKncDDq3j/tZaoDsPoUu4/ryksW2nSNkmtiFOSdjPee5fkJ2fS6cLUpzY7r5Fa9BlDh/f5vbHD/jikUN4+fdcfvct3ro0xIXMGUOc1j2WmNed4LnrL+mcuHXaff4uYl6j+FBHqCSJTDKeT/SR0/tEAxHmfI3K/jGVSgs/iOH7vVhfY1feFRx4+nBFxYka4lPmKDQwDZN0MqTq7rO7UsExW1SPjtg+qVFpStTWYzbnH7BQGGO0mKOUUfQGxHhuzHed16koQUxcLVR3ze309XO6z7JSpBIWtiFRQTd2+OXMJa27frIjs9x9znDqg87uNkC4e5ys3+HLD2/z5aJLe/J9rr37FreujTNTMDvPUpyOx96vTwohzxE0du5FdJJjp7/UGoSBNAxsI4HdqdvLDg/gFAXWozonu8dUjpq0vYjeJTtiXx77mvNCHh0fEGdnIFIEgYEyTFJ2iBkdsvv4mKrp0jo+YvfwmGO3iVybJzk4TrEwynChyGCWHiWXzkZCHMp3hCg0dMkB4zW3e0PqWV41bZNIpEjYFklLoWQHGfILmk//YX/btJZIwybdb5MuZuJY5jzAvFMqJrpVIukEVjZJbgzGRed9XYBlFCNxZFeEIPx5j6MgFEjLojhuU5gUZ3yMglMuPNmh1oiTjGf//yKmtQBpkhswyQ4JJjp/H8Fp0CnoXLOzGesxz/tPwnQHtaRsm/4xm/yYoCuKe95Ny64ae6TRwkLlLIb7BIMXeaI6SwMy0qf9+PIQW3+/vfLkku7AyPwgwjTb+K6D1/bwgoAgcPHaPq0AXBGRkJqotcfJ6h3mPvuMvzxwqQy8xrU3rnPz6iAlwyd0NZ6WGKZCShnLS/YswRRBoPGDiKjpEzoBrhcRBiGB7+O1PBzXxJQav+4T+CGhYaISJnZSkAoCgrZDs9Gm1lUNsMRpYKpPX15ag+NXHUProtBF+00cx6UdhIRhRNCOf3aSEtMoYI6+wbXXDlGVgJovsWSA1A28hI1lSoTXQQXJztfza/1LNd1teOx0fA/PcWm1PbwwJAo9vLZDKwgwJeC0CdsuIQqRzpJIqJjU2TuhdlhmbbdBxc2iRtL09dvYtvyFlN/rGDapQ9BtPMfBdT3aQUAY+rhOi5YL7USEoSO0X6G5/g0Ln3/KX+45HBWuMHXjOq/dHKWkXXRb4wkJyoihwBBvWF9+s+O0rNaEwkC5Hq7j4foBQRBguG3ctkMzypLQEWHLIfB8QmlAKkvSlvHzDRxajSrVhkvDFx0UUS9LNWP/FWkgaiO8Jk7LxQ9DgsAlcNu0Wz5OziRhFkiM3GDmRob2kKbqC6QMsVB4KRPTUGivs83qqOX1jIS4q2jXIUsOfJ+g5eC0PbwwIApd2k4Tx3fxsMFx8RotQsNEJlKYCTPmYKBN/bjM5naVfUchh9Lk+lOkUl2lzp+zdfooitETImwTOC0cx8MNfILQx3PbOE6AZyvSUUQU1GlvfM6jL7/m0/snLDrjXHrrDa7PDjJkB2g3wtMCYcTJcfUUsfrLbHf3yCyMNML1aLsejusThAGh59B2HdpRDgtN2HLw2i6hNBHpHElLYAogauLWjjlu+jSDLvmo7GEyXoMWRFFIFEaYhkPQcnGDgDDUBJ5Lu+3RChKkVJ7E0DUmryV4q9/lwDWwjQgVCUK3gW0ohIiPf0QHBa1lrxreLRcI0Ugi16Vdb+C0Q/zAJwxcfLdFK/BwUUjXxWs4hEIhkiksyyQWD/Rpnuyys3/CTkOgC2lyhRTJ9C8BUtvto86JeuQQtFq0nI6/DH28tofTAkcGmLaB8Cs0yndY/OoL/vJNhWU9zeTNG1y7PMxoWmD4Hn4UKwMp1UHj9KbpdOVaoigkanv4rTaOF+AHHoFu0263cP0cJBVuyyVoNgiMBCKRxk6eJTTdVpXjlkfTtwnNDsKml7FHh8w/1D5KOfhtD9f38aIA5Ts4LZdmlMWROVTpCuNXBW/lWgy4FmkVIkUL2g2SpopP2oWMk9Xx+VXvjhC6G3it8VFIp03TDXADQRh4eK6D47q4IUjPI2y7BJGARBIraWNLEFETp77L9t4xO7UQz0xTHM5g9Ry6+Auyn3tcfJrvl0ijmwA+t32PItARUSBi5WsJQsZVKOJpyHiHTycKxd/HM/Wq+vRvXkd0z+ARhsRUPKV60Qlsu/fL33O/ncR2B5kqn1Z/ijpZqzAi6FzrB9ur6NuXcg3xxHeiu4Y90TWdQdbh4Qq68aKUCCmwu9xPp9Z5ZmFEFP5IdBrfYq/c4wo0YeDQPK6Ct8X+5g67BzVqrSbN+hGVvT3KGydkkpKRbAt3+yHzn33Mh/92hyXxNsOTs0zlQvLNDXbqIWEokYkshcE8maSJbcjejLUYikDg+tRqPrW9CsGew3Hdo+04hCd1DsrHbJegRYi/U8M5bFBPZzAH8xQGUgzZHsHeNkuP9ri70GCt3kfq9Qz5go2NOJU0f9lMeYIAr9mgcbxHu7HBZvmQSt3B9aF6sMnWapG+Vj+j5giZW/8bv7nS5g03xAs1Gh8V7vP404/4MoD7R0kK7/yOW++/xTuXBpjJ9QplIQCfKHRoN1pUjw6pbexTPqxz3AhxW4cc76xTLktauRwcHuCsl2mEJv7UVcbHBxlMVtEH91m7/wn/fu+IVXOU/NAg41NZ0mmJVL8EtIVGB23a9RpufYvK/g7lvRNOmi3cdoXK7hbl9X6yfUlGUy1oLvHoz3/iT/92l3n9BoOjF5juFww4G5QfewSBhZnKkC1k6culsHtWOagh8tFeg2oDnJ1dDrYr7B47tJwaQWWHg50ym0eStIZoZxtn/5C6TBBMXWV8qJ/hRJNwf57l+/f59N4eSydjZN4Zoi+fwTJ76doC/FaT1sk+Tm2Nyt4Rx04bp12jdrjD7toWa+0SoT1C5rV/4VeXHK61Q9q+BukjgkO2733GR62I+eMkidff543f/ppfXxrkcn8PS0xFCL6D5zSpHFWpr+9RPmhw3HSI2kdUyhts7ypMclBr0JpboGrlkKMXKI0OMpR2sE8esf7wcz65t81cY5jsYImxqQyFfC8Teq/WosDDbVZpVcvUK5ts7B1z7DRx3Sone2W2N4vkmxlk2sXUW9z74x/5+KN1HtRGiaavM1sIyTllDlY1B1ohE2ly/X1kcwlSPducCcAj8tvU6h6tnW0qW0fsHDVptAxaJ7scbm+ytSvoS1qws01ra4uaSOFO3WByOM9gooU4XmLjwVd8+NU+660ZzNkS/YM5TEv28NDGJ3Sb1A8rEG6yVz7kqNak6QrMyh77m2XWLEFoDJK69k+8NfM+s45P0xNIIyD09tlfvscXTY/7OwJ94z1u/uFf+P3FAhfyBomeODABhIiwQdvxODmqcLK+TfOgRbUlcN0jTg7KlLdTSFXAOK7QerxOQ9swMkV+ZJjhXESm+ZD1uc/54sEG9w9tmB1i6kKWUn8v2vwjmNBEgUe7Xsep7lCrbLCxc0LVcWgFJ9QO9tjd2GfdNLkwJhHHKyx8/Gf+8r/ucLc+hjFzhemiQb5d5mRLUosU0kyS7u+jry8VlwH0zHwC36NZb1Dd26S5ecBOpUm9qfHkHgfbW5SnFVonCQ4quPMPqaRKRKMXGRgsMZbxsJx11ua+4ZO7u6zULyIuFcgP9JE2e1iiJcL4EPPkCB1ssbO9z8FJg6bbRB/vsru+w0bCRKgcmZnf8vr4LabdgIankSJCR0ccLN/j/odf4B+WUW//gTf/4R/4zaUhLhUkSaNHcZPWEDp47QaVEx9nY4v9/SbVpsRtVqgflimXs6TsEqpyQHt7n6YT4Rcn6J+eYLRPk6ivUp77lC/urXJ7T9G6MsLbVwtkMl1ml1/IIvUf9p0WRRHa+xZETHym0Xlj/N4o5PlKloIeHq68OjtfwRAFEX4IPM0h1c3Ddb/8XdNFE4VxkkSI52xqO9f6BXTtD7IoiNBh9K3j84m+j2JlZ/95pYM/0X78EdL5Ln5zl907X7Dy+BEL66s8XN5lZe8I33Fp/xUaxyesjl3g/WttrKNFlpYX+eL2OruDo8iNezz8cIHDDPiBoB0W6B+9xLu/f4vLU/2UDPWSN8OdpyzACFs09g9ZfnjIw7t71HePeLDus1f3kHWXz40Ku/VpJkopivVjWN3kcS1iXyYgZVGyQrxKhZ21KjsnGdToKO+9U2Bm1MKIzi73chG8AVrXONl8yOJXn7OyucLizi5318sc1iIWPvk3KtvbPJ64wRvXL/H+W9MMDcGIjgh1HEAb5g5qb4Xt+xtsujlKU5eZvDjC5FCCvp4iRFpE9Q0Ol+b49PNl1pfuUy6vsbgH9ZbBg79ukYyuMXjjbYaCOrn1uxztlHnw8Uck+vpIixpRrcz+5i5zwQWy197i9ZsXuDlskbfB+EUEGiFufZvdh3dYvH+X5e11Hi6WWSpXqfkV7v/pXzkuH7A6McU7MzBmzjM3t8CXd9bZLQ0Sbdxn7i+r1O5oPB9afoGBi1e4fusqN6+PMZR4mqflZVkE4Ql+ZZ5HX62xeP8em6sPWNk6YueggVE94Qu5Tcu7xejYBMPVdeTGXbZ2DnmkhkjlshQMh6C6w+7KBmv7RcTUm/zDr6eYGUuTsnq164jQukV14wErd75maWWJ1ZMDHm7tUvEOObkjcPwGq0M3efutq7x9Y4yJEclgqAm1QMiQyDukz9litbDEXpAhMXaBscsjjA8m6FO6d4uE9oicdfaX5/niixUeL9xlf3uNxV1N+/hL7ny4htt4nYnr1yglLYbW77BxUGMzSuEns2RNH9nYYGdth9XmIObsu9y8foHXx1IMJUH87EsP4oS239phb+4+yw/usLi+wtz6DvNbB1TdCg/+9D+obB2wOn6Rty8Z3Bhe5t79Be7O7bMRaRLJBeb/tM1hKiL0wBf9ZIdnuPHeDa5fG2cs00FU9sJ0jXZliaXbj3l09wGbKw9Z3T5gc69C+8DnC3uLVuMmwxdmGXX3SSx/webOAXfVR2SzaXJGG9Hc53Bzk0cHYySuXefq25PcnMmRtGXP1K100KS1v8TyR5+wurPK/MYmdx5vsXscUbmnaLl1ytNv8MaNK7x9c4ipUZtSGBJqEFKh/R0GzBO2P+qjXDeIRscZvzLBlWJERoneJD01oH10e5OD5cfc/WaJB/fmaR1t83gjQcX1mRc7/M9omdFbv2LU8Olfe8j+zh6boU07mSVlayxnk/LyJpuVHMH0TV57/QpvTiUY+qWQeeuAoH3I0fIDlu59w+LKMo//v/bu7MuO407w+zciMu++39qrUIV9JQBuTbIlTY995pye4x6Pj+158j9n+208frLdx0/j9oPVkrpbC4dNiRQXLLWh9vXuNzMj/JB5C0UQJEE0LioL/H10tFFF1E+ZGRmRv4j4xe4uX21v0dFt+r81DIYdvqjf5N/+PMtU9DlffPElH3/ymFWnKBU+58tfb3D8icNZTegq5BuL3Prwbe7eWWDBN4zWTL7y1YDumP7eQ5Y/+4pP/vAlqw8+4eHaEx7u5jiwv+S3f7dMq3WXC9eu0XQB01/9ij/tRzyihiuUmciH+L1N1r/4mq/Xa7jFW9x/9zJvXatSyZ/6inuVMeOAPr3dr3jwqKNGgAAAIABJREFUD//Io/Wv+fzRCn/67AkruwPyn/2age2x8eV9bl2+xgf3L7C04DFpHEEyBjXeLtumReuzr/k0u49/4QaLV69wZVYx4Su80Q7AV96uBrjBBq2Vz/mnf3zMg88+YX9jhT8/Nuz0B2C3+M/2AV988JcsmAHFzS/prD/mUc/QLjYoZC253ia7q495uFWiP3eL62/f4+eXPBr5k03O4ifkO5NCz3sUvusDPW1f7a/Ic6/NOP6/qp/Wdf0xftTzyfm6jmeQXLK4oEN3d531R6usPDnmKMhSmJ5AeRqOt9l+8JgcVa7PWhpOocsN8pPzzNUcxeEm+2sRbR0xjAx922bK1rnaHTJ0jghe7eD9JH3r0C4g7LU52tpnfeWI/a5PmPWoKY3SPVo7jrX1CTJ+lqLR5HXAYP+Qjd2IvaEioxU2inCmSPHiNJfuL/HR3RKXJuKB+2il4KuTLKlzAYPOHgdrq6w83GStFUK1yXQuJNPd5nhllXU3xfT0BYbKx2TigsRPr2OVanOG6cWLLOXLTExVmShmyY/7sDUX4sIWvcN1niwv8+hJl8NBFb+sWSwM8HpPWHlYojtxi3xVU8s5dLjD7lePOAwVgzDAOYPKNSnd+wve+dmHfHBznktlTV67N2SoYbFBl+7+JpvLq6w8OWJ/mCFTbzDhwB1ssfNohRwlFhs5JpsWVZkgP7XAXFWRD3Y43NimvxkyjDStsEUvO8HM1T79yGHHNSRTDuWGuOE+h08esLyyxdqeoec1mGj4QIvB/irLD2egOE1Faco6IGyv82RtmVZk4iLJocOaCpmL73Dvw5/xV+9NcrnpxzUhxjJR6YCAoLPH4cYqaw/XedwDb2KCehjiuTbt9RVW+pPMX1qi4+KaFto71Z78MuXGDLNLl7hYKpCZbTBVyFLwYKxDYBdB2GJw/ISt1Ucsr7U56FdQJc3lzBBa62yuTmBrC6iFSS4UNKq/xf7yAWsdG29HcRFkpyhee5s7H/4lH9xe4lotSzkO/ZyLP85s2KF7uMnO8iory7vsdDyyzQaTkUK3tthbXsV3FeabFa41B0TlaUoTmunQx1O7HDzZocOQfmAYqimaYYXpmz36kR3v8c1uQNTb53j7MasrWyzvwbGrUWv4RLbF8GCdlcdNgvI85aIm74XYzjoba2s8jBQqLk6C0wW48q+5/9EHfPjOAndmMxT8ePvmOCouOQKC3hFHTx6z/GiD1f0QW6pT9wOMatPbXGONKaZmluhGBuX5+J5/qj2VKFWnmF5cYsn4uLlJpopQ8PX4apcpwEZg2/SPn7C7vszj1V0GbpJ83TA3CMkMN9lczjOYvkVuukAzq1DBDocrezw+CunZeLVy5DcoLd3jztsf8tG9y9yoZamOK+7XSgEWFw0YHG2xt7rK6uNt1oeG/NQEWSAzPGT/0QP6rWm2bxYoFyJsoUl+cpZZm8GofY43DhkwZBh6DFWD6myOyRtdevZHFtf90QKi/j6t3RXW19Z4uBVxZOsUax5e2GF4sMra8gS2PIfXzDOfd0StNbY3HrDdA2MURAGhLeEt3uWtDz/ig/cvcHchR8HnVc8inhIRDQ452lzh8YMnrO8OGGTK1GcLZLw+va11NrxJKqV5WoFC+VmMd7oCVJlSbYKJhUUWr4E/22CqbChmX/HY+lssRB0GnS12Vr7m0doBx4MambJmOm/JBdvsrGSI5m9TmM5RyCi0O6S1usFXx5Ze5NBOYb0y+YV73Lj/AR++f5u3qlB6tq6JEEKIsTmD5JJG+QWKzWma832WigMaOoMyGuMCwiiLzU1Rn6lQLhoqWbh0P8+/iq7SV45QgY0s1jpAM1QNGnMT1EsZMlq/+hKJpyaYrPLxcnlqE1XmrxgqVuM8Ex9PGUU4ZdBTRSYbeZoFj5I/S9fLEha7FFuWSBnwcpQnm8xdm+XmrUnems9SzgJRUjD1lYqvkcMnU6xSm1ti1lUh8LiayZLVEVG/R09NkZusMVXzydgAa/2kDpRLlk165JsXWbznoTtZilMFJoxjXKujTygf5ZXIVWeYXRwyKMwypz083+CpiOEggPIc1XqN6SmfmcYNil7IjWidJ8d9WoGHy9apzF7l8tt/ydt3FrkxW6RuGHPgr5PG+HkKtSmaC1e4UBxSwcd5hiwhQaiIslPUZipUywXytYtcelfxC+8mfWcJnSOy8dGzKE0vrDO9MEGzUiDnxc/AeD4qFU5lUJk6tck55i9nyM448OMinHY4wJkCZmaKuXqNyYJHtXALp+GWf8B2JyBwHnhlilOXmL92l3v3b/DuhTxl48b8YvPIFGtUpxeZ7WawUZ6rvodxQ2xkCVQFV2kwVfXJERHhn/rItVir8SrzXLj/Ln4ng7nQYFo7/GT//9goD2WKZEtTTC306ZopppWHlzP4RAw7fVRjgfJEg9lmk6nabSKt6Xhr+LsdjgND6NWozl1j6e573L93nZuzRZrZN+vQRW3y5KuTNBYusehPUnQ5yBgyRESBI8xMU5yuUK9WyRUvcOUv/g16Yo+j7oBAq6RvCghDQ6QaVGcmmajmyZkxJjsAVBaTrVFtzjJ7yWAmrxAag+8rGA6IdB5vappmo8JkvcRU/jbOwO3MAbvtIYPQg0yJQn2BmZvv8+47V7lzscZUQaHH9q5XKDz8XJnK3CLTUZloxnDJ+GgVoqOQoavgyg1m6hmyKp6EOVVRHRtpTH6K+bvv4RYNLE4xD0Q23mI6tu2ayoAukitPMTHX4VK/SpAtcsMHFQ3jZe+FCXKNGtOTFWaa18mZgK63ht7ucDBUhF6V8sw1lm7f587dm9xeKtP036Q1FhplsuQqTRpzl1iwNTKmhOcpDCHOKiLTwFWrVAp5CrUllu5rPvSvcr03JCCuH2RdSGg9nKpSmJhislYkP/b2lEFna5Qas8wtKmxlidD4eL5C2yFhqPGmZqg3qkxPlZnI3uOyKtHO71A8HDKwBqvyFJoXmbv2NvffvsadKw2mSxqPMeaWMHjZCtXpBWb6edwULCgPY8CEA3qujK5OMDeRI28i1EmDSlY+OYXOTTJ57T7vugXMfIlZ4/AihUsG2OMJXYPOkylMMTF3gQu2zsBk4lo4hNhhiMvWyDVqzExXmHURYaZPW+eJNo7Z74LL1sg3L3Lh1jvcuXuLO5fqTLxJnZMQQpwDZ5BcyuAXZ5h7568oXelxL4RIG5R2aCzWKiw5/HyJWlmT0ReZmLrDwo0Blghrk4/h5E9zZPBzZeqTVYqeSo6ofZVdXzz7hoPQFMlNLXD9oynm78aJLq3jI7pdckSly2bJZX3ynsO7WGXy9oA7Sb2VuHCvh8llKJRylEs+Rc+io6RA8FholC5Tv/AWt0sXWOwF9DEoE6/8iMKAyGVRmSLFSolmwcOo07M8ClSB8vwNrlcWWYo0ulIlnzPkTi13HEfyAVXAFC8yea3Ozyf7vDtwOKUxHmhliYII6+XwKhOUs5qirRMs3mDy7S6dQUjgNJgcmUKZSmOCWjlLabxTb2fAkCnPMHPnZ+QX7nI7iIvAKc9gnCUKLU7l8HJFKmVDKbtIqXKTpTtDoigkOlkxNzqxIUOuWKZcLVHJmDG9IBw4DaaG33yL2x8tsXAvYBCBMgpPKVwUEjkD2SK5cpWiH5EJppm5+g4XWgP6QbyqCu3h5ysUq3Vq1SK1MScOHRpUgcrCbW6UFph7v0/feRjPoImIrMU6D+eVKFUr1Ks+31xEpVG6SHHiGtc+mGcpUnGB8rwZU22YU5QPhSUmrjb4WbPL/YHFKh0fsU1IGEY4v4hfqJAv5KhSpD5/k4V3O7QHIYFVOJ0lU6xQrjWoVwuUMm9WYgk8/OIU0zc/pDB7m6uDkFB5yTHkcXuy5NDZIuWyR7W0wNu/uMnNd+MixZGN4hM7XHL6Hhn8XJFyo0IlN672lFBVco1bXH1/gckbcXtCa4x2KBsROg2ZIplShXIWckGDqctvM/dRn34Y7/13KoOfK1GsTdCoFSjnkm3m4yq3BOCVKExf5/pfNZnpBQycio96V6CiiMganFeiUKlQq2biwuMnHY8CU6JQv8Tl96eYD4F8iWwOvNNFJsZB+ajcIhOXGrzfuMf1boDTPsYotIvfBU776GKTUiFDWdWZXbjC/Ds9Wv2AgVWgfPxilVKtRq1aopwdY821s6B8vGyT5tX3uTt5nUv9IF4dbTQai7MW63xcpkqz5lHMXKBav8nirQFRFB86EtnRScIKh4+XSWqY5f2T9jSe8UeFXP06S3fnqS316YeA0fFY1Vqsczi/RKZYppD3KYf/NaWL73Ox3ac7HLUnHz9XplhtUKsVqea9McY8+lPz5CeucuXnDSbfHTJwKp74TFbbRdaAVyBbKtOo5sl6pwd88bgrX19i8e4kzSsBqtwgV2D8/RMZVG6eyoUKH/z1LW51o7j9aIdRFhtarPZQpSblgk+eSVi6yPRbHd7rBgwihzNZvFyZUrVOrVak8qZsLxVCiHPkNSeX4pNctFeg2MySa8SzJMkZPad+Lj5RQ8eljigUHZXGqZ+ydnSoKiRHLxuTnBI1ztU02scrZmlWNFPeqJaDQlsHKinyHtl4ZRXxoLei40VA5huF0hzOxh8qUfTK63d/i8MnU2pQL9SpWktyCCQah1XEU2hKoZWOl3J/gwLn4eXKVDIlnBpdc8a8ztgBBuWXydeKzFVsnIBLzhXVapSQUygdH/GsVR5XaVCafDoYJanLoT0Tn8Y1rnDPjEL7BXKNLJnaZDLxGB/hq5zCJjdpdMKfVo5cHiqN+KlzqOSYX5L/rtFafeNkq7HRGVS2Tm2mRsXGx6g/LeaQbIBXGq00SjlwRQq1SarJAQlPk59JgkTp0wsNx0QBHtlSHb9Qo2otdnQ26Ch+4rjVc9tT/FybXImKX0iOvY1PjBjruwvAGZRXJl8p4JfcyRHh8ZZfsCpe6ahUXLxZkyVXqlOZtidtLV4MaeLrPbZi72dJob0C+VqebKVJ0yYrDFS8hWn0vlRKxe8T42hOxQs845P47Kn3fPznKa3jk0zHdmx68ttUFp3zqUzWKDWTdPHpNuXcyXMZ960FctUpKrPfrPOllEYZE5+28xpusFIGL1+hOlekYon7zpNah6NCGMk1NMnx5KcO41UYPL9IuVmgmKzWHY0dxidZFWxK5CpFMkVL8+TdFb9n42OXVXw9ddyeXKlGaYp4ddvJx7xGG4PRcZ/8Rm3fcaC9LLnqJJlyg4Y7vdX69H2OnzWtHNkcVOrEWzQBnH36fI7eTTrpp8YaewaTq1Pxa5QayXs+OX1Qo7DJ/VZao1EolSVbmaKWjLGeTrxpMAajNWbsL3lwTmNyFSozJUru1HtgdK1HcWMwnvpWEWPnDDpToFDLka+C06+6julzowalwSuQKeeYLDSZ+MZ4L7neAMlJkErloRK/6yL39GrH73ATjwfemIYkhBDnx2tOLiVJiZMO+cX98Ha311TVSimcSo50TGpUxJ/mcec9+sZUyXGwo2TMyY+Q1LVIVl+NN7GkRiGD8jD6Ra7jM3//KIGm+NaX5Ng/4pMklkKjXzRwbTA/qVNnnyZXzY+4uS98PcdFqeQTQz9T7+GH/PDNHe94Mr7eqDi58nJ/f7wZCG/M2zq+8WtH74L4mr/4YUXm1W81Tq3kGiUfrfoFG5Qx/NgX6yv2tH+JPxhf9J79iPfq2CQTGwDeCwbzjY7n1JiC15nsHE0umXh33AuFHkf3/T/6Jm2JG71vVHKNXvD+/uhxyhio0TpTA96LPlf6BWIf61K6+F9VfL0xP/bdffo9olDPdHBjH2GPxgRK47/QBU9+yJzJFgwhhBDf4Q16J7/6Tvu5nWkUEQQBwff+naOPxgD7nV1yPBAZ98r9cTqvcYuzdn6fnPMbuRDp81LtSRqhEK+O+t7/+oN/fSxBCCGEOLfeoOTSq6fc84su6hfeK6DQ0mkKIYQQQgghhBDiDSbJpec4WU2kQCmHcuOfV1HqaQUCfbJlSAghhBBCCCGEECLdJLn0DE1cV9Bo8HVyPOv4zmE+kVQmAAeeshhGhUtfUy0pIYQQQgghhBBCiJcgyaWEIz5EI3KO0FqGoWYQhTgUQ+te28qlyEHfWobJUbenDh8SQgghhBBCCCGESB1JLp1igYG1tIcRT3qWojdEAeFrS+8orHUcBRHbgyHD5LQ52SAnxDiMNqIKkR6nD9UWQgghfpCTsYwQIh0kucTTGksKRzu0fN0ZstoN+LwdoSBeQTTOkf7JrjtFaB290HIc9PG1l5w29/oOWBbip0cGZUL8lMkb4M0k91X8dMjTLoRIh59ecmm0/0wRZ/qdxTmLpzST+Tp3G1dp5GpYF5I3GQAcdvxhJf8eOUXkHJGNKHoeF4rT5DyfJJDz69zOqpzN+gGlzuG6hfMWs3PJc6nO1/OZXGblku265yj2M3lC3Pl7dTrnTmJ25+j+ol3SnM5PzHGsDudObX9/3jGxgnO3nu7Z5/AcPZdw6nCZc8Q5d67a/7PObeTKnHUEQggBvKLkklb63HwMa63RxqCUQnseaA1KYdDMFpoU/DxvhUNwFq0V46+29FSc77InC5k8Zahny+R0No7daBTx9dZan4vrrpRCG4P2kpi1xiTXP+3UqVP7rAU3/hwjED+jnuel/hoppeL7m7QpZy1ap/+ZHNGj2LWGcxK30govaUsqaUue8c7FdR89KyRHFbwu2miM1icxpJVSCqUVxozelQZtDL7vpzrukThGhdIapdW5iNkYg+d5GK0x5lR7Mun/UFNa4+lkCPcazv6wyT/isUf67y2AZwye56O1xjmL8TzMeelbGR0wo8/NxI1SCmMMRpuTsd6orzoPjDYodT5ifZbJVs86BCGEAP4FyaWTcYyKZ9BHMxXWvqYv8JegtUajMFqjtYJkMD+aI86bLAWTJU1zRS5Jbzkc2mjQCq3VyX8eXfc0zhRprbFJwgFl0KNkhDGpfl5GA08XRTjs6x2IOpd8YJpU31ulVHzvXJzsNFqDtWilcEkWLo33dkSPBrsqbv9KqZMBfFrjHiWQtDbJoN0kSYinz2caYx8lIa21MEo6vMZH2iQfw3EzSmebOrk+gDmVLDRJohnSuyLgpC0lK3/UM++tND6TIzpJKmkzut7xxMfpMU1qr7lzKHM6UTvmOJME1mjsNJLW+6uUAq3wkns6mgSJE03pvrcuuaZaK7Qint1KpPV6a62xUQQkJy4nk6Dx+z7d74KnE2Umfn+dw4OaTb5x1iEIIQTwL0gujVZ0REFIJ+rQarUol8sct9vf6AjTIJ4R1njGY3tnm73dXVrHLQaZAfv7+xweHFAqleh1u/HPo1ORXrJYIusoFvI4pdjZ3mbQ79PxOxweHHKwv48xhuFwiI2iVM3GOefIZDIMg4Dd3V2ODw9ptVoUDw/Z3NhAKYXneURhmLoBnlIKP5NhOBxy1DpmMBjAuNewJfcuspbjo2OerK9TrlaxUUQYRScfbGngiGeEFbC/t8v+/h5HR4c469jf3+fg8JBsNstgMEjlYNJ4HpVKhVarRavVot/r02616XQ7FAp5jg6PcC59k8W5fJ52q8XO1g4HB4cct47Z399ne3ubUqmE7/tEUURobaqqtI3aujaG1vEx/X7/tb1frbUcHuyzt7/PbKfNcDAgSj6A0sR4Hs45Dg8P2d3d4fj4mOFwyN7eHutra1RrNZxzRGF41qF+g3MO43kUi0U6vR7dbp9eb0Cv0yUYBgz6fQ4OD9O30kUpfN8nDEK2t7Y5PDjkuNVib3+f3b1d6vU6hWKR4XCYuq1UzjlKlQqdTpfdnV2Gg8Fr6UNHCdDj4xaddptOu03XGAavsT2/kCRR4HkeBwcHbG5v02q1iKKQ3Z0dtre24vYWRVhrUzX+sM6Ry2ZBKTqdDq1Ol163R7/fp9vrEg6DeLyXsn71ZDznHHt7+xweHHHUOsLL+Ozt7TExMUFkLb1+P1V900g2n8dZy872Fr1BH/u6lqm/Sil6joUQ59ArHKe9/LY4FXco3W6XtdVV/vf/9J+o1ev0u11cygaSCk5mJQ4PD3iy/oTtrS20Z9jZ2eHrr76mVqsyGA5Pfj4NHIC1ZHM5LLC1ucnOzg7HR8f8/S9/yc7eLkZrwjDERVG8xS9FjDFEUcTqygpbG5t0uz3W1tY4OD6iWq2erGxKG0X8sRcGAb/+5a84Pj7GaAVj3CmhnENrzTAY8vnnn/O//cf/SL5QwFqbyms0Wq7f6XRYWVlhd2cH5xxbW1usra1SrlTi5zJNA54kFmMMuXyelUfLPH70mOPjY37961+zs7dLqVik2+nEP5uy9pTxfQb9PlvbO6yurNDpdtja2mRj4wnNZhNjzNOPpZS9g40xaKP59d//ir3dHfTNm2P9fSerD4E/fvon8v/n/8HHH/+BYDiMD2hIyzVKnkmVzPD3ul3W1tbY2trCRpadnW22t7bI5/OgFFHK3gXOubg95XKsrqzw1Vdfsru3yx/+8AfQilw2S7fbTde2GGsh2bJjo4iNzU3W19Zpt9tsbWyxvr7G7yd/h5/xCcPo5OfTwjlHPp+n1+3y6SefcHBwAIAe82e7ZzxsGPLln//M//23f8unn36KAoIgiH8gDe3pFM8YOt0uW5ubrCyvYK1lb2+Px48fU6tW4771rIN8lrV4vo9SmoPDQ/785z+zs7fLF59/xv/6P/8v8WRT+PrOL35RimTFlVJsrG/wZH2NdqtFvlhga3uLjz/+mFwu9/RZSRnfz+KiiN//7rdsb29jI4c+J1t7T5ynWIUQb7SXTi4ZzzA5McmFxUXanQ6PHz8mu7GRyllh4OTFGwYBg8GQbC6PUtDtdlhdXWFj0z9Zipw2KlkCPxgMmJ2dRWtNr9fl6y++gFNLqNNGARbo9/poY8gX8gBsPHnC7s7Omcb2Q5RSRFGEjSyXLl1iZm6OrJ8d2+/TWlOtVrl65SoPHjzg0aNHeMlqhtRSijCKGPZ6ZLLZ5Bnts7KyguenuD0lWyT63T7VapViqchg0Ofh119jPO9kaX/ajFYODIdDjNEUkuTjzs4OB4eHqUmKP4/ScT0ei2X+wgUWl5aebqcax+9TimKhwO3bt+l1u2xsbNDudFL7TAJx8iiK6Pd6+H4G5cNwOGR5ZQWTfLildXbaGEO/16NYKrLgLeBwfP3VV+gkgZNGSils0q8qBfl8Dusidnf3OD4+/sb2qbTRxhAGAd1ej0uXLzM3N4eXGe/5LPV6nStXr/D48TLb2zv0+n2UUqm9RgqIbER/MCSbzeKAwWDA+vo629vb6Y07aedBGFHI55ifnyeTy/H5Z5/FSaWUxk0S92AwAOfI5fNordnfP6DT7mC0jhP7aZOsdHPW0u52uXjxEjOzM+QLhbOOTAghzqWXHo34ns/V61f5m3/373j7nXcoV8rfqBOTWslKEJtMXI9mVMf5ofMqOOdwp1axnBQiTvlsxahOyOifcRkEfdKhp5lzjl6vh+/73Lt37yQ5Ng7G85hfWOC//ff/no2tDSrlSuqfSfj2/dXJFtS031vgZJuRdS4uoK6fFnBPq5NrbZPC/0mi7Dxcb4C33nqLXC7H1atXT2oJjYNzjubEBP/Df/gfabfbeJ6X+iL5JzWVRifFJSc7nJf765wjiqL4PaCTOmwpj9s5d9Knjt5faH2y2jm1lMJGEcFwSBRF3L//Nrnc+PongPkLC/zbv/kbtra38T3vpFhzmjnnsM7ibDwu1edkvAffbE9KKTxjUt+eSN5hdlS3iNGqzJS3JzhJjIWR5e3796k36mcdkRBCnEvKvUQ2aDQga7fbHB4c0ul0kgHwOEIcn2f/j6c1/NNx6qRw8rP1BtMaOyTfSEonE1v2XBVKtM7ieT7NZpNKpTKWD+JRe+r3++zu7NDtdFCnTitK8739lrRsN/oxTrUpOIPr/aLX69lX9egD6dnVOGm8/knskXNkPI9qtUpzYuKkkOqr/3Xxh8LGxsbJTPrJ70nx9TmRrFY9aU+j/z1tsT9n+PCt7c5pixm+FfcoUevcc2rrpTR+ByeJvGazSb1ex4zxlLtOp8Pe3h7dXg9n7TcTcCm9RidGBzaM2tTpv542z8R3sjoszXG/aN80kpb4n4nbWosxhkYy3jsvJ3UKIUSavHRyabRtKAoiAhucq4TBqKs4RyGfOKklkvYVYs942kG71K7qfh5FPPPm+3580syYPoQhHtiEYRgXOX/lv2V8Tq5IMng/L7EreDrIPUdxwzdjP2/vAqM1xjd4xgfGM6M9WgU0Kn57nq7RN55Lzs/9HcWtSK7/GcfzY6V5i9f30cmJguNemRcl9X4ia9O9vfQ51DlsT/AGxH3O3gOj2lGe75+sGJXkkhBC/DgvlVz6hmTpvhBvulFSdZx/9jh/hxDpMf6OQ9qSEK+OtCfxUyLPuxBCvJx/eXJJCCGEEEIIIYQQQvxkpb+qoRBCCCGEEEIIIYRILUkuCSGEEEIIIYQQQoiXJsklIYQQQgghhBBCCPHSJLkkhBBCCCGEEEIIIV6aJJeEEEIIIYQQQgghxEuT5JIQQgghhBBCCCGEeGneWQcgnscBDuccURBiLWA02ngYBSiFOuMIhRBC/PQ458BB5BzOcdIXOQAUylmcs1jrsEqjtCZjFEqBUtJzCSGEEEK8qSS5lEoKiHC2y+HGLu2+RRWrFJo1qjkP/6zDE0II8ZM1DB39ICIKLdapOGmkk8RS0Cfotuj2Arq6SKZUYaHhk/cUMisihBBCCPHmkuRSag2x4Q7LH/8TKzsWtXCFuffe4lrGUDEKc9bhCSGE+MmxDvoDy95xSKcf4hwYrVGeh3IhUeeAzvrXrG0cseFdoHbxOpWiR9aTfksIIYQQ4k0myaVUckCEtcdsP/iKh2sRuBLeW7dZVPrUz8g0sBAvTZqQEC8lco5haBkMLdYqPAMGBTjCbpf2zgabyzs8yORpli/RCx3WSXJJiBfiwJ1e6Jc8EleuAAAKx0lEQVT0VdJlCSGESDtJLqVSPHxwbkD7cJ/D7SFutkV7GNLvDxn4mqzWYNRJRXYZcAjxYwVEg4BBCE55GN8n4yk0DqQ2jBDfyUFcb0knfZALCAOHcwHBYEjQazPsHNEO+mQGEFmkkxLihVkYDhmGIYEzKN/Hz0hJBCGEEOknyaXUiot629ASBkNcv03vaJ8de0ToeeTyZXLVCuWsxtfxfJaM3YX4Pg7nFGDB9hi2Dzk6OGav5Yj8MsVKlVqtQDlv8GSKWIjvpFEYozEqwjIk6rXoDh2DwBK2Ogz6QyIinIq30ckhFEK8GBcNiQZtOvt7HLT6dGwWXWpQm6jTzGl8AzLeE0IIkVaSXEo1jZ/zMQT0DjfY/upj/hT10FEev7rA1KXLXFusM132yeof/tOEEAFu2KK7s8rG8iMeLu+wfgBhvkF1/iIXrixxcaHJZBaZJRbiOyilUDgIuwxbu+xvbPBkb0A71BD10Ic9jgONzRk8LXlaIV6I7REeb7GztsyjB8us7bQ5tEX8xhLTl65x+3KT6WqGvJEWJYQQIp0kuZRaCo0ik+3TP1zl4cYWDzZXma07uvsDBkzSuPkBH/03/4oP3pphqZAhf9YhC5FqQxg+ofXwY371n3/Dbz7ZYKVjMEUf3yj8xiUq6z/j9rsf8dfXc0wVzjpeIdJJ+wbthgx3HrP9xcf88xebfHnkE2lF3utiu4ccBGWsr5j3lOwyFeIHBYQbn7L8+/+Pf/jt5/z9CvRQ+B5o9zvC7CKP/sN/xwfvXOZGQ1OVNiWEECKFJLmUWvHIQUcBNgoYuAI6O0H9QomG/ZKd9UfsfZnlny9fpTbRpLaYIS93U4jv5IY9+k++ZuOTf+DjP67w+V4RM32Bm4sZSqpPkCmhfQ/PWpQ762iFSCml0DrCBi2OtlZZ/WqVtZ2QQWWCciVD3W7T7Vp2+hEutDiULF0S4nsFEO6zs/xnPvv9H/n0z7vsV2/TnKkxxQHRxirLj9f5+I/3yTZmqGWqVMtnHbMQQgjxbZKOSDGLJRxadL5BfekuM//mr/nFvUmmHv+/rP/+N/zD2i5rj7Z5PNfjaq3ITOOsIxYivaL2MYcPHvHwvzxi081TeucD3n7vNr9YVJR0SGCzBH6TcsOnmJGiS0I8j8ah6WGH++ztHbK2D0H5Ipff+wsuzuVpHD9k/9MAvdxjU0VEuLj6txDiORy4Pm6wwfrKKp8/6rEVTLNw9x1uXJtlfrDC8PNjMt0v+O3yJl8/OOatyTKUpRaCEEKI9JHkUmrFg/EwNHiFSSYvX+fGh3e5c7nO0tQmc26FvcE2D3b32dk4on2lBg25nUJ8l+HgmJ0n26ys9IjmrnLxw7/kg59f4u2iw9Pf/v6V9JIQz2MxUQfbP6TVHrI/LOPPXuTSrevcWSpT2dbsHjzm6GiDtu9wdtSbCSG+zQFdXG+Dg/0d1vZ77PSKNKI+Ya9Dp9clCAOscbR2WxzvtBn0hkDurAMXQgghvkWyEakVD8etzuJ5IQXfUPIVvgaKWfx6nmzJx+0PCbp9wmGI3E4hvsuQIOzRGlgOghL5UpGpeoZqAbSOU0hSF0aIF+AcNgyxQZ/AQejlKWSzFIzCOEvkFMr38XIZtKdxzkl2SYjv5CAKsf02UXBMr7vF+uNVjv52nT8Wc+RcHwZ9BpRwc1lqOU3ekwYlhBAinSQbkXoGlMPTCp94FhgHTmuU1igLhCTnPQshni/CERJaCJ2HyXhkfIXRcdPRklgS4kdwWCwWAA+tQTmLiyzWAlrjeRpPQ/xD0sCEeD4HRGAtgc2g8jNMLlW58fMbzEyUKSmLdgYKk5Qmb3Ll8gSLDTnLVAghRDpJcinllBsSBgFRP6TTVzgNhCG2NWDQC8D38XIe2jdnHaoQKeZjVJa8r8jrPrvdDgfHQzoDUDmIM7aWMLRYZ/A8hdJKPomFeJZSKG0wJoOnwEQDwiBk6BROKbQLiYZDBv2AUDmUktowQnw3BcpAJocyJfKlBS4svc1/9T/993x4e5I5BSYMsDgCZ1BKY2Q2RAghRErJqC+14lvj02LQ2WH9yQEPVgJaEdiDFq31fXZ3B9hynlyzTK6YOeN4hUgzDz9TpV7JMllq0Vpf5sEXGyxvOgIL0KPfPmBn65C1nQGDwEliSYjnUqCzaK9AzkDWthh0Oxz3QnrDPmH/kIO9A9a3uhx2IzDIwiUhvpMGXcSUZmgUM1TtIeHhJo92Buz2IwYAaoAbbLC112LzMKA9lJXqQggh0klWLqWaQntgB0ccr33Go3/6f/hH2+TL5d+z8acj1gYTTNyZ5sJiiYocSyvE98rmC0wtLnD55gx//PM265/+it+xj3fJp0KPXphjkJ2nMlug3oD8WQcsRCopIpVHZ2tUaxWmq5sst5d59OkfGDwxVI8esLO2x1YXBlZjFCj5FhbiOyhQBcjOMnPhAtcW1zlee8DXf/93mL15NuqKanTMUbvHYe0dZi8scT2XoXrWYQshhBDPIcml1HIo5eFXpqlWdqi2H9H74zF/90VEd7dPoJs0b93inevz3J7PMVE463iFSDeVr1C4dIdLvQPu9f+Z3me/4Yu//Q1fZzQmUyA3e4vZu0XemzFEWhZ1CvE81iksWVSuQXNumsXdDY4frvP4d7usKJ+8GmCGEcNinXwxR1Y7tEaKegvxnXyUN8HM9be4t79L137Kb/7L/8Uvf2f4ja/JZnKY8jxzv7hGbtZhpXsSQgiRUpJcSi2DNjWmbrzLnaDIxMEWh8M2K0/aHGemKC7c5/o77/L+9SmuNgwV2XYgxPfz8niTl5i653ivq3D2Y/7w2QaPDx1Broivc5TKeeoVLz6VUQjxHI4o0jhdpDCxwNy1Nu3A0np0zE4vIsxXqcxNMVmdJDczxXzFkNWglEP2xwnxPPHqpcL8Da7+RZ9AQTv8jM9XD9g+NnQLRerNOo1agWbJIy/1vIUQQqSUcs7JfGLqOMDh7JDuUYd+r0cQDAldQL8fMLBZTL5MuVKhWsqSz2iMnKMuxA9wOGdRbkC/1aJ93KLVGdALwBkfP1eiUKlQKhcpZxRGmpQQ3xJZx3EnYmtvQKvdIxz0GPa6dPohw0iBNni+QXs+fjZPs1bgxoUC+axCSz8lxPeIiIYdBp1jjg46dAZDBpHGaR8/V6RYq1Mp5shnNL40JSGEECkkyaVUim+Jc+CsA+zJjgJnHY7kJCsVD9YVgAzahfgBDjdaPJEcm+4cWEdyApYCpdDEbUualBDfZq1jMLS0uhHDwOEU6NHJiorR3AgO0MqR9RXloocxklwS4nu5+F+cs1gb90/x2C/pm5RGadAoWQQohBAilSS5JIQQQogX4pzDRhBYh3VxItYYUDr+3lVJwtY5UM6hcGgvTj4pSS4JIYQQQryxJLkkhBBCiBdyMmI4lSeSlJEQQgghhJCC3kIIIYR4IbL4SAghhBBCPI+ciSSEEEIIIYQQQgghXpokl4QQQgghhBBCCCHES5PkkhBCCCGEEEIIIYR4aZJcEkIIIYQQQgghhBAvTZJLQgghhBBCCCGEEOKlSXJJCCGEEEIIIYQQQrw0SS4JIYQQQgghhBBCiJcmySUhhBBCCCGEEEII8dIkuSSEEEIIIYQQQgghXpokl4QQQgghhBBCCCHES5PkkhBCCCGEEEIIIYR4aZJcEkIIIYQQQgghhBAv7f8Hj5SqRxeMESYAAAAASUVORK5CYII=)"
      ],
      "metadata": {
        "id": "vGOX15DgJlhs"
      }
    },
    {
      "cell_type": "code",
      "source": [
        "a = np.arange(0, 16).reshape(4, 4)\n",
        "a"
      ],
      "metadata": {
        "id": "Wy8lJ4k7J8Za",
        "colab": {
          "base_uri": "https://localhost:8080/"
        },
        "outputId": "8f30d060-2c1c-4c98-9831-74903b26eb58"
      },
      "execution_count": null,
      "outputs": [
        {
          "output_type": "execute_result",
          "data": {
            "text/plain": [
              "array([[ 0,  1,  2,  3],\n",
              "       [ 4,  5,  6,  7],\n",
              "       [ 8,  9, 10, 11],\n",
              "       [12, 13, 14, 15]])"
            ]
          },
          "metadata": {},
          "execution_count": 134
        }
      ]
    },
    {
      "cell_type": "code",
      "source": [
        "b= a[0:4, 1]\n",
        "b"
      ],
      "metadata": {
        "id": "L_8xoGCzJ37w",
        "colab": {
          "base_uri": "https://localhost:8080/"
        },
        "outputId": "0acf026a-dc65-4d28-d633-26161cdf511f"
      },
      "execution_count": null,
      "outputs": [
        {
          "output_type": "execute_result",
          "data": {
            "text/plain": [
              "array([ 1,  5,  9, 13])"
            ]
          },
          "metadata": {},
          "execution_count": 140
        }
      ]
    },
    {
      "cell_type": "code",
      "source": [
        "c= a[2, 1:4]\n",
        "c"
      ],
      "metadata": {
        "id": "KDCWiBHoJ6oF",
        "colab": {
          "base_uri": "https://localhost:8080/"
        },
        "outputId": "4534ce46-8667-4e44-c8ef-e13f927056e8"
      },
      "execution_count": null,
      "outputs": [
        {
          "output_type": "execute_result",
          "data": {
            "text/plain": [
              "array([ 9, 10, 11])"
            ]
          },
          "metadata": {},
          "execution_count": 141
        }
      ]
    },
    {
      "cell_type": "code",
      "source": [
        "d= a[0:2, 0:2]\n",
        "d"
      ],
      "metadata": {
        "id": "EvwnCEx9J9zP",
        "colab": {
          "base_uri": "https://localhost:8080/"
        },
        "outputId": "6ed94929-d4e2-491f-d3f3-c13314db3bd3"
      },
      "execution_count": null,
      "outputs": [
        {
          "output_type": "execute_result",
          "data": {
            "text/plain": [
              "array([[0, 1],\n",
              "       [4, 5]])"
            ]
          },
          "metadata": {},
          "execution_count": 143
        }
      ]
    },
    {
      "cell_type": "code",
      "source": [
        "e= a[1:3, 1:3]\n",
        "e"
      ],
      "metadata": {
        "id": "U4I74nD-J-nC",
        "colab": {
          "base_uri": "https://localhost:8080/"
        },
        "outputId": "b24cfed4-056b-4074-a46c-19c766c1810c"
      },
      "execution_count": null,
      "outputs": [
        {
          "output_type": "execute_result",
          "data": {
            "text/plain": [
              "array([[ 5,  6],\n",
              "       [ 9, 10]])"
            ]
          },
          "metadata": {},
          "execution_count": 145
        }
      ]
    },
    {
      "cell_type": "markdown",
      "source": [
        "### 2.문제 1에서 생성한 배열 a를 슬라이싱하고 평탄화 연산을 하여 다음과 같은 배열 f, g, h를 생성하세요.\n",
        "\n",
        "```\n",
        "f=[ 0  1  2  4  5  6]\n",
        "g=[ 8  9 10 11 12 13 14 15]\n",
        "h=[ 5  6  7 13 14 15]\n",
        "```"
      ],
      "metadata": {
        "id": "4Om_2hZNKr2W"
      }
    },
    {
      "cell_type": "code",
      "source": [
        "f= a[2:4, 0:4].flatten()\n",
        "f"
      ],
      "metadata": {
        "id": "VUIOJ5JDKt7e",
        "colab": {
          "base_uri": "https://localhost:8080/"
        },
        "outputId": "994bce67-1748-47bc-d09e-60402967f785"
      },
      "execution_count": null,
      "outputs": [
        {
          "output_type": "execute_result",
          "data": {
            "text/plain": [
              "array([ 8,  9, 10, 11, 12, 13, 14, 15])"
            ]
          },
          "metadata": {},
          "execution_count": 152
        }
      ]
    },
    {
      "cell_type": "code",
      "source": [
        "g= a[2:4, 0:4].flatten()\n",
        "g"
      ],
      "metadata": {
        "id": "LBsXscUIKu0X",
        "colab": {
          "base_uri": "https://localhost:8080/"
        },
        "outputId": "e0a4d1ec-c826-4562-ee46-089ae4d6adcc"
      },
      "execution_count": null,
      "outputs": [
        {
          "output_type": "execute_result",
          "data": {
            "text/plain": [
              "array([ 8,  9, 10, 11, 12, 13, 14, 15])"
            ]
          },
          "metadata": {},
          "execution_count": 153
        }
      ]
    },
    {
      "cell_type": "code",
      "source": [
        "h= np.concatenate((a[1, 1:4], a[3, 1:4]), axis = 0).flatten()\n",
        "h"
      ],
      "metadata": {
        "id": "ncEtWxUMKvkw",
        "colab": {
          "base_uri": "https://localhost:8080/"
        },
        "outputId": "11785b31-4022-45fb-d869-46d09de73428"
      },
      "execution_count": null,
      "outputs": [
        {
          "output_type": "execute_result",
          "data": {
            "text/plain": [
              "array([ 5,  6,  7, 13, 14, 15])"
            ]
          },
          "metadata": {},
          "execution_count": 167
        }
      ]
    },
    {
      "cell_type": "markdown",
      "source": [
        "### 3.3차원 배열을 다음과 같이 인덱스와 원소 값이 나타나도록 출력하세요.(힌트 : for문 , ndindex(a.shape) 함수를 사용)\n",
        "\n",
        "```\n",
        " a:  ([[[ 0,  1],\n",
        "        [ 2,  3],\n",
        "        [ 4,  5]],\n",
        "       [[ 6,  7],\n",
        "        [ 8,  9],\n",
        "        [10, 11]],\n",
        "       [[12, 13],\n",
        "        [14, 15],\n",
        "        [16, 17]],\n",
        "       [[18, 19],\n",
        "        [20, 21],\n",
        "        [22, 23]]])\n",
        "\n",
        "index        element\n",
        "(0, 0, 0)      0\n",
        "(0, 0, 1)      1\n",
        "(0, 1, 0)      2\n",
        "(0, 1, 1)      3\n",
        "...(생략)\n",
        "(3, 2, 0)     22\n",
        "(3, 2, 1)     23\n",
        "```"
      ],
      "metadata": {
        "id": "aF7PkLXxL6VK"
      }
    },
    {
      "cell_type": "code",
      "source": [
        "a = np.arange(0, 24).reshape(4, 3, 2)\n",
        "\n",
        "for i in np.ndindex(a.shape):\n",
        "  print('{}{:7d}'.format(i, a[i]))"
      ],
      "metadata": {
        "id": "BY2oFSPTo5IK",
        "colab": {
          "base_uri": "https://localhost:8080/"
        },
        "outputId": "b71f55a3-6f18-4401-a923-979a5634b61a"
      },
      "execution_count": null,
      "outputs": [
        {
          "output_type": "stream",
          "name": "stdout",
          "text": [
            "(0, 0, 0)      0\n",
            "(0, 0, 1)      1\n",
            "(0, 1, 0)      2\n",
            "(0, 1, 1)      3\n",
            "(0, 2, 0)      4\n",
            "(0, 2, 1)      5\n",
            "(1, 0, 0)      6\n",
            "(1, 0, 1)      7\n",
            "(1, 1, 0)      8\n",
            "(1, 1, 1)      9\n",
            "(1, 2, 0)     10\n",
            "(1, 2, 1)     11\n",
            "(2, 0, 0)     12\n",
            "(2, 0, 1)     13\n",
            "(2, 1, 0)     14\n",
            "(2, 1, 1)     15\n",
            "(2, 2, 0)     16\n",
            "(2, 2, 1)     17\n",
            "(3, 0, 0)     18\n",
            "(3, 0, 1)     19\n",
            "(3, 1, 0)     20\n",
            "(3, 1, 1)     21\n",
            "(3, 2, 0)     22\n",
            "(3, 2, 1)     23\n"
          ]
        }
      ]
    },
    {
      "cell_type": "markdown",
      "source": [
        "### 4.문제3의 열을 concatenate() 함수를 사용하여 다움과 같은 배열을 만드세요.\n",
        "\n",
        "```\n",
        "1) array([0, 1, 6, 7])\n",
        "2) array([ 0,  1, 14, 15])\n",
        "3) array([[ 0,  1],\n",
        "            [ 2,  3],\n",
        "            [ 4,  5],\n",
        "            [ 6,  7],\n",
        "            [ 8,  9],\n",
        "            [10, 11]])\n",
        "4) array([[ 0,  1,  6,  7],\n",
        "            [ 2,  3,  8,  9],\n",
        "            [ 4,  5, 10, 11]])\n",
        "```"
      ],
      "metadata": {
        "id": "o6rvSxVBNP4-"
      }
    },
    {
      "cell_type": "code",
      "source": [
        "print(np.concatenate((a[0, 0], a[1, 0]), axis = 0))"
      ],
      "metadata": {
        "id": "XwKvCzego52a",
        "colab": {
          "base_uri": "https://localhost:8080/"
        },
        "outputId": "ea4582e8-809f-4ab1-ff89-0bc0b93e3e7d"
      },
      "execution_count": null,
      "outputs": [
        {
          "output_type": "stream",
          "name": "stdout",
          "text": [
            "[0 1 6 7]\n"
          ]
        }
      ]
    },
    {
      "cell_type": "code",
      "source": [
        "print(np.concatenate((a[0, 0], a[2, 1]), axis = 0))"
      ],
      "metadata": {
        "id": "rdLGWWEyNqrB",
        "colab": {
          "base_uri": "https://localhost:8080/"
        },
        "outputId": "154133f0-1a4a-4ace-c970-05277665b9be"
      },
      "execution_count": null,
      "outputs": [
        {
          "output_type": "stream",
          "name": "stdout",
          "text": [
            "[ 0  1 14 15]\n"
          ]
        }
      ]
    },
    {
      "cell_type": "code",
      "source": [
        "print(np.concatenate((a[0], a[1]), axis = 0))"
      ],
      "metadata": {
        "id": "SYqcBinoOCHD",
        "colab": {
          "base_uri": "https://localhost:8080/"
        },
        "outputId": "3e2d4b5b-c134-4494-fe59-8b662c18a9d1"
      },
      "execution_count": null,
      "outputs": [
        {
          "output_type": "stream",
          "name": "stdout",
          "text": [
            "[[ 0  1]\n",
            " [ 2  3]\n",
            " [ 4  5]\n",
            " [ 6  7]\n",
            " [ 8  9]\n",
            " [10 11]]\n"
          ]
        }
      ]
    },
    {
      "cell_type": "code",
      "source": [
        "print(np.concatenate((a[0], a[1]), axis = 1))"
      ],
      "metadata": {
        "id": "9oDImmdYOCUp",
        "colab": {
          "base_uri": "https://localhost:8080/"
        },
        "outputId": "8a88b2c6-8b07-4262-dfef-c0d4e8562ddb"
      },
      "execution_count": null,
      "outputs": [
        {
          "output_type": "stream",
          "name": "stdout",
          "text": [
            "[[ 0  1  6  7]\n",
            " [ 2  3  8  9]\n",
            " [ 4  5 10 11]]\n"
          ]
        }
      ]
    },
    {
      "cell_type": "markdown",
      "source": [
        "# 수학,통계 함수"
      ],
      "metadata": {
        "id": "VTAyYnX7aWdH"
      }
    },
    {
      "cell_type": "code",
      "source": [
        "# 최대값 최소값, 최대값최소값의 인덱스, 평균, 표준편차, 분산, 축 등...\n",
        "\n",
        "\n"
      ],
      "metadata": {
        "id": "ZbpPYu4Wo6zm"
      },
      "execution_count": null,
      "outputs": []
    },
    {
      "cell_type": "markdown",
      "source": [
        "# 선형방정식 풀이"
      ],
      "metadata": {
        "id": "rLHTn1CjaWu5"
      }
    },
    {
      "cell_type": "code",
      "source": [
        "# np.linalg.solve\n",
        "\n",
        "\n"
      ],
      "metadata": {
        "id": "Jyygc_BNo7aI"
      },
      "execution_count": null,
      "outputs": []
    },
    {
      "cell_type": "markdown",
      "source": [
        "#배열의 형태변환 연습"
      ],
      "metadata": {
        "id": "_1T-D78TLH0e"
      }
    },
    {
      "cell_type": "code",
      "source": [
        "import numpy as np\n",
        "a = np.array([0, 1, 2])\n",
        "b = np.array([3, 4, 5])\n",
        "\n",
        "\n",
        "\n",
        "\n",
        "\n",
        "\n",
        "c = np.array([[0, 1, 2], [3, 4, 5,]])\n",
        "d = np.array([[6, 7, 8], [9, 10, 11]])\n",
        "\n",
        "\n",
        "\n",
        "\n"
      ],
      "metadata": {
        "colab": {
          "base_uri": "https://localhost:8080/"
        },
        "outputId": "27d87963-9b85-415b-94b7-ea8efd4fb718",
        "id": "-hyCFj8BTH-o"
      },
      "execution_count": null,
      "outputs": [
        {
          "output_type": "stream",
          "name": "stdout",
          "text": [
            "[0 1 2 3 4 5]\n",
            "[0 1 2 3 4 5]\n",
            "[0 1 2 3 4 5]\n",
            "---------------\n",
            "[[0 1 2]\n",
            " [3 4 5]]\n",
            "[[0 1 2]\n",
            " [3 4 5]]\n",
            "---------------\n",
            "[[0 3]\n",
            " [1 4]\n",
            " [2 5]]\n",
            "[[0 3]\n",
            " [1 4]\n",
            " [2 5]]\n",
            "[[[0 3]\n",
            "  [1 4]\n",
            "  [2 5]]]\n",
            "[[ 0  3]\n",
            " [ 1  4]\n",
            " [ 2  5]\n",
            " [ 6  9]\n",
            " [ 7 10]\n",
            " [ 8 11]]\n",
            "[[ 0  3  6  9]\n",
            " [ 1  4  7 10]\n",
            " [ 2  5  8 11]]\n"
          ]
        }
      ]
    }
  ]
}