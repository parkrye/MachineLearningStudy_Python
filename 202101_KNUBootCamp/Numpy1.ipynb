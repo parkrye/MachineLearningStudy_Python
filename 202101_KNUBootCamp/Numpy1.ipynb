{
  "nbformat": 4,
  "nbformat_minor": 0,
  "metadata": {
    "colab": {
      "provenance": [],
      "collapsed_sections": [],
      "include_colab_link": true
    },
    "kernelspec": {
      "name": "python3",
      "display_name": "Python 3"
    }
  },
  "cells": [
    {
      "cell_type": "markdown",
      "metadata": {
        "id": "view-in-github",
        "colab_type": "text"
      },
      "source": [
        "<a href=\"https://colab.research.google.com/github/parkrye/Python/blob/main/202101_KNUBootCamp/Numpy1.ipynb\" target=\"_parent\"><img src=\"https://colab.research.google.com/assets/colab-badge.svg\" alt=\"Open In Colab\"/></a>"
      ]
    },
    {
      "cell_type": "markdown",
      "metadata": {
        "id": "4z9zG6X8CI7U"
      },
      "source": [
        "## 1.NumPy의 버전을 출력해 보자. \n",
        "```\n",
        ">>> import numpy as np\n",
        ">>> np.__version__\n",
        "```\n",
        "\n"
      ]
    },
    {
      "cell_type": "code",
      "metadata": {
        "id": "-w4rWc3SCPH6",
        "colab": {
          "base_uri": "https://localhost:8080/",
          "height": 35
        },
        "outputId": "c3d5b925-d8d7-4c38-b12e-c528d8cda44a"
      },
      "source": [
        "import numpy as np\n",
        "np.__version__"
      ],
      "execution_count": null,
      "outputs": [
        {
          "output_type": "execute_result",
          "data": {
            "application/vnd.google.colaboratory.intrinsic+json": {
              "type": "string"
            },
            "text/plain": [
              "'1.19.5'"
            ]
          },
          "metadata": {},
          "execution_count": 212
        }
      ]
    },
    {
      "cell_type": "markdown",
      "metadata": {
        "id": "q4_TS0zsCYFA"
      },
      "source": [
        "## 2.크기가 10인 1차원 배열을 생성하여라. 이 배열의 모든 원소는 0 값을 가진다.\n",
        ">1) 0을 10번 입력하여 이 배열 a를 생성하여라. 그리고 이 배열 a를 출력하여라.\n",
        "\n",
        ">실행 결과\n",
        "```\n",
        "a = [0 0 0 0 0 0 0 0 0 0]\n",
        "```\n"
      ]
    },
    {
      "cell_type": "code",
      "metadata": {
        "id": "2p7IuHMlCb47",
        "colab": {
          "base_uri": "https://localhost:8080/"
        },
        "outputId": "2cf385a0-7de7-47ad-b069-0c56e1280a80"
      },
      "source": [
        "a = np.array([])\n",
        "for i in range(0, 10):\n",
        "  a = np.append(a, np.array(int(input('0을 입력하세요 : '))))\n",
        "print(a)"
      ],
      "execution_count": null,
      "outputs": [
        {
          "output_type": "stream",
          "name": "stdout",
          "text": [
            "0을 입력하세요 : 0\n",
            "0을 입력하세요 : 0\n",
            "0을 입력하세요 : 0\n",
            "0을 입력하세요 : 0\n",
            "0을 입력하세요 : 0\n",
            "0을 입력하세요 : 0\n",
            "0을 입력하세요 : 0\n",
            "0을 입력하세요 : 0\n",
            "0을 입력하세요 : 0\n",
            "0을 입력하세요 : 0\n",
            "[0. 0. 0. 0. 0. 0. 0. 0. 0. 0.]\n"
          ]
        }
      ]
    },
    {
      "cell_type": "markdown",
      "source": [
        "\n",
        ">2) np.zeros() 함수를 사용하여 배열 b를 생성하여라. 이 배열을 b를 출력하여라.\n",
        "\n",
        ">실행 결과\n",
        "```\n",
        "b = [0 0 0 0 0 0 0 0 0 0]\n",
        "```\n"
      ],
      "metadata": {
        "id": "lendcr_MYNfZ"
      }
    },
    {
      "cell_type": "code",
      "metadata": {
        "id": "Sn1et975CrCL",
        "colab": {
          "base_uri": "https://localhost:8080/"
        },
        "outputId": "dfee422a-e745-4414-98c2-d7cbdc1946f3"
      },
      "source": [
        "b = np.zeros(10)\n",
        "print('b =', b)"
      ],
      "execution_count": null,
      "outputs": [
        {
          "output_type": "stream",
          "name": "stdout",
          "text": [
            "b = [0. 0. 0. 0. 0. 0. 0. 0. 0. 0.]\n"
          ]
        }
      ]
    },
    {
      "cell_type": "markdown",
      "source": [
        "\n",
        ">3) 배열 a와 배열 b의 형을 출력하시오."
      ],
      "metadata": {
        "id": "qMTJYCq7YRvD"
      }
    },
    {
      "cell_type": "code",
      "metadata": {
        "id": "3Sw8KnyHG48S",
        "colab": {
          "base_uri": "https://localhost:8080/"
        },
        "outputId": "293cd6c8-658f-48e2-abb5-92142ce4bfe6"
      },
      "source": [
        "print('a = ', type(a))"
      ],
      "execution_count": null,
      "outputs": [
        {
          "output_type": "stream",
          "name": "stdout",
          "text": [
            "a =  <class 'numpy.ndarray'>\n"
          ]
        }
      ]
    },
    {
      "cell_type": "code",
      "metadata": {
        "id": "tOKfMZZ_G5wX",
        "colab": {
          "base_uri": "https://localhost:8080/"
        },
        "outputId": "e8cedbf2-0326-460b-8677-4731cb8566dc"
      },
      "source": [
        "print('b = ', type(b))"
      ],
      "execution_count": null,
      "outputs": [
        {
          "output_type": "stream",
          "name": "stdout",
          "text": [
            "b =  <class 'numpy.ndarray'>\n"
          ]
        }
      ]
    },
    {
      "cell_type": "markdown",
      "metadata": {
        "id": "-CYYuu2HC5HK"
      },
      "source": [
        "## 3.1에서 10까지 값을 가지는 크기가 10인 1차원 배열 n_arr을 생성하여라. 이 배열이 메모리에서 차지하는 크기는 얼마인가? 다음의 밑줄 친 부분에 알맞은 코드를 입력하여 다음과 같이 바이트 단위로 출력하여라(힌트 : itemsize와 size 속성 값을 곱한다).\n",
        "\n",
        "```\n",
        ">>> n_arr = np.array([1, 2, 3, 4, 5, 6, 7, 8, 9, 10], dtype='int32')\n",
        ">>> ____________________________\n",
        "n_arr의 크기 : 40 bytes\n",
        "\n",
        "```\n",
        "\n",
        "\n"
      ]
    },
    {
      "cell_type": "code",
      "metadata": {
        "id": "iV-zHktMC-eA",
        "colab": {
          "base_uri": "https://localhost:8080/"
        },
        "outputId": "439f6c62-9439-4c0a-f368-b1d8431aea5c"
      },
      "source": [
        "n_arr = np.array([1, 2, 3, 4, 5, 6, 7, 8, 9, 10], dtype='int32')\n",
        "print('n_arr의 크기 : ', n_arr.itemsize * n_arr.size)"
      ],
      "execution_count": null,
      "outputs": [
        {
          "output_type": "stream",
          "name": "stdout",
          "text": [
            "n_arr의 크기 :  40\n"
          ]
        }
      ]
    },
    {
      "cell_type": "code",
      "metadata": {
        "id": "VOaix9iME3-8"
      },
      "source": [],
      "execution_count": null,
      "outputs": []
    },
    {
      "cell_type": "code",
      "metadata": {
        "id": "ihg-xJdrEaKX",
        "colab": {
          "base_uri": "https://localhost:8080/"
        },
        "outputId": "c727a758-27b2-4f7c-d867-73a8e781cdb9"
      },
      "source": [
        "print('n_arr의 크기 : {} bytes'.format(n_arr.itemsize * n_arr.size))"
      ],
      "execution_count": null,
      "outputs": [
        {
          "output_type": "stream",
          "name": "stdout",
          "text": [
            "n_arr의 크기 : 40 bytes\n"
          ]
        }
      ]
    },
    {
      "cell_type": "markdown",
      "metadata": {
        "id": "7gV9A4kkInMj"
      },
      "source": [
        ">1) dtype='int32' 대신 dtype='int64'로 고칠 경우의 n_arr의 크기는 얼마인가?(바이트 단위로 출력하여라)"
      ]
    },
    {
      "cell_type": "code",
      "metadata": {
        "id": "aivmShXaIo4n",
        "colab": {
          "base_uri": "https://localhost:8080/"
        },
        "outputId": "3f894efe-f1ae-45ff-f8d1-425573d82e9e"
      },
      "source": [
        "n_arr = np.array([1, 2, 3, 4, 5, 6, 7, 8, 9, 10], dtype='int64')\n",
        "print(n_arr.itemsize * n_arr.size)"
      ],
      "execution_count": null,
      "outputs": [
        {
          "output_type": "stream",
          "name": "stdout",
          "text": [
            "80\n"
          ]
        }
      ]
    },
    {
      "cell_type": "markdown",
      "metadata": {
        "id": "erPLRVRoIzhV"
      },
      "source": [
        "> 2) np.array([1.5, 2.2, 3.2, 4.9], dtype='float64') 배열의 크기는 얼마인가?(바이트 단위로 출력하여라)"
      ]
    },
    {
      "cell_type": "code",
      "metadata": {
        "id": "nt3WM3V3I2E-",
        "colab": {
          "base_uri": "https://localhost:8080/"
        },
        "outputId": "306cbeb4-a34b-472d-d54a-f7d14b3b8b0d"
      },
      "source": [
        "n_arr = np.array([1.5, 2.2, 3.2, 4.9], dtype='float64')\n",
        "print(n_arr.itemsize * n_arr.size)"
      ],
      "execution_count": null,
      "outputs": [
        {
          "output_type": "stream",
          "name": "stdout",
          "text": [
            "32\n"
          ]
        }
      ]
    },
    {
      "cell_type": "markdown",
      "metadata": {
        "id": "dQ73jGsiKz-M"
      },
      "source": [
        "## 4.1에서 10까지의 정수 값을 가지는 크기가 10인 1차원 배열 a를 arange() 함수를 사용하여 생성하여 출력하여라.\n",
        ">1) 다음과 같이 출력하여라.\n",
        "\n",
        ">실행 결과\n",
        "\n",
        "\n",
        "```\n",
        "a = [ 1 2 3 4 5 6 7 8 9 10]\n",
        "```\n",
        "\n"
      ]
    },
    {
      "cell_type": "code",
      "metadata": {
        "id": "HpWGEQwvK2LQ",
        "colab": {
          "base_uri": "https://localhost:8080/"
        },
        "outputId": "bd4ae1fa-02dc-438e-d8b6-0aaf062b83e4"
      },
      "source": [
        "a = np.arange(1, 11)\n",
        "print(a)"
      ],
      "execution_count": null,
      "outputs": [
        {
          "output_type": "stream",
          "name": "stdout",
          "text": [
            "[ 1  2  3  4  5  6  7  8  9 10]\n"
          ]
        }
      ]
    },
    {
      "cell_type": "markdown",
      "metadata": {
        "id": "hU6km93ILBxm"
      },
      "source": [
        ">2) 다음과 같이 역순으로 출력하여라.\n",
        "\n",
        ">실행 결과\n",
        "\n",
        "\n",
        "```\n",
        "a = [10 9 8 7 6 5 4 3 2 1]\n",
        "```\n",
        "\n"
      ]
    },
    {
      "cell_type": "code",
      "metadata": {
        "id": "6THwo_0ILEFp",
        "colab": {
          "base_uri": "https://localhost:8080/"
        },
        "outputId": "0a75da4d-b65e-4bac-cf5e-04b618c1be1c"
      },
      "source": [
        "a = np.sort(a)[::-1]\n",
        "print(a)"
      ],
      "execution_count": null,
      "outputs": [
        {
          "output_type": "stream",
          "name": "stdout",
          "text": [
            "[10  9  8  7  6  5  4  3  2  1]\n"
          ]
        }
      ]
    },
    {
      "cell_type": "markdown",
      "metadata": {
        "id": "gifJG8UhMob5"
      },
      "source": [
        ">3) 2)의 결과에 reshape()함수를 사용하여, 배열 a를 (2,5) 형태의 다음과 같은 행렬로 변경하여 출력하여라.\n",
        "\n",
        ">실행 결과\n",
        "\n",
        "\n",
        "```\n",
        "[[10 9 8 7 6]\n",
        " [ 5 4 3 2 1]]\n",
        "```\n",
        "\n"
      ]
    },
    {
      "cell_type": "code",
      "metadata": {
        "id": "O0IPArFfL4Ra",
        "colab": {
          "base_uri": "https://localhost:8080/"
        },
        "outputId": "6cfeb712-aae2-4fc0-bc80-611549327d49"
      },
      "source": [
        "a = np.reshape(a, (2, 5))\n",
        "print(a)"
      ],
      "execution_count": null,
      "outputs": [
        {
          "output_type": "stream",
          "name": "stdout",
          "text": [
            "[[10  9  8  7  6]\n",
            " [ 5  4  3  2  1]]\n"
          ]
        }
      ]
    },
    {
      "cell_type": "markdown",
      "metadata": {
        "id": "pSsVsKgUMrpN"
      },
      "source": [
        ">4) 3)의 결과에 reshape()함수를 사용하여, 배열 a를 (5, 2) 형태의 다음과 같은 행렬로 변경하여 출력하여라.\n",
        "\n",
        "\n",
        ">실행 결과\n",
        "\n",
        "\n",
        "```\n",
        "[[10 9]\n",
        " [ 8 7]\n",
        " [ 6 5]\n",
        " [ 4 3]\n",
        " [ 2 1]]\n",
        "```\n",
        "\n"
      ]
    },
    {
      "cell_type": "code",
      "metadata": {
        "id": "IPvE2FR4MhqL",
        "colab": {
          "base_uri": "https://localhost:8080/"
        },
        "outputId": "ccfabf11-2731-4a3f-e80d-b301c69adf5e"
      },
      "source": [
        "a = np.reshape(a, (5, 2))\n",
        "print(a)"
      ],
      "execution_count": null,
      "outputs": [
        {
          "output_type": "stream",
          "name": "stdout",
          "text": [
            "[[10  9]\n",
            " [ 8  7]\n",
            " [ 6  5]\n",
            " [ 4  3]\n",
            " [ 2  1]]\n"
          ]
        }
      ]
    },
    {
      "cell_type": "markdown",
      "metadata": {
        "id": "P8QINWA3OxPa"
      },
      "source": [
        "## 5.1에서 16까지의 정수값을 가지는 4x4 크기의 배열을 만들어서 다음과 같이 출력하시오. 이 때 arange()와 reshape()을 이용하여 배열을 생성하시오.\n",
        "\n",
        ">실행 결과\n",
        "\n",
        "\n",
        "```\n",
        "[[ 1  2  3  4]\n",
        " [ 5  6  7  8]\n",
        " [ 9 10 11 12]\n",
        " [13 14 15 16]]\n",
        "```\n",
        "\n"
      ]
    },
    {
      "cell_type": "code",
      "metadata": {
        "id": "3lZwIwrVO0Ra",
        "colab": {
          "base_uri": "https://localhost:8080/"
        },
        "outputId": "277aead4-b686-49b8-ff2e-30244ba06919"
      },
      "source": [
        "a = np.arange(1, 17).reshape(4, 4)\n",
        "print(a)"
      ],
      "execution_count": null,
      "outputs": [
        {
          "output_type": "stream",
          "name": "stdout",
          "text": [
            "[[ 1  2  3  4]\n",
            " [ 5  6  7  8]\n",
            " [ 9 10 11 12]\n",
            " [13 14 15 16]]\n"
          ]
        }
      ]
    },
    {
      "cell_type": "markdown",
      "metadata": {
        "id": "BvJISTn6PoH1"
      },
      "source": [
        "## 6.random.random() 함수를 사용하여 10개의 난수값을 생성하여 다음과 같이 출력하시오. 그리고 이 수들 중에서 최댓값, 최솟값, 평균값을 각각 출력하시오.\n",
        "\n",
        ">실행 결과\n",
        "\n",
        "\n",
        "```\n",
        "a =  [0.79457055 0.79563394 0.61542215 0.881637   0.36674677 0.86430664\n",
        " 0.43726605 0.27081378 0.26353765 0.39242491]\n",
        "최댓값 : 0.8816369959416799\n",
        "최솟값 : 0.2635376504756979\n",
        "평균값 : 0.5682359433240208\n",
        "```\n",
        "\n"
      ]
    },
    {
      "cell_type": "code",
      "metadata": {
        "id": "pinxZf3hPqqL",
        "colab": {
          "base_uri": "https://localhost:8080/"
        },
        "outputId": "1236a58a-33e1-44d9-ae9b-3b9d6f99420c"
      },
      "source": [
        "a = np.random.random(10)\n",
        "print(a)\n",
        "print('최댓값 :', max(a))\n",
        "print('최솟값 :', min(a))\n",
        "print('평균값 :', np.mean(a))"
      ],
      "execution_count": null,
      "outputs": [
        {
          "output_type": "stream",
          "name": "stdout",
          "text": [
            "[0.87206764 0.25400625 0.34737177 0.66774086 0.63032503 0.95513272\n",
            " 0.04847212 0.76870854 0.76188655 0.41122657]\n",
            "최댓값 : 0.9551327164607442\n",
            "최솟값 : 0.04847211929068529\n",
            "평균값 : 0.5716938068776501\n"
          ]
        }
      ]
    },
    {
      "cell_type": "markdown",
      "metadata": {
        "id": "RX-feLxxvMRg"
      },
      "source": [
        "## 7.사용자로부터 2이상의 수 n을 입력으로 받아서, 입력된 수를 바탕으로 다음과 같은 nxn 크기의 다차원 배열 a를 생성하는 프로그램을 작성하시오. 이 때 배열의 내용은 0과 1의 값이 체크 판 패턴으로 교차하여 나타나도록 하여라.\n",
        "\n",
        ">실행 결과\n",
        "\n",
        "```\n",
        "n을 입력하시오 : 4\n",
        "[[1 0 1 0]\n",
        " [0 1 0 1]\n",
        " [1 0 1 0]\n",
        " [0 1 0 1]]\n",
        "\n",
        "n을 입력하시오 : 5\n",
        "[[1 0 1 0 1]\n",
        " [0 1 0 1 0]\n",
        " [1 0 1 0 1]\n",
        " [0 1 0 1 0]\n",
        " [1 0 1 0 1]]\n",
        "```\n",
        "\n",
        "\n",
        " \n",
        "\n"
      ]
    },
    {
      "cell_type": "code",
      "metadata": {
        "id": "HujB-1mcvR2t",
        "colab": {
          "base_uri": "https://localhost:8080/"
        },
        "outputId": "730bc106-f787-4f1b-b660-e2fd15daa40f"
      },
      "source": [
        "n = int(input('n을 입력하세요 : '))\n",
        "\n",
        "a = np.full((n, n), 0)\n",
        "a[::2, ::2] = 1\n",
        "a[1::2, 1::2] = 1\n",
        "print(a)"
      ],
      "execution_count": null,
      "outputs": [
        {
          "output_type": "stream",
          "name": "stdout",
          "text": [
            "n을 입력하세요 : 5\n",
            "[[1 0 1 0 1]\n",
            " [0 1 0 1 0]\n",
            " [1 0 1 0 1]\n",
            " [0 1 0 1 0]\n",
            " [1 0 1 0 1]]\n"
          ]
        }
      ]
    },
    {
      "cell_type": "markdown",
      "metadata": {
        "id": "DI11ZmbBxybw"
      },
      "source": [
        "## 8.사용자로부터 2이상의 수 n을 입력으로 받아서, 입력된 수를 바탕으로 다음과 같은 대각선 성분의 값이 1에서 n까지 증가하는 다차원 배열 a를 생성하는 프로그램을 작성하시오. 이때 대각선 성분 이외의 값은 모두 0으로 하시오.\n",
        "\n",
        ">실행 결과\n",
        "```\n",
        "n을 입력하시오 : 6\n",
        "[[1 0 0 0 0 0]\n",
        " [0 2 0 0 0 0]\n",
        " [0 0 3 0 0 0]\n",
        " [0 0 0 4 0 0]\n",
        " [0 0 0 0 5 0]\n",
        " [0 0 0 0 0 6]]\n",
        "```\n",
        "\n"
      ]
    },
    {
      "cell_type": "code",
      "metadata": {
        "id": "HDHrt7UcYhny",
        "colab": {
          "base_uri": "https://localhost:8080/"
        },
        "outputId": "79dd7cf8-a20c-45b7-cfe8-88e0eab832b1"
      },
      "source": [
        "n = int(input('n을 입력하세요 : '))\n",
        "\n",
        "a = np.eye(n, n)\n",
        "b = np.arange(1, n+1)\n",
        "print(np.multiply(a, b))"
      ],
      "execution_count": null,
      "outputs": [
        {
          "output_type": "stream",
          "name": "stdout",
          "text": [
            "n을 입력하세요 : 5\n",
            "[[1. 0. 0. 0. 0.]\n",
            " [0. 2. 0. 0. 0.]\n",
            " [0. 0. 3. 0. 0.]\n",
            " [0. 0. 0. 4. 0.]\n",
            " [0. 0. 0. 0. 5.]]\n"
          ]
        }
      ]
    },
    {
      "cell_type": "markdown",
      "metadata": {
        "id": "I6bCZLvIlICZ"
      },
      "source": [
        "## 9.사용자로부터 2이상의 수 n을 입력으로 받아서 모든 원소의 값을 1로 가지는 (n, n) shape 행렬 a를 만드시오. 그리고 아래 그림과 같이 이 행렬 a의 경계 값을 제외한 내부의 값을 모두 0으로 가지는 행렬 b를 만드시오(힌트 : np.ones((n, n), dtype='int32')로 모든 원소를 1로 가지는 행렬을 생성한 후 [1:-1, 1:-1] 인덱스를 사용하시오).\n",
        "\n",
        ">실행 결과\n",
        "\n",
        "\n",
        "```\n",
        "n을 입력하시오 : 5\n",
        "a 행렬\n",
        "[[1 1 1 1 1]\n",
        " [1 1 1 1 1]\n",
        " [1 1 1 1 1]\n",
        " [1 1 1 1 1]\n",
        " [1 1 1 1 1]]\n",
        "b 행렬\n",
        "[[1 1 1 1 1]\n",
        " [1 0 0 0 1]\n",
        " [1 0 0 0 1]\n",
        " [1 0 0 0 1]\n",
        " [1 1 1 1 1]]\n",
        "```\n",
        "\n"
      ]
    },
    {
      "cell_type": "code",
      "metadata": {
        "id": "ZYEBcGSMlKTE",
        "colab": {
          "base_uri": "https://localhost:8080/"
        },
        "outputId": "232c6718-f1af-43dd-a264-6f114536c357"
      },
      "source": [
        "n = int(input('n을 입력하세요 : '))\n",
        "\n",
        "a = np.full([n, n], 1)\n",
        "print(a)\n",
        "\n",
        "b = a\n",
        "b[1:n-1, 1:n-1] = 0\n",
        "print(b)"
      ],
      "execution_count": null,
      "outputs": [
        {
          "output_type": "stream",
          "name": "stdout",
          "text": [
            "n을 입력하세요 : 5\n",
            "[[1 1 1 1 1]\n",
            " [1 1 1 1 1]\n",
            " [1 1 1 1 1]\n",
            " [1 1 1 1 1]\n",
            " [1 1 1 1 1]]\n",
            "[[1 1 1 1 1]\n",
            " [1 0 0 0 1]\n",
            " [1 0 0 0 1]\n",
            " [1 0 0 0 1]\n",
            " [1 1 1 1 1]]\n"
          ]
        }
      ]
    },
    {
      "cell_type": "markdown",
      "metadata": {
        "id": "iv6U2l0veAgF"
      },
      "source": [
        "## 10.a 행렬로부터 경계 값이 모두 0이고 내부가 1인 행렬 c를 다음과 같이 생성하시오. 이때 배열의 슬라이싱을 사용하시오.\n",
        "\n",
        ">실행 결과\n",
        "\n",
        "\n",
        "```\n",
        "n을 입력하시오 : 5\n",
        "a 행렬\n",
        "[[1 1 1 1 1]\n",
        " [1 1 1 1 1]\n",
        " [1 1 1 1 1]\n",
        " [1 1 1 1 1]\n",
        " [1 1 1 1 1]]\n",
        "c 행렬\n",
        "[[0 0 0 0 0]\n",
        " [0 1 1 1 0]\n",
        " [0 1 1 1 0]\n",
        " [0 1 1 1 0]\n",
        " [0 0 0 0 0]]\n",
        "```\n",
        "\n"
      ]
    },
    {
      "cell_type": "code",
      "metadata": {
        "id": "NC20ehMMeQfM",
        "colab": {
          "base_uri": "https://localhost:8080/"
        },
        "outputId": "f0abb14c-bfc3-4eaf-896d-36ad5124bfe7"
      },
      "source": [
        "n = int(input('n을 입력하세요 : '))\n",
        "\n",
        "a = np.full([n, n], 0)\n",
        "print(a)\n",
        "\n",
        "b = a\n",
        "b[1:n-1, 1:n-1] = 1\n",
        "print(b)"
      ],
      "execution_count": null,
      "outputs": [
        {
          "output_type": "stream",
          "name": "stdout",
          "text": [
            "n을 입력하세요 : 5\n",
            "[[0 0 0 0 0]\n",
            " [0 0 0 0 0]\n",
            " [0 0 0 0 0]\n",
            " [0 0 0 0 0]\n",
            " [0 0 0 0 0]]\n",
            "[[0 0 0 0 0]\n",
            " [0 1 1 1 0]\n",
            " [0 1 1 1 0]\n",
            " [0 1 1 1 0]\n",
            " [0 0 0 0 0]]\n"
          ]
        }
      ]
    },
    {
      "cell_type": "markdown",
      "metadata": {
        "id": "VNslxlXXyxxO"
      },
      "source": [
        "## 11. 다음과 같은 두 배열 a와 b가 있을 경우 a 배열의 원소내에 b 배열의 원소가 있는지 없는지를 판단하여 출력하는 프로그램을 작성하시오. 이 때 a 배열내의 원소가 b에 있을 경우는 True, 없을 경우는 False를 출력하여라.\n",
        "\n",
        ">실행 결과\n",
        "\n",
        "\n",
        "```\n",
        "a 배열 : [ 0 10 20 40 60 80]\n",
        "b 배열 : [ 0 20] \n",
        "[ True False True False False False]\n",
        "```\n",
        "\n"
      ]
    },
    {
      "cell_type": "code",
      "metadata": {
        "id": "y_95s7sgyywH",
        "colab": {
          "base_uri": "https://localhost:8080/"
        },
        "outputId": "c13b9685-8b0f-47a9-8f53-13b86a098bfb"
      },
      "source": [
        "a = np.array([0, 10, 20, 40, 60, 80])\n",
        "b = np.array([0, 20])\n",
        "for i in range(0, len(a)):\n",
        "  equal = False\n",
        "  for j in range(0, len(b)):\n",
        "    if np.equal(a[i], b[j]):\n",
        "      equal = True\n",
        "  print('{}'.format(equal), end = ' ')"
      ],
      "execution_count": null,
      "outputs": [
        {
          "output_type": "stream",
          "name": "stdout",
          "text": [
            "True False True False False False "
          ]
        }
      ]
    },
    {
      "cell_type": "markdown",
      "metadata": {
        "id": "_mVtSChat93w"
      },
      "source": [
        "## 12.임의의 shape으로 이루어진 행렬 x에 대하여 각 성분의 출현 횟수를 구하여 다음과 같이 출력하는 프로그램을 작성하시오.\n",
        "\n",
        ">실행 결과\n",
        "\n",
        "```\n",
        "x : [[10 20 40 60] [10 20 40 40]]\n",
        "10 : 2번\n",
        "20 : 2번\n",
        "40 : 3번\n",
        "60 : 1번\n",
        "\n",
        "x : [[10 20 40][60 10 20][40 40 40]]\n",
        "10 : 2번\n",
        "20 : 2번\n",
        "40 : 4번\n",
        "```\n",
        "\n",
        "\n"
      ]
    },
    {
      "cell_type": "code",
      "metadata": {
        "id": "Kz-OWUgeuKFJ",
        "colab": {
          "base_uri": "https://localhost:8080/"
        },
        "outputId": "5ae52a80-71e7-43d6-84fd-0d29e7ef0175"
      },
      "source": [
        "x = np.array([[10, 20, 40, 60], [10, 20, 40, 40]])\n",
        "x = x.flatten()\n",
        "count = {}\n",
        "for i in range(len(x)):\n",
        "  if len(count) == 0:\n",
        "    count[x[i]] = 1\n",
        "  else:\n",
        "    if count.get(x[i]):\n",
        "      count[x[i]] += 1\n",
        "    else:\n",
        "      count[x[i]] = 1\n",
        "print(count)"
      ],
      "execution_count": null,
      "outputs": [
        {
          "output_type": "stream",
          "name": "stdout",
          "text": [
            "{10: 2, 20: 2, 40: 3, 60: 1}\n"
          ]
        }
      ]
    },
    {
      "cell_type": "code",
      "metadata": {
        "id": "S9HKBylBvmWU",
        "colab": {
          "base_uri": "https://localhost:8080/"
        },
        "outputId": "e3f194c1-2eef-4653-c53f-4293a2479553"
      },
      "source": [
        "x = np.array([[10, 20, 40], [60, 10, 20], [40, 40, 40]])\n",
        "x = x.flatten()\n",
        "count = {}\n",
        "for i in range(len(x)):\n",
        "  if len(count) == 0:\n",
        "    count[x[i]] = 1\n",
        "  else:\n",
        "    if count.get(x[i]):\n",
        "      count[x[i]] += 1\n",
        "    else:\n",
        "      count[x[i]] = 1\n",
        "print(count)"
      ],
      "execution_count": null,
      "outputs": [
        {
          "output_type": "stream",
          "name": "stdout",
          "text": [
            "{10: 2, 20: 2, 40: 4, 60: 1}\n"
          ]
        }
      ]
    },
    {
      "cell_type": "markdown",
      "metadata": {
        "id": "8Eq6CWUyxX0D"
      },
      "source": [
        "## 13. 두 배열 a, b가 다음과 같은 원소를 가질때 , 두 배열의 뺄셈을 수행하여 아래와 같이 출력하시오.\n",
        "\n",
        ">실행 결과\n",
        "```\n",
        "a 배열 : [ 0 10 20 40 60 80]\n",
        "b 배열 : [ 0 20] \n",
        "a - b : [ 10 40 60 80]\n",
        "```\n",
        "\n",
        ">1) 집합 연산을 사용하지 말고, for 문과 numpy.append() 메소드를 사용하여 이 문제를 해결 하시오."
      ]
    },
    {
      "cell_type": "code",
      "metadata": {
        "id": "UJvYqCfyxhU-",
        "colab": {
          "base_uri": "https://localhost:8080/"
        },
        "outputId": "46c02f26-33f8-46cd-e27c-2152130efe2f"
      },
      "source": [
        "a = np.array([0, 10, 20, 40, 60, 80])\n",
        "b = np.array([0, 20])\n",
        "c = np.array([])\n",
        "\n",
        "for i in range(0, len(a)):\n",
        "  equal = False\n",
        "  for j in range(0, len(b)):\n",
        "    if np.equal(a[i], b[j]):\n",
        "      equal = True\n",
        "  if equal == False:\n",
        "    c = np.append(c, a[i])\n",
        "print('a - b :',c)"
      ],
      "execution_count": null,
      "outputs": [
        {
          "output_type": "stream",
          "name": "stdout",
          "text": [
            "a - b : [10. 40. 60. 80.]\n"
          ]
        }
      ]
    },
    {
      "cell_type": "markdown",
      "metadata": {
        "id": "KtYUHYtr2vMX"
      },
      "source": [
        ">2) numpy.setdiff1d(a, b) 메소드를 사용하여 이 문제를 해결하시오."
      ]
    },
    {
      "cell_type": "code",
      "metadata": {
        "id": "gpUm32WT20as",
        "colab": {
          "base_uri": "https://localhost:8080/"
        },
        "outputId": "7a3c8751-0ccf-4bac-9fe0-41643d819398"
      },
      "source": [
        "a = np.array([0, 10, 20, 40, 60, 80])\n",
        "b = np.array([0, 20])\n",
        "c = np.array([])\n",
        "\n",
        "c = np.setdiff1d(a, b)\n",
        "print('a - b :',c)"
      ],
      "execution_count": null,
      "outputs": [
        {
          "output_type": "stream",
          "name": "stdout",
          "text": [
            "a - b : [10 40 60 80]\n"
          ]
        }
      ]
    },
    {
      "cell_type": "markdown",
      "metadata": {
        "id": "-EqfhJMj6R7s"
      },
      "source": [
        "## 14.다음과 같이 사용자로부터 정수 n을 입력으로 받아서 (n, n) shape의 정방행렬을 만들고 이 행렬의 대각선 성분의 값들이 모두 1로 만드시오(X자 패턴이 되도록 할 것).\n",
        "\n",
        ">실행 결과\n",
        "\n",
        "\n",
        "```\n",
        "n을 입력하시오 : 5\n",
        "[[1 0 0 0 1]  \n",
        " [0 1 0 1 0]  \n",
        " [0 0 1 0 0]  \n",
        " [0 1 0 1 0]\n",
        " [1 0 0 1 0]]\n",
        " \n",
        "n을 입력하시오 : 6\n",
        "[[1 0 0 0 0 1]\n",
        " [0 1 0 0 1 0]\n",
        " [0 0 1 1 0 0]\n",
        " [0 0 1 1 0 0]\n",
        " [0 1 0 0 1 0]\n",
        " [1 0 0 0 0 1]]\n",
        " \n",
        "```\n",
        "\n"
      ]
    },
    {
      "cell_type": "code",
      "metadata": {
        "id": "F83X1qRw6VGH",
        "colab": {
          "base_uri": "https://localhost:8080/"
        },
        "outputId": "fee7817c-e31e-4756-d609-4288313926dc"
      },
      "source": [
        "n = int(input('n을 입력하세요 : '))\n",
        "\n",
        "a = np.zeros((n, n), dtype='int32')\n",
        "for i in range(len(a)):\n",
        "  a[i,i] = 1\n",
        "  a[i, len(a)-i-1] = 1\n",
        "\n",
        "print(a)"
      ],
      "execution_count": null,
      "outputs": [
        {
          "output_type": "stream",
          "name": "stdout",
          "text": [
            "n을 입력하세요 : 5\n",
            "[[1 0 0 0 1]\n",
            " [0 1 0 1 0]\n",
            " [0 0 1 0 0]\n",
            " [0 1 0 1 0]\n",
            " [1 0 0 0 1]]\n"
          ]
        }
      ]
    },
    {
      "cell_type": "markdown",
      "metadata": {
        "id": "6XE9o_VOSTFG"
      },
      "source": [
        "## 15.다음과 같이 사용자로부터 정수 n을 입력으로 받아서 (n, n) shape의 정방행렬을 만드시오.\n",
        "\n",
        ">1) 이 행렬의 대각선 성분과 그 아래 값들이 다음과 같이 모두 1이 되도록 만드시오.\n",
        "\n",
        ">실행 결과\n",
        "```\n",
        "n을 입력하시오 : 5\n",
        "[[1 0 0 0 0]\n",
        " [1 1 0 0 0]\n",
        " [1 1 1 0 0]\n",
        " [1 1 1 1 0]\n",
        " [1 1 1 1 1]]\n",
        " ```\n",
        "\n"
      ]
    },
    {
      "cell_type": "code",
      "metadata": {
        "id": "1UhS0tgMSeNr",
        "colab": {
          "base_uri": "https://localhost:8080/"
        },
        "outputId": "c22956b5-a69e-448f-cb1d-7a84bcdca416"
      },
      "source": [
        "n = int(input('n을 입력하세요 : '))\n",
        "\n",
        "a = np.zeros((n, n), dtype='int32')\n",
        "for i in range(len(a)):\n",
        "  a[i,:i+1] = 1\n",
        "\n",
        "print(a)"
      ],
      "execution_count": null,
      "outputs": [
        {
          "output_type": "stream",
          "name": "stdout",
          "text": [
            "n을 입력하세요 : 5\n",
            "[[1 0 0 0 0]\n",
            " [1 1 0 0 0]\n",
            " [1 1 1 0 0]\n",
            " [1 1 1 1 0]\n",
            " [1 1 1 1 1]]\n"
          ]
        }
      ]
    },
    {
      "cell_type": "markdown",
      "metadata": {
        "id": "3utuEnyyot6a"
      },
      "source": [
        ">2) 이 때 모든 행렬의 원소의 합을 다음과 같이 구하시오.\n",
        "\n",
        ">실행 결과\n",
        "\n",
        "\n",
        "```\n",
        "행렬의 모든 원소의 합: 10\n",
        "```\n",
        "\n"
      ]
    },
    {
      "cell_type": "code",
      "metadata": {
        "id": "MJRCZ5hMovUr",
        "colab": {
          "base_uri": "https://localhost:8080/"
        },
        "outputId": "fd745696-fd6a-434f-84e8-a4450db8b619"
      },
      "source": [
        "print('행렬의 모든 원소의 합 : {}'.format(np.sum(a)))"
      ],
      "execution_count": null,
      "outputs": [
        {
          "output_type": "stream",
          "name": "stdout",
          "text": [
            "행렬의 모든 원소의 합 : 15\n"
          ]
        }
      ]
    },
    {
      "cell_type": "markdown",
      "metadata": {
        "id": "N008GiWioEgP"
      },
      "source": [
        ">3) 이 행렬의 행 방향 원소의 합을 다음과 같이 구하시오(0축 방향).\n",
        "\n",
        ">실행 결과\n",
        "\n",
        "\n",
        "```\n",
        "행렬의 행축 방향 성분의 합 :\n",
        "[5 4 3 2 1]\n",
        "```\n",
        "\n"
      ]
    },
    {
      "cell_type": "code",
      "metadata": {
        "id": "BjZtWQ8xoGzp",
        "colab": {
          "base_uri": "https://localhost:8080/"
        },
        "outputId": "7d899af6-707c-4ecd-90aa-b94100b0c2d7"
      },
      "source": [
        "print('행렬의 행축 방향 성분의 합 : {}'.format(np.sum(a, axis = 0)))"
      ],
      "execution_count": null,
      "outputs": [
        {
          "output_type": "stream",
          "name": "stdout",
          "text": [
            "행렬의 행축 방향 성분의 합 : [5 4 3 2 1]\n"
          ]
        }
      ]
    },
    {
      "cell_type": "markdown",
      "metadata": {
        "id": "gqiZMS1ru_14"
      },
      "source": [
        ">4) 이 행렬의 열 방향 성분의 합을 다음과 같이 구하시오(1축 방향).\n",
        "\n",
        ">실행 결과\n",
        "\n",
        "```\n",
        "행렬의 열축 방향 원소의 합 :\n",
        "[1 2 3 4 5]\n",
        "```\n",
        "\n"
      ]
    },
    {
      "cell_type": "code",
      "metadata": {
        "id": "D9iXuuvFu-_1",
        "colab": {
          "base_uri": "https://localhost:8080/"
        },
        "outputId": "a27c23c8-d36e-458f-8353-b9ce4302c4d9"
      },
      "source": [
        "print('행렬의 열축 방향 성분의 합 : {}'.format(np.sum(a, axis = 1)))"
      ],
      "execution_count": null,
      "outputs": [
        {
          "output_type": "stream",
          "name": "stdout",
          "text": [
            "행렬의 열축 방향 성분의 합 : [1 2 3 4 5]\n"
          ]
        }
      ]
    },
    {
      "cell_type": "markdown",
      "metadata": {
        "id": "vLzJLirASILK"
      },
      "source": [
        "## 16.다음과 같은 행렬 a가 있다. 이 행렬 a의 각 성분 값들을 인덱싱하고 concatenate() 함수를 이용하여 b와 같은 형태의 행렬로 만들어라.\n",
        "\n",
        ">실행 결과\n",
        "```\n",
        "a = [[0 1 2] [3 4 5] [0 2 4] [6 8 10]]\n",
        "b = [[0 1 2 0 2 4] [3 4 5 6 8 10]]\n",
        "```\n",
        "\n"
      ]
    },
    {
      "cell_type": "code",
      "metadata": {
        "id": "goD-T_436ig-",
        "colab": {
          "base_uri": "https://localhost:8080/"
        },
        "outputId": "39f03a78-6e13-4080-e8f4-78fde8576780"
      },
      "source": [
        "a = np.array([[0, 1, 2], [3, 4, 5], [0, 2, 4], [6, 8, 10]])\n",
        "print(a)\n",
        "c = np.concatenate([a[0], a[2]], axis = 0)\n",
        "d = np.concatenate([a[1], a[3]], axis = 0)\n",
        "b = np.concatenate([[c], [d]], axis = 0)\n",
        "print(b)"
      ],
      "execution_count": null,
      "outputs": [
        {
          "output_type": "stream",
          "name": "stdout",
          "text": [
            "[[ 0  1  2]\n",
            " [ 3  4  5]\n",
            " [ 0  2  4]\n",
            " [ 6  8 10]]\n",
            "[[ 0  1  2  0  2  4]\n",
            " [ 3  4  5  6  8 10]]\n"
          ]
        }
      ]
    },
    {
      "cell_type": "code",
      "metadata": {
        "id": "_l0qh1FevtqF"
      },
      "source": [],
      "execution_count": null,
      "outputs": []
    },
    {
      "cell_type": "code",
      "metadata": {
        "id": "0e0Eaphp_hBO"
      },
      "source": [],
      "execution_count": null,
      "outputs": []
    },
    {
      "cell_type": "code",
      "metadata": {
        "id": "btzEGFFJ_jfY"
      },
      "source": [],
      "execution_count": null,
      "outputs": []
    },
    {
      "cell_type": "code",
      "metadata": {
        "id": "3hVZK_WI_WHZ"
      },
      "source": [],
      "execution_count": null,
      "outputs": []
    },
    {
      "cell_type": "code",
      "metadata": {
        "id": "pP1TcAil_SL2"
      },
      "source": [],
      "execution_count": null,
      "outputs": []
    },
    {
      "cell_type": "code",
      "metadata": {
        "id": "Vpyt5G53_713"
      },
      "source": [],
      "execution_count": null,
      "outputs": []
    },
    {
      "cell_type": "code",
      "metadata": {
        "id": "elZl2q3O_K3t"
      },
      "source": [],
      "execution_count": null,
      "outputs": []
    },
    {
      "cell_type": "markdown",
      "metadata": {
        "id": "DmqHq15eI4yu"
      },
      "source": [
        "## 17.다음과 같은 5x5 크기의 2차원 배열 a가 있다. 이 배열을 슬라이싱하여 다음과 같은 배열 b, c, d, e를 완성하여라.\n",
        "\n",
        "```\n",
        "배열 a :\n",
        "[[0 0 0 0 0]\n",
        " [0 1 1 1 0]\n",
        " [0 1 2 1 0]\n",
        " [0 1 1 1 0]\n",
        " [0 0 0 0 0]]\n",
        "```\n",
        ">1) 배열 b :\n",
        "```\n",
        "실행결과 :\n",
        "[[1 1 1]\n",
        " [1 2 1]\n",
        " [1 1 1]]\n",
        "```\n",
        ">2) 배열 c :\n",
        "```\n",
        "실행결과 :\n",
        "[[0 0 0]\n",
        " [0 1 1]\n",
        " [0 1 2]]\n",
        "```\n",
        "\n",
        "\n",
        ">3) 배열 d :\n",
        "```\n",
        "실행결과 :\n",
        "[[0 0 0]\n",
        " [1 1 1]\n",
        " [1 2 1]]\n",
        "```\n",
        "\n",
        "\n",
        ">4) 배열 e :\n",
        "```\n",
        "실행결과 :\n",
        "[[1 1 0]\n",
        " [2 1 0]\n",
        " [1 1 0]]\n",
        "```\n",
        "\n",
        "\n",
        ">5) 배열 f :\n",
        "```\n",
        "실행결과 :\n",
        "[0 1 2 1 0]\n",
        "```\n",
        "\n",
        "\n"
      ]
    },
    {
      "cell_type": "code",
      "metadata": {
        "id": "dPpDWNEWJlaf",
        "colab": {
          "base_uri": "https://localhost:8080/"
        },
        "outputId": "e50641bf-b166-44f3-ede8-bf039aa18240"
      },
      "source": [
        "a = np.zeros((5, 5), dtype='int32')\n",
        "a[1:4, 1:4] = 1\n",
        "a[2, 2] = 2\n",
        "print(a)"
      ],
      "execution_count": null,
      "outputs": [
        {
          "output_type": "stream",
          "name": "stdout",
          "text": [
            "[[0 0 0 0 0]\n",
            " [0 1 1 1 0]\n",
            " [0 1 2 1 0]\n",
            " [0 1 1 1 0]\n",
            " [0 0 0 0 0]]\n"
          ]
        }
      ]
    },
    {
      "cell_type": "code",
      "metadata": {
        "id": "ZZ3XJQhFJQge",
        "colab": {
          "base_uri": "https://localhost:8080/"
        },
        "outputId": "96a6c7be-6a99-4afd-c782-201bb841e959"
      },
      "source": [
        "b = np.array([])\n",
        "b = a[1:4, 1:4]\n",
        "print(b)"
      ],
      "execution_count": null,
      "outputs": [
        {
          "output_type": "stream",
          "name": "stdout",
          "text": [
            "[[1 1 1]\n",
            " [1 2 1]\n",
            " [1 1 1]]\n"
          ]
        }
      ]
    },
    {
      "cell_type": "code",
      "metadata": {
        "id": "deAu9vl4KK8X",
        "colab": {
          "base_uri": "https://localhost:8080/"
        },
        "outputId": "40749aa1-8190-4c40-c892-a5c5f8876b81"
      },
      "source": [
        "c = np.array([])\n",
        "c = a[0:3, 0:3]\n",
        "print(c)"
      ],
      "execution_count": null,
      "outputs": [
        {
          "output_type": "stream",
          "name": "stdout",
          "text": [
            "[[0 0 0]\n",
            " [0 1 1]\n",
            " [0 1 2]]\n"
          ]
        }
      ]
    },
    {
      "cell_type": "code",
      "metadata": {
        "id": "Vc-orNzYKUEU",
        "colab": {
          "base_uri": "https://localhost:8080/"
        },
        "outputId": "b836de70-45b8-4182-987c-67fbf3a6c47b"
      },
      "source": [
        "d = np.array([])\n",
        "d = a[0:3, 1:4]\n",
        "print(d)"
      ],
      "execution_count": null,
      "outputs": [
        {
          "output_type": "stream",
          "name": "stdout",
          "text": [
            "[[0 0 0]\n",
            " [1 1 1]\n",
            " [1 2 1]]\n"
          ]
        }
      ]
    },
    {
      "cell_type": "code",
      "metadata": {
        "id": "VGvn4D2ZKrd4",
        "colab": {
          "base_uri": "https://localhost:8080/"
        },
        "outputId": "ed1e0b47-6975-4395-fbae-1992619ddef2"
      },
      "source": [
        "e = np.array([])\n",
        "e = a[0:3, 2:5]\n",
        "print(e)"
      ],
      "execution_count": null,
      "outputs": [
        {
          "output_type": "stream",
          "name": "stdout",
          "text": [
            "[[0 0 0]\n",
            " [1 1 0]\n",
            " [2 1 0]]\n"
          ]
        }
      ]
    },
    {
      "cell_type": "code",
      "metadata": {
        "id": "h8I35dXwkYi3",
        "colab": {
          "base_uri": "https://localhost:8080/"
        },
        "outputId": "529dbe44-9bc4-43a0-e0f5-6e305841a64a"
      },
      "source": [
        "f = np.array([])\n",
        "f = a[2, ::]\n",
        "print(f)"
      ],
      "execution_count": null,
      "outputs": [
        {
          "output_type": "stream",
          "name": "stdout",
          "text": [
            "[0 1 2 1 0]\n"
          ]
        }
      ]
    },
    {
      "cell_type": "markdown",
      "metadata": {
        "id": "SJtOq4ImkxAS"
      },
      "source": [
        "## 18.다음과 같은 2차원 행렬 A, B가 있을 경우 아래 연산이나 행렬식 값를 구하시오.(단, AB는 행렬곱 연산임)\n",
        "\n",
        "\n",
        "```\n",
        "행렬 A :\n",
        "[[1 1 -1]\n",
        " [3 2 3]\n",
        " [6 7 8]]\n",
        " \n",
        " 행렬 B :\n",
        "[[1 4 -6]\n",
        " [0 1 1]\n",
        " [3 -1 6]]\n",
        "```\n",
        "\n",
        "\n",
        "\n",
        "```\n",
        "1) 2A\n",
        "2) A+B\n",
        "3) A-B\n",
        "4) AB\n",
        "5) 3A-2B\n",
        "6) A의 행렬식\n",
        "7) B의 행렬식\n",
        "8) A 행렬의 행 성분의 합\n",
        "9) A 행렬의 열 성분의 합\n",
        "10) B 행렬의 행 성분의 합\n",
        "11) B 행렬의 열 성분의 합\n",
        "```\n",
        "\n"
      ]
    },
    {
      "cell_type": "code",
      "metadata": {
        "id": "gdOuiVwgkyjg",
        "colab": {
          "base_uri": "https://localhost:8080/"
        },
        "outputId": "60096966-02bd-4eaf-fb01-ee2eca1f9c13"
      },
      "source": [
        "A = np.array([[1, 1, -1], [3, 2, 3], [6, 7, 8]])\n",
        "print(A)\n",
        "B = np.array([[1, 4, -6], [0, 1, 1], [3, -1, 6]])\n",
        "print(B)"
      ],
      "execution_count": null,
      "outputs": [
        {
          "output_type": "stream",
          "name": "stdout",
          "text": [
            "[[ 1  1 -1]\n",
            " [ 3  2  3]\n",
            " [ 6  7  8]]\n",
            "[[ 1  4 -6]\n",
            " [ 0  1  1]\n",
            " [ 3 -1  6]]\n"
          ]
        }
      ]
    },
    {
      "cell_type": "code",
      "metadata": {
        "id": "Rhf5fJnvlS33",
        "colab": {
          "base_uri": "https://localhost:8080/"
        },
        "outputId": "c956f4ca-ba20-4c7c-ddc4-4aacf7968eba"
      },
      "source": [
        "print(A*2)"
      ],
      "execution_count": null,
      "outputs": [
        {
          "output_type": "stream",
          "name": "stdout",
          "text": [
            "[[ 2  2 -2]\n",
            " [ 6  4  6]\n",
            " [12 14 16]]\n"
          ]
        }
      ]
    },
    {
      "cell_type": "code",
      "metadata": {
        "id": "AOlMqC5PlYo6",
        "colab": {
          "base_uri": "https://localhost:8080/"
        },
        "outputId": "11e2d2aa-8cac-4c06-ba06-5eb09563b721"
      },
      "source": [
        "print(np.add(A, B))"
      ],
      "execution_count": null,
      "outputs": [
        {
          "output_type": "stream",
          "name": "stdout",
          "text": [
            "[[ 2  5 -7]\n",
            " [ 3  3  4]\n",
            " [ 9  6 14]]\n"
          ]
        }
      ]
    },
    {
      "cell_type": "code",
      "metadata": {
        "id": "7ohAAe7zlaS8",
        "colab": {
          "base_uri": "https://localhost:8080/"
        },
        "outputId": "d1769de1-57b9-420b-e9c0-3b131d75a48b"
      },
      "source": [
        "print(np.subtract(A, B))"
      ],
      "execution_count": null,
      "outputs": [
        {
          "output_type": "stream",
          "name": "stdout",
          "text": [
            "[[ 0 -3  5]\n",
            " [ 3  1  2]\n",
            " [ 3  8  2]]\n"
          ]
        }
      ]
    },
    {
      "cell_type": "code",
      "metadata": {
        "id": "cynidsaxlcVb",
        "colab": {
          "base_uri": "https://localhost:8080/"
        },
        "outputId": "e44327e8-e638-4fdc-a654-e688d2afa4e8"
      },
      "source": [
        "print(A@B)"
      ],
      "execution_count": null,
      "outputs": [
        {
          "output_type": "stream",
          "name": "stdout",
          "text": [
            "[[ -2   6 -11]\n",
            " [ 12  11   2]\n",
            " [ 30  23  19]]\n"
          ]
        }
      ]
    },
    {
      "cell_type": "code",
      "metadata": {
        "id": "YpHfu2adlf3P",
        "colab": {
          "base_uri": "https://localhost:8080/"
        },
        "outputId": "44c84da7-1df7-4e44-9780-a1deaf12e68e"
      },
      "source": [
        "print(np.subtract(A*3, B*2))"
      ],
      "execution_count": null,
      "outputs": [
        {
          "output_type": "stream",
          "name": "stdout",
          "text": [
            "[[ 1 -5  9]\n",
            " [ 9  4  7]\n",
            " [12 23 12]]\n"
          ]
        }
      ]
    },
    {
      "cell_type": "code",
      "source": [
        "print(np.linalg.det(A))"
      ],
      "metadata": {
        "colab": {
          "base_uri": "https://localhost:8080/"
        },
        "id": "gQ70LUgfQvWk",
        "outputId": "2fa1c6e2-9f00-4ede-c3b6-37087139515d"
      },
      "execution_count": null,
      "outputs": [
        {
          "output_type": "stream",
          "name": "stdout",
          "text": [
            "-19.999999999999996\n"
          ]
        }
      ]
    },
    {
      "cell_type": "code",
      "source": [
        "print(np.linalg.det(B))"
      ],
      "metadata": {
        "colab": {
          "base_uri": "https://localhost:8080/"
        },
        "id": "4QoBkatdQvjO",
        "outputId": "f1facbbd-37b5-4c02-e8a7-a3ddf35322a0"
      },
      "execution_count": null,
      "outputs": [
        {
          "output_type": "stream",
          "name": "stdout",
          "text": [
            "37.000000000000014\n"
          ]
        }
      ]
    },
    {
      "cell_type": "code",
      "source": [
        "print(np.sum(A, axis = 1))"
      ],
      "metadata": {
        "colab": {
          "base_uri": "https://localhost:8080/"
        },
        "id": "jqO3loldQvuJ",
        "outputId": "9266c6ea-f5f7-46cd-c570-b5c10c51d2b8"
      },
      "execution_count": null,
      "outputs": [
        {
          "output_type": "stream",
          "name": "stdout",
          "text": [
            "[ 1  8 21]\n"
          ]
        }
      ]
    },
    {
      "cell_type": "code",
      "source": [
        "print(np.sum(A, axis = 0))"
      ],
      "metadata": {
        "colab": {
          "base_uri": "https://localhost:8080/"
        },
        "id": "cVYcAqZYQv0D",
        "outputId": "b2f271d7-6afd-4109-df8b-4d3b70d9919a"
      },
      "execution_count": null,
      "outputs": [
        {
          "output_type": "stream",
          "name": "stdout",
          "text": [
            "[10 10 10]\n"
          ]
        }
      ]
    },
    {
      "cell_type": "code",
      "metadata": {
        "id": "1GwK3a3ylkH2",
        "colab": {
          "base_uri": "https://localhost:8080/"
        },
        "outputId": "13417b9a-0099-4361-84ae-916f03fc6cb5"
      },
      "source": [
        "print(np.sum(B, axis = 1))"
      ],
      "execution_count": null,
      "outputs": [
        {
          "output_type": "stream",
          "name": "stdout",
          "text": [
            "[-1  2  8]\n"
          ]
        }
      ]
    },
    {
      "cell_type": "code",
      "metadata": {
        "id": "LGCAk2xKlnqO",
        "colab": {
          "base_uri": "https://localhost:8080/"
        },
        "outputId": "c32bd827-cf8f-4f72-c7b0-dec4ddb1d781"
      },
      "source": [
        "print(np.sum(B, axis = 0))"
      ],
      "execution_count": null,
      "outputs": [
        {
          "output_type": "stream",
          "name": "stdout",
          "text": [
            "[4 4 1]\n"
          ]
        }
      ]
    },
    {
      "cell_type": "markdown",
      "metadata": {
        "id": "j_JWA8peM1nU"
      },
      "source": [
        "## 19.0에서 23까지의 값을 순서대로 가지는 (4, 3, 2) 형태의 3차원 배열 a가 다음과 같이 있다. 이 배열에 대하여 10번째와 20번째 원소를 구하는 식을 만드시오.\n",
        "\n",
        "```\n",
        "a = np.arange(0, 24).reshape(4, 3, 2)\n",
        "```\n",
        ">이 식을 이용하여 n과 배열 a를 매개변수로 받아서 원소를 반환하는 get_nth()라는 이름의 함수를 만들고, 10번째와 20번째 배열 원소를 다음과 같이 출력하시오.\n",
        "\n",
        "\n",
        "```\n",
        "실행 결과\n",
        "10번째 원소 : 9\n",
        "20번째 원소 : 19\n",
        "```\n",
        " * 힌트 : 아래의 코드와 같이 a.shape[0], a.shape[1], a.shape[2]를 이용하시오.\n",
        "\n",
        "```\n",
        ">>> a.shape[0], a.shape[1], a.shape[2] \n",
        "(4, 3, 2)\n",
        "```\n",
        "\n",
        "\n"
      ]
    },
    {
      "cell_type": "code",
      "metadata": {
        "id": "xOlSaldANJeQ",
        "colab": {
          "base_uri": "https://localhost:8080/"
        },
        "outputId": "342c1e85-440d-4c88-ae37-e868e06056b4"
      },
      "source": [
        "a = np.arange(0, 24).reshape(4, 3, 2)\n",
        "a.shape[0], a.shape[1], a.shape[2]"
      ],
      "execution_count": null,
      "outputs": [
        {
          "output_type": "execute_result",
          "data": {
            "text/plain": [
              "(4, 3, 2)"
            ]
          },
          "metadata": {},
          "execution_count": 260
        }
      ]
    },
    {
      "cell_type": "code",
      "metadata": {
        "id": "a9ywYEgYNLmQ",
        "colab": {
          "base_uri": "https://localhost:8080/"
        },
        "outputId": "e536b49f-14b1-43f6-eb74-a4b9f67ede06"
      },
      "source": [
        "def get_nth(n, a):\n",
        "  # 10번째 원소를 구하기 위해서 n-1을 해서 0부터 시작하느 인덱스 값으로 만든다\n",
        "  n = n - 1 \n",
        "  # n을 a.shape의 제일 마지막 값(열의 개수)으로 나누고 나머지를 구한다\n",
        "  # 이 값이 제일 마지막 인덱스가 된다\n",
        "  ix_2 = n % a.shape[2]  \n",
        "  helper_2 = (n - ix_2) / a.shape[2]\n",
        "  ix_1 = helper_2 % a.shape[1]\n",
        "  helper_1 = (helper_2 - ix_1) / a.shape[1]\n",
        "  ix_0 = helper_1 % a.shape[0]\n",
        "  #print(int(ix_0), int(ix_1), int(ix_2))\n",
        "  return a[int(ix_0), int(ix_1), int(ix_2)]\n",
        "\n",
        "n = 10\n",
        "print('a 행렬의 {}번째 원소 : {}'.format(n, get_nth(n, a)))\n",
        "n = 20\n",
        "print('a 행렬의 {}번째 원소 : {}'.format(n, get_nth(n, a)))"
      ],
      "execution_count": null,
      "outputs": [
        {
          "output_type": "stream",
          "name": "stdout",
          "text": [
            "a 행렬의 10번째 원소 : 9\n",
            "a 행렬의 20번째 원소 : 19\n"
          ]
        }
      ]
    },
    {
      "cell_type": "markdown",
      "metadata": {
        "id": "U2VxwHB-66n9"
      },
      "source": [
        "## 20.다음과 같은 관계식을 만족시키는 x, y, z를 numpy.linalg.solve() 함수를 이용하여 구하시오.\n",
        "\n",
        "```\n",
        "2x + y + z = 16\n",
        "x + 2y + z = 9\n",
        "x + y + 2z = 3\n",
        "```\n",
        ">1) 위 식의 해를 다음과 같이 출력하시오.\n",
        "\n",
        "```\n",
        "x = 9.0, y = 2.0, z = -4.0\n",
        "```\n",
        "\n",
        "\n"
      ]
    },
    {
      "cell_type": "code",
      "metadata": {
        "id": "N_iIY1WmRRiC",
        "colab": {
          "base_uri": "https://localhost:8080/"
        },
        "outputId": "acb9d454-ff64-4018-d9a2-9046ef7539c2"
      },
      "source": [
        "q = np.array([[2, 1, 1], [1, 2, 1], [1, 1, 2]])\n",
        "a = np.array([[16], [9], [3]])\n",
        "s = np.linalg.solve(q, a)\n",
        "print('x = {}, y = {}, z = {}'.format(s[0], s[1], s[2]))"
      ],
      "execution_count": null,
      "outputs": [
        {
          "output_type": "stream",
          "name": "stdout",
          "text": [
            "x = [9.], y = [2.], z = [-4.]\n"
          ]
        }
      ]
    },
    {
      "cell_type": "markdown",
      "metadata": {
        "id": "azhToIm5DPr_"
      },
      "source": [
        ">2) 선형방정식에서 왼쪽 변의 방정식의 계수는 다음과 같은 행렬로 표기할 수 있다.\n",
        "\n",
        "```\n",
        "A = np.array([[2, 1, 1], [1, 2, 1], [1, 1, 2]])\n",
        "```\n",
        ">이 행렬의 행렬식을 linalg.det() 함수를 사용하여 다음과 같이 구하여라.\n",
        "\n",
        "\n",
        "```\n",
        "실행 결과\n",
        "det(A) = 4\n",
        "```\n"
      ]
    },
    {
      "cell_type": "code",
      "metadata": {
        "id": "C1_r4KiYDQuP",
        "colab": {
          "base_uri": "https://localhost:8080/"
        },
        "outputId": "b453eaaf-5e30-4ed7-ed1f-ead7d8ff7e73"
      },
      "source": [
        "A = np.array([[2, 1, 1], [1, 2, 1], [1, 1, 2]])\n",
        "print('det(A) = {}'.format(np.linalg.det(A)))"
      ],
      "execution_count": null,
      "outputs": [
        {
          "output_type": "stream",
          "name": "stdout",
          "text": [
            "det(A) = 4.0\n"
          ]
        }
      ]
    }
  ]
}