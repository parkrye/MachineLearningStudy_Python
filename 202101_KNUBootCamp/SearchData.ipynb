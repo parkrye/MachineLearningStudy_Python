{
  "nbformat": 4,
  "nbformat_minor": 0,
  "metadata": {
    "colab": {
      "provenance": [],
      "collapsed_sections": [],
      "authorship_tag": "ABX9TyOmC7iTDoiGQAp8WDPzXRrP",
      "include_colab_link": true
    },
    "kernelspec": {
      "name": "python3",
      "display_name": "Python 3"
    },
    "language_info": {
      "name": "python"
    }
  },
  "cells": [
    {
      "cell_type": "markdown",
      "metadata": {
        "id": "view-in-github",
        "colab_type": "text"
      },
      "source": [
        "<a href=\"https://colab.research.google.com/github/parkrye/Python/blob/main/202101_KNUBootCamp/SearchData.ipynb\" target=\"_parent\"><img src=\"https://colab.research.google.com/assets/colab-badge.svg\" alt=\"Open In Colab\"/></a>"
      ]
    },
    {
      "cell_type": "markdown",
      "source": [
        "# 사전 설치"
      ],
      "metadata": {
        "id": "cwvFClGygoqZ"
      }
    },
    {
      "cell_type": "code",
      "source": [
        "import numpy as np\n",
        "import pandas as pd\n",
        "import seaborn as sns\n",
        "import matplotlib.pyplot as plt"
      ],
      "metadata": {
        "id": "4tRWhg5ClQz9"
      },
      "execution_count": null,
      "outputs": []
    },
    {
      "cell_type": "code",
      "metadata": {
        "id": "_7fNZBcWxiIl"
      },
      "source": [
        "# warning메시지 무시\n",
        "import warnings\n",
        "warnings.filterwarnings('ignore')"
      ],
      "execution_count": null,
      "outputs": []
    },
    {
      "cell_type": "code",
      "source": [
        "# 나눔바른고딕 폰트 설치 - [런타임 다시 시작]되면 폰트를 다시 설치해야 한글이 보입니다.\n",
        "!apt-get install fonts-nanum"
      ],
      "metadata": {
        "colab": {
          "base_uri": "https://localhost:8080/"
        },
        "id": "sICXTa9mlbhQ",
        "outputId": "d17eb24b-767e-4fad-8f42-e1797777c247"
      },
      "execution_count": null,
      "outputs": [
        {
          "output_type": "stream",
          "name": "stdout",
          "text": [
            "Reading package lists... Done\n",
            "Building dependency tree       \n",
            "Reading state information... Done\n",
            "The following packages were automatically installed and are no longer required:\n",
            "  cuda-command-line-tools-10-0 cuda-command-line-tools-10-1\n",
            "  cuda-command-line-tools-11-0 cuda-compiler-10-0 cuda-compiler-10-1\n",
            "  cuda-compiler-11-0 cuda-cuobjdump-10-0 cuda-cuobjdump-10-1\n",
            "  cuda-cuobjdump-11-0 cuda-cupti-10-0 cuda-cupti-10-1 cuda-cupti-11-0\n",
            "  cuda-cupti-dev-11-0 cuda-documentation-10-0 cuda-documentation-10-1\n",
            "  cuda-documentation-11-0 cuda-documentation-11-1 cuda-gdb-10-0 cuda-gdb-10-1\n",
            "  cuda-gdb-11-0 cuda-gpu-library-advisor-10-0 cuda-gpu-library-advisor-10-1\n",
            "  cuda-libraries-10-0 cuda-libraries-10-1 cuda-libraries-11-0\n",
            "  cuda-memcheck-10-0 cuda-memcheck-10-1 cuda-memcheck-11-0 cuda-nsight-10-0\n",
            "  cuda-nsight-10-1 cuda-nsight-11-0 cuda-nsight-11-1 cuda-nsight-compute-10-0\n",
            "  cuda-nsight-compute-10-1 cuda-nsight-compute-11-0 cuda-nsight-compute-11-1\n",
            "  cuda-nsight-systems-10-1 cuda-nsight-systems-11-0 cuda-nsight-systems-11-1\n",
            "  cuda-nvcc-10-0 cuda-nvcc-10-1 cuda-nvcc-11-0 cuda-nvdisasm-10-0\n",
            "  cuda-nvdisasm-10-1 cuda-nvdisasm-11-0 cuda-nvml-dev-10-0 cuda-nvml-dev-10-1\n",
            "  cuda-nvml-dev-11-0 cuda-nvprof-10-0 cuda-nvprof-10-1 cuda-nvprof-11-0\n",
            "  cuda-nvprune-10-0 cuda-nvprune-10-1 cuda-nvprune-11-0 cuda-nvtx-10-0\n",
            "  cuda-nvtx-10-1 cuda-nvtx-11-0 cuda-nvvp-10-0 cuda-nvvp-10-1 cuda-nvvp-11-0\n",
            "  cuda-nvvp-11-1 cuda-samples-10-0 cuda-samples-10-1 cuda-samples-11-0\n",
            "  cuda-samples-11-1 cuda-sanitizer-11-0 cuda-sanitizer-api-10-1\n",
            "  cuda-toolkit-10-0 cuda-toolkit-10-1 cuda-toolkit-11-0 cuda-toolkit-11-1\n",
            "  cuda-tools-10-0 cuda-tools-10-1 cuda-tools-11-0 cuda-tools-11-1\n",
            "  cuda-visual-tools-10-0 cuda-visual-tools-10-1 cuda-visual-tools-11-0\n",
            "  cuda-visual-tools-11-1 default-jre dkms freeglut3 freeglut3-dev\n",
            "  keyboard-configuration libargon2-0 libcap2 libcryptsetup12\n",
            "  libdevmapper1.02.1 libfontenc1 libidn11 libip4tc0 libjansson4\n",
            "  libnvidia-cfg1-510 libnvidia-common-460 libnvidia-common-510\n",
            "  libnvidia-extra-510 libnvidia-fbc1-510 libnvidia-gl-510 libpam-systemd\n",
            "  libpolkit-agent-1-0 libpolkit-backend-1-0 libpolkit-gobject-1-0 libxfont2\n",
            "  libxi-dev libxkbfile1 libxmu-dev libxmu-headers libxnvctrl0 libxtst6\n",
            "  nsight-compute-2020.2.1 nsight-compute-2022.1.0 nsight-systems-2020.3.2\n",
            "  nsight-systems-2020.3.4 nsight-systems-2021.5.2 nvidia-dkms-510\n",
            "  nvidia-kernel-common-510 nvidia-kernel-source-510 nvidia-modprobe\n",
            "  nvidia-settings openjdk-11-jre policykit-1 policykit-1-gnome python3-xkit\n",
            "  screen-resolution-extra systemd systemd-sysv udev x11-xkb-utils\n",
            "  xserver-common xserver-xorg-core-hwe-18.04 xserver-xorg-video-nvidia-510\n",
            "Use 'apt autoremove' to remove them.\n",
            "The following NEW packages will be installed:\n",
            "  fonts-nanum\n",
            "0 upgraded, 1 newly installed, 0 to remove and 39 not upgraded.\n",
            "Need to get 9,604 kB of archives.\n",
            "After this operation, 29.5 MB of additional disk space will be used.\n",
            "Get:1 http://archive.ubuntu.com/ubuntu bionic/universe amd64 fonts-nanum all 20170925-1 [9,604 kB]\n",
            "Fetched 9,604 kB in 0s (49.9 MB/s)\n",
            "Selecting previously unselected package fonts-nanum.\n",
            "(Reading database ... 155113 files and directories currently installed.)\n",
            "Preparing to unpack .../fonts-nanum_20170925-1_all.deb ...\n",
            "Unpacking fonts-nanum (20170925-1) ...\n",
            "Setting up fonts-nanum (20170925-1) ...\n",
            "Processing triggers for fontconfig (2.12.6-0ubuntu2) ...\n"
          ]
        }
      ]
    },
    {
      "cell_type": "code",
      "source": [
        "# 한글폰트 설치하기 위해 필요함\n",
        "import matplotlib.font_manager as fm\n",
        "\n",
        "fm.fontManager.addfont('/usr/share/fonts/truetype/nanum/NanumBarunGothic.ttf')\n",
        "plt.rcParams['font.family'] = \"NanumBarunGothic\""
      ],
      "metadata": {
        "id": "dYRIGbLMjPf7"
      },
      "execution_count": null,
      "outputs": []
    },
    {
      "cell_type": "code",
      "source": [
        "plt.rc('font', family = 'NanumBarunGothic')\n",
        "# 마이너스(음수)부호 설정\n",
        "plt.rc(\"axes\", unicode_minus = False)"
      ],
      "metadata": {
        "id": "4MEn3f_Nlfcr"
      },
      "execution_count": null,
      "outputs": []
    },
    {
      "cell_type": "markdown",
      "source": [
        "# 실행부"
      ],
      "metadata": {
        "id": "UfZYK-BFgr4Y"
      }
    },
    {
      "cell_type": "markdown",
      "source": [
        "## 데이터 읽기"
      ],
      "metadata": {
        "id": "lfaiXPHDgty_"
      }
    },
    {
      "cell_type": "code",
      "source": [
        "path = '/content/geoMap.csv'\n",
        "data = pd.read_csv(path)"
      ],
      "metadata": {
        "id": "iEs0_YKcSG4W"
      },
      "execution_count": null,
      "outputs": []
    },
    {
      "cell_type": "code",
      "source": [
        "# NA => 0\n",
        "data.fillna(0, inplace = True)"
      ],
      "metadata": {
        "id": "6tZv7_N8Sqsu"
      },
      "execution_count": null,
      "outputs": []
    },
    {
      "cell_type": "code",
      "source": [
        "data.info()"
      ],
      "metadata": {
        "colab": {
          "base_uri": "https://localhost:8080/"
        },
        "id": "A-1ioR4oSlbI",
        "outputId": "c9e59b04-3d59-4073-97a7-123abe50dbd9"
      },
      "execution_count": null,
      "outputs": [
        {
          "output_type": "stream",
          "name": "stdout",
          "text": [
            "<class 'pandas.core.frame.DataFrame'>\n",
            "Index: 251 entries, 국가 to 왈리스-푸투나 제도\n",
            "Data columns (total 1 columns):\n",
            " #   Column         Non-Null Count  Dtype \n",
            "---  ------         --------------  ----- \n",
            " 0   카테고리: 모든 카테고리  251 non-null    object\n",
            "dtypes: object(1)\n",
            "memory usage: 12.0+ KB\n"
          ]
        }
      ]
    },
    {
      "cell_type": "code",
      "source": [
        "data.describe()"
      ],
      "metadata": {
        "colab": {
          "base_uri": "https://localhost:8080/",
          "height": 174
        },
        "id": "qr4gbTBISnV4",
        "outputId": "14cb30d3-bde1-48a4-d778-1bc1302b7bf1"
      },
      "execution_count": null,
      "outputs": [
        {
          "output_type": "execute_result",
          "data": {
            "text/html": [
              "\n",
              "  <div id=\"df-5efcef7a-b18d-476d-b852-293469f47183\">\n",
              "    <div class=\"colab-df-container\">\n",
              "      <div>\n",
              "<style scoped>\n",
              "    .dataframe tbody tr th:only-of-type {\n",
              "        vertical-align: middle;\n",
              "    }\n",
              "\n",
              "    .dataframe tbody tr th {\n",
              "        vertical-align: top;\n",
              "    }\n",
              "\n",
              "    .dataframe thead th {\n",
              "        text-align: right;\n",
              "    }\n",
              "</style>\n",
              "<table border=\"1\" class=\"dataframe\">\n",
              "  <thead>\n",
              "    <tr style=\"text-align: right;\">\n",
              "      <th></th>\n",
              "      <th>카테고리: 모든 카테고리</th>\n",
              "    </tr>\n",
              "  </thead>\n",
              "  <tbody>\n",
              "    <tr>\n",
              "      <th>count</th>\n",
              "      <td>251</td>\n",
              "    </tr>\n",
              "    <tr>\n",
              "      <th>unique</th>\n",
              "      <td>33</td>\n",
              "    </tr>\n",
              "    <tr>\n",
              "      <th>top</th>\n",
              "      <td>0</td>\n",
              "    </tr>\n",
              "    <tr>\n",
              "      <th>freq</th>\n",
              "      <td>182</td>\n",
              "    </tr>\n",
              "  </tbody>\n",
              "</table>\n",
              "</div>\n",
              "      <button class=\"colab-df-convert\" onclick=\"convertToInteractive('df-5efcef7a-b18d-476d-b852-293469f47183')\"\n",
              "              title=\"Convert this dataframe to an interactive table.\"\n",
              "              style=\"display:none;\">\n",
              "        \n",
              "  <svg xmlns=\"http://www.w3.org/2000/svg\" height=\"24px\"viewBox=\"0 0 24 24\"\n",
              "       width=\"24px\">\n",
              "    <path d=\"M0 0h24v24H0V0z\" fill=\"none\"/>\n",
              "    <path d=\"M18.56 5.44l.94 2.06.94-2.06 2.06-.94-2.06-.94-.94-2.06-.94 2.06-2.06.94zm-11 1L8.5 8.5l.94-2.06 2.06-.94-2.06-.94L8.5 2.5l-.94 2.06-2.06.94zm10 10l.94 2.06.94-2.06 2.06-.94-2.06-.94-.94-2.06-.94 2.06-2.06.94z\"/><path d=\"M17.41 7.96l-1.37-1.37c-.4-.4-.92-.59-1.43-.59-.52 0-1.04.2-1.43.59L10.3 9.45l-7.72 7.72c-.78.78-.78 2.05 0 2.83L4 21.41c.39.39.9.59 1.41.59.51 0 1.02-.2 1.41-.59l7.78-7.78 2.81-2.81c.8-.78.8-2.07 0-2.86zM5.41 20L4 18.59l7.72-7.72 1.47 1.35L5.41 20z\"/>\n",
              "  </svg>\n",
              "      </button>\n",
              "      \n",
              "  <style>\n",
              "    .colab-df-container {\n",
              "      display:flex;\n",
              "      flex-wrap:wrap;\n",
              "      gap: 12px;\n",
              "    }\n",
              "\n",
              "    .colab-df-convert {\n",
              "      background-color: #E8F0FE;\n",
              "      border: none;\n",
              "      border-radius: 50%;\n",
              "      cursor: pointer;\n",
              "      display: none;\n",
              "      fill: #1967D2;\n",
              "      height: 32px;\n",
              "      padding: 0 0 0 0;\n",
              "      width: 32px;\n",
              "    }\n",
              "\n",
              "    .colab-df-convert:hover {\n",
              "      background-color: #E2EBFA;\n",
              "      box-shadow: 0px 1px 2px rgba(60, 64, 67, 0.3), 0px 1px 3px 1px rgba(60, 64, 67, 0.15);\n",
              "      fill: #174EA6;\n",
              "    }\n",
              "\n",
              "    [theme=dark] .colab-df-convert {\n",
              "      background-color: #3B4455;\n",
              "      fill: #D2E3FC;\n",
              "    }\n",
              "\n",
              "    [theme=dark] .colab-df-convert:hover {\n",
              "      background-color: #434B5C;\n",
              "      box-shadow: 0px 1px 3px 1px rgba(0, 0, 0, 0.15);\n",
              "      filter: drop-shadow(0px 1px 2px rgba(0, 0, 0, 0.3));\n",
              "      fill: #FFFFFF;\n",
              "    }\n",
              "  </style>\n",
              "\n",
              "      <script>\n",
              "        const buttonEl =\n",
              "          document.querySelector('#df-5efcef7a-b18d-476d-b852-293469f47183 button.colab-df-convert');\n",
              "        buttonEl.style.display =\n",
              "          google.colab.kernel.accessAllowed ? 'block' : 'none';\n",
              "\n",
              "        async function convertToInteractive(key) {\n",
              "          const element = document.querySelector('#df-5efcef7a-b18d-476d-b852-293469f47183');\n",
              "          const dataTable =\n",
              "            await google.colab.kernel.invokeFunction('convertToInteractive',\n",
              "                                                     [key], {});\n",
              "          if (!dataTable) return;\n",
              "\n",
              "          const docLinkHtml = 'Like what you see? Visit the ' +\n",
              "            '<a target=\"_blank\" href=https://colab.research.google.com/notebooks/data_table.ipynb>data table notebook</a>'\n",
              "            + ' to learn more about interactive tables.';\n",
              "          element.innerHTML = '';\n",
              "          dataTable['output_type'] = 'display_data';\n",
              "          await google.colab.output.renderOutput(dataTable, element);\n",
              "          const docLink = document.createElement('div');\n",
              "          docLink.innerHTML = docLinkHtml;\n",
              "          element.appendChild(docLink);\n",
              "        }\n",
              "      </script>\n",
              "    </div>\n",
              "  </div>\n",
              "  "
            ],
            "text/plain": [
              "        카테고리: 모든 카테고리\n",
              "count             251\n",
              "unique             33\n",
              "top                 0\n",
              "freq              182"
            ]
          },
          "metadata": {},
          "execution_count": 50
        }
      ]
    },
    {
      "cell_type": "code",
      "source": [
        "data.head(5)"
      ],
      "metadata": {
        "colab": {
          "base_uri": "https://localhost:8080/",
          "height": 206
        },
        "id": "Ya3-bvRcT_L5",
        "outputId": "e5f5241e-0c52-4e91-9b68-1844753ddc0f"
      },
      "execution_count": null,
      "outputs": [
        {
          "output_type": "execute_result",
          "data": {
            "text/html": [
              "\n",
              "  <div id=\"df-76fd6dcc-6a2d-48da-9a0b-4e70f9473a49\">\n",
              "    <div class=\"colab-df-container\">\n",
              "      <div>\n",
              "<style scoped>\n",
              "    .dataframe tbody tr th:only-of-type {\n",
              "        vertical-align: middle;\n",
              "    }\n",
              "\n",
              "    .dataframe tbody tr th {\n",
              "        vertical-align: top;\n",
              "    }\n",
              "\n",
              "    .dataframe thead th {\n",
              "        text-align: right;\n",
              "    }\n",
              "</style>\n",
              "<table border=\"1\" class=\"dataframe\">\n",
              "  <thead>\n",
              "    <tr style=\"text-align: right;\">\n",
              "      <th></th>\n",
              "      <th>카테고리: 모든 카테고리</th>\n",
              "    </tr>\n",
              "  </thead>\n",
              "  <tbody>\n",
              "    <tr>\n",
              "      <th>국가</th>\n",
              "      <td>BTS: (21. 2. 11.~22. 2. 11.)</td>\n",
              "    </tr>\n",
              "    <tr>\n",
              "      <th>에리트리아</th>\n",
              "      <td>0</td>\n",
              "    </tr>\n",
              "    <tr>\n",
              "      <th>스리랑카</th>\n",
              "      <td>100</td>\n",
              "    </tr>\n",
              "    <tr>\n",
              "      <th>미얀마</th>\n",
              "      <td>100</td>\n",
              "    </tr>\n",
              "    <tr>\n",
              "      <th>부탄</th>\n",
              "      <td>0</td>\n",
              "    </tr>\n",
              "  </tbody>\n",
              "</table>\n",
              "</div>\n",
              "      <button class=\"colab-df-convert\" onclick=\"convertToInteractive('df-76fd6dcc-6a2d-48da-9a0b-4e70f9473a49')\"\n",
              "              title=\"Convert this dataframe to an interactive table.\"\n",
              "              style=\"display:none;\">\n",
              "        \n",
              "  <svg xmlns=\"http://www.w3.org/2000/svg\" height=\"24px\"viewBox=\"0 0 24 24\"\n",
              "       width=\"24px\">\n",
              "    <path d=\"M0 0h24v24H0V0z\" fill=\"none\"/>\n",
              "    <path d=\"M18.56 5.44l.94 2.06.94-2.06 2.06-.94-2.06-.94-.94-2.06-.94 2.06-2.06.94zm-11 1L8.5 8.5l.94-2.06 2.06-.94-2.06-.94L8.5 2.5l-.94 2.06-2.06.94zm10 10l.94 2.06.94-2.06 2.06-.94-2.06-.94-.94-2.06-.94 2.06-2.06.94z\"/><path d=\"M17.41 7.96l-1.37-1.37c-.4-.4-.92-.59-1.43-.59-.52 0-1.04.2-1.43.59L10.3 9.45l-7.72 7.72c-.78.78-.78 2.05 0 2.83L4 21.41c.39.39.9.59 1.41.59.51 0 1.02-.2 1.41-.59l7.78-7.78 2.81-2.81c.8-.78.8-2.07 0-2.86zM5.41 20L4 18.59l7.72-7.72 1.47 1.35L5.41 20z\"/>\n",
              "  </svg>\n",
              "      </button>\n",
              "      \n",
              "  <style>\n",
              "    .colab-df-container {\n",
              "      display:flex;\n",
              "      flex-wrap:wrap;\n",
              "      gap: 12px;\n",
              "    }\n",
              "\n",
              "    .colab-df-convert {\n",
              "      background-color: #E8F0FE;\n",
              "      border: none;\n",
              "      border-radius: 50%;\n",
              "      cursor: pointer;\n",
              "      display: none;\n",
              "      fill: #1967D2;\n",
              "      height: 32px;\n",
              "      padding: 0 0 0 0;\n",
              "      width: 32px;\n",
              "    }\n",
              "\n",
              "    .colab-df-convert:hover {\n",
              "      background-color: #E2EBFA;\n",
              "      box-shadow: 0px 1px 2px rgba(60, 64, 67, 0.3), 0px 1px 3px 1px rgba(60, 64, 67, 0.15);\n",
              "      fill: #174EA6;\n",
              "    }\n",
              "\n",
              "    [theme=dark] .colab-df-convert {\n",
              "      background-color: #3B4455;\n",
              "      fill: #D2E3FC;\n",
              "    }\n",
              "\n",
              "    [theme=dark] .colab-df-convert:hover {\n",
              "      background-color: #434B5C;\n",
              "      box-shadow: 0px 1px 3px 1px rgba(0, 0, 0, 0.15);\n",
              "      filter: drop-shadow(0px 1px 2px rgba(0, 0, 0, 0.3));\n",
              "      fill: #FFFFFF;\n",
              "    }\n",
              "  </style>\n",
              "\n",
              "      <script>\n",
              "        const buttonEl =\n",
              "          document.querySelector('#df-76fd6dcc-6a2d-48da-9a0b-4e70f9473a49 button.colab-df-convert');\n",
              "        buttonEl.style.display =\n",
              "          google.colab.kernel.accessAllowed ? 'block' : 'none';\n",
              "\n",
              "        async function convertToInteractive(key) {\n",
              "          const element = document.querySelector('#df-76fd6dcc-6a2d-48da-9a0b-4e70f9473a49');\n",
              "          const dataTable =\n",
              "            await google.colab.kernel.invokeFunction('convertToInteractive',\n",
              "                                                     [key], {});\n",
              "          if (!dataTable) return;\n",
              "\n",
              "          const docLinkHtml = 'Like what you see? Visit the ' +\n",
              "            '<a target=\"_blank\" href=https://colab.research.google.com/notebooks/data_table.ipynb>data table notebook</a>'\n",
              "            + ' to learn more about interactive tables.';\n",
              "          element.innerHTML = '';\n",
              "          dataTable['output_type'] = 'display_data';\n",
              "          await google.colab.output.renderOutput(dataTable, element);\n",
              "          const docLink = document.createElement('div');\n",
              "          docLink.innerHTML = docLinkHtml;\n",
              "          element.appendChild(docLink);\n",
              "        }\n",
              "      </script>\n",
              "    </div>\n",
              "  </div>\n",
              "  "
            ],
            "text/plain": [
              "                      카테고리: 모든 카테고리\n",
              "국가     BTS: (21. 2. 11.~22. 2. 11.)\n",
              "에리트리아                             0\n",
              "스리랑카                            100\n",
              "미얀마                             100\n",
              "부탄                                0"
            ]
          },
          "metadata": {},
          "execution_count": 51
        }
      ]
    },
    {
      "cell_type": "markdown",
      "source": [
        "## 데이터 정리"
      ],
      "metadata": {
        "id": "IynOok0tg60C"
      }
    },
    {
      "cell_type": "code",
      "source": [
        "nation = list(data.index[1:])                 # 국가 이름\n",
        "search = list(map(int, data.iloc[1:].values)) # 국가별 검색량(0 ~ 100)\n",
        "print(nation)\n",
        "print(search)"
      ],
      "metadata": {
        "colab": {
          "base_uri": "https://localhost:8080/"
        },
        "id": "iZJEJTHGS6bm",
        "outputId": "8b8bcd67-60b6-4ba2-a75f-483c0a19b7ff"
      },
      "execution_count": null,
      "outputs": [
        {
          "output_type": "stream",
          "name": "stdout",
          "text": [
            "['에리트리아', '스리랑카', '미얀마', '부탄', '필리핀', '몰디브', '일본', '방글라데시', '마요트', '코트디부아르', '피지', '인도네시아', '투르크메니스탄', '네팔', '쿠바', '페루', '미크로네시아', '엘살바도르', '볼리비아', '레위니옹', '말레이시아', '과들루프', '모리셔스', '브루나이', '키리바시', '온두라스', '과테말라', '니카라과', '몽골', '사모아', '파라과이', '프랑스령 기아나', '벨리즈', '인도', '마르티니크', '멕시코', '태국', '파키스탄', '싱가포르', '코모로', '괌', '프랑스령 폴리네시아', '에콰도르', '가이아나', '뉴칼레도니아', '이라크', '솔로몬 제도', '생마르탱', '캄보디아', '동티모르', '파나마', '그린란드', '지부티', '콜롬비아', '서사하라', '트리니다드 토바고', '튀니지', '프랑스', '코스타리카', '적도 기니', '아랍에미리트', '아르메니아', '오만', '베트남', '모로코', '마다가스카르', '가봉', '북마리아나제도', '생바르텔레미', '바레인', '수리남', '아메리칸 사모아', '타지키스탄', '우즈베키스탄', '카타르', '소말리아', '푸에르토리코', '칠레', '아제르바이잔', '알바니아', '그레나다', '키르기스스탄', '리비아', '쿠웨이트', '콩고-브라자빌', '알제리', '카메룬', '도미니카 공화국', '레바논', '조지아', '홍콩', '대만', '베네수엘라', '에티오피아', '자메이카', '라오스', '세네갈', '토고', '요르단', '아르헨티나', '세인트루시아', '브라질', '대한민국', '카보베르데', '이집트', '팔레스타인', '짐바브웨', '보츠와나', '생피에르 미클롱', '카자흐스탄', '남아프리카', '세이셸', '시리아', '모리타니', '코소보', '니제르', '말라위', '몰도바', '세인트빈센트그레나딘', '사우디아라비아', '앙골라', '터키', '파푸아뉴기니', '미국', '북마케도니아', '우루과이', '캐나다', '아루바', '마카오', '차드', '레소토', '나이지리아', '미국령 버진아일랜드', '이란', '에스와티니', '우간다', '나미비아', '수단', '아프가니스탄', '뉴질랜드', '오스트레일리아', '르완다', '페로 제도', '아이티', '슬로베니아', '룩셈부르크', '세인트키츠 네비스', '포르투갈', '잠비아', '케냐', '바베이도스', '루마니아', '바하마', '슬로바키아', '가나', '키프로스', '모잠비크', '예멘', '헝가리', '터크스 케이커스 제도', '세인트헬레나', '몰타', '벨기에', '덴마크', '라트비아', '영국령 버진아일랜드', '영국', '리투아니아', '건지', '맨섬', '보스니아 헤르체고비나', '노르웨이', '그리스', '독일', '퀴라소', '지브롤터', '앤티가 바부다', '불가리아', '도미니카', '오스트리아', '핀란드', '스웨덴', '폴란드', '크로아티아', '스페인', '이스라엘', '세르비아', '아일랜드', '이탈리아', '체코', '베냉', '에스토니아', '안도라', '스위스', '신트마르턴', '케이맨 제도', '러시아', '탄자니아', '네덜란드', '우크라이나', '말리', '부룬디', '시에라리온', '콩고-킨샤사', '버뮤다', '아이슬란드', '벨라루스', '몬테네그로', '중국', '부르키나파소', '남수단', '기니', '저지', '감비아', '라이베리아', '마셜 제도', '팔라우', '네덜란드령 카리브', '쿡 제도', '중앙 아프리카 공화국', '바누아투', '올란드 제도', '산마리노', '기니비사우', '리히텐슈타인', '앵귈라', '남극 대륙', '프랑스 남부 지방', '부베섬', '코코스 제도', '크리스마스섬', '포클랜드 제도(말비나스 군도)', '허드 맥도널드 제도', '영국령 인도양 식민지', '모나코', '몬트세라트', '노퍽섬', '니우에', '나우루', '핏케언 제도', '북한', '사우스조지아 사우스샌드위치 제도', '스발바르제도-얀마웬섬', '상투메 프린시페', '토켈라우', '통가', '투발루', '미국령 해외 제도', '바티칸 시국', '왈리스-푸투나 제도']\n",
            "[0, 100, 100, 0, 73, 0, 68, 63, 0, 59, 0, 55, 0, 54, 0, 48, 0, 45, 45, 0, 43, 0, 0, 0, 0, 41, 40, 0, 0, 0, 37, 0, 0, 36, 0, 34, 33, 33, 31, 0, 0, 0, 30, 0, 0, 30, 0, 0, 0, 0, 26, 0, 0, 23, 0, 0, 23, 23, 22, 0, 22, 0, 0, 22, 22, 0, 0, 0, 0, 0, 0, 0, 0, 19, 0, 0, 0, 19, 0, 0, 0, 0, 0, 0, 0, 16, 0, 16, 0, 0, 16, 16, 15, 0, 0, 0, 0, 0, 0, 15, 0, 13, 13, 0, 13, 0, 0, 0, 0, 12, 12, 0, 0, 0, 0, 0, 0, 0, 0, 11, 0, 11, 0, 11, 0, 0, 11, 0, 0, 0, 0, 9, 0, 9, 0, 0, 0, 0, 0, 9, 9, 0, 0, 0, 0, 0, 0, 8, 0, 0, 0, 8, 0, 0, 0, 0, 0, 0, 8, 0, 0, 0, 6, 6, 0, 0, 6, 0, 0, 0, 0, 0, 6, 6, 0, 0, 0, 0, 0, 5, 0, 5, 5, 0, 5, 0, 0, 0, 5, 0, 0, 0, 0, 5, 0, 0, 5, 0, 5, 5, 0, 0, 0, 0, 0, 0, 0, 0, 0, 0, 0, 0, 0, 0, 0, 0, 0, 0, 0, 0, 0, 0, 0, 0, 0, 0, 0, 0, 0, 0, 0, 0, 0, 0, 0, 0, 0, 0, 0, 0, 0, 0, 0, 0, 0, 0, 0, 0, 0, 0]\n"
          ]
        }
      ]
    },
    {
      "cell_type": "code",
      "source": [
        "nations = []                        # 검색량이 0이 아닌 국가들\n",
        "nations_zero = []                   # 검색량이 0인 국가들\n",
        "for i in range(250):\n",
        "  if(search[i] == 0):\n",
        "    nations_zero.append(nation[i])\n",
        "  else:\n",
        "    nations.append(nation[i])\n",
        "  \n",
        "searchs = []                        # 검색량이 0이 아닌 국가들의 검색량\n",
        "for i in range(250):\n",
        "  if(search[i] != 0):\n",
        "    searchs.append(search[i])"
      ],
      "metadata": {
        "id": "HKG26wt0Xoq-"
      },
      "execution_count": null,
      "outputs": []
    },
    {
      "cell_type": "code",
      "source": [
        "print(len(nations), nations)\n",
        "print(len(searchs), searchs)\n",
        "print(len(nations_zero), nations_zero)"
      ],
      "metadata": {
        "colab": {
          "base_uri": "https://localhost:8080/"
        },
        "id": "-jkpBmxpboss",
        "outputId": "41ddfc3f-3f5e-40f7-c121-7a55f61bb315"
      },
      "execution_count": null,
      "outputs": [
        {
          "output_type": "stream",
          "name": "stdout",
          "text": [
            "68 ['스리랑카', '미얀마', '필리핀', '일본', '방글라데시', '코트디부아르', '인도네시아', '네팔', '페루', '엘살바도르', '볼리비아', '말레이시아', '온두라스', '과테말라', '파라과이', '인도', '멕시코', '태국', '파키스탄', '싱가포르', '에콰도르', '이라크', '파나마', '콜롬비아', '튀니지', '프랑스', '코스타리카', '아랍에미리트', '베트남', '모로코', '우즈베키스탄', '칠레', '알제리', '도미니카 공화국', '홍콩', '대만', '베네수엘라', '아르헨티나', '브라질', '대한민국', '이집트', '카자흐스탄', '남아프리카', '사우디아라비아', '터키', '미국', '캐나다', '나이지리아', '이란', '뉴질랜드', '오스트레일리아', '포르투갈', '루마니아', '헝가리', '벨기에', '덴마크', '영국', '그리스', '독일', '오스트리아', '스웨덴', '폴란드', '스페인', '이탈리아', '스위스', '러시아', '네덜란드', '우크라이나']\n",
            "68 [100, 100, 73, 68, 63, 59, 55, 54, 48, 45, 45, 43, 41, 40, 37, 36, 34, 33, 33, 31, 30, 30, 26, 23, 23, 23, 22, 22, 22, 22, 19, 19, 16, 16, 16, 16, 15, 15, 13, 13, 13, 12, 12, 11, 11, 11, 11, 9, 9, 9, 9, 8, 8, 8, 6, 6, 6, 6, 6, 5, 5, 5, 5, 5, 5, 5, 5, 5]\n",
            "182 ['에리트리아', '부탄', '몰디브', '마요트', '피지', '투르크메니스탄', '쿠바', '미크로네시아', '레위니옹', '과들루프', '모리셔스', '브루나이', '키리바시', '니카라과', '몽골', '사모아', '프랑스령 기아나', '벨리즈', '마르티니크', '코모로', '괌', '프랑스령 폴리네시아', '가이아나', '뉴칼레도니아', '솔로몬 제도', '생마르탱', '캄보디아', '동티모르', '그린란드', '지부티', '서사하라', '트리니다드 토바고', '적도 기니', '아르메니아', '오만', '마다가스카르', '가봉', '북마리아나제도', '생바르텔레미', '바레인', '수리남', '아메리칸 사모아', '타지키스탄', '카타르', '소말리아', '푸에르토리코', '아제르바이잔', '알바니아', '그레나다', '키르기스스탄', '리비아', '쿠웨이트', '콩고-브라자빌', '카메룬', '레바논', '조지아', '에티오피아', '자메이카', '라오스', '세네갈', '토고', '요르단', '세인트루시아', '카보베르데', '팔레스타인', '짐바브웨', '보츠와나', '생피에르 미클롱', '세이셸', '시리아', '모리타니', '코소보', '니제르', '말라위', '몰도바', '세인트빈센트그레나딘', '앙골라', '파푸아뉴기니', '북마케도니아', '우루과이', '아루바', '마카오', '차드', '레소토', '미국령 버진아일랜드', '에스와티니', '우간다', '나미비아', '수단', '아프가니스탄', '르완다', '페로 제도', '아이티', '슬로베니아', '룩셈부르크', '세인트키츠 네비스', '잠비아', '케냐', '바베이도스', '바하마', '슬로바키아', '가나', '키프로스', '모잠비크', '예멘', '터크스 케이커스 제도', '세인트헬레나', '몰타', '라트비아', '영국령 버진아일랜드', '리투아니아', '건지', '맨섬', '보스니아 헤르체고비나', '노르웨이', '퀴라소', '지브롤터', '앤티가 바부다', '불가리아', '도미니카', '핀란드', '크로아티아', '이스라엘', '세르비아', '아일랜드', '체코', '베냉', '에스토니아', '안도라', '신트마르턴', '케이맨 제도', '탄자니아', '말리', '부룬디', '시에라리온', '콩고-킨샤사', '버뮤다', '아이슬란드', '벨라루스', '몬테네그로', '중국', '부르키나파소', '남수단', '기니', '저지', '감비아', '라이베리아', '마셜 제도', '팔라우', '네덜란드령 카리브', '쿡 제도', '중앙 아프리카 공화국', '바누아투', '올란드 제도', '산마리노', '기니비사우', '리히텐슈타인', '앵귈라', '남극 대륙', '프랑스 남부 지방', '부베섬', '코코스 제도', '크리스마스섬', '포클랜드 제도(말비나스 군도)', '허드 맥도널드 제도', '영국령 인도양 식민지', '모나코', '몬트세라트', '노퍽섬', '니우에', '나우루', '핏케언 제도', '북한', '사우스조지아 사우스샌드위치 제도', '스발바르제도-얀마웬섬', '상투메 프린시페', '토켈라우', '통가', '투발루', '미국령 해외 제도', '바티칸 시국', '왈리스-푸투나 제도']\n"
          ]
        }
      ]
    },
    {
      "cell_type": "code",
      "source": [
        "sep_nations = []                      # 68개의 데이터를 17 * 4 개로 구분\n",
        "for i in range(0, 68, 17):\n",
        "  sep_nations.append(nations[i:i+17])\n",
        "\n",
        "sep_searchs = []                      # 68개의 데이터를 17 * 4 개로 구분\n",
        "for i in range(0, 68, 17):\n",
        "  sep_searchs.append(searchs[i:i+17])"
      ],
      "metadata": {
        "id": "kHLh1A2HcoJt"
      },
      "execution_count": null,
      "outputs": []
    },
    {
      "cell_type": "code",
      "source": [
        "plt.figure(figsize = (20, 20))\n",
        "    \n",
        "count = 0\n",
        "for i in range(4):\n",
        "  plt.subplot(4, 1, (count+1))\n",
        "  plt.ylim(0, 105)\n",
        "  plt.grid(axis = 'y')\n",
        "  plt.bar(sep_nations[count], sep_searchs[count], width = 0.5)\n",
        "  count += 1\n",
        "\n",
        "plt.show()"
      ],
      "metadata": {
        "colab": {
          "base_uri": "https://localhost:8080/",
          "height": 1000
        },
        "id": "6o3mFRleXK5N",
        "outputId": "ca38e272-1ed7-494e-f77c-807dc88db8fe"
      },
      "execution_count": null,
      "outputs": [
        {
          "output_type": "display_data",
          "data": {
            "image/png": "[encoded data removed]",
            "text/plain": [
              "<Figure size 1440x1440 with 4 Axes>"
            ]
          },
          "metadata": {
            "needs_background": "light"
          }
        }
      ]
    }
  ]
}